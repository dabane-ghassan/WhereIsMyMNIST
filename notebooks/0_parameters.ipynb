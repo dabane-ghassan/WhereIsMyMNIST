{
 "cells": [
  {
   "cell_type": "code",
   "execution_count": 1,
   "metadata": {},
   "outputs": [],
   "source": [
    "%load_ext autoreload\n",
    "%autoreload 2"
   ]
  },
  {
   "cell_type": "code",
   "execution_count": 2,
   "metadata": {},
   "outputs": [
    {
     "name": "stdout",
     "output_type": "stream",
     "text": [
      "\n",
      "This notebook introduces the problem addressed in this paper:\n",
      "\n",
      " - localizating an object in a large image\n",
      " - foveation\n",
      " - action (saccade)\n",
      "       \n",
      "      \n"
     ]
    }
   ],
   "source": [
    "print(\"\"\"\n",
    "This notebook introduces the problem addressed in this paper:\n",
    "\n",
    " - localizating an object in a large image\n",
    " - foveation\n",
    " - action (saccade)\n",
    "       \n",
    "      \"\"\")"
   ]
  },
  {
   "cell_type": "code",
   "execution_count": 3,
   "metadata": {},
   "outputs": [],
   "source": [
    "import os\n",
    "import matplotlib.pyplot as plt\n",
    "import numpy as np\n",
    "from tqdm import tqdm_notebook as tqdm"
   ]
  },
  {
   "cell_type": "code",
   "execution_count": 4,
   "metadata": {},
   "outputs": [],
   "source": [
    "%matplotlib inline\n",
    "fig_width_pt = 525  # Get this from LaTeX using \\showthe\\columnwidth\n",
    "fig_width_pt = 618  # Get this from LaTeX using \\showthe\\columnwidth\n",
    "fig_width_pt = 1024  # Get this from LaTeX using \\showthe\\columnwidth\n",
    "ppi = 72.27 # (constant) definition of the ppi = points per inch\n",
    "inches_per_pt = 1.0/ppi  # Convert pt to inches\n",
    "#inches_per_cm = 1./2.54\n",
    "figwidth = fig_width_pt*inches_per_pt  # width in inches\n",
    "phi = (np.sqrt(5) + 1. ) /2 # golden ratio is good for your eyes\n",
    "dpi_export = 600"
   ]
  },
  {
   "cell_type": "code",
   "execution_count": 5,
   "metadata": {},
   "outputs": [],
   "source": [
    "from main import init\n",
    "#args = init(filename='debug')\n",
    "args = init(filename='../data/2020-02-02')\n",
    "#args = init()"
   ]
  },
  {
   "cell_type": "code",
   "execution_count": 6,
   "metadata": {},
   "outputs": [
    {
     "name": "stdout",
     "output_type": "stream",
     "text": [
      "{'w': 28, 'minibatch_size': 100, 'train_batch_size': 50000, 'test_batch_size': 10000, 'noise_batch_size': 1000, 'mean': 0.1307, 'std': 0.3081, 'what_offset_std': 15, 'what_offset_max': 25, 'N_pic': 128, 'offset_std': 30, 'offset_max': 34, 'noise': 0.75, 'contrast': 0.7, 'sf_0': 0.1, 'B_sf': 0.1, 'N_theta': 6, 'N_azimuth': 24, 'N_eccentricity': 10, 'N_phase': 2, 'rho': 1.41, 'bias_deconv': True, 'p_dropout': 0.0, 'dim1': 1000, 'dim2': 1000, 'lr': 0.005, 'do_adam': True, 'bn1_bn_momentum': 0.5, 'bn2_bn_momentum': 0.5, 'momentum': 0.3, 'epochs': 60, 'num_processes': 1, 'no_cuda': True, 'log_interval': 100, 'verbose': 1, 'filename': '../data/2020-02-02', 'seed': 2019, 'N_cv': 10, 'do_compute': True, 'save_model': True}\n"
     ]
    }
   ],
   "source": [
    "print(args)"
   ]
  },
  {
   "cell_type": "code",
   "execution_count": 7,
   "metadata": {},
   "outputs": [
    {
     "name": "stdout",
     "output_type": "stream",
     "text": [
      "Overwriting train.py\n"
     ]
    }
   ],
   "source": [
    "%%writefile train.py\n",
    "import torch\n",
    "import easydict\n",
    "\n",
    "from main import init\n",
    "#args = init(filename='debug')\n",
    "#args = init(filename='../data/2020-02-02')\n",
    "args = init()\n",
    "\n",
    "from display import Display\n",
    "from retina import Retina\n",
    "from where import Where, WhereNet\n",
    "from what import WhatNet\n",
    "where = Where(args)\n",
    "filename_train = args.filename + '_train.pt'\n",
    "where.train(filename_train)"
   ]
  },
  {
   "cell_type": "raw",
   "metadata": {},
   "source": [
    "%run train.py"
   ]
  },
  {
   "cell_type": "raw",
   "metadata": {},
   "source": [
    "%ls -ltrh /tmp/*pt"
   ]
  },
  {
   "cell_type": "raw",
   "metadata": {},
   "source": [
    "%ls -ltrh ../data/_tmp_scanning/"
   ]
  },
  {
   "cell_type": "raw",
   "metadata": {},
   "source": [
    "%ls -ltrh ../data/*.pt"
   ]
  },
  {
   "cell_type": "markdown",
   "metadata": {},
   "source": [
    "## QRcode"
   ]
  },
  {
   "cell_type": "code",
   "execution_count": 8,
   "metadata": {
    "ExecuteTime": {
     "end_time": "2018-10-02T09:41:27.541109Z",
     "start_time": "2018-10-02T09:41:27.363782Z"
    }
   },
   "outputs": [],
   "source": [
    "url = 'https://github.com/laurentperrinet/WhereIsMyMNIST/'\n",
    "if not os.path.isfile(os.path.join('./', 'GitQR.png')):\n",
    "    import pyqrcode as pq\n",
    "    code = pq.create(url)\n",
    "    code.png(os.path.join('../figures', 'GitQR.png'), scale=5)"
   ]
  },
  {
   "cell_type": "markdown",
   "metadata": {},
   "source": [
    "## Version used"
   ]
  },
  {
   "cell_type": "code",
   "execution_count": 9,
   "metadata": {
    "ExecuteTime": {
     "end_time": "2018-10-08T14:53:30.186131Z",
     "start_time": "2018-10-08T14:43:18.414Z"
    }
   },
   "outputs": [],
   "source": [
    "%load_ext watermark"
   ]
  },
  {
   "cell_type": "code",
   "execution_count": 10,
   "metadata": {
    "ExecuteTime": {
     "end_time": "2018-10-08T14:53:30.186131Z",
     "start_time": "2018-10-08T14:43:18.414Z"
    }
   },
   "outputs": [
    {
     "name": "stdout",
     "output_type": "stream",
     "text": [
      "2020-04-06T09:47:03+02:00\n",
      "\n",
      "CPython 3.7.7\n",
      "IPython 7.13.0\n",
      "\n",
      "numpy 1.18.2\n",
      "matplotlib 3.2.1\n",
      "torch 1.4.0\n",
      "\n",
      "compiler   : Clang 10.0.0 (clang-1000.11.45.5)\n",
      "system     : Darwin\n",
      "release    : 17.7.0\n",
      "machine    : x86_64\n",
      "processor  : i386\n",
      "CPU cores  : 8\n",
      "interpreter: 64bit\n",
      "host name  : ada\n",
      "Git hash   : bb23d1277ab5ccd40ae874f2d6a41ea7961fdbbf\n",
      "Git repo   : https://github.com/laurentperrinet/WhereIsMyMNIST\n",
      "Git branch : master\n"
     ]
    }
   ],
   "source": [
    "%watermark -i -h -m -v -p numpy,matplotlib,torch  -r -g -b"
   ]
  }
 ],
 "metadata": {
  "kernelspec": {
   "display_name": "Python 3",
   "language": "python",
   "name": "python3"
  },
  "language_info": {
   "codemirror_mode": {
    "name": "ipython",
    "version": 3
   },
   "file_extension": ".py",
   "mimetype": "text/x-python",
   "name": "python",
   "nbconvert_exporter": "python",
   "pygments_lexer": "ipython3",
   "version": "3.7.7"
  },
  "toc": {
   "base_numbering": 1,
   "nav_menu": {},
   "number_sections": true,
   "sideBar": true,
   "skip_h1_title": false,
   "title_cell": "Table of Contents",
   "title_sidebar": "Contents",
   "toc_cell": false,
   "toc_position": {},
   "toc_section_display": true,
   "toc_window_display": false
  }
 },
 "nbformat": 4,
 "nbformat_minor": 4
}
