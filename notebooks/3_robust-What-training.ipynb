{
 "cells": [
  {
   "cell_type": "code",
   "execution_count": 1,
   "metadata": {},
   "outputs": [],
   "source": [
    "import numpy as np\n",
    "import torch\n",
    "import torch.nn as nn\n",
    "import torch.nn.functional as F\n",
    "import torch.optim as optim\n",
    "from torchvision import datasets, transforms"
   ]
  },
  {
   "cell_type": "code",
   "execution_count": 2,
   "metadata": {},
   "outputs": [],
   "source": [
    "import matplotlib.pyplot as plt"
   ]
  },
  {
   "cell_type": "code",
   "execution_count": 3,
   "metadata": {},
   "outputs": [],
   "source": [
    "import sys\n",
    "sys.path.append(\"../figures\")\n",
    "\n",
    "from what import WhatShift, WhatBackground, WhatNet, WhatTrainer, What, train, test, MNIST"
   ]
  },
  {
   "cell_type": "code",
   "execution_count": 4,
   "metadata": {},
   "outputs": [],
   "source": [
    "from main import init\n",
    "args = init(filename='../data/2020-02-02_train')"
   ]
  },
  {
   "cell_type": "code",
   "execution_count": 5,
   "metadata": {},
   "outputs": [],
   "source": [
    "args.contrast = None"
   ]
  },
  {
   "cell_type": "markdown",
   "metadata": {},
   "source": [
    "## Unit tests"
   ]
  },
  {
   "cell_type": "code",
   "execution_count": 6,
   "metadata": {},
   "outputs": [],
   "source": [
    "i_offset = None\n",
    "j_offset = None"
   ]
  },
  {
   "cell_type": "code",
   "execution_count": 7,
   "metadata": {},
   "outputs": [],
   "source": [
    "transform=transforms.Compose([\n",
    "                               WhatShift(args,i_offset=i_offset, j_offset=j_offset),\n",
    "                               WhatBackground(contrast = args.contrast,\n",
    "                                              noise=args.noise, \n",
    "                                              sf_0=args.sf_0, \n",
    "                                              B_sf=args.B_sf),\n",
    "                               transforms.ToTensor(),\n",
    "                               #transforms.Normalize((args.mean,), (args.std,))\n",
    "                           ])"
   ]
  },
  {
   "cell_type": "code",
   "execution_count": 8,
   "metadata": {},
   "outputs": [],
   "source": [
    "dataset_train = MNIST('../data',\n",
    "                        train=True,\n",
    "                        download=True,\n",
    "                        transform=transform,\n",
    "                        )"
   ]
  },
  {
   "cell_type": "code",
   "execution_count": 9,
   "metadata": {},
   "outputs": [],
   "source": [
    "train_loader = torch.utils.data.DataLoader(dataset_train,\n",
    "                                         batch_size=args.minibatch_size,\n",
    "                                         shuffle=True)"
   ]
  },
  {
   "cell_type": "code",
   "execution_count": 10,
   "metadata": {},
   "outputs": [],
   "source": [
    "dataset_test = MNIST('../data',\n",
    "                        train=False,\n",
    "                        download=True,\n",
    "                        transform=transform,\n",
    "                        )"
   ]
  },
  {
   "cell_type": "code",
   "execution_count": 11,
   "metadata": {},
   "outputs": [],
   "source": [
    "test_loader = torch.utils.data.DataLoader(dataset_test,\n",
    "                                         batch_size=args.minibatch_size,\n",
    "                                         shuffle=True)"
   ]
  },
  {
   "cell_type": "code",
   "execution_count": 12,
   "metadata": {},
   "outputs": [],
   "source": [
    "data, label = next(iter(train_loader))"
   ]
  },
  {
   "cell_type": "code",
   "execution_count": 13,
   "metadata": {},
   "outputs": [
    {
     "data": {
      "text/plain": [
       "torch.Size([100])"
      ]
     },
     "execution_count": 13,
     "metadata": {},
     "output_type": "execute_result"
    }
   ],
   "source": [
    "label.shape"
   ]
  },
  {
   "cell_type": "code",
   "execution_count": 14,
   "metadata": {},
   "outputs": [
    {
     "data": {
      "image/png": "[encoded data removed]",
      "text/plain": [
       "<Figure size 432x288 with 1 Axes>"
      ]
     },
     "metadata": {
      "needs_background": "light"
     },
     "output_type": "display_data"
    },
    {
     "data": {
      "image/png": "[encoded data removed]",
      "text/plain": [
       "<Figure size 432x288 with 1 Axes>"
      ]
     },
     "metadata": {
      "needs_background": "light"
     },
     "output_type": "display_data"
    }
   ],
   "source": [
    "i = 3\n",
    "plt.imshow(data[i,:,:].detach().numpy().reshape((28, 28)))\n",
    "plt.title('label : '+str(label[i].item()))\n",
    "plt.show()\n",
    "h = plt.hist(data[i,:,:].detach().numpy().flatten(), 30)"
   ]
  },
  {
   "cell_type": "code",
   "execution_count": 15,
   "metadata": {},
   "outputs": [],
   "source": [
    "device = 'cpu'\n",
    "model = WhatNet().to(device)\n",
    "loss_func = F.nll_loss\n",
    "optimizer = optim.Adam(model.parameters(), lr = 1e-3)"
   ]
  },
  {
   "cell_type": "code",
   "execution_count": 16,
   "metadata": {},
   "outputs": [],
   "source": [
    "if False:\n",
    "    for epoch in range(1, args.epochs + 1):\n",
    "        train(args, model, device, train_loader, loss_func, optimizer, epoch)\n",
    "        test(args, model, device, test_loader)"
   ]
  },
  {
   "cell_type": "markdown",
   "metadata": {},
   "source": [
    "## WhatTrainer Class test"
   ]
  },
  {
   "cell_type": "code",
   "execution_count": 17,
   "metadata": {},
   "outputs": [],
   "source": [
    "whatTrainer = WhatTrainer(args=args)"
   ]
  },
  {
   "cell_type": "code",
   "execution_count": 18,
   "metadata": {},
   "outputs": [],
   "source": [
    "if False:\n",
    "    for epoch in range(2, args.epochs + 1):\n",
    "        whatTrainer.train(epoch)\n",
    "        whatTrainer.test()"
   ]
  },
  {
   "cell_type": "markdown",
   "metadata": {},
   "source": [
    "## What class test"
   ]
  },
  {
   "cell_type": "code",
   "execution_count": null,
   "metadata": {},
   "outputs": [
    {
     "name": "stdout",
     "output_type": "stream",
     "text": [
      "Training the What model\n",
      "Train Epoch: 1/1 [0/60000 (0%)]\tLoss: 2.303330\n"
     ]
    }
   ],
   "source": [
    "if True: #False:\n",
    "    args.epochs = 1\n",
    "    args.save_model = True\n",
    "    what = What(args=args, force= True)\n",
    "    acc = what.trainer.test()"
   ]
  },
  {
   "cell_type": "markdown",
   "metadata": {},
   "source": [
    "### Script d'entraînement de /MNIST_cnn_0.1_0.1_1.0_None.pt"
   ]
  },
  {
   "cell_type": "code",
   "execution_count": null,
   "metadata": {},
   "outputs": [],
   "source": [
    "if False :\n",
    "    import sys\n",
    "    import datetime\n",
    "\n",
    "    #sys.path.append(\"../figures\")\n",
    "    #from robust_what import WhatShift, WhatBackground, WhatNet, WhatTrainer, What, train, test, MNIST\n",
    "    #from main import init\n",
    "\n",
    "    #args = init(filename='../data/2019-06-12')\n",
    "\n",
    "    args.epochs = 5  # 10 plus tard\n",
    "    args.save_model = True\n",
    "\n",
    "    debut = datetime.datetime.now()\n",
    "    date = str(debut)\n",
    "\n",
    "    liste_std = [i for i in range(0, 16)]  # pas de 1 de std\n",
    "\n",
    "    args.what_offset_max = 25\n",
    "    args.do_adam = True #'adam'\n",
    "    args.what_offset_std = liste_std[0]\n",
    "    print(\"En cours : std = 0\\n\")\n",
    "    what = What(args, force=True, seed=0, robust=True)\n",
    "\n",
    "    seed = 1\n",
    "    for std in liste_std[1:]:\n",
    "        print(\"En cours : std = \" + str(std) + \"\\n\")\n",
    "\n",
    "        args.what_offset_std = std\n",
    "        what_model = what.model\n",
    "        what = What(args, model=what_model, force=True, seed=seed, robust=True)\n",
    "        seed += 1\n",
    "        print(\"\\n\")\n",
    "        if args.contrast is not None:\n",
    "            suffix = \"robust_{}_{}_{}_{}_{}\".format(args.sf_0, args.B_sf, args.noise, args.contrast, std)\n",
    "        else:\n",
    "            suffix = \"robust_{}_{}_{}_all_{}\".format(args.sf_0, args.B_sf, args.noise, std)\n",
    "        what_model_path = \"../data/MNIST_cnn_{}.pt\".format(suffix)\n",
    "        torch.save(what_model, what_model_path)\n",
    "\n",
    "    fin = datetime.datetime.now()\n",
    "    print(\"\\n\\nDuree d'execution : \" + str(fin - debut))\n",
    "\n"
   ]
  },
  {
   "cell_type": "code",
   "execution_count": null,
   "metadata": {},
   "outputs": [],
   "source": [
    "print(args.contrast)"
   ]
  },
  {
   "cell_type": "code",
   "execution_count": null,
   "metadata": {},
   "outputs": [],
   "source": [
    "if False:\n",
    "    what_model = what.model\n",
    "    if args.contrast is not None:\n",
    "        suffix = \"robust_{}_{}_{}_{}_{}\".format(args.sf_0, args.B_sf, args.noise, args.contrast, std)\n",
    "    else:\n",
    "        suffix = \"robust_{}_{}_{}_all_{}\".format(args.sf_0, args.B_sf, args.noise, std)\n",
    "    what_model_path = \"../data/MNIST_cnn_{}.pt\".format(suffix)\n",
    "    torch.save(what_model, what_model_path)"
   ]
  },
  {
   "cell_type": "code",
   "execution_count": null,
   "metadata": {},
   "outputs": [],
   "source": [
    "acc = what.trainer.test()"
   ]
  },
  {
   "cell_type": "code",
   "execution_count": null,
   "metadata": {},
   "outputs": [],
   "source": [
    "std = 15\n",
    "suffix = \"robust_{}_{}_{}_{}_{}\".format(args.sf_0, args.B_sf, args.noise, args.contrast, std)\n",
    "model_path = \"../data/MNIST_cnn_{}.pt\".format(suffix)\n",
    "print(model_path)\n",
    "what_model = torch.load(model_path)\n",
    "if True:\n",
    "    args.what_offset_std = 0\n",
    "    seed = 1\n",
    "    what = What(args, model=what_model, seed=seed)\n",
    "    acc = what.trainer.test()"
   ]
  },
  {
   "cell_type": "code",
   "execution_count": null,
   "metadata": {},
   "outputs": [],
   "source": []
  },
  {
   "cell_type": "code",
   "execution_count": null,
   "metadata": {},
   "outputs": [],
   "source": []
  },
  {
   "cell_type": "code",
   "execution_count": null,
   "metadata": {},
   "outputs": [],
   "source": [
    "if False:\n",
    "    suffix = \"robust_{}_{}_{}_{}_{}\".format(args.sf_0, args.B_sf, args.noise, args.contrast, std)\n",
    "    model_path = \"../data/MNIST_cnn_{}.pt\".format(suffix)\n",
    "    model = torch.load(model_path)\n",
    "    print(args.do_adam)\n",
    "    acc_map = np.zeros((55, 55))\n",
    "    seed = 0\n",
    "    for i_offset in range(-27,28):\n",
    "        for j_offset in range(-27,28):\n",
    "            transform=transforms.Compose([\n",
    "                                   WhatShift(args, i_offset=i_offset, j_offset=j_offset),\n",
    "                                   WhatBackground(contrast = args.contrast,\n",
    "                                                  noise=args.noise, \n",
    "                                                  sf_0=args.sf_0, \n",
    "                                                  B_sf=args.B_sf,\n",
    "                                                  seed = seed),\n",
    "                                   transforms.ToTensor(),\n",
    "                                   #transforms.Normalize((args.mean,), (args.std,))\n",
    "                               ])\n",
    "            dataset_test = MNIST('../data',\n",
    "                            train=False,\n",
    "                            download=True,\n",
    "                            transform=transform,\n",
    "                            )\n",
    "            test_loader = torch.utils.data.DataLoader(dataset_test,\n",
    "                                             batch_size=args.minibatch_size,\n",
    "                                             shuffle=True)\n",
    "            whatTrainer = WhatTrainer(args, model = model, test_loader = test_loader, seed = seed)\n",
    "            acc = whatTrainer.test()\n",
    "            print(i_offset, j_offset, acc)\n",
    "            acc_map[i_offset + 27, j_offset + 27] = acc\n",
    "            seed += 1\n",
    "\n",
    "    map_path = \"../data/MNIST_accuracy_{}.npy\".format(suffix)\n",
    "    np.save(map_path, acc_map)        "
   ]
  },
  {
   "cell_type": "markdown",
   "metadata": {},
   "source": [
    "## Affichage Accuracy map enregistrée en txt"
   ]
  },
  {
   "cell_type": "code",
   "execution_count": null,
   "metadata": {},
   "outputs": [],
   "source": [
    "from mpl_toolkits.mplot3d import Axes3D\n",
    "from matplotlib import cm\n",
    "from matplotlib.ticker import LinearLocator, FormatStrFormatter\n",
    "\n",
    "map_path = \"../data/MNIST_accuracy_{}.npy\".format(suffix)\n",
    "acc_map = np.load(map_path)      \n",
    "fig = plt.figure(figsize=(10,8))\n",
    "for i in range(55):\n",
    "    for j in range(55):\n",
    "        acc_map[i,j] = max(acc_map[i,j], 0.1)\n",
    "\n",
    "ax = fig.add_subplot(111, projection='3d')\n",
    "\n",
    "X = np.arange(-27, 28)\n",
    "Y = np.arange(-27, 28)\n",
    "X, Y = np.meshgrid(X, Y)\n",
    "\n",
    "surf = ax.plot_surface(X, Y, acc_map, cmap=cm.coolwarm,\n",
    "                       linewidth=0, antialiased=True, alpha=0.5)\n",
    "\n",
    "#ax.plot_surface(X, Y, Z, rstride=8, cstride=8, alpha=0.3)\n",
    "cset = ax.contour(X, Y, acc_map, [0.2, 0.3, 0.4, 0.5, 0.6, 0.7], zdir='z', offset=0, cmap=cm.coolwarm, alpha = 1)\n",
    "cset = ax.contour(X, Y, acc_map, [-20, -10, 0, 10, 20], zdir='x', offset=-27.5, cmap = 'gray')\n",
    "cset = ax.contour(X, Y, acc_map,  [-20, -10, 0, 10, 20], zdir='y', offset=27.5, cmap = 'gray')\n",
    "\n",
    "\n",
    "# Customize the z axis.\n",
    "ax.set_xlim(-27.5, 27.5)\n",
    "ax.set_zlim(-27.5, 27.5)\n",
    "ax.set_zlim(0, 0.8)\n",
    "ax.zaxis.set_major_locator(LinearLocator(9))\n",
    "ax.zaxis.set_major_formatter(FormatStrFormatter('%.02f'))\n",
    "ax.set_title('Classification accuracy', size=15)\n",
    "\n",
    "# Add a color bar which maps values to colors.\n",
    "cbar = fig.colorbar(surf, shrink=0.5, aspect=5, ticks=[0.2,0.3,0.4,0.5,0.6,0.7,0.8])\n",
    "\n",
    "figname = '../figures/what_map'\n",
    "fig.savefig(figname + '.png', bbox_inches='tight', pad_inches=0.1)\n"
   ]
  },
  {
   "cell_type": "code",
   "execution_count": null,
   "metadata": {},
   "outputs": [],
   "source": [
    "np.max(acc_map)"
   ]
  },
  {
   "cell_type": "code",
   "execution_count": null,
   "metadata": {},
   "outputs": [],
   "source": [
    "X"
   ]
  },
  {
   "cell_type": "code",
   "execution_count": null,
   "metadata": {},
   "outputs": [],
   "source": [
    "Y"
   ]
  },
  {
   "cell_type": "code",
   "execution_count": null,
   "metadata": {},
   "outputs": [],
   "source": []
  },
  {
   "cell_type": "code",
   "execution_count": null,
   "metadata": {},
   "outputs": [],
   "source": []
  },
  {
   "cell_type": "code",
   "execution_count": null,
   "metadata": {},
   "outputs": [],
   "source": []
  }
 ],
 "metadata": {
  "kernelspec": {
   "display_name": "Python 3",
   "language": "python",
   "name": "python3"
  },
  "language_info": {
   "codemirror_mode": {
    "name": "ipython",
    "version": 3
   },
   "file_extension": ".py",
   "mimetype": "text/x-python",
   "name": "python",
   "nbconvert_exporter": "python",
   "pygments_lexer": "ipython3",
   "version": "3.7.3"
  }
 },
 "nbformat": 4,
 "nbformat_minor": 4
}
