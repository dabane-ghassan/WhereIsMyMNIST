{
 "cells": [
  {
   "cell_type": "markdown",
   "metadata": {},
   "source": [
    "This notebook introduces the problem addressed in this paper:\n",
    "\n",
    " - localizating an object in a large image\n",
    " - foveation\n",
    " - action (saccade)\n",
    " "
   ]
  },
  {
   "cell_type": "code",
   "execution_count": 1,
   "metadata": {},
   "outputs": [],
   "source": [
    "#%run 0_parameters.ipynb"
   ]
  },
  {
   "cell_type": "code",
   "execution_count": null,
   "metadata": {
    "ExecuteTime": {
     "end_time": "2018-07-03T10:34:13.258190Z",
     "start_time": "2018-07-03T10:34:13.251661Z"
    }
   },
   "outputs": [],
   "source": []
  },
  {
   "cell_type": "code",
   "execution_count": 2,
   "metadata": {},
   "outputs": [],
   "source": [
    "from where import Where\n",
    "from what import WhatNet\n",
    "from retina import Retina\n",
    "import torch\n",
    "import torch.nn.functional as F"
   ]
  },
  {
   "cell_type": "code",
   "execution_count": 3,
   "metadata": {},
   "outputs": [],
   "source": [
    "import matplotlib.pyplot as plt\n",
    "import numpy as np\n",
    "import os"
   ]
  },
  {
   "cell_type": "code",
   "execution_count": 4,
   "metadata": {},
   "outputs": [],
   "source": [
    "from main import init\n",
    "#args = init(filename='debug')\n",
    "#args = init(filename='../data/2019-03-19_bis')\n",
    "#args = init(filename='../data/2020-02-02')\n",
    "args = init(filename='../data/2019-06-13')\n",
    "\n",
    "#args = init(filename='../data/2019-03-29')\n",
    "\n",
    "args.save_model = True\n",
    "period = 10\n",
    "args.sf_0 = 1/period\n",
    "args.B_sf = 1/period\n",
    "contrast = None\n",
    "args.contrast = contrast\n",
    "args.offset_std = 30"
   ]
  },
  {
   "cell_type": "markdown",
   "metadata": {},
   "source": [
    "# accuracy as a function of eccentricity\n"
   ]
  },
  {
   "cell_type": "code",
   "execution_count": 5,
   "metadata": {},
   "outputs": [],
   "source": [
    "from where import where_suffix\n",
    "import os\n",
    "\n",
    "linear = True\n",
    "nb_saccades_max = 5\n",
    "\n",
    "suffix = where_suffix(args)"
   ]
  },
  {
   "cell_type": "code",
   "execution_count": 6,
   "metadata": {},
   "outputs": [],
   "source": [
    "from where import where_suffix\n",
    "accuracy_mean_linear = {}\n",
    "accuracy_mean_log = {}\n",
    "linear=True\n",
    "for contrast in (0.3, 0.5, 0.7):\n",
    "    args.contrast = contrast\n",
    "    suffix = where_suffix(args)\n",
    "    nb_saccades_max = 5\n",
    "\n",
    "    if linear:\n",
    "        file_path_linear = '../data/eccentricity_accuracy_linear_{}_{}.npy'.format(suffix, nb_saccades_max)\n",
    "        data = np.load(file_path_linear)\n",
    "        eccentricities_linear = data[0]\n",
    "        accuracy_mean_linear[contrast] = data[1]\n",
    "\n",
    "    else:\n",
    "        file_path_log = '../data/eccentricity_accuracy_{}_{}.npy'.format(suffix, nb_saccades_max)\n",
    "        data = np.load(file_path_log)\n",
    "        eccentricities_log = data[0]\n",
    "        accuracy_mean_log[contrast] = data[1]\n"
   ]
  },
  {
   "cell_type": "code",
   "execution_count": 7,
   "metadata": {},
   "outputs": [
    {
     "data": {
      "text/plain": [
       "array([40.        , 35.55555556, 31.11111111, 26.66666667, 22.22222222,\n",
       "       17.77777778, 13.33333333,  8.88888889,  4.44444444])"
      ]
     },
     "execution_count": 7,
     "metadata": {},
     "output_type": "execute_result"
    }
   ],
   "source": [
    "eccentricities_linear"
   ]
  },
  {
   "cell_type": "code",
   "execution_count": 8,
   "metadata": {},
   "outputs": [
    {
     "data": {
      "text/plain": [
       "{0.3: {0: array([0.093, 0.115, 0.103, 0.103, 0.131, 0.182, 0.342, 0.455, 0.528]),\n",
       "  1: array([0.164, 0.234, 0.252, 0.318, 0.368, 0.397, 0.466, 0.512, 0.538]),\n",
       "  2: array([0.197, 0.258, 0.341, 0.325, 0.411, 0.436, 0.47 , 0.501, 0.538]),\n",
       "  3: array([0.21 , 0.261, 0.323, 0.357, 0.416, 0.438, 0.453, 0.509, 0.506]),\n",
       "  4: array([0.224, 0.282, 0.326, 0.33 , 0.359, 0.444, 0.453, 0.498, 0.484]),\n",
       "  5: array([0.204, 0.288, 0.319, 0.341, 0.347, 0.404, 0.462, 0.47 , 0.476])},\n",
       " 0.5: {0: array([0.111, 0.105, 0.127, 0.108, 0.151, 0.306, 0.478, 0.699, 0.823]),\n",
       "  1: array([0.422, 0.537, 0.566, 0.625, 0.66 , 0.717, 0.762, 0.811, 0.833]),\n",
       "  2: array([0.493, 0.608, 0.649, 0.678, 0.728, 0.776, 0.78 , 0.799, 0.804]),\n",
       "  3: array([0.502, 0.607, 0.657, 0.706, 0.715, 0.765, 0.79 , 0.789, 0.792]),\n",
       "  4: array([0.526, 0.631, 0.649, 0.721, 0.719, 0.747, 0.791, 0.792, 0.789]),\n",
       "  5: array([0.523, 0.602, 0.651, 0.686, 0.737, 0.752, 0.787, 0.78 , 0.805])},\n",
       " 0.7: {0: array([0.111, 0.112, 0.102, 0.104, 0.159, 0.287, 0.532, 0.756, 0.899]),\n",
       "  1: array([0.628, 0.672, 0.714, 0.724, 0.777, 0.782, 0.859, 0.879, 0.9  ]),\n",
       "  2: array([0.703, 0.765, 0.786, 0.824, 0.836, 0.86 , 0.879, 0.879, 0.872]),\n",
       "  3: array([0.729, 0.781, 0.809, 0.83 , 0.838, 0.857, 0.854, 0.89 , 0.875]),\n",
       "  4: array([0.714, 0.777, 0.814, 0.826, 0.856, 0.869, 0.876, 0.884, 0.877]),\n",
       "  5: array([0.74 , 0.8  , 0.823, 0.833, 0.842, 0.854, 0.872, 0.866, 0.886])}}"
      ]
     },
     "execution_count": 8,
     "metadata": {},
     "output_type": "execute_result"
    }
   ],
   "source": [
    "accuracy_mean_linear"
   ]
  },
  {
   "cell_type": "code",
   "execution_count": 9,
   "metadata": {},
   "outputs": [],
   "source": [
    "colors = ('orange','blue','red','yellow','cyan','purple')\n",
    "colors = ('orange','blue','blue','blue')"
   ]
  },
  {
   "cell_type": "code",
   "execution_count": 15,
   "metadata": {},
   "outputs": [],
   "source": [
    "args.contrast = None\n",
    "suffix = where_suffix(args)"
   ]
  },
  {
   "cell_type": "code",
   "execution_count": 16,
   "metadata": {},
   "outputs": [],
   "source": [
    "\n",
    "def hist_plot(eccentricities, accuracy_mean, saccade_range, ax_D, colors, linear, \n",
    "              title, ylabel=False):\n",
    "    if not linear:\n",
    "        width = .3*np.abs(eccentricities)\n",
    "    else:\n",
    "        width = 4\n",
    "        #width = .8*np.abs(np.gradient(eccentricities)[0])\n",
    "    for num_saccade in saccade_range:\n",
    "        if num_saccade <2:\n",
    "            label = str(num_saccade)+' saccade'\n",
    "        else:\n",
    "            label = str(num_saccade)+' saccades'\n",
    "        ax_D.bar(eccentricities, accuracy_mean[num_saccade], width=width, alpha = .5, label = label, color=colors[num_saccade])#yerr=accuracy_std, \n",
    "    # TODO what instead? ax_D.bar(eccentricities, accuracy_data, alpha = .5, label = 'No saccade') #accuracy_map[27,27:55])\n",
    "    #ax_D.bar(eccentricities, ctl_accuracy_mean, width=width, color='orange', alpha = .7, label = 'No saccade')\n",
    "    \n",
    "    #ax_D.set_title('Class accuracy', fontsize = 14)\n",
    "    ax_D.plot([eccentricities.min()-2, eccentricities.max()+2], [0.1]*2, ':', \n",
    "              c='k', label = 'Baseline', linewidth=3)\n",
    "    ax_D.set_xlabel('Target eccentricity (pixels)', fontsize = 20)\n",
    "    ax_D.set_ylim([0,1])\n",
    "    if ylabel:\n",
    "        ax_D.set_ylabel('Classification acuracy', fontsize = 20)\n",
    "    ax_D.tick_params(labelsize=16)\n",
    "    if not linear:\n",
    "        ax_D.set_xscale('log')\n",
    "    ax_D.set_xticks(eccentricities)\n",
    "    ax_D.set_xticklabels(['%.0f' % d for  d in eccentricities], fontsize = 16)\n",
    "    \n",
    "    if not linear:\n",
    "        ax_D.set_xlim([1.3,30])\n",
    "    if linear:\n",
    "        plt.legend(loc='best', fontsize = 14) #,  bbox_to_anchor=(-1.3, 1))\n",
    "    ax_D.set_title(title, fontsize = 24)"
   ]
  },
  {
   "cell_type": "code",
   "execution_count": 21,
   "metadata": {},
   "outputs": [
    {
     "data": {
      "image/png": "[encoded data removed]",
      "text/plain": [
       "<Figure size 1440x360 with 3 Axes>"
      ]
     },
     "metadata": {
      "needs_background": "light"
     },
     "output_type": "display_data"
    }
   ],
   "source": [
    "figwidth = 15\n",
    "\n",
    "fig = plt.figure(figsize = (20, 5)) #figwidth/1.618))\n",
    "#for saccade_range in ([1, 0], [2, 0], [3, 0]): #([1, 0], [2, 1, 0], [3, 2, 1, 0]):\n",
    "for num, contrast in enumerate([0.7, 0.5, 0.3]):\n",
    "    saccade_range = [1, 0]\n",
    "    ylabel = num==0\n",
    "    ax_D = fig.add_subplot(1,3,num+1) \n",
    "    linear = True\n",
    "    hist_plot(eccentricities_linear, accuracy_mean_linear[contrast], saccade_range, \n",
    "              ax_D, colors, linear, \n",
    "              title = 'Contrast = %.0f'%(contrast*100)+'%', \n",
    "              ylabel=ylabel) #, max(saccade_range))#'Full range')\n",
    "    #plt.show()\n",
    "\n",
    "save_path = '../figures/fig_results_robust_contrast.pdf'\n",
    "fig.savefig(save_path, bbox_inches='tight', pad_inches=0.1)"
   ]
  },
  {
   "cell_type": "markdown",
   "metadata": {},
   "source": [
    "# summary\n"
   ]
  },
  {
   "cell_type": "code",
   "execution_count": null,
   "metadata": {},
   "outputs": [],
   "source": [
    "_ = plt.plot(fullfield.detach().numpy())"
   ]
  },
  {
   "cell_type": "markdown",
   "metadata": {},
   "source": [
    "# post-processing"
   ]
  },
  {
   "cell_type": "code",
   "execution_count": null,
   "metadata": {
    "ExecuteTime": {
     "end_time": "2018-10-08T14:43:27.591507Z",
     "start_time": "2018-10-08T14:43:24.722160Z"
    }
   },
   "outputs": [],
   "source": [
    "!convert  -density {dpi_export} {figname}.pdf {figname}.jpg\n",
    "!convert  -density {dpi_export} {figname}.pdf {figname}.png\n",
    "#!convert  -density {dpi_export} -resize 5400  -units pixelsperinch -flatten  -compress lzw  -depth 8 {fname}.pdf {fname}.tiff"
   ]
  },
  {
   "cell_type": "code",
   "execution_count": null,
   "metadata": {
    "ExecuteTime": {
     "end_time": "2018-07-03T10:36:00.981927Z",
     "start_time": "2018-07-03T10:36:00.949864Z"
    }
   },
   "outputs": [],
   "source": [
    "from IPython.display import Image\n",
    "Image('{figname}.png'.format(figname=figname))"
   ]
  },
  {
   "cell_type": "code",
   "execution_count": null,
   "metadata": {
    "ExecuteTime": {
     "end_time": "2018-07-03T10:36:00.939193Z",
     "start_time": "2018-07-03T10:36:00.766218Z"
    }
   },
   "outputs": [],
   "source": [
    "!ls  -l {figname}*"
   ]
  },
  {
   "cell_type": "code",
   "execution_count": null,
   "metadata": {},
   "outputs": [],
   "source": []
  },
  {
   "cell_type": "code",
   "execution_count": null,
   "metadata": {},
   "outputs": [],
   "source": []
  },
  {
   "cell_type": "code",
   "execution_count": null,
   "metadata": {},
   "outputs": [],
   "source": []
  },
  {
   "cell_type": "raw",
   "metadata": {},
   "source": [
    "from where import WhereShift\n",
    "from display import minmax\n",
    "nb_saccades = 10\n",
    "# multi-saccades\n",
    "where.model.eval()\n",
    "#accuracy = []\n",
    "#for retina_data, data_fullfield, accuracy_colliculus, accuracy_fullfield, digit_labels, i_shift, j_shift in dataloader:\n",
    "#(retina_data, data_fullfield), (accuracy_colliculus, accuracy_fullfield, digit_labels, i_shift, j_shift) = next(iter(dataloader))\n",
    "retina_data, data_fullfield, accuracy_colliculus, accuracy_fullfield, digit_labels, i_shift, j_shift = next(iter(where.loader_test))\n",
    "#retina_data = Variable(torch.FloatTensor(retina_data.float())).to(self.device)\n",
    "pred_accuracy_colliculus = where.pred_accuracy(retina_data) # LogPolar\n",
    "# Central prediction\n",
    "accuracy_fullfield_center = CollFill(where.accuracy_map, N_pic=where.args.N_pic, baseline=0.1)((0, 0))\n",
    "accuracy_fullfield_center = np.array(accuracy_fullfield_center[0])\n",
    "pred_accuracy_center = CollTransform(where.retina.colliculus_transform_vector)(accuracy_fullfield_center)\n",
    "plt.imshow(accuracy_fullfield_center)\n",
    "plt.show()\n",
    "# use that predicted map to extract the foveal patch and classify the image\n",
    "if nb_saccades > 1:\n",
    "    for idx in range(where.args.minibatch_size):\n",
    "        i_ref, j_ref = 0, 0\n",
    "        fullfield_ref = data_fullfield[idx, :, :]\n",
    "        fullfield_shift = fullfield_ref\n",
    "        #accuracy_fullfield_post = accuracy_fullfield[idx, :, :] # target accuracy fullfield (HACK!!)\n",
    "        #accuracy_fullfield_shift = accuracy_fullfield_post\n",
    "        #coll_ref = accuracy_fullfield[idx, :, :]\n",
    "        num_max = nb_saccades\n",
    "        cpt_saccades = 0\n",
    "        for num_saccade in range(num_max):\n",
    "            if idx < 10:\n",
    "                plt.imshow(fullfield_shift)\n",
    "                plt.title(str(cpt_saccades))\n",
    "                plt.show()\n",
    "                print(num_saccade, i_ref, j_ref)  \n",
    "\n",
    "            # WHAT_POSTERIOR_TEST\n",
    "            im = where.extract(data_fullfield[idx, :, :], i_ref, j_ref).detach().numpy()\n",
    "            proba = where.classify_what(im).numpy()[0]\n",
    "            predicted_index = proba.argmax() #axis=1)\n",
    "            posterior_what = proba[predicted_index]\n",
    "\n",
    "            # ACTION SELECTION\n",
    "            if num_saccade == 0:\n",
    "                pred_accuracy_trans = pred_accuracy_colliculus[idx, :]\n",
    "            else:\n",
    "                pred_accuracy_trans = where.pred_accuracy(retina_shift)\n",
    "\n",
    "            i_pred, j_pred = where.index_prediction(pred_accuracy_trans)\n",
    "            i_ref += i_pred\n",
    "            j_ref += j_pred\n",
    "            i_ref = minmax(i_ref, args.N_pic//2 - args.w//2)\n",
    "            j_ref = minmax(j_ref, args.N_pic//2 - args.w//2)\n",
    "            print(i_ref, j_ref)\n",
    "\n",
    "            # WHERE_POSTERIOR_PREDICTION\n",
    "            mid = args.N_pic//2\n",
    "            im_colliculus = where.retina.accuracy_invert(pred_accuracy_trans)\n",
    "            #posterior_where = accuracy_fullfield_post[mid + i_ref, mid + j_ref].detach().numpy()\n",
    "            posterior_where = im_colliculus[mid + i_pred, mid + j_pred] #.detach().numpy()\n",
    "            print(idx, num_saccade, 'posterior_what', posterior_what, 'posterior_where', posterior_where)\n",
    "\n",
    "            # SWITCH TEST\n",
    "            if posterior_what > posterior_where and posterior_what > 0.9:\n",
    "                break\n",
    "\n",
    "            # SACCADE\n",
    "            fullfield_shift = WhereShift(args, i_offset=-i_ref, j_offset=-j_ref, baseline=0.5)((fullfield_ref, 0))\n",
    "            retina_shift = where.retina.retina(fullfield_shift)\n",
    "            accuracy_fullfield_shift = WhereShift(args, i_offset=-i_ref, j_offset=-j_ref, baseline=0.1)((accuracy_fullfield_post, 0))\n",
    "            cpt_saccades += 1\n",
    "\n",
    "            #coll_shift = WhereShift(self.args, i_offset=-i_ref, j_offset=-j_ref, baseline=0.1)((coll_ref, 0))                 \n",
    "\n",
    "        # \n",
    "        data_fullfield[idx, :, :] = Variable(torch.FloatTensor(fullfield_shift))\n",
    "        #accuracy_fullfield[idx, :, :] = coll_shift\n",
    "        pred_accuracy_colliculus[idx, :] = pred_accuracy_center # (LogPolar) central prediction \n",
    "        #pred_accuracy_trans\n",
    "        if idx < 10:\n",
    "            plt.imshow(fullfield_shift)\n",
    "            plt.title(cpt_saccades)\n",
    "            plt.show()\n",
    "            print(num_saccade, i_ref, j_ref)  \n",
    "\n",
    "\n",
    "correct = where.test_what(data_fullfield.numpy(), pred_accuracy_colliculus, digit_labels.squeeze(), do_control=True)\n",
    "print(correct)\n",
    "print(np.mean(correct))\n"
   ]
  }
 ],
 "metadata": {
  "kernelspec": {
   "display_name": "Python 3",
   "language": "python",
   "name": "python3"
  },
  "language_info": {
   "codemirror_mode": {
    "name": "ipython",
    "version": 3
   },
   "file_extension": ".py",
   "mimetype": "text/x-python",
   "name": "python",
   "nbconvert_exporter": "python",
   "pygments_lexer": "ipython3",
   "version": "3.7.3"
  }
 },
 "nbformat": 4,
 "nbformat_minor": 4
}
