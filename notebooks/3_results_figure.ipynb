{
 "cells": [
  {
   "cell_type": "markdown",
   "metadata": {},
   "source": [
    "This notebook introduces the problem addressed in this paper:\n",
    "\n",
    " - localizating an object in a large image\n",
    " - foveation\n",
    " - action (saccade)\n",
    " "
   ]
  },
  {
   "cell_type": "code",
   "execution_count": 1,
   "metadata": {},
   "outputs": [
    {
     "name": "stdout",
     "output_type": "stream",
     "text": [
      "\n",
      "This notebook introduces the problem addressed in this paper:\n",
      "\n",
      " - localizating an object in a large image\n",
      " - foveation\n",
      " - action (saccade)\n",
      "       \n",
      "      \n",
      "{'w': 28, 'minibatch_size': 100, 'train_batch_size': 50000, 'test_batch_size': 10000, 'noise_batch_size': 1000, 'mean': 0.1307, 'std': 0.3081, 'what_offset_std': 15, 'what_offset_max': 25, 'N_pic': 128, 'offset_std': 30, 'offset_max': 34, 'noise': 0.75, 'contrast': 0.7, 'sf_0': 0.1, 'B_sf': 0.1, 'N_theta': 6, 'N_azimuth': 24, 'N_eccentricity': 10, 'N_phase': 2, 'rho': 1.41, 'bias_deconv': True, 'p_dropout': 0.0, 'dim1': 1000, 'dim2': 1000, 'lr': 0.005, 'do_adam': True, 'bn1_bn_momentum': 0.5, 'bn2_bn_momentum': 0.5, 'momentum': 0.3, 'epochs': 60, 'num_processes': 1, 'no_cuda': True, 'log_interval': 100, 'verbose': 1, 'filename': '../data/2020-02-02', 'seed': 2019, 'N_cv': 10, 'do_compute': True}\n",
      "Overwriting train.py\n",
      "2020-02-14T16:54:07+01:00\n",
      "\n",
      "CPython 3.7.6\n",
      "IPython 7.12.0\n",
      "\n",
      "numpy 1.18.1\n",
      "matplotlib 3.1.3\n",
      "torch 1.4.0\n",
      "\n",
      "compiler   : Clang 11.0.0 (clang-1100.0.33.16)\n",
      "system     : Darwin\n",
      "release    : 19.3.0\n",
      "machine    : x86_64\n",
      "processor  : i386\n",
      "CPU cores  : 36\n",
      "interpreter: 64bit\n",
      "host name  : fortytwo\n",
      "Git hash   : 5001878153dda9c42e13d2fe4f8c44b604b6692c\n",
      "Git repo   : https://github.com/laurentperrinet/WhereIsMyMNIST\n",
      "Git branch : master\n"
     ]
    }
   ],
   "source": [
    "%run 0_parameters.ipynb"
   ]
  },
  {
   "cell_type": "code",
   "execution_count": 2,
   "metadata": {
    "ExecuteTime": {
     "end_time": "2018-07-03T10:34:13.258190Z",
     "start_time": "2018-07-03T10:34:13.251661Z"
    }
   },
   "outputs": [],
   "source": [
    "figname = '../figures/fig_result'"
   ]
  },
  {
   "cell_type": "markdown",
   "metadata": {},
   "source": [
    "# Training the Where network"
   ]
  },
  {
   "cell_type": "code",
   "execution_count": 3,
   "metadata": {},
   "outputs": [
    {
     "name": "stdout",
     "output_type": "stream",
     "text": [
      "-rw-r--r--  1 laurentperrinet  staff    12M Mar 13  2019 ../data/2019-03-13_train.pt\n",
      "-rw-r--r--  1 laurentperrinet  staff    12M Mar 14  2019 ../data/2019-03-14_b_train.pt\n",
      "-rw-r--r--  1 laurentperrinet  staff    12M Mar 14  2019 ../data/2019-03-14_train.pt\n",
      "-rw-r--r--  1 laurentperrinet  staff    12M Mar 14  2019 ../data/2019-03-14_train3.pt\n",
      "-rw-r--r--  1 laurentperrinet  staff    12M Mar 14  2019 ../data/2019-03-14_train4.pt\n",
      "-rw-r--r--  1 laurentperrinet  staff    12M Mar 15  2019 ../data/2019-03-15_train.pt\n",
      "-rw-r--r--  1 laurentperrinet  staff    12M Mar 15  2019 ../data/2019-03-15_train_b.pt\n",
      "-rw-r--r--  1 laurentperrinet  staff   8.8M Mar 20  2019 ../data/2019-03-16_train.pt\n",
      "-rw-r--r--@ 1 laurentperrinet  staff    12M Mar 19  2019 ../data/2019-03-18_train.pt\n",
      "-rw-r--r--  1 laurentperrinet  staff    12M Mar 19  2019 ../data/2019-03-19_bis_train.pt\n",
      "-rw-r--r--  1 laurentperrinet  staff    12M Mar 19  2019 ../data/2019-03-19_train.pt\n",
      "-rw-r--r--  1 laurentperrinet  staff    12M Mar 27  2019 ../data/2019-03-27_train.pt\n",
      "-rw-r--r--  1 laurentperrinet  staff    11M Mar 29  2019 ../data/2019-03-29_train.pt\n",
      "-rw-r--r--  1 laurentperrinet  staff   5.7M Apr  8  2019 ../data/2019-04-01_train.pt\n",
      "-rw-r--r--  1 laurentperrinet  staff   6.1M Apr  3  2019 ../data/2019-04-03_train.pt\n",
      "-rw-r--r--  1 laurentperrinet  staff    16M Apr 25  2019 ../data/2019-04-15_bis_train.pt\n",
      "-rw-r--r--  1 laurentperrinet  staff    16M Apr 15  2019 ../data/2019-04-15_train.pt\n",
      "-rw-r--r--  1 laurentperrinet  staff    16M Apr 19  2019 ../data/2019-04-16_train.pt\n",
      "-rw-r--r--  1 laurentperrinet  staff   1.7M Mar 14  2019 ../data/MNIST_cnn.pt\n",
      "-rw-r--r--  1 laurentperrinet  staff   1.7M May  1  2019 ../data/MNIST_cnn_0.05_0.1_0.75_0.7.pt\n",
      "-rw-r--r--  1 laurentperrinet  staff   1.7M May  1  2019 ../data/MNIST_cnn_0.06299605249474366_0.1_0.75_0.7.pt\n",
      "-rw-r--r--  1 laurentperrinet  staff   1.7M Apr 17  2019 ../data/MNIST_cnn_0.07071067811865475_0.1_0.75_0.7.pt\n",
      "-rw-r--r--  1 laurentperrinet  staff   1.7M Apr 18  2019 ../data/MNIST_cnn_0.07937005259840997_0.1_0.75_0.7.pt\n",
      "-rw-r--r--  1 laurentperrinet  staff   1.7M Apr 18  2019 ../data/MNIST_cnn_0.08908987181403394_0.1_0.75_0.7.pt\n",
      "-rw-r--r--  1 laurentperrinet  staff   1.7M Apr 18  2019 ../data/MNIST_cnn_0.11224620483093731_0.1_0.75_0.7.pt\n",
      "-rw-r--r--  1 laurentperrinet  staff   1.7M Apr 19  2019 ../data/MNIST_cnn_0.12599210498948732_0.1_0.75_0.7.pt\n",
      "-rw-r--r--  1 laurentperrinet  staff   1.7M Apr 19  2019 ../data/MNIST_cnn_0.14142135623730953_0.1_0.75_0.7.pt\n",
      "-rw-r--r--  1 laurentperrinet  staff   1.7M May  1  2019 ../data/MNIST_cnn_0.15874010519681994_0.1_0.75_0.7.pt\n",
      "-rw-r--r--  1 laurentperrinet  staff   1.7M May  1  2019 ../data/MNIST_cnn_0.1_0.05_0.75_0.7.pt\n",
      "-rw-r--r--  1 laurentperrinet  staff   1.7M May  1  2019 ../data/MNIST_cnn_0.1_0.06299605249474366_0.75_0.7.pt\n",
      "-rw-r--r--  1 laurentperrinet  staff   1.7M Apr 19  2019 ../data/MNIST_cnn_0.1_0.07071067811865475_0.75_0.7.pt\n",
      "-rw-r--r--  1 laurentperrinet  staff   1.7M Apr 17  2019 ../data/MNIST_cnn_0.1_0.07937005259840997_0.75_0.7.pt\n",
      "-rw-r--r--  1 laurentperrinet  staff   1.7M Apr 19  2019 ../data/MNIST_cnn_0.1_0.08908987181403394_0.75_0.7.pt\n",
      "-rw-r--r--  1 laurentperrinet  staff   1.7M Apr 19  2019 ../data/MNIST_cnn_0.1_0.11224620483093731_0.75_0.7.pt\n",
      "-rw-r--r--  1 laurentperrinet  staff   1.7M Apr 19  2019 ../data/MNIST_cnn_0.1_0.12599210498948732_0.75_0.7.pt\n",
      "-rw-r--r--  1 laurentperrinet  staff   1.7M Apr 19  2019 ../data/MNIST_cnn_0.1_0.14142135623730953_0.75_0.7.pt\n",
      "-rw-r--r--  1 laurentperrinet  staff   1.7M May  2  2019 ../data/MNIST_cnn_0.1_0.15874010519681994_0.75_0.7.pt\n",
      "-rw-r--r--  1 laurentperrinet  staff   1.7M May  2  2019 ../data/MNIST_cnn_0.1_0.1_0.375_0.7.pt\n",
      "-rw-r--r--  1 laurentperrinet  staff   1.7M May  2  2019 ../data/MNIST_cnn_0.1_0.1_0.4724703937105774_0.7.pt\n",
      "-rw-r--r--  1 laurentperrinet  staff   1.7M Apr 20  2019 ../data/MNIST_cnn_0.1_0.1_0.5303300858899106_0.7.pt\n",
      "-rw-r--r--  1 laurentperrinet  staff   1.7M Apr 20  2019 ../data/MNIST_cnn_0.1_0.1_0.5952753944880748_0.7.pt\n",
      "-rw-r--r--  1 laurentperrinet  staff   1.7M Apr 20  2019 ../data/MNIST_cnn_0.1_0.1_0.6681740386052545_0.7.pt\n",
      "-rw-r--r--  1 laurentperrinet  staff   1.7M May  3  2019 ../data/MNIST_cnn_0.1_0.1_0.75_0.35.pt\n",
      "-rw-r--r--  1 laurentperrinet  staff   1.7M May  3  2019 ../data/MNIST_cnn_0.1_0.1_0.75_0.44097236746320556.pt\n",
      "-rw-r--r--  1 laurentperrinet  staff   1.7M Apr 20  2019 ../data/MNIST_cnn_0.1_0.1_0.75_0.4949747468305832.pt\n",
      "-rw-r--r--  1 laurentperrinet  staff   1.7M Apr 20  2019 ../data/MNIST_cnn_0.1_0.1_0.75_0.5555903681888698.pt\n",
      "-rw-r--r--  1 laurentperrinet  staff   1.7M Apr 20  2019 ../data/MNIST_cnn_0.1_0.1_0.75_0.6236291026982375.pt\n",
      "-rw-r--r--  1 laurentperrinet  staff   1.7M Apr 17  2019 ../data/MNIST_cnn_0.1_0.1_0.75_0.7.pt\n",
      "-rw-r--r--  1 laurentperrinet  staff   1.7M Apr 21  2019 ../data/MNIST_cnn_0.1_0.1_0.75_0.7857234338165611.pt\n",
      "-rw-r--r--  1 laurentperrinet  staff   1.7M Apr 21  2019 ../data/MNIST_cnn_0.1_0.1_0.75_0.8819447349264111.pt\n",
      "-rw-r--r--  1 laurentperrinet  staff   1.7M Apr 21  2019 ../data/MNIST_cnn_0.1_0.1_0.75_0.9899494936611666.pt\n",
      "-rw-r--r--  1 laurentperrinet  staff   1.7M May  3  2019 ../data/MNIST_cnn_0.1_0.1_0.75_1.1111807363777395.pt\n",
      "-rw-r--r--  1 laurentperrinet  staff   1.7M May  3  2019 ../data/MNIST_cnn_0.1_0.1_0.75_1.4.pt\n",
      "-rw-r--r--  1 laurentperrinet  staff   1.7M Apr 20  2019 ../data/MNIST_cnn_0.1_0.1_0.8418465362320298_0.7.pt\n",
      "-rw-r--r--  1 laurentperrinet  staff   1.7M Apr 20  2019 ../data/MNIST_cnn_0.1_0.1_0.9449407874211548_0.7.pt\n",
      "-rw-r--r--  1 laurentperrinet  staff   1.7M Apr 20  2019 ../data/MNIST_cnn_0.1_0.1_1.0606601717798214_0.7.pt\n",
      "-rw-r--r--  1 laurentperrinet  staff   1.7M May  3  2019 ../data/MNIST_cnn_0.1_0.1_1.1905507889761495_0.7.pt\n",
      "-rw-r--r--  1 laurentperrinet  staff   1.7M May  3  2019 ../data/MNIST_cnn_0.1_0.1_1.5_0.7.pt\n",
      "-rw-r--r--  1 laurentperrinet  staff   1.7M May  2  2019 ../data/MNIST_cnn_0.1_0.2_0.75_0.7.pt\n",
      "-rw-r--r--  1 laurentperrinet  staff   1.7M May  1  2019 ../data/MNIST_cnn_0.2_0.1_0.75_0.7.pt\n",
      "-rw-r--r--  1 laurentperrinet  staff   1.7M Feb  4 22:21 ../data/MNIST_cnn_robust_0.1_0.1_1.0_0.7_15.pt\n",
      "-rw-r--r--  1 laurentperrinet  staff   1.7M Feb  4 22:21 ../data/MNIST_cnn_robust_0.1_0.1_1.0_None_15.pt\n",
      "-rw-r--r--  1 laurentperrinet  staff   1.7M Jul  4  2019 ../data/MNIST_cnn_robust_what_0.1_0.1_1.0_0.1_5epoques_2019-06-20_14h05.pt\n",
      "-rw-r--r--  1 laurentperrinet  staff   1.7M Jul  4  2019 ../data/MNIST_cnn_robust_what_0.1_0.1_1.0_0.2_5epoques_2019-06-20_13h58.pt\n",
      "-rw-r--r--  1 laurentperrinet  staff   1.7M Jul  4  2019 ../data/MNIST_cnn_robust_what_0.1_0.1_1.0_0.3_5epoques_2019-06-20_13h52.pt\n",
      "-rw-r--r--  1 laurentperrinet  staff   1.7M Jul  4  2019 ../data/MNIST_cnn_robust_what_0.1_0.1_1.0_0.4_5epoques_2019-06-20_13h46.pt\n",
      "-rw-r--r--  1 laurentperrinet  staff   1.7M Jul  4  2019 ../data/MNIST_cnn_robust_what_0.1_0.1_1.0_0.5_5epoques_2019-06-20_13h40.pt\n",
      "-rw-r--r--  1 laurentperrinet  staff   1.7M Jul  4  2019 ../data/MNIST_cnn_robust_what_0.1_0.1_1.0_0.6_5epoques_2019-06-20_13h34.pt\n",
      "-rw-r--r--  1 laurentperrinet  staff   1.7M Jul  4  2019 ../data/MNIST_cnn_robust_what_0.1_0.1_1.0_0.7_1epoques_2019-06-14_14h32.pt\n",
      "-rw-r--r--  1 laurentperrinet  staff   1.7M Jul  4  2019 ../data/MNIST_cnn_robust_what_0.1_0.1_1.0_0.7_5epoques_2019-06-14_15h00.pt\n",
      "-rw-r--r--  1 laurentperrinet  staff   1.7M Jul  4  2019 ../data/MNIST_cnn_robust_what_0.1_0.1_1.0_0.7_5epoques_2019-06-17_16h55.pt\n",
      "-rw-r--r--  1 laurentperrinet  staff   1.7M Jul  4  2019 ../data/MNIST_cnn_robust_what_0.1_0.1_1.0_0.7_5epoques_2019-06-19_11h50.pt\n",
      "-rw-r--r--  1 laurentperrinet  staff   1.7M Jul  4  2019 ../data/MNIST_cnn_robust_what_0.1_0.1_1.0_0.7_5epoques_2019-06-20_13h27.pt\n",
      "-rw-r--r--  1 laurentperrinet  staff   1.7M Jul  4  2019 ../data/MNIST_cnn_robust_what_0.1_0.1_1.0_0.7_60epoques_2019-06-17_10h20.pt\n",
      "-rw-r--r--  1 laurentperrinet  staff   1.7M Jul  4  2019 ../data/MNIST_cnn_robust_what_0.1_0.1_1.0_0.7_60epoques_2019-06-17_16h54.pt\n",
      "-rw-r--r--  1 laurentperrinet  staff   1.7M Jul  4  2019 ../data/MNIST_cnn_robust_what_0.1_0.1_1_0.7.pt\n",
      "-rw-r--r--  1 laurentperrinet  staff   1.7M Jul  4  2019 ../data/MNIST_cnn_robust_what_0.1_0.1_1_0.7_60epoques.pt\n",
      "-rw-r--r--  1 laurentperrinet  staff   1.7M Jul  4  2019 ../data/MNIST_cnn_robust_what_0.1_0.1_1_0.7_60epoques_2019-06-13_10h47.pt\n",
      "-rw-r--r--  1 laurentperrinet  staff   6.1M Apr  8  2019 ../data/debug_train.pt\n",
      "-rw-r--r--  1 laurentperrinet  staff   150M Apr 15  2019 ../data/noisy-MNIST.pt\n"
     ]
    }
   ],
   "source": [
    "%ls -lh ../data/*pt"
   ]
  },
  {
   "cell_type": "code",
   "execution_count": null,
   "metadata": {},
   "outputs": [
    {
     "name": "stdout",
     "output_type": "stream",
     "text": [
      "Training the What model\n",
      "Train Epoch: 1/60 [0/60000 (0%)]\tLoss: 2.302170\n",
      "Train Epoch: 1/60 [10000/60000 (17%)]\tLoss: 2.302465\n",
      "Train Epoch: 1/60 [20000/60000 (33%)]\tLoss: 2.297487\n",
      "Train Epoch: 1/60 [30000/60000 (50%)]\tLoss: 2.303497\n",
      "Train Epoch: 1/60 [40000/60000 (67%)]\tLoss: 2.292252\n",
      "Train Epoch: 1/60 [50000/60000 (83%)]\tLoss: 2.302532\n",
      "\n",
      "Test set: Average loss: 0.0230, Accuracy: 1135/10000 (11%)\n",
      "\n",
      "Train Epoch: 2/60 [0/60000 (0%)]\tLoss: 2.291955\n",
      "Train Epoch: 2/60 [10000/60000 (17%)]\tLoss: 2.293992\n",
      "Train Epoch: 2/60 [20000/60000 (33%)]\tLoss: 2.296294\n",
      "Train Epoch: 2/60 [30000/60000 (50%)]\tLoss: 2.296740\n",
      "Train Epoch: 2/60 [40000/60000 (67%)]\tLoss: 2.306678\n",
      "Train Epoch: 2/60 [50000/60000 (83%)]\tLoss: 2.305441\n",
      "\n",
      "Test set: Average loss: 0.0230, Accuracy: 1135/10000 (11%)\n",
      "\n",
      "Train Epoch: 3/60 [0/60000 (0%)]\tLoss: 2.294444\n",
      "Train Epoch: 3/60 [10000/60000 (17%)]\tLoss: 2.297145\n",
      "Train Epoch: 3/60 [20000/60000 (33%)]\tLoss: 2.302401\n",
      "Train Epoch: 3/60 [30000/60000 (50%)]\tLoss: 2.306619\n",
      "Train Epoch: 3/60 [40000/60000 (67%)]\tLoss: 2.311404\n",
      "Train Epoch: 3/60 [50000/60000 (83%)]\tLoss: 2.299657\n",
      "\n",
      "Test set: Average loss: 0.0230, Accuracy: 1135/10000 (11%)\n",
      "\n",
      "Train Epoch: 4/60 [0/60000 (0%)]\tLoss: 2.299441\n",
      "Train Epoch: 4/60 [10000/60000 (17%)]\tLoss: 2.313113\n"
     ]
    }
   ],
   "source": [
    "from main import init\n",
    "#args = init(filename='debug')\n",
    "args = init(filename='../data/2020-02-02')\n",
    "\n",
    "from where import Where\n",
    "from what import WhatNet\n",
    "where = Where(args)\n",
    "\n",
    "filename_train = args.filename + '_train.pt'\n",
    "#%ls -lh {filename_train}\n",
    "#%rm {filename_train}\n",
    "#%rm  ../data/debug_train.pt\n",
    "\n",
    "where.train(filename_train)"
   ]
  },
  {
   "cell_type": "markdown",
   "metadata": {},
   "source": [
    "# Visualisation of some examples"
   ]
  },
  {
   "cell_type": "code",
   "execution_count": null,
   "metadata": {},
   "outputs": [],
   "source": [
    "data, label = next(iter(where.display.loader_test))\n",
    "idx_start, idx_stop = 10, 20\n",
    "\n",
    "positions, data_fullfield, retina_data, accuracy_colliculus = where.minibatch(data)"
   ]
  },
  {
   "cell_type": "markdown",
   "metadata": {},
   "source": [
    "## knowing the target position"
   ]
  },
  {
   "cell_type": "code",
   "execution_count": null,
   "metadata": {},
   "outputs": [],
   "source": [
    "args.test_batch_size, len(positions)"
   ]
  },
  {
   "cell_type": "code",
   "execution_count": null,
   "metadata": {},
   "outputs": [],
   "source": [
    "im = np.zeros((args.test_batch_size, args.w, args.w))\n",
    "for idx in range(len(positions)): #args.test_batch_size):\n",
    "    im[idx, :, :] = where.extract(data_fullfield[idx, :, :], positions[idx]['i_offset'], positions[idx]['j_offset'])\n",
    "proba = where.classify_what(im).numpy()\n",
    "pred = proba.argmax(axis=1) # get the index of the max log-probability\n",
    "#acc = proba[:, pred]\n",
    "acc_max = (pred==label.numpy()).mean()\n",
    "print('Accuracy max (knowing the position)=', acc_max)"
   ]
  },
  {
   "cell_type": "code",
   "execution_count": null,
   "metadata": {},
   "outputs": [],
   "source": [
    "for idx in range(idx_start, idx_stop):\n",
    "    fig = plt.figure(figsize = (15, 8))\n",
    "    \n",
    "    ax = fig.add_subplot(141)\n",
    "    ax = where.display.show(ax, data_fullfield[idx, :, :])\n",
    "    ax.set_title(f\"i={positions[idx]['i_offset']}, j={positions[idx]['j_offset']}\")\n",
    "    \n",
    "    ax = fig.add_subplot(142)\n",
    "    data_retina = where.retina.retina(data_fullfield[idx, :, :])\n",
    "    ax = where.retina.show(ax, where.retina.retina_invert(data_retina))\n",
    "    ax.set_title(f\"idx={idx}\")\n",
    "              \n",
    "    ax = fig.add_subplot(143, projection='polar')\n",
    "    ax.pcolor(where.retina.theta_grid, where.retina.log_r_grid, accuracy_colliculus[idx, :].numpy().reshape((args.N_azimuth, args.N_eccentricity)), cmap=plt.plasma())\n",
    "    ax.set_yticklabels([])\n",
    "    ax.set_xticklabels([])\n",
    "    ax.set_title(\"True\")\n",
    "\n",
    "    ax = fig.add_subplot(144)\n",
    "    ax = where.display.show(ax, im[idx, :, :], do_cross=False)\n",
    "    result = '' if pred[idx]==label[idx].numpy() else 'FALSE'\n",
    "    ax.set_title(f\"pred={pred[idx]} acc={proba[idx,pred[idx]]:.2f} {result}\")\n",
    "                 "
   ]
  },
  {
   "cell_type": "markdown",
   "metadata": {},
   "source": [
    "## predicting the position of the target"
   ]
  },
  {
   "cell_type": "code",
   "execution_count": null,
   "metadata": {},
   "outputs": [],
   "source": [
    "pred_accuracy_colliculus = where.pred_accuracy(retina_data)\n",
    "print('pred_accuracy_colliculus.shape=', pred_accuracy_colliculus.shape)"
   ]
  },
  {
   "cell_type": "code",
   "execution_count": null,
   "metadata": {},
   "outputs": [],
   "source": [
    "for idx in range(idx_start, idx_stop):\n",
    "    fig = plt.figure(figsize = (15, 8))\n",
    "\n",
    "    ax = fig.add_subplot(131, projection='polar')\n",
    "    ax.pcolor(where.retina.theta_grid, where.retina.log_r_grid, pred_accuracy_colliculus[idx, :].reshape((args.N_azimuth, args.N_eccentricity)), cmap=plt.plasma())\n",
    "    ax.set_title(\"Predicted\")\n",
    "    ax.set_yticklabels([])\n",
    "    ax.set_xticklabels([])\n",
    "              \n",
    "    x = where.retina.accuracy_invert(pred_accuracy_colliculus[idx, :])\n",
    "    ax = fig.add_subplot(132)\n",
    "    ax.imshow(x, vmin=0, cmap=plt.plasma())\n",
    "    ax.set_title(\"Pred visual space\")\n",
    "    \n",
    "    i_pred, j_pred = where.index_prediction(pred_accuracy_colliculus[idx, :])\n",
    "    \n",
    "    ax = fig.add_subplot(133)\n",
    "    ax = where.display.show(ax, data_fullfield[idx, :, :])\n",
    "    ax.set_title(f\"i={positions[idx]['i_offset']}/{i_pred}, j={positions[idx]['j_offset']}/{j_pred}\")\n",
    "    ax.plot([positions[idx]['j_offset']+args.N_pic//2], [positions[idx]['i_offset']+args.N_pic//2], '+', c='r', ms=26, markeredgewidth=2, alpha=.5)\n",
    "    ax.plot([j_pred+args.N_pic//2], [i_pred+args.N_pic//2], '+', c='b', ms=26, markeredgewidth=2, alpha=.5)\n",
    "    \n",
    "    "
   ]
  },
  {
   "cell_type": "markdown",
   "metadata": {},
   "source": [
    "## doing a saccade at the predicted the position of the target"
   ]
  },
  {
   "cell_type": "code",
   "execution_count": null,
   "metadata": {},
   "outputs": [],
   "source": [
    "print(data_fullfield.shape, retina_data.shape, label.shape)"
   ]
  },
  {
   "cell_type": "code",
   "execution_count": null,
   "metadata": {},
   "outputs": [],
   "source": [
    "accuracy = where.test_what(data_fullfield, pred_accuracy_colliculus, label)\n",
    "print('mean accuracy =', accuracy.mean())"
   ]
  },
  {
   "cell_type": "code",
   "execution_count": null,
   "metadata": {},
   "outputs": [],
   "source": [
    "for idx in range(idx_start, idx_stop):\n",
    "    fig = plt.figure(figsize = (15, 8))\n",
    "    \n",
    "    ax = fig.add_subplot(151)\n",
    "    ax = where.display.show(ax, data_fullfield[idx, :, :])\n",
    "    ax.set_title(f\"i={positions[idx]['i_offset']}, j={positions[idx]['j_offset']}\")\n",
    "    \n",
    "    ax = fig.add_subplot(152)\n",
    "    data_retina = where.retina.retina(data_fullfield[idx, :, :])\n",
    "    ax = where.retina.show(ax, where.retina.retina_invert(data_retina))\n",
    "    ax.set_title(f\"idx={idx}\")\n",
    "              \n",
    "    ax = fig.add_subplot(153, projection='polar')\n",
    "    ax.pcolor(where.retina.theta_grid, where.retina.log_r_grid, accuracy_colliculus[idx, :].numpy().reshape((args.N_azimuth, args.N_eccentricity)), cmap=plt.plasma())\n",
    "    ax.set_yticklabels([])\n",
    "    ax.set_xticklabels([])\n",
    "    ax.set_title(\"True\")\n",
    "\n",
    "    ax = fig.add_subplot(154, projection='polar')\n",
    "    ax.pcolor(where.retina.theta_grid, where.retina.log_r_grid, pred_accuracy_colliculus[idx, :].reshape((args.N_azimuth, args.N_eccentricity)), cmap=plt.plasma())\n",
    "    ax.set_yticklabels([])\n",
    "    ax.set_xticklabels([])\n",
    "    ax.set_title(\"Predicted\")\n",
    "\n",
    "    i_pred, j_pred = where.index_prediction(pred_accuracy_colliculus[idx, :])\n",
    "    ax = fig.add_subplot(155)                 \n",
    "    ax = where.display.show(ax, where.extract(data_fullfield[idx, :, :], i_pred, j_pred), do_cross=False)\n",
    "    result = '' if pred[idx]==label[idx].numpy() else 'FALSE'\n",
    "    ax.set_title(f\"pred={pred[idx]} acc={proba[idx,pred[idx]]:.2f} {result}\")\n",
    "                 "
   ]
  },
  {
   "cell_type": "markdown",
   "metadata": {},
   "source": [
    "testing on the test set:"
   ]
  },
  {
   "cell_type": "code",
   "execution_count": null,
   "metadata": {},
   "outputs": [],
   "source": [
    "correct = where.test()\n",
    "print('Average accuracy on the test set = ', correct.mean())"
   ]
  },
  {
   "cell_type": "markdown",
   "metadata": {},
   "source": [
    "# accuracy as a function of eccentricity\n"
   ]
  },
  {
   "cell_type": "code",
   "execution_count": null,
   "metadata": {},
   "outputs": [],
   "source": [
    "def test_eccentricities(N_eccentricities=9, ecc_max=.8, do_control=False):\n",
    "    import torch\n",
    "    from torch.autograd import Variable\n",
    "\n",
    "    #eccentricities = args.N_pic / 2 * ecc_max * (1/args.rho)**(args.N_eccentricity - np.arange(N_eccentricities))\n",
    "    eccentricities = np.linspace(where.args.offset_max, 0, N_eccentricities, endpoint=False)\n",
    "    batch_size = where.args.test_batch_size # data.shape[0]\n",
    "    from display import get_data_loader\n",
    "    loader_test = get_data_loader(batch_size=1, train=False, \n",
    "                                  mean=where.args.mean, std=where.args.std, seed=where.args.seed+10)\n",
    "        \n",
    "    accuracy_mean, accuracy_std = [], []\n",
    "    for eccentricity in eccentricities:\n",
    "\n",
    "        retina_data = np.zeros((batch_size, where.retina.vsize))\n",
    "        labels = np.zeros((batch_size))\n",
    "        data_fullfield = np.zeros((batch_size, where.args.N_pic, where.args.N_pic))        \n",
    "        accuracy_colliculus = np.zeros((batch_size, where.args.N_azimuth * where.args.N_eccentricity))\n",
    "\n",
    "        for i in range(batch_size):\n",
    "            data, label = next(iter(loader_test))\n",
    "            data_fullfield[i, :, :], i_offset, j_offset = where.display.draw(data[0, 0, :, :].numpy(), \n",
    "                                                                   radius=eccentricity)\n",
    "            positions.append(dict(i_offset=i_offset, j_offset=j_offset))\n",
    "            retina_data[i, :]  =  where.retina.retina(data_fullfield[i, :, :])\n",
    "            labels[i] = label\n",
    "        labels =  Variable(torch.FloatTensor(labels))\n",
    "        retina_data =  Variable(torch.FloatTensor(retina_data))\n",
    "        pred_accuracy_colliculus = where.pred_accuracy(retina_data)\n",
    "        \n",
    "        accuracy_ = where.test_what(data_fullfield, pred_accuracy_colliculus, labels.squeeze(), do_control=do_control)\n",
    "        accuracy_mean.append(accuracy_.mean())\n",
    "        accuracy_std.append(accuracy_.std()) # TODO fit with beta distribution\n",
    "        \n",
    "    return eccentricities, np.array(accuracy_mean), np.array(accuracy_std)"
   ]
  },
  {
   "cell_type": "code",
   "execution_count": null,
   "metadata": {},
   "outputs": [],
   "source": [
    "N_eccentricities = 9\n",
    "eccentricities, accuracy_mean, accuracy_std = test_eccentricities(N_eccentricities)\n",
    "print('eccentricities=', eccentricities, ', accuracy_data=', accuracy_mean, ' +/- ', accuracy_std)\n",
    "\n",
    "eccentricities, ctl_accuracy_mean, ctl_accuracy_std = test_eccentricities(N_eccentricities, do_control=True)\n",
    "print('eccentricities=', eccentricities, ', ctl_accuracy_data=', ctl_accuracy_mean, ' +/- ', ctl_accuracy_std)"
   ]
  },
  {
   "cell_type": "code",
   "execution_count": null,
   "metadata": {},
   "outputs": [],
   "source": [
    "fig = plt.figure(figsize = (figwidth, figwidth/1.618))\n",
    "ax_D = fig.add_subplot(1, 1, 1)\n",
    "width = .8*np.abs(np.gradient(eccentricities)[0])\n",
    "ax_D.bar(eccentricities, accuracy_mean, width=width, alpha = .5, label = 'One saccade')#yerr=accuracy_std, \n",
    "# TODO what instead? ax_D.bar(eccentricities, accuracy_data, alpha = .5, label = 'No saccade') #accuracy_map[27,27:55])\n",
    "ax_D.bar(eccentricities, ctl_accuracy_mean, width=width, color='orange', alpha = 1., label = 'No saccade')\n",
    "ax_D.plot([eccentricities.min()-width/2, eccentricities.max()+width/2], [0.1]*2, ':', c='k', label = 'Baseline')\n",
    "plt.legend(loc='best')\n",
    "#ax_D.set_title('Class accuracy', fontsize = 14)\n",
    "ax_D.set_xlabel('Target eccentricity (pixels)', fontsize = 12)\n",
    "ax_D.set_xticks(eccentricities)\n",
    "ax_D.set_xticklabels(['%.1f' % d for  d in eccentricities])\n",
    "ax_D.set_ylim([0,1]);"
   ]
  },
  {
   "cell_type": "code",
   "execution_count": null,
   "metadata": {},
   "outputs": [],
   "source": [
    "stop here"
   ]
  },
  {
   "cell_type": "markdown",
   "metadata": {},
   "source": [
    "# summary\n"
   ]
  },
  {
   "cell_type": "code",
   "execution_count": null,
   "metadata": {},
   "outputs": [],
   "source": [
    "fig = plt.figure(figsize = (figwidth, figwidth/2.5))#1.618))\n",
    "ax_A = plt.subplot(1, 4, 1) \n",
    "data_retina = where.retina.retina(data_fullfield[idx, :, :])\n",
    "ax_A = where.retina.show(ax_A, where.retina.retina_invert(data_retina))\n",
    "    \n",
    "ax_B = plt.subplot(2, 4, 2, projection='polar', autoscale_on=False)\n",
    "ax_B.pcolor(where.retina.theta, where.retina.log_r, accuracy_colliculus[idx, :].numpy().reshape((args.N_azimuth, args.N_eccentricity)))\n",
    "ax_B.grid('off')\n",
    "plt.title('True', fontsize = 14)\n",
    "ax_B.set_yticklabels([])\n",
    "ax_B.set_xticklabels([])\n",
    "\n",
    "ax_Bb = plt.subplot(2, 4, 6, projection='polar')\n",
    "ax_Bb.pcolor(where.retina.theta, where.retina.log_r, pred_accuracy_colliculus[idx, :].reshape((args.N_azimuth, args.N_eccentricity)))\n",
    "ax_Bb.set_title('Predicted', fontsize = 14)\n",
    "ax_Bb.set_yticklabels([])\n",
    "ax_Bb.set_xticklabels([])\n",
    "\n",
    "ax_C = plt.subplot(1, 4, 3)\n",
    "data_fullfield_ = where.display.place_object(data[idx, 0, :, :].numpy(), 0, 0)\n",
    "input_vector  =  where.retina.retina(data_fullfield_)\n",
    "ax_C = where.retina.show(ax_C, where.retina.retina_invert(input_vector))\n",
    "i_pred, j_pred = where.index_prediction(pred_accuracy_colliculus[idx, :])\n",
    "#ax_A.arrow(64.5, 64.5, j_pred, i_pred, width=.3, color='r', head_width=4., length_includes_head=True, edgecolor='k')\n",
    "ax_C.arrow(args.N_pic//2+j_pred+14, args.N_pic//2+i_pred+14, -j_pred, -i_pred, width=.3, color='r', head_width=4., length_includes_head=True, edgecolor='k')\n",
    "ax_C.arrow(args.N_pic//2+j_pred+14, args.N_pic//2+i_pred-14, -j_pred, -i_pred, width=.3, color='r', head_width=4., length_includes_head=True, edgecolor='k')\n",
    "\n",
    "ax_D = plt.subplot(1, 4, 4)\n",
    "width = .8*np.abs(np.gradient(eccentricities)[0])\n",
    "ax_D.bar(eccentricities, accuracy_mean, width=width, color='blue', alpha = .5, label = 'One saccade')\n",
    "ax_D.bar(eccentricities, ctl_accuracy_mean, width=width, color='orange', alpha = 1., label = 'No saccade')\n",
    "ax_D.plot([eccentricities.min()-width/2, eccentricities.max()+width/2], [0.1]*2, ':', c='k', label = 'Baseline')\n",
    "#ax_D.plot([eccentricities.min()-width/2, eccentricities.max()+width/2], [acc_max]*2, ':', c='k', label = 'Max')\n",
    "\n",
    "plt.legend(loc='upper right')\n",
    "ax_D.set_xlabel('Target eccentricity (pixels)', fontsize = 12)\n",
    "ax_D.set_xticks(eccentricities)\n",
    "ax_D.set_xticklabels(['%.1f' % d for  d in eccentricities])\n",
    "ax_D.set_ylim([0,1])\n",
    "\n",
    "for ax, text in [[ax_A, 'DIS'], [ax_C, 'SAC']]:\n",
    "    ax.text(4, 15, text, fontsize=24,\n",
    "          bbox={'facecolor':'white','alpha':1,'edgecolor':'none','pad':1},\n",
    "          ha='left', va='center') \n",
    "\n",
    "offset = -.015\n",
    "for ax, text, x_offset, y_offset in [[ax_A, 'A', offset, 1.15], [ax_B, 'B', -.25, 1.225], [ax_C, 'C', offset, 1.15], [ax_D, 'D', offset, 1.15]]:\n",
    "    ax.text(x_offset, y_offset, '(' + text + ')', fontsize=24,\n",
    "              bbox={'facecolor':'white','alpha':1,'edgecolor':'none','pad':1},\n",
    "              ha='left', va='center', transform=ax.transAxes) \n",
    "\n",
    "# pos : [left, bottom, width, height] =    The new position of the in `.Figure` coordinates.    \n",
    "plt.tight_layout()\n",
    "ax_A.set_position([0.025, 0.1, .3, .45])\n",
    "ax_B.set_position( [0.24, 0.375, .2, 0.2])\n",
    "ax_Bb.set_position([0.24, 0.1, .2, 0.2])\n",
    "ax_C.set_position([0.35, .1, .3, .45])\n",
    "ax_D.set_position([0.65, .1, .3, .45])\n",
    "fig.savefig(figname + '.pdf', bbox_inches='tight', pad_inches=0.1)"
   ]
  },
  {
   "cell_type": "markdown",
   "metadata": {},
   "source": [
    "# post-processing"
   ]
  },
  {
   "cell_type": "code",
   "execution_count": null,
   "metadata": {
    "ExecuteTime": {
     "end_time": "2018-10-08T14:43:27.591507Z",
     "start_time": "2018-10-08T14:43:24.722160Z"
    }
   },
   "outputs": [],
   "source": [
    "!convert  -density {dpi_export} {figname}.pdf {figname}.jpg\n",
    "!convert  -density {dpi_export} {figname}.pdf {figname}.png\n",
    "#!convert  -density {dpi_export} -resize 5400  -units pixelsperinch -flatten  -compress lzw  -depth 8 {fname}.pdf {fname}.tiff"
   ]
  },
  {
   "cell_type": "code",
   "execution_count": null,
   "metadata": {
    "ExecuteTime": {
     "end_time": "2018-07-03T10:36:00.981927Z",
     "start_time": "2018-07-03T10:36:00.949864Z"
    }
   },
   "outputs": [],
   "source": [
    "from IPython.display import Image\n",
    "Image('{figname}.png'.format(figname=figname))"
   ]
  },
  {
   "cell_type": "code",
   "execution_count": null,
   "metadata": {
    "ExecuteTime": {
     "end_time": "2018-07-03T10:36:00.939193Z",
     "start_time": "2018-07-03T10:36:00.766218Z"
    }
   },
   "outputs": [],
   "source": [
    "!ls  -l {figname}*"
   ]
  }
 ],
 "metadata": {
  "kernelspec": {
   "display_name": "Python 3",
   "language": "python",
   "name": "python3"
  },
  "language_info": {
   "codemirror_mode": {
    "name": "ipython",
    "version": 3
   },
   "file_extension": ".py",
   "mimetype": "text/x-python",
   "name": "python",
   "nbconvert_exporter": "python",
   "pygments_lexer": "ipython3",
   "version": "3.7.6"
  }
 },
 "nbformat": 4,
 "nbformat_minor": 4
}
