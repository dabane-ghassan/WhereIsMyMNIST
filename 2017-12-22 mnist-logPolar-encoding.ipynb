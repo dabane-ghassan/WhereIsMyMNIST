{
 "cells": [
  {
   "cell_type": "code",
   "execution_count": 1,
   "metadata": {},
   "outputs": [],
   "source": [
    "%matplotlib inline"
   ]
  },
  {
   "cell_type": "code",
   "execution_count": 2,
   "metadata": {},
   "outputs": [],
   "source": [
    "import matplotlib.pyplot as plt\n",
    "import numpy as np\n",
    "import sys\n",
    "import math"
   ]
  },
  {
   "cell_type": "code",
   "execution_count": 3,
   "metadata": {},
   "outputs": [],
   "source": [
    "import pywt"
   ]
  },
  {
   "cell_type": "code",
   "execution_count": 4,
   "metadata": {},
   "outputs": [],
   "source": [
    "from SLIP import Image, imread\n",
    "from LogGabor import LogGabor"
   ]
  },
  {
   "cell_type": "code",
   "execution_count": 5,
   "metadata": {},
   "outputs": [
    {
     "ename": "ModuleNotFoundError",
     "evalue": "No module named 'tensorflow'",
     "output_type": "error",
     "traceback": [
      "\u001b[0;31m---------------------------------------------------------------------------\u001b[0m",
      "\u001b[0;31mModuleNotFoundError\u001b[0m                       Traceback (most recent call last)",
      "\u001b[0;32m<ipython-input-5-8bf8ae5a5303>\u001b[0m in \u001b[0;36m<module>\u001b[0;34m\u001b[0m\n\u001b[0;32m----> 1\u001b[0;31m \u001b[0;32mfrom\u001b[0m \u001b[0mtensorflow\u001b[0m\u001b[0;34m.\u001b[0m\u001b[0mexamples\u001b[0m\u001b[0;34m.\u001b[0m\u001b[0mtutorials\u001b[0m\u001b[0;34m.\u001b[0m\u001b[0mmnist\u001b[0m \u001b[0;32mimport\u001b[0m \u001b[0minput_data\u001b[0m\u001b[0;34m\u001b[0m\u001b[0;34m\u001b[0m\u001b[0m\n\u001b[0m\u001b[1;32m      2\u001b[0m \u001b[0mmnist\u001b[0m \u001b[0;34m=\u001b[0m \u001b[0minput_data\u001b[0m\u001b[0;34m.\u001b[0m\u001b[0mread_data_sets\u001b[0m\u001b[0;34m(\u001b[0m\u001b[0;34m\"MNIST_data/\"\u001b[0m\u001b[0;34m,\u001b[0m \u001b[0mone_hot\u001b[0m\u001b[0;34m=\u001b[0m\u001b[0;32mTrue\u001b[0m\u001b[0;34m)\u001b[0m\u001b[0;34m\u001b[0m\u001b[0;34m\u001b[0m\u001b[0m\n",
      "\u001b[0;31mModuleNotFoundError\u001b[0m: No module named 'tensorflow'"
     ]
    }
   ],
   "source": [
    "from tensorflow.examples.tutorials.mnist import input_data\n",
    "mnist = input_data.read_data_sets(\"MNIST_data/\", one_hot=True)"
   ]
  },
  {
   "cell_type": "code",
   "execution_count": null,
   "metadata": {},
   "outputs": [],
   "source": [
    "def mnist_reshape_128(x, i_offset = 0, j_offset = 0):\n",
    "    assert x.shape == (28 * 28,)\n",
    "    image = x.reshape(28, 28)\n",
    "    image = np.append(np.zeros((128 + 2, 28)), image, axis = 0)\n",
    "    image = np.append(image, np.zeros((128 + 2, 28)), axis = 0)\n",
    "    image = np.append(np.zeros((288, 128 + 2)), image, axis = 1)\n",
    "    image = np.append(image, np.zeros((288, 128 + 2)), axis = 1)\n",
    "    return image[128 + 16 - 64 - i_offset : 128 + 16 + 64 - i_offset, 128 + 16 - 64 - j_offset : 128 + 16 + 64 - j_offset]"
   ]
  },
  {
   "cell_type": "markdown",
   "metadata": {},
   "source": [
    "## LogPolar transform"
   ]
  },
  {
   "cell_type": "code",
   "execution_count": null,
   "metadata": {},
   "outputs": [],
   "source": [
    "FIG_WIDTH = 12\n",
    "FIGSIZE=(FIG_WIDTH, .618 * FIG_WIDTH)"
   ]
  },
  {
   "cell_type": "code",
   "execution_count": null,
   "metadata": {},
   "outputs": [],
   "source": [
    "param = {\n",
    "# Image\n",
    "'N_X' : 128, # size of images\n",
    "'N_Y' : 128, # size of images\n",
    "'do_mask'  : True, # used for instance in the Matching Pursuit algorithm self.pe.do_mask\n",
    "'mask_exponent': 3., #sharpness of the mask\n",
    "'use_cache' : True,\n",
    "'verbose': 0,\n",
    "'figpath': 'results',\n",
    "'matpath': 'data_cache',\n",
    "'datapath': 'database',\n",
    "'figsize': 14.,\n",
    "'formats': ['pdf', 'svg', 'jpg'],\n",
    "'dpi': 450,\n",
    "'seed': None, # a seed for the Random Number Generator (RNG) for picking images in databases, set to None or a given number to freeze the RNG\n",
    "'N_image': None, # number of images to pick in a database, set to None if you want to pick all in the database\n",
    "# whitening parameters:\n",
    "'white_name_database' : 'kodakdb',\n",
    "'white_n_learning' : 0,\n",
    "'white_N' : .07,\n",
    "'white_f_0' : .38, # olshausen = 0.2\n",
    "'white_alpha' : 1.4,\n",
    "'white_steepness' : 4.,\n",
    "'white_recompute' : False,\n",
    "}\n"
   ]
  },
  {
   "cell_type": "code",
   "execution_count": null,
   "metadata": {},
   "outputs": [],
   "source": [
    "i_offset = 10\n",
    "j_offset = 10\n",
    "N_X = 128\n",
    "N_Y = 128"
   ]
  },
  {
   "cell_type": "code",
   "execution_count": null,
   "metadata": {},
   "outputs": [],
   "source": [
    "#im = Image(pe='https://raw.githubusercontent.com/bicv/SLIP/master/default_param.py')\n",
    "im = Image(pe=param)\n",
    "#im = Image((128, 128))\n",
    "mnist_sample_offset = mnist_reshape_128(mnist.train.images[0], i_offset = i_offset, j_offset = j_offset)\n",
    "plt.imshow(mnist_sample_offset, cmap = 'gray_r')"
   ]
  },
  {
   "cell_type": "code",
   "execution_count": null,
   "metadata": {},
   "outputs": [],
   "source": [
    "image = mnist_sample_offset\n",
    "print('Size of image', image.shape)"
   ]
  },
  {
   "cell_type": "code",
   "execution_count": null,
   "metadata": {
    "scrolled": false
   },
   "outputs": [],
   "source": [
    "fig, ax = plt.subplots(figsize=(FIG_WIDTH, FIG_WIDTH))\n",
    "ax.imshow(image, cmap=plt.gray())\n",
    "center = (63.5, 63.5) # X, Y\n",
    "ax.set_xlabel('Y')\n",
    "ax.set_ylabel('X')\n",
    "ax.plot(center[1], center[0], 'r+', ms=35);"
   ]
  },
  {
   "cell_type": "code",
   "execution_count": null,
   "metadata": {
    "scrolled": true
   },
   "outputs": [],
   "source": [
    "white = im.whitening(image)\n",
    "fig, ax = plt.subplots(figsize=(FIG_WIDTH, FIG_WIDTH))\n",
    "ax.imshow(white, cmap=plt.gray())\n",
    "center = (63.5, 63.5) # X, Y\n",
    "ax.set_xlabel('Y')\n",
    "ax.set_ylabel('X')\n",
    "ax.plot(center[1], center[0], 'r+', ms=35);"
   ]
  },
  {
   "cell_type": "markdown",
   "metadata": {},
   "source": [
    "## LogGabor filters"
   ]
  },
  {
   "cell_type": "code",
   "execution_count": null,
   "metadata": {},
   "outputs": [],
   "source": [
    "parameterfile = 'https://raw.githubusercontent.com/bicv/LogGabor/master/default_param.py'\n",
    "lg = LogGabor(parameterfile)\n",
    "lg.set_size((N_X, N_Y))\n",
    "params= {'sf_0':.1, 'B_sf': lg.pe.B_sf, 'theta':np.pi* 5 / 7., 'B_theta': lg.pe.B_theta}\n",
    "phase = np.pi/4\n",
    "edge = lg.normalize(lg.invert(lg.loggabor(N_X/3, 3*N_Y/4, **params)*np.exp(-1j*phase)))"
   ]
  },
  {
   "cell_type": "markdown",
   "metadata": {},
   "source": [
    "## Vectorizing"
   ]
  },
  {
   "cell_type": "code",
   "execution_count": null,
   "metadata": {},
   "outputs": [],
   "source": [
    "N_theta, N_orient, N_scale, N_phase = 6, 8, 5, 2\n",
    "phi = np.zeros((N_theta, N_orient, N_scale, N_phase, N_X*N_Y))\n",
    "\n",
    "for i_theta in range(N_theta):\n",
    "    for i_orient in range(N_orient):\n",
    "        for i_scale in range(N_scale):\n",
    "            ecc =  .5**(N_scale - i_scale)\n",
    "            r = np.sqrt(N_X**2+N_Y**2) / 2 * ecc # radius\n",
    "            sf_0 = 0.5 * 0.03 / ecc\n",
    "            #print('radius=', r, 'at scale', i_scale, 'with sf_0=', sf_0 , 'ecc', ecc)\n",
    "            x = N_X/2 + r * np.cos((i_orient+(i_scale % 2)*.5)*np.pi*2 / N_orient)\n",
    "            y = N_Y/2 + r * np.sin((i_orient+(i_scale % 2)*.5)*np.pi*2 / N_orient)            \n",
    "            for i_phase in range(N_phase):\n",
    "                params= {'sf_0':sf_0, 'B_sf': lg.pe.B_sf, 'theta':i_theta*np.pi/N_theta, 'B_theta': np.pi/N_theta/2}\n",
    "                #print('At', i_theta, i_orient, i_scale, i_phase, 'x, y=', x, y, 'params=', params)\n",
    "                phase = i_phase * np.pi/2\n",
    "                phi[i_theta, i_orient, i_scale, i_phase, :] = lg.normalize(lg.invert(lg.loggabor(x, y, **params)*np.exp(-1j*phase))).ravel()            \n",
    "\n",
    "fig, ax = plt.subplots(figsize=(FIG_WIDTH, FIG_WIDTH))\n",
    "for i_theta in range(N_theta):\n",
    "    for i_orient in range(N_orient):\n",
    "        for i_scale in range(N_scale):\n",
    "            env = np.sqrt(phi[i_theta, i_orient, i_scale, 0, :]**2 + phi[i_theta, i_orient, i_scale, 1, :]**2).reshape((N_X, N_Y))\n",
    "            ax.contour(env, levels=[env.max()/2], lw=1, colors=[plt.cm.viridis(i_theta/(N_theta))])\n",
    "fig.suptitle('Tiling of visual space using phi')\n",
    "ax.set_xlabel(r'$Y$')\n",
    "ax.set_ylabel(r'$X$')\n",
    "ax.axis('equal')\n",
    "plt.tight_layout();"
   ]
  },
  {
   "cell_type": "markdown",
   "metadata": {},
   "source": [
    "## Example"
   ]
  },
  {
   "cell_type": "code",
   "execution_count": null,
   "metadata": {
    "scrolled": true
   },
   "outputs": [],
   "source": [
    "plt.subplot(1,2,1)\n",
    "plt.imshow(np.reshape(phi[0,2,3,0,:],(128, 128)))\n",
    "plt.subplot(1,2,2)\n",
    "plt.imshow(np.reshape(phi[0,2,3,1,:],(128, 128)))"
   ]
  },
  {
   "cell_type": "markdown",
   "metadata": {},
   "source": [
    "## Encoding"
   ]
  },
  {
   "cell_type": "code",
   "execution_count": null,
   "metadata": {},
   "outputs": [],
   "source": [
    "code = phi @ image.ravel()\n",
    "print('All scalar products in one shot = ', (code).shape )"
   ]
  },
  {
   "cell_type": "code",
   "execution_count": null,
   "metadata": {},
   "outputs": [],
   "source": [
    "print('Shape of phi=', phi.shape)\n",
    "phi_vectorial = phi.reshape((N_theta*N_orient*N_scale*N_phase, N_X*N_Y))\n",
    "print('Shape of phi_vectorial=', phi_vectorial.shape)\n",
    "print('Shape of phi=', phi_vectorial.reshape((N_theta, N_orient, N_scale, N_phase, N_X*N_Y)).shape)"
   ]
  },
  {
   "cell_type": "code",
   "execution_count": null,
   "metadata": {},
   "outputs": [],
   "source": [
    "vectorial_code = phi_vectorial @ image.ravel() # encoding x --> z "
   ]
  },
  {
   "cell_type": "code",
   "execution_count": null,
   "metadata": {},
   "outputs": [],
   "source": [
    "print('Taille du code : ', vectorial_code.shape)"
   ]
  },
  {
   "cell_type": "code",
   "execution_count": null,
   "metadata": {},
   "outputs": [],
   "source": [
    "plt.plot(vectorial_code)"
   ]
  },
  {
   "cell_type": "markdown",
   "metadata": {},
   "source": [
    "## Decoding / visualisation"
   ]
  },
  {
   "cell_type": "code",
   "execution_count": null,
   "metadata": {},
   "outputs": [],
   "source": [
    "phi_plus = np.linalg.pinv(phi_vectorial) # pseudo-inverse\n",
    "image_hat = phi_plus @ vectorial_code # decoding z--> x"
   ]
  },
  {
   "cell_type": "code",
   "execution_count": null,
   "metadata": {},
   "outputs": [],
   "source": [
    "fig, ax = plt.subplots(figsize=(FIG_WIDTH, FIG_WIDTH))\n",
    "ax.imshow(image_hat.reshape((N_X, N_Y)), cmap=plt.gray())\n",
    "ax.set_xlabel('Y')\n",
    "ax.set_ylabel('X')\n",
    "ax.plot([N_Y/2], [N_X/2], 'r+', ms=35)\n",
    "ax.axis('equal');"
   ]
  },
  {
   "cell_type": "markdown",
   "metadata": {},
   "source": [
    "## Energy"
   ]
  },
  {
   "cell_type": "code",
   "execution_count": null,
   "metadata": {},
   "outputs": [],
   "source": [
    "energy = (code**2).sum(axis=-1)\n",
    "print('Shape of energy = ', energy.shape )"
   ]
  },
  {
   "cell_type": "code",
   "execution_count": null,
   "metadata": {},
   "outputs": [],
   "source": [
    "global_energy = (code**2).sum(axis=(0, -1))\n",
    "print('Shape of global_energy = ', global_energy.shape )"
   ]
  },
  {
   "cell_type": "code",
   "execution_count": null,
   "metadata": {},
   "outputs": [],
   "source": [
    "color_energy = np.zeros((N_orient, N_scale, 3))\n",
    "for i_theta in range(N_theta):\n",
    "    color = np.array([1 + np.cos(i_theta/N_theta + i*np.pi/3) for i in np.arange(3)])\n",
    "    color_energy += energy[i_theta, :, :][:, :, np.newaxis] * color[np.newaxis, np.newaxis, :]\n",
    "print('Shape of color_energy = ', color_energy.shape )\n",
    "color_energy /= color_energy.max()\n",
    "r, theta = np.meshgrid(np.linspace(0, 1, N_scale), np.linspace(0, 2*np.pi, N_orient))\n",
    "fig, ax = plt.subplots()#subplot_kw=dict(projection='polar'))\n",
    "#ax.pcolormesh(theta, r, color_energy);\n",
    "ax.imshow(np.fliplr(color_energy));"
   ]
  },
  {
   "cell_type": "code",
   "execution_count": null,
   "metadata": {},
   "outputs": [],
   "source": [
    "log_r_target = 1  + np.log(np.sqrt(i_offset **2 + j_offset ** 2) / np.sqrt(N_X**2+N_Y**2) / 2) / 5\n",
    "if j_offset != 0:\n",
    "    theta_target = np.arctan(-i_offset / j_offset)\n",
    "else:\n",
    "    theta_target = np.sign(-i_offset) * np.pi/2\n"
   ]
  },
  {
   "cell_type": "code",
   "execution_count": null,
   "metadata": {},
   "outputs": [],
   "source": [
    "log_r, theta = np.meshgrid(np.linspace(0, 1, N_scale + 1), np.linspace(-np.pi * .625, np.pi * 1.375, N_orient + 1))\n",
    "fig, ax = plt.subplots(subplot_kw=dict(projection='polar'))\n",
    "ax.pcolor(theta, log_r, np.fliplr(global_energy))\n",
    "#ax.plot(log_r_target * np.cos(theta_target), log_r_target * np.sin(theta_target), 'r+')\n",
    "ax.plot(theta_target , log_r_target, 'r+')"
   ]
  },
  {
   "cell_type": "code",
   "execution_count": null,
   "metadata": {},
   "outputs": [],
   "source": []
  }
 ],
 "metadata": {
  "kernelspec": {
   "display_name": "Python 3",
   "language": "python",
   "name": "python3"
  },
  "language_info": {
   "codemirror_mode": {
    "name": "ipython",
    "version": 3
   },
   "file_extension": ".py",
   "mimetype": "text/x-python",
   "name": "python",
   "nbconvert_exporter": "python",
   "pygments_lexer": "ipython3",
   "version": "3.7.2"
  },
  "toc": {
   "base_numbering": 1,
   "nav_menu": {},
   "number_sections": true,
   "sideBar": true,
   "skip_h1_title": false,
   "title_cell": "Table of Contents",
   "title_sidebar": "Contents",
   "toc_cell": false,
   "toc_position": {},
   "toc_section_display": true,
   "toc_window_display": false
  }
 },
 "nbformat": 4,
 "nbformat_minor": 2
}
