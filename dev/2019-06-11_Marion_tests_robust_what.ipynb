{
 "cells": [
  {
   "cell_type": "code",
   "execution_count": 1,
   "metadata": {},
   "outputs": [],
   "source": [
    "import numpy as np\n",
    "import torch\n",
    "import torch.nn as nn\n",
    "import torch.nn.functional as F\n",
    "import torch.optim as optim\n",
    "from torchvision import datasets, transforms"
   ]
  },
  {
   "cell_type": "code",
   "execution_count": 2,
   "metadata": {},
   "outputs": [],
   "source": [
    "import matplotlib.pyplot as plt"
   ]
  },
  {
   "cell_type": "code",
   "execution_count": 3,
   "metadata": {},
   "outputs": [],
   "source": [
    "from PIL import Image"
   ]
  },
  {
   "cell_type": "code",
   "execution_count": 4,
   "metadata": {},
   "outputs": [],
   "source": [
    "import sys\n",
    "sys.path.append(\"../figures\")\n",
    "\n",
    "from robust_what import WhatShift, WhatBackground, WhatNet, WhatTrainer, What, train, test, MNIST"
   ]
  },
  {
   "cell_type": "code",
   "execution_count": 5,
   "metadata": {},
   "outputs": [
    {
     "data": {
      "text/plain": [
       "{'w': 28,\n",
       " 'minibatch_size': 100,\n",
       " 'train_batch_size': 50000,\n",
       " 'test_batch_size': 10000,\n",
       " 'noise_batch_size': 1000,\n",
       " 'mean': 0.1307,\n",
       " 'std': 0.3081,\n",
       " 'N_pic': 128,\n",
       " 'offset_std': 30,\n",
       " 'offset_max': 34,\n",
       " 'noise': 1.0,\n",
       " 'contrast': 0.7,\n",
       " 'sf_0': 0.1,\n",
       " 'B_sf': 0.1,\n",
       " 'N_theta': 6,\n",
       " 'N_azimuth': 24,\n",
       " 'N_eccentricity': 10,\n",
       " 'N_phase': 2,\n",
       " 'rho': 1.41,\n",
       " 'bias_deconv': True,\n",
       " 'p_dropout': 0.0,\n",
       " 'dim1': 1000,\n",
       " 'dim2': 1000,\n",
       " 'lr': 0.005,\n",
       " 'do_adam': True,\n",
       " 'bn1_bn_momentum': 0.5,\n",
       " 'bn2_bn_momentum': 0.5,\n",
       " 'momentum': 0.3,\n",
       " 'epochs': 60,\n",
       " 'num_processes': 1,\n",
       " 'no_cuda': True,\n",
       " 'log_interval': 100,\n",
       " 'verbose': 1,\n",
       " 'filename': '../data/2019-06-05',\n",
       " 'seed': 2019,\n",
       " 'N_cv': 10,\n",
       " 'do_compute': True,\n",
       " 'what_offset_std': 5.0,\n",
       " 'what_offset_max': 15}"
      ]
     },
     "execution_count": 5,
     "metadata": {},
     "output_type": "execute_result"
    }
   ],
   "source": [
    "from main import init\n",
    "args = init(filename='../data/2019-06-12')\n",
    "args"
   ]
  },
  {
   "cell_type": "markdown",
   "metadata": {},
   "source": [
    "## Unit tests"
   ]
  },
  {
   "cell_type": "code",
   "execution_count": 6,
   "metadata": {},
   "outputs": [],
   "source": [
    "transform=transforms.Compose([\n",
    "                               WhatShift(args, i_offset=None, j_offset=None),\n",
    "                               WhatBackground(),\n",
    "                               transforms.ToTensor(),\n",
    "                               #transforms.Normalize((args.mean,), (args.std,))\n",
    "                           ])"
   ]
  },
  {
   "cell_type": "code",
   "execution_count": 7,
   "metadata": {},
   "outputs": [],
   "source": [
    "dataset_train = MNIST('../data',\n",
    "                        train=True,\n",
    "                        download=True,\n",
    "                        transform=transform,\n",
    "                        )"
   ]
  },
  {
   "cell_type": "code",
   "execution_count": 8,
   "metadata": {},
   "outputs": [],
   "source": [
    "train_loader = torch.utils.data.DataLoader(dataset_train,\n",
    "                                         batch_size=args.minibatch_size,\n",
    "                                         shuffle=True)"
   ]
  },
  {
   "cell_type": "code",
   "execution_count": 9,
   "metadata": {},
   "outputs": [],
   "source": [
    "dataset_test = MNIST('../data',\n",
    "                        train=False,\n",
    "                        download=True,\n",
    "                        transform=transform,\n",
    "                        )"
   ]
  },
  {
   "cell_type": "code",
   "execution_count": 10,
   "metadata": {},
   "outputs": [],
   "source": [
    "test_loader = torch.utils.data.DataLoader(dataset_test,\n",
    "                                         batch_size=args.minibatch_size,\n",
    "                                         shuffle=True)"
   ]
  },
  {
   "cell_type": "code",
   "execution_count": 11,
   "metadata": {},
   "outputs": [],
   "source": [
    "data, label = next(iter(test_loader))"
   ]
  },
  {
   "cell_type": "code",
   "execution_count": 12,
   "metadata": {},
   "outputs": [
    {
     "data": {
      "text/plain": [
       "torch.Size([100])"
      ]
     },
     "execution_count": 12,
     "metadata": {},
     "output_type": "execute_result"
    }
   ],
   "source": [
    "label.shape"
   ]
  },
  {
   "cell_type": "code",
   "execution_count": 13,
   "metadata": {},
   "outputs": [
    {
     "data": {
      "text/plain": [
       "Text(0.5, 1.0, 'label : 7')"
      ]
     },
     "execution_count": 13,
     "metadata": {},
     "output_type": "execute_result"
    },
    {
     "data": {
      "image/png": "[encoded data removed]",
      "text/plain": [
       "<Figure size 432x288 with 1 Axes>"
      ]
     },
     "metadata": {
      "needs_background": "light"
     },
     "output_type": "display_data"
    }
   ],
   "source": [
    "i = 3\n",
    "plt.imshow(data[i,:,:].detach().numpy().reshape((28, 28)))\n",
    "plt.title('label : '+str(label[i].item()))"
   ]
  },
  {
   "cell_type": "code",
   "execution_count": 14,
   "metadata": {},
   "outputs": [
    {
     "data": {
      "image/png": "[encoded data removed]",
      "text/plain": [
       "<Figure size 432x288 with 1 Axes>"
      ]
     },
     "metadata": {
      "needs_background": "light"
     },
     "output_type": "display_data"
    }
   ],
   "source": [
    "h = plt.hist(data[1,:,:].detach().numpy().flatten(), 30)"
   ]
  },
  {
   "cell_type": "code",
   "execution_count": 15,
   "metadata": {},
   "outputs": [],
   "source": [
    "device = 'cpu'\n",
    "model = WhatNet(args).to(device)\n",
    "loss_func = F.nll_loss\n",
    "optimizer = optim.Adam(model.parameters(), lr = 1e-3)"
   ]
  },
  {
   "cell_type": "code",
   "execution_count": 16,
   "metadata": {},
   "outputs": [],
   "source": [
    "if False:\n",
    "    for epoch in range(1, args.epochs + 1):\n",
    "        train(args, model, device, train_loader, loss_func, optimizer, epoch)\n",
    "        test(args, model, device, test_loader)"
   ]
  },
  {
   "cell_type": "markdown",
   "metadata": {},
   "source": [
    "## What class test"
   ]
  },
  {
   "cell_type": "code",
   "execution_count": 16,
   "metadata": {
    "scrolled": true
   },
   "outputs": [
    {
     "name": "stdout",
     "output_type": "stream",
     "text": [
      "Train Epoch: 1/2 [0/60000 (0%)]\tLoss: 2.316346\n"
     ]
    },
    {
     "ename": "KeyboardInterrupt",
     "evalue": "",
     "output_type": "error",
     "traceback": [
      "\u001b[1;31m---------------------------------------------------------------------------\u001b[0m",
      "\u001b[1;31mKeyboardInterrupt\u001b[0m                         Traceback (most recent call last)",
      "\u001b[1;32m<ipython-input-16-7ff00d41cf81>\u001b[0m in \u001b[0;36m<module>\u001b[1;34m\u001b[0m\n\u001b[0;32m     12\u001b[0m \u001b[1;33m\u001b[0m\u001b[0m\n\u001b[0;32m     13\u001b[0m \u001b[0margs\u001b[0m\u001b[1;33m.\u001b[0m\u001b[0mwhat_offset_std\u001b[0m \u001b[1;33m=\u001b[0m \u001b[1;36m5\u001b[0m\u001b[1;33m\u001b[0m\u001b[1;33m\u001b[0m\u001b[0m\n\u001b[1;32m---> 14\u001b[1;33m \u001b[0mwhat\u001b[0m \u001b[1;33m=\u001b[0m \u001b[0mWhat\u001b[0m\u001b[1;33m(\u001b[0m\u001b[0margs\u001b[0m\u001b[1;33m=\u001b[0m\u001b[0margs\u001b[0m\u001b[1;33m,\u001b[0m \u001b[0mforce\u001b[0m\u001b[1;33m=\u001b[0m \u001b[1;32mTrue\u001b[0m\u001b[1;33m)\u001b[0m\u001b[1;33m\u001b[0m\u001b[1;33m\u001b[0m\u001b[0m\n\u001b[0m",
      "\u001b[1;32m~\\PycharmProjects\\WhereIsMyMNIST\\dev\\robust_what.py\u001b[0m in \u001b[0;36m__init__\u001b[1;34m(self, args, train_loader, test_loader, force)\u001b[0m\n\u001b[0;32m    317\u001b[0m                                        device=device)\n\u001b[0;32m    318\u001b[0m             \u001b[1;32mfor\u001b[0m \u001b[0mepoch\u001b[0m \u001b[1;32min\u001b[0m \u001b[0mrange\u001b[0m\u001b[1;33m(\u001b[0m\u001b[1;36m1\u001b[0m\u001b[1;33m,\u001b[0m \u001b[0margs\u001b[0m\u001b[1;33m.\u001b[0m\u001b[0mepochs\u001b[0m \u001b[1;33m+\u001b[0m \u001b[1;36m1\u001b[0m\u001b[1;33m)\u001b[0m\u001b[1;33m:\u001b[0m\u001b[1;33m\u001b[0m\u001b[1;33m\u001b[0m\u001b[0m\n\u001b[1;32m--> 319\u001b[1;33m                 \u001b[0mself\u001b[0m\u001b[1;33m.\u001b[0m\u001b[0mtrainer\u001b[0m\u001b[1;33m.\u001b[0m\u001b[0mtrain\u001b[0m\u001b[1;33m(\u001b[0m\u001b[0mepoch\u001b[0m\u001b[1;33m)\u001b[0m\u001b[1;33m\u001b[0m\u001b[1;33m\u001b[0m\u001b[0m\n\u001b[0m\u001b[0;32m    320\u001b[0m                 \u001b[0mself\u001b[0m\u001b[1;33m.\u001b[0m\u001b[0mtrainer\u001b[0m\u001b[1;33m.\u001b[0m\u001b[0mtest\u001b[0m\u001b[1;33m(\u001b[0m\u001b[1;33m)\u001b[0m\u001b[1;33m\u001b[0m\u001b[1;33m\u001b[0m\u001b[0m\n\u001b[0;32m    321\u001b[0m             \u001b[0mself\u001b[0m\u001b[1;33m.\u001b[0m\u001b[0mmodel\u001b[0m \u001b[1;33m=\u001b[0m \u001b[0mself\u001b[0m\u001b[1;33m.\u001b[0m\u001b[0mtrainer\u001b[0m\u001b[1;33m.\u001b[0m\u001b[0mmodel\u001b[0m\u001b[1;33m\u001b[0m\u001b[1;33m\u001b[0m\u001b[0m\n",
      "\u001b[1;32m~\\PycharmProjects\\WhereIsMyMNIST\\dev\\robust_what.py\u001b[0m in \u001b[0;36mtrain\u001b[1;34m(self, epoch)\u001b[0m\n\u001b[0;32m    223\u001b[0m \u001b[1;33m\u001b[0m\u001b[0m\n\u001b[0;32m    224\u001b[0m     \u001b[1;32mdef\u001b[0m \u001b[0mtrain\u001b[0m\u001b[1;33m(\u001b[0m\u001b[0mself\u001b[0m\u001b[1;33m,\u001b[0m \u001b[0mepoch\u001b[0m\u001b[1;33m)\u001b[0m\u001b[1;33m:\u001b[0m\u001b[1;33m\u001b[0m\u001b[1;33m\u001b[0m\u001b[0m\n\u001b[1;32m--> 225\u001b[1;33m         \u001b[0mtrain\u001b[0m\u001b[1;33m(\u001b[0m\u001b[0mself\u001b[0m\u001b[1;33m.\u001b[0m\u001b[0margs\u001b[0m\u001b[1;33m,\u001b[0m \u001b[0mself\u001b[0m\u001b[1;33m.\u001b[0m\u001b[0mmodel\u001b[0m\u001b[1;33m,\u001b[0m \u001b[0mself\u001b[0m\u001b[1;33m.\u001b[0m\u001b[0mdevice\u001b[0m\u001b[1;33m,\u001b[0m \u001b[0mself\u001b[0m\u001b[1;33m.\u001b[0m\u001b[0mtrain_loader\u001b[0m\u001b[1;33m,\u001b[0m \u001b[0mself\u001b[0m\u001b[1;33m.\u001b[0m\u001b[0mloss_func\u001b[0m\u001b[1;33m,\u001b[0m \u001b[0mself\u001b[0m\u001b[1;33m.\u001b[0m\u001b[0moptimizer\u001b[0m\u001b[1;33m,\u001b[0m \u001b[0mepoch\u001b[0m\u001b[1;33m)\u001b[0m\u001b[1;33m\u001b[0m\u001b[1;33m\u001b[0m\u001b[0m\n\u001b[0m\u001b[0;32m    226\u001b[0m \u001b[1;33m\u001b[0m\u001b[0m\n\u001b[0;32m    227\u001b[0m     \u001b[1;32mdef\u001b[0m \u001b[0mtest\u001b[0m\u001b[1;33m(\u001b[0m\u001b[0mself\u001b[0m\u001b[1;33m)\u001b[0m\u001b[1;33m:\u001b[0m\u001b[1;33m\u001b[0m\u001b[1;33m\u001b[0m\u001b[0m\n",
      "\u001b[1;32m~\\PycharmProjects\\WhereIsMyMNIST\\dev\\robust_what.py\u001b[0m in \u001b[0;36mtrain\u001b[1;34m(args, model, device, train_loader, loss_function, optimizer, epoch)\u001b[0m\n\u001b[0;32m    238\u001b[0m         \u001b[0moutput\u001b[0m \u001b[1;33m=\u001b[0m \u001b[0mmodel\u001b[0m\u001b[1;33m(\u001b[0m\u001b[0mdata\u001b[0m\u001b[1;33m)\u001b[0m\u001b[1;33m\u001b[0m\u001b[1;33m\u001b[0m\u001b[0m\n\u001b[0;32m    239\u001b[0m         \u001b[0mloss\u001b[0m \u001b[1;33m=\u001b[0m \u001b[0mloss_function\u001b[0m\u001b[1;33m(\u001b[0m\u001b[0moutput\u001b[0m\u001b[1;33m,\u001b[0m \u001b[0mtarget\u001b[0m\u001b[1;33m)\u001b[0m\u001b[1;33m\u001b[0m\u001b[1;33m\u001b[0m\u001b[0m\n\u001b[1;32m--> 240\u001b[1;33m         \u001b[0mloss\u001b[0m\u001b[1;33m.\u001b[0m\u001b[0mbackward\u001b[0m\u001b[1;33m(\u001b[0m\u001b[1;33m)\u001b[0m\u001b[1;33m\u001b[0m\u001b[1;33m\u001b[0m\u001b[0m\n\u001b[0m\u001b[0;32m    241\u001b[0m         \u001b[0moptimizer\u001b[0m\u001b[1;33m.\u001b[0m\u001b[0mstep\u001b[0m\u001b[1;33m(\u001b[0m\u001b[1;33m)\u001b[0m\u001b[1;33m\u001b[0m\u001b[1;33m\u001b[0m\u001b[0m\n\u001b[0;32m    242\u001b[0m         \u001b[1;32mif\u001b[0m \u001b[0mbatch_idx\u001b[0m \u001b[1;33m%\u001b[0m \u001b[0margs\u001b[0m\u001b[1;33m.\u001b[0m\u001b[0mlog_interval\u001b[0m \u001b[1;33m==\u001b[0m \u001b[1;36m0\u001b[0m\u001b[1;33m:\u001b[0m\u001b[1;33m\u001b[0m\u001b[1;33m\u001b[0m\u001b[0m\n",
      "\u001b[1;32mC:\\ProgramData\\Anaconda3\\lib\\site-packages\\torch\\tensor.py\u001b[0m in \u001b[0;36mbackward\u001b[1;34m(self, gradient, retain_graph, create_graph)\u001b[0m\n\u001b[0;32m    105\u001b[0m                 \u001b[0mproducts\u001b[0m\u001b[1;33m.\u001b[0m \u001b[0mDefaults\u001b[0m \u001b[0mto\u001b[0m\u001b[0;31m \u001b[0m\u001b[0;31m`\u001b[0m\u001b[0;31m`\u001b[0m\u001b[1;32mFalse\u001b[0m\u001b[0;31m`\u001b[0m\u001b[0;31m`\u001b[0m\u001b[1;33m.\u001b[0m\u001b[1;33m\u001b[0m\u001b[1;33m\u001b[0m\u001b[0m\n\u001b[0;32m    106\u001b[0m         \"\"\"\n\u001b[1;32m--> 107\u001b[1;33m         \u001b[0mtorch\u001b[0m\u001b[1;33m.\u001b[0m\u001b[0mautograd\u001b[0m\u001b[1;33m.\u001b[0m\u001b[0mbackward\u001b[0m\u001b[1;33m(\u001b[0m\u001b[0mself\u001b[0m\u001b[1;33m,\u001b[0m \u001b[0mgradient\u001b[0m\u001b[1;33m,\u001b[0m \u001b[0mretain_graph\u001b[0m\u001b[1;33m,\u001b[0m \u001b[0mcreate_graph\u001b[0m\u001b[1;33m)\u001b[0m\u001b[1;33m\u001b[0m\u001b[1;33m\u001b[0m\u001b[0m\n\u001b[0m\u001b[0;32m    108\u001b[0m \u001b[1;33m\u001b[0m\u001b[0m\n\u001b[0;32m    109\u001b[0m     \u001b[1;32mdef\u001b[0m \u001b[0mregister_hook\u001b[0m\u001b[1;33m(\u001b[0m\u001b[0mself\u001b[0m\u001b[1;33m,\u001b[0m \u001b[0mhook\u001b[0m\u001b[1;33m)\u001b[0m\u001b[1;33m:\u001b[0m\u001b[1;33m\u001b[0m\u001b[1;33m\u001b[0m\u001b[0m\n",
      "\u001b[1;32mC:\\ProgramData\\Anaconda3\\lib\\site-packages\\torch\\autograd\\__init__.py\u001b[0m in \u001b[0;36mbackward\u001b[1;34m(tensors, grad_tensors, retain_graph, create_graph, grad_variables)\u001b[0m\n\u001b[0;32m     91\u001b[0m     Variable._execution_engine.run_backward(\n\u001b[0;32m     92\u001b[0m         \u001b[0mtensors\u001b[0m\u001b[1;33m,\u001b[0m \u001b[0mgrad_tensors\u001b[0m\u001b[1;33m,\u001b[0m \u001b[0mretain_graph\u001b[0m\u001b[1;33m,\u001b[0m \u001b[0mcreate_graph\u001b[0m\u001b[1;33m,\u001b[0m\u001b[1;33m\u001b[0m\u001b[1;33m\u001b[0m\u001b[0m\n\u001b[1;32m---> 93\u001b[1;33m         allow_unreachable=True)  # allow_unreachable flag\n\u001b[0m\u001b[0;32m     94\u001b[0m \u001b[1;33m\u001b[0m\u001b[0m\n\u001b[0;32m     95\u001b[0m \u001b[1;33m\u001b[0m\u001b[0m\n",
      "\u001b[1;31mKeyboardInterrupt\u001b[0m: "
     ]
    }
   ],
   "source": [
    "import sys\n",
    "sys.path.append(\"../figures\")\n",
    "\n",
    "from robust_what import WhatShift, WhatBackground, WhatNet, WhatTrainer, What, train, test, MNIST\n",
    "\n",
    "from main import init\n",
    "args = init(filename='../data/2019-06-12')\n",
    "\n",
    "args.epochs = 2\n",
    "args.save_model = True\n",
    "\n",
    "\n",
    "args.what_offset_std = 5\n",
    "what = What(args=args, force= True)"
   ]
  },
  {
   "cell_type": "code",
   "execution_count": null,
   "metadata": {},
   "outputs": [],
   "source": []
  },
  {
   "cell_type": "markdown",
   "metadata": {},
   "source": [
    "\n",
    "## Accuracy de MNIST_cnn_robust_what_0.1_0.1_1_0.7_60epoques.pt"
   ]
  },
  {
   "cell_type": "code",
   "execution_count": 18,
   "metadata": {},
   "outputs": [
    {
     "name": "stdout",
     "output_type": "stream",
     "text": [
      "\n",
      "Test set: Average loss: 0.0043, Accuracy: 8985/10000 (90%)\n",
      "\n"
     ]
    }
   ],
   "source": [
    "# model = torch.load(\"../data/MNIST_cnn_robust_what_0.1_0.1_1_0.7.pt\")\n",
    "model = torch.load(\"../data/MNIST_cnn_robust_what_0.1_0.1_1_0.7_60epoques.pt\")\n",
    "transform = transforms.Compose([\n",
    "    WhatShift(args, i_offset=None, j_offset=None),\n",
    "    WhatBackground(),\n",
    "    transforms.ToTensor(),\n",
    "    # transforms.Normalize((args.mean,), (args.std,))\n",
    "])\n",
    "dataset_test = MNIST('../data',\n",
    "                              train=False,\n",
    "                              download=True,\n",
    "                              transform=transform,\n",
    "                              )\n",
    "test_loader = torch.utils.data.DataLoader(dataset_test,\n",
    "                                          batch_size=args.minibatch_size,\n",
    "                                          shuffle=True)\n",
    "whatTrainer = WhatTrainer(args, model=model, test_loader=test_loader)\n",
    "acc = whatTrainer.test()"
   ]
  },
  {
   "cell_type": "markdown",
   "metadata": {},
   "source": [
    "## Accuracy Maps de MNIST_cnn_robust_what_0.1_0.1_1_0.7_60epoques.pt"
   ]
  },
  {
   "cell_type": "code",
   "execution_count": 22,
   "metadata": {},
   "outputs": [
    {
     "data": {
      "text/plain": [
       "<matplotlib.image.AxesImage at 0xbd88240>"
      ]
     },
     "execution_count": 22,
     "metadata": {},
     "output_type": "execute_result"
    },
    {
     "data": {
      "image/png": "[encoded data removed]",
      "text/plain": [
       "<Figure size 432x288 with 1 Axes>"
      ]
     },
     "metadata": {
      "needs_background": "light"
     },
     "output_type": "display_data"
    }
   ],
   "source": [
    "pathAccuracyMapTxt = '../dev/AccuracyMap_MNIST_cnn_robust_what_0.1_0.1_1_0.7_60epoques_2019-06-12_16h11.txt'\n",
    "\n",
    "file = np.loadtxt(pathAccuracyMapTxt, max_rows=53)\n",
    "plt.imshow(file)"
   ]
  },
  {
   "cell_type": "code",
   "execution_count": null,
   "metadata": {},
   "outputs": [],
   "source": [
    "## ouverture du txt et enregistrement en format numpay array .npy"
   ]
  },
  {
   "cell_type": "code",
   "execution_count": 37,
   "metadata": {},
   "outputs": [],
   "source": [
    "if True :\n",
    "    pathDuFichierTxt = '../dev/'\n",
    "    nomDuFichierTxt = 'AccuracyMap_MNIST_cnn_robust_what_0.1_0.1_1_0.7_60epoques_2019-06-12_16h11.txt'\n",
    "    nouveauNom = nomDuFichierTxt[0:-4] + \".npy\"\n",
    "\n",
    "\n",
    "    file = np.loadtxt(pathDuFichierTxt + nomDuFichierTxt, max_rows=53)\n",
    "\n",
    "\n",
    "    np.save(nouveauNom, file)\n"
   ]
  },
  {
   "cell_type": "code",
   "execution_count": null,
   "metadata": {},
   "outputs": [],
   "source": [
    "## affichage du numpy array"
   ]
  },
  {
   "cell_type": "code",
   "execution_count": 39,
   "metadata": {},
   "outputs": [
    {
     "data": {
      "image/png": "[encoded data removed]",
      "text/plain": [
       "<Figure size 432x288 with 1 Axes>"
      ]
     },
     "metadata": {
      "needs_background": "light"
     },
     "output_type": "display_data"
    }
   ],
   "source": [
    "if True :\n",
    "    AccuracyMap = np.load(nouveauNom)\n",
    "\n",
    "    plt.imshow(AccuracyMap)"
   ]
  },
  {
   "cell_type": "markdown",
   "metadata": {},
   "source": [
    "## Accuracy de MNIST_cnn_robust_what_0.1_0.1_1_0.7_60epoques_2019-06-13_10h47.pt"
   ]
  },
  {
   "cell_type": "code",
   "execution_count": 11,
   "metadata": {},
   "outputs": [
    {
     "name": "stdout",
     "output_type": "stream",
     "text": [
      "\n",
      "Test set: Average loss: 0.0230, Accuracy: 1135/10000 (11%)\n",
      "\n"
     ]
    }
   ],
   "source": [
    "model = torch.load(\"../data/MNIST_cnn_robust_what_0.1_0.1_1_0.7_60epoques_2019-06-13_10h47.pt\")\n",
    "transform = transforms.Compose([\n",
    "    WhatShift(args, i_offset=None, j_offset=None),\n",
    "    WhatBackground(),\n",
    "    transforms.ToTensor(),\n",
    "    # transforms.Normalize((args.mean,), (args.std,))\n",
    "])\n",
    "dataset_test = MNIST('../data',\n",
    "                              train=False,\n",
    "                              download=True,\n",
    "                              transform=transform,\n",
    "                              )\n",
    "test_loader = torch.utils.data.DataLoader(dataset_test,\n",
    "                                          batch_size=args.minibatch_size,\n",
    "                                          shuffle=True)\n",
    "whatTrainer = WhatTrainer(args, model=model, test_loader=test_loader)\n",
    "acc = whatTrainer.test()"
   ]
  },
  {
   "cell_type": "markdown",
   "metadata": {},
   "source": [
    "## Essais Ligne posteriorTest() sur MNIST_cnn_robust_what_0.1_0.1_1_0.7_60epoques.pt"
   ]
  },
  {
   "cell_type": "code",
   "execution_count": 3,
   "metadata": {
    "scrolled": true
   },
   "outputs": [
    {
     "name": "stdout",
     "output_type": "stream",
     "text": [
      "\n",
      "Test set: Max posterior average: 0.9722, Accuracy: 0.9465\n",
      "\n",
      "Avancement :  0.0 %\n",
      "\n",
      "Test set: Max posterior average: 0.9714, Accuracy: 0.9447\n",
      "\n",
      "Avancement :  33.33 %\n",
      "\n",
      "Test set: Max posterior average: 0.9710, Accuracy: 0.9394\n",
      "\n",
      "Avancement :  66.66 %\n"
     ]
    }
   ],
   "source": [
    "import torch\n",
    "from torchvision import datasets, transforms\n",
    "import sys\n",
    "sys.path.append(\"../figures\")\n",
    "from robust_what import WhatShift, WhatBackground, WhatNet, WhatTrainer, What, train, test, MNIST\n",
    "import datetime\n",
    "from main import init\n",
    "args = init(filename='../data/2019-06-12')\n",
    "args\n",
    "\n",
    "\n",
    "debut = datetime.datetime.now()\n",
    "date = str(debut)\n",
    "\n",
    "reseau = \"MNIST_cnn_robust_what_0.1_0.1_1_0.7_60epoques.pt\"\n",
    "borne = 1\n",
    "\n",
    "\n",
    "f = open('AccuracyMap_{}_{}_{}h{}.txt'.format(reseau[0:-3], date[0:10], date[11:13], date[14:16]), \"w+\")\n",
    "compteur = 0\n",
    "\n",
    "ligne_test_posterior = ''\n",
    "ligne_correct = ''\n",
    "\n",
    "model = torch.load(\"../data/\"+ reseau)\n",
    "accuracy_map = torch.zeros(55,55)\n",
    "for i_offset in range(-borne, borne + 1):\n",
    "    transform = transforms.Compose([\n",
    "        WhatShift(args, i_offset=i_offset, j_offset=0),\n",
    "        WhatBackground(),\n",
    "        transforms.ToTensor(),\n",
    "        # transforms.Normalize((args.mean,), (args.std,))\n",
    "    ])\n",
    "    dataset_test = MNIST('../data',\n",
    "                                  train=False,\n",
    "                                  download=True,\n",
    "                                  transform=transform,\n",
    "                                  )\n",
    "    test_loader = torch.utils.data.DataLoader(dataset_test,\n",
    "                                              batch_size=args.minibatch_size,\n",
    "                                              shuffle=True)\n",
    "    whatTrainer = WhatTrainer(args, model=model, test_loader=test_loader)\n",
    "    test_posterior, correct = whatTrainer.posteriorTest()\n",
    "\n",
    "    print(\"Avancement : \", float(int((compteur/(2*borne+1)*100)*100))/100, \"%\")\n",
    "    compteur += 1\n",
    "    # print(acc)\n",
    "    # accuracy_map[26-i_offset][26-j_offset] = acc\n",
    "    \n",
    "    ligne_test_posterior += str(int(test_posterior*10000)/10000) + \" \"\n",
    "    ligne_correct += str(correct) + \" \"\n",
    "    \n",
    "f.write(ligne_test_posterior +\"\\n\"+ ligne_correct)\n",
    "f.write(\"\\n1ere ligne : ligne_test_posterior; 2eme ligne : ligne_correct\")\n",
    "\n",
    "\n",
    "fin = datetime.datetime.now()\n",
    "\n",
    "f.write(\"\\nDuree d'execution : \" + str(fin-debut))\n",
    "\n",
    "f.close()\n"
   ]
  },
  {
   "cell_type": "markdown",
   "metadata": {},
   "source": [
    "## AccuracyLign_MNIST_cnn_robust_what_0.1_0.1_1_0.7_60epoques_2019-06-13_13h07.txt"
   ]
  },
  {
   "cell_type": "code",
   "execution_count": 45,
   "metadata": {},
   "outputs": [
    {
     "data": {
      "text/plain": [
       "<matplotlib.legend.Legend at 0xbed3dd8>"
      ]
     },
     "execution_count": 45,
     "metadata": {},
     "output_type": "execute_result"
    },
    {
     "data": {
      "image/png": "[encoded data removed]",
      "text/plain": [
       "<Figure size 432x288 with 1 Axes>"
      ]
     },
     "metadata": {
      "needs_background": "light"
     },
     "output_type": "display_data"
    }
   ],
   "source": [
    "\n",
    "pathAccuracyMapTxt = '../dev/AccuracyLign_MNIST_cnn_robust_what_0.1_0.1_1_0.7_60epoques_2019-06-13_13h07.txt'\n",
    "\n",
    "file = np.loadtxt(pathAccuracyMapTxt, max_rows=2)\n",
    "plt.plot(file.T)\n",
    "plt.legend(['test_posterior', 'correct'])"
   ]
  },
  {
   "cell_type": "code",
   "execution_count": null,
   "metadata": {},
   "outputs": [],
   "source": []
  },
  {
   "cell_type": "code",
   "execution_count": 41,
   "metadata": {},
   "outputs": [],
   "source": [
    "data, label = next(iter(train_loader))\n",
    "# print(data)\n",
    "# print(data.shape)"
   ]
  },
  {
   "cell_type": "code",
   "execution_count": 43,
   "metadata": {},
   "outputs": [
    {
     "data": {
      "text/plain": [
       "Text(0.5, 1.0, 'label : 9')"
      ]
     },
     "execution_count": 43,
     "metadata": {},
     "output_type": "execute_result"
    },
    {
     "data": {
      "image/png": "[encoded data removed]",
      "text/plain": [
       "<Figure size 432x288 with 1 Axes>"
      ]
     },
     "metadata": {
      "needs_background": "light"
     },
     "output_type": "display_data"
    }
   ],
   "source": [
    "k=39\n",
    "plt.imshow(data[k,:,:].detach().numpy().reshape((28, 28)))\n",
    "plt.title('label : '+str(label[k].item()))"
   ]
  },
  {
   "cell_type": "code",
   "execution_count": null,
   "metadata": {},
   "outputs": [],
   "source": []
  },
  {
   "cell_type": "code",
   "execution_count": null,
   "metadata": {},
   "outputs": [
    {
     "name": "stdout",
     "output_type": "stream",
     "text": [
      "fichier de parametres utilise : 2019-06-12_param\n",
      "\n",
      "\n",
      "Pour std = 0.0 :\n",
      "\n",
      "Train Epoch: 1/1 [0/60000 (0%)]\tLoss: 2.323626\n",
      "Train Epoch: 1/1 [10000/60000 (17%)]\tLoss: 1.384019\n",
      "Train Epoch: 1/1 [20000/60000 (33%)]\tLoss: 1.034799\n",
      "Train Epoch: 1/1 [30000/60000 (50%)]\tLoss: 0.794889\n",
      "Train Epoch: 1/1 [40000/60000 (67%)]\tLoss: 0.717319\n",
      "Train Epoch: 1/1 [50000/60000 (83%)]\tLoss: 0.639454\n",
      "\n",
      "Test set: Average loss: 0.0069, Accuracy: 7704/10000 (77%)\n",
      "\n",
      "../data/MNIST_cnn_robust_what_0.1_0.1_1.0_0.7_1epoques_2019-06-14_10h27.pt\n",
      "\n",
      "\n",
      "Train Epoch: 1/1 [0/60000 (0%)]\tLoss: 2.299475\n",
      "Train Epoch: 1/1 [10000/60000 (17%)]\tLoss: 0.820568\n",
      "Train Epoch: 1/1 [20000/60000 (33%)]\tLoss: 0.654663\n",
      "Train Epoch: 1/1 [30000/60000 (50%)]\tLoss: 0.387473\n",
      "Train Epoch: 1/1 [40000/60000 (67%)]\tLoss: 0.547664\n",
      "Train Epoch: 1/1 [50000/60000 (83%)]\tLoss: 0.231088\n",
      "\n",
      "Test set: Average loss: 0.0027, Accuracy: 9176/10000 (92%)\n",
      "\n",
      "../data/MNIST_cnn_robust_what_0.1_0.1_1.0_0.7_1epoques_2019-06-14_10h27.pt\n",
      "\n",
      "\n",
      "Train Epoch: 1/1 [0/60000 (0%)]\tLoss: 2.297233\n",
      "Train Epoch: 1/1 [10000/60000 (17%)]\tLoss: 0.971810\n",
      "Train Epoch: 1/1 [20000/60000 (33%)]\tLoss: 0.641924\n",
      "Train Epoch: 1/1 [30000/60000 (50%)]\tLoss: 0.687139\n"
     ]
    }
   ],
   "source": [
    "import sys\n",
    "import datetime\n",
    "sys.path.append(\"../figures\")\n",
    "from robust_what import WhatShift, WhatBackground, WhatNet, WhatTrainer, What, train, test, MNIST\n",
    "from main import init\n",
    "args = init(filename='../data/2019-06-12')\n",
    "\n",
    "args.epochs = 1\n",
    "args.save_model = False\n",
    "\n",
    "debut = datetime.datetime.now()\n",
    "date = str(debut)\n",
    "\n",
    "#f = open('5tentativesParStd_{}_{}h{}.txt'.format(date[0:10], date[11:13], date[14:16]), \"w+\")\n",
    "\n",
    "liste_std = [i/2 for i in range(0,11)]\n",
    "\n",
    "#f.write(\"fichier de parametres utilise : 2019-06-12_param\\n\\n\")\n",
    "print(\"fichier de parametres utilise : 2019-06-12_param\\n\\n\")\n",
    "\n",
    "for std in liste_std :\n",
    "    # f.write(\"Pour std = \" + str(std) + \"\\n\")\n",
    "    print(\"Pour std = \" + str(std) + \" :\\n\")\n",
    "    for i in range(5):\n",
    "        args.what_offset_std = std\n",
    "        what = What(args=args, force=True, seed=i)\n",
    "        print(\"\\n\")\n",
    "\n",
    "\n",
    "fin = datetime.datetime.now()\n",
    "print(\"\\n\\nDuree d'execution : \"+str(fin-debut))"
   ]
  },
  {
   "cell_type": "code",
   "execution_count": null,
   "metadata": {},
   "outputs": [],
   "source": []
  }
 ],
 "metadata": {
  "kernelspec": {
   "display_name": "Python 3",
   "language": "python",
   "name": "python3"
  },
  "language_info": {
   "codemirror_mode": {
    "name": "ipython",
    "version": 3
   },
   "file_extension": ".py",
   "mimetype": "text/x-python",
   "name": "python",
   "nbconvert_exporter": "python",
   "pygments_lexer": "ipython3",
   "version": "3.7.3"
  }
 },
 "nbformat": 4,
 "nbformat_minor": 2
}
