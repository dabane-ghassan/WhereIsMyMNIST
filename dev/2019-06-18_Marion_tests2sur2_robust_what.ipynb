{
 "cells": [
  {
   "cell_type": "code",
   "execution_count": 2,
   "metadata": {},
   "outputs": [],
   "source": [
    "import numpy as np\n",
    "import torch\n",
    "import torch.nn as nn\n",
    "import torch.nn.functional as F\n",
    "import torch.optim as optim\n",
    "from torchvision import datasets, transforms"
   ]
  },
  {
   "cell_type": "code",
   "execution_count": 3,
   "metadata": {},
   "outputs": [],
   "source": [
    "import matplotlib.pyplot as plt"
   ]
  },
  {
   "cell_type": "code",
   "execution_count": 4,
   "metadata": {},
   "outputs": [],
   "source": [
    "from PIL import Image"
   ]
  },
  {
   "cell_type": "code",
   "execution_count": 5,
   "metadata": {},
   "outputs": [],
   "source": [
    "import sys\n",
    "sys.path.append(\"../figures\")\n",
    "\n",
    "from robust_what import WhatShift, WhatBackground, WhatNet, WhatTrainer, What, train, test, MNIST"
   ]
  },
  {
   "cell_type": "code",
   "execution_count": 6,
   "metadata": {},
   "outputs": [
    {
     "data": {
      "text/plain": [
       "{'w': 28,\n",
       " 'minibatch_size': 100,\n",
       " 'train_batch_size': 50000,\n",
       " 'test_batch_size': 10000,\n",
       " 'noise_batch_size': 1000,\n",
       " 'mean': 0.1307,\n",
       " 'std': 0.3081,\n",
       " 'N_pic': 128,\n",
       " 'offset_std': 30,\n",
       " 'offset_max': 34,\n",
       " 'noise': 1.0,\n",
       " 'contrast': 0.7,\n",
       " 'sf_0': 0.1,\n",
       " 'B_sf': 0.1,\n",
       " 'N_theta': 6,\n",
       " 'N_azimuth': 24,\n",
       " 'N_eccentricity': 10,\n",
       " 'N_phase': 2,\n",
       " 'rho': 1.41,\n",
       " 'bias_deconv': True,\n",
       " 'p_dropout': 0.0,\n",
       " 'dim1': 1000,\n",
       " 'dim2': 1000,\n",
       " 'lr': 0.005,\n",
       " 'do_adam': True,\n",
       " 'bn1_bn_momentum': 0.5,\n",
       " 'bn2_bn_momentum': 0.5,\n",
       " 'momentum': 0.3,\n",
       " 'epochs': 60,\n",
       " 'num_processes': 1,\n",
       " 'no_cuda': True,\n",
       " 'log_interval': 100,\n",
       " 'verbose': 1,\n",
       " 'filename': '../data/2019-06-05',\n",
       " 'seed': 2019,\n",
       " 'N_cv': 10,\n",
       " 'do_compute': True,\n",
       " 'what_offset_std': 5.0,\n",
       " 'what_offset_max': 15}"
      ]
     },
     "execution_count": 6,
     "metadata": {},
     "output_type": "execute_result"
    }
   ],
   "source": [
    "from main import init\n",
    "args = init(filename='../data/2019-06-12')\n",
    "args"
   ]
  },
  {
   "cell_type": "markdown",
   "metadata": {},
   "source": [
    "## Unit tests"
   ]
  },
  {
   "cell_type": "code",
   "execution_count": 6,
   "metadata": {},
   "outputs": [],
   "source": [
    "transform=transforms.Compose([\n",
    "                               WhatShift(args, i_offset=None, j_offset=None),\n",
    "                               WhatBackground(),\n",
    "                               transforms.ToTensor(),\n",
    "                               #transforms.Normalize((args.mean,), (args.std,))\n",
    "                           ])"
   ]
  },
  {
   "cell_type": "code",
   "execution_count": 7,
   "metadata": {},
   "outputs": [],
   "source": [
    "dataset_train = MNIST('../data',\n",
    "                        train=True,\n",
    "                        download=True,\n",
    "                        transform=transform,\n",
    "                        )"
   ]
  },
  {
   "cell_type": "code",
   "execution_count": 8,
   "metadata": {},
   "outputs": [],
   "source": [
    "train_loader = torch.utils.data.DataLoader(dataset_train,\n",
    "                                         batch_size=args.minibatch_size,\n",
    "                                         shuffle=True)"
   ]
  },
  {
   "cell_type": "code",
   "execution_count": 9,
   "metadata": {},
   "outputs": [],
   "source": [
    "dataset_test = MNIST('../data',\n",
    "                        train=False,\n",
    "                        download=True,\n",
    "                        transform=transform,\n",
    "                        )"
   ]
  },
  {
   "cell_type": "code",
   "execution_count": 10,
   "metadata": {},
   "outputs": [],
   "source": [
    "test_loader = torch.utils.data.DataLoader(dataset_test,\n",
    "                                         batch_size=args.minibatch_size,\n",
    "                                         shuffle=True)"
   ]
  },
  {
   "cell_type": "code",
   "execution_count": 11,
   "metadata": {},
   "outputs": [],
   "source": [
    "data, label = next(iter(test_loader))"
   ]
  },
  {
   "cell_type": "code",
   "execution_count": 12,
   "metadata": {},
   "outputs": [
    {
     "data": {
      "text/plain": [
       "torch.Size([100])"
      ]
     },
     "execution_count": 12,
     "metadata": {},
     "output_type": "execute_result"
    }
   ],
   "source": [
    "label.shape"
   ]
  },
  {
   "cell_type": "code",
   "execution_count": 13,
   "metadata": {},
   "outputs": [
    {
     "data": {
      "text/plain": [
       "Text(0.5, 1.0, 'label : 5')"
      ]
     },
     "execution_count": 13,
     "metadata": {},
     "output_type": "execute_result"
    },
    {
     "data": {
      "image/png": "[encoded data removed]",
      "text/plain": [
       "<Figure size 432x288 with 1 Axes>"
      ]
     },
     "metadata": {
      "needs_background": "light"
     },
     "output_type": "display_data"
    }
   ],
   "source": [
    "i = 3\n",
    "plt.imshow(data[i,:,:].detach().numpy().reshape((28, 28)))\n",
    "plt.title('label : '+str(label[i].item()))"
   ]
  },
  {
   "cell_type": "code",
   "execution_count": 14,
   "metadata": {},
   "outputs": [],
   "source": [
    "device = 'cpu'\n",
    "model = WhatNet(args).to(device)\n",
    "loss_func = F.nll_loss\n",
    "optimizer = optim.Adam(model.parameters(), lr = 1e-3)"
   ]
  },
  {
   "cell_type": "code",
   "execution_count": 15,
   "metadata": {},
   "outputs": [],
   "source": [
    "if False:\n",
    "    for epoch in range(1, args.epochs + 1):\n",
    "        train(args, model, device, train_loader, loss_func, optimizer, epoch)\n",
    "        test(args, model, device, test_loader)"
   ]
  },
  {
   "cell_type": "markdown",
   "metadata": {},
   "source": [
    "## What class test"
   ]
  },
  {
   "cell_type": "code",
   "execution_count": 16,
   "metadata": {},
   "outputs": [],
   "source": [
    "if False :\n",
    "    import sys\n",
    "    sys.path.append(\"../figures\")\n",
    "\n",
    "    from robust_what import WhatShift, WhatBackground, WhatNet, WhatTrainer, What, train, test, MNIST\n",
    "\n",
    "    from main import init\n",
    "    args = init(filename='../data/2019-06-12')\n",
    "\n",
    "    args.epochs = 2\n",
    "    args.save_model = False\n",
    "\n",
    "    args.do_adam = False\n",
    "    args.what_offset_std = 2.0\n",
    "    what = What(args=args, force= True)"
   ]
  },
  {
   "cell_type": "markdown",
   "metadata": {},
   "source": [
    "## Correction test_loader calcul accuracy"
   ]
  },
  {
   "cell_type": "code",
   "execution_count": 17,
   "metadata": {},
   "outputs": [],
   "source": [
    "if False :\n",
    "    \n",
    "    import sys\n",
    "    sys.path.append(\"../figures\")\n",
    "\n",
    "    import torch\n",
    "    from torchvision import transforms\n",
    "\n",
    "    from robust_what import WhatShift, WhatBackground, WhatNet, WhatTrainer, What, train, test, MNIST\n",
    "\n",
    "    from main import init\n",
    "    args = init(filename='../data/2019-06-12')\n",
    "\n",
    "    args.epochs = 3\n",
    "    args.save_model = True\n",
    "\n",
    "    args.lr = 1\n",
    "    args.do_adam = 'adadelta'\n",
    "\n",
    "    args.what_offset_std = 3.0\n",
    "    what = What(args=args, force=False)\n",
    "\n",
    "\n",
    "\n",
    "\n",
    "    model = what.model\n",
    "    transform = transforms.Compose([\n",
    "        WhatShift(args),\n",
    "        WhatBackground(contrast=args.contrast, noise=args.noise, sf_0=args.sf_0, B_sf=args.B_sf, seed=args.seed),\n",
    "        transforms.ToTensor(),\n",
    "        transforms.Normalize((args.mean,), (args.std,))\n",
    "    ])\n",
    "    dataset_test = MNIST('../data',\n",
    "                                  train=False,\n",
    "                                  download=True,\n",
    "                                  transform=transform,\n",
    "                                  )\n",
    "    test_loader = torch.utils.data.DataLoader(dataset_test,\n",
    "                                              batch_size=args.minibatch_size,\n",
    "                                              shuffle=True)\n",
    "    \n",
    "    print(\"test_loader\")\n",
    "    whatTrainer = WhatTrainer(args, model=model, test_loader=test_loader)\n",
    "    acc = whatTrainer.test()\n",
    "    print(\"what.test_loader\")\n",
    "    whatTrainer = WhatTrainer(args, model=model, test_loader=what.trainer.test_loader)\n",
    "    acc = whatTrainer.test()"
   ]
  },
  {
   "cell_type": "code",
   "execution_count": 18,
   "metadata": {},
   "outputs": [],
   "source": [
    "if False :\n",
    "    \n",
    "    data, label = next(iter(test_loader))\n",
    "\n",
    "    i = 3\n",
    "    plt.imshow(data[i,:,:].detach().numpy().reshape((28, 28)))\n",
    "    plt.title('label : '+str(label[i].item()))\n",
    "\n",
    "    plt.plot(data[i,:,:].detach().numpy().flatten())\n",
    "\n",
    "\n",
    "    data, label = next(iter(what.trainer.test_loader))\n",
    "\n",
    "    i = 3\n",
    "    plt.imshow(data[i,:,:].detach().numpy().reshape((28, 28)))\n",
    "    plt.title('label : '+str(label[i].item()))\n",
    "\n",
    "    plt.plot(data[i,:,:].detach().numpy().flatten())"
   ]
  },
  {
   "cell_type": "markdown",
   "metadata": {},
   "source": [
    "## MNIST_cnn_robust_what_0.1_0.1_1.0_0.7_5epoques_2019-06-17_16h55.pt"
   ]
  },
  {
   "cell_type": "markdown",
   "metadata": {},
   "source": [
    "Réseau entrainé avec std croissants \n",
    "\n",
    "liste_std = [i + 0.5 for i in range(0, 11)] args.do_adam = 'adam' et seed incrémenté entre chaque std différent"
   ]
  },
  {
   "cell_type": "markdown",
   "metadata": {},
   "source": [
    "### Script entraînement de MNIST_cnn_robust_what_0.1_0.1_1.0_0.7_5epoques_2019-06-17_16h55.pt"
   ]
  },
  {
   "cell_type": "code",
   "execution_count": null,
   "metadata": {},
   "outputs": [],
   "source": [
    "if False :\n",
    "    import sys\n",
    "    import datetime\n",
    "\n",
    "    sys.path.append(\"../figures\")\n",
    "    from robust_what import WhatShift, WhatBackground, WhatNet, WhatTrainer, What, train, test, MNIST\n",
    "    from main import init\n",
    "\n",
    "    args = init(filename='../data/2019-06-12')\n",
    "\n",
    "    args.epochs = 5  # 10 plus tard\n",
    "    args.save_model = True\n",
    "\n",
    "    debut = datetime.datetime.now()\n",
    "    date = str(debut)\n",
    "\n",
    "    liste_std = [i + 0.5 for i in range(0, 11)]  # pas de 1 de std en partant de 0.5 (essai)\n",
    "\n",
    "    args.do_adam = 'adam'\n",
    "    args.what_offset_std = liste_std[0]\n",
    "    print(\"En cours : std = 0.5\\n\")\n",
    "    what = What(args, force=True, seed=0)\n",
    "\n",
    "    seed = 1\n",
    "    for std in liste_std[1:]:\n",
    "        print(\"En cours : std = \" + str(std) + \"\\n\")\n",
    "\n",
    "        args.what_offset_std = std\n",
    "        what_model = what.model\n",
    "        what = What(args, model=what_model, force=True, seed=seed)\n",
    "        seed += 1\n",
    "        print(\"\\n\")\n",
    "\n",
    "    fin = datetime.datetime.now()\n",
    "    print(\"\\n\\nDuree d'execution : \" + str(fin - debut))"
   ]
  },
  {
   "cell_type": "markdown",
   "metadata": {},
   "source": [
    "### Accuracy de MNIST_cnn_robust_what_0.1_0.1_1.0_0.7_5epoques_2019-06-17_16h55.pt"
   ]
  },
  {
   "cell_type": "code",
   "execution_count": 19,
   "metadata": {},
   "outputs": [
    {
     "name": "stdout",
     "output_type": "stream",
     "text": [
      "\n",
      "Test set: Average loss: 0.0065, Accuracy: 8126/10000 (81%)\n",
      "\n"
     ]
    }
   ],
   "source": [
    "model = torch.load(\"../data/MNIST_cnn_robust_what_0.1_0.1_1.0_0.7_5epoques_2019-06-17_16h55.pt\")\n",
    "transform = transforms.Compose([\n",
    "    WhatShift(args),\n",
    "    WhatBackground(contrast=args.contrast, noise=args.noise, sf_0=args.sf_0, B_sf=args.B_sf, seed=args.seed),\n",
    "    transforms.ToTensor(),\n",
    "    transforms.Normalize((args.mean,), (args.std,))\n",
    "])\n",
    "dataset_test = MNIST('../data',\n",
    "                              train=False,\n",
    "                              download=True,\n",
    "                              transform=transform,\n",
    "                              )\n",
    "test_loader = torch.utils.data.DataLoader(dataset_test,\n",
    "                                          batch_size=args.minibatch_size,\n",
    "                                          shuffle=True)\n",
    "\n",
    "\n",
    "if True :\n",
    "    whatTrainer = WhatTrainer(args, model=model, test_loader=test_loader)\n",
    "    acc = whatTrainer.test()"
   ]
  },
  {
   "cell_type": "markdown",
   "metadata": {},
   "source": [
    "(Ce test a déjà été fait tout en bas de 2019-06-11_Marion_tests2_robust_what)"
   ]
  },
  {
   "cell_type": "markdown",
   "metadata": {},
   "source": [
    "### Accuracy Map de MNIST_cnn_robust_what_0.1_0.1_1.0_0.7_5epoques_2019-06-17_16h55.pt"
   ]
  },
  {
   "cell_type": "code",
   "execution_count": 9,
   "metadata": {},
   "outputs": [
    {
     "name": "stdout",
     "output_type": "stream",
     "text": [
      "Le maximum d'accuracy est de  0.9127  au centre.\n"
     ]
    },
    {
     "data": {
      "text/plain": [
       "<matplotlib.image.AxesImage at 0xaa8d128>"
      ]
     },
     "execution_count": 9,
     "metadata": {},
     "output_type": "execute_result"
    },
    {
     "data": {
      "image/png": "[encoded data removed]",
      "text/plain": [
       "<Figure size 432x288 with 1 Axes>"
      ]
     },
     "metadata": {
      "needs_background": "light"
     },
     "output_type": "display_data"
    }
   ],
   "source": [
    "pathAccuracyMapTxt = '../dev/AccuracyMap_--MNIST_cnn_robust_what_0.1_0.1_1.0_0.7_5epoques_2019-06-17_16h55--_2019-06-18_17h06.txt'\n",
    "\n",
    "file = np.loadtxt(pathAccuracyMapTxt, max_rows=55)\n",
    "\n",
    "plt.xlabel(\"x\")\n",
    "plt.ylabel(\"y\")\n",
    "\n",
    "plt.xticks([i for i in range(7,55,10)], [i for i in range(-20,25,10)])\n",
    "plt.yticks([i for i in range(7,55,10)], [i for i in range(20,-25,-10)])\n",
    "\n",
    "plt.imshow(file)\n",
    "\n",
    "print(\"Le maximum d'accuracy est de \", np.amax(file), \" au centre.\")\n",
    "\n",
    "plt.imshow(file)"
   ]
  },
  {
   "cell_type": "markdown",
   "metadata": {},
   "source": [
    "### Acuracy Lign et Posterior test de MNIST_cnn_robust_what_0.1_0.1_1.0_0.7_5epoques_2019-06-17_16h55.pt"
   ]
  },
  {
   "cell_type": "code",
   "execution_count": 13,
   "metadata": {},
   "outputs": [
    {
     "data": {
      "text/plain": [
       "([<matplotlib.axis.XTick at 0xba8d588>,\n",
       "  <matplotlib.axis.XTick at 0xa499ef0>,\n",
       "  <matplotlib.axis.XTick at 0xa499550>,\n",
       "  <matplotlib.axis.XTick at 0xbab3710>,\n",
       "  <matplotlib.axis.XTick at 0xbab3be0>],\n",
       " <a list of 5 Text xticklabel objects>)"
      ]
     },
     "execution_count": 13,
     "metadata": {},
     "output_type": "execute_result"
    },
    {
     "data": {
      "image/png": "[encoded data removed]",
      "text/plain": [
       "<Figure size 432x288 with 1 Axes>"
      ]
     },
     "metadata": {
      "needs_background": "light"
     },
     "output_type": "display_data"
    }
   ],
   "source": [
    "pathAccuracyMapTxt = '../dev/AccuracyLign_--MNIST_cnn_robust_what_0.1_0.1_1.0_0.7_5epoques_2019-06-17_16h55--_2019-06-18_16h38.txt'\n",
    "\n",
    "file = np.loadtxt(pathAccuracyMapTxt, max_rows=2)\n",
    "plt.plot(file.T)\n",
    "plt.legend(['test_posterior', 'correct'])\n",
    "plt.xticks([i for i in range(7,55,10)], [i for i in range(-20,25,10)])"
   ]
  },
  {
   "cell_type": "markdown",
   "metadata": {},
   "source": [
    "## MNIST_cnn_robust_what_0.1_0.1_1.0_0.7_5epoques_2019-06-19_11h50.pt"
   ]
  },
  {
   "cell_type": "markdown",
   "metadata": {},
   "source": [
    "Réseau entrainé à std croisants.\n",
    "\n",
    "liste_std = [i for i in range(0, 16)] 5 epoques par std args.what_offset_max = 25 et args.do_adam = 'adam'"
   ]
  },
  {
   "cell_type": "markdown",
   "metadata": {},
   "source": [
    "### Script d'entraînement de MNIST_cnn_robust_what_0.1_0.1_1.0_0.7_5epoques_2019-06-19_11h50.pt"
   ]
  },
  {
   "cell_type": "code",
   "execution_count": null,
   "metadata": {},
   "outputs": [],
   "source": [
    "if False :\n",
    "    import sys\n",
    "    import datetime\n",
    "\n",
    "    sys.path.append(\"../figures\")\n",
    "    from robust_what import WhatShift, WhatBackground, WhatNet, WhatTrainer, What, train, test, MNIST\n",
    "    from main import init\n",
    "\n",
    "    args = init(filename='../data/2019-06-12')\n",
    "\n",
    "    args.epochs = 5  # 10 plus tard\n",
    "    args.save_model = True\n",
    "\n",
    "    debut = datetime.datetime.now()\n",
    "    date = str(debut)\n",
    "\n",
    "    liste_std = [i for i in range(0, 16)]  # pas de 1 de std\n",
    "\n",
    "    args.what_offset_max = 25\n",
    "    args.do_adam = 'adam'\n",
    "    args.what_offset_std = liste_std[0]\n",
    "    print(\"En cours : std = 0\\n\")\n",
    "    what = What(args, force=True, seed=0)\n",
    "\n",
    "    seed = 1\n",
    "    for std in liste_std[1:]:\n",
    "        print(\"En cours : std = \" + str(std) + \"\\n\")\n",
    "\n",
    "        args.what_offset_std = std\n",
    "        what_model = what.model\n",
    "        what = What(args, model=what_model, force=True, seed=seed)\n",
    "        seed += 1\n",
    "        print(\"\\n\")\n",
    "\n",
    "    fin = datetime.datetime.now()\n",
    "    print(\"\\n\\nDuree d'execution : \" + str(fin - debut))\n",
    "\n"
   ]
  },
  {
   "cell_type": "markdown",
   "metadata": {},
   "source": [
    "### Accuracy de MNIST_cnn_robust_what_0.1_0.1_1.0_0.7_5epoques_2019-06-19_11h50.pt"
   ]
  },
  {
   "cell_type": "code",
   "execution_count": 10,
   "metadata": {},
   "outputs": [
    {
     "name": "stdout",
     "output_type": "stream",
     "text": [
      "\n",
      "Test set: Average loss: 0.0082, Accuracy: 7935/10000 (79%)\n",
      "\n"
     ]
    }
   ],
   "source": [
    "model = torch.load(\"../data/MNIST_cnn_robust_what_0.1_0.1_1.0_0.7_5epoques_2019-06-19_11h50.pt\")\n",
    "transform = transforms.Compose([\n",
    "    WhatShift(args),\n",
    "    WhatBackground(contrast=args.contrast, noise=args.noise, sf_0=args.sf_0, B_sf=args.B_sf, seed=args.seed),\n",
    "    transforms.ToTensor(),\n",
    "    transforms.Normalize((args.mean,), (args.std,))\n",
    "])\n",
    "dataset_test = MNIST('../data',\n",
    "                              train=False,\n",
    "                              download=True,\n",
    "                              transform=transform,\n",
    "                              )\n",
    "test_loader = torch.utils.data.DataLoader(dataset_test,\n",
    "                                          batch_size=args.minibatch_size,\n",
    "                                          shuffle=True)\n",
    "\n",
    "\n",
    "if True :\n",
    "    whatTrainer = WhatTrainer(args, model=model, test_loader=test_loader)\n",
    "    acc = whatTrainer.test()"
   ]
  },
  {
   "cell_type": "markdown",
   "metadata": {},
   "source": [
    "### Accuracy Map de MNIST_cnn_robust_what_0.1_0.1_1.0_0.7_5epoques_2019-06-19_11h50.pt"
   ]
  },
  {
   "cell_type": "code",
   "execution_count": 8,
   "metadata": {},
   "outputs": [
    {
     "name": "stdout",
     "output_type": "stream",
     "text": [
      "Le maximum d'accuracy est de  0.8941  au centre.\n"
     ]
    },
    {
     "data": {
      "text/plain": [
       "<matplotlib.image.AxesImage at 0xa93ada0>"
      ]
     },
     "execution_count": 8,
     "metadata": {},
     "output_type": "execute_result"
    },
    {
     "data": {
      "image/png": "[encoded data removed]",
      "text/plain": [
       "<Figure size 432x288 with 1 Axes>"
      ]
     },
     "metadata": {
      "needs_background": "light"
     },
     "output_type": "display_data"
    }
   ],
   "source": [
    "pathAccuracyMapTxt = '../dev/AccuracyMap_--MNIST_cnn_robust_what_0.1_0.1_1.0_0.7_5epoques_2019-06-19_11h50--_2019-06-19_12h23.txt'\n",
    "\n",
    "file = np.loadtxt(pathAccuracyMapTxt, max_rows=55)\n",
    "\n",
    "plt.xlabel(\"x\")\n",
    "plt.ylabel(\"y\")\n",
    "\n",
    "plt.xticks([i for i in range(7,55,10)], [i for i in range(-20,25,10)])\n",
    "plt.yticks([i for i in range(7,55,10)], [i for i in range(20,-25,-10)])\n",
    "\n",
    "plt.imshow(file)\n",
    "\n",
    "print(\"Le maximum d'accuracy est de \", np.amax(file), \" au centre.\")\n",
    "\n",
    "plt.imshow(file)"
   ]
  },
  {
   "cell_type": "markdown",
   "metadata": {},
   "source": [
    "##### Transformation de l'Accuracy Map au format .npy sans la dernière ligne durée d'exécution "
   ]
  },
  {
   "cell_type": "code",
   "execution_count": 10,
   "metadata": {},
   "outputs": [],
   "source": [
    "if False :\n",
    "    pathDuFichierTxt = '../dev/'\n",
    "    nomDuFichierTxt = 'AccuracyMap_--MNIST_cnn_robust_what_0.1_0.1_1.0_0.7_5epoques_2019-06-19_11h50--_2019-06-19_12h23.txt'\n",
    "    nouveauNom = nomDuFichierTxt[0:-4] + \".npy\"\n",
    "\n",
    "    file = np.loadtxt(pathDuFichierTxt + nomDuFichierTxt, max_rows=55)\n",
    "\n",
    "    np.save(nouveauNom, file)"
   ]
  },
  {
   "cell_type": "code",
   "execution_count": 12,
   "metadata": {},
   "outputs": [],
   "source": [
    "if False :\n",
    "    AccuracyMap = np.load(nouveauNom)\n",
    "\n",
    "    plt.imshow(AccuracyMap)"
   ]
  },
  {
   "cell_type": "markdown",
   "metadata": {},
   "source": [
    "### Accuracy Lign de MNIST_cnn_robust_what_0.1_0.1_1.0_0.7_5epoques_2019-06-19_11h50.pt"
   ]
  },
  {
   "cell_type": "code",
   "execution_count": 13,
   "metadata": {},
   "outputs": [
    {
     "data": {
      "text/plain": [
       "([<matplotlib.axis.XTick at 0xc07b2b0>,\n",
       "  <matplotlib.axis.XTick at 0xab63358>,\n",
       "  <matplotlib.axis.XTick at 0xab63630>,\n",
       "  <matplotlib.axis.XTick at 0xc0a9160>,\n",
       "  <matplotlib.axis.XTick at 0xc0a95c0>],\n",
       " <a list of 5 Text xticklabel objects>)"
      ]
     },
     "execution_count": 13,
     "metadata": {},
     "output_type": "execute_result"
    },
    {
     "data": {
      "image/png": "[encoded data removed]",
      "text/plain": [
       "<Figure size 432x288 with 1 Axes>"
      ]
     },
     "metadata": {
      "needs_background": "light"
     },
     "output_type": "display_data"
    }
   ],
   "source": [
    "pathAccuracyMapTxt = '../dev/AccuracyLign_--MNIST_cnn_robust_what_0.1_0.1_1.0_0.7_5epoques_2019-06-19_11h50--_2019-06-19_12h24.txt'\n",
    "\n",
    "file = np.loadtxt(pathAccuracyMapTxt, max_rows=2)\n",
    "plt.plot(file.T)\n",
    "plt.legend(['test_posterior', 'correct'])\n",
    "plt.xticks([i for i in range(7,55,10)], [i for i in range(-20,25,10)])"
   ]
  },
  {
   "cell_type": "code",
   "execution_count": null,
   "metadata": {},
   "outputs": [],
   "source": []
  }
 ],
 "metadata": {
  "kernelspec": {
   "display_name": "Python 3",
   "language": "python",
   "name": "python3"
  },
  "language_info": {
   "codemirror_mode": {
    "name": "ipython",
    "version": 3
   },
   "file_extension": ".py",
   "mimetype": "text/x-python",
   "name": "python",
   "nbconvert_exporter": "python",
   "pygments_lexer": "ipython3",
   "version": "3.7.3"
  }
 },
 "nbformat": 4,
 "nbformat_minor": 2
}
