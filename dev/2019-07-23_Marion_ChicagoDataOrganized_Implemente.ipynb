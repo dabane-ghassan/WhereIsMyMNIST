{
 "cells": [
  {
   "cell_type": "markdown",
   "metadata": {},
   "source": [
    "## Imports"
   ]
  },
  {
   "cell_type": "code",
   "execution_count": 2,
   "metadata": {},
   "outputs": [],
   "source": [
    "import sys\n",
    "sys.path.append(\"../figures\")\n",
    "\n",
    "from where_chicago import WhereGrey, RetinaWhiten, TransformDico, ChicagoFacesDataset,  WhatGender, WhatGenderTrainer"
   ]
  },
  {
   "cell_type": "code",
   "execution_count": 3,
   "metadata": {},
   "outputs": [],
   "source": [
    "import torch\n",
    "from torchvision import transforms\n",
    "import numpy as np\n",
    "import matplotlib.pyplot as plt"
   ]
  },
  {
   "cell_type": "markdown",
   "metadata": {},
   "source": [
    "## Rétine"
   ]
  },
  {
   "cell_type": "code",
   "execution_count": 18,
   "metadata": {},
   "outputs": [
    {
     "data": {
      "text/plain": [
       "{'w': 28,\n",
       " 'minibatch_size': 10,\n",
       " 'train_batch_size': 1000,\n",
       " 'test_batch_size': 126,\n",
       " 'noise_batch_size': 1000,\n",
       " 'mean': 0.1307,\n",
       " 'std': 0.3081,\n",
       " 'N_pic': 1718,\n",
       " 'N_X': 1718,\n",
       " 'N_Y': 2444,\n",
       " 'offset_std': 30,\n",
       " 'offset_max': 34,\n",
       " 'noise': 0.75,\n",
       " 'contrast': 0.7,\n",
       " 'sf_0': 0.1,\n",
       " 'B_sf': 0.1,\n",
       " 'N_theta': 6,\n",
       " 'N_azimuth': 48,\n",
       " 'N_eccentricity': 24,\n",
       " 'N_phase': 2,\n",
       " 'rho': 1.41,\n",
       " 'bias_deconv': True,\n",
       " 'p_dropout': 0.5,\n",
       " 'dim1': 1000,\n",
       " 'dim2': 1000,\n",
       " 'lr': 0.005,\n",
       " 'do_adam': 'adam',\n",
       " 'bn1_bn_momentum': 0,\n",
       " 'bn2_bn_momentum': 0,\n",
       " 'momentum': 0,\n",
       " 'epochs': 60,\n",
       " 'num_processes': 1,\n",
       " 'no_cuda': True,\n",
       " 'log_interval': 20,\n",
       " 'verbose': 1,\n",
       " 'filename': '../data/2019-07-23',\n",
       " 'seed': 2019,\n",
       " 'N_cv': 10,\n",
       " 'do_compute': True,\n",
       " 'save_model': True}"
      ]
     },
     "execution_count": 18,
     "metadata": {},
     "output_type": "execute_result"
    }
   ],
   "source": [
    "from main import init\n",
    "args = init(filename='../data/2019-07-23')\n",
    "#args.minibatch_size = 10\n",
    "#args.momentum = 0\n",
    "#args.bn1_bn_momentum = 0\n",
    "#args.bn2_bn_momentum = 0\n",
    "#args.p_dropout = 0.5\n",
    "args"
   ]
  },
  {
   "cell_type": "code",
   "execution_count": 19,
   "metadata": {},
   "outputs": [
    {
     "name": "stdout",
     "output_type": "stream",
     "text": [
      "../tmp/retina_6_48_24_2_1.41_1718_dico.npy\n",
      "Fichier retina_dico charge avec succes\n"
     ]
    }
   ],
   "source": [
    "from retina_chicago import Retina\n",
    "retina = Retina(args)"
   ]
  },
  {
   "cell_type": "markdown",
   "metadata": {},
   "source": [
    "## Test ChicagoFacesDataset nouvelle version"
   ]
  },
  {
   "cell_type": "markdown",
   "metadata": {},
   "source": [
    "### Transformations appliquées"
   ]
  },
  {
   "cell_type": "code",
   "execution_count": 5,
   "metadata": {},
   "outputs": [],
   "source": [
    "transform = transforms.Compose([\n",
    "                                WhereGrey(args),\n",
    "                                RetinaWhiten(args),\n",
    "                                TransformDico(retina)\n",
    "                            ])"
   ]
  },
  {
   "cell_type": "markdown",
   "metadata": {},
   "source": [
    "Si TransformDico est commenté ci-dessus, mettez transform_dico = False ci-dessous, et inversement."
   ]
  },
  {
   "cell_type": "code",
   "execution_count": 6,
   "metadata": {},
   "outputs": [],
   "source": [
    "transform_dico = True"
   ]
  },
  {
   "cell_type": "markdown",
   "metadata": {},
   "source": [
    "### Dataset_train"
   ]
  },
  {
   "cell_type": "code",
   "execution_count": 7,
   "metadata": {},
   "outputs": [],
   "source": [
    "dataset_train = ChicagoFacesDataset(args, use='train', transform=transform)"
   ]
  },
  {
   "cell_type": "code",
   "execution_count": 8,
   "metadata": {},
   "outputs": [
    {
     "name": "stdout",
     "output_type": "stream",
     "text": [
      "1000\n"
     ]
    }
   ],
   "source": [
    "print(len(dataset_train))"
   ]
  },
  {
   "cell_type": "code",
   "execution_count": 9,
   "metadata": {},
   "outputs": [],
   "source": [
    "gender = [\"Homme\", \"Femme\"]"
   ]
  },
  {
   "cell_type": "code",
   "execution_count": null,
   "metadata": {},
   "outputs": [],
   "source": [
    "# Pour faire fonctionner cette case, verifiez que transform_dico ait la bonne valeur \n",
    "# dans la section Transformations appliquees\n",
    "\n",
    "index_image = np.random.randint(len(dataset_train))\n",
    "print(index_image, \"/\", len(dataset_train))\n",
    "\n",
    "if not transform_dico :\n",
    "    image, label = dataset_train[index_image]\n",
    "    plt.figure(figsize=(20,20))\n",
    "    plt.imshow(image)\n",
    "    plt.title(gender[label])\n",
    "    plt.show()\n",
    "    \n",
    "else : \n",
    "    retina_features, target = dataset_train[index_image]\n",
    "    print(gender[target], len(retina_features), retina_features[0:50])\n",
    "\n",
    "\"\"\"\n",
    "else :\n",
    "    data, label = dataset_train[index_image]\n",
    "    pixel_fullfield, retina_features = data\n",
    "    plt.figure(figsize=(20,20))\n",
    "    plt.imshow(pixel_fullfield)\n",
    "    plt.title(gender[label])\n",
    "    print(gender[label], len(retina_features), retina_features[0:50])\n",
    "\"\"\"\n",
    "print(\"\")"
   ]
  },
  {
   "cell_type": "markdown",
   "metadata": {},
   "source": [
    "### Train_loader"
   ]
  },
  {
   "cell_type": "code",
   "execution_count": 14,
   "metadata": {},
   "outputs": [],
   "source": [
    "train_loader = torch.utils.data.DataLoader(dataset_train,\n",
    "                                         batch_size=args.minibatch_size,\n",
    "                                         shuffle=True\n",
    "                                          )"
   ]
  },
  {
   "cell_type": "code",
   "execution_count": 15,
   "metadata": {},
   "outputs": [],
   "source": [
    "batch_data_train, batch_label_train = next(iter(train_loader))"
   ]
  },
  {
   "cell_type": "code",
   "execution_count": 17,
   "metadata": {},
   "outputs": [
    {
     "name": "stdout",
     "output_type": "stream",
     "text": [
      "10\n",
      "13824\n",
      "13824\n"
     ]
    }
   ],
   "source": [
    "print(len(batch_data_train))\n",
    "print(len(batch_data_train[0]))\n",
    "print(len(batch_data_train[1]))"
   ]
  },
  {
   "cell_type": "code",
   "execution_count": 20,
   "metadata": {},
   "outputs": [
    {
     "name": "stdout",
     "output_type": "stream",
     "text": [
      "0 / 10\n",
      "Homme 13824 [-8.43302769e-03 -5.04846717e-01  2.74201545e-01 -1.90489386e-01\n",
      " -1.85228206e-01  1.34491777e-01  1.87259370e-02 -2.24720420e-01\n",
      "  1.36746133e-01 -1.17775804e-01  2.75445047e-01 -8.73027278e-02\n",
      " -8.74456326e-02 -1.67455557e-01  2.73598384e-01  5.12371962e-01\n",
      " -1.31338240e-02  1.40112428e-01 -2.29215653e-01  4.03796118e-01\n",
      "  2.07995987e-01 -1.00922375e+00 -4.45188455e-01 -8.34012304e-01\n",
      " -5.20027766e-01 -5.58744385e-01 -4.08982680e-02  6.17343583e-01\n",
      "  2.22202555e+00 -8.07450437e-01  2.58981449e+00  1.79752656e+00\n",
      "  2.05476549e+00  1.51645035e+00 -2.36946189e+00 -6.97914293e-01\n",
      "  1.56324914e+00 -6.23116799e-01 -1.15009466e+00 -1.35184466e+00\n",
      "  2.38836715e+00  4.74903644e-01  1.51347713e+00 -6.70407006e+00\n",
      " -4.32860774e-01 -3.39606019e+00 -8.04649263e+00 -4.05577475e+00\n",
      "  2.59574486e-01  6.24841171e-03]\n",
      "\n"
     ]
    }
   ],
   "source": [
    "# Pour faire fonctionner cette case, verifiez que transform_dico ait la bonne valeur \n",
    "# dans la section Transformations appliquees\n",
    "\n",
    "index_image2 = 0\n",
    "print(index_image2, \"/\", len(batch_data_train))\n",
    "\n",
    "if not transform_dico :\n",
    "    image2, label2 = batch_data_train[index_image2], batch_label_train[index_image2]\n",
    "    plt.figure(figsize=(20,20))\n",
    "    plt.imshow(image2)\n",
    "    plt.title(gender[label2])\n",
    "    plt.show()\n",
    "    \n",
    "else : \n",
    "    retina_features2, target2 = dataset_train[index_image2]\n",
    "    print(gender[target2], len(retina_features2), retina_features2[0:50])\n",
    "    \n",
    "\"\"\" \n",
    "else :\n",
    "    pixel_fullfield2, retina_features2 = batch_data_train[0][index_image2], batch_data_train[1][index_image2]\n",
    "    label2 = batch_label_train[index_image2]\n",
    "    plt.figure(figsize=(20,20))\n",
    "    plt.imshow(pixel_fullfield2)\n",
    "    plt.title(gender[label2])    \n",
    "    print(gender[label2], len(retina_features2), retina_features2[0:50])\n",
    "\"\"\"\n",
    "print(\"\")"
   ]
  },
  {
   "cell_type": "code",
   "execution_count": 21,
   "metadata": {},
   "outputs": [
    {
     "name": "stdout",
     "output_type": "stream",
     "text": [
      "tensor([1, 1, 0, 1, 0, 0, 0, 1, 1, 1])\n"
     ]
    }
   ],
   "source": [
    "print(batch_label_train)"
   ]
  },
  {
   "cell_type": "markdown",
   "metadata": {},
   "source": [
    "## Test WhatGenderTrainer"
   ]
  },
  {
   "cell_type": "code",
   "execution_count": 22,
   "metadata": {},
   "outputs": [
    {
     "name": "stdout",
     "output_type": "stream",
     "text": [
      "Initialisation WhatTrainer\n",
      "\n",
      "Initialisation dataset_train\n",
      "len dataloader 100\n",
      "\n",
      "Initialisation dataset_test\n",
      "len dataloader 13\n",
      "Calcul model\n"
     ]
    }
   ],
   "source": [
    "what_gender_trainer = WhatGenderTrainer(args, retina)"
   ]
  },
  {
   "cell_type": "code",
   "execution_count": null,
   "metadata": {},
   "outputs": [],
   "source": []
  },
  {
   "cell_type": "code",
   "execution_count": null,
   "metadata": {},
   "outputs": [],
   "source": []
  },
  {
   "cell_type": "code",
   "execution_count": null,
   "metadata": {},
   "outputs": [],
   "source": [
    "what_gender = WhatGender(args, retina)"
   ]
  },
  {
   "cell_type": "code",
   "execution_count": null,
   "metadata": {},
   "outputs": [],
   "source": []
  },
  {
   "cell_type": "markdown",
   "metadata": {},
   "source": [
    "### Expérimentations fichiers sauvegardés"
   ]
  },
  {
   "cell_type": "code",
   "execution_count": 24,
   "metadata": {},
   "outputs": [],
   "source": [
    "train_loader = torch.load(\"../tmp/train_loader_faces_2019-07-24_10h23.pt\")"
   ]
  },
  {
   "cell_type": "code",
   "execution_count": 25,
   "metadata": {},
   "outputs": [
    {
     "name": "stdout",
     "output_type": "stream",
     "text": [
      "100\n"
     ]
    }
   ],
   "source": [
    "print(len(train_loader))"
   ]
  },
  {
   "cell_type": "code",
   "execution_count": 26,
   "metadata": {},
   "outputs": [],
   "source": [
    "batch_train_data, batch_train_label = next(iter(train_loader))"
   ]
  },
  {
   "cell_type": "code",
   "execution_count": 27,
   "metadata": {},
   "outputs": [
    {
     "name": "stdout",
     "output_type": "stream",
     "text": [
      "tensor([[ 0.0841,  0.0815, -0.0543,  ..., -1.9242, -7.5619, -0.2746],\n",
      "        [-0.1200, -0.0180, -0.0097,  ...,  0.0560,  0.1008, -5.1102],\n",
      "        [ 0.0911,  0.0108, -0.0927,  ..., -0.1992,  0.7810,  2.1390],\n",
      "        ...,\n",
      "        [ 0.0196, -0.1037,  0.0511,  ..., -2.9915, -7.6390,  7.8602],\n",
      "        [-0.0369,  0.1266,  0.0154,  ..., -1.1818,  1.5887,  0.2877],\n",
      "        [-0.0246, -0.1076, -0.1003,  ..., -1.3526,  4.6222, -0.9597]],\n",
      "       dtype=torch.float64) tensor([1, 1, 0, 1, 0, 1, 0, 0, 1, 0])\n"
     ]
    }
   ],
   "source": [
    "print(batch_train_data, batch_train_label)"
   ]
  },
  {
   "cell_type": "code",
   "execution_count": 28,
   "metadata": {},
   "outputs": [
    {
     "name": "stdout",
     "output_type": "stream",
     "text": [
      "10 13824\n"
     ]
    }
   ],
   "source": [
    "print(len(batch_train_data), len(batch_train_data[0]))"
   ]
  },
  {
   "cell_type": "code",
   "execution_count": 29,
   "metadata": {},
   "outputs": [],
   "source": [
    "test_loader = torch.load(\"../tmp/test_loader_faces_2019-07-23_16h49.pt\")"
   ]
  },
  {
   "cell_type": "code",
   "execution_count": 30,
   "metadata": {},
   "outputs": [
    {
     "name": "stdout",
     "output_type": "stream",
     "text": [
      "13\n"
     ]
    }
   ],
   "source": [
    "print(len(test_loader))"
   ]
  },
  {
   "cell_type": "code",
   "execution_count": 31,
   "metadata": {},
   "outputs": [
    {
     "ename": "TypeError",
     "evalue": "batch must contain tensors, numbers, dicts or lists; found <class 'PIL.Image.Image'>",
     "output_type": "error",
     "traceback": [
      "\u001b[1;31m---------------------------------------------------------------------------\u001b[0m",
      "\u001b[1;31mTypeError\u001b[0m                                 Traceback (most recent call last)",
      "\u001b[1;32m<ipython-input-31-354e6464e98f>\u001b[0m in \u001b[0;36m<module>\u001b[1;34m\u001b[0m\n\u001b[1;32m----> 1\u001b[1;33m \u001b[0mbatch_test_data\u001b[0m \u001b[1;33m=\u001b[0m \u001b[0mnext\u001b[0m\u001b[1;33m(\u001b[0m\u001b[0miter\u001b[0m\u001b[1;33m(\u001b[0m\u001b[0mtest_loader\u001b[0m\u001b[1;33m)\u001b[0m\u001b[1;33m)\u001b[0m\u001b[1;33m\u001b[0m\u001b[1;33m\u001b[0m\u001b[0m\n\u001b[0m",
      "\u001b[1;32mC:\\ProgramData\\Anaconda3\\lib\\site-packages\\torch\\utils\\data\\dataloader.py\u001b[0m in \u001b[0;36m__next__\u001b[1;34m(self)\u001b[0m\n\u001b[0;32m    558\u001b[0m         \u001b[1;32mif\u001b[0m \u001b[0mself\u001b[0m\u001b[1;33m.\u001b[0m\u001b[0mnum_workers\u001b[0m \u001b[1;33m==\u001b[0m \u001b[1;36m0\u001b[0m\u001b[1;33m:\u001b[0m  \u001b[1;31m# same-process loading\u001b[0m\u001b[1;33m\u001b[0m\u001b[1;33m\u001b[0m\u001b[0m\n\u001b[0;32m    559\u001b[0m             \u001b[0mindices\u001b[0m \u001b[1;33m=\u001b[0m \u001b[0mnext\u001b[0m\u001b[1;33m(\u001b[0m\u001b[0mself\u001b[0m\u001b[1;33m.\u001b[0m\u001b[0msample_iter\u001b[0m\u001b[1;33m)\u001b[0m  \u001b[1;31m# may raise StopIteration\u001b[0m\u001b[1;33m\u001b[0m\u001b[1;33m\u001b[0m\u001b[0m\n\u001b[1;32m--> 560\u001b[1;33m             \u001b[0mbatch\u001b[0m \u001b[1;33m=\u001b[0m \u001b[0mself\u001b[0m\u001b[1;33m.\u001b[0m\u001b[0mcollate_fn\u001b[0m\u001b[1;33m(\u001b[0m\u001b[1;33m[\u001b[0m\u001b[0mself\u001b[0m\u001b[1;33m.\u001b[0m\u001b[0mdataset\u001b[0m\u001b[1;33m[\u001b[0m\u001b[0mi\u001b[0m\u001b[1;33m]\u001b[0m \u001b[1;32mfor\u001b[0m \u001b[0mi\u001b[0m \u001b[1;32min\u001b[0m \u001b[0mindices\u001b[0m\u001b[1;33m]\u001b[0m\u001b[1;33m)\u001b[0m\u001b[1;33m\u001b[0m\u001b[1;33m\u001b[0m\u001b[0m\n\u001b[0m\u001b[0;32m    561\u001b[0m             \u001b[1;32mif\u001b[0m \u001b[0mself\u001b[0m\u001b[1;33m.\u001b[0m\u001b[0mpin_memory\u001b[0m\u001b[1;33m:\u001b[0m\u001b[1;33m\u001b[0m\u001b[1;33m\u001b[0m\u001b[0m\n\u001b[0;32m    562\u001b[0m                 \u001b[0mbatch\u001b[0m \u001b[1;33m=\u001b[0m \u001b[0m_utils\u001b[0m\u001b[1;33m.\u001b[0m\u001b[0mpin_memory\u001b[0m\u001b[1;33m.\u001b[0m\u001b[0mpin_memory_batch\u001b[0m\u001b[1;33m(\u001b[0m\u001b[0mbatch\u001b[0m\u001b[1;33m)\u001b[0m\u001b[1;33m\u001b[0m\u001b[1;33m\u001b[0m\u001b[0m\n",
      "\u001b[1;32mC:\\ProgramData\\Anaconda3\\lib\\site-packages\\torch\\utils\\data\\_utils\\collate.py\u001b[0m in \u001b[0;36mdefault_collate\u001b[1;34m(batch)\u001b[0m\n\u001b[0;32m     66\u001b[0m     \u001b[1;32melif\u001b[0m \u001b[0misinstance\u001b[0m\u001b[1;33m(\u001b[0m\u001b[0mbatch\u001b[0m\u001b[1;33m[\u001b[0m\u001b[1;36m0\u001b[0m\u001b[1;33m]\u001b[0m\u001b[1;33m,\u001b[0m \u001b[0mcontainer_abcs\u001b[0m\u001b[1;33m.\u001b[0m\u001b[0mSequence\u001b[0m\u001b[1;33m)\u001b[0m\u001b[1;33m:\u001b[0m\u001b[1;33m\u001b[0m\u001b[1;33m\u001b[0m\u001b[0m\n\u001b[0;32m     67\u001b[0m         \u001b[0mtransposed\u001b[0m \u001b[1;33m=\u001b[0m \u001b[0mzip\u001b[0m\u001b[1;33m(\u001b[0m\u001b[1;33m*\u001b[0m\u001b[0mbatch\u001b[0m\u001b[1;33m)\u001b[0m\u001b[1;33m\u001b[0m\u001b[1;33m\u001b[0m\u001b[0m\n\u001b[1;32m---> 68\u001b[1;33m         \u001b[1;32mreturn\u001b[0m \u001b[1;33m[\u001b[0m\u001b[0mdefault_collate\u001b[0m\u001b[1;33m(\u001b[0m\u001b[0msamples\u001b[0m\u001b[1;33m)\u001b[0m \u001b[1;32mfor\u001b[0m \u001b[0msamples\u001b[0m \u001b[1;32min\u001b[0m \u001b[0mtransposed\u001b[0m\u001b[1;33m]\u001b[0m\u001b[1;33m\u001b[0m\u001b[1;33m\u001b[0m\u001b[0m\n\u001b[0m\u001b[0;32m     69\u001b[0m \u001b[1;33m\u001b[0m\u001b[0m\n\u001b[0;32m     70\u001b[0m     \u001b[1;32mraise\u001b[0m \u001b[0mTypeError\u001b[0m\u001b[1;33m(\u001b[0m\u001b[1;33m(\u001b[0m\u001b[0merror_msg_fmt\u001b[0m\u001b[1;33m.\u001b[0m\u001b[0mformat\u001b[0m\u001b[1;33m(\u001b[0m\u001b[0mtype\u001b[0m\u001b[1;33m(\u001b[0m\u001b[0mbatch\u001b[0m\u001b[1;33m[\u001b[0m\u001b[1;36m0\u001b[0m\u001b[1;33m]\u001b[0m\u001b[1;33m)\u001b[0m\u001b[1;33m)\u001b[0m\u001b[1;33m)\u001b[0m\u001b[1;33m)\u001b[0m\u001b[1;33m\u001b[0m\u001b[1;33m\u001b[0m\u001b[0m\n",
      "\u001b[1;32mC:\\ProgramData\\Anaconda3\\lib\\site-packages\\torch\\utils\\data\\_utils\\collate.py\u001b[0m in \u001b[0;36m<listcomp>\u001b[1;34m(.0)\u001b[0m\n\u001b[0;32m     66\u001b[0m     \u001b[1;32melif\u001b[0m \u001b[0misinstance\u001b[0m\u001b[1;33m(\u001b[0m\u001b[0mbatch\u001b[0m\u001b[1;33m[\u001b[0m\u001b[1;36m0\u001b[0m\u001b[1;33m]\u001b[0m\u001b[1;33m,\u001b[0m \u001b[0mcontainer_abcs\u001b[0m\u001b[1;33m.\u001b[0m\u001b[0mSequence\u001b[0m\u001b[1;33m)\u001b[0m\u001b[1;33m:\u001b[0m\u001b[1;33m\u001b[0m\u001b[1;33m\u001b[0m\u001b[0m\n\u001b[0;32m     67\u001b[0m         \u001b[0mtransposed\u001b[0m \u001b[1;33m=\u001b[0m \u001b[0mzip\u001b[0m\u001b[1;33m(\u001b[0m\u001b[1;33m*\u001b[0m\u001b[0mbatch\u001b[0m\u001b[1;33m)\u001b[0m\u001b[1;33m\u001b[0m\u001b[1;33m\u001b[0m\u001b[0m\n\u001b[1;32m---> 68\u001b[1;33m         \u001b[1;32mreturn\u001b[0m \u001b[1;33m[\u001b[0m\u001b[0mdefault_collate\u001b[0m\u001b[1;33m(\u001b[0m\u001b[0msamples\u001b[0m\u001b[1;33m)\u001b[0m \u001b[1;32mfor\u001b[0m \u001b[0msamples\u001b[0m \u001b[1;32min\u001b[0m \u001b[0mtransposed\u001b[0m\u001b[1;33m]\u001b[0m\u001b[1;33m\u001b[0m\u001b[1;33m\u001b[0m\u001b[0m\n\u001b[0m\u001b[0;32m     69\u001b[0m \u001b[1;33m\u001b[0m\u001b[0m\n\u001b[0;32m     70\u001b[0m     \u001b[1;32mraise\u001b[0m \u001b[0mTypeError\u001b[0m\u001b[1;33m(\u001b[0m\u001b[1;33m(\u001b[0m\u001b[0merror_msg_fmt\u001b[0m\u001b[1;33m.\u001b[0m\u001b[0mformat\u001b[0m\u001b[1;33m(\u001b[0m\u001b[0mtype\u001b[0m\u001b[1;33m(\u001b[0m\u001b[0mbatch\u001b[0m\u001b[1;33m[\u001b[0m\u001b[1;36m0\u001b[0m\u001b[1;33m]\u001b[0m\u001b[1;33m)\u001b[0m\u001b[1;33m)\u001b[0m\u001b[1;33m)\u001b[0m\u001b[1;33m)\u001b[0m\u001b[1;33m\u001b[0m\u001b[1;33m\u001b[0m\u001b[0m\n",
      "\u001b[1;32mC:\\ProgramData\\Anaconda3\\lib\\site-packages\\torch\\utils\\data\\_utils\\collate.py\u001b[0m in \u001b[0;36mdefault_collate\u001b[1;34m(batch)\u001b[0m\n\u001b[0;32m     68\u001b[0m         \u001b[1;32mreturn\u001b[0m \u001b[1;33m[\u001b[0m\u001b[0mdefault_collate\u001b[0m\u001b[1;33m(\u001b[0m\u001b[0msamples\u001b[0m\u001b[1;33m)\u001b[0m \u001b[1;32mfor\u001b[0m \u001b[0msamples\u001b[0m \u001b[1;32min\u001b[0m \u001b[0mtransposed\u001b[0m\u001b[1;33m]\u001b[0m\u001b[1;33m\u001b[0m\u001b[1;33m\u001b[0m\u001b[0m\n\u001b[0;32m     69\u001b[0m \u001b[1;33m\u001b[0m\u001b[0m\n\u001b[1;32m---> 70\u001b[1;33m     \u001b[1;32mraise\u001b[0m \u001b[0mTypeError\u001b[0m\u001b[1;33m(\u001b[0m\u001b[1;33m(\u001b[0m\u001b[0merror_msg_fmt\u001b[0m\u001b[1;33m.\u001b[0m\u001b[0mformat\u001b[0m\u001b[1;33m(\u001b[0m\u001b[0mtype\u001b[0m\u001b[1;33m(\u001b[0m\u001b[0mbatch\u001b[0m\u001b[1;33m[\u001b[0m\u001b[1;36m0\u001b[0m\u001b[1;33m]\u001b[0m\u001b[1;33m)\u001b[0m\u001b[1;33m)\u001b[0m\u001b[1;33m)\u001b[0m\u001b[1;33m)\u001b[0m\u001b[1;33m\u001b[0m\u001b[1;33m\u001b[0m\u001b[0m\n\u001b[0m",
      "\u001b[1;31mTypeError\u001b[0m: batch must contain tensors, numbers, dicts or lists; found <class 'PIL.Image.Image'>"
     ]
    }
   ],
   "source": [
    "batch_test_data = next(iter(test_loader))"
   ]
  },
  {
   "cell_type": "code",
   "execution_count": null,
   "metadata": {},
   "outputs": [],
   "source": []
  },
  {
   "cell_type": "markdown",
   "metadata": {},
   "source": [
    "## Test 2"
   ]
  },
  {
   "cell_type": "code",
   "execution_count": 44,
   "metadata": {},
   "outputs": [],
   "source": [
    "import datetime\n",
    "from torch.utils.data import *"
   ]
  },
  {
   "cell_type": "code",
   "execution_count": 45,
   "metadata": {},
   "outputs": [],
   "source": [
    "dataset_train = ChicagoFacesDataset(args, use='train', transform=transform)"
   ]
  },
  {
   "cell_type": "code",
   "execution_count": 46,
   "metadata": {},
   "outputs": [],
   "source": [
    "data_loader = DataLoader(dataset_train,\n",
    "                                         batch_size=args.minibatch_size,\n",
    "                                         shuffle=True\n",
    "                                          )"
   ]
  },
  {
   "cell_type": "code",
   "execution_count": 47,
   "metadata": {},
   "outputs": [],
   "source": [
    "use = 'train'"
   ]
  },
  {
   "cell_type": "code",
   "execution_count": 49,
   "metadata": {},
   "outputs": [
    {
     "name": "stdout",
     "output_type": "stream",
     "text": [
      "Generating training dataset\n",
      "0 10\n",
      "1 20\n",
      "2 30\n"
     ]
    }
   ],
   "source": [
    "if args.verbose: \n",
    "    print('Generating {}ing dataset'.format(use))\n",
    "for i, (data, target) in enumerate(data_loader):\n",
    "    if i ==3 : break\n",
    "    if args.verbose: \n",
    "        print(i, (i+1) * args.minibatch_size)\n",
    "    if i == 0:\n",
    "        full_data = data\n",
    "        full_target = target\n",
    "    else:\n",
    "        full_data = torch.cat((full_data, data), 0)\n",
    "        full_target = torch.cat((full_target, target), 0)"
   ]
  },
  {
   "cell_type": "code",
   "execution_count": 50,
   "metadata": {},
   "outputs": [
    {
     "name": "stdout",
     "output_type": "stream",
     "text": [
      "type <class 'torch.utils.data.dataloader.DataLoader'>\n",
      "<torch.utils.data.dataloader.DataLoader object at 0x000000000BD45BE0>\n",
      "chemin ../tmp/test2_train_loader_faces_2019-07-24_11h29.pt\n",
      "Done!\n"
     ]
    }
   ],
   "source": [
    "dataset = TensorDataset(full_data, full_target)\n",
    "\n",
    "data_loader = DataLoader(dataset,\n",
    "                         batch_size=args.minibatch_size,\n",
    "                         shuffle=True)\n",
    "print(\"type\", type(data_loader))\n",
    "print(data_loader)\n",
    "date = str(datetime.datetime.now())\n",
    "data_loader_path = \"../tmp/test2_train_loader_faces_{}_{}h{}.pt\".format(date[0:10], date[11:13], date[14:16])\n",
    "print(\"chemin\", data_loader_path)\n",
    "torch.save(data_loader, data_loader_path)\n",
    "if args.verbose: \n",
    "    print('Done!')"
   ]
  },
  {
   "cell_type": "markdown",
   "metadata": {},
   "source": [
    "## Test2 des données enregistrées "
   ]
  },
  {
   "cell_type": "code",
   "execution_count": 52,
   "metadata": {},
   "outputs": [],
   "source": [
    "train_loader = torch.load(\"../tmp/test2_train_loader_faces_2019-07-24_11h29.pt\")"
   ]
  },
  {
   "cell_type": "code",
   "execution_count": 53,
   "metadata": {},
   "outputs": [
    {
     "name": "stdout",
     "output_type": "stream",
     "text": [
      "3\n"
     ]
    }
   ],
   "source": [
    "print(len(train_loader))"
   ]
  },
  {
   "cell_type": "code",
   "execution_count": 58,
   "metadata": {},
   "outputs": [],
   "source": [
    "batch_train_data, batch_train_label = next(iter(train_loader))"
   ]
  },
  {
   "cell_type": "code",
   "execution_count": 59,
   "metadata": {},
   "outputs": [
    {
     "name": "stdout",
     "output_type": "stream",
     "text": [
      "tensor([[-2.9067e-02, -1.0041e-01,  2.3167e-02,  ...,  1.6472e+01,\n",
      "          1.1225e+01,  5.7120e+00],\n",
      "        [-8.2785e-02,  8.3567e-02, -6.5305e-02,  ..., -1.4330e+00,\n",
      "         -4.7928e+00,  3.7585e+00],\n",
      "        [ 1.8049e-01,  1.5317e-01,  1.3850e-01,  ..., -1.2146e-02,\n",
      "         -3.1848e-01, -2.2894e+00],\n",
      "        ...,\n",
      "        [ 1.0457e-01, -4.1642e-01,  1.4866e-01,  ...,  1.1836e+00,\n",
      "         -6.5415e-01, -7.2392e+00],\n",
      "        [ 5.0061e-03, -7.5833e-02,  2.6431e-02,  ..., -6.6747e-01,\n",
      "         -7.3886e-01,  6.0270e+00],\n",
      "        [ 2.9495e-01, -1.4450e-01,  2.2260e-01,  ..., -3.6393e+00,\n",
      "         -3.9026e+00, -1.3894e+01]], dtype=torch.float64) tensor([1, 1, 1, 0, 0, 0, 0, 0, 1, 1])\n"
     ]
    }
   ],
   "source": [
    "print(batch_train_data, batch_train_label)"
   ]
  },
  {
   "cell_type": "markdown",
   "metadata": {},
   "source": [
    "## Implémentation de Test2 dans le script"
   ]
  },
  {
   "cell_type": "code",
   "execution_count": 5,
   "metadata": {},
   "outputs": [
    {
     "name": "stdout",
     "output_type": "stream",
     "text": [
      "Initialisation WhatTrainer\n",
      "\n",
      "Initialisation dataset_train\n",
      "Generating training dataset\n",
      "0 10\n",
      "chemin ../tmp/train_loader_faces_2019-07-24_11h56.pt\n",
      "Done!\n",
      "\n",
      "Initialisation dataset_test\n",
      "Generating testing dataset\n",
      "0 10\n",
      "chemin ../tmp/test_loader_faces_2019-07-24_11h57.pt\n",
      "Done!\n",
      "Calcul model\n"
     ]
    }
   ],
   "source": [
    "what_gender_trainer = WhatGenderTrainer(args, retina)"
   ]
  },
  {
   "cell_type": "code",
   "execution_count": 6,
   "metadata": {},
   "outputs": [],
   "source": [
    "train_loader = torch.load(\"../tmp/train_loader_faces_2019-07-24_11h56.pt\")"
   ]
  },
  {
   "cell_type": "code",
   "execution_count": 8,
   "metadata": {},
   "outputs": [
    {
     "name": "stdout",
     "output_type": "stream",
     "text": [
      "1\n"
     ]
    }
   ],
   "source": [
    "print(len(train_loader))"
   ]
  },
  {
   "cell_type": "code",
   "execution_count": 7,
   "metadata": {},
   "outputs": [],
   "source": [
    "batch_train_data, batch_train_label = next(iter(train_loader))"
   ]
  },
  {
   "cell_type": "code",
   "execution_count": 9,
   "metadata": {},
   "outputs": [
    {
     "name": "stdout",
     "output_type": "stream",
     "text": [
      "tensor([[-0.0517, -0.3476,  0.1146,  ..., -6.9002, -4.7002, -4.4708],\n",
      "        [ 0.0906, -0.0949, -0.0375,  ..., -0.1138, -3.3303,  3.4192],\n",
      "        [ 0.0299,  0.1818, -0.0271,  ...,  0.0560,  1.8904,  1.2772],\n",
      "        ...,\n",
      "        [-0.0974,  0.0723, -0.1160,  ..., -4.7446, -7.0167,  5.0686],\n",
      "        [ 0.1113, -0.0422,  0.0328,  ...,  0.8332, -0.4580, -1.0406],\n",
      "        [ 0.1382,  0.1034, -0.0832,  ...,  0.6276, -0.6741,  0.0848]],\n",
      "       dtype=torch.float64) tensor([0, 0, 1, 0, 1, 0, 0, 0, 0, 0])\n"
     ]
    }
   ],
   "source": [
    "print(batch_train_data, batch_train_label)"
   ]
  },
  {
   "cell_type": "code",
   "execution_count": 11,
   "metadata": {},
   "outputs": [
    {
     "name": "stdout",
     "output_type": "stream",
     "text": [
      "13824\n"
     ]
    }
   ],
   "source": [
    "print(len(batch_train_data[0]))"
   ]
  },
  {
   "cell_type": "code",
   "execution_count": 12,
   "metadata": {},
   "outputs": [],
   "source": [
    "test_loader = torch.load(\"../tmp/test_loader_faces_2019-07-24_11h57.pt\")"
   ]
  },
  {
   "cell_type": "code",
   "execution_count": 14,
   "metadata": {},
   "outputs": [
    {
     "name": "stdout",
     "output_type": "stream",
     "text": [
      "1\n"
     ]
    }
   ],
   "source": [
    "print(len(test_loader))"
   ]
  },
  {
   "cell_type": "code",
   "execution_count": 15,
   "metadata": {},
   "outputs": [],
   "source": [
    "batch_test_data, batch_test_label = next(iter(test_loader))"
   ]
  },
  {
   "cell_type": "code",
   "execution_count": 16,
   "metadata": {},
   "outputs": [
    {
     "name": "stdout",
     "output_type": "stream",
     "text": [
      "tensor([[-0.3019, -0.0305, -0.1613,  ..., -1.6066, -3.2012, -5.7370],\n",
      "        [-0.0998, -0.2543,  0.1779,  ...,  0.2187, -0.4956,  1.1040],\n",
      "        [-0.1147,  0.1007, -0.2085,  ..., -0.6923, -6.0460,  1.0874],\n",
      "        ...,\n",
      "        [-0.1908, -0.0835, -0.1759,  ..., -1.1152, -4.4146, -4.3484],\n",
      "        [-0.0940, -0.2340,  0.3047,  ...,  0.9486, -0.4127,  0.3951],\n",
      "        [-0.0859,  0.1340, -0.1624,  ..., -6.1593, -0.7046,  1.1495]],\n",
      "       dtype=torch.float64) tensor([0, 0, 0, 1, 1, 0, 1, 1, 1, 1])\n"
     ]
    }
   ],
   "source": [
    "print(batch_test_data, batch_test_label)"
   ]
  },
  {
   "cell_type": "markdown",
   "metadata": {},
   "source": [
    "## Génération des 2 dataloaders complets"
   ]
  },
  {
   "cell_type": "code",
   "execution_count": 5,
   "metadata": {
    "scrolled": false
   },
   "outputs": [
    {
     "name": "stdout",
     "output_type": "stream",
     "text": [
      "Initialisation WhatTrainer\n",
      "\n",
      "Initialisation dataset_train\n",
      "Generating training dataset\n",
      "0 10\n",
      "1 20\n",
      "2 30\n",
      "3 40\n",
      "4 50\n",
      "5 60\n",
      "6 70\n",
      "7 80\n",
      "8 90\n",
      "9 100\n",
      "10 110\n",
      "11 120\n",
      "12 130\n",
      "13 140\n",
      "14 150\n",
      "15 160\n",
      "16 170\n",
      "17 180\n",
      "18 190\n",
      "19 200\n",
      "20 210\n",
      "21 220\n",
      "22 230\n",
      "23 240\n",
      "24 250\n",
      "25 260\n",
      "26 270\n",
      "27 280\n",
      "28 290\n",
      "29 300\n",
      "30 310\n",
      "31 320\n",
      "32 330\n",
      "33 340\n",
      "34 350\n",
      "35 360\n",
      "36 370\n",
      "37 380\n",
      "38 390\n",
      "39 400\n",
      "40 410\n",
      "41 420\n",
      "42 430\n",
      "43 440\n",
      "44 450\n",
      "45 460\n",
      "46 470\n",
      "47 480\n",
      "48 490\n",
      "49 500\n",
      "50 510\n",
      "51 520\n",
      "52 530\n",
      "53 540\n",
      "54 550\n",
      "55 560\n",
      "56 570\n",
      "57 580\n",
      "58 590\n",
      "59 600\n",
      "60 610\n",
      "61 620\n",
      "62 630\n",
      "63 640\n",
      "64 650\n",
      "65 660\n",
      "66 670\n",
      "67 680\n",
      "68 690\n",
      "69 700\n",
      "70 710\n",
      "71 720\n",
      "72 730\n",
      "73 740\n",
      "74 750\n",
      "75 760\n",
      "76 770\n",
      "77 780\n",
      "78 790\n",
      "79 800\n",
      "80 810\n",
      "81 820\n",
      "82 830\n",
      "83 840\n",
      "84 850\n",
      "85 860\n",
      "86 870\n",
      "87 880\n",
      "88 890\n",
      "89 900\n",
      "90 910\n",
      "91 920\n",
      "92 930\n",
      "93 940\n",
      "94 950\n",
      "95 960\n",
      "96 970\n",
      "97 980\n",
      "98 990\n",
      "99 1000\n",
      "chemin ../tmp/train_loader_faces_2019-07-24_13h22.pt\n",
      "Done!\n",
      "\n",
      "Initialisation dataset_test\n",
      "Generating testing dataset\n",
      "0 10\n",
      "1 20\n",
      "2 30\n",
      "3 40\n",
      "4 50\n",
      "5 60\n",
      "6 70\n",
      "7 80\n",
      "8 90\n",
      "9 100\n",
      "10 110\n",
      "11 120\n",
      "12 130\n",
      "chemin ../tmp/test_loader_faces_2019-07-24_13h32.pt\n",
      "Done!\n",
      "Calcul model\n"
     ]
    }
   ],
   "source": [
    "what_gender_trainer = WhatGenderTrainer(args, retina)"
   ]
  },
  {
   "cell_type": "code",
   "execution_count": 20,
   "metadata": {},
   "outputs": [],
   "source": [
    "args.epochs = 10"
   ]
  },
  {
   "cell_type": "code",
   "execution_count": 21,
   "metadata": {},
   "outputs": [],
   "source": [
    "train_loader = torch.load(\"../tmp/train_loader_faces_2019-07-24_13h22.pt\")"
   ]
  },
  {
   "cell_type": "code",
   "execution_count": 22,
   "metadata": {},
   "outputs": [],
   "source": [
    "batch_data_train, batch_label_train = next(iter(train_loader))"
   ]
  },
  {
   "cell_type": "code",
   "execution_count": 23,
   "metadata": {},
   "outputs": [],
   "source": [
    "test_loader = torch.load(\"../tmp/test_loader_faces_2019-07-24_13h32.pt\")"
   ]
  },
  {
   "cell_type": "code",
   "execution_count": 24,
   "metadata": {},
   "outputs": [
    {
     "name": "stdout",
     "output_type": "stream",
     "text": [
      "../data/MNIST_cnn_what_gender_0.1_0.1_0.75_0.7_10epoques_2019-07-24_16h32.pt\n",
      "Entrainement du modele en cours\n",
      "Initialisation WhatTrainer\n",
      "Chargement train_loader\n",
      "Chargement test_loader\n",
      "Calcul model\n",
      "Epoque n.1\n",
      "Train Epoch: 1/10 [0/1000 (0%)]\tLoss: 0.639583\n",
      "Train Epoch: 1/10 [200/1000 (20%)]\tLoss: 6.505025\n",
      "Train Epoch: 1/10 [400/1000 (40%)]\tLoss: 1.612718\n",
      "Train Epoch: 1/10 [600/1000 (60%)]\tLoss: 1.620018\n",
      "Train Epoch: 1/10 [800/1000 (80%)]\tLoss: 0.487245\n",
      "\n",
      "Test set: Average loss: 1.2186, Accuracy: 84/126 (67)%\n",
      "\n",
      "Epoque n.2\n",
      "Train Epoch: 2/10 [0/1000 (0%)]\tLoss: 1.037111\n",
      "Train Epoch: 2/10 [200/1000 (20%)]\tLoss: 1.462829\n",
      "Train Epoch: 2/10 [400/1000 (40%)]\tLoss: 0.714735\n",
      "Train Epoch: 2/10 [600/1000 (60%)]\tLoss: 2.207415\n",
      "Train Epoch: 2/10 [800/1000 (80%)]\tLoss: 2.011737\n",
      "\n",
      "Test set: Average loss: 3.5829, Accuracy: 89/126 (71)%\n",
      "\n",
      "Epoque n.3\n",
      "Train Epoch: 3/10 [0/1000 (0%)]\tLoss: 1.140944\n",
      "Train Epoch: 3/10 [200/1000 (20%)]\tLoss: 0.983683\n",
      "Train Epoch: 3/10 [400/1000 (40%)]\tLoss: 0.387069\n",
      "Train Epoch: 3/10 [600/1000 (60%)]\tLoss: 0.077877\n",
      "Train Epoch: 3/10 [800/1000 (80%)]\tLoss: 3.380879\n",
      "\n",
      "Test set: Average loss: 7.9163, Accuracy: 89/126 (71)%\n",
      "\n",
      "Epoque n.4\n",
      "Train Epoch: 4/10 [0/1000 (0%)]\tLoss: 2.054288\n",
      "Train Epoch: 4/10 [200/1000 (20%)]\tLoss: 1.390665\n",
      "Train Epoch: 4/10 [400/1000 (40%)]\tLoss: 0.000000\n",
      "Train Epoch: 4/10 [600/1000 (60%)]\tLoss: 1.769235\n",
      "Train Epoch: 4/10 [800/1000 (80%)]\tLoss: 0.941905\n",
      "\n",
      "Test set: Average loss: 3.8611, Accuracy: 91/126 (72)%\n",
      "\n",
      "Epoque n.5\n",
      "Train Epoch: 5/10 [0/1000 (0%)]\tLoss: 2.711439\n",
      "Train Epoch: 5/10 [200/1000 (20%)]\tLoss: 2.552611\n",
      "Train Epoch: 5/10 [400/1000 (40%)]\tLoss: 3.167061\n",
      "Train Epoch: 5/10 [600/1000 (60%)]\tLoss: 0.000014\n",
      "Train Epoch: 5/10 [800/1000 (80%)]\tLoss: 0.003755\n",
      "\n",
      "Test set: Average loss: 7.9706, Accuracy: 103/126 (82)%\n",
      "\n",
      "Epoque n.6\n",
      "Train Epoch: 6/10 [0/1000 (0%)]\tLoss: 0.000000\n",
      "Train Epoch: 6/10 [200/1000 (20%)]\tLoss: 0.000000\n",
      "Train Epoch: 6/10 [400/1000 (40%)]\tLoss: 0.695139\n",
      "Train Epoch: 6/10 [600/1000 (60%)]\tLoss: 0.000000\n",
      "Train Epoch: 6/10 [800/1000 (80%)]\tLoss: 27.119287\n",
      "\n",
      "Test set: Average loss: 21.9035, Accuracy: 98/126 (78)%\n",
      "\n",
      "Epoque n.7\n",
      "Train Epoch: 7/10 [0/1000 (0%)]\tLoss: 2.104850\n",
      "Train Epoch: 7/10 [200/1000 (20%)]\tLoss: 2.097696\n",
      "Train Epoch: 7/10 [400/1000 (40%)]\tLoss: 0.011636\n",
      "Train Epoch: 7/10 [600/1000 (60%)]\tLoss: 0.000000\n",
      "Train Epoch: 7/10 [800/1000 (80%)]\tLoss: 1.258461\n",
      "\n",
      "Test set: Average loss: 10.9593, Accuracy: 99/126 (79)%\n",
      "\n",
      "Epoque n.8\n",
      "Train Epoch: 8/10 [0/1000 (0%)]\tLoss: 2.622677\n",
      "Train Epoch: 8/10 [200/1000 (20%)]\tLoss: 0.000000\n",
      "Train Epoch: 8/10 [400/1000 (40%)]\tLoss: 0.069526\n",
      "Train Epoch: 8/10 [600/1000 (60%)]\tLoss: 0.784888\n",
      "Train Epoch: 8/10 [800/1000 (80%)]\tLoss: 0.000000\n",
      "\n",
      "Test set: Average loss: 18.7407, Accuracy: 96/126 (76)%\n",
      "\n",
      "Epoque n.9\n",
      "Train Epoch: 9/10 [0/1000 (0%)]\tLoss: 9.653940\n",
      "Train Epoch: 9/10 [200/1000 (20%)]\tLoss: 0.000000\n",
      "Train Epoch: 9/10 [400/1000 (40%)]\tLoss: 0.000058\n",
      "Train Epoch: 9/10 [600/1000 (60%)]\tLoss: 0.000138\n",
      "Train Epoch: 9/10 [800/1000 (80%)]\tLoss: 0.000000\n",
      "\n",
      "Test set: Average loss: 30.0778, Accuracy: 100/126 (79)%\n",
      "\n",
      "Epoque n.10\n",
      "Train Epoch: 10/10 [0/1000 (0%)]\tLoss: 0.000000\n",
      "Train Epoch: 10/10 [200/1000 (20%)]\tLoss: 0.000000\n",
      "Train Epoch: 10/10 [400/1000 (40%)]\tLoss: 0.000000\n",
      "Train Epoch: 10/10 [600/1000 (60%)]\tLoss: 2.798940\n",
      "Train Epoch: 10/10 [800/1000 (80%)]\tLoss: 0.000000\n",
      "\n",
      "Test set: Average loss: 43.7423, Accuracy: 98/126 (78)%\n",
      "\n",
      "../data/MNIST_cnn_what_gender_0.1_0.1_0.75_0.7_10epoques_2019-07-24_16h32.pt\n",
      "Modele enregistre avec succes\n"
     ]
    }
   ],
   "source": [
    "what_gender = WhatGender(args, retina, train_loader=train_loader, test_loader=test_loader)"
   ]
  },
  {
   "cell_type": "code",
   "execution_count": 25,
   "metadata": {},
   "outputs": [
    {
     "name": "stdout",
     "output_type": "stream",
     "text": [
      "[66.66666666666667, 70.63492063492063, 70.63492063492063, 72.22222222222223, 81.74603174603175, 77.77777777777777, 78.57142857142857, 76.19047619047619, 79.36507936507937, 77.77777777777777]\n"
     ]
    }
   ],
   "source": [
    "print(what_gender.list_acc)"
   ]
  },
  {
   "cell_type": "code",
   "execution_count": 26,
   "metadata": {},
   "outputs": [
    {
     "data": {
      "text/plain": [
       "[<matplotlib.lines.Line2D at 0xbbb3668>]"
      ]
     },
     "execution_count": 26,
     "metadata": {},
     "output_type": "execute_result"
    },
    {
     "data": {
      "image/png": "[encoded data removed]",
      "text/plain": [
       "<Figure size 432x288 with 1 Axes>"
      ]
     },
     "metadata": {
      "needs_background": "light"
     },
     "output_type": "display_data"
    }
   ],
   "source": [
    "plt.plot(what_gender.list_acc)"
   ]
  },
  {
   "cell_type": "markdown",
   "metadata": {},
   "source": [
    "## Affichage simultané apprentissage plusieurs lr"
   ]
  },
  {
   "cell_type": "code",
   "execution_count": 14,
   "metadata": {},
   "outputs": [
    {
     "data": {
      "image/png": "[encoded data removed]",
      "text/plain": [
       "<Figure size 720x360 with 1 Axes>"
      ]
     },
     "metadata": {
      "needs_background": "light"
     },
     "output_type": "display_data"
    }
   ],
   "source": [
    "lr_005 = [73.01587301587301, 69.84126984126983, 74.60317460317461, 74.60317460317461, 75.39682539682539, 75.39682539682539, 76.98412698412699, 79.36507936507937, 80.95238095238095, 73.01587301587301, 76.98412698412699, 74.60317460317461, 81.74603174603175, 81.74603174603175, 78.57142857142857, 80.95238095238095, 79.36507936507937, 81.74603174603175, 78.57142857142857, 80.95238095238095, 78.57142857142857, 82.53968253968254, 83.33333333333333, 82.53968253968254, 84.92063492063492, 83.33333333333333, 84.12698412698413, 82.53968253968254, 76.19047619047619, 80.15873015873017, 81.74603174603175, 77.77777777777777, 81.74603174603175, 80.15873015873017, 78.57142857142857, 77.77777777777777, 80.15873015873017, 82.53968253968254, 84.92063492063492, 79.36507936507937, 80.15873015873017, 80.15873015873017, 82.53968253968254, 81.74603174603175, 83.33333333333333, 81.74603174603175, 83.33333333333333, 84.12698412698413, 80.95238095238095, 84.92063492063492, 80.95238095238095, 83.33333333333333, 82.53968253968254, 81.74603174603175, 76.19047619047619, 81.74603174603175, 82.53968253968254, 84.12698412698413, 83.33333333333333]\n",
    "lr_001 = [81.74603174603175, 76.19047619047619, 84.92063492063492, 80.15873015873017, 75.39682539682539, 80.15873015873017, 80.15873015873017, 81.74603174603175, 84.92063492063492, 84.92063492063492, 88.0952380952381, 86.5079365079365, 84.92063492063492, 84.12698412698413, 77.77777777777777, 82.53968253968254, 81.74603174603175, 84.12698412698413, 82.53968253968254, 81.74603174603175, 84.92063492063492, 81.74603174603175, 80.95238095238095, 80.95238095238095, 82.53968253968254, 80.15873015873017, 80.95238095238095, 78.57142857142857, 80.15873015873017, 80.95238095238095, 80.95238095238095, 80.15873015873017, 77.77777777777777, 80.15873015873017, 79.36507936507937, 78.57142857142857, 78.57142857142857, 77.77777777777777, 79.36507936507937, 78.57142857142857, 80.15873015873017, 79.36507936507937, 78.57142857142857, 76.98412698412699, 79.36507936507937, 80.15873015873017, 78.57142857142857, 77.77777777777777, 81.74603174603175, 81.74603174603175, 83.33333333333333, 80.15873015873017, 80.15873015873017, 80.95238095238095, 77.77777777777777, 79.36507936507937, 80.15873015873017, 77.77777777777777, 80.15873015873017]\n",
    "lr_0001 = [77.77777777777777, 82.53968253968254, 82.53968253968254, 82.53968253968254, 81.74603174603175, 80.95238095238095, 80.15873015873017, 82.53968253968254, 82.53968253968254, 82.53968253968254, 82.53968253968254, 84.92063492063492, 84.12698412698413, 80.95238095238095, 82.53968253968254, 80.95238095238095, 85.71428571428571, 81.74603174603175, 82.53968253968254, 82.53968253968254, 84.12698412698413, 82.53968253968254, 83.33333333333333, 80.95238095238095, 84.12698412698413, 82.53968253968254, 81.74603174603175, 82.53968253968254, 84.92063492063492, 84.92063492063492, 82.53968253968254, 84.12698412698413, 83.33333333333333, 84.92063492063492, 82.53968253968254, 82.53968253968254, 84.92063492063492, 84.12698412698413, 81.74603174603175, 82.53968253968254, 83.33333333333333, 84.12698412698413, 85.71428571428571, 82.53968253968254, 84.92063492063492, 83.33333333333333, 81.74603174603175, 81.74603174603175, 84.92063492063492, 81.74603174603175, 84.92063492063492, 83.33333333333333, 83.33333333333333, 83.33333333333333, 86.5079365079365, 84.92063492063492, 80.95238095238095, 81.74603174603175, 81.74603174603175]\n",
    "lr_00001 = [69.04761904761905, 70.63492063492063, 70.63492063492063, 76.98412698412699, 81.74603174603175, 80.15873015873017, 80.95238095238095, 82.53968253968254, 83.33333333333333, 79.36507936507937, 82.53968253968254, 80.95238095238095, 82.53968253968254, 80.95238095238095, 80.15873015873017, 82.53968253968254, 81.74603174603175, 80.95238095238095, 83.33333333333333, 80.95238095238095, 80.15873015873017, 80.15873015873017, 82.53968253968254, 80.95238095238095, 83.33333333333333, 81.74603174603175, 84.12698412698413, 83.33333333333333, 81.74603174603175, 80.95238095238095, 80.15873015873017, 83.33333333333333, 82.53968253968254, 82.53968253968254, 84.12698412698413, 80.95238095238095, 81.74603174603175, 83.33333333333333, 81.74603174603175, 84.12698412698413, 82.53968253968254, 81.74603174603175, 84.12698412698413, 81.74603174603175, 84.12698412698413, 83.33333333333333, 85.71428571428571, 84.12698412698413, 84.92063492063492, 83.33333333333333, 81.74603174603175, 82.53968253968254, 81.74603174603175, 83.33333333333333, 82.53968253968254, 83.33333333333333, 81.74603174603175, 83.33333333333333, 84.12698412698413]\n",
    "\n",
    "plt.figure(figsize=(10,5))\n",
    "plt.plot(lr_005, 'black')\n",
    "plt.plot(lr_001, 'purple')\n",
    "plt.plot(lr_0001, 'red')\n",
    "plt.plot(lr_00001, 'gold')\n",
    "plt.legend()\n",
    "plt.show()"
   ]
  },
  {
   "cell_type": "code",
   "execution_count": null,
   "metadata": {},
   "outputs": [],
   "source": []
  }
 ],
 "metadata": {
  "kernelspec": {
   "display_name": "Python 3",
   "language": "python",
   "name": "python3"
  },
  "language_info": {
   "codemirror_mode": {
    "name": "ipython",
    "version": 3
   },
   "file_extension": ".py",
   "mimetype": "text/x-python",
   "name": "python",
   "nbconvert_exporter": "python",
   "pygments_lexer": "ipython3",
   "version": "3.7.3"
  }
 },
 "nbformat": 4,
 "nbformat_minor": 2
}
