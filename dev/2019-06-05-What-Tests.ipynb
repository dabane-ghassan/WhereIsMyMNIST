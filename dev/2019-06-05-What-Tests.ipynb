{
 "cells": [
  {
   "cell_type": "code",
   "execution_count": 1,
   "metadata": {},
   "outputs": [],
   "source": [
    "import numpy as np\n",
    "import torch\n",
    "import torch.nn as nn\n",
    "import torch.nn.functional as F\n",
    "import torch.optim as optim\n",
    "from torchvision import datasets, transforms"
   ]
  },
  {
   "cell_type": "code",
   "execution_count": 19,
   "metadata": {},
   "outputs": [],
   "source": [
    "import sys\n",
    "sys.path.append('../figures')"
   ]
  },
  {
   "cell_type": "code",
   "execution_count": 20,
   "metadata": {},
   "outputs": [
    {
     "data": {
      "text/plain": [
       "['/home/dauce/Recherche/scripts/WhereIsMyMNIST/figures',\n",
       " '/home/dauce/Recherche/scripts/WhereIsMyMNIST/figures',\n",
       " '/home/dauce/Pylab/tvb-library/tvb',\n",
       " '/home/dauce/Pylab/Programs',\n",
       " '/home/dauce/Pylab/ksvd',\n",
       " '/usr/lib/python37.zip',\n",
       " '/usr/lib/python3.7',\n",
       " '/usr/lib/python3.7/lib-dynload',\n",
       " '',\n",
       " '/usr/local/lib/python3.7/dist-packages',\n",
       " '/usr/lib/python3/dist-packages',\n",
       " '/usr/local/lib/python3.7/dist-packages/IPython/extensions',\n",
       " '/home/dauce/.ipython',\n",
       " '../figures']"
      ]
     },
     "execution_count": 20,
     "metadata": {},
     "output_type": "execute_result"
    }
   ],
   "source": [
    "sys.path"
   ]
  },
  {
   "cell_type": "code",
   "execution_count": 2,
   "metadata": {},
   "outputs": [],
   "source": [
    "import matplotlib.pyplot as plt"
   ]
  },
  {
   "cell_type": "code",
   "execution_count": 3,
   "metadata": {},
   "outputs": [],
   "source": [
    "from what import WhatShift, WhatBackground, WhatNet, WhatTrainer, What, train, test"
   ]
  },
  {
   "cell_type": "code",
   "execution_count": 4,
   "metadata": {},
   "outputs": [
    {
     "data": {
      "text/plain": [
       "{'w': 28,\n",
       " 'minibatch_size': 100,\n",
       " 'train_batch_size': 50000,\n",
       " 'test_batch_size': 10000,\n",
       " 'noise_batch_size': 1000,\n",
       " 'mean': 0.1307,\n",
       " 'std': 0.3081,\n",
       " 'N_pic': 128,\n",
       " 'offset_std': 30,\n",
       " 'offset_max': 34,\n",
       " 'noise': 0.75,\n",
       " 'contrast': 0.7,\n",
       " 'sf_0': 0.1,\n",
       " 'B_sf': 0.1,\n",
       " 'N_theta': 6,\n",
       " 'N_azimuth': 24,\n",
       " 'N_eccentricity': 10,\n",
       " 'N_phase': 2,\n",
       " 'rho': 1.41,\n",
       " 'bias_deconv': True,\n",
       " 'p_dropout': 0.0,\n",
       " 'dim1': 1000,\n",
       " 'dim2': 1000,\n",
       " 'lr': 0.005,\n",
       " 'do_adam': True,\n",
       " 'bn1_bn_momentum': 0.5,\n",
       " 'bn2_bn_momentum': 0.5,\n",
       " 'momentum': 0.3,\n",
       " 'epochs': 60,\n",
       " 'num_processes': 1,\n",
       " 'no_cuda': True,\n",
       " 'log_interval': 100,\n",
       " 'verbose': 1,\n",
       " 'filename': '../data/2019-06-05',\n",
       " 'seed': 2019,\n",
       " 'N_cv': 10,\n",
       " 'do_compute': True}"
      ]
     },
     "execution_count": 4,
     "metadata": {},
     "output_type": "execute_result"
    }
   ],
   "source": [
    "from main import init\n",
    "args = init(filename='../data/2019-06-05')\n",
    "args"
   ]
  },
  {
   "cell_type": "markdown",
   "metadata": {},
   "source": [
    "## Unit tests"
   ]
  },
  {
   "cell_type": "code",
   "execution_count": 5,
   "metadata": {},
   "outputs": [],
   "source": [
    "transform=transforms.Compose([\n",
    "                               WhatShift(i_offset=-8, j_offset=8),\n",
    "                               WhatBackground(),\n",
    "                               transforms.ToTensor(),\n",
    "                               #transforms.Normalize((args.mean,), (args.std,))\n",
    "                           ])"
   ]
  },
  {
   "cell_type": "code",
   "execution_count": 6,
   "metadata": {},
   "outputs": [],
   "source": [
    "dataset_train = datasets.MNIST('../data',\n",
    "                        train=True,\n",
    "                        download=True,\n",
    "                        transform=transform,\n",
    "                        )"
   ]
  },
  {
   "cell_type": "code",
   "execution_count": 7,
   "metadata": {},
   "outputs": [],
   "source": [
    "train_loader = torch.utils.data.DataLoader(dataset_train,\n",
    "                                         batch_size=args.minibatch_size,\n",
    "                                         shuffle=True)"
   ]
  },
  {
   "cell_type": "code",
   "execution_count": 8,
   "metadata": {},
   "outputs": [],
   "source": [
    "dataset_test = datasets.MNIST('../data',\n",
    "                        train=False,\n",
    "                        download=True,\n",
    "                        transform=transform,\n",
    "                        )"
   ]
  },
  {
   "cell_type": "code",
   "execution_count": 9,
   "metadata": {},
   "outputs": [],
   "source": [
    "test_loader = torch.utils.data.DataLoader(dataset_test,\n",
    "                                         batch_size=args.minibatch_size,\n",
    "                                         shuffle=True)"
   ]
  },
  {
   "cell_type": "code",
   "execution_count": 10,
   "metadata": {},
   "outputs": [],
   "source": [
    "data, label = next(iter(train_loader))"
   ]
  },
  {
   "cell_type": "code",
   "execution_count": 11,
   "metadata": {},
   "outputs": [
    {
     "data": {
      "text/plain": [
       "torch.Size([100])"
      ]
     },
     "execution_count": 11,
     "metadata": {},
     "output_type": "execute_result"
    }
   ],
   "source": [
    "label.shape"
   ]
  },
  {
   "cell_type": "code",
   "execution_count": 12,
   "metadata": {},
   "outputs": [
    {
     "data": {
      "text/plain": [
       "Text(0.5, 1.0, 'label : 3')"
      ]
     },
     "execution_count": 12,
     "metadata": {},
     "output_type": "execute_result"
    },
    {
     "data": {
      "image/png": "[encoded data removed]",
      "text/plain": [
       "<Figure size 432x288 with 1 Axes>"
      ]
     },
     "metadata": {
      "needs_background": "light"
     },
     "output_type": "display_data"
    }
   ],
   "source": [
    "i = 2\n",
    "plt.imshow(data[i,:,:].detach().numpy().reshape((28, 28)))\n",
    "plt.title('label : '+str(label[i].item()))"
   ]
  },
  {
   "cell_type": "code",
   "execution_count": 13,
   "metadata": {},
   "outputs": [
    {
     "data": {
      "image/png": "[encoded data removed]",
      "text/plain": [
       "<Figure size 432x288 with 1 Axes>"
      ]
     },
     "metadata": {
      "needs_background": "light"
     },
     "output_type": "display_data"
    }
   ],
   "source": [
    "h = plt.hist(data[1,:,:].detach().numpy().flatten(), 30)"
   ]
  },
  {
   "cell_type": "code",
   "execution_count": 14,
   "metadata": {},
   "outputs": [],
   "source": [
    "device = 'cpu'\n",
    "model = WhatNet().to(device)\n",
    "loss_func = F.nll_loss\n",
    "optimizer = optim.Adam(model.parameters(), lr = 1e-3)"
   ]
  },
  {
   "cell_type": "code",
   "execution_count": 15,
   "metadata": {},
   "outputs": [],
   "source": [
    "if False:\n",
    "    for epoch in range(1, args.epochs + 1):\n",
    "        train(args, model, device, train_loader, loss_func, optimizer, epoch)\n",
    "        test(args, model, device, test_loader)"
   ]
  },
  {
   "cell_type": "markdown",
   "metadata": {},
   "source": [
    "## WhatTrainer Class test"
   ]
  },
  {
   "cell_type": "code",
   "execution_count": 16,
   "metadata": {},
   "outputs": [],
   "source": [
    "whatTrainer = WhatTrainer(args=args)"
   ]
  },
  {
   "cell_type": "code",
   "execution_count": 17,
   "metadata": {},
   "outputs": [],
   "source": [
    "if False:\n",
    "    for epoch in range(1, args.epochs + 1):\n",
    "        whatTrainer.train(epoch)\n",
    "        whatTrainer.test()"
   ]
  },
  {
   "cell_type": "markdown",
   "metadata": {},
   "source": [
    "## What class test"
   ]
  },
  {
   "cell_type": "code",
   "execution_count": 18,
   "metadata": {},
   "outputs": [
    {
     "name": "stdout",
     "output_type": "stream",
     "text": [
      "Train Epoch: 1/60 [0/60000 (0%)]\tLoss: 2.304649\n",
      "Train Epoch: 1/60 [10000/60000 (17%)]\tLoss: 1.151753\n",
      "Train Epoch: 1/60 [20000/60000 (33%)]\tLoss: 0.428308\n",
      "Train Epoch: 1/60 [30000/60000 (50%)]\tLoss: 0.641251\n",
      "Train Epoch: 1/60 [40000/60000 (67%)]\tLoss: 0.346771\n",
      "Train Epoch: 1/60 [50000/60000 (83%)]\tLoss: 0.446082\n",
      "\n",
      "Test set: Average loss: 0.3125, Accuracy: 8978/10000 (90%)\n",
      "\n",
      "Train Epoch: 2/60 [0/60000 (0%)]\tLoss: 0.335760\n",
      "Train Epoch: 2/60 [10000/60000 (17%)]\tLoss: 0.513833\n",
      "Train Epoch: 2/60 [20000/60000 (33%)]\tLoss: 0.359260\n",
      "Train Epoch: 2/60 [30000/60000 (50%)]\tLoss: 0.257805\n",
      "Train Epoch: 2/60 [40000/60000 (67%)]\tLoss: 0.286969\n",
      "Train Epoch: 2/60 [50000/60000 (83%)]\tLoss: 0.089625\n",
      "\n",
      "Test set: Average loss: 0.2165, Accuracy: 9272/10000 (93%)\n",
      "\n",
      "Train Epoch: 3/60 [0/60000 (0%)]\tLoss: 0.231204\n",
      "Train Epoch: 3/60 [10000/60000 (17%)]\tLoss: 0.283708\n",
      "Train Epoch: 3/60 [20000/60000 (33%)]\tLoss: 0.184278\n",
      "Train Epoch: 3/60 [30000/60000 (50%)]\tLoss: 0.205857\n",
      "Train Epoch: 3/60 [40000/60000 (67%)]\tLoss: 0.147697\n",
      "Train Epoch: 3/60 [50000/60000 (83%)]\tLoss: 0.288954\n",
      "\n",
      "Test set: Average loss: 0.2126, Accuracy: 9285/10000 (93%)\n",
      "\n",
      "Train Epoch: 4/60 [0/60000 (0%)]\tLoss: 0.253053\n",
      "Train Epoch: 4/60 [10000/60000 (17%)]\tLoss: 0.147437\n",
      "Train Epoch: 4/60 [20000/60000 (33%)]\tLoss: 0.188224\n",
      "Train Epoch: 4/60 [30000/60000 (50%)]\tLoss: 0.310031\n",
      "Train Epoch: 4/60 [40000/60000 (67%)]\tLoss: 0.263028\n",
      "Train Epoch: 4/60 [50000/60000 (83%)]\tLoss: 0.234696\n",
      "\n",
      "Test set: Average loss: 0.1837, Accuracy: 9404/10000 (94%)\n",
      "\n",
      "Train Epoch: 5/60 [0/60000 (0%)]\tLoss: 0.257007\n",
      "Train Epoch: 5/60 [10000/60000 (17%)]\tLoss: 0.128593\n",
      "Train Epoch: 5/60 [20000/60000 (33%)]\tLoss: 0.190288\n",
      "Train Epoch: 5/60 [30000/60000 (50%)]\tLoss: 0.167070\n",
      "Train Epoch: 5/60 [40000/60000 (67%)]\tLoss: 0.269451\n",
      "Train Epoch: 5/60 [50000/60000 (83%)]\tLoss: 0.173768\n",
      "\n",
      "Test set: Average loss: 0.1904, Accuracy: 9363/10000 (94%)\n",
      "\n",
      "Train Epoch: 6/60 [0/60000 (0%)]\tLoss: 0.228910\n",
      "Train Epoch: 6/60 [10000/60000 (17%)]\tLoss: 0.136873\n",
      "Train Epoch: 6/60 [20000/60000 (33%)]\tLoss: 0.167154\n",
      "Train Epoch: 6/60 [30000/60000 (50%)]\tLoss: 0.076557\n",
      "Train Epoch: 6/60 [40000/60000 (67%)]\tLoss: 0.200392\n",
      "Train Epoch: 6/60 [50000/60000 (83%)]\tLoss: 0.152802\n",
      "\n",
      "Test set: Average loss: 0.1790, Accuracy: 9413/10000 (94%)\n",
      "\n",
      "Train Epoch: 7/60 [0/60000 (0%)]\tLoss: 0.285546\n",
      "Train Epoch: 7/60 [10000/60000 (17%)]\tLoss: 0.242519\n",
      "Train Epoch: 7/60 [20000/60000 (33%)]\tLoss: 0.182492\n",
      "Train Epoch: 7/60 [30000/60000 (50%)]\tLoss: 0.150650\n",
      "Train Epoch: 7/60 [40000/60000 (67%)]\tLoss: 0.080944\n",
      "Train Epoch: 7/60 [50000/60000 (83%)]\tLoss: 0.128769\n",
      "\n",
      "Test set: Average loss: 0.1918, Accuracy: 9400/10000 (94%)\n",
      "\n",
      "Train Epoch: 8/60 [0/60000 (0%)]\tLoss: 0.293912\n",
      "Train Epoch: 8/60 [10000/60000 (17%)]\tLoss: 0.134169\n",
      "Train Epoch: 8/60 [20000/60000 (33%)]\tLoss: 0.118535\n",
      "Train Epoch: 8/60 [30000/60000 (50%)]\tLoss: 0.178548\n",
      "Train Epoch: 8/60 [40000/60000 (67%)]\tLoss: 0.094177\n",
      "Train Epoch: 8/60 [50000/60000 (83%)]\tLoss: 0.214399\n",
      "\n",
      "Test set: Average loss: 0.1629, Accuracy: 9476/10000 (95%)\n",
      "\n",
      "Train Epoch: 9/60 [0/60000 (0%)]\tLoss: 0.131149\n",
      "Train Epoch: 9/60 [10000/60000 (17%)]\tLoss: 0.111594\n",
      "Train Epoch: 9/60 [20000/60000 (33%)]\tLoss: 0.251315\n",
      "Train Epoch: 9/60 [30000/60000 (50%)]\tLoss: 0.263327\n",
      "Train Epoch: 9/60 [40000/60000 (67%)]\tLoss: 0.085057\n",
      "Train Epoch: 9/60 [50000/60000 (83%)]\tLoss: 0.129831\n",
      "\n",
      "Test set: Average loss: 0.1743, Accuracy: 9443/10000 (94%)\n",
      "\n",
      "Train Epoch: 10/60 [0/60000 (0%)]\tLoss: 0.352937\n",
      "Train Epoch: 10/60 [10000/60000 (17%)]\tLoss: 0.134906\n",
      "Train Epoch: 10/60 [20000/60000 (33%)]\tLoss: 0.098099\n",
      "Train Epoch: 10/60 [30000/60000 (50%)]\tLoss: 0.210409\n",
      "Train Epoch: 10/60 [40000/60000 (67%)]\tLoss: 0.171513\n",
      "Train Epoch: 10/60 [50000/60000 (83%)]\tLoss: 0.101507\n",
      "\n",
      "Test set: Average loss: 0.1650, Accuracy: 9484/10000 (95%)\n",
      "\n",
      "Train Epoch: 11/60 [0/60000 (0%)]\tLoss: 0.116508\n",
      "Train Epoch: 11/60 [10000/60000 (17%)]\tLoss: 0.071566\n",
      "Train Epoch: 11/60 [20000/60000 (33%)]\tLoss: 0.171210\n",
      "Train Epoch: 11/60 [30000/60000 (50%)]\tLoss: 0.125968\n",
      "Train Epoch: 11/60 [40000/60000 (67%)]\tLoss: 0.167395\n",
      "Train Epoch: 11/60 [50000/60000 (83%)]\tLoss: 0.062074\n",
      "\n",
      "Test set: Average loss: 0.1925, Accuracy: 9414/10000 (94%)\n",
      "\n",
      "Train Epoch: 12/60 [0/60000 (0%)]\tLoss: 0.239056\n",
      "Train Epoch: 12/60 [10000/60000 (17%)]\tLoss: 0.090440\n",
      "Train Epoch: 12/60 [20000/60000 (33%)]\tLoss: 0.140784\n",
      "Train Epoch: 12/60 [30000/60000 (50%)]\tLoss: 0.171742\n",
      "Train Epoch: 12/60 [40000/60000 (67%)]\tLoss: 0.034260\n",
      "Train Epoch: 12/60 [50000/60000 (83%)]\tLoss: 0.134110\n",
      "\n",
      "Test set: Average loss: 0.1458, Accuracy: 9544/10000 (95%)\n",
      "\n",
      "Train Epoch: 13/60 [0/60000 (0%)]\tLoss: 0.067099\n",
      "Train Epoch: 13/60 [10000/60000 (17%)]\tLoss: 0.134727\n",
      "Train Epoch: 13/60 [20000/60000 (33%)]\tLoss: 0.165380\n",
      "Train Epoch: 13/60 [30000/60000 (50%)]\tLoss: 0.119824\n",
      "Train Epoch: 13/60 [40000/60000 (67%)]\tLoss: 0.085413\n",
      "Train Epoch: 13/60 [50000/60000 (83%)]\tLoss: 0.025970\n",
      "\n",
      "Test set: Average loss: 0.1553, Accuracy: 9521/10000 (95%)\n",
      "\n",
      "Train Epoch: 14/60 [0/60000 (0%)]\tLoss: 0.180044\n",
      "Train Epoch: 14/60 [10000/60000 (17%)]\tLoss: 0.191273\n",
      "Train Epoch: 14/60 [20000/60000 (33%)]\tLoss: 0.131282\n",
      "Train Epoch: 14/60 [30000/60000 (50%)]\tLoss: 0.188751\n",
      "Train Epoch: 14/60 [40000/60000 (67%)]\tLoss: 0.103821\n",
      "Train Epoch: 14/60 [50000/60000 (83%)]\tLoss: 0.040001\n",
      "\n",
      "Test set: Average loss: 0.1548, Accuracy: 9507/10000 (95%)\n",
      "\n",
      "Train Epoch: 15/60 [0/60000 (0%)]\tLoss: 0.146794\n",
      "Train Epoch: 15/60 [10000/60000 (17%)]\tLoss: 0.111287\n",
      "Train Epoch: 15/60 [20000/60000 (33%)]\tLoss: 0.117031\n",
      "Train Epoch: 15/60 [30000/60000 (50%)]\tLoss: 0.090567\n",
      "Train Epoch: 15/60 [40000/60000 (67%)]\tLoss: 0.041306\n",
      "Train Epoch: 15/60 [50000/60000 (83%)]\tLoss: 0.104290\n",
      "\n",
      "Test set: Average loss: 0.1467, Accuracy: 9535/10000 (95%)\n",
      "\n",
      "Train Epoch: 16/60 [0/60000 (0%)]\tLoss: 0.044413\n",
      "Train Epoch: 16/60 [10000/60000 (17%)]\tLoss: 0.132252\n",
      "Train Epoch: 16/60 [20000/60000 (33%)]\tLoss: 0.046952\n",
      "Train Epoch: 16/60 [30000/60000 (50%)]\tLoss: 0.138262\n",
      "Train Epoch: 16/60 [40000/60000 (67%)]\tLoss: 0.043959\n",
      "Train Epoch: 16/60 [50000/60000 (83%)]\tLoss: 0.157982\n",
      "\n",
      "Test set: Average loss: 0.1666, Accuracy: 9493/10000 (95%)\n",
      "\n",
      "Train Epoch: 17/60 [0/60000 (0%)]\tLoss: 0.109748\n",
      "Train Epoch: 17/60 [10000/60000 (17%)]\tLoss: 0.151395\n",
      "Train Epoch: 17/60 [20000/60000 (33%)]\tLoss: 0.149557\n",
      "Train Epoch: 17/60 [30000/60000 (50%)]\tLoss: 0.034449\n",
      "Train Epoch: 17/60 [40000/60000 (67%)]\tLoss: 0.043255\n",
      "Train Epoch: 17/60 [50000/60000 (83%)]\tLoss: 0.125922\n",
      "\n",
      "Test set: Average loss: 0.1696, Accuracy: 9500/10000 (95%)\n",
      "\n",
      "Train Epoch: 18/60 [0/60000 (0%)]\tLoss: 0.066791\n",
      "Train Epoch: 18/60 [10000/60000 (17%)]\tLoss: 0.053571\n",
      "Train Epoch: 18/60 [20000/60000 (33%)]\tLoss: 0.077333\n",
      "Train Epoch: 18/60 [30000/60000 (50%)]\tLoss: 0.089180\n",
      "Train Epoch: 18/60 [40000/60000 (67%)]\tLoss: 0.106042\n",
      "Train Epoch: 18/60 [50000/60000 (83%)]\tLoss: 0.050696\n",
      "\n",
      "Test set: Average loss: 0.1690, Accuracy: 9467/10000 (95%)\n",
      "\n",
      "Train Epoch: 19/60 [0/60000 (0%)]\tLoss: 0.092836\n",
      "Train Epoch: 19/60 [10000/60000 (17%)]\tLoss: 0.021933\n",
      "Train Epoch: 19/60 [20000/60000 (33%)]\tLoss: 0.114941\n",
      "Train Epoch: 19/60 [30000/60000 (50%)]\tLoss: 0.264950\n",
      "Train Epoch: 19/60 [40000/60000 (67%)]\tLoss: 0.138693\n",
      "Train Epoch: 19/60 [50000/60000 (83%)]\tLoss: 0.079623\n"
     ]
    },
    {
     "ename": "KeyboardInterrupt",
     "evalue": "",
     "output_type": "error",
     "traceback": [
      "\u001b[0;31m---------------------------------------------------------------------------\u001b[0m",
      "\u001b[0;31mKeyboardInterrupt\u001b[0m                         Traceback (most recent call last)",
      "\u001b[0;32m<ipython-input-18-d1904e77adfe>\u001b[0m in \u001b[0;36m<module>\u001b[0;34m\u001b[0m\n\u001b[0;32m----> 1\u001b[0;31m \u001b[0mwhat\u001b[0m \u001b[0;34m=\u001b[0m \u001b[0mWhat\u001b[0m\u001b[0;34m(\u001b[0m\u001b[0margs\u001b[0m\u001b[0;34m=\u001b[0m\u001b[0margs\u001b[0m\u001b[0;34m)\u001b[0m\u001b[0;34m\u001b[0m\u001b[0;34m\u001b[0m\u001b[0m\n\u001b[0m",
      "\u001b[0;32m~/Recherche/scripts/WhereIsMyMNIST/figures/what.py\u001b[0m in \u001b[0;36m__init__\u001b[0;34m(self, args, train_loader, test_loader)\u001b[0m\n\u001b[1;32m    190\u001b[0m             \u001b[0mwhatTrainer\u001b[0m \u001b[0;34m=\u001b[0m \u001b[0mWhatTrainer\u001b[0m\u001b[0;34m(\u001b[0m\u001b[0margs\u001b[0m\u001b[0;34m,\u001b[0m \u001b[0mtrain_loader\u001b[0m\u001b[0;34m=\u001b[0m\u001b[0mtrain_loader\u001b[0m\u001b[0;34m,\u001b[0m \u001b[0mtest_loader\u001b[0m\u001b[0;34m=\u001b[0m\u001b[0mtest_loader\u001b[0m\u001b[0;34m,\u001b[0m \u001b[0mdevice\u001b[0m\u001b[0;34m=\u001b[0m\u001b[0mdevice\u001b[0m\u001b[0;34m)\u001b[0m\u001b[0;34m\u001b[0m\u001b[0;34m\u001b[0m\u001b[0m\n\u001b[1;32m    191\u001b[0m             \u001b[0;32mfor\u001b[0m \u001b[0mepoch\u001b[0m \u001b[0;32min\u001b[0m \u001b[0mrange\u001b[0m\u001b[0;34m(\u001b[0m\u001b[0;36m1\u001b[0m\u001b[0;34m,\u001b[0m \u001b[0margs\u001b[0m\u001b[0;34m.\u001b[0m\u001b[0mepochs\u001b[0m \u001b[0;34m+\u001b[0m \u001b[0;36m1\u001b[0m\u001b[0;34m)\u001b[0m\u001b[0;34m:\u001b[0m\u001b[0;34m\u001b[0m\u001b[0;34m\u001b[0m\u001b[0m\n\u001b[0;32m--> 192\u001b[0;31m                 \u001b[0mwhatTrainer\u001b[0m\u001b[0;34m.\u001b[0m\u001b[0mtrain\u001b[0m\u001b[0;34m(\u001b[0m\u001b[0mepoch\u001b[0m\u001b[0;34m)\u001b[0m\u001b[0;34m\u001b[0m\u001b[0;34m\u001b[0m\u001b[0m\n\u001b[0m\u001b[1;32m    193\u001b[0m                 \u001b[0mwhatTrainer\u001b[0m\u001b[0;34m.\u001b[0m\u001b[0mtest\u001b[0m\u001b[0;34m(\u001b[0m\u001b[0;34m)\u001b[0m\u001b[0;34m\u001b[0m\u001b[0;34m\u001b[0m\u001b[0m\n\u001b[1;32m    194\u001b[0m             \u001b[0mself\u001b[0m\u001b[0;34m.\u001b[0m\u001b[0mmodel\u001b[0m \u001b[0;34m=\u001b[0m \u001b[0mwhatTrainer\u001b[0m\u001b[0;34m.\u001b[0m\u001b[0mmodel\u001b[0m\u001b[0;34m\u001b[0m\u001b[0;34m\u001b[0m\u001b[0m\n",
      "\u001b[0;32m~/Recherche/scripts/WhereIsMyMNIST/figures/what.py\u001b[0m in \u001b[0;36mtrain\u001b[0;34m(self, epoch)\u001b[0m\n\u001b[1;32m    139\u001b[0m \u001b[0;34m\u001b[0m\u001b[0m\n\u001b[1;32m    140\u001b[0m     \u001b[0;32mdef\u001b[0m \u001b[0mtrain\u001b[0m\u001b[0;34m(\u001b[0m\u001b[0mself\u001b[0m\u001b[0;34m,\u001b[0m \u001b[0mepoch\u001b[0m\u001b[0;34m)\u001b[0m\u001b[0;34m:\u001b[0m\u001b[0;34m\u001b[0m\u001b[0;34m\u001b[0m\u001b[0m\n\u001b[0;32m--> 141\u001b[0;31m         \u001b[0mtrain\u001b[0m\u001b[0;34m(\u001b[0m\u001b[0mself\u001b[0m\u001b[0;34m.\u001b[0m\u001b[0margs\u001b[0m\u001b[0;34m,\u001b[0m \u001b[0mself\u001b[0m\u001b[0;34m.\u001b[0m\u001b[0mmodel\u001b[0m\u001b[0;34m,\u001b[0m \u001b[0mself\u001b[0m\u001b[0;34m.\u001b[0m\u001b[0mdevice\u001b[0m\u001b[0;34m,\u001b[0m \u001b[0mself\u001b[0m\u001b[0;34m.\u001b[0m\u001b[0mtrain_loader\u001b[0m\u001b[0;34m,\u001b[0m \u001b[0mself\u001b[0m\u001b[0;34m.\u001b[0m\u001b[0mloss_func\u001b[0m\u001b[0;34m,\u001b[0m \u001b[0mself\u001b[0m\u001b[0;34m.\u001b[0m\u001b[0moptimizer\u001b[0m\u001b[0;34m,\u001b[0m \u001b[0mepoch\u001b[0m\u001b[0;34m)\u001b[0m\u001b[0;34m\u001b[0m\u001b[0;34m\u001b[0m\u001b[0m\n\u001b[0m\u001b[1;32m    142\u001b[0m \u001b[0;34m\u001b[0m\u001b[0m\n\u001b[1;32m    143\u001b[0m     \u001b[0;32mdef\u001b[0m \u001b[0mtest\u001b[0m\u001b[0;34m(\u001b[0m\u001b[0mself\u001b[0m\u001b[0;34m)\u001b[0m\u001b[0;34m:\u001b[0m\u001b[0;34m\u001b[0m\u001b[0;34m\u001b[0m\u001b[0m\n",
      "\u001b[0;32m~/Recherche/scripts/WhereIsMyMNIST/figures/what.py\u001b[0m in \u001b[0;36mtrain\u001b[0;34m(args, model, device, train_loader, loss_function, optimizer, epoch)\u001b[0m\n\u001b[1;32m    152\u001b[0m         \u001b[0mloss\u001b[0m \u001b[0;34m=\u001b[0m \u001b[0mloss_function\u001b[0m\u001b[0;34m(\u001b[0m\u001b[0moutput\u001b[0m\u001b[0;34m,\u001b[0m \u001b[0mtarget\u001b[0m\u001b[0;34m)\u001b[0m\u001b[0;34m\u001b[0m\u001b[0;34m\u001b[0m\u001b[0m\n\u001b[1;32m    153\u001b[0m         \u001b[0mloss\u001b[0m\u001b[0;34m.\u001b[0m\u001b[0mbackward\u001b[0m\u001b[0;34m(\u001b[0m\u001b[0;34m)\u001b[0m\u001b[0;34m\u001b[0m\u001b[0;34m\u001b[0m\u001b[0m\n\u001b[0;32m--> 154\u001b[0;31m         \u001b[0moptimizer\u001b[0m\u001b[0;34m.\u001b[0m\u001b[0mstep\u001b[0m\u001b[0;34m(\u001b[0m\u001b[0;34m)\u001b[0m\u001b[0;34m\u001b[0m\u001b[0;34m\u001b[0m\u001b[0m\n\u001b[0m\u001b[1;32m    155\u001b[0m         \u001b[0;32mif\u001b[0m \u001b[0mbatch_idx\u001b[0m \u001b[0;34m%\u001b[0m \u001b[0margs\u001b[0m\u001b[0;34m.\u001b[0m\u001b[0mlog_interval\u001b[0m \u001b[0;34m==\u001b[0m \u001b[0;36m0\u001b[0m\u001b[0;34m:\u001b[0m\u001b[0;34m\u001b[0m\u001b[0;34m\u001b[0m\u001b[0m\n\u001b[1;32m    156\u001b[0m             print('Train Epoch: {}/{} [{}/{} ({:.0f}%)]\\tLoss: {:.6f}'.format(\n",
      "\u001b[0;32m/usr/local/lib/python3.7/dist-packages/torch/optim/adam.py\u001b[0m in \u001b[0;36mstep\u001b[0;34m(self, closure)\u001b[0m\n\u001b[1;32m    105\u001b[0m                 \u001b[0mstep_size\u001b[0m \u001b[0;34m=\u001b[0m \u001b[0mgroup\u001b[0m\u001b[0;34m[\u001b[0m\u001b[0;34m'lr'\u001b[0m\u001b[0;34m]\u001b[0m \u001b[0;34m*\u001b[0m \u001b[0mmath\u001b[0m\u001b[0;34m.\u001b[0m\u001b[0msqrt\u001b[0m\u001b[0;34m(\u001b[0m\u001b[0mbias_correction2\u001b[0m\u001b[0;34m)\u001b[0m \u001b[0;34m/\u001b[0m \u001b[0mbias_correction1\u001b[0m\u001b[0;34m\u001b[0m\u001b[0;34m\u001b[0m\u001b[0m\n\u001b[1;32m    106\u001b[0m \u001b[0;34m\u001b[0m\u001b[0m\n\u001b[0;32m--> 107\u001b[0;31m                 \u001b[0mp\u001b[0m\u001b[0;34m.\u001b[0m\u001b[0mdata\u001b[0m\u001b[0;34m.\u001b[0m\u001b[0maddcdiv_\u001b[0m\u001b[0;34m(\u001b[0m\u001b[0;34m-\u001b[0m\u001b[0mstep_size\u001b[0m\u001b[0;34m,\u001b[0m \u001b[0mexp_avg\u001b[0m\u001b[0;34m,\u001b[0m \u001b[0mdenom\u001b[0m\u001b[0;34m)\u001b[0m\u001b[0;34m\u001b[0m\u001b[0;34m\u001b[0m\u001b[0m\n\u001b[0m\u001b[1;32m    108\u001b[0m \u001b[0;34m\u001b[0m\u001b[0m\n\u001b[1;32m    109\u001b[0m         \u001b[0;32mreturn\u001b[0m \u001b[0mloss\u001b[0m\u001b[0;34m\u001b[0m\u001b[0;34m\u001b[0m\u001b[0m\n",
      "\u001b[0;31mKeyboardInterrupt\u001b[0m: "
     ]
    }
   ],
   "source": [
    "what = What(args=args)"
   ]
  },
  {
   "cell_type": "code",
   "execution_count": null,
   "metadata": {},
   "outputs": [],
   "source": []
  }
 ],
 "metadata": {
  "kernelspec": {
   "display_name": "Python 3",
   "language": "python",
   "name": "python3"
  },
  "language_info": {
   "codemirror_mode": {
    "name": "ipython",
    "version": 3
   },
   "file_extension": ".py",
   "mimetype": "text/x-python",
   "name": "python",
   "nbconvert_exporter": "python",
   "pygments_lexer": "ipython3",
   "version": "3.7.3"
  }
 },
 "nbformat": 4,
 "nbformat_minor": 2
}
