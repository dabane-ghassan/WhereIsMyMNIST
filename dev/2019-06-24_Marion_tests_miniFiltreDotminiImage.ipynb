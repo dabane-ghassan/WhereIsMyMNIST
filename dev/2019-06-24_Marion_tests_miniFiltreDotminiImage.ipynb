{
 "cells": [
  {
   "cell_type": "markdown",
   "metadata": {},
   "source": [
    "## Imports"
   ]
  },
  {
   "cell_type": "code",
   "execution_count": 1,
   "metadata": {},
   "outputs": [],
   "source": [
    "import numpy as np\n",
    "import torch\n",
    "import torch.nn as nn\n",
    "import torch.nn.functional as F\n",
    "import torch.optim as optim\n",
    "from torchvision import datasets, transforms\n",
    "from torch.utils.data import TensorDataset, DataLoader"
   ]
  },
  {
   "cell_type": "code",
   "execution_count": 2,
   "metadata": {},
   "outputs": [],
   "source": [
    "import matplotlib.pyplot as plt"
   ]
  },
  {
   "cell_type": "code",
   "execution_count": 3,
   "metadata": {},
   "outputs": [],
   "source": [
    "from PIL import Image"
   ]
  },
  {
   "cell_type": "code",
   "execution_count": 4,
   "metadata": {},
   "outputs": [],
   "source": [
    "import sys\n",
    "sys.path.append(\"../figures\")\n",
    "\n",
    "from robust_what import WhatShift, WhatBackground, WhatNet, WhatTrainer, What, train, test, MNIST"
   ]
  },
  {
   "cell_type": "code",
   "execution_count": 5,
   "metadata": {},
   "outputs": [
    {
     "data": {
      "text/plain": [
       "{'w': 28,\n",
       " 'minibatch_size': 100,\n",
       " 'train_batch_size': 50000,\n",
       " 'test_batch_size': 10000,\n",
       " 'noise_batch_size': 1000,\n",
       " 'mean': 0.1307,\n",
       " 'std': 0.3081,\n",
       " 'N_pic': 128,\n",
       " 'offset_std': 30,\n",
       " 'offset_max': 34,\n",
       " 'noise': 1.0,\n",
       " 'contrast': 0.7,\n",
       " 'sf_0': 0.1,\n",
       " 'B_sf': 0.1,\n",
       " 'N_theta': 6,\n",
       " 'N_azimuth': 24,\n",
       " 'N_eccentricity': 10,\n",
       " 'N_phase': 2,\n",
       " 'rho': 1.41,\n",
       " 'bias_deconv': True,\n",
       " 'p_dropout': 0.0,\n",
       " 'dim1': 1000,\n",
       " 'dim2': 1000,\n",
       " 'lr': 0.005,\n",
       " 'do_adam': True,\n",
       " 'bn1_bn_momentum': 0.5,\n",
       " 'bn2_bn_momentum': 0.5,\n",
       " 'momentum': 0.3,\n",
       " 'epochs': 60,\n",
       " 'num_processes': 1,\n",
       " 'no_cuda': True,\n",
       " 'log_interval': 100,\n",
       " 'verbose': 1,\n",
       " 'filename': '../data/2019-06-05',\n",
       " 'seed': 2019,\n",
       " 'N_cv': 10,\n",
       " 'do_compute': True,\n",
       " 'what_offset_std': 5.0,\n",
       " 'what_offset_max': 15}"
      ]
     },
     "execution_count": 5,
     "metadata": {},
     "output_type": "execute_result"
    }
   ],
   "source": [
    "from main import init\n",
    "args = init(filename='../data/2019-06-12')\n",
    "args"
   ]
  },
  {
   "cell_type": "markdown",
   "metadata": {},
   "source": [
    "## Affichge image MNIST 28x28"
   ]
  },
  {
   "cell_type": "code",
   "execution_count": 6,
   "metadata": {},
   "outputs": [],
   "source": [
    "transform=transforms.Compose([\n",
    "                               WhatShift(args, i_offset=None, j_offset=None),\n",
    "                               WhatBackground(),\n",
    "                               transforms.ToTensor(),\n",
    "                               #transforms.Normalize((args.mean,), (args.std,))\n",
    "                           ])"
   ]
  },
  {
   "cell_type": "code",
   "execution_count": 7,
   "metadata": {},
   "outputs": [],
   "source": [
    "dataset_test = MNIST('../data',\n",
    "                        train=False,\n",
    "                        download=True,\n",
    "                        transform=transform,\n",
    "                        )"
   ]
  },
  {
   "cell_type": "code",
   "execution_count": 8,
   "metadata": {},
   "outputs": [],
   "source": [
    "test_loader = torch.utils.data.DataLoader(dataset_test,\n",
    "                                         batch_size=args.minibatch_size,\n",
    "                                         shuffle=True)"
   ]
  },
  {
   "cell_type": "code",
   "execution_count": 9,
   "metadata": {},
   "outputs": [],
   "source": [
    "data, label = next(iter(test_loader))"
   ]
  },
  {
   "cell_type": "code",
   "execution_count": 10,
   "metadata": {},
   "outputs": [
    {
     "data": {
      "text/plain": [
       "Text(0.5, 1.0, 'label : 7')"
      ]
     },
     "execution_count": 10,
     "metadata": {},
     "output_type": "execute_result"
    },
    {
     "data": {
      "image/png": "[encoded data removed]",
      "text/plain": [
       "<Figure size 432x288 with 1 Axes>"
      ]
     },
     "metadata": {
      "needs_background": "light"
     },
     "output_type": "display_data"
    }
   ],
   "source": [
    "i = 3\n",
    "plt.imshow(data[i,:,:].detach().numpy().reshape((28, 28)))\n",
    "plt.title('label : '+str(label[i].item()))"
   ]
  },
  {
   "cell_type": "markdown",
   "metadata": {},
   "source": [
    "## Affichage Image 128x128"
   ]
  },
  {
   "cell_type": "code",
   "execution_count": 11,
   "metadata": {},
   "outputs": [],
   "source": [
    "import sys\n",
    "sys.path.append(\"../figures\")\n",
    "\n",
    "from where_copie import RetinaFill, RetinaBackground, RetinaMask, RetinaWhiten "
   ]
  },
  {
   "cell_type": "code",
   "execution_count": 34,
   "metadata": {},
   "outputs": [],
   "source": [
    "i_offset = None\n",
    "j_offset = None"
   ]
  },
  {
   "cell_type": "code",
   "execution_count": 70,
   "metadata": {},
   "outputs": [],
   "source": [
    "from display import minmax\n",
    "\n",
    "class WhereShift:\n",
    "    def __init__(self, args, i_offset=None, j_offset=None, radius=None, theta=None, baseline=0., keep_label = False):\n",
    "        self.args = args\n",
    "        self.i_offset = i_offset\n",
    "        self.j_offset = j_offset\n",
    "        self.radius = radius\n",
    "        self.theta = theta\n",
    "        self.baseline = baseline\n",
    "        self.keep_label = keep_label\n",
    "\n",
    "    def __call__(self, data):\n",
    "        #sample = np.array(sample)\n",
    "        \n",
    "        sample = data[0]\n",
    "        seed = data[1]\n",
    "        if self.keep_label:\n",
    "            label = data[2]\n",
    "        \n",
    "        #print(index)\n",
    "        np.random.seed(seed)\n",
    "        \n",
    "        if self.i_offset is not None:\n",
    "            i_offset = self.i_offset\n",
    "            if self.j_offset is None:\n",
    "                #j_offset_f = np.random.randn() * self.args.offset_std\n",
    "                #j_offset_f = minmax(j_offset_f, self.args.offset_max)\n",
    "                #j_offset = int(j_offset_f)\n",
    "                j_offset = np.random.randint( - self.args.offset_max, self.args.offset_max)\n",
    "            else:\n",
    "                j_offset = int(self.j_offset)\n",
    "        else: \n",
    "            if self.j_offset is not None:\n",
    "                j_offset = int(self.j_offset)\n",
    "                #i_offset_f = np.random.randn() * self.args.offset_std\n",
    "                #i_offset_f = minmax(i_offset_f, self.args.offset_max)\n",
    "                #i_offset = int(i_offset_f)\n",
    "                i_offset = np.random.randint( - self.args.N_pic //3, self.args.N_pic //3)\n",
    "            else: #self.i_offset is None and self.j_offset is None\n",
    "                i_offset = np.random.randint( - self.args.N_pic //3, self.args.N_pic //3)\n",
    "                j_offset = np.random.randint( - self.args.N_pic //3, self.args.N_pic //3)\n",
    "                \"\"\"\n",
    "                if self.theta is None:\n",
    "                    theta = np.random.rand() * 2 * np.pi\n",
    "                    #print(theta)\n",
    "                else:\n",
    "                    theta = self.theta\n",
    "                if self.radius is None:\n",
    "                    radius_f = np.abs(np.random.randn()) * self.args.offset_std\n",
    "                    radius = minmax(radius_f, self.args.offset_max)\n",
    "                    #print(radius)\n",
    "                else:\n",
    "                    radius = self.radius\n",
    "                i_offset = int(radius * np.cos(theta))\n",
    "                j_offset = int(radius * np.sin(theta))\n",
    "                \"\"\"\n",
    "                \n",
    "        #print(\"i_offset = \", i_offset)\n",
    "        #print(\"j_offset = \", j_offset)\n",
    "                \n",
    "        N_pic = sample.shape[0]\n",
    "        fullfield = np.ones((N_pic, N_pic)) * self.baseline\n",
    "        i_binf_patch = max(0, -i_offset)\n",
    "        i_bsup_patch = min(N_pic, N_pic - i_offset)\n",
    "        j_binf_patch = max(0, -j_offset)\n",
    "        j_bsup_patch = min(N_pic, N_pic - j_offset)\n",
    "        patch = sample[i_binf_patch:i_bsup_patch,\n",
    "                       j_binf_patch:j_bsup_patch]\n",
    "\n",
    "        i_binf_data = max(0, i_offset)\n",
    "        i_bsup_data = min(N_pic, N_pic + i_offset)\n",
    "        j_binf_data = max(0, j_offset)\n",
    "        j_bsup_data = min(N_pic, N_pic + j_offset)\n",
    "        fullfield[i_binf_data:i_bsup_data,\n",
    "                  j_binf_data:j_bsup_data] = patch\n",
    "        if self.keep_label:\n",
    "            return fullfield, label, i_offset, j_offset\n",
    "        else:\n",
    "            return fullfield #.astype('B')"
   ]
  },
  {
   "cell_type": "code",
   "execution_count": 71,
   "metadata": {},
   "outputs": [],
   "source": [
    "transform=transforms.Compose([\n",
    "                               RetinaFill(N_pic=args.N_pic),\n",
    "                               #WhereShift(args, theta=3*math.pi/4), \n",
    "                               #WhereShift(args, radius = 18), \n",
    "                               WhereShift(args, i_offset=i_offset, j_offset=j_offset),\n",
    "                               RetinaBackground( contrast=args.contrast,\n",
    "                                                 noise=args.noise,\n",
    "                                                 sf_0=args.sf_0,\n",
    "                                                 B_sf=args.B_sf),\n",
    "                               RetinaMask(N_pic=args.N_pic),\n",
    "                               RetinaWhiten(N_pic=args.N_pic),\n",
    "                               #RetinaTransform(retina.retina_transform_vector),\n",
    "                               #Normalize()\n",
    "                           ])"
   ]
  },
  {
   "cell_type": "code",
   "execution_count": 72,
   "metadata": {},
   "outputs": [],
   "source": [
    "dataset_test = MNIST('../data',\n",
    "                        train=False,\n",
    "                        download=True,\n",
    "                        transform=transform,\n",
    "                        #target_transform = target_transform,\n",
    "                        )"
   ]
  },
  {
   "cell_type": "code",
   "execution_count": 73,
   "metadata": {},
   "outputs": [],
   "source": [
    "test_loader = torch.utils.data.DataLoader(dataset_test,\n",
    "                                         batch_size=args.minibatch_size,\n",
    "                                         shuffle=True)"
   ]
  },
  {
   "cell_type": "code",
   "execution_count": 83,
   "metadata": {},
   "outputs": [],
   "source": [
    "data3, label3 = next(iter(test_loader))"
   ]
  },
  {
   "cell_type": "code",
   "execution_count": 84,
   "metadata": {},
   "outputs": [
    {
     "name": "stdout",
     "output_type": "stream",
     "text": [
      "torch.Size([100, 128, 128])\n"
     ]
    },
    {
     "data": {
      "text/plain": [
       "torch.Size([100])"
      ]
     },
     "execution_count": 84,
     "metadata": {},
     "output_type": "execute_result"
    }
   ],
   "source": [
    "print(data3.shape)\n",
    "label3.shape"
   ]
  },
  {
   "cell_type": "code",
   "execution_count": 85,
   "metadata": {},
   "outputs": [
    {
     "name": "stdout",
     "output_type": "stream",
     "text": [
      "shape torch.Size([100, 128, 128])\n"
     ]
    },
    {
     "data": {
      "text/plain": [
       "Text(0.5, 1.0, 'label : 8')"
      ]
     },
     "execution_count": 85,
     "metadata": {},
     "output_type": "execute_result"
    },
    {
     "data": {
      "image/png": "[encoded data removed]",
      "text/plain": [
       "<Figure size 432x288 with 1 Axes>"
      ]
     },
     "metadata": {
      "needs_background": "light"
     },
     "output_type": "display_data"
    }
   ],
   "source": [
    "i=7\n",
    "plt.imshow(data3[i])\n",
    "print('shape',data3[:,:].shape)\n",
    "plt.title('label : '+str(label3[i].item()))"
   ]
  },
  {
   "cell_type": "code",
   "execution_count": null,
   "metadata": {},
   "outputs": [],
   "source": []
  },
  {
   "cell_type": "code",
   "execution_count": null,
   "metadata": {},
   "outputs": [],
   "source": [
    "\n",
    "    def online_vectorization(self, pixel_fullfield):   # pixel_fullfield = image\n",
    "        fullfield_dot_filters = np.zeros(self.N_theta * self.N_azimuth * self.N_eccentricity * self.N_phase)\n",
    "\n",
    "        from LogGabor import LogGabor\n",
    "        lg = LogGabor(pe=pe)\n",
    "        lg.set_size((self.N_pic, self.N_pic))\n",
    "\n",
    "        for i_theta in range(self.N_theta):\n",
    "            for i_azimuth in range(self.N_azimuth):\n",
    "                for i_eccentricity in range(self.N_eccentricity):\n",
    "                    for i_phase in range(self.N_phase):\n",
    "                        filter = self.local_filter(i_theta, i_azimuth, i_eccentricity, i_phase, lg, N_X=self.N_pic,\n",
    "                                                  N_Y=self.N_pic)\n",
    "                        indice = i_theta + i_azimuth + i_eccentricity + i_phase\n",
    "                        fullfield_dot_filters[indice] = np.dot(np.ravel(filter), np.ravel(pixel_fullfield))\n",
    "\n",
    "        return fullfield_dot_filters"
   ]
  },
  {
   "cell_type": "code",
   "execution_count": null,
   "metadata": {},
   "outputs": [],
   "source": [
    "    def local_filter(self, i_theta, i_azimuth, i_eccentricity, i_phase, lg,\n",
    "                     N_X=128, N_Y=128):\n",
    "                     #rho=1.41, ecc_max=.8,\n",
    "                     #sf_0_max=0.45, sf_0_r=0.03,\n",
    "                     #B_sf=.4, B_theta=np.pi / 12):\n",
    "\n",
    "        # !!?? Magic numbers !!??\n",
    "        ecc_max = .8 # self.args.ecc_max\n",
    "        sf_0_r = 0.03 # self.args.sf_0_r\n",
    "        B_theta = np.pi/self.N_theta/2 #self.args.B_theta\n",
    "        B_sf = .4\n",
    "        sf_0_max = 0.45\n",
    "        \n",
    "        ecc = ecc_max * (1 / self.args.rho) ** (self.N_eccentricity - i_eccentricity)\n",
    "        r = np.sqrt(N_X ** 2 + N_Y ** 2) / 2 * ecc  # radius\n",
    "        # psi = i_azimuth * np.pi * 2 / N_azimuth\n",
    "        psi = (i_azimuth + 1 * (i_eccentricity % 2) * .5) * np.pi * 2 / self.N_azimuth\n",
    "        theta_ref = i_theta * np.pi / self.N_theta\n",
    "        sf_0 = 0.5 * sf_0_r / ecc\n",
    "        sf_0 = np.min((sf_0, sf_0_max))\n",
    "        # TODO : find the good ref for this                print(sf_0)\n",
    "        x = N_X / 2 + r * np.cos(psi)\n",
    "        y = N_Y / 2 + r * np.sin(psi)\n",
    "        params = {'sf_0': sf_0,\n",
    "                  'B_sf': B_sf,\n",
    "                  'theta': theta_ref + psi,\n",
    "                  'B_theta': B_theta}\n",
    "        phase = i_phase * np.pi / 2\n",
    "        return lg.normalize(lg.invert(lg.loggabor(x, y, **params) * np.exp(-1j * phase))).ravel()\n"
   ]
  }
 ],
 "metadata": {
  "kernelspec": {
   "display_name": "Python 3",
   "language": "python",
   "name": "python3"
  },
  "language_info": {
   "codemirror_mode": {
    "name": "ipython",
    "version": 3
   },
   "file_extension": ".py",
   "mimetype": "text/x-python",
   "name": "python",
   "nbconvert_exporter": "python",
   "pygments_lexer": "ipython3",
   "version": "3.7.3"
  }
 },
 "nbformat": 4,
 "nbformat_minor": 2
}
