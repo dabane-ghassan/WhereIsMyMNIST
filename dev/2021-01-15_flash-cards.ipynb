{
 "cells": [
  {
   "cell_type": "markdown",
   "metadata": {},
   "source": [
    " # psychopy experiment\n",
    " \n",
    " https://www.psychopy.org/download.html"
   ]
  },
  {
   "cell_type": "code",
   "execution_count": null,
   "metadata": {},
   "outputs": [],
   "source": [
    "%conda install -c conda-forge imageio psychopy"
   ]
  },
  {
   "cell_type": "code",
   "execution_count": null,
   "metadata": {},
   "outputs": [],
   "source": [
    "%conda install -c conda-forge easydict"
   ]
  },
  {
   "cell_type": "code",
   "execution_count": null,
   "metadata": {},
   "outputs": [],
   "source": [
    "import numpy as np\n",
    "import MotionClouds as mc\n",
    "import matplotlib.pyplot as plt\n",
    "import os\n",
    "import imageio\n",
    "import random\n",
    "from psychopy import visual, core, event, gui, data\n",
    "import MotionClouds as MC\n",
    "import pygame"
   ]
  },
  {
   "cell_type": "code",
   "execution_count": null,
   "metadata": {},
   "outputs": [],
   "source": [
    "exp_info = {'exp_name': \"Spot the digit!\", 'participant':'laurent'}"
   ]
  },
  {
   "cell_type": "code",
   "execution_count": null,
   "metadata": {},
   "outputs": [],
   "source": [
    "cache_folder = os.path.join('/tmp','cache')\n",
    "data_folder = os.path.join('/tmp','json')\n",
    "data_folder"
   ]
  },
  {
   "cell_type": "code",
   "execution_count": null,
   "metadata": {},
   "outputs": [],
   "source": [
    "%mkdir -p {data_folder} {cache_folder}"
   ]
  },
  {
   "cell_type": "code",
   "execution_count": null,
   "metadata": {},
   "outputs": [],
   "source": [
    "%cd ../notebooks"
   ]
  },
  {
   "cell_type": "markdown",
   "metadata": {},
   "source": [
    "# generating a trial"
   ]
  },
  {
   "cell_type": "code",
   "execution_count": null,
   "metadata": {},
   "outputs": [],
   "source": [
    "from main import init\n",
    "args = init()"
   ]
  },
  {
   "cell_type": "markdown",
   "metadata": {},
   "source": [
    "## loading the MNIST dataset"
   ]
  },
  {
   "cell_type": "code",
   "execution_count": null,
   "metadata": {},
   "outputs": [],
   "source": [
    "N_plot = 5\n",
    "fig, axs = plt.subplots(1, N_plot, figsize = (21, 5))\n",
    "for i_ax, ax in enumerate(axs):\n",
    "    ax.imshow(data[i_ax, 0, :, :], cmap=plt.gray())\n",
    "    ax.set_xticks([])\n",
    "    ax.set_yticks([])"
   ]
  },
  {
   "cell_type": "markdown",
   "metadata": {},
   "source": [
    "## placing the digits in some random noise"
   ]
  },
  {
   "cell_type": "code",
   "execution_count": null,
   "metadata": {},
   "outputs": [],
   "source": [
    "from display import minmax, place_object"
   ]
  },
  {
   "cell_type": "code",
   "execution_count": null,
   "metadata": {},
   "outputs": [],
   "source": [
    "N_plot = 5\n",
    "fig, axs = plt.subplots(1, N_plot, figsize = (21, 8))\n",
    "for i_ax, ax in enumerate(axs):\n",
    "    data_fullfield, i_offset, j_offset = d.draw(data[i_ax, 0, :, :].numpy())\n",
    "    ax = d.show(ax, data_fullfield)\n"
   ]
  },
  {
   "cell_type": "code",
   "execution_count": null,
   "metadata": {},
   "outputs": [],
   "source": [
    "idx = 4\n",
    "i_offset, j_offset = -29, 21"
   ]
  },
  {
   "cell_type": "code",
   "execution_count": null,
   "metadata": {},
   "outputs": [],
   "source": [
    "#data_fullfield, i_offset, j_offset = d.draw(data[0, 0, :, :].numpy())\n",
    "data_fullfield = d.place_object(data[idx, 0, :, :].numpy(), i_offset, j_offset)"
   ]
  },
  {
   "cell_type": "code",
   "execution_count": null,
   "metadata": {},
   "outputs": [],
   "source": [
    "downscale = 1\n",
    "fx, fy, ft = mc.get_grids(mc.N_X/downscale, mc.N_Y/downscale, 1)"
   ]
  },
  {
   "cell_type": "code",
   "execution_count": null,
   "metadata": {},
   "outputs": [],
   "source": [
    "test_length = 150     # number of trials\n",
    "fixation_length = .5  # length of fixation, in second\n",
    "\n",
    "trial_length = 4.00  # length of a trial, in second\n",
    "stim_length = 0.25   # average length of stim, in second\n",
    "fps = 50\n",
    "\n",
    "fullscr = False\n",
    "\n",
    "fullscr = True\n"
   ]
  },
  {
   "cell_type": "code",
   "execution_count": null,
   "metadata": {},
   "outputs": [],
   "source": [
    "def generate_frames(   ):\n",
    "    \n",
    "    for i_frame in ...:\n",
    "        \n",
    "        im = d.place_object(data[idx, 0, :, :].numpy(), i_offset, j_offset)\n",
    "        im = (mc.rectif(im) * 255).astype('uint8')\n",
    "        fname = f'{cache_folder}/%s_%s.png'\n",
    "        imageio.imwrite(fname, im[:, :, 0])\n",
    "        fnames.append(fname)\n",
    "    return fnames"
   ]
  },
  {
   "cell_type": "code",
   "execution_count": null,
   "metadata": {},
   "outputs": [],
   "source": [
    "%mkdir -p tmp"
   ]
  },
  {
   "cell_type": "code",
   "execution_count": null,
   "metadata": {},
   "outputs": [],
   "source": [
    "#win = visual.Window([1400,800],fullscr=fullscr, color=[0,0,0], winType='pygame', monitor='testMonitor', units='height')\n",
    "win = visual.Window([1400, 800], fullscr=fullscr, color=[0, 0, 0])\n",
    "\n",
    "\n",
    "mouse = event.Mouse(newPos=(0, 0), visible=False)\n",
    "x0, y0 = mouse.getPos()\n",
    "event.clearEvents()\n",
    "instructions = \"\"\"\n",
    "At each trial you see a series of textured images, report if you \n",
    "spot a specific digit by pressing the space bar.\n",
    "\n",
    "Press the space bar to begin the experiment.\n",
    "\n",
    "\"\"\"\n",
    "\n",
    "msg = visual.TextStim(win, text=instructions, alignHoriz='center', alignVert='center', color='black')\n",
    "msg.draw()\n",
    "win.flip()\n",
    "while not mouse.mouseMoved(distance=.05): \n",
    "    event.clearEvents()\n",
    "    \n",
    "fixation = visual.ShapeStim(vertices='cross', win=win, size=0.05, pos=[0, 0], fillColor='black', units='height')\n",
    "fixation.autolog = False\n",
    "\n",
    "MC1 = generate_random_cloud(np.pi/2, B_theta=np.pi/2, B_sf=0.1)\n",
    "bitmap1 = visual.ImageStim(win, MC1, mask='gauss', size=0.8, units='height', interpolate= True)\n",
    "bitmap1.autolog = False \n",
    "\n",
    "msg = visual.TextStim(win, text='?', color='black')\n",
    "\n",
    "import time\n",
    "start_time = time.time()\n",
    "print(\"Test started\")\n",
    "\n",
    "\n",
    "\n",
    "\n",
    "for trial in range(test_length):\n",
    "    \n",
    "    clock = core.Clock()\n",
    "\n",
    "    while 0.0 <= clock.getTime() < fixation_length:  # fixation\n",
    "        fixation.draw()\n",
    "        win.flip()\n",
    "    \n",
    "    theta = (np.random.randn())*std_theta #doute\n",
    "    \n",
    "    # generate frames\n",
    "    fnames = generate_frames(    ) \n",
    "    \n",
    "    for i_frame, fname in enumerate(fnames): \n",
    "        bitmap1.setImage(MC1)\n",
    "        bitmap1.draw()\n",
    "        win.flip()\n",
    "\n",
    "        mouse.setPos(newPos=(0, 0))\n",
    "        x0, y0 = mouse.getPos()\n",
    "        event.clearEvents()\n",
    "\n",
    "        while not mouse.mouseMoved(distance=.05): \n",
    "            # this creates a never-ending loop\n",
    "            # until we move the mouse\n",
    "            event.clearEvents()\n",
    "\n",
    "        x, y = mouse.getPos()\n",
    "        if x < 0:\n",
    "            answer = 'left'\n",
    "        else: #elif x > 0:\n",
    "            answer = 'right'\n",
    "            if x == 0: print('this should not happen 😤')\n",
    "        event.clearEvents() \n",
    "\n",
    "        ans = event.getKeys()   \n",
    "\n",
    "        if ans == ['escape', 'q']:\n",
    "            win.close()\n",
    "            core.quit()\n",
    "\n",
    "    correct = ((theta > 0) and answer == 'right') or ((theta < 0) and answer == 'left')\n",
    "    print('At trial ', trial, 'Angle=', '%3.3f' % (theta*180/np.pi), 'answer is ',  answer, '(correct=', correct, '); bandwidth=', '%.3f' % (B_theta*180/np.pi),'B_sf=', B_sf)   \n",
    "       \n",
    "    # Output shape per trial is : trial number, shift direction, answered shift and b_theta\n",
    "    ans_list.append([trial, theta, answer, B_theta, B_sf])\n",
    "\n",
    "win.close()"
   ]
  },
  {
   "cell_type": "code",
   "execution_count": null,
   "metadata": {},
   "outputs": [],
   "source": [
    "import json\n",
    "json.dump(ans_list, open( os.path.join(data_folder, 'Psychophys_discrim_%s.json' % exp_info['participant']),'w',encoding=\"utf8\"))\n"
   ]
  }
 ],
 "metadata": {
  "kernelspec": {
   "display_name": "nuages",
   "language": "python",
   "name": "nuages"
  },
  "language_info": {
   "codemirror_mode": {
    "name": "ipython",
    "version": 3
   },
   "file_extension": ".py",
   "mimetype": "text/x-python",
   "name": "python",
   "nbconvert_exporter": "python",
   "pygments_lexer": "ipython3",
   "version": "3.9.1"
  },
  "nteract": {
   "version": "0.21.0"
  }
 },
 "nbformat": 4,
 "nbformat_minor": 4
}
