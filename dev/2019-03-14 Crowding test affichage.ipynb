{
 "cells": [
  {
   "cell_type": "markdown",
   "metadata": {},
   "source": [
    "### Circuit du WHAT\n",
    "\n",
    "Test de taux de classification d'un classifieur à 10 classes :\n",
    "  * en entrée :\n",
    "    * encodage log-polaire d' une image 128 x 128 contenant :\n",
    "      * du bruit texturé de periode r (avec B_sf0 = 1/r), centré en 0.5, d'ecart-type 1\n",
    "      * auquel on ajoute un caractère MNIST d'ecart-type 0.3, positionné au hasard dans un rayon de 30 pixels autour du centre de fixation\n",
    "  * en sortie: \n",
    "    * un entier entre 0 et 9 \n",
    "  * réseau à 2 couches cachées, n1 = 200, n2 = 80 (voir script 2019-02-13-crowding-test.py)\n",
    "  \n",
    "On fait varier la periode du bruit entre 1 et 19 pixels et on regarde le taux de classification en fin d'apprentissage (sur base de test)\n",
    "  "
   ]
  },
  {
   "cell_type": "code",
   "execution_count": 12,
   "metadata": {},
   "outputs": [],
   "source": [
    "import numpy as np\n",
    "import matplotlib.pyplot as plt"
   ]
  },
  {
   "cell_type": "code",
   "execution_count": 3,
   "metadata": {},
   "outputs": [],
   "source": [
    "acc_1 = np.load('../data/2019-02-13-add-crowding-test-result.npy')\n",
    "acc_2 = np.load('../data/2019-02-13-add-crowding-test-continued-result.npy')"
   ]
  },
  {
   "cell_type": "code",
   "execution_count": 11,
   "metadata": {},
   "outputs": [],
   "source": [
    "acc = np.concatenate ((acc_1[9:100:10], acc_2[9:100:10]))"
   ]
  },
  {
   "cell_type": "code",
   "execution_count": 30,
   "metadata": {},
   "outputs": [
    {
     "data": {
      "text/plain": [
       "<matplotlib.text.Text at 0x7f2a81611ba8>"
      ]
     },
     "execution_count": 30,
     "metadata": {},
     "output_type": "execute_result"
    },
    {
     "data": {
      "image/png": "[encoded data removed]",
      "text/plain": [
       "<matplotlib.figure.Figure at 0x7f2a815f6080>"
      ]
     },
     "metadata": {},
     "output_type": "display_data"
    }
   ],
   "source": [
    "plt.figure()\n",
    "plt.bar(range(1,20), acc, alpha = .5)\n",
    "plt.xticks(range(1,20))\n",
    "plt.xlabel('Crowding Noise period')\n",
    "plt.title('Categorical classifier accuracy')"
   ]
  },
  {
   "cell_type": "code",
   "execution_count": null,
   "metadata": {},
   "outputs": [],
   "source": []
  }
 ],
 "metadata": {
  "kernelspec": {
   "display_name": "Python 3",
   "language": "python",
   "name": "python3"
  },
  "language_info": {
   "codemirror_mode": {
    "name": "ipython",
    "version": 3
   },
   "file_extension": ".py",
   "mimetype": "text/x-python",
   "name": "python",
   "nbconvert_exporter": "python",
   "pygments_lexer": "ipython3",
   "version": "3.5.3"
  }
 },
 "nbformat": 4,
 "nbformat_minor": 2
}
