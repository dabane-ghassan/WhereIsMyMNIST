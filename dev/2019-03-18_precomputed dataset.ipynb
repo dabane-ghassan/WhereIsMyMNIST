{
 "cells": [
  {
   "cell_type": "markdown",
   "metadata": {},
   "source": [
    "Loading the dataset in one shot."
   ]
  },
  {
   "cell_type": "code",
   "execution_count": 1,
   "metadata": {},
   "outputs": [],
   "source": [
    "import sys\n",
    "sys.path.append('../figures')"
   ]
  },
  {
   "cell_type": "code",
   "execution_count": 2,
   "metadata": {},
   "outputs": [
    {
     "ename": "FileNotFoundError",
     "evalue": "[Errno 2] No such file or directory: '../data/MNIST_cnn.pt'",
     "output_type": "error",
     "traceback": [
      "\u001b[0;31m---------------------------------------------------------------------------\u001b[0m",
      "\u001b[0;31mFileNotFoundError\u001b[0m                         Traceback (most recent call last)",
      "\u001b[0;32m<ipython-input-2-519b5004030b>\u001b[0m in \u001b[0;36m<module>\u001b[0;34m()\u001b[0m\n\u001b[1;32m      2\u001b[0m \u001b[0;32mfrom\u001b[0m \u001b[0mwhat\u001b[0m \u001b[0;32mimport\u001b[0m \u001b[0mWhatNet\u001b[0m\u001b[0;34m\u001b[0m\u001b[0m\n\u001b[1;32m      3\u001b[0m \u001b[0mmodel_path\u001b[0m \u001b[0;34m=\u001b[0m \u001b[0;34m\"../data/MNIST_cnn.pt\"\u001b[0m\u001b[0;34m\u001b[0m\u001b[0m\n\u001b[0;32m----> 4\u001b[0;31m \u001b[0mWhat_model\u001b[0m \u001b[0;34m=\u001b[0m \u001b[0mtorch\u001b[0m\u001b[0;34m.\u001b[0m\u001b[0mload\u001b[0m\u001b[0;34m(\u001b[0m\u001b[0mmodel_path\u001b[0m\u001b[0;34m)\u001b[0m\u001b[0;34m\u001b[0m\u001b[0m\n\u001b[0m",
      "\u001b[0;32m/usr/local/lib/python3.5/dist-packages/torch/serialization.py\u001b[0m in \u001b[0;36mload\u001b[0;34m(f, map_location, pickle_module)\u001b[0m\n\u001b[1;32m    299\u001b[0m             \u001b[0;34m(\u001b[0m\u001b[0msys\u001b[0m\u001b[0;34m.\u001b[0m\u001b[0mversion_info\u001b[0m\u001b[0;34m[\u001b[0m\u001b[0;36m0\u001b[0m\u001b[0;34m]\u001b[0m \u001b[0;34m==\u001b[0m \u001b[0;36m3\u001b[0m \u001b[0;32mand\u001b[0m \u001b[0misinstance\u001b[0m\u001b[0;34m(\u001b[0m\u001b[0mf\u001b[0m\u001b[0;34m,\u001b[0m \u001b[0mpathlib\u001b[0m\u001b[0;34m.\u001b[0m\u001b[0mPath\u001b[0m\u001b[0;34m)\u001b[0m\u001b[0;34m)\u001b[0m\u001b[0;34m:\u001b[0m\u001b[0;34m\u001b[0m\u001b[0m\n\u001b[1;32m    300\u001b[0m         \u001b[0mnew_fd\u001b[0m \u001b[0;34m=\u001b[0m \u001b[0;32mTrue\u001b[0m\u001b[0;34m\u001b[0m\u001b[0m\n\u001b[0;32m--> 301\u001b[0;31m         \u001b[0mf\u001b[0m \u001b[0;34m=\u001b[0m \u001b[0mopen\u001b[0m\u001b[0;34m(\u001b[0m\u001b[0mf\u001b[0m\u001b[0;34m,\u001b[0m \u001b[0;34m'rb'\u001b[0m\u001b[0;34m)\u001b[0m\u001b[0;34m\u001b[0m\u001b[0m\n\u001b[0m\u001b[1;32m    302\u001b[0m     \u001b[0;32mtry\u001b[0m\u001b[0;34m:\u001b[0m\u001b[0;34m\u001b[0m\u001b[0m\n\u001b[1;32m    303\u001b[0m         \u001b[0;32mreturn\u001b[0m \u001b[0m_load\u001b[0m\u001b[0;34m(\u001b[0m\u001b[0mf\u001b[0m\u001b[0;34m,\u001b[0m \u001b[0mmap_location\u001b[0m\u001b[0;34m,\u001b[0m \u001b[0mpickle_module\u001b[0m\u001b[0;34m)\u001b[0m\u001b[0;34m\u001b[0m\u001b[0m\n",
      "\u001b[0;31mFileNotFoundError\u001b[0m: [Errno 2] No such file or directory: '../data/MNIST_cnn.pt'"
     ]
    }
   ],
   "source": [
    "import torch\n",
    "from what import WhatNet\n",
    "model_path = \"../data/MNIST_cnn.pt\"\n",
    "What_model = torch.load(model_path)"
   ]
  },
  {
   "cell_type": "code",
   "execution_count": 3,
   "metadata": {},
   "outputs": [],
   "source": [
    "from torchvision import datasets, transforms\n",
    "dataloader = torch.utils.data.DataLoader(\n",
    "        datasets.MNIST('../data', train=False, transform=transforms.Compose([\n",
    "                           transforms.ToTensor(),\n",
    "                           transforms.Normalize((0.1307,), (0.3081,))\n",
    "                       ])),\n",
    "        batch_size=300, shuffle=True)\n"
   ]
  },
  {
   "cell_type": "code",
   "execution_count": 4,
   "metadata": {},
   "outputs": [],
   "source": [
    "data, label = next(iter(dataloader))"
   ]
  },
  {
   "cell_type": "code",
   "execution_count": 5,
   "metadata": {},
   "outputs": [
    {
     "data": {
      "text/plain": [
       "(torch.Size([300, 1, 28, 28]), torch.Size([300]))"
      ]
     },
     "execution_count": 5,
     "metadata": {},
     "output_type": "execute_result"
    }
   ],
   "source": [
    "data.shape, label.shape"
   ]
  },
  {
   "cell_type": "code",
   "execution_count": 6,
   "metadata": {
    "scrolled": true
   },
   "outputs": [
    {
     "ename": "SyntaxError",
     "evalue": "invalid syntax (where.py, line 68)",
     "output_type": "error",
     "traceback": [
      "Traceback \u001b[0;36m(most recent call last)\u001b[0m:\n",
      "  File \u001b[1;32m\"/usr/local/lib/python3.5/dist-packages/IPython/core/interactiveshell.py\"\u001b[0m, line \u001b[1;32m2910\u001b[0m, in \u001b[1;35mrun_code\u001b[0m\n    exec(code_obj, self.user_global_ns, self.user_ns)\n",
      "  File \u001b[1;32m\"<ipython-input-6-8ab3b7df0abb>\"\u001b[0m, line \u001b[1;32m1\u001b[0m, in \u001b[1;35m<module>\u001b[0m\n    from main import init\n",
      "\u001b[0;36m  File \u001b[0;32m\"../figures/main.py\"\u001b[0;36m, line \u001b[0;32m7\u001b[0;36m, in \u001b[0;35m<module>\u001b[0;36m\u001b[0m\n\u001b[0;31m    from where import Where as ML\u001b[0m\n",
      "\u001b[0;36m  File \u001b[0;32m\"../figures/where.py\"\u001b[0;36m, line \u001b[0;32m68\u001b[0m\n\u001b[0;31m    suffix = f'_{self.args.sf_0}_{self.args.B_sf}'\u001b[0m\n\u001b[0m                                                 ^\u001b[0m\n\u001b[0;31mSyntaxError\u001b[0m\u001b[0;31m:\u001b[0m invalid syntax\n"
     ]
    }
   ],
   "source": [
    "from main import init\n",
    "args = init()"
   ]
  },
  {
   "cell_type": "code",
   "execution_count": 7,
   "metadata": {
    "scrolled": false
   },
   "outputs": [
    {
     "ename": "SyntaxError",
     "evalue": "invalid syntax (where.py, line 68)",
     "output_type": "error",
     "traceback": [
      "Traceback \u001b[0;36m(most recent call last)\u001b[0m:\n",
      "  File \u001b[1;32m\"/usr/local/lib/python3.5/dist-packages/IPython/core/interactiveshell.py\"\u001b[0m, line \u001b[1;32m2910\u001b[0m, in \u001b[1;35mrun_code\u001b[0m\n    exec(code_obj, self.user_global_ns, self.user_ns)\n",
      "\u001b[0;36m  File \u001b[0;32m\"<ipython-input-7-127a74018cb1>\"\u001b[0;36m, line \u001b[0;32m1\u001b[0;36m, in \u001b[0;35m<module>\u001b[0;36m\u001b[0m\n\u001b[0;31m    from where import Where\u001b[0m\n",
      "\u001b[0;36m  File \u001b[0;32m\"../figures/where.py\"\u001b[0;36m, line \u001b[0;32m68\u001b[0m\n\u001b[0;31m    suffix = f'_{self.args.sf_0}_{self.args.B_sf}'\u001b[0m\n\u001b[0m                                                 ^\u001b[0m\n\u001b[0;31mSyntaxError\u001b[0m\u001b[0;31m:\u001b[0m invalid syntax\n"
     ]
    }
   ],
   "source": [
    "from where import Where\n",
    "w = Where(args)\n",
    "full, retina_data, accuracy_colliculus = w.minibatch(data)"
   ]
  },
  {
   "cell_type": "code",
   "execution_count": 29,
   "metadata": {},
   "outputs": [
    {
     "data": {
      "text/plain": [
       "(torch.Size([300, 1920]), torch.Size([300, 160]))"
      ]
     },
     "execution_count": 29,
     "metadata": {},
     "output_type": "execute_result"
    }
   ],
   "source": [
    "retina_data.shape, accuracy_colliculus.shape"
   ]
  },
  {
   "cell_type": "code",
   "execution_count": 30,
   "metadata": {},
   "outputs": [],
   "source": [
    "my_dataset = torch.utils.data.TensorDataset(retina_data, accuracy_colliculus) # create your datset\n",
    "my_dataloader = torch.utils.data.DataLoader(my_dataset) # create your dataloader"
   ]
  },
  {
   "cell_type": "code",
   "execution_count": 31,
   "metadata": {},
   "outputs": [
    {
     "data": {
      "text/plain": [
       "<torch.utils.data.dataloader.DataLoader at 0x11c421ef0>"
      ]
     },
     "execution_count": 31,
     "metadata": {},
     "output_type": "execute_result"
    }
   ],
   "source": [
    "my_dataloader"
   ]
  },
  {
   "cell_type": "code",
   "execution_count": 32,
   "metadata": {},
   "outputs": [],
   "source": [
    "data, label = next(iter(my_dataloader))"
   ]
  },
  {
   "cell_type": "code",
   "execution_count": 33,
   "metadata": {},
   "outputs": [
    {
     "data": {
      "text/plain": [
       "(torch.Size([1, 1920]), torch.Size([1, 160]))"
      ]
     },
     "execution_count": 33,
     "metadata": {},
     "output_type": "execute_result"
    }
   ],
   "source": [
    "data.shape, label.shape"
   ]
  },
  {
   "cell_type": "markdown",
   "metadata": {},
   "source": [
    "https://pytorch.org/docs/stable/data.html?highlight=tensordataset#torch.utils.data.TensorDataset\n",
    "\n",
    "https://pytorch.org/docs/stable/data.html#torch.utils.data.DataLoader"
   ]
  },
  {
   "cell_type": "code",
   "execution_count": 34,
   "metadata": {},
   "outputs": [],
   "source": [
    "my_dataset = torch.utils.data.TensorDataset(retina_data, accuracy_colliculus) # create your datset\n",
    "my_dataloader = torch.utils.data.DataLoader(my_dataset, batch_size=5, shuffle=True) # create your dataloader"
   ]
  },
  {
   "cell_type": "code",
   "execution_count": 35,
   "metadata": {},
   "outputs": [
    {
     "data": {
      "text/plain": [
       "(torch.Size([5, 1920]), torch.Size([5, 160]))"
      ]
     },
     "execution_count": 35,
     "metadata": {},
     "output_type": "execute_result"
    }
   ],
   "source": [
    "data, label = next(iter(my_dataloader))\n",
    "\n",
    "data.shape, label.shape"
   ]
  },
  {
   "cell_type": "code",
   "execution_count": 36,
   "metadata": {},
   "outputs": [
    {
     "data": {
      "text/plain": [
       "tensor([-0.0028,  0.0316,  0.0014,  ..., -0.1041,  0.4946, -0.7639])"
      ]
     },
     "execution_count": 36,
     "metadata": {},
     "output_type": "execute_result"
    }
   ],
   "source": [
    "data[2, :]"
   ]
  },
  {
   "cell_type": "code",
   "execution_count": null,
   "metadata": {},
   "outputs": [],
   "source": [
    "torch.zeros(())"
   ]
  },
  {
   "cell_type": "code",
   "execution_count": 15,
   "metadata": {},
   "outputs": [
    {
     "data": {
      "text/plain": [
       "\u001b[0;31mType:\u001b[0m        TensorDataset\n",
       "\u001b[0;31mString form:\u001b[0m <torch.utils.data.dataset.TensorDataset object at 0x11c96aa58>\n",
       "\u001b[0;31mLength:\u001b[0m      300\n",
       "\u001b[0;31mFile:\u001b[0m        /usr/local/lib/python3.7/site-packages/torch/utils/data/dataset.py\n",
       "\u001b[0;31mDocstring:\u001b[0m  \n",
       "Dataset wrapping tensors.\n",
       "\n",
       "Each sample will be retrieved by indexing tensors along the first dimension.\n",
       "\n",
       "Arguments:\n",
       "    *tensors (Tensor): tensors that have the same size of the first dimension.\n"
      ]
     },
     "metadata": {},
     "output_type": "display_data"
    }
   ],
   "source": [
    "my_dataset?"
   ]
  },
  {
   "cell_type": "code",
   "execution_count": 16,
   "metadata": {},
   "outputs": [],
   "source": [
    "torch.save(my_dataset, '/tmp/my_dataset')"
   ]
  },
  {
   "cell_type": "code",
   "execution_count": 17,
   "metadata": {},
   "outputs": [],
   "source": [
    "loaded_dataset = torch.load('/tmp/my_dataset')"
   ]
  },
  {
   "cell_type": "code",
   "execution_count": 18,
   "metadata": {},
   "outputs": [
    {
     "data": {
      "text/plain": [
       "(torch.Size([1920]), torch.Size([160]))"
      ]
     },
     "execution_count": 18,
     "metadata": {},
     "output_type": "execute_result"
    }
   ],
   "source": [
    "data, label = next(iter(loaded_dataset))\n",
    "\n",
    "data.shape, label.shape"
   ]
  },
  {
   "cell_type": "code",
   "execution_count": null,
   "metadata": {},
   "outputs": [],
   "source": []
  },
  {
   "cell_type": "code",
   "execution_count": 19,
   "metadata": {},
   "outputs": [],
   "source": [
    "my_dataset = torch.utils.data.TensorDataset(retina_data, retina_data, accuracy_colliculus) # create your datset\n",
    "my_dataloader = torch.utils.data.DataLoader(my_dataset) # create your dataloader"
   ]
  },
  {
   "cell_type": "code",
   "execution_count": 21,
   "metadata": {},
   "outputs": [
    {
     "data": {
      "text/plain": [
       "(torch.Size([1920]), torch.Size([1920]), torch.Size([160]))"
      ]
     },
     "execution_count": 21,
     "metadata": {},
     "output_type": "execute_result"
    }
   ],
   "source": [
    "data, data2, label = next(iter(my_dataset))\n",
    "\n",
    "data.shape, data2.shape, label.shape"
   ]
  },
  {
   "cell_type": "code",
   "execution_count": null,
   "metadata": {},
   "outputs": [],
   "source": []
  },
  {
   "cell_type": "code",
   "execution_count": 2,
   "metadata": {},
   "outputs": [
    {
     "name": "stdout",
     "output_type": "stream",
     "text": [
      "Using filename= ../data/2019-03-19\n"
     ]
    }
   ],
   "source": [
    "from main import init\n",
    "args = init()"
   ]
  },
  {
   "cell_type": "code",
   "execution_count": 4,
   "metadata": {},
   "outputs": [],
   "source": [
    "import torch\n",
    "from what import WhatNet\n",
    "model_path = \"../data/MNIST_cnn.pt\"\n",
    "What_model = torch.load(model_path)"
   ]
  },
  {
   "cell_type": "code",
   "execution_count": 7,
   "metadata": {},
   "outputs": [
    {
     "name": "stdout",
     "output_type": "stream",
     "text": [
      "Loading accuracy... min, max= 0.0145 0.9852\n",
      "torch.Size([100, 128, 128]) torch.Size([100, 1920]) torch.Size([100, 1])\n",
      "torch.Size([100, 128, 128]) torch.Size([100, 1920]) torch.Size([100, 1])\n",
      "torch.Size([100, 128, 128]) torch.Size([100, 1920]) torch.Size([100, 1])\n",
      "torch.Size([100, 128, 128]) torch.Size([100, 1920]) torch.Size([100, 1])\n",
      "torch.Size([100, 128, 128]) torch.Size([100, 1920]) torch.Size([100, 1])\n",
      "torch.Size([100, 128, 128]) torch.Size([100, 1920]) torch.Size([100, 1])\n",
      "torch.Size([100, 128, 128]) torch.Size([100, 1920]) torch.Size([100, 1])\n",
      "torch.Size([100, 128, 128]) torch.Size([100, 1920]) torch.Size([100, 1])\n",
      "torch.Size([100, 128, 128]) torch.Size([100, 1920]) torch.Size([100, 1])\n",
      "torch.Size([100, 128, 128]) torch.Size([100, 1920]) torch.Size([100, 1])\n",
      "torch.Size([100, 128, 128]) torch.Size([100, 1920]) torch.Size([100, 1])\n",
      "torch.Size([100, 128, 128]) torch.Size([100, 1920]) torch.Size([100, 1])\n",
      "torch.Size([100, 128, 128]) torch.Size([100, 1920]) torch.Size([100, 1])\n",
      "torch.Size([100, 128, 128]) torch.Size([100, 1920]) torch.Size([100, 1])\n",
      "torch.Size([100, 128, 128]) torch.Size([100, 1920]) torch.Size([100, 1])\n",
      "torch.Size([100, 128, 128]) torch.Size([100, 1920]) torch.Size([100, 1])\n",
      "torch.Size([100, 128, 128]) torch.Size([100, 1920]) torch.Size([100, 1])\n",
      "torch.Size([100, 128, 128]) torch.Size([100, 1920]) torch.Size([100, 1])\n",
      "torch.Size([100, 128, 128]) torch.Size([100, 1920]) torch.Size([100, 1])\n",
      "torch.Size([100, 128, 128]) torch.Size([100, 1920]) torch.Size([100, 1])\n",
      "torch.Size([100, 128, 128]) torch.Size([100, 1920]) torch.Size([100, 1])\n",
      "torch.Size([100, 128, 128]) torch.Size([100, 1920]) torch.Size([100, 1])\n",
      "torch.Size([100, 128, 128]) torch.Size([100, 1920]) torch.Size([100, 1])\n",
      "torch.Size([100, 128, 128]) torch.Size([100, 1920]) torch.Size([100, 1])\n",
      "torch.Size([100, 128, 128]) torch.Size([100, 1920]) torch.Size([100, 1])\n",
      "torch.Size([100, 128, 128]) torch.Size([100, 1920]) torch.Size([100, 1])\n",
      "torch.Size([100, 128, 128]) torch.Size([100, 1920]) torch.Size([100, 1])\n",
      "torch.Size([100, 128, 128]) torch.Size([100, 1920]) torch.Size([100, 1])\n",
      "torch.Size([100, 128, 128]) torch.Size([100, 1920]) torch.Size([100, 1])\n",
      "torch.Size([100, 128, 128]) torch.Size([100, 1920]) torch.Size([100, 1])\n",
      "torch.Size([100, 128, 128]) torch.Size([100, 1920]) torch.Size([100, 1])\n",
      "torch.Size([100, 128, 128]) torch.Size([100, 1920]) torch.Size([100, 1])\n",
      "torch.Size([100, 128, 128]) torch.Size([100, 1920]) torch.Size([100, 1])\n",
      "torch.Size([100, 128, 128]) torch.Size([100, 1920]) torch.Size([100, 1])\n",
      "torch.Size([100, 128, 128]) torch.Size([100, 1920]) torch.Size([100, 1])\n",
      "torch.Size([100, 128, 128]) torch.Size([100, 1920]) torch.Size([100, 1])\n",
      "torch.Size([100, 128, 128]) torch.Size([100, 1920]) torch.Size([100, 1])\n",
      "torch.Size([100, 128, 128]) torch.Size([100, 1920]) torch.Size([100, 1])\n",
      "torch.Size([100, 128, 128]) torch.Size([100, 1920]) torch.Size([100, 1])\n",
      "torch.Size([100, 128, 128]) torch.Size([100, 1920]) torch.Size([100, 1])\n",
      "torch.Size([100, 128, 128]) torch.Size([100, 1920]) torch.Size([100, 1])\n",
      "torch.Size([100, 128, 128]) torch.Size([100, 1920]) torch.Size([100, 1])\n",
      "torch.Size([100, 128, 128]) torch.Size([100, 1920]) torch.Size([100, 1])\n",
      "torch.Size([100, 128, 128]) torch.Size([100, 1920]) torch.Size([100, 1])\n",
      "torch.Size([100, 128, 128]) torch.Size([100, 1920]) torch.Size([100, 1])\n",
      "torch.Size([100, 128, 128]) torch.Size([100, 1920]) torch.Size([100, 1])\n",
      "torch.Size([100, 128, 128]) torch.Size([100, 1920]) torch.Size([100, 1])\n",
      "torch.Size([100, 128, 128]) torch.Size([100, 1920]) torch.Size([100, 1])\n",
      "torch.Size([100, 128, 128]) torch.Size([100, 1920]) torch.Size([100, 1])\n",
      "torch.Size([100, 128, 128]) torch.Size([100, 1920]) torch.Size([100, 1])\n"
     ]
    }
   ],
   "source": [
    "from where import Where\n",
    "w = Where(args)\n",
    "\n",
    "for batch_idx, (data_fullfield, retina_data, accuracy_colliculus, label) in enumerate(w.loader_test):\n",
    "    print(data_fullfield.shape, retina_data.shape, label.shape)\n"
   ]
  },
  {
   "cell_type": "code",
   "execution_count": null,
   "metadata": {},
   "outputs": [],
   "source": []
  }
 ],
 "metadata": {
  "kernelspec": {
   "display_name": "Python 3",
   "language": "python",
   "name": "python3"
  },
  "language_info": {
   "codemirror_mode": {
    "name": "ipython",
    "version": 3
   },
   "file_extension": ".py",
   "mimetype": "text/x-python",
   "name": "python",
   "nbconvert_exporter": "python",
   "pygments_lexer": "ipython3",
   "version": "3.7.2"
  }
 },
 "nbformat": 4,
 "nbformat_minor": 2
}
