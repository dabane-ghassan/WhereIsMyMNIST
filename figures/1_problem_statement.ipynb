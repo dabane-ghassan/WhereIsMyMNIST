{
 "cells": [
  {
   "cell_type": "raw",
   "metadata": {},
   "source": [
    "!pip3 install git+https://github.com/mkrphys/ipython-tikzmagic"
   ]
  },
  {
   "cell_type": "code",
   "execution_count": 1,
   "metadata": {
    "ExecuteTime": {
     "end_time": "2018-07-03T10:34:12.870617Z",
     "start_time": "2018-07-03T10:34:12.282599Z"
    },
    "collapsed": true
   },
   "outputs": [],
   "source": [
    "import tikzmagic"
   ]
  },
  {
   "cell_type": "raw",
   "metadata": {},
   "source": [
    "tikzmagic?"
   ]
  },
  {
   "cell_type": "code",
   "execution_count": 2,
   "metadata": {
    "ExecuteTime": {
     "end_time": "2018-07-03T10:34:12.889183Z",
     "start_time": "2018-07-03T10:34:12.878463Z"
    },
    "collapsed": true
   },
   "outputs": [],
   "source": [
    "%load_ext tikzmagic"
   ]
  },
  {
   "cell_type": "code",
   "execution_count": 3,
   "metadata": {},
   "outputs": [
    {
     "data": {
      "image/png": "[encoded data removed]"
     },
     "metadata": {},
     "output_type": "display_data"
    }
   ],
   "source": [
    "%%tikz \n",
    "\\draw (0,0) rectangle (1,1);"
   ]
  },
  {
   "cell_type": "raw",
   "metadata": {},
   "source": [
    "help(tikzmagic)"
   ]
  },
  {
   "cell_type": "code",
   "execution_count": 4,
   "metadata": {
    "ExecuteTime": {
     "end_time": "2018-07-03T10:34:13.243951Z",
     "start_time": "2018-07-03T10:34:12.897040Z"
    },
    "scrolled": true
   },
   "outputs": [
    {
     "data": {
      "application/json": {
       "Software versions": [
        {
         "module": "Python",
         "version": "3.7.2 64bit [Clang 10.0.0 (clang-1000.11.45.5)]"
        },
        {
         "module": "IPython",
         "version": "7.3.0"
        },
        {
         "module": "OS",
         "version": "Darwin 18.2.0 x86_64 i386 64bit"
        },
        {
         "module": "numpy",
         "version": "1.16.2"
        },
        {
         "module": "tikzmagic",
         "version": "0.1.1"
        }
       ]
      },
      "text/html": [
       "<table><tr><th>Software</th><th>Version</th></tr><tr><td>Python</td><td>3.7.2 64bit [Clang 10.0.0 (clang-1000.11.45.5)]</td></tr><tr><td>IPython</td><td>7.3.0</td></tr><tr><td>OS</td><td>Darwin 18.2.0 x86_64 i386 64bit</td></tr><tr><td>numpy</td><td>1.16.2</td></tr><tr><td>tikzmagic</td><td>0.1.1</td></tr><tr><td colspan='2'>Fri Mar 01 16:35:08 2019 CET</td></tr></table>"
      ],
      "text/latex": [
       "\\begin{tabular}{|l|l|}\\hline\n",
       "{\\bf Software} & {\\bf Version} \\\\ \\hline\\hline\n",
       "Python & 3.7.2 64bit [Clang 10.0.0 (clang-1000.11.45.5)] \\\\ \\hline\n",
       "IPython & 7.3.0 \\\\ \\hline\n",
       "OS & Darwin 18.2.0 x86\\_64 i386 64bit \\\\ \\hline\n",
       "numpy & 1.16.2 \\\\ \\hline\n",
       "tikzmagic & 0.1.1 \\\\ \\hline\n",
       "\\hline \\multicolumn{2}{|l|}{Fri Mar 01 16:35:08 2019 CET} \\\\ \\hline\n",
       "\\end{tabular}\n"
      ],
      "text/plain": [
       "Software versions\n",
       "Python 3.7.2 64bit [Clang 10.0.0 (clang-1000.11.45.5)]\n",
       "IPython 7.3.0\n",
       "OS Darwin 18.2.0 x86_64 i386 64bit\n",
       "numpy 1.16.2\n",
       "tikzmagic 0.1.1\n",
       "Fri Mar 01 16:35:08 2019 CET"
      ]
     },
     "execution_count": 4,
     "metadata": {},
     "output_type": "execute_result"
    }
   ],
   "source": [
    "%load_ext version_information\n",
    "%version_information numpy, tikzmagic"
   ]
  },
  {
   "cell_type": "markdown",
   "metadata": {},
   "source": [
    "# protocol_recording"
   ]
  },
  {
   "cell_type": "code",
   "execution_count": 5,
   "metadata": {
    "ExecuteTime": {
     "end_time": "2018-07-03T10:34:13.258190Z",
     "start_time": "2018-07-03T10:34:13.251661Z"
    },
    "collapsed": true
   },
   "outputs": [],
   "source": [
    "figname = '../paper/fig_intro'"
   ]
  },
  {
   "cell_type": "code",
   "execution_count": 6,
   "metadata": {
    "ExecuteTime": {
     "end_time": "2018-07-03T10:34:13.433631Z",
     "start_time": "2018-07-03T10:34:13.265469Z"
    },
    "collapsed": true
   },
   "outputs": [],
   "source": [
    "!rm  -f {figname}*"
   ]
  },
  {
   "cell_type": "code",
   "execution_count": 7,
   "metadata": {
    "ExecuteTime": {
     "end_time": "2018-07-03T10:34:23.511369Z",
     "start_time": "2018-07-03T10:34:13.444164Z"
    },
    "scrolled": false
   },
   "outputs": [
    {
     "name": "stderr",
     "output_type": "stream",
     "text": [
      "LaTeX terminated with signal -1\n"
     ]
    },
    {
     "data": {
      "text/plain": [
       "This is pdfTeX, Version 3.14159265-2.6-1.40.19 (TeX Live 2018) (preloaded format=pdflatex 2018.12.20)  1 MAR 2019 16:35\n",
       "entering extended mode\n",
       " \\write18 enabled.\n",
       " %&-line parsing enabled.\n",
       "**tikz.tex\n",
       "(./tikz.tex\n",
       "LaTeX2e <2018-12-01>\n",
       "(/usr/local/texlive/2018/texmf-dist/tex/latex/standalone/standalone.cls\n",
       "Document Class: standalone 2018/03/26 v1.3a Class to compile TeX sub-files stan\n",
       "dalone\n",
       "(/usr/local/texlive/2018/texmf-dist/tex/latex/tools/shellesc.sty\n",
       "Package: shellesc 2016/06/07 v0.02a unified shell escape interface for LaTeX\n",
       "Package shellesc Info: Unrestricted shell escape enabled on input line 67.\n",
       ")\n",
       "(/usr/local/texlive/2018/texmf-dist/tex/generic/oberdiek/ifluatex.sty\n",
       "Package: ifluatex 2016/05/16 v1.4 Provides the ifluatex switch (HO)\n",
       "Package ifluatex Info: LuaTeX not detected.\n",
       ")\n",
       "(/usr/local/texlive/2018/texmf-dist/tex/generic/oberdiek/ifpdf.sty\n",
       "Package: ifpdf 2018/09/07 v3.3 Provides the ifpdf switch\n",
       ")\n",
       "(/usr/local/texlive/2018/texmf-dist/tex/generic/ifxetex/ifxetex.sty\n",
       "Package: ifxetex 2010/09/12 v0.6 Provides ifxetex conditional\n",
       ")\n",
       "(/usr/local/texlive/2018/texmf-dist/tex/latex/xkeyval/xkeyval.sty\n",
       "Package: xkeyval 2014/12/03 v2.7a package option processing (HA)\n",
       "\n",
       "(/usr/local/texlive/2018/texmf-dist/tex/generic/xkeyval/xkeyval.tex\n",
       "(/usr/local/texlive/2018/texmf-dist/tex/generic/xkeyval/xkvutils.tex\n",
       "\\XKV@toks=\\toks14\n",
       "\\XKV@tempa@toks=\\toks15\n",
       "\n",
       "(/usr/local/texlive/2018/texmf-dist/tex/generic/xkeyval/keyval.tex))\n",
       "\\XKV@depth=\\count80\n",
       "File: xkeyval.tex 2014/12/03 v2.7a key=value parser (HA)\n",
       "))\n",
       "\\sa@internal=\\count81\n",
       "\\c@sapage=\\count82\n",
       "\n",
       "(/usr/local/texlive/2018/texmf-dist/tex/latex/standalone/standalone.cfg\n",
       "File: standalone.cfg 2018/03/26 v1.3a Default configuration file for 'standalon\n",
       "e' class\n",
       ")\n",
       "(/usr/local/texlive/2018/texmf-dist/tex/latex/base/article.cls\n",
       "Document Class: article 2018/09/03 v1.4i Standard LaTeX document class\n",
       "(/usr/local/texlive/2018/texmf-dist/tex/latex/base/size10.clo\n",
       "File: size10.clo 2018/09/03 v1.4i Standard LaTeX file (size option)\n",
       ")\n",
       "\\c@part=\\count83\n",
       "\\c@section=\\count84\n",
       "\\c@subsection=\\count85\n",
       "\\c@subsubsection=\\count86\n",
       "\\c@paragraph=\\count87\n",
       "\\c@subparagraph=\\count88\n",
       "\\c@figure=\\count89\n",
       "\\c@table=\\count90\n",
       "\\abovecaptionskip=\\skip41\n",
       "\\belowcaptionskip=\\skip42\n",
       "\\bibindent=\\dimen102\n",
       ")\n",
       "\\sa@box=\\box27\n",
       "runsystem(pdflatex  -shell-escape  -jobname 'tikz' '\\expandafter\\def\\csname sa@\n",
       "internal@run\\endcsname{1}\\input{tikz}')...executed.\n",
       "\n",
       "\\sa@read=\\read1\n",
       "runsystem(convert -density 300 -units PixelsPerInch tikz.pdf -resize 400x240 -q\n",
       "uality 90 tikz.png)...executed.\n",
       "\n",
       "\n",
       "\n",
       "Class standalone Warning: Conversion unsuccessful!\n",
       "(standalone)              There might be something wrong with your\n",
       "(standalone)              conversation software or the file permissions!\n",
       "\n",
       ") (/usr/local/texlive/2018/texmf-dist/tex/latex/pgf/frontendlayer/tikz.sty\n",
       "(/usr/local/texlive/2018/texmf-dist/tex/latex/pgf/basiclayer/pgf.sty\n",
       "(/usr/local/texlive/2018/texmf-dist/tex/latex/pgf/utilities/pgfrcs.sty\n",
       "(/usr/local/texlive/2018/texmf-dist/tex/generic/pgf/utilities/pgfutil-common.te\n",
       "x\n",
       "\\pgfutil@everybye=\\toks16\n",
       "\\pgfutil@tempdima=\\dimen103\n",
       "\\pgfutil@tempdimb=\\dimen104\n",
       "\n",
       "(/usr/local/texlive/2018/texmf-dist/tex/generic/pgf/utilities/pgfutil-common-li\n",
       "sts.tex))\n",
       "(/usr/local/texlive/2018/texmf-dist/tex/generic/pgf/utilities/pgfutil-latex.def\n",
       "\\pgfutil@abb=\\box28\n",
       "(/usr/local/texlive/2018/texmf-dist/tex/latex/ms/everyshi.sty\n",
       "Package: everyshi 2001/05/15 v3.00 EveryShipout Package (MS)\n",
       "))\n",
       "(/usr/local/texlive/2018/texmf-dist/tex/generic/pgf/utilities/pgfrcs.code.tex\n",
       "(/usr/local/texlive/2018/texmf-dist/tex/generic/pgf/pgf.revision.tex)\n",
       "Package: pgfrcs 2019/02/02 v3.1.1 (3.1.1)\n",
       "))\n",
       "Package: pgf 2019/02/02 v3.1.1 (3.1.1)\n",
       "\n",
       "(/usr/local/texlive/2018/texmf-dist/tex/latex/pgf/basiclayer/pgfcore.sty\n",
       "(/usr/local/texlive/2018/texmf-dist/tex/latex/graphics/graphicx.sty\n",
       "Package: graphicx 2017/06/01 v1.1a Enhanced LaTeX Graphics (DPC,SPQR)\n",
       "\n",
       "(/usr/local/texlive/2018/texmf-dist/tex/latex/graphics/graphics.sty\n",
       "Package: graphics 2017/06/25 v1.2c Standard LaTeX Graphics (DPC,SPQR)\n",
       "\n",
       "(/usr/local/texlive/2018/texmf-dist/tex/latex/graphics/trig.sty\n",
       "Package: trig 2016/01/03 v1.10 sin cos tan (DPC)\n",
       ")\n",
       "(/usr/local/texlive/2018/texmf-dist/tex/latex/graphics-cfg/graphics.cfg\n",
       "File: graphics.cfg 2016/06/04 v1.11 sample graphics configuration\n",
       ")\n",
       "Package graphics Info: Driver file: pdftex.def on input line 99.\n",
       "\n",
       "(/usr/local/texlive/2018/texmf-dist/tex/latex/graphics-def/pdftex.def\n",
       "File: pdftex.def 2018/01/08 v1.0l Graphics/color driver for pdftex\n",
       "))\n",
       "\\Gin@req@height=\\dimen105\n",
       "\\Gin@req@width=\\dimen106\n",
       ")\n",
       "(/usr/local/texlive/2018/texmf-dist/tex/latex/pgf/systemlayer/pgfsys.sty\n",
       "(/usr/local/texlive/2018/texmf-dist/tex/generic/pgf/systemlayer/pgfsys.code.tex\n",
       "Package: pgfsys 2019/02/02 v3.1.1 (3.1.1)\n",
       "(/usr/local/texlive/2018/texmf-dist/tex/generic/pgf/utilities/pgfkeys.code.tex\n",
       "\\pgfkeys@pathtoks=\\toks17\n",
       "\\pgfkeys@temptoks=\\toks18\n",
       "\n",
       "(/usr/local/texlive/2018/texmf-dist/tex/generic/pgf/utilities/pgfkeysfiltered.c\n",
       "ode.tex\n",
       "\\pgfkeys@tmptoks=\\toks19\n",
       "))\n",
       "\\pgf@x=\\dimen107\n",
       "\\pgf@y=\\dimen108\n",
       "\\pgf@xa=\\dimen109\n",
       "\\pgf@ya=\\dimen110\n",
       "\\pgf@xb=\\dimen111\n",
       "\\pgf@yb=\\dimen112\n",
       "\\pgf@xc=\\dimen113\n",
       "\\pgf@yc=\\dimen114\n",
       "\\w@pgf@writea=\\write3\n",
       "\\r@pgf@reada=\\read2\n",
       "\\c@pgf@counta=\\count91\n",
       "\\c@pgf@countb=\\count92\n",
       "\\c@pgf@countc=\\count93\n",
       "\\c@pgf@countd=\\count94\n",
       "\\t@pgf@toka=\\toks20\n",
       "\\t@pgf@tokb=\\toks21\n",
       "\\t@pgf@tokc=\\toks22\n",
       "\\pgf@sys@id@count=\\count95\n",
       "\n",
       "(/usr/local/texlive/2018/texmf-dist/tex/generic/pgf/systemlayer/pgf.cfg\n",
       "File: pgf.cfg 2019/02/02 v3.1.1 (3.1.1)\n",
       ")\n",
       "Driver file for pgf: pgfsys-pdftex.def\n",
       "\n",
       "(/usr/local/texlive/2018/texmf-dist/tex/generic/pgf/systemlayer/pgfsys-pdftex.d\n",
       "ef\n",
       "File: pgfsys-pdftex.def 2019/02/02 v3.1.1 (3.1.1)\n",
       "\n",
       "(/usr/local/texlive/2018/texmf-dist/tex/generic/pgf/systemlayer/pgfsys-common-p\n",
       "df.def\n",
       "File: pgfsys-common-pdf.def 2019/02/02 v3.1.1 (3.1.1)\n",
       ")))\n",
       "(/usr/local/texlive/2018/texmf-dist/tex/generic/pgf/systemlayer/pgfsyssoftpath.\n",
       "code.tex\n",
       "File: pgfsyssoftpath.code.tex 2019/02/02 v3.1.1 (3.1.1)\n",
       "\\pgfsyssoftpath@smallbuffer@items=\\count96\n",
       "\\pgfsyssoftpath@bigbuffer@items=\\count97\n",
       ")\n",
       "(/usr/local/texlive/2018/texmf-dist/tex/generic/pgf/systemlayer/pgfsysprotocol.\n",
       "code.tex\n",
       "File: pgfsysprotocol.code.tex 2019/02/02 v3.1.1 (3.1.1)\n",
       ")) (/usr/local/texlive/2018/texmf-dist/tex/latex/xcolor/xcolor.sty\n",
       "Package: xcolor 2016/05/11 v2.12 LaTeX color extensions (UK)\n",
       "\n",
       "(/usr/local/texlive/2018/texmf-dist/tex/latex/graphics-cfg/color.cfg\n",
       "File: color.cfg 2016/01/02 v1.6 sample color configuration\n",
       ")\n",
       "Package xcolor Info: Driver file: pdftex.def on input line 225.\n",
       "Package xcolor Info: Model `cmy' substituted by `cmy0' on input line 1348.\n",
       "Package xcolor Info: Model `hsb' substituted by `rgb' on input line 1352.\n",
       "Package xcolor Info: Model `RGB' extended on input line 1364.\n",
       "Package xcolor Info: Model `HTML' substituted by `rgb' on input line 1366.\n",
       "Package xcolor Info: Model `Hsb' substituted by `hsb' on input line 1367.\n",
       "Package xcolor Info: Model `tHsb' substituted by `hsb' on input line 1368.\n",
       "Package xcolor Info: Model `HSB' substituted by `hsb' on input line 1369.\n",
       "Package xcolor Info: Model `Gray' substituted by `gray' on input line 1370.\n",
       "Package xcolor Info: Model `wave' substituted by `hsb' on input line 1371.\n",
       ")\n",
       "(/usr/local/texlive/2018/texmf-dist/tex/generic/pgf/basiclayer/pgfcore.code.tex\n",
       "Package: pgfcore 2019/02/02 v3.1.1 (3.1.1)\n",
       "(/usr/local/texlive/2018/texmf-dist/tex/generic/pgf/math/pgfmath.code.tex\n",
       "(/usr/local/texlive/2018/texmf-dist/tex/generic/pgf/math/pgfmathcalc.code.tex\n",
       "(/usr/local/texlive/2018/texmf-dist/tex/generic/pgf/math/pgfmathutil.code.tex)\n",
       "(/usr/local/texlive/2018/texmf-dist/tex/generic/pgf/math/pgfmathparser.code.tex\n",
       "\\pgfmath@dimen=\\dimen115\n",
       "\\pgfmath@count=\\count98\n",
       "\\pgfmath@box=\\box29\n",
       "\\pgfmath@toks=\\toks23\n",
       "\\pgfmath@stack@operand=\\toks24\n",
       "\\pgfmath@stack@operation=\\toks25\n",
       ")\n",
       "(/usr/local/texlive/2018/texmf-dist/tex/generic/pgf/math/pgfmathfunctions.code.\n",
       "tex\n",
       "(/usr/local/texlive/2018/texmf-dist/tex/generic/pgf/math/pgfmathfunctions.basic\n",
       ".code.tex)\n",
       "(/usr/local/texlive/2018/texmf-dist/tex/generic/pgf/math/pgfmathfunctions.trigo\n",
       "nometric.code.tex)\n",
       "(/usr/local/texlive/2018/texmf-dist/tex/generic/pgf/math/pgfmathfunctions.rando\n",
       "m.code.tex)\n",
       "(/usr/local/texlive/2018/texmf-dist/tex/generic/pgf/math/pgfmathfunctions.compa\n",
       "rison.code.tex)\n",
       "(/usr/local/texlive/2018/texmf-dist/tex/generic/pgf/math/pgfmathfunctions.base.\n",
       "code.tex)\n",
       "(/usr/local/texlive/2018/texmf-dist/tex/generic/pgf/math/pgfmathfunctions.round\n",
       ".code.tex)\n",
       "(/usr/local/texlive/2018/texmf-dist/tex/generic/pgf/math/pgfmathfunctions.misc.\n",
       "code.tex)\n",
       "(/usr/local/texlive/2018/texmf-dist/tex/generic/pgf/math/pgfmathfunctions.integ\n",
       "erarithmetics.code.tex)))\n",
       "(/usr/local/texlive/2018/texmf-dist/tex/generic/pgf/math/pgfmathfloat.code.tex\n",
       "\\c@pgfmathroundto@lastzeros=\\count99\n",
       "))\n",
       "(/usr/local/texlive/2018/texmf-dist/tex/generic/pgf/basiclayer/pgfcorepoints.co\n",
       "de.tex\n",
       "File: pgfcorepoints.code.tex 2019/02/02 v3.1.1 (3.1.1)\n",
       "\\pgf@picminx=\\dimen116\n",
       "\\pgf@picmaxx=\\dimen117\n",
       "\\pgf@picminy=\\dimen118\n",
       "\\pgf@picmaxy=\\dimen119\n",
       "\\pgf@pathminx=\\dimen120\n",
       "\\pgf@pathmaxx=\\dimen121\n",
       "\\pgf@pathminy=\\dimen122\n",
       "\\pgf@pathmaxy=\\dimen123\n",
       "\\pgf@xx=\\dimen124\n",
       "\\pgf@xy=\\dimen125\n",
       "\\pgf@yx=\\dimen126\n",
       "\\pgf@yy=\\dimen127\n",
       "\\pgf@zx=\\dimen128\n",
       "\\pgf@zy=\\dimen129\n",
       ")\n",
       "(/usr/local/texlive/2018/texmf-dist/tex/generic/pgf/basiclayer/pgfcorepathconst\n",
       "ruct.code.tex\n",
       "File: pgfcorepathconstruct.code.tex 2019/02/02 v3.1.1 (3.1.1)\n",
       "\\pgf@path@lastx=\\dimen130\n",
       "\\pgf@path@lasty=\\dimen131\n",
       ")\n",
       "(/usr/local/texlive/2018/texmf-dist/tex/generic/pgf/basiclayer/pgfcorepathusage\n",
       ".code.tex\n",
       "File: pgfcorepathusage.code.tex 2019/02/02 v3.1.1 (3.1.1)\n",
       "\\pgf@shorten@end@additional=\\dimen132\n",
       "\\pgf@shorten@start@additional=\\dimen133\n",
       ")\n",
       "(/usr/local/texlive/2018/texmf-dist/tex/generic/pgf/basiclayer/pgfcorescopes.co\n",
       "de.tex\n",
       "File: pgfcorescopes.code.tex 2019/02/02 v3.1.1 (3.1.1)\n",
       "\\pgfpic=\\box30\n",
       "\\pgf@hbox=\\box31\n",
       "\\pgf@layerbox@main=\\box32\n",
       "\\pgf@picture@serial@count=\\count100\n",
       ")\n",
       "(/usr/local/texlive/2018/texmf-dist/tex/generic/pgf/basiclayer/pgfcoregraphicst\n",
       "ate.code.tex\n",
       "File: pgfcoregraphicstate.code.tex 2019/02/02 v3.1.1 (3.1.1)\n",
       "\\pgflinewidth=\\dimen134\n",
       ")\n",
       "(/usr/local/texlive/2018/texmf-dist/tex/generic/pgf/basiclayer/pgfcoretransform\n",
       "ations.code.tex\n",
       "File: pgfcoretransformations.code.tex 2019/02/02 v3.1.1 (3.1.1)\n",
       "\\pgf@pt@x=\\dimen135\n",
       "\\pgf@pt@y=\\dimen136\n",
       "\\pgf@pt@temp=\\dimen137\n",
       ")\n",
       "(/usr/local/texlive/2018/texmf-dist/tex/generic/pgf/basiclayer/pgfcorequick.cod\n",
       "e.tex\n",
       "File: pgfcorequick.code.tex 2019/02/02 v3.1.1 (3.1.1)\n",
       ")\n",
       "(/usr/local/texlive/2018/texmf-dist/tex/generic/pgf/basiclayer/pgfcoreobjects.c\n",
       "ode.tex\n",
       "File: pgfcoreobjects.code.tex 2019/02/02 v3.1.1 (3.1.1)\n",
       ")\n",
       "(/usr/local/texlive/2018/texmf-dist/tex/generic/pgf/basiclayer/pgfcorepathproce\n",
       "ssing.code.tex\n",
       "File: pgfcorepathprocessing.code.tex 2019/02/02 v3.1.1 (3.1.1)\n",
       ")\n",
       "(/usr/local/texlive/2018/texmf-dist/tex/generic/pgf/basiclayer/pgfcorearrows.co\n",
       "de.tex\n",
       "File: pgfcorearrows.code.tex 2019/02/02 v3.1.1 (3.1.1)\n",
       "\\pgfarrowsep=\\dimen138\n",
       ")\n",
       "(/usr/local/texlive/2018/texmf-dist/tex/generic/pgf/basiclayer/pgfcoreshade.cod\n",
       "e.tex\n",
       "File: pgfcoreshade.code.tex 2019/02/02 v3.1.1 (3.1.1)\n",
       "\\pgf@max=\\dimen139\n",
       "\\pgf@sys@shading@range@num=\\count101\n",
       ")\n",
       "(/usr/local/texlive/2018/texmf-dist/tex/generic/pgf/basiclayer/pgfcoreimage.cod\n",
       "e.tex\n",
       "File: pgfcoreimage.code.tex 2019/02/02 v3.1.1 (3.1.1)\n",
       "\n",
       "(/usr/local/texlive/2018/texmf-dist/tex/generic/pgf/basiclayer/pgfcoreexternal.\n",
       "code.tex\n",
       "File: pgfcoreexternal.code.tex 2019/02/02 v3.1.1 (3.1.1)\n",
       "\\pgfexternal@startupbox=\\box33\n",
       "))\n",
       "(/usr/local/texlive/2018/texmf-dist/tex/generic/pgf/basiclayer/pgfcorelayers.co\n",
       "de.tex\n",
       "File: pgfcorelayers.code.tex 2019/02/02 v3.1.1 (3.1.1)\n",
       ")\n",
       "(/usr/local/texlive/2018/texmf-dist/tex/generic/pgf/basiclayer/pgfcoretranspare\n",
       "ncy.code.tex\n",
       "File: pgfcoretransparency.code.tex 2019/02/02 v3.1.1 (3.1.1)\n",
       ")\n",
       "(/usr/local/texlive/2018/texmf-dist/tex/generic/pgf/basiclayer/pgfcorepatterns.\n",
       "code.tex\n",
       "File: pgfcorepatterns.code.tex 2019/02/02 v3.1.1 (3.1.1)\n",
       ")\n",
       "(/usr/local/texlive/2018/texmf-dist/tex/generic/pgf/basiclayer/pgfcorerdf.code.\n",
       "tex\n",
       "File: pgfcorerdf.code.tex 2019/02/02 v3.1.1 (3.1.1)\n",
       ")))\n",
       "(/usr/local/texlive/2018/texmf-dist/tex/generic/pgf/modules/pgfmoduleshapes.cod\n",
       "e.tex\n",
       "File: pgfmoduleshapes.code.tex 2019/02/02 v3.1.1 (3.1.1)\n",
       "\\pgfnodeparttextbox=\\box34\n",
       ")\n",
       "(/usr/local/texlive/2018/texmf-dist/tex/generic/pgf/modules/pgfmoduleplot.code.\n",
       "tex\n",
       "File: pgfmoduleplot.code.tex 2019/02/02 v3.1.1 (3.1.1)\n",
       ")\n",
       "(/usr/local/texlive/2018/texmf-dist/tex/latex/pgf/compatibility/pgfcomp-version\n",
       "-0-65.sty\n",
       "Package: pgfcomp-version-0-65 2019/02/02 v3.1.1 (3.1.1)\n",
       "\\pgf@nodesepstart=\\dimen140\n",
       "\\pgf@nodesepend=\\dimen141\n",
       ")\n",
       "(/usr/local/texlive/2018/texmf-dist/tex/latex/pgf/compatibility/pgfcomp-version\n",
       "-1-18.sty\n",
       "Package: pgfcomp-version-1-18 2019/02/02 v3.1.1 (3.1.1)\n",
       "))\n",
       "(/usr/local/texlive/2018/texmf-dist/tex/latex/pgf/utilities/pgffor.sty\n",
       "(/usr/local/texlive/2018/texmf-dist/tex/latex/pgf/utilities/pgfkeys.sty\n",
       "(/usr/local/texlive/2018/texmf-dist/tex/generic/pgf/utilities/pgfkeys.code.tex)\n",
       ") (/usr/local/texlive/2018/texmf-dist/tex/latex/pgf/math/pgfmath.sty\n",
       "(/usr/local/texlive/2018/texmf-dist/tex/generic/pgf/math/pgfmath.code.tex))\n",
       "(/usr/local/texlive/2018/texmf-dist/tex/generic/pgf/utilities/pgffor.code.tex\n",
       "Package: pgffor 2019/02/02 v3.1.1 (3.1.1)\n",
       "\n",
       "(/usr/local/texlive/2018/texmf-dist/tex/generic/pgf/math/pgfmath.code.tex)\n",
       "\\pgffor@iter=\\dimen142\n",
       "\\pgffor@skip=\\dimen143\n",
       "\\pgffor@stack=\\toks26\n",
       "\\pgffor@toks=\\toks27\n",
       "))\n",
       "(/usr/local/texlive/2018/texmf-dist/tex/generic/pgf/frontendlayer/tikz/tikz.cod\n",
       "e.tex\n",
       "Package: tikz 2019/02/02 v3.1.1 (3.1.1)\n",
       "\n",
       "(/usr/local/texlive/2018/texmf-dist/tex/generic/pgf/libraries/pgflibraryplothan\n",
       "dlers.code.tex\n",
       "File: pgflibraryplothandlers.code.tex 2019/02/02 v3.1.1 (3.1.1)\n",
       "\\pgf@plot@mark@count=\\count102\n",
       "\\pgfplotmarksize=\\dimen144\n",
       ")\n",
       "\\tikz@lastx=\\dimen145\n",
       "\\tikz@lasty=\\dimen146\n",
       "\\tikz@lastxsaved=\\dimen147\n",
       "\\tikz@lastysaved=\\dimen148\n",
       "\\tikzleveldistance=\\dimen149\n",
       "\\tikzsiblingdistance=\\dimen150\n",
       "\\tikz@figbox=\\box35\n",
       "\\tikz@figbox@bg=\\box36\n",
       "\\tikz@tempbox=\\box37\n",
       "\\tikz@tempbox@bg=\\box38\n",
       "\\tikztreelevel=\\count103\n",
       "\\tikznumberofchildren=\\count104\n",
       "\\tikznumberofcurrentchild=\\count105\n",
       "\\tikz@fig@count=\\count106\n",
       "\n",
       "(/usr/local/texlive/2018/texmf-dist/tex/generic/pgf/modules/pgfmodulematrix.cod\n",
       "e.tex\n",
       "File: pgfmodulematrix.code.tex 2019/02/02 v3.1.1 (3.1.1)\n",
       "\\pgfmatrixcurrentrow=\\count107\n",
       "\\pgfmatrixcurrentcolumn=\\count108\n",
       "\\pgf@matrix@numberofcolumns=\\count109\n",
       ")\n",
       "\\tikz@expandcount=\\count110\n",
       "\n",
       "(/usr/local/texlive/2018/texmf-dist/tex/generic/pgf/frontendlayer/tikz/librarie\n",
       "s/tikzlibrarytopaths.code.tex\n",
       "File: tikzlibrarytopaths.code.tex 2019/02/02 v3.1.1 (3.1.1)\n",
       ")))\n",
       "(/usr/local/texlive/2018/texmf-dist/tex/generic/pgf/libraries/pgflibraryarrows.\n",
       "meta.code.tex\n",
       "File: pgflibraryarrows.meta.code.tex 2019/02/02 v3.1.1 (3.1.1)\n",
       "\\pgfarrowinset=\\dimen151\n",
       "\\pgfarrowlength=\\dimen152\n",
       "\\pgfarrowwidth=\\dimen153\n",
       "\\pgfarrowlinewidth=\\dimen154\n",
       ") (./tikz.aux)\n",
       "\\openout1 = `tikz.aux'.\n",
       "\n",
       "LaTeX Font Info:    Checking defaults for OML/cmm/m/it on input line 11.\n",
       "LaTeX Font Info:    ... okay on input line 11.\n",
       "LaTeX Font Info:    Checking defaults for T1/cmr/m/n on input line 11.\n",
       "LaTeX Font Info:    ... okay on input line 11.\n",
       "LaTeX Font Info:    Checking defaults for OT1/cmr/m/n on input line 11.\n",
       "LaTeX Font Info:    ... okay on input line 11.\n",
       "LaTeX Font Info:    Checking defaults for OMS/cmsy/m/n on input line 11.\n",
       "LaTeX Font Info:    ... okay on input line 11.\n",
       "LaTeX Font Info:    Checking defaults for OMX/cmex/m/n on input line 11.\n",
       "LaTeX Font Info:    ... okay on input line 11.\n",
       "LaTeX Font Info:    Checking defaults for U/cmr/m/n on input line 11.\n",
       "LaTeX Font Info:    ... okay on input line 11.\n",
       " ABD: EveryShipout initializing macros\n",
       "(/usr/local/texlive/2018/texmf-dist/tex/context/base/mkii/supp-pdf.mkii\n",
       "[Loading MPS to PDF converter (version 2006.09.02).]\n",
       "\\scratchcounter=\\count111\n",
       "\\scratchdimen=\\dimen155\n",
       "\\scratchbox=\\box39\n",
       "\\nofMPsegments=\\count112\n",
       "\\nofMParguments=\\count113\n",
       "\\everyMPshowfont=\\toks28\n",
       "\\MPscratchCnt=\\count114\n",
       "\\MPscratchDim=\\dimen156\n",
       "\\MPnumerator=\\count115\n",
       "\\makeMPintoPDFobject=\\count116\n",
       "\\everyMPtoPDFconversion=\\toks29\n",
       ") (/usr/local/texlive/2018/texmf-dist/tex/latex/oberdiek/epstopdf-base.sty\n",
       "Package: epstopdf-base 2016/05/15 v2.6 Base part for package epstopdf\n",
       "\n",
       "(/usr/local/texlive/2018/texmf-dist/tex/generic/oberdiek/infwarerr.sty\n",
       "Package: infwarerr 2016/05/16 v1.4 Providing info/warning/error messages (HO)\n",
       ")\n",
       "(/usr/local/texlive/2018/texmf-dist/tex/latex/oberdiek/grfext.sty\n",
       "Package: grfext 2016/05/16 v1.2 Manage graphics extensions (HO)\n",
       "\n",
       "(/usr/local/texlive/2018/texmf-dist/tex/generic/oberdiek/kvdefinekeys.sty\n",
       "Package: kvdefinekeys 2016/05/16 v1.4 Define keys (HO)\n",
       "\n",
       "(/usr/local/texlive/2018/texmf-dist/tex/generic/oberdiek/ltxcmds.sty\n",
       "Package: ltxcmds 2016/05/16 v1.23 LaTeX kernel commands for general use (HO)\n",
       ")))\n",
       "(/usr/local/texlive/2018/texmf-dist/tex/latex/oberdiek/kvoptions.sty\n",
       "Package: kvoptions 2016/05/16 v3.12 Key value format for package options (HO)\n",
       "\n",
       "(/usr/local/texlive/2018/texmf-dist/tex/generic/oberdiek/kvsetkeys.sty\n",
       "Package: kvsetkeys 2016/05/16 v1.17 Key value parser (HO)\n",
       "\n",
       "(/usr/local/texlive/2018/texmf-dist/tex/generic/oberdiek/etexcmds.sty\n",
       "Package: etexcmds 2016/05/16 v1.6 Avoid name clashes with e-TeX commands (HO)\n",
       "Package etexcmds Info: Could not find \\expanded.\n",
       "(etexcmds)             That can mean that you are not using pdfTeX 1.50 or\n",
       "(etexcmds)             that some package has redefined \\expanded.\n",
       "(etexcmds)             In the latter case, load this package earlier.\n",
       ")))\n",
       "(/usr/local/texlive/2018/texmf-dist/tex/generic/oberdiek/pdftexcmds.sty\n",
       "Package: pdftexcmds 2018/09/10 v0.29 Utility functions of pdfTeX for LuaTeX (HO\n",
       ")\n",
       "Package pdftexcmds Info: LuaTeX not detected.\n",
       "Package pdftexcmds Info: \\pdf@primitive is available.\n",
       "Package pdftexcmds Info: \\pdf@ifprimitive is available.\n",
       "Package pdftexcmds Info: \\pdfdraftmode found.\n",
       ")\n",
       "Package epstopdf-base Info: Redefining graphics rule for `.eps' on input line 4\n",
       "38.\n",
       "Package grfext Info: Graphics extension search list:\n",
       "(grfext)             [.pdf,.png,.jpg,.mps,.jpeg,.jbig2,.jb2,.PDF,.PNG,.JPG,.JPE\n",
       "G,.JBIG2,.JB2,.eps]\n",
       "(grfext)             \\AppendGraphicsExtensions on input line 456.\n",
       "\n",
       "(/usr/local/texlive/2018/texmf-dist/tex/latex/latexconfig/epstopdf-sys.cfg\n",
       "File: epstopdf-sys.cfg 2010/07/13 v1.3 Configuration of (r)epstopdf for TeX Liv\n",
       "e\n",
       "))\n",
       "! Undefined control sequence.\n",
       "l.37 \\draw\n",
       "           [line width=0.1mm, color=black!75!white, fill=black!50!white] (2+...\n",
       "\n",
       "? \n",
       "! Emergency stop.\n",
       "l.37 \\draw\n",
       "           [line width=0.1mm, color=black!75!white, fill=black!50!white] (2+...\n",
       "End of file on the terminal!\n",
       "\n",
       " \n",
       "Here is how much of TeX's memory you used:\n",
       " 12323 strings out of 492616\n",
       " 254592 string characters out of 6128981\n",
       " 290261 words of memory out of 5000000\n",
       " 16016 multiletter control sequences out of 15000+600000\n",
       " 3945 words of font info for 15 fonts, out of 8000000 for 9000\n",
       " 1141 hyphenation exceptions out of 8191\n",
       " 55i,7n,67p,385b,609s stack positions out of 5000i,500n,10000p,200000b,80000s\n",
       "!  ==> Fatal error occurred, no output PDF file produced!\n"
      ]
     },
     "metadata": {},
     "output_type": "display_data"
    }
   ],
   "source": [
    "%%tikz  -l arrows.meta --scale 15 -f pdf -S {figname}.pdf\n",
    "\n",
    "\\def\\Titre{6}\n",
    "\\def\\sousTitre{4}\n",
    "\\def\\text{4}\n",
    "\n",
    "\\def\\a{0.3} % ecart horizontal\n",
    "\\def\\b{0.1} % ecart vertical\n",
    "\n",
    "% \\draw (.85, 4.15) rectangle (1.25, 4.35);\n",
    "\n",
    "\\draw [line width=0.1mm, color=black!75!white, fill=black!50!white] (0, -0.5) rectangle (1, 0.5);\n",
    "\\filldraw [white] (0.5, 0) circle (.02);\n",
    "\\draw [white] (0.5, 0.1) node[above, scale=\\Titre, font =\\sffamily] {FIXATION};\n",
    "\\draw [white] (0.5, -0.1) node[below, scale=\\sousTitre, font =\\sffamily] {(ramdom)};\n",
    "\n",
    "\\draw [line width=1mm, -{Stealth[length=2mm]}, thick] (1.03,0) -- (1.27,0);\n",
    "\n",
    "\\draw [line width=0.1mm, color=black!75!white, fill=black!50!white] (1+\\a,-0.5) rectangle (2+\\a,0.5);\n",
    "\\draw [white] (1.5+\\a, 0) node[above, scale=\\Titre, font =\\sffamily] {GAP};\n",
    "%\\draw [white] (1.5+\\a, 0) node[below, scale=\\sousTitre, font =\\sffamily] {(300ms)};\n",
    "\n",
    "\\draw [line width=1mm, -{Stealth[length=2mm]}, thick] (2.03+\\a,0) -- (2.27+\\a,0.5+\\b);\n",
    "\\draw [black] (2.26+\\a, 0.7) node[above, left, scale=\\text, font =\\sffamily] {Display;\n",
    "\n",
    "\\draw [line width=0.1mm, color=black!75!white, fill=black!50!white] (2+\\a+\\a,0+\\b) rectangle (3+\\a+\\a,1+\\b);\n",
    "\\filldraw [line width=1mm, color=white, fill=black!50!white] (2.5+\\a+\\a,0.5+\\b) circle(.02);\n",
    "\\draw [line width=1mm, -{Stealth[length=2mm]}, thick, white] (2.55+\\a+\\a,0.5+\\b) -- (2.55+\\a+\\a+\\a,0.5+\\b);\n",
    "\n",
    "\\draw [line width=1mm, -{Stealth[length=2mm]}, thick] (2.03+\\a,0) -- (2.27+\\a,-0.5-\\b);\n",
    "\\draw [black] (2.26+\\a,-0.7) node[below, left, scale=\\text, font =\\sffamily] {Response};\n",
    "\n",
    "\\draw [line width=0.1mm, color=black!75!white, fill=black!50!white] (2+\\a+\\a,-1-\\b) rectangle (3+\\a+\\a,0-\\b);\n",
    "\\filldraw [line width=1mm, color=white, fill=black!50!white] (2.5+\\a+\\a,-0.5-\\b) circle(.02);\n",
    "\\draw [line width=1mm, -{Stealth[length=2mm]}, thick, white] (2.45+\\a+\\a,-0.5-\\b) -- (2.45+\\a,-0.5-\\b);\n",
    "                                                                              \n",
    "% \\draw [anchor=north west] (.5\\linewidth, .382\\linewidth) node {\\includegraphics[width=.5\\linewidth]{/tmp/panel_B.pdf}};\n",
    "\\begin{scope}[font=\\bf\\sffamily\\large]\n",
    "\\draw [anchor=west,fill=white] (.0\\linewidth, .382\\linewidth) node [above right=-3mm] {$\\mathsf{A}$};\n",
    "\\draw [anchor=west,fill=white] (.53\\linewidth, .382\\linewidth) node [above right=-3mm] {$\\mathsf{B}$};\n",
    "\\end{scope}\n",
    "                                                                              "
   ]
  },
  {
   "cell_type": "code",
   "execution_count": 8,
   "metadata": {
    "ExecuteTime": {
     "end_time": "2018-07-03T10:36:00.755780Z",
     "start_time": "2018-07-03T10:34:23.521248Z"
    }
   },
   "outputs": [
    {
     "name": "stdout",
     "output_type": "stream",
     "text": [
      "convert: unable to open image '../paper/fig_intro.pdf': No such file or directory @ error/blob.c/OpenBlob/3485.\n",
      "convert: no images defined `../paper/fig_intro.png' @ error/convert.c/ConvertImageCommand/3300.\n",
      "convert: unable to open image '../paper/fig_intro.pdf': No such file or directory @ error/blob.c/OpenBlob/3485.\n",
      "convert: no images defined `../paper/fig_intro.jpg' @ error/convert.c/ConvertImageCommand/3300.\n",
      "convert: unable to open image '../paper/fig_intro.pdf': No such file or directory @ error/blob.c/OpenBlob/3485.\n",
      "convert: no images defined `../paper/fig_intro.tiff' @ error/convert.c/ConvertImageCommand/3300.\n",
      "width=\n",
      "convert: unable to open image 'figures/../paper/fig_intro.tiff': No such file or directory @ error/blob.c/OpenBlob/3485.\n",
      "convert: no images defined `info:' @ error/convert.c/ConvertImageCommand/3300.\n",
      ", \n",
      "height=\n",
      "convert: unable to open image 'figures/../paper/fig_intro.tiff': No such file or directory @ error/blob.c/OpenBlob/3485.\n",
      "convert: no images defined `info:' @ error/convert.c/ConvertImageCommand/3300.\n",
      ", \n",
      "unit=\n",
      "convert: unable to open image 'figures/../paper/fig_intro.tiff': No such file or directory @ error/blob.c/OpenBlob/3485.\n",
      "convert: no images defined `info:' @ error/convert.c/ConvertImageCommand/3300.\n"
     ]
    }
   ],
   "source": [
    "!convert -density 600  -flatten  -compress lzw -units pixelsperinch  -depth 8 {figname}.pdf {figname}.png\n",
    "!convert  -density 300  -units pixelsperinch {figname}.pdf  {figname}.jpg\n",
    "!convert -density 600  -flatten  -compress lzw -units pixelsperinch  -depth 8 {figname}.pdf {figname}.tiff\n",
    "!echo \"width=\" ; convert figures/{figname}.tiff -format \"%[fx:w]\" info:\n",
    "!echo \", \\nheight=\" ; convert figures/{figname}.tiff -format \"%[fx:h]\" info:\n",
    "!echo \", \\nunit=\" ; convert figures/{figname}.tiff -format \"%U\" info:   "
   ]
  },
  {
   "cell_type": "code",
   "execution_count": 9,
   "metadata": {
    "ExecuteTime": {
     "end_time": "2018-07-03T10:36:00.939193Z",
     "start_time": "2018-07-03T10:36:00.766218Z"
    }
   },
   "outputs": [
    {
     "name": "stdout",
     "output_type": "stream",
     "text": [
      "ls: ../paper/fig_intro*: No such file or directory\n"
     ]
    }
   ],
   "source": [
    "!ls  -l {figname}*"
   ]
  },
  {
   "cell_type": "code",
   "execution_count": 10,
   "metadata": {
    "ExecuteTime": {
     "end_time": "2018-07-03T10:36:00.981927Z",
     "start_time": "2018-07-03T10:36:00.949864Z"
    }
   },
   "outputs": [
    {
     "ename": "TypeError",
     "evalue": "a bytes-like object is required, not 'str'",
     "output_type": "error",
     "traceback": [
      "\u001b[0;31m---------------------------------------------------------------------------\u001b[0m",
      "\u001b[0;31mTypeError\u001b[0m                                 Traceback (most recent call last)",
      "\u001b[0;32m/usr/local/lib/python3.7/site-packages/IPython/core/formatters.py\u001b[0m in \u001b[0;36m__call__\u001b[0;34m(self, obj, include, exclude)\u001b[0m\n\u001b[1;32m    968\u001b[0m \u001b[0;34m\u001b[0m\u001b[0m\n\u001b[1;32m    969\u001b[0m             \u001b[0;32mif\u001b[0m \u001b[0mmethod\u001b[0m \u001b[0;32mis\u001b[0m \u001b[0;32mnot\u001b[0m \u001b[0;32mNone\u001b[0m\u001b[0;34m:\u001b[0m\u001b[0;34m\u001b[0m\u001b[0;34m\u001b[0m\u001b[0m\n\u001b[0;32m--> 970\u001b[0;31m                 \u001b[0;32mreturn\u001b[0m \u001b[0mmethod\u001b[0m\u001b[0;34m(\u001b[0m\u001b[0minclude\u001b[0m\u001b[0;34m=\u001b[0m\u001b[0minclude\u001b[0m\u001b[0;34m,\u001b[0m \u001b[0mexclude\u001b[0m\u001b[0;34m=\u001b[0m\u001b[0mexclude\u001b[0m\u001b[0;34m)\u001b[0m\u001b[0;34m\u001b[0m\u001b[0;34m\u001b[0m\u001b[0m\n\u001b[0m\u001b[1;32m    971\u001b[0m             \u001b[0;32mreturn\u001b[0m \u001b[0;32mNone\u001b[0m\u001b[0;34m\u001b[0m\u001b[0;34m\u001b[0m\u001b[0m\n\u001b[1;32m    972\u001b[0m         \u001b[0;32melse\u001b[0m\u001b[0;34m:\u001b[0m\u001b[0;34m\u001b[0m\u001b[0;34m\u001b[0m\u001b[0m\n",
      "\u001b[0;32m/usr/local/lib/python3.7/site-packages/IPython/core/display.py\u001b[0m in \u001b[0;36m_repr_mimebundle_\u001b[0;34m(self, include, exclude)\u001b[0m\n\u001b[1;32m   1242\u001b[0m         \u001b[0;32mif\u001b[0m \u001b[0mself\u001b[0m\u001b[0;34m.\u001b[0m\u001b[0membed\u001b[0m\u001b[0;34m:\u001b[0m\u001b[0;34m\u001b[0m\u001b[0;34m\u001b[0m\u001b[0m\n\u001b[1;32m   1243\u001b[0m             \u001b[0mmimetype\u001b[0m \u001b[0;34m=\u001b[0m \u001b[0mself\u001b[0m\u001b[0;34m.\u001b[0m\u001b[0m_mimetype\u001b[0m\u001b[0;34m\u001b[0m\u001b[0;34m\u001b[0m\u001b[0m\n\u001b[0;32m-> 1244\u001b[0;31m             \u001b[0mdata\u001b[0m\u001b[0;34m,\u001b[0m \u001b[0mmetadata\u001b[0m \u001b[0;34m=\u001b[0m \u001b[0mself\u001b[0m\u001b[0;34m.\u001b[0m\u001b[0m_data_and_metadata\u001b[0m\u001b[0;34m(\u001b[0m\u001b[0malways_both\u001b[0m\u001b[0;34m=\u001b[0m\u001b[0;32mTrue\u001b[0m\u001b[0;34m)\u001b[0m\u001b[0;34m\u001b[0m\u001b[0;34m\u001b[0m\u001b[0m\n\u001b[0m\u001b[1;32m   1245\u001b[0m             \u001b[0;32mif\u001b[0m \u001b[0mmetadata\u001b[0m\u001b[0;34m:\u001b[0m\u001b[0;34m\u001b[0m\u001b[0;34m\u001b[0m\u001b[0m\n\u001b[1;32m   1246\u001b[0m                 \u001b[0mmetadata\u001b[0m \u001b[0;34m=\u001b[0m \u001b[0;34m{\u001b[0m\u001b[0mmimetype\u001b[0m\u001b[0;34m:\u001b[0m \u001b[0mmetadata\u001b[0m\u001b[0;34m}\u001b[0m\u001b[0;34m\u001b[0m\u001b[0;34m\u001b[0m\u001b[0m\n",
      "\u001b[0;32m/usr/local/lib/python3.7/site-packages/IPython/core/display.py\u001b[0m in \u001b[0;36m_data_and_metadata\u001b[0;34m(self, always_both)\u001b[0m\n\u001b[1;32m   1251\u001b[0m     \u001b[0;32mdef\u001b[0m \u001b[0m_data_and_metadata\u001b[0m\u001b[0;34m(\u001b[0m\u001b[0mself\u001b[0m\u001b[0;34m,\u001b[0m \u001b[0malways_both\u001b[0m\u001b[0;34m=\u001b[0m\u001b[0;32mFalse\u001b[0m\u001b[0;34m)\u001b[0m\u001b[0;34m:\u001b[0m\u001b[0;34m\u001b[0m\u001b[0;34m\u001b[0m\u001b[0m\n\u001b[1;32m   1252\u001b[0m         \u001b[0;34m\"\"\"shortcut for returning metadata with shape information, if defined\"\"\"\u001b[0m\u001b[0;34m\u001b[0m\u001b[0;34m\u001b[0m\u001b[0m\n\u001b[0;32m-> 1253\u001b[0;31m         \u001b[0mb64_data\u001b[0m \u001b[0;34m=\u001b[0m \u001b[0mb2a_base64\u001b[0m\u001b[0;34m(\u001b[0m\u001b[0mself\u001b[0m\u001b[0;34m.\u001b[0m\u001b[0mdata\u001b[0m\u001b[0;34m)\u001b[0m\u001b[0;34m.\u001b[0m\u001b[0mdecode\u001b[0m\u001b[0;34m(\u001b[0m\u001b[0;34m'ascii'\u001b[0m\u001b[0;34m)\u001b[0m\u001b[0;34m\u001b[0m\u001b[0;34m\u001b[0m\u001b[0m\n\u001b[0m\u001b[1;32m   1254\u001b[0m         \u001b[0mmd\u001b[0m \u001b[0;34m=\u001b[0m \u001b[0;34m{\u001b[0m\u001b[0;34m}\u001b[0m\u001b[0;34m\u001b[0m\u001b[0;34m\u001b[0m\u001b[0m\n\u001b[1;32m   1255\u001b[0m         \u001b[0;32mif\u001b[0m \u001b[0mself\u001b[0m\u001b[0;34m.\u001b[0m\u001b[0mmetadata\u001b[0m\u001b[0;34m:\u001b[0m\u001b[0;34m\u001b[0m\u001b[0;34m\u001b[0m\u001b[0m\n",
      "\u001b[0;31mTypeError\u001b[0m: a bytes-like object is required, not 'str'"
     ]
    },
    {
     "ename": "TypeError",
     "evalue": "a bytes-like object is required, not 'str'",
     "output_type": "error",
     "traceback": [
      "\u001b[0;31m---------------------------------------------------------------------------\u001b[0m",
      "\u001b[0;31mTypeError\u001b[0m                                 Traceback (most recent call last)",
      "\u001b[0;32m/usr/local/lib/python3.7/site-packages/IPython/core/formatters.py\u001b[0m in \u001b[0;36m__call__\u001b[0;34m(self, obj)\u001b[0m\n\u001b[1;32m    343\u001b[0m             \u001b[0mmethod\u001b[0m \u001b[0;34m=\u001b[0m \u001b[0mget_real_method\u001b[0m\u001b[0;34m(\u001b[0m\u001b[0mobj\u001b[0m\u001b[0;34m,\u001b[0m \u001b[0mself\u001b[0m\u001b[0;34m.\u001b[0m\u001b[0mprint_method\u001b[0m\u001b[0;34m)\u001b[0m\u001b[0;34m\u001b[0m\u001b[0;34m\u001b[0m\u001b[0m\n\u001b[1;32m    344\u001b[0m             \u001b[0;32mif\u001b[0m \u001b[0mmethod\u001b[0m \u001b[0;32mis\u001b[0m \u001b[0;32mnot\u001b[0m \u001b[0;32mNone\u001b[0m\u001b[0;34m:\u001b[0m\u001b[0;34m\u001b[0m\u001b[0;34m\u001b[0m\u001b[0m\n\u001b[0;32m--> 345\u001b[0;31m                 \u001b[0;32mreturn\u001b[0m \u001b[0mmethod\u001b[0m\u001b[0;34m(\u001b[0m\u001b[0;34m)\u001b[0m\u001b[0;34m\u001b[0m\u001b[0;34m\u001b[0m\u001b[0m\n\u001b[0m\u001b[1;32m    346\u001b[0m             \u001b[0;32mreturn\u001b[0m \u001b[0;32mNone\u001b[0m\u001b[0;34m\u001b[0m\u001b[0;34m\u001b[0m\u001b[0m\n\u001b[1;32m    347\u001b[0m         \u001b[0;32melse\u001b[0m\u001b[0;34m:\u001b[0m\u001b[0;34m\u001b[0m\u001b[0;34m\u001b[0m\u001b[0m\n",
      "\u001b[0;32m/usr/local/lib/python3.7/site-packages/IPython/core/display.py\u001b[0m in \u001b[0;36m_repr_png_\u001b[0;34m(self)\u001b[0m\n\u001b[1;32m   1268\u001b[0m     \u001b[0;32mdef\u001b[0m \u001b[0m_repr_png_\u001b[0m\u001b[0;34m(\u001b[0m\u001b[0mself\u001b[0m\u001b[0;34m)\u001b[0m\u001b[0;34m:\u001b[0m\u001b[0;34m\u001b[0m\u001b[0;34m\u001b[0m\u001b[0m\n\u001b[1;32m   1269\u001b[0m         \u001b[0;32mif\u001b[0m \u001b[0mself\u001b[0m\u001b[0;34m.\u001b[0m\u001b[0membed\u001b[0m \u001b[0;32mand\u001b[0m \u001b[0mself\u001b[0m\u001b[0;34m.\u001b[0m\u001b[0mformat\u001b[0m \u001b[0;34m==\u001b[0m \u001b[0mself\u001b[0m\u001b[0;34m.\u001b[0m\u001b[0m_FMT_PNG\u001b[0m\u001b[0;34m:\u001b[0m\u001b[0;34m\u001b[0m\u001b[0;34m\u001b[0m\u001b[0m\n\u001b[0;32m-> 1270\u001b[0;31m             \u001b[0;32mreturn\u001b[0m \u001b[0mself\u001b[0m\u001b[0;34m.\u001b[0m\u001b[0m_data_and_metadata\u001b[0m\u001b[0;34m(\u001b[0m\u001b[0;34m)\u001b[0m\u001b[0;34m\u001b[0m\u001b[0;34m\u001b[0m\u001b[0m\n\u001b[0m\u001b[1;32m   1271\u001b[0m \u001b[0;34m\u001b[0m\u001b[0m\n\u001b[1;32m   1272\u001b[0m     \u001b[0;32mdef\u001b[0m \u001b[0m_repr_jpeg_\u001b[0m\u001b[0;34m(\u001b[0m\u001b[0mself\u001b[0m\u001b[0;34m)\u001b[0m\u001b[0;34m:\u001b[0m\u001b[0;34m\u001b[0m\u001b[0;34m\u001b[0m\u001b[0m\n",
      "\u001b[0;32m/usr/local/lib/python3.7/site-packages/IPython/core/display.py\u001b[0m in \u001b[0;36m_data_and_metadata\u001b[0;34m(self, always_both)\u001b[0m\n\u001b[1;32m   1251\u001b[0m     \u001b[0;32mdef\u001b[0m \u001b[0m_data_and_metadata\u001b[0m\u001b[0;34m(\u001b[0m\u001b[0mself\u001b[0m\u001b[0;34m,\u001b[0m \u001b[0malways_both\u001b[0m\u001b[0;34m=\u001b[0m\u001b[0;32mFalse\u001b[0m\u001b[0;34m)\u001b[0m\u001b[0;34m:\u001b[0m\u001b[0;34m\u001b[0m\u001b[0;34m\u001b[0m\u001b[0m\n\u001b[1;32m   1252\u001b[0m         \u001b[0;34m\"\"\"shortcut for returning metadata with shape information, if defined\"\"\"\u001b[0m\u001b[0;34m\u001b[0m\u001b[0;34m\u001b[0m\u001b[0m\n\u001b[0;32m-> 1253\u001b[0;31m         \u001b[0mb64_data\u001b[0m \u001b[0;34m=\u001b[0m \u001b[0mb2a_base64\u001b[0m\u001b[0;34m(\u001b[0m\u001b[0mself\u001b[0m\u001b[0;34m.\u001b[0m\u001b[0mdata\u001b[0m\u001b[0;34m)\u001b[0m\u001b[0;34m.\u001b[0m\u001b[0mdecode\u001b[0m\u001b[0;34m(\u001b[0m\u001b[0;34m'ascii'\u001b[0m\u001b[0;34m)\u001b[0m\u001b[0;34m\u001b[0m\u001b[0;34m\u001b[0m\u001b[0m\n\u001b[0m\u001b[1;32m   1254\u001b[0m         \u001b[0mmd\u001b[0m \u001b[0;34m=\u001b[0m \u001b[0;34m{\u001b[0m\u001b[0;34m}\u001b[0m\u001b[0;34m\u001b[0m\u001b[0;34m\u001b[0m\u001b[0m\n\u001b[1;32m   1255\u001b[0m         \u001b[0;32mif\u001b[0m \u001b[0mself\u001b[0m\u001b[0;34m.\u001b[0m\u001b[0mmetadata\u001b[0m\u001b[0;34m:\u001b[0m\u001b[0;34m\u001b[0m\u001b[0;34m\u001b[0m\u001b[0m\n",
      "\u001b[0;31mTypeError\u001b[0m: a bytes-like object is required, not 'str'"
     ]
    },
    {
     "data": {
      "text/plain": [
       "<IPython.core.display.Image object>"
      ]
     },
     "execution_count": 10,
     "metadata": {},
     "output_type": "execute_result"
    }
   ],
   "source": [
    "from IPython.display import Image\n",
    "Image('{figname}.png'.format(figname=figname))"
   ]
  },
  {
   "cell_type": "code",
   "execution_count": null,
   "metadata": {},
   "outputs": [],
   "source": []
  }
 ],
 "metadata": {
  "kernelspec": {
   "display_name": "Python 3",
   "language": "python",
   "name": "python3"
  },
  "language_info": {
   "codemirror_mode": {
    "name": "ipython",
    "version": 3
   },
   "file_extension": ".py",
   "mimetype": "text/x-python",
   "name": "python",
   "nbconvert_exporter": "python",
   "pygments_lexer": "ipython3",
   "version": "3.7.2"
  },
  "toc": {
   "base_numbering": 1,
   "nav_menu": {},
   "number_sections": true,
   "sideBar": true,
   "skip_h1_title": false,
   "title_cell": "Table of Contents",
   "title_sidebar": "Contents",
   "toc_cell": false,
   "toc_position": {},
   "toc_section_display": true,
   "toc_window_display": false
  }
 },
 "nbformat": 4,
 "nbformat_minor": 2
}
