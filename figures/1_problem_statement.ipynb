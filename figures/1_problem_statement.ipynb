{
 "cells": [
  {
   "cell_type": "code",
   "execution_count": 1,
   "metadata": {},
   "outputs": [],
   "source": [
    "%load_ext autoreload\n",
    "%autoreload 2"
   ]
  },
  {
   "cell_type": "markdown",
   "metadata": {},
   "source": [
    "This notebook introduces the problem addressed in this paper:\n",
    "\n",
    " - localizating an object in a large image\n",
    " - foveation\n",
    " - action (saccade)\n",
    " "
   ]
  },
  {
   "cell_type": "code",
   "execution_count": null,
   "metadata": {},
   "outputs": [
    {
     "name": "stdout",
     "output_type": "stream",
     "text": [
      "The autoreload extension is already loaded. To reload it, use:\n",
      "  %reload_ext autoreload\n",
      "\n",
      "This notebook introduces the problem addressed in this paper:\n",
      "\n",
      " - localizating an object in a large image\n",
      " - foveation\n",
      " - action (saccade)\n",
      "       \n",
      "      \n",
      "Using filename= ../data/2019-03-15\n",
      "{'w': 28, 'minibatch_size': 100, 'train_batch_size': 600, 'test_batch_size': 1000, 'noise_batch_size': 1000, 'mean': 0.1307, 'std': 0.3081, 'N_pic': 128, 'offset_std': 30, 'offset_max': 35, 'noise': 1.0, 'contrast': 0.8, 'sf_0': 0.2, 'B_sf': 0.3, 'N_theta': 6, 'N_azimuth': 16, 'N_eccentricity': 10, 'N_phase': 2, 'rho': 1.41, 'bias_deconv': True, 'p_dropout': 0.5, 'dim1': 1000, 'dim2': 1000, 'lr': 0.0001, 'do_adam': True, 'bn1_bn_momentum': 0.0, 'bn2_bn_momentum': 0.0, 'momentum': 0.1, 'epochs': 10, 'num_processes': 1, 'no_cuda': True, 'log_interval': 100, 'verbose': 1, 'filename': '../data/2019-03-15', 'seed': 2019, 'N_cv': 20}\n",
      "Overwriting train.py\n",
      "Using filename= ../data/2019-03-15\n"
     ]
    },
    {
     "name": "stderr",
     "output_type": "stream",
     "text": [
      "Train Epoch:   0%|          | 0/10 [00:00<?, ?it/s]"
     ]
    },
    {
     "name": "stdout",
     "output_type": "stream",
     "text": [
      "Loading accuracy... min, max= 0.0145 0.9852\n"
     ]
    },
    {
     "name": "stderr",
     "output_type": "stream",
     "text": [
      "Train Epoch:  20%|██        | 2/10 [27:26<1:47:30, 806.30s/it]"
     ]
    }
   ],
   "source": [
    "%run 0_parameters.ipynb"
   ]
  },
  {
   "cell_type": "code",
   "execution_count": null,
   "metadata": {
    "ExecuteTime": {
     "end_time": "2018-07-03T10:34:13.258190Z",
     "start_time": "2018-07-03T10:34:13.251661Z"
    },
    "collapsed": true
   },
   "outputs": [],
   "source": [
    "figname = '../paper/fig_intro'"
   ]
  },
  {
   "cell_type": "markdown",
   "metadata": {},
   "source": [
    "# A/ process generating display images"
   ]
  },
  {
   "cell_type": "code",
   "execution_count": null,
   "metadata": {},
   "outputs": [],
   "source": [
    "from retina import Display\n",
    "d = Display(args)\n",
    "data, label = next(iter(d.loader_test))"
   ]
  },
  {
   "cell_type": "code",
   "execution_count": null,
   "metadata": {},
   "outputs": [],
   "source": [
    "print('data.shape=', data.shape)"
   ]
  },
  {
   "cell_type": "markdown",
   "metadata": {},
   "source": [
    "## loading the MNIST dataset"
   ]
  },
  {
   "cell_type": "code",
   "execution_count": null,
   "metadata": {},
   "outputs": [],
   "source": [
    "N_plot = 5\n",
    "fig, axs = plt.subplots(1, N_plot, figsize = (21, 5))\n",
    "for i_ax, ax in enumerate(axs):\n",
    "    ax.imshow(data[i_ax, 0, :, :], cmap=plt.gray())\n",
    "    ax.set_xticks([])\n",
    "    ax.set_yticks([])"
   ]
  },
  {
   "cell_type": "markdown",
   "metadata": {},
   "source": [
    "## placing the digits in some random noise"
   ]
  },
  {
   "cell_type": "code",
   "execution_count": null,
   "metadata": {},
   "outputs": [],
   "source": [
    "from retina import minmax, place_object"
   ]
  },
  {
   "cell_type": "code",
   "execution_count": null,
   "metadata": {},
   "outputs": [],
   "source": [
    "N_plot = 5\n",
    "fig, axs = plt.subplots(1, N_plot, figsize = (21, 8))\n",
    "for i_ax, ax in enumerate(axs):\n",
    "    data_fullfield, i_offset, j_offset = d.draw(data[i_ax, 0, :, :].numpy())\n",
    "    ax = d.show(ax, data_fullfield)\n"
   ]
  },
  {
   "cell_type": "code",
   "execution_count": null,
   "metadata": {},
   "outputs": [],
   "source": [
    "idx = 4\n",
    "i_offset, j_offset = -29, 21"
   ]
  },
  {
   "cell_type": "code",
   "execution_count": null,
   "metadata": {},
   "outputs": [],
   "source": [
    "#data_fullfield, i_offset, j_offset = d.draw(data[0, 0, :, :].numpy())\n",
    "data_fullfield = d.place_object(data[idx, 0, :, :].numpy(), i_offset, j_offset)"
   ]
  },
  {
   "cell_type": "code",
   "execution_count": null,
   "metadata": {},
   "outputs": [],
   "source": [
    "texts = ['FIX', 'DIS', 'SAC', 'ANS']\n",
    "def panel_A(fig=None, axs=None):\n",
    "\n",
    "    N_plot = 4\n",
    "\n",
    "    if fig is None:\n",
    "        fig, axs = plt.subplots(1, N_plot, figsize = (figwidth, figwidth/4))\n",
    "    for ax, text in zip(axs, texts):\n",
    "        ax.imshow(.5 + np.zeros_like(data_fullfield), cmap=plt.gray(), vmin=0, vmax=1)\n",
    "        if text=='FIX': \n",
    "            ax.plot([args.N_pic//2], [args.N_pic//2], '+', color='b', ms=24, markeredgewidth=4)\n",
    "        elif text in ['DIS', 'SAC']: \n",
    "            ax.imshow(data_fullfield, cmap=plt.gray(), vmin=0, vmax=1)\n",
    "            opts = dict(ms=24, markeredgewidth=1, alpha=.4)\n",
    "            if text == 'DIS':\n",
    "                ax.plot([args.N_pic//2], [args.N_pic//2], '*r', **opts)\n",
    "            else:\n",
    "                ax.plot([args.N_pic//2+j_offset], [args.N_pic//2+i_offset], '*r', **opts)\n",
    "                ax.arrow(args.N_pic//2, args.N_pic//2, j_offset, i_offset, width=.3, color='r', \n",
    "                         head_width=4., length_includes_head=True, edgecolor='k')\n",
    "        elif text=='ANS':         \n",
    "            ax.text(args.N_pic//2, args.N_pic//2, '?', color='b', fontsize=42,\n",
    "              ha='center', va='center')\n",
    "\n",
    "        ax.set_xticks([])\n",
    "        ax.set_yticks([])\n",
    "        ax.text(4, 15, text, fontsize=24,\n",
    "              bbox={'facecolor':'white','alpha':1,'edgecolor':'none','pad':1},\n",
    "              ha='left', va='center') \n",
    "\n",
    "    # TODO: show arrow of time\n",
    "    #fig.arrow(N_pic//2, N_pic//2, j_offset - 4 * N_pic, i_offset, width=.3, color='r', head_width=4., length_includes_head=True, edgecolor='k')\n",
    "    return fig, axs\n",
    "fig_A, axs_A = panel_A()\n",
    "#fig_A.savefig(figname + '.pdf')"
   ]
  },
  {
   "cell_type": "markdown",
   "metadata": {},
   "source": [
    "# B/ a sample saccade"
   ]
  },
  {
   "cell_type": "code",
   "execution_count": null,
   "metadata": {},
   "outputs": [],
   "source": [
    "def panel_B(fig=None, axs=None, N_time=100, offset=.15, fontsize=24, ms=18, markeredgewidth=4, alpha=.1):\n",
    "    if fig is None:\n",
    "        fig, axs = plt.subplots(1, 1, figsize=(figwidth/2, figwidth/phi/2))\n",
    "    \n",
    "    time = np.linspace(0, 800, N_time)\n",
    "    latency = 320\n",
    "    EM = 1. - np.exp(- (time-latency) / 54. ) \n",
    "\n",
    "    EM[time<latency] = 0\n",
    "    EM += .01 * np.random.randn(N_time)\n",
    "\n",
    "    start, sac, end = 200, 600, 700\n",
    "    axs.plot(time, EM)\n",
    "    axs.plot([start], [0], '+', color='b', ms=ms, markeredgewidth=markeredgewidth)\n",
    "    axs.plot([sac], [1], '+', color='b', ms=ms, markeredgewidth=markeredgewidth)\n",
    "    axs.plot([0], [0], '+', color='b', ms=ms, markeredgewidth=markeredgewidth)\n",
    "    axs.plot([800], [1], '+', color='b', ms=ms, markeredgewidth=markeredgewidth)\n",
    "    opts = dict(fontsize=fontsize,\n",
    "          bbox={'facecolor':'white','alpha':0,'edgecolor':'none','pad':1},\n",
    "          ha='left', va='center')\n",
    "    axs.text(0, offset, 'FIX', **opts)\n",
    "    axs.text(start, offset, 'DIS', **opts)\n",
    "    axs.text(sac-80, 1-offset, 'SAC', **opts)\n",
    "    axs.text(700, 1-offset, 'ANS', **opts)\n",
    "    axs.fill_between([start, end], y1=1.15, y2=-.15, facecolor='g', alpha=alpha)\n",
    "    axs.set_ylim([-.1, 1.1])\n",
    "    axs.set_xlabel('time (ms)')\n",
    "    axs.set_ylabel('eye position (a. u.)')\n",
    "    return fig, axs\n",
    "\n",
    "fig_B, axs_B = panel_B()"
   ]
  },
  {
   "cell_type": "markdown",
   "metadata": {},
   "source": [
    "# C/ foveation"
   ]
  },
  {
   "cell_type": "code",
   "execution_count": null,
   "metadata": {},
   "outputs": [],
   "source": [
    "from retina import Retina\n",
    "r = Retina(args)"
   ]
  },
  {
   "cell_type": "code",
   "execution_count": null,
   "metadata": {},
   "outputs": [],
   "source": [
    "idx = 4\n",
    "i_offset, j_offset = -29, 21\n",
    "data_fullfield = d.place_object(data[idx, 0, :, :].numpy(), i_offset, j_offset)\n",
    "data_fullfield_0 = d.place_object(data[idx, 0, :, :].numpy(), 0, 0)\n",
    "\n",
    "data_retina = r.retina(data_fullfield)\n",
    "data_retina_0   = r.retina(data_fullfield_0)\n",
    "\n",
    "im_0 = r.retina_invert(data_retina_0)\n",
    "im = r.retina_invert(data_retina)"
   ]
  },
  {
   "cell_type": "code",
   "execution_count": null,
   "metadata": {},
   "outputs": [],
   "source": [
    "def panel_C(fig=None, axs=None,):\n",
    "    N_pic = args.N_pic\n",
    "    w = data[idx, 0, :, :].numpy().shape[0]\n",
    "    rmin = min((im.min(), im_0.min()))\n",
    "    rmax = max((im.max(), im_0.max()))\n",
    "    if fig is None:\n",
    "        fig, axs = plt.subplots(1, 2, figsize=(figwidth/2, figwidth/phi/2))\n",
    "    for ax, text in zip(axs, texts[1:3]):\n",
    "        if text == 'DIS':\n",
    "            ax = r.show(ax, im, rmin=rmin, rmax=rmax)\n",
    "        else:\n",
    "            ax = r.show(ax, im_0, rmin=rmin, rmax=rmax)\n",
    "\n",
    "        ax.text(4, 15, text, fontsize=24,\n",
    "              bbox={'facecolor':'white','alpha':1,'edgecolor':'none','pad':1},\n",
    "              ha='left', va='center') \n",
    "\n",
    "    return fig, axs\n",
    "fig_C, axs_C = panel_C()\n",
    "# fig_B.savefig(figname + '.pdf')"
   ]
  },
  {
   "cell_type": "markdown",
   "metadata": {},
   "source": [
    "# summary"
   ]
  },
  {
   "cell_type": "code",
   "execution_count": null,
   "metadata": {},
   "outputs": [],
   "source": [
    "# fig = plt.figure(figsize = (21, 13))\n",
    "fig, axs = plt.subplots(2, 4, figsize = (figwidth, figwidth/2), constrained_layout=True)\n",
    "    \n",
    "fig, axs_A = panel_A(fig=fig, axs=axs[0])\n",
    "fig, axs_B = panel_B(fig=fig, axs=axs[1][0])\n",
    "fig, axs_C = panel_C(fig=fig, axs=axs[1][1:3])\n",
    "axs[1][3].remove()\n",
    "# pos : [left, bottom, width, height] =    The new position of the in `.Figure` coordinates.\n",
    "axs_B.set_position([0.1, 0.0725, .35, 0.4])\n",
    "axs_C[0].set_position([0.4, .025, .45, .45])\n",
    "axs_C[1].set_position([0.65, .025, .45, .45])\n",
    "offset = -.25\n",
    "for ax, text, x, y in [[axs_A[0], 'A', offset, 1], [axs_B, 'B', offset, 1], [axs_C[0], 'C', offset, 1]]:\n",
    "    ax.text(x, y, '(' + text + ')', fontsize=32,\n",
    "              bbox={'facecolor':'white','alpha':1,'edgecolor':'none','pad':1},\n",
    "              ha='left', va='center', transform=ax.transAxes) \n",
    "\n",
    "#plt.tight_layout()\n",
    "fig.savefig(figname + '.pdf', bbox_inches='tight', pad_inches=0.1)"
   ]
  },
  {
   "cell_type": "markdown",
   "metadata": {},
   "source": [
    "# post-processing"
   ]
  },
  {
   "cell_type": "code",
   "execution_count": null,
   "metadata": {
    "ExecuteTime": {
     "end_time": "2018-10-08T14:43:27.591507Z",
     "start_time": "2018-10-08T14:43:24.722160Z"
    }
   },
   "outputs": [],
   "source": [
    "!convert  -density {dpi_export} {figname}.pdf {figname}.jpg\n",
    "!convert  -density {dpi_export} {figname}.pdf {figname}.png\n",
    "#!convert  -density {dpi_export} -resize 5400  -units pixelsperinch -flatten  -compress lzw  -depth 8 {fname}.pdf {fname}.tiff"
   ]
  },
  {
   "cell_type": "code",
   "execution_count": null,
   "metadata": {
    "ExecuteTime": {
     "end_time": "2018-07-03T10:36:00.981927Z",
     "start_time": "2018-07-03T10:36:00.949864Z"
    }
   },
   "outputs": [],
   "source": [
    "from IPython.display import Image\n",
    "Image('{figname}.png'.format(figname=figname))"
   ]
  },
  {
   "cell_type": "code",
   "execution_count": null,
   "metadata": {
    "ExecuteTime": {
     "end_time": "2018-07-03T10:36:00.939193Z",
     "start_time": "2018-07-03T10:36:00.766218Z"
    }
   },
   "outputs": [],
   "source": [
    "!ls  -l {figname}*"
   ]
  }
 ],
 "metadata": {
  "kernelspec": {
   "display_name": "Python 3",
   "language": "python",
   "name": "python3"
  },
  "language_info": {
   "codemirror_mode": {
    "name": "ipython",
    "version": 3
   },
   "file_extension": ".py",
   "mimetype": "text/x-python",
   "name": "python",
   "nbconvert_exporter": "python",
   "pygments_lexer": "ipython3",
   "version": "3.7.2"
  },
  "toc": {
   "base_numbering": 1,
   "nav_menu": {},
   "number_sections": true,
   "sideBar": true,
   "skip_h1_title": false,
   "title_cell": "Table of Contents",
   "title_sidebar": "Contents",
   "toc_cell": false,
   "toc_position": {},
   "toc_section_display": true,
   "toc_window_display": false
  }
 },
 "nbformat": 4,
 "nbformat_minor": 2
}
