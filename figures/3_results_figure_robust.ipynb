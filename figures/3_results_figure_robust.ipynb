{
 "cells": [
  {
   "cell_type": "markdown",
   "metadata": {},
   "source": [
    "This notebook introduces the problem addressed in this paper:\n",
    "\n",
    " - localizating an object in a large image\n",
    " - foveation\n",
    " - action (saccade)\n",
    " "
   ]
  },
  {
   "cell_type": "code",
   "execution_count": null,
   "metadata": {},
   "outputs": [],
   "source": [
    "#%run 0_parameters.ipynb"
   ]
  },
  {
   "cell_type": "code",
   "execution_count": null,
   "metadata": {
    "ExecuteTime": {
     "end_time": "2018-07-03T10:34:13.258190Z",
     "start_time": "2018-07-03T10:34:13.251661Z"
    }
   },
   "outputs": [],
   "source": []
  },
  {
   "cell_type": "code",
   "execution_count": null,
   "metadata": {},
   "outputs": [],
   "source": [
    "from where import Where\n",
    "from what import WhatNet\n",
    "from retina import Retina\n",
    "import torch\n",
    "import torch.nn.functional as F"
   ]
  },
  {
   "cell_type": "code",
   "execution_count": null,
   "metadata": {},
   "outputs": [],
   "source": [
    "import matplotlib.pyplot as plt\n",
    "import numpy as np"
   ]
  },
  {
   "cell_type": "markdown",
   "metadata": {},
   "source": [
    "# Training the Where network"
   ]
  },
  {
   "cell_type": "code",
   "execution_count": null,
   "metadata": {},
   "outputs": [],
   "source": [
    "%ls -lh ../data/*pt"
   ]
  },
  {
   "cell_type": "raw",
   "metadata": {},
   "source": [
    "import torch\n",
    "filename_dataset = '/tmp/dataset_train_0.100_0.100_1.000_0.300_15.000_30.000_6_16_8_2_1.410_128_50000.pt'\n",
    "loader_train  = torch.load(filename_dataset)\n",
    "data, label = next(iter(loader_train))\n",
    "print(data.shape)\n",
    "print(label.shape)"
   ]
  },
  {
   "cell_type": "code",
   "execution_count": null,
   "metadata": {},
   "outputs": [],
   "source": [
    "from main import init\n",
    "#args = init(filename='debug')\n",
    "#args = init(filename='../data/2019-03-19_bis')\n",
    "args = init(filename='../data/2019-06-13')\n",
    "#args = init(filename='../data/2019-03-29')\n",
    "\n",
    "args.save_model = True\n",
    "period = 10\n",
    "args.sf_0 = 1/period\n",
    "args.B_sf = 1/period\n",
    "contrast = 0.7\n",
    "args.contrast = contrast\n",
    "args.offset_std = 30\n",
    "\n",
    "'''args.bn1_bn_momentum = 0\n",
    "args.bn2_bn_momentum = 0\n",
    "args.p_dropout = 0.5\n",
    "args.lr = 1e-4\n",
    "args.dim1 = 1000\n",
    "args.dim2 = 1000\n",
    "args.epochs = 60\n",
    "args.verbose = True\n",
    "args.save_model = True'''\n"
   ]
  },
  {
   "cell_type": "code",
   "execution_count": null,
   "metadata": {},
   "outputs": [],
   "source": [
    "nb_saccades = 1\n",
    "linear = True\n",
    "if linear:\n",
    "    figname = '../paper/fig_result_robust_contrast_linear_{:.1f}_{}'.format(args.contrast, nb_saccades)\n",
    "else:\n",
    "    figname = '../paper/fig_result_robust_contrast_{:.1f}_{}'.format(args.contrast, nb_saccades)\n"
   ]
  },
  {
   "cell_type": "code",
   "execution_count": null,
   "metadata": {},
   "outputs": [],
   "source": [
    "figname"
   ]
  },
  {
   "cell_type": "code",
   "execution_count": null,
   "metadata": {},
   "outputs": [],
   "source": [
    "args"
   ]
  },
  {
   "cell_type": "code",
   "execution_count": null,
   "metadata": {},
   "outputs": [],
   "source": [
    "if False:\n",
    "    !rm ../data/2019-04-05_train.pt\n"
   ]
  },
  {
   "cell_type": "code",
   "execution_count": null,
   "metadata": {},
   "outputs": [],
   "source": [
    "args.epochs = 60"
   ]
  },
  {
   "cell_type": "code",
   "execution_count": null,
   "metadata": {},
   "outputs": [],
   "source": [
    "from what import What, WhatTrainer\n",
    "\n",
    "args.what_offset_max = 25\n",
    "args.what_offset_std = 15\n",
    "args.contrast = None\n",
    "\n",
    "what_suffix = \"robust_{}_{}_{}_{}_{}\".format(args.sf_0, args.B_sf, args.noise, args.contrast, args.what_offset_std)\n",
    "what_model_path = \"../data/MNIST_cnn_{}.pt\".format(what_suffix)\n",
    "what_model = torch.load(what_model_path)\n",
    "\n",
    "\n",
    "\n",
    "#what.trainer = WhatTrainer(args,\n",
    "#                           model=what.model)\n",
    "\n",
    "#data, target = next(iter(what.trainer.test_loader))\n",
    "\n"
   ]
  },
  {
   "cell_type": "code",
   "execution_count": null,
   "metadata": {},
   "outputs": [],
   "source": [
    "args.what_offset_std = 0\n",
    "what = What(args, model=what_model)\n",
    "acc = what.trainer.test()"
   ]
  },
  {
   "cell_type": "code",
   "execution_count": null,
   "metadata": {},
   "outputs": [],
   "source": [
    "i = 3\n",
    "data, target = next(iter(what.trainer.test_loader))\n",
    "plt.imshow(data[i,:,:].reshape((28,28)))\n",
    "plt.show()\n",
    "_ = plt.hist(data[i,:,:].detach().numpy().flatten(), 30)"
   ]
  },
  {
   "cell_type": "code",
   "execution_count": null,
   "metadata": {},
   "outputs": [],
   "source": []
  },
  {
   "cell_type": "code",
   "execution_count": null,
   "metadata": {},
   "outputs": [],
   "source": [
    "acc_map_path = \"../data/MNIST_accuracy_{}.npy\".format(what_suffix)\n",
    "#print(acc_map_path)\n",
    "acc_map = np.load(acc_map_path)  \n",
    "plt.imshow(acc_map)"
   ]
  },
  {
   "cell_type": "code",
   "execution_count": null,
   "metadata": {
    "scrolled": true
   },
   "outputs": [],
   "source": [
    "#args.train_batch_size = 20\n",
    "#args.test_batch_size = 20\n",
    "#retina = Retina(args)\n",
    "args.contrast = contrast\n",
    "\n",
    "\n",
    "#plt.show()\n",
    "#_ = plt.plot(acc_map)\n",
    "where = Where(args, what_model=what_model, acc_map=acc_map, robust=True) #, generate_data=False) #False, save = False)\n",
    "\n",
    "#filename_train = args.filename + '_train.pt'\n",
    "#filename_train = \"../data/2019-03-14_train4.pt\"\n",
    "#filename_train = \"../data/2019-03-29.pt\"\n",
    "#%ls -lh {filename_train}\n",
    "#%rm {filename_train}\n",
    "#%rm  ../data/debug_train.pt\n",
    "\n",
    "#where.train(filename_train)"
   ]
  },
  {
   "cell_type": "code",
   "execution_count": null,
   "metadata": {},
   "outputs": [],
   "source": [
    "plt.imshow(where.trainer.accuracy_map)"
   ]
  },
  {
   "cell_type": "code",
   "execution_count": null,
   "metadata": {},
   "outputs": [],
   "source": [
    "what_model"
   ]
  },
  {
   "cell_type": "code",
   "execution_count": null,
   "metadata": {},
   "outputs": [],
   "source": [
    "where.model"
   ]
  },
  {
   "cell_type": "code",
   "execution_count": null,
   "metadata": {},
   "outputs": [],
   "source": [
    "#test_loader = torch.load('/tmp/where_test_dataset__robust_0.1_0.1_1.0_0.7_30_40_6_24_10_2_1.41_128_100.pt')"
   ]
  },
  {
   "cell_type": "code",
   "execution_count": null,
   "metadata": {},
   "outputs": [],
   "source": [
    "retina_data, accuracy_colliculus = next(iter(where.loader_train))\n",
    "#retina_data, accuracy_colliculus = next(iter(train_loader))"
   ]
  },
  {
   "cell_type": "code",
   "execution_count": null,
   "metadata": {},
   "outputs": [],
   "source": [
    "#from where import Normalize\n",
    "#retina_data = Normalize()(retina_data.float())\n"
   ]
  },
  {
   "cell_type": "code",
   "execution_count": null,
   "metadata": {},
   "outputs": [],
   "source": [
    "i = 3\n",
    "data_i = retina_data[i,:].float()\n",
    "plt.plot(data_i.detach().numpy())\n",
    "x = where.model.bn1(data_i)\n",
    "plt.plot(x.detach().numpy())\n",
    "x = F.relu(x)\n",
    "plt.plot(x.detach().numpy())\n",
    "plt.show()\n",
    "x2 = where.model.bn2(x)\n",
    "plt.plot(data_i.detach().numpy())\n",
    "plt.plot(x2.detach().numpy())\n",
    "x2 = F.relu(x2)\n",
    "plt.plot(x2.detach().numpy())\n",
    "plt.show()\n",
    "x3 = where.model.bn3(x2)\n",
    "plt.plot(data_i.detach().numpy())\n",
    "plt.plot(x3.detach().numpy())\n",
    "#plt.plot(where.model.bn1(retina_data.float())[i,:].detach().numpy())"
   ]
  },
  {
   "cell_type": "code",
   "execution_count": null,
   "metadata": {},
   "outputs": [],
   "source": [
    "import torch\n",
    "\n",
    "output = torch.sigmoid(where.model(retina_data))\n",
    "output_test = where.pred_accuracy(retina_data)"
   ]
  },
  {
   "cell_type": "code",
   "execution_count": null,
   "metadata": {},
   "outputs": [],
   "source": [
    "plt.plot(retina_data[i,:].detach().numpy())"
   ]
  },
  {
   "cell_type": "code",
   "execution_count": null,
   "metadata": {
    "scrolled": true
   },
   "outputs": [],
   "source": [
    "plt.plot(output[i, :].detach().numpy())\n",
    "plt.plot(output_test[i, :])\n",
    "plt.plot(accuracy_colliculus[i, :].detach().numpy())"
   ]
  },
  {
   "cell_type": "code",
   "execution_count": null,
   "metadata": {},
   "outputs": [],
   "source": [
    "#retina_data_test, retina_fullfield_test, accuracy_colliculus_test, accuracy_colliculus_fullfield_test, labels_test, i_shift, j_shift = next(iter(test_loader))\n",
    "retina_data_test, retina_fullfield_test, accuracy_colliculus_test, accuracy_colliculus_fullfield_test, labels_test, i_shift, j_shift = next(iter(where.loader_test))\n",
    "#(retina_data_test, retina_fullfield_test), (accuracy_colliculus_test, accuracy_colliculus_fullfield_test, labels_test, i_shift, j_shift) = next(iter(where.loader_test))"
   ]
  },
  {
   "cell_type": "raw",
   "metadata": {},
   "source": [
    "from what import WhatTrainer\n",
    "data, label = next(iter(WhatTrainer(args).test_loader))"
   ]
  },
  {
   "cell_type": "code",
   "execution_count": null,
   "metadata": {},
   "outputs": [],
   "source": [
    "i = 0\n",
    "_ = plt.plot(retina_fullfield_test[i,:].detach().numpy())"
   ]
  },
  {
   "cell_type": "code",
   "execution_count": null,
   "metadata": {},
   "outputs": [],
   "source": [
    "#plt.plot(data[i,:].detach().numpy())"
   ]
  },
  {
   "cell_type": "code",
   "execution_count": null,
   "metadata": {},
   "outputs": [],
   "source": [
    "plt.imshow(retina_fullfield_test[i,:])\n",
    "plt.show()\n",
    "plt.imshow(accuracy_colliculus_fullfield_test[i,:])\n",
    "plt.show()\n",
    "h = plt.hist(retina_fullfield_test[i,:,:].detach().numpy().flatten(), 30)"
   ]
  },
  {
   "cell_type": "code",
   "execution_count": null,
   "metadata": {},
   "outputs": [],
   "source": [
    "output = torch.sigmoid(where.model(retina_data_test.float()))"
   ]
  },
  {
   "cell_type": "code",
   "execution_count": null,
   "metadata": {},
   "outputs": [],
   "source": [
    "fig = plt.figure(figsize = (8, 8))\n",
    "ax = fig.add_subplot(111, projection='polar')\n",
    "ax.pcolor(where.retina.theta_grid, where.retina.log_r_grid, accuracy_colliculus_test[i, :].detach().numpy().reshape((args.N_azimuth, args.N_eccentricity)), cmap=plt.plasma())\n",
    "ax.set_yticklabels([])\n",
    "ax.set_xticklabels([])\n",
    "ax.set_title(\"True\")"
   ]
  },
  {
   "cell_type": "code",
   "execution_count": null,
   "metadata": {},
   "outputs": [],
   "source": [
    "fig = plt.figure(figsize = (8, 8))\n",
    "ax = fig.add_subplot(111, projection='polar')\n",
    "ax.pcolor(where.retina.theta_grid, where.retina.log_r_grid, output[i, :].detach().numpy().reshape((args.N_azimuth, args.N_eccentricity)), cmap=plt.plasma())\n",
    "ax.set_yticklabels([])\n",
    "ax.set_xticklabels([])\n",
    "ax.set_title(\"predicted\")"
   ]
  },
  {
   "cell_type": "markdown",
   "metadata": {},
   "source": [
    "# Visualisation of some examples"
   ]
  },
  {
   "cell_type": "code",
   "execution_count": null,
   "metadata": {},
   "outputs": [],
   "source": [
    "i = 3\n",
    "plt.plot(retina_data[i,:].detach().numpy())"
   ]
  },
  {
   "cell_type": "code",
   "execution_count": null,
   "metadata": {},
   "outputs": [],
   "source": [
    "fig = plt.figure(figsize = (8, 8))\n",
    "ax = fig.add_subplot(111)\n",
    "ax = where.retina.show(ax, where.retina.retina_invert(retina_data[i,:].detach().numpy()))\n"
   ]
  },
  {
   "cell_type": "code",
   "execution_count": null,
   "metadata": {},
   "outputs": [],
   "source": [
    "fig = plt.figure(figsize = (8, 8))\n",
    "ax = fig.add_subplot(111, projection='polar')\n",
    "ax.pcolor(where.retina.theta_grid, where.retina.log_r_grid, accuracy_colliculus[i, :].numpy().reshape((args.N_azimuth, args.N_eccentricity)), cmap=plt.plasma())\n",
    "ax.set_yticklabels([])\n",
    "ax.set_xticklabels([])\n",
    "ax.set_title(\"True\")"
   ]
  },
  {
   "cell_type": "code",
   "execution_count": null,
   "metadata": {},
   "outputs": [],
   "source": [
    "retina_data"
   ]
  },
  {
   "cell_type": "code",
   "execution_count": null,
   "metadata": {},
   "outputs": [],
   "source": [
    "min(accuracy_colliculus[3,:])"
   ]
  },
  {
   "cell_type": "code",
   "execution_count": null,
   "metadata": {},
   "outputs": [],
   "source": [
    "print(accuracy_colliculus.shape)\n",
    "print(args.N_azimuth)\n",
    "print(args.N_eccentricity) \n",
    "\n",
    "print(where.args.N_azimuth)\n",
    "print(where.args.N_eccentricity) "
   ]
  },
  {
   "cell_type": "markdown",
   "metadata": {},
   "source": [
    "## knowing the target position"
   ]
  },
  {
   "cell_type": "code",
   "execution_count": null,
   "metadata": {},
   "outputs": [],
   "source": [
    "idx_start, idx_stop = 0, 20\n"
   ]
  },
  {
   "cell_type": "code",
   "execution_count": null,
   "metadata": {},
   "outputs": [],
   "source": [
    "#positions, data_fullfield, retina_data, accuracy_colliculus = where.minibatch(data[idx_start:idx_stop])\n",
    "#positions, data_fullfield, retina_data, accuracy_colliculus = where.minibatch(None) #data[idx_start:idx_stop])"
   ]
  },
  {
   "cell_type": "code",
   "execution_count": null,
   "metadata": {
    "scrolled": true
   },
   "outputs": [],
   "source": [
    "retina_data, data_fullfield, accuracy_colliculus, _, label, i_offset, j_offset = next(iter(where.loader_test))"
   ]
  },
  {
   "cell_type": "code",
   "execution_count": null,
   "metadata": {},
   "outputs": [],
   "source": [
    "plt.plot(retina_data[i,:].detach().numpy())\n",
    "np.std(retina_data[i,:].detach().numpy())"
   ]
  },
  {
   "cell_type": "code",
   "execution_count": null,
   "metadata": {},
   "outputs": [],
   "source": [
    "_"
   ]
  },
  {
   "cell_type": "code",
   "execution_count": null,
   "metadata": {},
   "outputs": [],
   "source": [
    "plt.plot(accuracy_colliculus[i,:].detach().numpy())"
   ]
  },
  {
   "cell_type": "code",
   "execution_count": null,
   "metadata": {},
   "outputs": [],
   "source": [
    "plt.imshow(data_fullfield[2,:])"
   ]
  },
  {
   "cell_type": "code",
   "execution_count": null,
   "metadata": {},
   "outputs": [],
   "source": [
    "_ = plt.plot(data_fullfield[2,:].detach().numpy())\n",
    "#data_fullfield *= 255"
   ]
  },
  {
   "cell_type": "code",
   "execution_count": null,
   "metadata": {},
   "outputs": [],
   "source": [
    "import numpy as np\n",
    "Delta=0\n",
    "\n",
    "#im = np.zeros((args.test_batch_size, args.w, args.w))\n",
    "im = np.zeros((idx_stop, where.args.w, where.args.w))\n",
    "for idx in range(idx_stop): #args.test_batch_size):\n",
    "    #im[idx, :, :] = where.extract(data_fullfield[idx, :, :], positions[idx]['i_offset'], positions[idx]['j_offset'])\n",
    "    im[idx, :, :] = where.extract(data_fullfield[idx+Delta, :, :], i_offset[idx+Delta], j_offset[idx+Delta])\n",
    "proba = where.classify_what(im).detach().numpy()\n",
    "pred = proba.argmax(axis=1)# get the index of the max log-probability\n",
    "#acc = proba[:, pred]\n",
    "\n",
    "print(pred)\n",
    "label_n = label[idx_start+Delta:idx_stop+Delta].detach().numpy()\n",
    "print(label_n)\n",
    "print(np.mean(np.equal(pred, label_n)))\n",
    "\n",
    "#.detach().numpy().mean() #(pred==label.numpy()).mean()\n",
    "#print('Accuracy max (knowing the position)=', acc_max)"
   ]
  },
  {
   "cell_type": "code",
   "execution_count": null,
   "metadata": {},
   "outputs": [],
   "source": [
    "i = 2\n",
    "plt.imshow(im[i,:,:])\n",
    "plt.show()\n",
    "_ = plt.hist(im[i,:,:].flatten(), 30)"
   ]
  },
  {
   "cell_type": "markdown",
   "metadata": {},
   "source": [
    "## Generate a noisy MNIST database"
   ]
  },
  {
   "cell_type": "code",
   "execution_count": null,
   "metadata": {
    "scrolled": true
   },
   "outputs": [],
   "source": [
    "import numpy as np\n",
    "import torch\n",
    "from torch.utils.data import TensorDataset, DataLoader\n",
    "from torch.autograd import Variable\n",
    "import os\n",
    "\n",
    "#im = np.zeros((args.test_batch_size, args.w, args.w))\n",
    "\n",
    "from display import get_data_loader\n",
    "filename_dataset = '../data/noisy-MNIST.pt'\n",
    "\n",
    "if not os.path.isfile(filename_dataset):\n",
    "    batch_size = 100\n",
    "    loader_full = get_data_loader(batch_size=batch_size, train=True, mean=where.args.mean, std=where.args.std, seed=where.args.seed+1)\n",
    "    im = np.zeros((where.args.train_batch_size, 1, where.args.w, where.args.w))\n",
    "    im_label = np.zeros(where.args.train_batch_size, dtype = 'int')\n",
    "    for idx, (data, label) in enumerate (loader_full):\n",
    "        if idx % 10 == 0:\n",
    "            print(idx * 100)\n",
    "        if idx == 500:\n",
    "            break\n",
    "        for j in range(batch_size):\n",
    "            data_fullfield_, i_offset, j_offset = where.display.draw(data[j, 0, :, :].numpy())\n",
    "            extracted = where.extract(data_fullfield_, i_offset, j_offset)\n",
    "            im[idx * batch_size + j, 0, :, :] = extracted.reshape(1, 28, 28)\n",
    "            im_label[idx * batch_size + j] = label[j]\n",
    "    im = Variable(torch.FloatTensor(im)).to(where.device)\n",
    "    im_label = Variable(torch.LongTensor(im_label)).to(where.device)\n",
    "    loader_train = DataLoader(TensorDataset(im, im_label), batch_size=100)\n",
    "    torch.save(loader_train, filename_dataset)\n",
    "#.detach().numpy().mean() #(pred==label.numpy()).mean()\n",
    "#print('Accuracy max (knowing the position)=', acc_max)"
   ]
  },
  {
   "cell_type": "code",
   "execution_count": null,
   "metadata": {},
   "outputs": [],
   "source": [
    "if False:\n",
    "    check_loader = torch.load(filename_dataset)\n",
    "    im, label = next(iter(check_loader))\n",
    "    im.shape\n",
    "    i = 4\n",
    "    plt.imshow(im[i,0,:,:])\n",
    "    plt.title(label[i].detach().numpy())"
   ]
  },
  {
   "cell_type": "code",
   "execution_count": null,
   "metadata": {},
   "outputs": [],
   "source": [
    "idx = 1\n",
    "plt.imshow(data_fullfield[idx,:,:])\n",
    "print(i_offset[idx], j_offset[idx], label[idx])\n",
    "plt.show()\n",
    "#f = plt.plot(Normalize()(data_fullfield[idx,:,:]).detach().numpy())\n",
    "f = plt.plot(data_fullfield[idx,:,:].detach().numpy())"
   ]
  },
  {
   "cell_type": "code",
   "execution_count": null,
   "metadata": {},
   "outputs": [],
   "source": [
    "idx_start, idx_stop = 0, 20\n",
    "\n",
    "#from main_orig import init\n",
    "#args = init()\n",
    "#args.N_azimuth * args.N_eccentricity"
   ]
  },
  {
   "cell_type": "code",
   "execution_count": null,
   "metadata": {},
   "outputs": [],
   "source": [
    "for idx in range(idx_start, idx_stop):\n",
    "    fig = plt.figure(figsize = (15, 8))\n",
    "    \n",
    "    ax = fig.add_subplot(141)\n",
    "    ax = where.display.show(ax, data_fullfield[idx, :, :])\n",
    "    #ax.set_title(f\"i={positions[idx]['i_offset']}, j={positions[idx]['j_offset']}\")\n",
    "    ax.set_title(f\"i={i_offset[idx]}, j={j_offset[idx]}\")\n",
    "    \n",
    "    ax = fig.add_subplot(142)\n",
    "    data_retina = where.retina.retina(data_fullfield[idx, :, :])\n",
    "    ax = where.retina.show(ax, where.retina.retina_invert(data_retina))\n",
    "    ax.set_title(f\"idx={idx}\")\n",
    "              \n",
    "    ax = fig.add_subplot(143, projection='polar')\n",
    "    ax.pcolor(where.retina.theta_grid, where.retina.log_r_grid, accuracy_colliculus[idx, :].numpy().reshape((args.N_azimuth, args.N_eccentricity)), cmap=plt.plasma())\n",
    "    ax.set_yticklabels([])\n",
    "    ax.set_xticklabels([])\n",
    "    ax.set_title(\"True\")\n",
    "\n",
    "    ax = fig.add_subplot(144)\n",
    "    ax = where.display.show(ax, im[idx, :, :], do_cross=False)\n",
    "    result = '' if pred[idx]==label[idx].numpy() else 'FALSE'\n",
    "    ax.set_title(f\"pred={pred[idx]} acc={proba[idx,pred[idx]]:.2f} {result}\")\n",
    "                 "
   ]
  },
  {
   "cell_type": "markdown",
   "metadata": {},
   "source": [
    "## predicting the position of the target"
   ]
  },
  {
   "cell_type": "code",
   "execution_count": null,
   "metadata": {},
   "outputs": [],
   "source": [
    "pred_accuracy_colliculus = where.pred_accuracy(retina_data)\n",
    "print('pred_accuracy_colliculus.shape=', pred_accuracy_colliculus.shape)"
   ]
  },
  {
   "cell_type": "code",
   "execution_count": null,
   "metadata": {},
   "outputs": [],
   "source": [
    "plt.plot(pred_accuracy_colliculus[2,:])"
   ]
  },
  {
   "cell_type": "code",
   "execution_count": null,
   "metadata": {},
   "outputs": [],
   "source": [
    "im_colliculus = where.retina.accuracy_invert(pred_accuracy_colliculus[0,:])\n",
    "im_colliculus.shape"
   ]
  },
  {
   "cell_type": "code",
   "execution_count": null,
   "metadata": {},
   "outputs": [],
   "source": [
    "data_retina"
   ]
  },
  {
   "cell_type": "raw",
   "metadata": {},
   "source": [
    "fig = plt.figure(figsize = (8, 8))\n",
    "ax = fig.add_subplot(111, projection='polar')\n",
    "for d in range(12):\n",
    "    data = data_retina[d::12] \n",
    "    ax.pcolor(where.retina.theta_grid, where.retina.log_r_grid, data.reshape((args.N_azimuth, args.N_eccentricity)), cmap=plt.gray(), alpha=.3)\n",
    "    ax.set_yticklabels([])\n",
    "    ax.set_xticklabels([])\n",
    "    ax.yaxis.grid(linewidth=5)\n",
    "    ax.xaxis.grid(linewidth=5)\n",
    "    figname = '../tmp/retina_log_input_{}'.format(d)\n",
    "    fig.savefig(figname + '.png', bbox_inches='tight', pad_inches=0.1, transparent=True)"
   ]
  },
  {
   "cell_type": "raw",
   "metadata": {},
   "source": [
    "idx = 18\n",
    "fig = plt.figure(figsize = (8, 8))\n",
    "ax = fig.add_subplot(111, projection='polar')\n",
    "data = -accuracy_colliculus[idx, :].numpy().reshape((args.N_azimuth, args.N_eccentricity))\n",
    "ax.pcolor(where.retina.theta_grid, where.retina.log_r_grid, data.reshape((args.N_azimuth, args.N_eccentricity)), cmap=plt.gray(), alpha = .7)\n",
    "ax.set_yticklabels([])\n",
    "ax.set_xticklabels([])\n",
    "ax.yaxis.grid(linewidth=1)\n",
    "ax.xaxis.grid(linewidth=1)\n",
    "figname = '../tmp/retina_coll_output'\n",
    "fig.savefig(figname + '.png', bbox_inches='tight', pad_inches=0.1, transparent=True)"
   ]
  },
  {
   "cell_type": "raw",
   "metadata": {},
   "source": [
    "fig = plt.figure(figsize = (8, 8))\n",
    "ax = fig.add_subplot(111)\n",
    "ax = where.display.show(ax, data_fullfield[idx, :, :])\n",
    "figname = '../tmp/retina_fullfield_{}'.format(idx)\n",
    "fig.savefig(figname + '.png', bbox_inches='tight', pad_inches=0.1, transparent=True)"
   ]
  },
  {
   "cell_type": "raw",
   "metadata": {},
   "source": [
    "fig = plt.figure(figsize = (8, 8))\n",
    "ax = fig.add_subplot(111)\n",
    "data_retina = where.retina.retina(data_fullfield[idx, :, :])\n",
    "ax = where.retina.show(ax, where.retina.retina_invert(data_retina))\n",
    "figname = '../tmp/retina_invert_fullfield_{}'.format(idx)\n",
    "fig.savefig(figname + '.png', bbox_inches='tight', pad_inches=0.1, transparent=True)"
   ]
  },
  {
   "cell_type": "raw",
   "metadata": {},
   "source": [
    "fig = plt.figure(figsize = (8, 8))\n",
    "ax = fig.add_subplot(111)\n",
    "ax = where.retina.show(ax, where.retina.accuracy_invert(accuracy_colliculus[idx,:].detach().numpy()))\n",
    "figname = '../tmp/coll_fullfield_{}'.format(idx)\n",
    "fig.savefig(figname + '.png', bbox_inches='tight', pad_inches=0.1, transparent=True)"
   ]
  },
  {
   "cell_type": "code",
   "execution_count": null,
   "metadata": {},
   "outputs": [],
   "source": [
    "for idx in range(idx_start, idx_stop):\n",
    "    fig = plt.figure(figsize = (15, 8))\n",
    "\n",
    "    ax = fig.add_subplot(131, projection='polar')\n",
    "    ax.pcolor(where.retina.theta_grid, where.retina.log_r_grid, pred_accuracy_colliculus[idx, :].reshape((args.N_azimuth, args.N_eccentricity)), cmap=plt.plasma())\n",
    "    ax.set_title(\"Predicted\")\n",
    "    ax.set_yticklabels([])\n",
    "    ax.set_xticklabels([])\n",
    "              \n",
    "    x = where.retina.accuracy_invert(pred_accuracy_colliculus[idx, :])\n",
    "    ax = fig.add_subplot(132)\n",
    "    ax.imshow(x, vmin=0, cmap=plt.plasma())\n",
    "    ax.set_title(\"Pred visual space\")\n",
    "    \n",
    "    i_pred, j_pred = where.index_prediction(pred_accuracy_colliculus[idx, :], do_shortcut=True)\n",
    "    \n",
    "    ax = fig.add_subplot(133)\n",
    "    ax = where.display.show(ax, data_fullfield[idx, :, :])\n",
    "    #ax.set_title(f\"i={positions[idx]['i_offset']}/{i_pred}, j={positions[idx]['j_offset']}/{j_pred}\")\n",
    "    ax.set_title(f\"i={i_offset[idx]}/{i_pred}, j={j_offset[idx]}/{j_pred}\")\n",
    "    #ax.plot([positions[idx]['j_offset']+args.N_pic//2], [positions[idx]['i_offset']+args.N_pic//2], '+', c='r', ms=26, markeredgewidth=2, alpha=.5)\n",
    "    ax.plot([j_offset[idx]+args.N_pic//2], [i_offset[idx]+args.N_pic//2], '+', c='r', ms=26, markeredgewidth=2, alpha=.5)\n",
    "    ax.plot([j_pred+args.N_pic//2], [i_pred+args.N_pic//2], '+', c='b', ms=26, markeredgewidth=2, alpha=.5)\n",
    "    \n",
    "    "
   ]
  },
  {
   "cell_type": "markdown",
   "metadata": {},
   "source": [
    "## doing a saccade at the predicted the position of the target"
   ]
  },
  {
   "cell_type": "code",
   "execution_count": null,
   "metadata": {},
   "outputs": [],
   "source": [
    "print(data_fullfield.shape, retina_data.shape, label.shape)"
   ]
  },
  {
   "cell_type": "code",
   "execution_count": null,
   "metadata": {},
   "outputs": [],
   "source": [
    "accuracy = where.test_what(data_fullfield, pred_accuracy_colliculus, label)\n",
    "#print('mean accuracy =', accuracy.mean())\n",
    "accuracy"
   ]
  },
  {
   "cell_type": "code",
   "execution_count": null,
   "metadata": {},
   "outputs": [],
   "source": [
    "where.what_class(data_fullfield, pred_accuracy_colliculus)"
   ]
  },
  {
   "cell_type": "code",
   "execution_count": null,
   "metadata": {},
   "outputs": [],
   "source": [
    "from display import minmax\n",
    "pred_accuracy_colliculus = where.pred_accuracy(retina_data)\n",
    "pred = where.what_class(data_fullfield, pred_accuracy_colliculus)\n",
    "for idx in range(idx_start, idx_stop):\n",
    "    fig = plt.figure(figsize = (15, 8))\n",
    "    \n",
    "    ax = fig.add_subplot(151)\n",
    "    ax = where.display.show(ax, data_fullfield[idx, :, :])\n",
    "    #ax.set_title(f\"i={positions[idx]['i_offset']}, j={positions[idx]['j_offset']}\")\n",
    "    ax.set_title(f\"i={i_offset[idx]}, j={j_offset[idx]}\")\n",
    "    \n",
    "    ax = fig.add_subplot(152)\n",
    "    data_retina = where.retina.retina(data_fullfield[idx, :, :])\n",
    "    ax = where.retina.show(ax, where.retina.retina_invert(data_retina))\n",
    "    ax.set_title(f\"idx={idx}\")\n",
    "              \n",
    "    ax = fig.add_subplot(153, projection='polar')\n",
    "    ax.pcolor(where.retina.theta_grid, where.retina.log_r_grid, accuracy_colliculus[idx, :].numpy().reshape((args.N_azimuth, args.N_eccentricity)), cmap=plt.plasma())\n",
    "    ax.set_yticklabels([])\n",
    "    ax.set_xticklabels([])\n",
    "    ax.set_title(\"True\")\n",
    "\n",
    "    ax = fig.add_subplot(154, projection='polar')\n",
    "    ax.pcolor(where.retina.theta_grid, where.retina.log_r_grid, pred_accuracy_colliculus[idx, :].reshape((args.N_azimuth, args.N_eccentricity)), cmap=plt.plasma())\n",
    "    ax.set_yticklabels([])\n",
    "    ax.set_xticklabels([])\n",
    "    ax.set_title(\"Predicted\")\n",
    "\n",
    "    #i_pred, j_pred = where.index_prediction(pred_accuracy_colliculus[idx, :])\n",
    "    i_pred, j_pred = where.index_prediction(pred_accuracy_colliculus[idx, :], do_shortcut=True)\n",
    "    ax = fig.add_subplot(155)                 \n",
    "    ax = where.display.show(ax, where.extract(data_fullfield[idx, :, :], i_pred, j_pred), do_cross=False)\n",
    "    result = '' if pred[idx]==label[idx].numpy() else 'FALSE'\n",
    "    ax.set_title(f\"pred={pred[idx]} acc={proba[idx,pred[idx]]:.2f} {result}\")\n",
    "                 "
   ]
  },
  {
   "cell_type": "markdown",
   "metadata": {},
   "source": [
    "testing on the test set:"
   ]
  },
  {
   "cell_type": "markdown",
   "metadata": {},
   "source": [
    "# accuracy as a function of eccentricity\n"
   ]
  },
  {
   "cell_type": "code",
   "execution_count": null,
   "metadata": {},
   "outputs": [],
   "source": [
    "ecc_max=.8\n",
    "N_eccentricities = args.N_eccentricity - 1\n",
    "#eccentricities = args.N_pic / 2 * ecc_max * (1/args.rho)**(args.N_eccentricity - np.arange(N_eccentricities))\n",
    "eccentricities = np.linspace(where.args.offset_max, 0, N_eccentricities, endpoint=False)"
   ]
  },
  {
   "cell_type": "code",
   "execution_count": null,
   "metadata": {},
   "outputs": [],
   "source": [
    "eccentricities"
   ]
  },
  {
   "cell_type": "code",
   "execution_count": null,
   "metadata": {},
   "outputs": [],
   "source": [
    "def test_eccentricities(N_eccentricities=9, ecc_max=.8, do_control=False, linear=False):\n",
    "    import torch\n",
    "    from torchvision import datasets, transforms\n",
    "    from torch.utils.data import TensorDataset, DataLoader\n",
    "    from where import RetinaFill, CollFill, WhereShift, RetinaBackground, RetinaMask, FullfieldRetinaWhiten \n",
    "    from where import FullfieldRetinaTransform, FullfieldToFloatTensor, Normalize, MNIST\n",
    "    from where import FullfieldCollTransform\n",
    "    if linear:\n",
    "        eccentricities = np.linspace(where.args.offset_max, 0, N_eccentricities, endpoint=False)\n",
    "    else:\n",
    "        eccentricities = args.N_pic / 2 * ecc_max * (1/args.rho)**(args.N_eccentricity - np.arange(N_eccentricities))\n",
    "    #eccentricities = np.linspace(where.args.offset_max, 0, N_eccentricities, endpoint=False)\n",
    "    batch_size = 1000 #where.args.test_batch_size # data.shape[0]\n",
    "    #from retina import get_data_loader\n",
    "    #loader_test = get_data_loader(batch_size=1, train=False, \n",
    "    #                              mean=where.args.mean, std=where.args.std, seed=where.args.seed+10)\n",
    "        \n",
    "    accuracy_mean, accuracy_std = [], []\n",
    "    for eccentricity in eccentricities:\n",
    "        print(eccentricity)\n",
    "        fullfield_transform = transforms.Compose([\n",
    "            RetinaFill(N_pic=args.N_pic),\n",
    "            WhereShift(args, radius = eccentricity),\n",
    "            RetinaBackground(contrast=args.contrast,\n",
    "                             noise=args.noise,\n",
    "                             sf_0=args.sf_0,\n",
    "                             B_sf=args.B_sf),\n",
    "            RetinaMask(N_pic=args.N_pic),\n",
    "            FullfieldRetinaWhiten(N_pic=args.N_pic),\n",
    "            FullfieldRetinaTransform(where.retina.retina_transform_vector),\n",
    "            FullfieldToFloatTensor(),\n",
    "            #Normalize(fullfield=True)\n",
    "            # transforms.Normalize((args.mean,), (args.std,))\n",
    "        ])\n",
    "        fullfield_target_transform=transforms.Compose([\n",
    "                               CollFill(where.accuracy_map, keep_label = True, N_pic=args.N_pic, baseline=0.1),\n",
    "                               WhereShift(args, baseline = 0.1, keep_label = True),\n",
    "                               FullfieldCollTransform(where.retina.colliculus_transform_vector, keep_label = True),\n",
    "                               FullfieldToFloatTensor(keep_label = True)\n",
    "                           ])\n",
    "        dataset = MNIST('../data',\n",
    "                        train=False,\n",
    "                        download=True,\n",
    "                        transform=fullfield_transform,\n",
    "                        target_transform=fullfield_target_transform,\n",
    "                        )\n",
    "        data_loader = DataLoader(dataset,\n",
    "                                 batch_size=batch_size,\n",
    "                                 shuffle=True)\n",
    "\n",
    "        '''retina_data = np.zeros((batch_size, where.retina.vsize))\n",
    "        labels = np.zeros((batch_size))\n",
    "        data_fullfield = np.zeros((batch_size, where.args.N_pic, where.args.N_pic))        \n",
    "        accuracy_colliculus = np.zeros((batch_size, where.args.N_azimuth * where.args.N_eccentricity))\n",
    "\n",
    "        for i in range(batch_size):\n",
    "            data, label = next(iter(loader_test))\n",
    "            data_fullfield[i, :, :], i_offset, j_offset = where.display.draw(data[0, 0, :, :].numpy(), \n",
    "                                                                   radius=eccentricity)\n",
    "            positions.append(dict(i_offset=i_offset, j_offset=j_offset))\n",
    "            retina_data[i, :]  =  where.retina.retina(data_fullfield[i, :, :])\n",
    "            labels[i] = label\n",
    "        labels =  Variable(torch.FloatTensor(labels))\n",
    "        retina_data =  Variable(torch.FloatTensor(retina_data))\n",
    "        pred_accuracy_colliculus = where.pred_accuracy(retina_data)'''\n",
    "        \n",
    "        if nb_saccades >1 and not do_control:\n",
    "            print('ok')\n",
    "            accuracy = where.multi_test(nb_saccades, dataloader=data_loader, batch_size=batch_size)\n",
    "            accuracy_mean.append(accuracy)\n",
    "        else:\n",
    "            data, acc = next(iter(data_loader))\n",
    "            retina_data = data[0]\n",
    "            data_fullfield = data[1]\n",
    "            labels = acc[2]\n",
    "            pred_accuracy_colliculus = where.pred_accuracy(retina_data)\n",
    "            accuracy_ = where.test_what(data_fullfield, pred_accuracy_colliculus, labels.squeeze(), do_control=do_control)\n",
    "            accuracy_mean.append(accuracy_.mean())\n",
    "            accuracy_std.append(accuracy_.std()) # TODO fit with beta distribution'''\n",
    "        \n",
    "        \n",
    "    return eccentricities, np.array(accuracy_mean), np.array(accuracy_std)"
   ]
  },
  {
   "cell_type": "code",
   "execution_count": null,
   "metadata": {
    "scrolled": true
   },
   "outputs": [],
   "source": [
    "from where import where_suffix\n",
    "import os\n",
    "\n",
    "linear = False\n",
    "nb_saccades_max = 5\n",
    "\n",
    "suffix = where_suffix(args, robust=True)\n",
    "if linear:\n",
    "    file_path = '../data/eccentricity_accuracy_linear_{}_{}.npy'.format(suffix, nb_saccades_max)\n",
    "else:\n",
    "    file_path = '../data/eccentricity_accuracy_{}_{}.npy'.format(suffix, nb_saccades_max)\n",
    "if True : #os.path.isfile(file_path):\n",
    "    accuracy_mean = {}\n",
    "    accuracy_std = {}\n",
    "    eccentricities, ctl_accuracy_mean, ctl_accuracy_std = test_eccentricities(N_eccentricities, linear=linear, do_control=True)\n",
    "    print(0, 'eccentricities=', eccentricities, ', ctl_accuracy_data=', ctl_accuracy_mean, ' +/- ', ctl_accuracy_std)\n",
    "    accuracy_mean[0] = ctl_accuracy_mean\n",
    "    accuracy_std[0] = ctl_accuracy_std\n",
    "    for nb_saccades in range(1,nb_saccades_max + 1):\n",
    "        eccentricities, sac_accuracy_mean, sac_accuracy_std = test_eccentricities(N_eccentricities, linear=linear)\n",
    "        print(nb_saccades, 'eccentricities=', eccentricities, ', accuracy_data=', sac_accuracy_mean, ' +/- ', sac_accuracy_std)\n",
    "        accuracy_mean[nb_saccades] = sac_accuracy_mean\n",
    "        accuracy_std[nb_saccades] = sac_accuracy_std\n",
    "        np.save(file_path,[eccentricities, accuracy_mean, accuracy_std])\n",
    "else:\n",
    "    data = np.load(file_path)\n",
    "    eccentricities = data[0]\n",
    "    accuracy_mean = data[1]\n",
    "    ctl_accuracy_mean = data[2]"
   ]
  },
  {
   "cell_type": "code",
   "execution_count": null,
   "metadata": {},
   "outputs": [],
   "source": [
    "from where import where_suffix\n",
    "suffix = where_suffix(args, robust=True)\n",
    "\n",
    "file_path_linear = '../data/eccentricity_accuracy_linear_{}_{}.npy'.format(suffix, nb_saccades_max)\n",
    "data = np.load(file_path_linear)\n",
    "eccentricities_linear = data[0]\n",
    "accuracy_mean_linear = data[1]\n",
    "\n",
    "file_path_log = '../data/eccentricity_accuracy_{}_{}.npy'.format(suffix, nb_saccades_max)\n",
    "data = np.load(file_path_log)\n",
    "eccentricities_log = data[0]\n",
    "accuracy_mean_log = data[1]\n"
   ]
  },
  {
   "cell_type": "code",
   "execution_count": null,
   "metadata": {},
   "outputs": [],
   "source": [
    "accuracy_mean"
   ]
  },
  {
   "cell_type": "raw",
   "metadata": {},
   "source": [
    "from where import WhereShift\n",
    "from display import minmax\n",
    "nb_saccades = 10\n",
    "# multi-saccades\n",
    "where.model.eval()\n",
    "#accuracy = []\n",
    "#for retina_data, data_fullfield, accuracy_colliculus, accuracy_fullfield, digit_labels, i_shift, j_shift in dataloader:\n",
    "#(retina_data, data_fullfield), (accuracy_colliculus, accuracy_fullfield, digit_labels, i_shift, j_shift) = next(iter(dataloader))\n",
    "retina_data, data_fullfield, accuracy_colliculus, accuracy_fullfield, digit_labels, i_shift, j_shift = next(iter(where.loader_test))\n",
    "#retina_data = Variable(torch.FloatTensor(retina_data.float())).to(self.device)\n",
    "pred_accuracy_colliculus = where.pred_accuracy(retina_data) # LogPolar\n",
    "# Central prediction\n",
    "accuracy_fullfield_center = CollFill(where.accuracy_map, N_pic=where.args.N_pic, baseline=0.1)((0, 0))\n",
    "accuracy_fullfield_center = np.array(accuracy_fullfield_center[0])\n",
    "pred_accuracy_center = CollTransform(where.retina.colliculus_transform_vector)(accuracy_fullfield_center)\n",
    "plt.imshow(accuracy_fullfield_center)\n",
    "plt.show()\n",
    "# use that predicted map to extract the foveal patch and classify the image\n",
    "if nb_saccades > 1:\n",
    "    for idx in range(where.args.minibatch_size):\n",
    "        i_ref, j_ref = 0, 0\n",
    "        fullfield_ref = data_fullfield[idx, :, :]\n",
    "        fullfield_shift = fullfield_ref\n",
    "        #accuracy_fullfield_post = accuracy_fullfield[idx, :, :] # target accuracy fullfield (HACK!!)\n",
    "        #accuracy_fullfield_shift = accuracy_fullfield_post\n",
    "        #coll_ref = accuracy_fullfield[idx, :, :]\n",
    "        num_max = nb_saccades\n",
    "        cpt_saccades = 0\n",
    "        for num_saccade in range(num_max):\n",
    "            if idx < 10:\n",
    "                plt.imshow(fullfield_shift)\n",
    "                plt.title(str(cpt_saccades))\n",
    "                plt.show()\n",
    "                print(num_saccade, i_ref, j_ref)  \n",
    "\n",
    "            # WHAT_POSTERIOR_TEST\n",
    "            im = where.extract(data_fullfield[idx, :, :], i_ref, j_ref).detach().numpy()\n",
    "            proba = where.classify_what(im).numpy()[0]\n",
    "            predicted_index = proba.argmax() #axis=1)\n",
    "            posterior_what = proba[predicted_index]\n",
    "\n",
    "            # ACTION SELECTION\n",
    "            if num_saccade == 0:\n",
    "                pred_accuracy_trans = pred_accuracy_colliculus[idx, :]\n",
    "            else:\n",
    "                pred_accuracy_trans = where.pred_accuracy(retina_shift)\n",
    "\n",
    "            i_pred, j_pred = where.index_prediction(pred_accuracy_trans)\n",
    "            i_ref += i_pred\n",
    "            j_ref += j_pred\n",
    "            i_ref = minmax(i_ref, args.N_pic//2 - args.w//2)\n",
    "            j_ref = minmax(j_ref, args.N_pic//2 - args.w//2)\n",
    "            print(i_ref, j_ref)\n",
    "\n",
    "            # WHERE_POSTERIOR_PREDICTION\n",
    "            mid = args.N_pic//2\n",
    "            im_colliculus = where.retina.accuracy_invert(pred_accuracy_trans)\n",
    "            #posterior_where = accuracy_fullfield_post[mid + i_ref, mid + j_ref].detach().numpy()\n",
    "            posterior_where = im_colliculus[mid + i_pred, mid + j_pred] #.detach().numpy()\n",
    "            print(idx, num_saccade, 'posterior_what', posterior_what, 'posterior_where', posterior_where)\n",
    "\n",
    "            # SWITCH TEST\n",
    "            if posterior_what > posterior_where and posterior_what > 0.9:\n",
    "                break\n",
    "\n",
    "            # SACCADE\n",
    "            fullfield_shift = WhereShift(args, i_offset=-i_ref, j_offset=-j_ref, baseline=0.5)((fullfield_ref, 0))\n",
    "            retina_shift = where.retina.retina(fullfield_shift)\n",
    "            accuracy_fullfield_shift = WhereShift(args, i_offset=-i_ref, j_offset=-j_ref, baseline=0.1)((accuracy_fullfield_post, 0))\n",
    "            cpt_saccades += 1\n",
    "\n",
    "            #coll_shift = WhereShift(self.args, i_offset=-i_ref, j_offset=-j_ref, baseline=0.1)((coll_ref, 0))                 \n",
    "\n",
    "        # \n",
    "        data_fullfield[idx, :, :] = Variable(torch.FloatTensor(fullfield_shift))\n",
    "        #accuracy_fullfield[idx, :, :] = coll_shift\n",
    "        pred_accuracy_colliculus[idx, :] = pred_accuracy_center # (LogPolar) central prediction \n",
    "        #pred_accuracy_trans\n",
    "        if idx < 10:\n",
    "            plt.imshow(fullfield_shift)\n",
    "            plt.title(cpt_saccades)\n",
    "            plt.show()\n",
    "            print(num_saccade, i_ref, j_ref)  \n",
    "\n",
    "\n",
    "correct = where.test_what(data_fullfield.numpy(), pred_accuracy_colliculus, digit_labels.squeeze(), do_control=True)\n",
    "print(correct)\n",
    "print(np.mean(correct))\n"
   ]
  },
  {
   "cell_type": "code",
   "execution_count": null,
   "metadata": {},
   "outputs": [],
   "source": [
    "def hist_plot(eccentricities, accuracy_mean, saccade_range, ax_D, colors, linear, title):\n",
    "    if not linear:\n",
    "        width = .3*np.abs(eccentricities)\n",
    "    else:\n",
    "        width = 4\n",
    "        #width = .8*np.abs(np.gradient(eccentricities)[0])\n",
    "    for num_saccade in saccade_range:\n",
    "        if num_saccade <2:\n",
    "            label = str(num_saccade)+' saccade'\n",
    "        else:\n",
    "            label = str(num_saccade)+' saccades'\n",
    "        ax_D.bar(eccentricities, accuracy_mean[num_saccade], width=width, alpha = .5, label = label, color=colors[num_saccade])#yerr=accuracy_std, \n",
    "    # TODO what instead? ax_D.bar(eccentricities, accuracy_data, alpha = .5, label = 'No saccade') #accuracy_map[27,27:55])\n",
    "    #ax_D.bar(eccentricities, ctl_accuracy_mean, width=width, color='orange', alpha = .7, label = 'No saccade')\n",
    "    \n",
    "    #ax_D.set_title('Class accuracy', fontsize = 14)\n",
    "    ax_D.plot([eccentricities.min()-2, eccentricities.max()+2], [0.1]*2, ':', c='k', label = 'Baseline')\n",
    "    ax_D.set_xlabel('Target eccentricity (pixels)', fontsize = 12)\n",
    "    if not linear:\n",
    "        ax_D.set_xscale('log')\n",
    "    ax_D.set_xticks(eccentricities)\n",
    "    ax_D.set_xticklabels(['%.1f' % d for  d in eccentricities])\n",
    "    ax_D.set_ylim([0,1])\n",
    "    if not linear:\n",
    "        ax_D.set_xlim([1.3,30])\n",
    "    if linear:\n",
    "        plt.legend(loc='best',  bbox_to_anchor=(1.3, 1))\n",
    "    ax_D.set_title(title)\n",
    "\n",
    "figwidth = 15\n",
    "colors = ('orange','blue','red','yellow','cyan','purple')\n",
    "for saccade_range in ([1, 0], [2, 1, 0], [3, 2, 1, 0]):\n",
    "    fig = plt.figure(figsize = (figwidth, 5)) #figwidth/1.618))\n",
    "\n",
    "    ax_D = fig.add_subplot(1, 2, 1)\n",
    "    linear = False\n",
    "    hist_plot(eccentricities_log, accuracy_mean_log, saccade_range, ax_D, colors, linear, 'Central (log scale)')\n",
    "\n",
    "    ax_D = fig.add_subplot(1, 2, 2)\n",
    "    linear = True\n",
    "    hist_plot(eccentricities_linear, accuracy_mean_linear, saccade_range, ax_D, colors, linear, 'Full range')\n",
    "    plt.show()\n",
    "\n"
   ]
  },
  {
   "cell_type": "code",
   "execution_count": null,
   "metadata": {},
   "outputs": [],
   "source": [
    "eccentricities_linear"
   ]
  },
  {
   "cell_type": "code",
   "execution_count": null,
   "metadata": {},
   "outputs": [],
   "source": [
    "figwidth = 15\n",
    "fig = plt.figure(figsize = (figwidth, figwidth/1.618))\n",
    "ax_D = fig.add_subplot(1, 1, 1)\n",
    "width = .8*np.abs(np.gradient(eccentricities)[0])\n",
    "colors = ('orange','blue','red','yellow','cyan','purple')\n",
    "for num_saccade in [2, 1, 0]:\n",
    "    if num_saccade <2:\n",
    "        label = str(num_saccade)+' saccade'\n",
    "    else:\n",
    "        label = str(num_saccade)+' saccades'\n",
    "    ax_D.bar(eccentricities, accuracy_mean[num_saccade], width=width, alpha = .5, label = label, color=colors[num_saccade])#yerr=accuracy_std, \n",
    "# TODO what instead? ax_D.bar(eccentricities, accuracy_data, alpha = .5, label = 'No saccade') #accuracy_map[27,27:55])\n",
    "#ax_D.bar(eccentricities, ctl_accuracy_mean, width=width, color='orange', alpha = .7, label = 'No saccade')\n",
    "ax_D.plot([eccentricities.min()-width/2, eccentricities.max()+width/2], [0.1]*2, ':', c='k', label = 'Baseline')\n",
    "plt.legend(loc='best')\n",
    "#ax_D.set_title('Class accuracy', fontsize = 14)\n",
    "ax_D.set_xlabel('Target eccentricity (pixels)', fontsize = 12)\n",
    "ax_D.set_xticks(eccentricities)\n",
    "ax_D.set_xticklabels(['%.1f' % d for  d in eccentricities])\n",
    "ax_D.set_ylim([0,1]);"
   ]
  },
  {
   "cell_type": "code",
   "execution_count": null,
   "metadata": {},
   "outputs": [],
   "source": [
    "figwidth = 15\n",
    "fig = plt.figure(figsize = (figwidth, figwidth/1.618))\n",
    "ax_D = fig.add_subplot(1, 1, 1)\n",
    "width = .8*np.abs(np.gradient(eccentricities)[0])\n",
    "colors = ('orange','blue','red','yellow','cyan','purple')\n",
    "for num_saccade in [3, 2, 1, 0]:\n",
    "    if num_saccade <2:\n",
    "        label = str(num_saccade)+' saccade'\n",
    "    else:\n",
    "        label = str(num_saccade)+' saccades'\n",
    "    ax_D.bar(eccentricities, accuracy_mean[num_saccade], width=width, alpha = .5, label = label, color=colors[num_saccade])#yerr=accuracy_std, \n",
    "# TODO what instead? ax_D.bar(eccentricities, accuracy_data, alpha = .5, label = 'No saccade') #accuracy_map[27,27:55])\n",
    "#ax_D.bar(eccentricities, ctl_accuracy_mean, width=width, color='orange', alpha = .7, label = 'No saccade')\n",
    "ax_D.plot([eccentricities.min()-width/2, eccentricities.max()+width/2], [0.1]*2, ':', c='k', label = 'Baseline')\n",
    "plt.legend(loc='best')\n",
    "#ax_D.set_title('Class accuracy', fontsize = 14)\n",
    "ax_D.set_xlabel('Target eccentricity (pixels)', fontsize = 12)\n",
    "ax_D.set_xticks(eccentricities)\n",
    "ax_D.set_xticklabels(['%.1f' % d for  d in eccentricities])\n",
    "ax_D.set_ylim([0,1]);"
   ]
  },
  {
   "cell_type": "code",
   "execution_count": null,
   "metadata": {},
   "outputs": [],
   "source": [
    "figwidth = 15\n",
    "fig = plt.figure(figsize = (figwidth, figwidth/1.618))\n",
    "ax_D = fig.add_subplot(1, 1, 1)\n",
    "width = .8*np.abs(np.gradient(eccentricities)[0])\n",
    "colors = ('orange','blue','red','yellow','cyan','purple')\n",
    "for num_saccade in [4, 3, 2, 1, 0]:\n",
    "    if num_saccade <2:\n",
    "        label = str(num_saccade)+' saccade'\n",
    "    else:\n",
    "        label = str(num_saccade)+' saccades'\n",
    "    ax_D.bar(eccentricities, accuracy_mean[num_saccade], width=width, alpha = .5, label = label, color=colors[num_saccade])#yerr=accuracy_std, \n",
    "# TODO what instead? ax_D.bar(eccentricities, accuracy_data, alpha = .5, label = 'No saccade') #accuracy_map[27,27:55])\n",
    "#ax_D.bar(eccentricities, ctl_accuracy_mean, width=width, color='orange', alpha = .7, label = 'No saccade')\n",
    "ax_D.plot([eccentricities.min()-width/2, eccentricities.max()+width/2], [0.1]*2, ':', c='k', label = 'Baseline')\n",
    "plt.legend(loc='best')\n",
    "#ax_D.set_title('Class accuracy', fontsize = 14)\n",
    "ax_D.set_xlabel('Target eccentricity (pixels)', fontsize = 12)\n",
    "ax_D.set_xticks(eccentricities)\n",
    "ax_D.set_xticklabels(['%.1f' % d for  d in eccentricities])\n",
    "ax_D.set_ylim([0,1]);"
   ]
  },
  {
   "cell_type": "markdown",
   "metadata": {},
   "source": [
    "# summary\n"
   ]
  },
  {
   "cell_type": "code",
   "execution_count": null,
   "metadata": {
    "scrolled": true
   },
   "outputs": [],
   "source": [
    "#ctl_accuracy_mean = accuracy_mean[0]\n",
    "from where import WhereShift\n",
    "idx = 13\n",
    "fullfield = data_fullfield[idx, :, :]\n",
    "\n",
    "fig = plt.figure(figsize = (figwidth, figwidth/2.5))#1.618))\n",
    "ax_A = plt.subplot(1, 4, 1) \n",
    "data_retina = where.retina.retina(fullfield)\n",
    "ax_A = where.retina.show(ax_A, where.retina.retina_invert(data_retina))\n",
    "    \n",
    "ax_B = plt.subplot(2, 4, 2, projection='polar', autoscale_on=False)\n",
    "ax_B.pcolor(where.retina.theta_grid, where.retina.log_r_grid, accuracy_colliculus[idx, :].numpy().reshape((args.N_azimuth, args.N_eccentricity)))\n",
    "ax_B.grid('off')\n",
    "plt.title('True', fontsize = 14)\n",
    "ax_B.set_yticklabels([])\n",
    "ax_B.set_xticklabels([])\n",
    "\n",
    "ax_Bb = plt.subplot(2, 4, 6, projection='polar')\n",
    "ax_Bb.pcolor(where.retina.theta_grid, where.retina.log_r_grid, pred_accuracy_colliculus[idx, :].reshape((args.N_azimuth, args.N_eccentricity)))\n",
    "ax_Bb.set_title('Predicted', fontsize = 14)\n",
    "ax_Bb.set_yticklabels([])\n",
    "ax_Bb.set_xticklabels([])\n",
    "\n",
    "ax_C = plt.subplot(1, 4, 3)\n",
    "#data_fullfield_ = where.display.place_object(data[idx, 0, :, :].numpy(), 0, 0)\n",
    "i_pred, j_pred = where.index_prediction(pred_accuracy_colliculus[idx, :])\n",
    "data_fullfield_ = WhereShift(args, i_offset=-i_pred, j_offset=-j_pred, baseline=0.5)((fullfield, 0)) \n",
    "input_vector  =  where.retina.retina(data_fullfield_)\n",
    "ax_C = where.retina.show(ax_C, where.retina.retina_invert(input_vector))\n",
    "#ax_A.arrow(64.5, 64.5, j_pred, i_pred, width=.3, color='r', head_width=4., length_includes_head=True, edgecolor='k')\n",
    "ax_C.arrow(args.N_pic//2+j_pred+14, args.N_pic//2+i_pred+14, -j_pred, -i_pred, width=.3, color='r', head_width=4., length_includes_head=True, edgecolor='k')\n",
    "ax_C.arrow(args.N_pic//2+j_pred+14, args.N_pic//2+i_pred-14, -j_pred, -i_pred, width=.3, color='r', head_width=4., length_includes_head=True, edgecolor='k')\n",
    "\n",
    "ax_D = plt.subplot(1, 4, 4)\n",
    "#width = .8*np.abs(np.gradient(eccentricities)[0])\n",
    "if not linear:\n",
    "    width = .3*np.abs(eccentricities)\n",
    "else:\n",
    "    width = 4\n",
    "ax_D.bar(eccentricities, accuracy_mean[1], width=width, color='blue', alpha = .5, label = 'One saccade')\n",
    "ax_D.bar(eccentricities, accuracy_mean[0], width=width, color='orange', alpha = .5, label = 'No saccade')\n",
    "width = .5\n",
    "ax_D.plot([eccentricities.min()-width/2, eccentricities.max()+width/2], [0.1]*2, ':', c='k', label = 'Baseline')\n",
    "#ax_D.plot([eccentricities.min()-width/2, eccentricities.max()+width/2], [acc_max]*2, ':', c='k', label = 'Max')\n",
    "\n",
    "plt.legend(loc='upper right')\n",
    "ax_D.set_xlabel('Target eccentricity (pixels)', fontsize = 12)\n",
    "ax_D.set_ylim([0,1])\n",
    "if not linear:\n",
    "    ax_D.set_xscale('log')\n",
    "ax_D.set_xticks(eccentricities)\n",
    "ax_D.set_xticklabels(['%.1f' % d for  d in eccentricities])\n",
    "if not linear:\n",
    "    ax_D.set_xlim([1.3,30])\n",
    "\n",
    "for ax, text in [[ax_A, 'DIS'], [ax_C, 'SAC']]:\n",
    "    ax.text(4, 15, text, fontsize=24,\n",
    "          bbox={'facecolor':'white','alpha':1,'edgecolor':'none','pad':1},\n",
    "          ha='left', va='center') \n",
    "\n",
    "offset = -.015\n",
    "for ax, text, x_offset, y_offset in [[ax_A, 'A', offset, 1.15], [ax_B, 'B', -.25, 1.225], [ax_C, 'C', offset, 1.15], [ax_D, 'D', offset, 1.15]]:\n",
    "    ax.text(x_offset, y_offset, '(' + text + ')', fontsize=24,\n",
    "              bbox={'facecolor':'white','alpha':1,'edgecolor':'none','pad':1},\n",
    "              ha='left', va='center', transform=ax.transAxes) \n",
    "\n",
    "# pos : [left, bottom, width, height] =    The new position of the in `.Figure` coordinates.    \n",
    "plt.tight_layout()\n",
    "ax_A.set_position([0.025, 0.1, .3, .45])\n",
    "ax_B.set_position( [0.24, 0.375, .2, 0.2])\n",
    "ax_Bb.set_position([0.24, 0.1, .2, 0.2])\n",
    "ax_C.set_position([0.35, .1, .3, .45])\n",
    "ax_D.set_position([0.65, .1, .3, .45])\n",
    "fig.savefig(figname + '.pdf', bbox_inches='tight', pad_inches=0.1)"
   ]
  },
  {
   "cell_type": "code",
   "execution_count": null,
   "metadata": {},
   "outputs": [],
   "source": [
    "_ = plt.plot(fullfield.detach().numpy())"
   ]
  },
  {
   "cell_type": "markdown",
   "metadata": {},
   "source": [
    "# post-processing"
   ]
  },
  {
   "cell_type": "code",
   "execution_count": null,
   "metadata": {
    "ExecuteTime": {
     "end_time": "2018-10-08T14:43:27.591507Z",
     "start_time": "2018-10-08T14:43:24.722160Z"
    }
   },
   "outputs": [],
   "source": [
    "!convert  -density {dpi_export} {figname}.pdf {figname}.jpg\n",
    "!convert  -density {dpi_export} {figname}.pdf {figname}.png\n",
    "#!convert  -density {dpi_export} -resize 5400  -units pixelsperinch -flatten  -compress lzw  -depth 8 {fname}.pdf {fname}.tiff"
   ]
  },
  {
   "cell_type": "code",
   "execution_count": null,
   "metadata": {
    "ExecuteTime": {
     "end_time": "2018-07-03T10:36:00.981927Z",
     "start_time": "2018-07-03T10:36:00.949864Z"
    }
   },
   "outputs": [],
   "source": [
    "from IPython.display import Image\n",
    "Image('{figname}.png'.format(figname=figname))"
   ]
  },
  {
   "cell_type": "code",
   "execution_count": null,
   "metadata": {
    "ExecuteTime": {
     "end_time": "2018-07-03T10:36:00.939193Z",
     "start_time": "2018-07-03T10:36:00.766218Z"
    }
   },
   "outputs": [],
   "source": [
    "!ls  -l {figname}*"
   ]
  },
  {
   "cell_type": "code",
   "execution_count": null,
   "metadata": {},
   "outputs": [],
   "source": []
  },
  {
   "cell_type": "code",
   "execution_count": null,
   "metadata": {},
   "outputs": [],
   "source": []
  },
  {
   "cell_type": "code",
   "execution_count": null,
   "metadata": {},
   "outputs": [],
   "source": []
  }
 ],
 "metadata": {
  "kernelspec": {
   "display_name": "Python 3",
   "language": "python",
   "name": "python3"
  },
  "language_info": {
   "codemirror_mode": {
    "name": "ipython",
    "version": 3
   },
   "file_extension": ".py",
   "mimetype": "text/x-python",
   "name": "python",
   "nbconvert_exporter": "python",
   "pygments_lexer": "ipython3",
   "version": "3.7.3"
  }
 },
 "nbformat": 4,
 "nbformat_minor": 4
}
