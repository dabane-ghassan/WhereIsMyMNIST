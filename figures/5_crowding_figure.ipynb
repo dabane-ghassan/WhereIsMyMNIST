{
 "cells": [
  {
   "cell_type": "markdown",
   "metadata": {},
   "source": [
    "This notebook introduces the problem addressed in this paper:\n",
    "\n",
    " - localizating an object in a large image\n",
    " - foveation\n",
    " - action (saccade)\n",
    " "
   ]
  },
  {
   "cell_type": "code",
   "execution_count": 1,
   "metadata": {
    "ExecuteTime": {
     "end_time": "2018-07-03T10:34:13.258190Z",
     "start_time": "2018-07-03T10:34:13.251661Z"
    }
   },
   "outputs": [],
   "source": [
    "figname = '../paper/fig_crowding'"
   ]
  },
  {
   "cell_type": "code",
   "execution_count": 2,
   "metadata": {},
   "outputs": [
    {
     "name": "stdout",
     "output_type": "stream",
     "text": [
      "\n",
      "This notebook introduces the problem addressed in this paper:\n",
      "\n",
      " - localizating an object in a large image\n",
      " - foveation\n",
      " - action (saccade)\n",
      "       \n",
      "      \n",
      "{'w': 28, 'minibatch_size': 100, 'train_batch_size': 50000, 'test_batch_size': 5000, 'noise_batch_size': 1000, 'mean': 0.1307, 'std': 0.3081, 'N_pic': 128, 'offset_std': 30, 'offset_max': 34, 'noise': 1.0, 'contrast': 1.0, 'sf_0': 0.2, 'B_sf': 0.3, 'N_theta': 6, 'N_azimuth': 26, 'N_eccentricity': 10, 'N_phase': 2, 'rho': 1.41, 'bias_deconv': True, 'p_dropout': 0.0, 'dim1': 500, 'dim2': 2000, 'lr': 0.001, 'do_adam': True, 'bn1_bn_momentum': 0.5, 'bn2_bn_momentum': 0.2, 'momentum': 0.1, 'epochs': 25, 'num_processes': 1, 'no_cuda': True, 'log_interval': 100, 'verbose': 1, 'filename': '../data/2019-03-27', 'seed': 2019, 'N_cv': 8, 'do_compute': True}\n",
      "Overwriting train.py\n",
      "2019-07-12T22:26:41+02:00\n",
      "\n",
      "CPython 3.7.3\n",
      "IPython 7.6.1\n",
      "\n",
      "numpy 1.16.4\n",
      "matplotlib 3.1.1\n",
      "torch 1.1.0\n",
      "\n",
      "compiler   : Clang 10.0.1 (clang-1001.0.46.3)\n",
      "system     : Darwin\n",
      "release    : 18.6.0\n",
      "machine    : x86_64\n",
      "processor  : i386\n",
      "CPU cores  : 4\n",
      "interpreter: 64bit\n",
      "host name  : ekla\n",
      "Git hash   : 01e22a0e24a50796a4ac83dc2d0ce2434d7305bc\n",
      "Git repo   : https://github.com/laurentperrinet/WhereIsMyMNIST\n",
      "Git branch : master\n"
     ]
    }
   ],
   "source": [
    "%run 0_parameters.ipynb"
   ]
  },
  {
   "cell_type": "markdown",
   "metadata": {},
   "source": [
    "# Training the WhatWhere network"
   ]
  },
  {
   "cell_type": "code",
   "execution_count": 3,
   "metadata": {},
   "outputs": [
    {
     "name": "stdout",
     "output_type": "stream",
     "text": [
      "-rw-r--r--  1 laurentperrinet  staff    12M Mar 13 22:14 ../data/2019-03-13_train.pt\n",
      "-rw-r--r--  1 laurentperrinet  staff    12M Mar 14 17:44 ../data/2019-03-14_b_train.pt\n",
      "-rw-r--r--  1 laurentperrinet  staff    12M Mar 14 06:17 ../data/2019-03-14_train.pt\n",
      "-rw-r--r--  1 laurentperrinet  staff    12M Mar 14 14:54 ../data/2019-03-14_train3.pt\n",
      "-rw-r--r--  1 laurentperrinet  staff    12M Mar 14 19:28 ../data/2019-03-14_train4.pt\n",
      "-rw-r--r--  1 laurentperrinet  staff    12M Mar 15 22:18 ../data/2019-03-15_train.pt\n",
      "-rw-r--r--  1 laurentperrinet  staff    12M Mar 15 15:31 ../data/2019-03-15_train_b.pt\n",
      "-rw-r--r--  1 laurentperrinet  staff   8.8M Mar 20 17:46 ../data/2019-03-16_train.pt\n",
      "-rw-r--r--  1 laurentperrinet  staff    12M Mar 19 00:19 ../data/2019-03-18_train.pt\n",
      "-rw-r--r--  1 laurentperrinet  staff    12M Mar 19 15:18 ../data/2019-03-19_bis_train.pt\n",
      "-rw-r--r--  1 laurentperrinet  staff    12M Mar 19 15:54 ../data/2019-03-19_train.pt\n",
      "-rw-r--r--  1 laurentperrinet  staff    12M Mar 27 16:30 ../data/2019-03-27_train.pt\n",
      "-rw-r--r--  1 laurentperrinet  staff    11M Mar 29 16:13 ../data/2019-03-29_train.pt\n",
      "-rw-r--r--  1 laurentperrinet  staff   5.7M Apr  8 23:09 ../data/2019-04-01_train.pt\n",
      "-rw-r--r--  1 laurentperrinet  staff   6.1M Apr  3 12:47 ../data/2019-04-03_train.pt\n",
      "-rw-r--r--  1 laurentperrinet  staff    16M Apr 25 17:17 ../data/2019-04-15_bis_train.pt\n",
      "-rw-r--r--  1 laurentperrinet  staff    16M Apr 15 14:28 ../data/2019-04-15_train.pt\n",
      "-rw-r--r--  1 laurentperrinet  staff    16M Apr 19 11:00 ../data/2019-04-16_train.pt\n",
      "-rw-r--r--  1 laurentperrinet  staff   1.7M Mar 14 12:31 ../data/MNIST_cnn.pt\n",
      "-rw-r--r--  1 laurentperrinet  staff   1.7M May  1 09:09 ../data/MNIST_cnn_0.05_0.1_0.75_0.7.pt\n",
      "-rw-r--r--  1 laurentperrinet  staff   1.7M May  1 12:31 ../data/MNIST_cnn_0.06299605249474366_0.1_0.75_0.7.pt\n",
      "-rw-r--r--  1 laurentperrinet  staff   1.7M Apr 17 22:59 ../data/MNIST_cnn_0.07071067811865475_0.1_0.75_0.7.pt\n",
      "-rw-r--r--  1 laurentperrinet  staff   1.7M Apr 18 13:22 ../data/MNIST_cnn_0.07937005259840997_0.1_0.75_0.7.pt\n",
      "-rw-r--r--  1 laurentperrinet  staff   1.7M Apr 18 15:27 ../data/MNIST_cnn_0.08908987181403394_0.1_0.75_0.7.pt\n",
      "-rw-r--r--  1 laurentperrinet  staff   1.7M Apr 18 21:44 ../data/MNIST_cnn_0.11224620483093731_0.1_0.75_0.7.pt\n",
      "-rw-r--r--  1 laurentperrinet  staff   1.7M Apr 19 02:31 ../data/MNIST_cnn_0.12599210498948732_0.1_0.75_0.7.pt\n",
      "-rw-r--r--  1 laurentperrinet  staff   1.7M Apr 19 03:59 ../data/MNIST_cnn_0.14142135623730953_0.1_0.75_0.7.pt\n",
      "-rw-r--r--  1 laurentperrinet  staff   1.7M May  1 14:31 ../data/MNIST_cnn_0.15874010519681994_0.1_0.75_0.7.pt\n",
      "-rw-r--r--  1 laurentperrinet  staff   1.7M May  1 21:43 ../data/MNIST_cnn_0.1_0.05_0.75_0.7.pt\n",
      "-rw-r--r--  1 laurentperrinet  staff   1.7M May  1 23:53 ../data/MNIST_cnn_0.1_0.06299605249474366_0.75_0.7.pt\n",
      "-rw-r--r--  1 laurentperrinet  staff   1.7M Apr 19 08:43 ../data/MNIST_cnn_0.1_0.07071067811865475_0.75_0.7.pt\n",
      "-rw-r--r--  1 laurentperrinet  staff   1.7M Apr 17 21:39 ../data/MNIST_cnn_0.1_0.07937005259840997_0.75_0.7.pt\n",
      "-rw-r--r--  1 laurentperrinet  staff   1.7M Apr 19 10:48 ../data/MNIST_cnn_0.1_0.08908987181403394_0.75_0.7.pt\n",
      "-rw-r--r--  1 laurentperrinet  staff   1.7M Apr 19 10:49 ../data/MNIST_cnn_0.1_0.11224620483093731_0.75_0.7.pt\n",
      "-rw-r--r--  1 laurentperrinet  staff   1.7M Apr 19 10:49 ../data/MNIST_cnn_0.1_0.12599210498948732_0.75_0.7.pt\n",
      "-rw-r--r--  1 laurentperrinet  staff   1.7M Apr 19 10:49 ../data/MNIST_cnn_0.1_0.14142135623730953_0.75_0.7.pt\n",
      "-rw-r--r--  1 laurentperrinet  staff   1.7M May  2 02:31 ../data/MNIST_cnn_0.1_0.15874010519681994_0.75_0.7.pt\n",
      "-rw-r--r--  1 laurentperrinet  staff   1.7M May  2 16:09 ../data/MNIST_cnn_0.1_0.1_0.375_0.7.pt\n",
      "-rw-r--r--  1 laurentperrinet  staff   1.7M May  2 23:24 ../data/MNIST_cnn_0.1_0.1_0.4724703937105774_0.7.pt\n",
      "-rw-r--r--  1 laurentperrinet  staff   1.7M Apr 20 04:19 ../data/MNIST_cnn_0.1_0.1_0.5303300858899106_0.7.pt\n",
      "-rw-r--r--  1 laurentperrinet  staff   1.7M Apr 20 04:19 ../data/MNIST_cnn_0.1_0.1_0.5952753944880748_0.7.pt\n",
      "-rw-r--r--  1 laurentperrinet  staff   1.7M Apr 20 09:33 ../data/MNIST_cnn_0.1_0.1_0.6681740386052545_0.7.pt\n",
      "-rw-r--r--  1 laurentperrinet  staff   1.7M May  3 06:03 ../data/MNIST_cnn_0.1_0.1_0.75_0.35.pt\n",
      "-rw-r--r--  1 laurentperrinet  staff   1.7M May  3 07:04 ../data/MNIST_cnn_0.1_0.1_0.75_0.44097236746320556.pt\n",
      "-rw-r--r--  1 laurentperrinet  staff   1.7M Apr 20 18:15 ../data/MNIST_cnn_0.1_0.1_0.75_0.4949747468305832.pt\n",
      "-rw-r--r--  1 laurentperrinet  staff   1.7M Apr 20 18:57 ../data/MNIST_cnn_0.1_0.1_0.75_0.5555903681888698.pt\n",
      "-rw-r--r--  1 laurentperrinet  staff   1.7M Apr 20 18:58 ../data/MNIST_cnn_0.1_0.1_0.75_0.6236291026982375.pt\n",
      "-rw-r--r--  1 laurentperrinet  staff   1.7M Apr 17 21:39 ../data/MNIST_cnn_0.1_0.1_0.75_0.7.pt\n",
      "-rw-r--r--  1 laurentperrinet  staff   1.7M Apr 21 05:18 ../data/MNIST_cnn_0.1_0.1_0.75_0.7857234338165611.pt\n",
      "-rw-r--r--  1 laurentperrinet  staff   1.7M Apr 21 08:11 ../data/MNIST_cnn_0.1_0.1_0.75_0.8819447349264111.pt\n",
      "-rw-r--r--  1 laurentperrinet  staff   1.7M Apr 21 09:04 ../data/MNIST_cnn_0.1_0.1_0.75_0.9899494936611666.pt\n",
      "-rw-r--r--  1 laurentperrinet  staff   1.7M May  3 09:58 ../data/MNIST_cnn_0.1_0.1_0.75_1.1111807363777395.pt\n",
      "-rw-r--r--  1 laurentperrinet  staff   1.7M May  3 11:21 ../data/MNIST_cnn_0.1_0.1_0.75_1.4.pt\n",
      "-rw-r--r--  1 laurentperrinet  staff   1.7M Apr 20 17:23 ../data/MNIST_cnn_0.1_0.1_0.8418465362320298_0.7.pt\n",
      "-rw-r--r--  1 laurentperrinet  staff   1.7M Apr 20 17:57 ../data/MNIST_cnn_0.1_0.1_0.9449407874211548_0.7.pt\n",
      "-rw-r--r--  1 laurentperrinet  staff   1.7M Apr 20 18:08 ../data/MNIST_cnn_0.1_0.1_1.0606601717798214_0.7.pt\n",
      "-rw-r--r--  1 laurentperrinet  staff   1.7M May  3 01:31 ../data/MNIST_cnn_0.1_0.1_1.1905507889761495_0.7.pt\n",
      "-rw-r--r--  1 laurentperrinet  staff   1.7M May  3 04:02 ../data/MNIST_cnn_0.1_0.1_1.5_0.7.pt\n",
      "-rw-r--r--  1 laurentperrinet  staff   1.7M May  2 02:30 ../data/MNIST_cnn_0.1_0.2_0.75_0.7.pt\n",
      "-rw-r--r--  1 laurentperrinet  staff   1.7M May  1 14:41 ../data/MNIST_cnn_0.2_0.1_0.75_0.7.pt\n",
      "-rw-r--r--  1 laurentperrinet  staff   1.7M Jul  4 14:43 ../data/MNIST_cnn_robust_what_0.1_0.1_1.0_0.1_5epoques_2019-06-20_14h05.pt\n",
      "-rw-r--r--  1 laurentperrinet  staff   1.7M Jul  4 14:43 ../data/MNIST_cnn_robust_what_0.1_0.1_1.0_0.2_5epoques_2019-06-20_13h58.pt\n",
      "-rw-r--r--  1 laurentperrinet  staff   1.7M Jul  4 14:43 ../data/MNIST_cnn_robust_what_0.1_0.1_1.0_0.3_5epoques_2019-06-20_13h52.pt\n",
      "-rw-r--r--  1 laurentperrinet  staff   1.7M Jul  4 14:43 ../data/MNIST_cnn_robust_what_0.1_0.1_1.0_0.4_5epoques_2019-06-20_13h46.pt\n",
      "-rw-r--r--  1 laurentperrinet  staff   1.7M Jul  4 14:43 ../data/MNIST_cnn_robust_what_0.1_0.1_1.0_0.5_5epoques_2019-06-20_13h40.pt\n",
      "-rw-r--r--  1 laurentperrinet  staff   1.7M Jul  4 14:43 ../data/MNIST_cnn_robust_what_0.1_0.1_1.0_0.6_5epoques_2019-06-20_13h34.pt\n",
      "-rw-r--r--  1 laurentperrinet  staff   1.7M Jul  4 14:43 ../data/MNIST_cnn_robust_what_0.1_0.1_1.0_0.7_1epoques_2019-06-14_14h32.pt\n",
      "-rw-r--r--  1 laurentperrinet  staff   1.7M Jul  4 14:43 ../data/MNIST_cnn_robust_what_0.1_0.1_1.0_0.7_5epoques_2019-06-14_15h00.pt\n",
      "-rw-r--r--  1 laurentperrinet  staff   1.7M Jul  4 14:43 ../data/MNIST_cnn_robust_what_0.1_0.1_1.0_0.7_5epoques_2019-06-17_16h55.pt\n",
      "-rw-r--r--  1 laurentperrinet  staff   1.7M Jul  4 14:43 ../data/MNIST_cnn_robust_what_0.1_0.1_1.0_0.7_5epoques_2019-06-19_11h50.pt\n",
      "-rw-r--r--  1 laurentperrinet  staff   1.7M Jul  4 14:43 ../data/MNIST_cnn_robust_what_0.1_0.1_1.0_0.7_5epoques_2019-06-20_13h27.pt\n",
      "-rw-r--r--  1 laurentperrinet  staff   1.7M Jul  4 14:43 ../data/MNIST_cnn_robust_what_0.1_0.1_1.0_0.7_60epoques_2019-06-17_10h20.pt\n",
      "-rw-r--r--  1 laurentperrinet  staff   1.7M Jul  4 14:43 ../data/MNIST_cnn_robust_what_0.1_0.1_1.0_0.7_60epoques_2019-06-17_16h54.pt\n",
      "-rw-r--r--  1 laurentperrinet  staff   1.7M Jul  4 14:43 ../data/MNIST_cnn_robust_what_0.1_0.1_1_0.7.pt\n",
      "-rw-r--r--  1 laurentperrinet  staff   1.7M Jul  4 14:43 ../data/MNIST_cnn_robust_what_0.1_0.1_1_0.7_60epoques.pt\n",
      "-rw-r--r--  1 laurentperrinet  staff   1.7M Jul  4 14:43 ../data/MNIST_cnn_robust_what_0.1_0.1_1_0.7_60epoques_2019-06-13_10h47.pt\n",
      "-rw-r--r--  1 laurentperrinet  staff   6.1M Apr  8 16:34 ../data/debug_train.pt\n",
      "-rw-r--r--  1 laurentperrinet  staff   150M Apr 15 13:22 ../data/noisy-MNIST.pt\n"
     ]
    }
   ],
   "source": [
    "%ls -lh ../data/*pt"
   ]
  },
  {
   "cell_type": "code",
   "execution_count": 4,
   "metadata": {},
   "outputs": [
    {
     "name": "stdout",
     "output_type": "stream",
     "text": [
      "-rw-r--r--  1 laurentperrinet  staff   800B Mar 14 15:57 ../data/2019-02-13-add-crowding-test-continued-result.npy\n",
      "-rw-r--r--  1 laurentperrinet  staff   880B Mar 14 15:57 ../data/2019-02-13-add-crowding-test-result.npy\n",
      "-rw-r--r--  1 laurentperrinet  staff    12M Mar  6 09:41 ../data/2019-02-15-anywhere-additive-noise-white-1000-Necc-10.npy\n",
      "-rw-r--r--  1 laurentperrinet  staff    12M Mar  6 19:18 ../data/2019-03-06_CNS.npy\n",
      "-rw-r--r--  1 laurentperrinet  staff    12M Mar  7 20:31 ../data/2019-03-07_CNS.npy\n",
      "-rw-r--r--  1 laurentperrinet  staff    12M Mar  8 16:16 ../data/2019-03-08_CNS.npy\n",
      "-rw-r--r--  1 laurentperrinet  staff    12M Mar  9 03:35 ../data/2019-03-11_CNS.npy\n",
      "-rw-r--r--  1 laurentperrinet  staff    16K Apr  3 12:05 ../data/2019-03-29-crowding-result.npy\n",
      "-rw-r--r--  1 laurentperrinet  staff    24K Jul  4 14:43 ../data/AccuracyMap_--MNIST_cnn_robust_what_0.1_0.1_1.0_0.7_5epoques_2019-06-19_11h50--_2019-06-19_12h23.npy\n",
      "-rw-r--r--  1 laurentperrinet  staff    24K Jul  4 14:43 ../data/AccuracyMap_MNIST_cnn_robust_what_0.1_0.1_1_0.7_60epoques_2019-06-12_16h11.npy\n",
      "-rw-r--r--  1 laurentperrinet  staff    24K Feb  6 12:44 ../data/MNIST_accuracy.npy\n",
      "-rw-r--r--  1 laurentperrinet  staff   125M Mar 19 14:48 ../data/MotionClouds_0.2_0.3.npy\n",
      "-rw-r--r--  1 laurentperrinet  staff   240M Mar 19 14:49 ../data/retina_inverse_transform.npy\n",
      "-rw-r--r--  1 laurentperrinet  staff   240M Mar 19 14:48 ../data/retina_transform.npy\n"
     ]
    }
   ],
   "source": [
    "%ls -lh ../data/*npy"
   ]
  },
  {
   "cell_type": "code",
   "execution_count": 5,
   "metadata": {},
   "outputs": [
    {
     "ename": "ModuleNotFoundError",
     "evalue": "No module named 'main_orig'",
     "output_type": "error",
     "traceback": [
      "\u001b[0;31m---------------------------------------------------------------------------\u001b[0m",
      "\u001b[0;31mModuleNotFoundError\u001b[0m                       Traceback (most recent call last)",
      "\u001b[0;32m<ipython-input-5-9c875b2d4cc4>\u001b[0m in \u001b[0;36m<module>\u001b[0;34m\u001b[0m\n\u001b[0;32m----> 1\u001b[0;31m \u001b[0;32mfrom\u001b[0m \u001b[0mmain_orig\u001b[0m \u001b[0;32mimport\u001b[0m \u001b[0minit\u001b[0m\u001b[0;34m\u001b[0m\u001b[0;34m\u001b[0m\u001b[0m\n\u001b[0m\u001b[1;32m      2\u001b[0m \u001b[0;31m#args = init(filename='debug')\u001b[0m\u001b[0;34m\u001b[0m\u001b[0;34m\u001b[0m\u001b[0;34m\u001b[0m\u001b[0m\n\u001b[1;32m      3\u001b[0m \u001b[0margs\u001b[0m \u001b[0;34m=\u001b[0m \u001b[0minit\u001b[0m\u001b[0;34m(\u001b[0m\u001b[0mfilename\u001b[0m\u001b[0;34m=\u001b[0m\u001b[0;34m'../data/2019-03-28'\u001b[0m\u001b[0;34m)\u001b[0m\u001b[0;34m\u001b[0m\u001b[0;34m\u001b[0m\u001b[0m\n\u001b[1;32m      4\u001b[0m \u001b[0;32mfrom\u001b[0m \u001b[0mwhatWhere\u001b[0m \u001b[0;32mimport\u001b[0m \u001b[0mWhatWhere\u001b[0m\u001b[0;34m\u001b[0m\u001b[0;34m\u001b[0m\u001b[0m\n\u001b[1;32m      5\u001b[0m \u001b[0mwhatWhere\u001b[0m \u001b[0;34m=\u001b[0m \u001b[0mWhatWhere\u001b[0m\u001b[0;34m(\u001b[0m\u001b[0margs\u001b[0m\u001b[0;34m,\u001b[0m \u001b[0msave\u001b[0m \u001b[0;34m=\u001b[0m \u001b[0;32mTrue\u001b[0m\u001b[0;34m)\u001b[0m\u001b[0;34m\u001b[0m\u001b[0;34m\u001b[0m\u001b[0m\n",
      "\u001b[0;31mModuleNotFoundError\u001b[0m: No module named 'main_orig'"
     ]
    }
   ],
   "source": [
    "from main_orig import init\n",
    "#args = init(filename='debug')\n",
    "args = init(filename='../data/2019-03-28')\n",
    "from whatWhere import WhatWhere\n",
    "whatWhere = WhatWhere(args, save = True)\n",
    "print('starting training...')\n",
    "filename_train = args.filename + '_train.pt'\n",
    "#filename_train = \"../data/2019-03-14_train4.pt\"\n",
    "#filename_train = \"../data/2019-03-15_train_b.pt\"\n",
    "%ls -lh {filename_train}\n",
    "#%rm {filename_train}\n",
    "#%rm  ../data/debug_train.pt\n",
    "\n",
    "whatWhere.train(filename_train)"
   ]
  },
  {
   "cell_type": "code",
   "execution_count": null,
   "metadata": {},
   "outputs": [],
   "source": [
    "data_d, label_d = next(iter(whatWhere.display.loader_test))\n",
    "N_plot = 5\n",
    "fig, axs = plt.subplots(1, N_plot, figsize = (21, 5))\n",
    "for i_ax, ax in enumerate(axs):\n",
    "    ax.imshow(data_d[i_ax+5, 0, :, :], cmap=plt.gray())\n",
    "    ax.set_xticks([])\n",
    "    ax.set_yticks([])"
   ]
  },
  {
   "cell_type": "code",
   "execution_count": null,
   "metadata": {},
   "outputs": [],
   "source": [
    "N_plot = 3\n",
    "fig, axs = plt.subplots(1, N_plot, figsize = (21, 8))\n",
    "for i_ax, ax in enumerate(axs):\n",
    "    data_fullfield, i_offset, j_offset = whatWhere.display.draw(data_d[i_ax, 0, :, :].numpy())\n",
    "    ax = whatWhere.display.show(ax, data_fullfield)\n"
   ]
  },
  {
   "cell_type": "code",
   "execution_count": null,
   "metadata": {},
   "outputs": [],
   "source": [
    "from main_orig import init\n",
    "#args = init(filename='debug')\n",
    "args = init(filename='../data/2019-03-28')\n",
    "data, label = next(iter(whatWhere.loader_train)) \n",
    "print(data.shape)\n",
    "print(label.shape)\n",
    "pred = whatWhere.model.forward(data).argmax(dim=1, keepdim=True)\n",
    "print(pred.eq(label.view_as(pred)).sum())\n",
    "print(whatWhere.pred_accuracy(data, label)) #/whatWhere.args.minibatch_size)\n"
   ]
  },
  {
   "cell_type": "code",
   "execution_count": null,
   "metadata": {},
   "outputs": [],
   "source": [
    "data, label = next(iter(whatWhere.loader_test)) \n",
    "print(data.shape)\n",
    "print(label.shape)\n",
    "pred = whatWhere.model.forward(data).argmax(dim=1, keepdim=True)\n",
    "print(pred.eq(label.view_as(pred)).sum())\n",
    "print(whatWhere.pred_accuracy(data, label))\n"
   ]
  },
  {
   "cell_type": "code",
   "execution_count": null,
   "metadata": {
    "scrolled": true
   },
   "outputs": [],
   "source": [
    "N_plot = 8\n",
    "fig, axs = plt.subplots(1, 4, figsize = (21, 8))\n",
    "for i_ax, ax in enumerate(axs):\n",
    "    num = i_ax+20\n",
    "    data_fullfield = whatWhere.retina.retina_invert(data[num,:].numpy())\n",
    "    ax = whatWhere.retina.show(ax, data_fullfield)\n",
    "    print(ax)\n",
    "    print(label[num].numpy()) #ax.title(label[i_ax].numpy())\n",
    "    print(pred[num]) #ax.title(label[i_ax].numpy())"
   ]
  },
  {
   "cell_type": "raw",
   "metadata": {
    "ExecuteTime": {
     "end_time": "2018-07-03T10:36:00.939193Z",
     "start_time": "2018-07-03T10:36:00.766218Z"
    }
   },
   "source": [
    "FIC_NAME = '../data/2019-03-29-crowding-test'\n",
    "result = {}\n",
    "\n",
    "for period in range(1,21):\n",
    "    args.sf_0 = 1/period\n",
    "    result[period] = {} \n",
    "    for prop in np.arange(0.25,2.25,0.25):\n",
    "        args.B_sf = prop/period\n",
    "        whatWhere = WhatWhere(args, save = False)\n",
    "        whatWhere.train()\n",
    "        data_test, label_test = next(iter(whatWhere.loader_test)) \n",
    "        acc = whatWhere.pred_accuracy(data_test, label_test)\n",
    "        print(f'sf_0 : {args.sf_0}, B_sf : {args.B_sf}, acc : {acc}')\n",
    "        result[period][prop] = acc\n",
    "        np.save(FIC_NAME + '-result.npy', result)\n",
    "    "
   ]
  },
  {
   "cell_type": "code",
   "execution_count": null,
   "metadata": {},
   "outputs": [],
   "source": [
    "print(f'sf_0 : {args.sf_0}, B_sf : {args.B_sf}, acc : {acc}')"
   ]
  },
  {
   "cell_type": "code",
   "execution_count": null,
   "metadata": {},
   "outputs": [],
   "source": [
    "result[period] = {} "
   ]
  },
  {
   "cell_type": "code",
   "execution_count": null,
   "metadata": {},
   "outputs": [],
   "source": [
    "result[period][prop] = acc"
   ]
  },
  {
   "cell_type": "markdown",
   "metadata": {},
   "source": [
    "FIC_NAME = '../data/2019-03-29-crowding-test'\n",
    "np.save(FIC_NAME + '-result.npy', result)"
   ]
  },
  {
   "cell_type": "markdown",
   "metadata": {},
   "source": [
    "res = np.load(FIC_NAME + '-result.npy')\n",
    "print(res)"
   ]
  },
  {
   "cell_type": "raw",
   "metadata": {},
   "source": [
    "## SCRIPT\n",
    "\n",
    "import os\n",
    "import matplotlib.pyplot as plt\n",
    "import numpy as np\n",
    "from tqdm import tqdm_notebook as tqdm\n",
    "from main_orig import init\n",
    "import torch\n",
    "import easydict\n",
    "from retina import Display, Retina\n",
    "from whatWhere import WhatWhere\n",
    "\n",
    "args = init(filename='../data/2019-03-29')\n",
    "FIC_NAME = '../data/2019-03-29-crowding-'\n",
    "result = {}\n",
    "\n",
    "for period in range(1,21):\n",
    "    args.sf_0 = 1/period\n",
    "    result[period] = {} \n",
    "    for prop in np.arange(0.25,2.25,0.25):\n",
    "        args.B_sf = prop/period\n",
    "        whatWhere = WhatWhere(args, save = False)\n",
    "        whatWhere.train()\n",
    "        data_test, label_test = next(iter(whatWhere.loader_test)) \n",
    "        acc = whatWhere.pred_accuracy(data_test, label_test)\n",
    "        print(f'sf_0 : %.2f, B_sf : %.2f, acc : %.2f'%(args.sf_0, args.B_sf, acc))\n",
    "        result[period][prop] = acc\n",
    "        np.save(FIC_NAME + '-result.npy', result)"
   ]
  },
  {
   "cell_type": "raw",
   "metadata": {},
   "source": [
    "## SCRIPT\n",
    "\n",
    "import os\n",
    "import matplotlib.pyplot as plt\n",
    "import numpy as np\n",
    "from tqdm import tqdm_notebook as tqdm\n",
    "from main_orig import init\n",
    "import torch\n",
    "import easydict\n",
    "from retina import Display, Retina\n",
    "from whatWhere import WhatWhere\n",
    "\n",
    "args = init(filename='../data/2019-03-29')\n",
    "FIC_NAME = '../data/2019-04-02-crowding-contrast'\n",
    "result = {}\n",
    "\n",
    "for period in range(1,21):\n",
    "    args.sf_0 = 1/period\n",
    "    result[period] = {} \n",
    "    for contrast in (0.5, 0.7):\n",
    "        args.contrast = contrast\n",
    "        whatWhere = WhatWhere(args, save = False)\n",
    "        whatWhere.train()\n",
    "        data_test, label_test = next(iter(whatWhere.loader_test)) \n",
    "        acc = whatWhere.pred_accuracy(data_test, label_test)\n",
    "        print(f'sf_0 : %.2f, B_sf : %.2f, acc : %.2f'%(args.sf_0, args.B_sf, acc))\n",
    "        result[period][contrast] = acc\n",
    "        np.save(FIC_NAME + '-result.npy', result)"
   ]
  },
  {
   "cell_type": "code",
   "execution_count": null,
   "metadata": {},
   "outputs": [],
   "source": [
    "from retina import Display\n",
    "\n",
    "\n",
    "FIC_NAME = '../data/2019-03-29-crowding-result.npy'\n",
    "res = np.load(FIC_NAME).tolist()\n",
    "shape = len(res), len(res[1])\n",
    "im = np.zeros(shape)\n",
    "for i, period in enumerate(range(1,21)):\n",
    "    for j, prop in enumerate(np.arange(0.25,2.25,0.25)):\n",
    "        im[i, j] = res[period][prop]\n",
    "        \n",
    "FIC_NAME = '../data/2019-04-02-crowding-contrast-result.npy'\n",
    "res = np.load(FIC_NAME).tolist()\n",
    "shape = len(res), len(res[1])\n",
    "im2 = np.zeros(shape)\n",
    "for i, period in enumerate(range(1,21)):\n",
    "    for j, prop in enumerate((0.5, 0.7)):\n",
    "        im2[i, j] = res[period][prop]\n",
    "\n",
    "fig = plt.figure(figsize = (10,10))\n",
    "\n",
    "period = 2\n",
    "args.sf_0 = 1/period\n",
    "args.B_sf = 1/period\n",
    "args.contrast = 0.5\n",
    "ax = fig.add_subplot(3, 3, 1)\n",
    "ax.set_title(f'Period = {period}, contrast = {args.contrast}', fontsize = 14)\n",
    "display = Display(args, save = False)\n",
    "data, _ = next(iter(display.loader_test))\n",
    "data_fullfield, i_offset, j_offset = display.draw(data[4, 0, :, :].numpy(), i_offset=-15, j_offset=15)\n",
    "ax = display.show(ax, data_fullfield)\n",
    "\n",
    "period = 10\n",
    "args.sf_0 = 1/period\n",
    "args.B_sf = 1/period\n",
    "args.contrast = 0.5\n",
    "ax = fig.add_subplot(3, 3, 2)\n",
    "ax.set_title(f'Period = {period}, contrast = {args.contrast}', fontsize = 14)\n",
    "display = Display(args, save = False)\n",
    "data_fullfield, i_offset, j_offset = display.draw(data[4, 0, :, :].numpy(), i_offset=-15, j_offset=15)\n",
    "ax = display.show(ax, data_fullfield)\n",
    "\n",
    "period = 18\n",
    "args.sf_0 = 1/period\n",
    "args.B_sf = 1/period\n",
    "args.contrast = 0.5\n",
    "ax = fig.add_subplot(3, 3, 3)\n",
    "ax.set_title(f'Period = {period}, contrast = {args.contrast}', fontsize = 14)\n",
    "display = Display(args, save = False)\n",
    "data_fullfield, i_offset, j_offset = display.draw(data[4, 0, :, :].numpy(), i_offset=-15, j_offset=15)\n",
    "ax = display.show(ax, data_fullfield)\n",
    "\n",
    "ax = fig.add_subplot(3, 1, (2,3))\n",
    "#ax.fill_between(range(1,21), im[:,3], color = 'b', alpha = .3)\n",
    "ax.plot(range(1,21), im[:,3], linewidth = 3, label = 'contrast = 0.3')\n",
    "ax.plot(range(1,21), im2[:,0], linewidth = 3, label = 'contrast = 0.5')\n",
    "ax.plot(range(1,21), im2[:,1], linewidth = 3, label = 'contrast = 0.7')\n",
    "_ = ax.set_xticks(range(1,21))\n",
    "_ = ax.set_xlabel('Noise spatial period (pixels)', fontsize = 18)\n",
    "_ = ax.set_xlim([1, 20])\n",
    "_ = ax.set_ylabel('Class accuracy', fontsize = 18)\n",
    "_ = ax.set_ylim([0, 0.9])\n",
    "_ = ax.plot([1, 20],[0.1, 0.1], ':')\n",
    "_ = ax.legend()\n",
    "\n"
   ]
  },
  {
   "cell_type": "code",
   "execution_count": null,
   "metadata": {},
   "outputs": [],
   "source": [
    "args"
   ]
  },
  {
   "cell_type": "code",
   "execution_count": null,
   "metadata": {},
   "outputs": [],
   "source": []
  }
 ],
 "metadata": {
  "kernelspec": {
   "display_name": "Python 3",
   "language": "python",
   "name": "python3"
  },
  "language_info": {
   "codemirror_mode": {
    "name": "ipython",
    "version": 3
   },
   "file_extension": ".py",
   "mimetype": "text/x-python",
   "name": "python",
   "nbconvert_exporter": "python",
   "pygments_lexer": "ipython3",
   "version": "3.7.3"
  }
 },
 "nbformat": 4,
 "nbformat_minor": 4
}
