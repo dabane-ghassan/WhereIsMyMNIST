{
 "cells": [
  {
   "cell_type": "markdown",
   "metadata": {},
   "source": [
    "This notebook introduces the problem addressed in this paper:\n",
    "\n",
    " - localizating an object in a large image\n",
    " - foveation\n",
    " - action (saccade)\n",
    " "
   ]
  },
  {
   "cell_type": "code",
   "execution_count": 1,
   "metadata": {
    "ExecuteTime": {
     "end_time": "2018-07-03T10:34:13.258190Z",
     "start_time": "2018-07-03T10:34:13.251661Z"
    },
    "collapsed": true
   },
   "outputs": [],
   "source": [
    "figname = '../paper/fig_params'"
   ]
  },
  {
   "cell_type": "code",
   "execution_count": 2,
   "metadata": {},
   "outputs": [
    {
     "name": "stdout",
     "output_type": "stream",
     "text": [
      "\n",
      "This notebook introduces the problem addressed in this paper:\n",
      "\n",
      " - localizating an object in a large image\n",
      " - foveation\n",
      " - action (saccade)\n",
      "       \n",
      "      \n",
      "Using filename= ../data/2019-03-20\n",
      "{'w': 28, 'minibatch_size': 100, 'train_batch_size': 50000, 'test_batch_size': 5000, 'noise_batch_size': 1000, 'mean': 0.1307, 'std': 0.3081, 'N_pic': 128, 'offset_std': 30, 'offset_max': 34, 'noise': 1.0, 'contrast': 1.0, 'sf_0': 0.2, 'B_sf': 0.3, 'N_theta': 6, 'N_azimuth': 16, 'N_eccentricity': 10, 'N_phase': 2, 'rho': 1.41, 'bias_deconv': True, 'p_dropout': 0.0, 'dim1': 500, 'dim2': 2000, 'lr': 0.001, 'do_adam': True, 'bn1_bn_momentum': 0.5, 'bn2_bn_momentum': 0.2, 'momentum': 0.3, 'epochs': 25, 'num_processes': 1, 'no_cuda': True, 'log_interval': 100, 'verbose': 1, 'filename': '../data/2019-03-20', 'seed': 2019, 'N_cv': 4, 'do_compute': True}\n",
      "Overwriting train.py\n",
      "-rw-r--r--  1 laurentperrinet  wheel   397M Mar 19 15:38 /tmp/dataset_train__0.2_0.3_0.7_0.8_30_35_6_16_10_2_1.41_128_50000.pt\n",
      "-rw-r--r--  1 laurentperrinet  wheel   352M Mar 19 15:39 /tmp/dataset_test__0.2_0.3_0.7_0.8_30_35_6_16_10_2_1.41_128_5000.pt\n",
      "-rw-r--r--  1 laurentperrinet  wheel   397M Mar 19 17:28 /tmp/dataset_train__0.1_0.3_0.7_0.8_30_35_6_16_10_2_1.41_128_50000.pt\n",
      "-rw-r--r--  1 laurentperrinet  wheel   397M Mar 19 17:29 /tmp/dataset_train__0.11892071150027211_0.3_0.7_0.8_30_35_6_16_10_2_1.41_128_50000.pt\n",
      "-rw-r--r--  1 laurentperrinet  wheel   352M Mar 19 17:32 /tmp/dataset_test__0.1_0.3_0.7_0.8_30_35_6_16_10_2_1.41_128_5000.pt\n",
      "-rw-r--r--  1 laurentperrinet  wheel   352M Mar 19 17:34 /tmp/dataset_test__0.11892071150027211_0.3_0.7_0.8_30_35_6_16_10_2_1.41_128_5000.pt\n",
      "-rw-r--r--  1 laurentperrinet  wheel   397M Mar 19 17:36 /tmp/dataset_train__0.14142135623730953_0.3_0.7_0.8_30_35_6_16_10_2_1.41_128_50000.pt\n",
      "-rw-r--r--  1 laurentperrinet  wheel   397M Mar 19 17:37 /tmp/dataset_train__0.16817928305074292_0.3_0.7_0.8_30_35_6_16_10_2_1.41_128_50000.pt\n",
      "-rw-r--r--  1 laurentperrinet  wheel   397M Mar 19 17:37 /tmp/dataset_train__0.23784142300054423_0.3_0.7_0.8_30_35_6_16_10_2_1.41_128_50000.pt\n",
      "-rw-r--r--  1 laurentperrinet  wheel   352M Mar 19 17:40 /tmp/dataset_test__0.14142135623730953_0.3_0.7_0.8_30_35_6_16_10_2_1.41_128_5000.pt\n",
      "-rw-r--r--  1 laurentperrinet  wheel   352M Mar 19 17:41 /tmp/dataset_test__0.23784142300054423_0.3_0.7_0.8_30_35_6_16_10_2_1.41_128_5000.pt\n",
      "-rw-r--r--  1 laurentperrinet  wheel   352M Mar 19 17:41 /tmp/dataset_test__0.16817928305074292_0.3_0.7_0.8_30_35_6_16_10_2_1.41_128_5000.pt\n",
      "-rw-r--r--  1 laurentperrinet  wheel   397M Mar 19 19:05 /tmp/dataset_train__0.28284271247461906_0.3_0.7_0.8_30_35_6_16_10_2_1.41_128_50000.pt\n",
      "-rw-r--r--  1 laurentperrinet  wheel   352M Mar 19 19:09 /tmp/dataset_test__0.28284271247461906_0.3_0.7_0.8_30_35_6_16_10_2_1.41_128_5000.pt\n",
      "-rw-r--r--  1 laurentperrinet  wheel   397M Mar 19 19:18 /tmp/dataset_train__0.33635856610148585_0.3_0.7_0.8_30_35_6_16_10_2_1.41_128_50000.pt\n",
      "-rw-r--r--  1 laurentperrinet  wheel   352M Mar 19 19:22 /tmp/dataset_test__0.33635856610148585_0.3_0.7_0.8_30_35_6_16_10_2_1.41_128_5000.pt\n",
      "-rw-r--r--  1 laurentperrinet  wheel   397M Mar 19 19:56 /tmp/dataset_train__0.4_0.3_0.7_0.8_30_35_6_16_10_2_1.41_128_50000.pt\n",
      "-rw-r--r--  1 laurentperrinet  wheel   397M Mar 19 19:59 /tmp/dataset_train__0.2_0.15_0.7_0.8_30_35_6_16_10_2_1.41_128_50000.pt\n",
      "-rw-r--r--  1 laurentperrinet  wheel   352M Mar 19 20:01 /tmp/dataset_test__0.4_0.3_0.7_0.8_30_35_6_16_10_2_1.41_128_5000.pt\n",
      "-rw-r--r--  1 laurentperrinet  wheel   352M Mar 19 20:03 /tmp/dataset_test__0.2_0.15_0.7_0.8_30_35_6_16_10_2_1.41_128_5000.pt\n",
      "-rw-r--r--  1 laurentperrinet  wheel   397M Mar 19 20:06 /tmp/dataset_train__0.2_0.17838106725040814_0.7_0.8_30_35_6_16_10_2_1.41_128_50000.pt\n",
      "-rw-r--r--  1 laurentperrinet  wheel   397M Mar 19 20:09 /tmp/dataset_train__0.2_0.21213203435596426_0.7_0.8_30_35_6_16_10_2_1.41_128_50000.pt\n",
      "-rw-r--r--  1 laurentperrinet  wheel   397M Mar 19 20:11 /tmp/dataset_train__0.2_0.25226892457611433_0.7_0.8_30_35_6_16_10_2_1.41_128_50000.pt\n",
      "-rw-r--r--  1 laurentperrinet  wheel   352M Mar 19 20:11 /tmp/dataset_test__0.2_0.17838106725040814_0.7_0.8_30_35_6_16_10_2_1.41_128_5000.pt\n",
      "-rw-r--r--  1 laurentperrinet  wheel   352M Mar 19 20:13 /tmp/dataset_test__0.2_0.21213203435596426_0.7_0.8_30_35_6_16_10_2_1.41_128_5000.pt\n",
      "-rw-r--r--  1 laurentperrinet  wheel   352M Mar 19 20:15 /tmp/dataset_test__0.2_0.25226892457611433_0.7_0.8_30_35_6_16_10_2_1.41_128_5000.pt\n",
      "-rw-r--r--  1 laurentperrinet  wheel   397M Mar 19 21:47 /tmp/dataset_train__0.2_0.3567621345008163_0.7_0.8_30_35_6_16_10_2_1.41_128_50000.pt\n",
      "-rw-r--r--  1 laurentperrinet  wheel   352M Mar 19 21:51 /tmp/dataset_test__0.2_0.3567621345008163_0.7_0.8_30_35_6_16_10_2_1.41_128_5000.pt\n",
      "-rw-r--r--  1 laurentperrinet  wheel   397M Mar 19 22:25 /tmp/dataset_train__0.2_0.4242640687119285_0.7_0.8_30_35_6_16_10_2_1.41_128_50000.pt\n",
      "-rw-r--r--  1 laurentperrinet  wheel   397M Mar 19 22:28 /tmp/dataset_train__0.2_0.5045378491522287_0.7_0.8_30_35_6_16_10_2_1.41_128_50000.pt\n",
      "-rw-r--r--  1 laurentperrinet  wheel   352M Mar 19 22:29 /tmp/dataset_test__0.2_0.4242640687119285_0.7_0.8_30_35_6_16_10_2_1.41_128_5000.pt\n",
      "-rw-r--r--  1 laurentperrinet  wheel   352M Mar 19 22:33 /tmp/dataset_test__0.2_0.5045378491522287_0.7_0.8_30_35_6_16_10_2_1.41_128_5000.pt\n",
      "-rw-r--r--  1 laurentperrinet  wheel   397M Mar 19 22:35 /tmp/dataset_train__0.2_0.6_0.7_0.8_30_35_6_16_10_2_1.41_128_50000.pt\n",
      "-rw-r--r--  1 laurentperrinet  wheel   397M Mar 19 22:37 /tmp/dataset_train__0.2_0.3_0.7_0.8_15_35_6_16_10_2_1.41_128_50000.pt\n",
      "-rw-r--r--  1 laurentperrinet  wheel   397M Mar 19 22:38 /tmp/dataset_train__0.2_0.3_0.7_0.8_17_35_6_16_10_2_1.41_128_50000.pt\n",
      "-rw-r--r--  1 laurentperrinet  wheel   352M Mar 19 22:39 /tmp/dataset_test__0.2_0.6_0.7_0.8_30_35_6_16_10_2_1.41_128_5000.pt\n",
      "-rw-r--r--  1 laurentperrinet  wheel   352M Mar 19 22:41 /tmp/dataset_test__0.2_0.3_0.7_0.8_15_35_6_16_10_2_1.41_128_5000.pt\n",
      "-rw-r--r--  1 laurentperrinet  wheel   352M Mar 19 22:42 /tmp/dataset_test__0.2_0.3_0.7_0.8_17_35_6_16_10_2_1.41_128_5000.pt\n",
      "-rw-r--r--  1 laurentperrinet  wheel   397M Mar 19 23:13 /tmp/dataset_train__0.2_0.3_0.7_0.8_21_35_6_16_10_2_1.41_128_50000.pt\n",
      "-rw-r--r--  1 laurentperrinet  wheel   352M Mar 19 23:17 /tmp/dataset_test__0.2_0.3_0.7_0.8_21_35_6_16_10_2_1.41_128_5000.pt\n",
      "-rw-r--r--  1 laurentperrinet  wheel   397M Mar 20 00:07 /tmp/dataset_train__0.2_0.3_0.7_0.8_25_35_6_16_10_2_1.41_128_50000.pt\n",
      "-rw-r--r--  1 laurentperrinet  wheel   352M Mar 20 00:11 /tmp/dataset_test__0.2_0.3_0.7_0.8_25_35_6_16_10_2_1.41_128_5000.pt\n",
      "-rw-r--r--  1 laurentperrinet  wheel   397M Mar 20 00:48 /tmp/dataset_train__0.2_0.3_0.7_0.8_35_35_6_16_10_2_1.41_128_50000.pt\n",
      "-rw-r--r--  1 laurentperrinet  wheel   352M Mar 20 00:53 /tmp/dataset_test__0.2_0.3_0.7_0.8_35_35_6_16_10_2_1.41_128_5000.pt\n",
      "-rw-r--r--  1 laurentperrinet  wheel   397M Mar 20 00:54 /tmp/dataset_train__0.2_0.3_0.7_0.8_42_35_6_16_10_2_1.41_128_50000.pt\n",
      "-rw-r--r--  1 laurentperrinet  wheel   352M Mar 20 00:59 /tmp/dataset_test__0.2_0.3_0.7_0.8_42_35_6_16_10_2_1.41_128_5000.pt\n",
      "-rw-r--r--  1 laurentperrinet  wheel   397M Mar 20 00:59 /tmp/dataset_train__0.2_0.3_0.7_0.8_50_35_6_16_10_2_1.41_128_50000.pt\n",
      "-rw-r--r--  1 laurentperrinet  wheel   397M Mar 20 01:00 /tmp/dataset_train__0.2_0.3_0.7_0.8_60_35_6_16_10_2_1.41_128_50000.pt\n",
      "-rw-r--r--  1 laurentperrinet  wheel   352M Mar 20 01:04 /tmp/dataset_test__0.2_0.3_0.7_0.8_50_35_6_16_10_2_1.41_128_5000.pt\n",
      "-rw-r--r--  1 laurentperrinet  wheel   352M Mar 20 01:05 /tmp/dataset_test__0.2_0.3_0.7_0.8_60_35_6_16_10_2_1.41_128_5000.pt\n",
      "-rw-r--r--  1 laurentperrinet  wheel   397M Mar 20 01:40 /tmp/dataset_train__0.2_0.3_0.35_0.8_30_35_6_16_10_2_1.41_128_50000.pt\n",
      "-rw-r--r--  1 laurentperrinet  wheel   352M Mar 20 01:44 /tmp/dataset_test__0.2_0.3_0.35_0.8_30_35_6_16_10_2_1.41_128_5000.pt\n",
      "-rw-r--r--  1 laurentperrinet  wheel   397M Mar 20 02:29 /tmp/dataset_train__0.2_0.3_0.4162224902509523_0.8_30_35_6_16_10_2_1.41_128_50000.pt\n",
      "-rw-r--r--  1 laurentperrinet  wheel   352M Mar 20 02:33 /tmp/dataset_test__0.2_0.3_0.4162224902509523_0.8_30_35_6_16_10_2_1.41_128_5000.pt\n",
      "-rw-r--r--  1 laurentperrinet  wheel   397M Mar 20 02:39 /tmp/dataset_train__0.2_0.3_0.4949747468305833_0.8_30_35_6_16_10_2_1.41_128_50000.pt\n",
      "-rw-r--r--  1 laurentperrinet  wheel   352M Mar 20 02:43 /tmp/dataset_test__0.2_0.3_0.4949747468305833_0.8_30_35_6_16_10_2_1.41_128_5000.pt\n",
      "-rw-r--r--  1 laurentperrinet  wheel   397M Mar 20 03:21 /tmp/dataset_train__0.2_0.3_0.5886274906776001_0.8_30_35_6_16_10_2_1.41_128_50000.pt\n",
      "-rw-r--r--  1 laurentperrinet  wheel   352M Mar 20 03:25 /tmp/dataset_test__0.2_0.3_0.5886274906776001_0.8_30_35_6_16_10_2_1.41_128_5000.pt\n",
      "-rw-r--r--  1 laurentperrinet  wheel   397M Mar 20 03:32 /tmp/dataset_train__0.2_0.3_0.8324449805019046_0.8_30_35_6_16_10_2_1.41_128_50000.pt\n",
      "-rw-r--r--  1 laurentperrinet  wheel   397M Mar 20 03:33 /tmp/dataset_train__0.2_0.3_0.9899494936611666_0.8_30_35_6_16_10_2_1.41_128_50000.pt\n",
      "-rw-r--r--  1 laurentperrinet  wheel   352M Mar 20 03:37 /tmp/dataset_test__0.2_0.3_0.8324449805019046_0.8_30_35_6_16_10_2_1.41_128_5000.pt\n",
      "-rw-r--r--  1 laurentperrinet  wheel   352M Mar 20 03:37 /tmp/dataset_test__0.2_0.3_0.9899494936611666_0.8_30_35_6_16_10_2_1.41_128_5000.pt\n",
      "-rw-r--r--  1 laurentperrinet  wheel   397M Mar 20 04:10 /tmp/dataset_train__0.2_0.3_1.1772549813552002_0.8_30_35_6_16_10_2_1.41_128_50000.pt\n",
      "-rw-r--r--  1 laurentperrinet  wheel   352M Mar 20 04:14 /tmp/dataset_test__0.2_0.3_1.1772549813552002_0.8_30_35_6_16_10_2_1.41_128_5000.pt\n",
      "-rw-r--r--  1 laurentperrinet  wheel   397M Mar 20 05:02 /tmp/dataset_train__0.2_0.3_1.4_0.8_30_35_6_16_10_2_1.41_128_50000.pt\n",
      "-rw-r--r--  1 laurentperrinet  wheel   352M Mar 20 05:06 /tmp/dataset_test__0.2_0.3_1.4_0.8_30_35_6_16_10_2_1.41_128_5000.pt\n",
      "-rw-r--r--  1 laurentperrinet  wheel   397M Mar 20 05:11 /tmp/dataset_train__0.2_0.3_0.7_0.4_30_35_6_16_10_2_1.41_128_50000.pt\n",
      "-rw-r--r--  1 laurentperrinet  wheel   397M Mar 20 05:13 /tmp/dataset_train__0.2_0.3_0.7_0.47568284600108846_30_35_6_16_10_2_1.41_128_50000.pt\n",
      "-rw-r--r--  1 laurentperrinet  wheel   352M Mar 20 05:16 /tmp/dataset_test__0.2_0.3_0.7_0.4_30_35_6_16_10_2_1.41_128_5000.pt\n",
      "-rw-r--r--  1 laurentperrinet  wheel   352M Mar 20 05:18 /tmp/dataset_test__0.2_0.3_0.7_0.47568284600108846_30_35_6_16_10_2_1.41_128_5000.pt\n",
      "-rw-r--r--  1 laurentperrinet  wheel   397M Mar 20 05:53 /tmp/dataset_train__0.2_0.3_0.7_0.5656854249492381_30_35_6_16_10_2_1.41_128_50000.pt\n",
      "-rw-r--r--  1 laurentperrinet  wheel   352M Mar 20 05:57 /tmp/dataset_test__0.2_0.3_0.7_0.5656854249492381_30_35_6_16_10_2_1.41_128_5000.pt\n",
      "-rw-r--r--  1 laurentperrinet  wheel   397M Mar 20 06:04 /tmp/dataset_train__0.2_0.3_0.7_0.6727171322029717_30_35_6_16_10_2_1.41_128_50000.pt\n",
      "-rw-r--r--  1 laurentperrinet  wheel   352M Mar 20 06:08 /tmp/dataset_test__0.2_0.3_0.7_0.6727171322029717_30_35_6_16_10_2_1.41_128_5000.pt\n",
      "-rw-r--r--  1 laurentperrinet  wheel   397M Mar 20 06:43 /tmp/dataset_train__0.2_0.3_0.7_0.9513656920021769_30_35_6_16_10_2_1.41_128_50000.pt\n",
      "-rw-r--r--  1 laurentperrinet  wheel   352M Mar 20 06:47 /tmp/dataset_test__0.2_0.3_0.7_0.9513656920021769_30_35_6_16_10_2_1.41_128_5000.pt\n",
      "-rw-r--r--  1 laurentperrinet  wheel   397M Mar 20 07:35 /tmp/dataset_train__0.2_0.3_0.7_1.1313708498984762_30_35_6_16_10_2_1.41_128_50000.pt\n",
      "-rw-r--r--  1 laurentperrinet  wheel   214M Mar 20 07:37 /tmp/dataset_train__0.2_0.3_0.7_0.8_30_35_3_16_10_2_1.41_128_50000.pt\n",
      "-rw-r--r--  1 laurentperrinet  wheel   334M Mar 20 07:40 /tmp/dataset_test__0.2_0.3_0.7_0.8_30_35_3_16_10_2_1.41_128_5000.pt\n",
      "-rw-r--r--  1 laurentperrinet  wheel   352M Mar 20 07:40 /tmp/dataset_test__0.2_0.3_0.7_1.1313708498984762_30_35_6_16_10_2_1.41_128_5000.pt\n",
      "-rw-r--r--  1 laurentperrinet  wheel   397M Mar 20 07:47 /tmp/dataset_train__0.2_0.3_0.7_1.3454342644059434_30_35_6_16_10_2_1.41_128_50000.pt\n",
      "-rw-r--r--  1 laurentperrinet  wheel   397M Mar 20 07:48 /tmp/dataset_train__0.2_0.3_0.7_1.6_30_35_6_16_10_2_1.41_128_50000.pt\n",
      "-rw-r--r--  1 laurentperrinet  wheel   352M Mar 20 07:51 /tmp/dataset_test__0.2_0.3_0.7_1.3454342644059434_30_35_6_16_10_2_1.41_128_5000.pt\n",
      "-rw-r--r--  1 laurentperrinet  wheel   352M Mar 20 07:52 /tmp/dataset_test__0.2_0.3_0.7_1.6_30_35_6_16_10_2_1.41_128_5000.pt\n",
      "-rw-r--r--  1 laurentperrinet  wheel   275M Mar 20 08:26 /tmp/dataset_train__0.2_0.3_0.7_0.8_30_35_4_16_10_2_1.41_128_50000.pt\n",
      "-rw-r--r--  1 laurentperrinet  wheel   340M Mar 20 08:29 /tmp/dataset_test__0.2_0.3_0.7_0.8_30_35_4_16_10_2_1.41_128_5000.pt\n",
      "-rw-r--r--  1 laurentperrinet  wheel   336M Mar 20 09:33 /tmp/dataset_train__0.2_0.3_0.7_0.8_30_35_5_16_10_2_1.41_128_50000.pt\n",
      "-rw-r--r--  1 laurentperrinet  wheel   346M Mar 20 09:36 /tmp/dataset_test__0.2_0.3_0.7_0.8_30_35_5_16_10_2_1.41_128_5000.pt\n",
      "-rw-r--r--  1 laurentperrinet  wheel   458M Mar 20 10:22 /tmp/dataset_train__0.2_0.3_0.7_0.8_30_35_7_16_10_2_1.41_128_50000.pt\n",
      "-rw-r--r--  1 laurentperrinet  wheel   358M Mar 20 10:27 /tmp/dataset_test__0.2_0.3_0.7_0.8_30_35_7_16_10_2_1.41_128_5000.pt\n",
      "-rw-r--r--  1 laurentperrinet  wheel   519M Mar 20 11:00 /tmp/dataset_train__0.2_0.3_0.7_0.8_30_35_8_16_10_2_1.41_128_50000.pt\n",
      "-rw-r--r--  1 laurentperrinet  wheel   364M Mar 20 11:05 /tmp/dataset_test__0.2_0.3_0.7_0.8_30_35_8_16_10_2_1.41_128_5000.pt\n",
      "-rw-r--r--  1 laurentperrinet  wheel   397M Mar 20 11:26 /tmp/dataset_train__0.025_0.3_0.7_0.8_30_35_6_16_10_2_1.41_128_50000.pt\n",
      "-rw-r--r--  1 laurentperrinet  wheel   352M Mar 20 11:32 /tmp/dataset_test__0.025_0.3_0.7_0.8_30_35_6_16_10_2_1.41_128_5000.pt\n",
      "-rw-r--r--  1 laurentperrinet  wheel   397M Mar 20 11:41 /tmp/dataset_train__0.04204482076268573_0.3_0.7_0.8_30_35_6_16_10_2_1.41_128_50000.pt\n",
      "-rw-r--r--  1 laurentperrinet  wheel   352M Mar 20 11:47 /tmp/dataset_test__0.04204482076268573_0.3_0.7_0.8_30_35_6_16_10_2_1.41_128_5000.pt\n",
      "-rw-r--r--  1 laurentperrinet  wheel   397M Mar 20 11:54 /tmp/dataset_train__0.07071067811865477_0.3_0.7_0.8_30_35_6_16_10_2_1.41_128_50000.pt\n",
      "-rw-r--r--  1 laurentperrinet  wheel   397M Mar 20 11:59 /tmp/dataset_train__0.9513656920021769_0.3_0.7_0.8_30_35_6_16_10_2_1.41_128_50000.pt\n",
      "-rw-r--r--  1 laurentperrinet  wheel   397M Mar 20 11:59 /tmp/dataset_train__0.5656854249492381_0.3_0.7_0.8_30_35_6_16_10_2_1.41_128_50000.pt\n",
      "-rw-r--r--  1 laurentperrinet  wheel   352M Mar 20 12:00 /tmp/dataset_test__0.07071067811865477_0.3_0.7_0.8_30_35_6_16_10_2_1.41_128_5000.pt\n",
      "-rw-r--r--  1 laurentperrinet  wheel   397M Mar 20 12:04 /tmp/dataset_train__1.6_0.3_0.7_0.8_30_35_6_16_10_2_1.41_128_50000.pt\n",
      "-rw-r--r--  1 laurentperrinet  wheel   352M Mar 20 12:04 /tmp/dataset_test__0.9513656920021769_0.3_0.7_0.8_30_35_6_16_10_2_1.41_128_5000.pt\n",
      "-rw-r--r--  1 laurentperrinet  wheel   352M Mar 20 12:04 /tmp/dataset_test__0.5656854249492381_0.3_0.7_0.8_30_35_6_16_10_2_1.41_128_5000.pt\n",
      "-rw-r--r--  1 laurentperrinet  wheel   397M Mar 20 12:08 /tmp/dataset_train__0.2_0.0375_0.7_0.8_30_35_6_16_10_2_1.41_128_50000.pt\n",
      "-rw-r--r--  1 laurentperrinet  wheel   352M Mar 20 12:09 /tmp/dataset_test__1.6_0.3_0.7_0.8_30_35_6_16_10_2_1.41_128_5000.pt\n",
      "-rw-r--r--  1 laurentperrinet  wheel   352M Mar 20 12:13 /tmp/dataset_test__0.2_0.0375_0.7_0.8_30_35_6_16_10_2_1.41_128_5000.pt\n",
      "-rw-r--r--  1 laurentperrinet  wheel   641M Mar 20 12:33 /tmp/dataset_train__0.2_0.3_0.7_0.8_30_35_10_16_10_2_1.41_128_50000.pt\n",
      "-rw-r--r--  1 laurentperrinet  wheel   377M Mar 20 12:40 /tmp/dataset_test__0.2_0.3_0.7_0.8_30_35_10_16_10_2_1.41_128_5000.pt\n",
      "-rw-r--r--  1 laurentperrinet  wheel   763M Mar 20 12:53 /tmp/dataset_train__0.2_0.3_0.7_0.8_30_35_12_16_10_2_1.41_128_50000.pt\n",
      "-rw-r--r--  1 laurentperrinet  wheel   397M Mar 20 12:56 /tmp/dataset_train__0.2_0.06306723114402858_0.7_0.8_30_35_6_16_10_2_1.41_128_50000.pt\n",
      "-rw-r--r--  1 laurentperrinet  wheel   389M Mar 20 13:00 /tmp/dataset_test__0.2_0.3_0.7_0.8_30_35_12_16_10_2_1.41_128_5000.pt\n",
      "-rw-r--r--  1 laurentperrinet  wheel   352M Mar 20 13:01 /tmp/dataset_test__0.2_0.06306723114402858_0.7_0.8_30_35_6_16_10_2_1.41_128_5000.pt\n",
      "-rw-r--r--  1 laurentperrinet  wheel   397M Mar 20 13:17 /tmp/dataset_train__0.2_0.10606601717798213_0.7_0.8_30_35_6_16_10_2_1.41_128_50000.pt\n",
      "-rw-r--r--  1 laurentperrinet  wheel   352M Mar 20 13:22 /tmp/dataset_test__0.2_0.10606601717798213_0.7_0.8_30_35_6_16_10_2_1.41_128_5000.pt\n",
      "-rw-r--r--  1 laurentperrinet  wheel   397M Mar 20 13:45 /tmp/dataset_train__0.2_0.848528137423857_0.7_0.8_30_35_6_16_10_2_1.41_128_50000.pt\n",
      "-rw-r--r--  1 laurentperrinet  wheel   352M Mar 20 13:50 /tmp/dataset_test__0.2_0.848528137423857_0.7_0.8_30_35_6_16_10_2_1.41_128_5000.pt\n",
      "-rw-r--r--  1 laurentperrinet  wheel   397M Mar 20 14:13 /tmp/dataset_train__0.2_1.4270485380032651_0.7_0.8_30_35_6_16_10_2_1.41_128_50000.pt\n",
      "-rw-r--r--  1 laurentperrinet  wheel   397M Mar 20 14:14 /tmp/dataset_train__0.2_0.3_0.7_0.8_30_35_6_16_10_2_0.705_128_50000.pt\n",
      "-rw-r--r--  1 laurentperrinet  wheel   352M Mar 20 14:18 /tmp/dataset_test__0.2_1.4270485380032651_0.7_0.8_30_35_6_16_10_2_1.41_128_5000.pt\n",
      "-rw-r--r--  1 laurentperrinet  wheel   352M Mar 20 14:20 /tmp/dataset_test__0.2_0.3_0.7_0.8_30_35_6_16_10_2_0.705_128_5000.pt\n",
      "-rw-r--r--  1 laurentperrinet  wheel   397M Mar 20 14:28 /tmp/dataset_train__0.2_2.4_0.7_0.8_30_35_6_16_10_2_1.41_128_50000.pt\n",
      "-rw-r--r--  1 laurentperrinet  wheel   397M Mar 20 14:29 /tmp/dataset_train__0.2_0.3_0.7_0.8_3_35_6_16_10_2_1.41_128_50000.pt\n",
      "-rw-r--r--  1 laurentperrinet  wheel   352M Mar 20 14:33 /tmp/dataset_test__0.2_2.4_0.7_0.8_30_35_6_16_10_2_1.41_128_5000.pt\n",
      "-rw-r--r--  1 laurentperrinet  wheel   397M Mar 20 14:34 /tmp/dataset_train__0.2_0.3_0.7_0.8_6_44_6_16_10_2_1.41_128_50000.pt\n",
      "-rw-r--r--  1 laurentperrinet  wheel   352M Mar 20 14:34 /tmp/dataset_test__0.2_0.3_0.7_0.8_3_35_6_16_10_2_1.41_128_5000.pt\n",
      "-rw-r--r--  1 laurentperrinet  wheel   352M Mar 20 14:39 /tmp/dataset_test__0.2_0.3_0.7_0.8_6_44_6_16_10_2_1.41_128_5000.pt\n",
      "-rw-r--r--  1 laurentperrinet  wheel   397M Mar 20 14:40 /tmp/dataset_train__0.2_0.3_0.7_0.8_10_35_6_16_10_2_1.41_128_50000.pt\n",
      "-rw-r--r--  1 laurentperrinet  wheel   352M Mar 20 14:45 /tmp/dataset_test__0.2_0.3_0.7_0.8_10_35_6_16_10_2_1.41_128_5000.pt\n",
      "-rw-r--r--  1 laurentperrinet  wheel   397M Mar 20 14:50 /tmp/dataset_train__0.2_0.3_0.7_0.8_84_35_6_16_10_2_1.41_128_50000.pt\n",
      "-rw-r--r--  1 laurentperrinet  wheel   397M Mar 20 14:50 /tmp/dataset_train__0.2_0.3_0.7_0.8_142_35_6_16_10_2_1.41_128_50000.pt\n",
      "-rw-r--r--  1 laurentperrinet  wheel   397M Mar 20 14:53 /tmp/dataset_train__0.2_0.3_0.7_0.8_240_35_6_16_10_2_1.41_128_50000.pt\n",
      "-rw-r--r--  1 laurentperrinet  wheel   352M Mar 20 14:54 /tmp/dataset_test__0.2_0.3_0.7_0.8_84_35_6_16_10_2_1.41_128_5000.pt\n",
      "-rw-r--r--  1 laurentperrinet  wheel   352M Mar 20 14:55 /tmp/dataset_test__0.2_0.3_0.7_0.8_142_35_6_16_10_2_1.41_128_5000.pt\n",
      "-rw-r--r--  1 laurentperrinet  wheel   397M Mar 20 14:56 /tmp/dataset_train__0.2_0.3_0.0875_0.8_30_35_6_16_10_2_1.41_128_50000.pt\n",
      "-rw-r--r--  1 laurentperrinet  wheel   352M Mar 20 14:57 /tmp/dataset_test__0.2_0.3_0.7_0.8_240_35_6_16_10_2_1.41_128_5000.pt\n",
      "-rw-r--r--  1 laurentperrinet  wheel   352M Mar 20 15:00 /tmp/dataset_test__0.2_0.3_0.0875_0.8_30_35_6_16_10_2_1.41_128_5000.pt\n",
      "-rw-r--r--  1 laurentperrinet  wheel   397M Mar 20 15:07 /tmp/dataset_train__0.2_0.3_0.14715687266940003_0.8_30_35_6_16_10_2_1.41_128_50000.pt\n",
      "-rw-r--r--  1 laurentperrinet  wheel   352M Mar 20 15:11 /tmp/dataset_test__0.2_0.3_0.14715687266940003_0.8_30_35_6_16_10_2_1.41_128_5000.pt\n",
      "-rw-r--r--  1 laurentperrinet  wheel   397M Mar 20 15:42 /tmp/dataset_train__0.2_0.3_0.24748737341529164_0.8_30_35_6_16_10_2_1.41_128_50000.pt\n",
      "-rw-r--r--  1 laurentperrinet  wheel   352M Mar 20 15:46 /tmp/dataset_test__0.2_0.3_0.24748737341529164_0.8_30_35_6_16_10_2_1.41_128_5000.pt\n",
      "-rw-r--r--  1 laurentperrinet  wheel   397M Mar 20 15:51 /tmp/dataset_train__0.2_0.3_1.9798989873223332_0.8_30_35_6_16_10_2_1.41_128_50000.pt\n",
      "-rw-r--r--  1 laurentperrinet  wheel   397M Mar 20 15:52 /tmp/dataset_train__0.2_0.3_3.3297799220076185_0.8_30_35_6_16_10_2_1.41_128_50000.pt\n",
      "-rw-r--r--  1 laurentperrinet  wheel   352M Mar 20 15:52 /tmp/dataset_test__0.2_0.3_1.9798989873223332_0.8_30_35_6_16_10_2_1.41_128_5000.pt\n",
      "-rw-r--r--  1 laurentperrinet  wheel   352M Mar 20 15:54 /tmp/dataset_test__0.2_0.3_3.3297799220076185_0.8_30_35_6_16_10_2_1.41_128_5000.pt\n",
      "-rw-r--r--  1 laurentperrinet  wheel   397M Mar 20 16:00 /tmp/dataset_train__0.2_0.3_5.6_0.8_30_35_6_16_10_2_1.41_128_50000.pt\n",
      "-rw-r--r--  1 laurentperrinet  wheel   352M Mar 20 16:01 /tmp/dataset_test__0.2_0.3_5.6_0.8_30_35_6_16_10_2_1.41_128_5000.pt\n",
      "-rw-r--r--  1 laurentperrinet  wheel   397M Mar 20 16:03 /tmp/dataset_train__0.2_0.3_0.5_1.0_30_34_6_16_10_2_1.41_128_50000.pt\n",
      "-rw-r--r--  1 laurentperrinet  wheel   352M Mar 20 16:04 /tmp/dataset_test__0.2_0.3_0.5_1.0_30_34_6_16_10_2_1.41_128_5000.pt\n",
      "2019-03-20T16:30:04+01:00\n",
      "\n",
      "CPython 3.7.2\n",
      "IPython 7.3.0\n",
      "\n",
      "numpy 1.16.2\n",
      "matplotlib 3.0.3\n",
      "torch 1.0.1.post2\n",
      "\n",
      "compiler   : Clang 10.0.0 (clang-1000.11.45.5)\n",
      "system     : Darwin\n",
      "release    : 18.2.0\n",
      "machine    : x86_64\n",
      "processor  : i386\n",
      "CPU cores  : 36\n",
      "interpreter: 64bit\n",
      "host name  : fortytwo\n",
      "Git hash   : bb383e8089f23f1928627cda2dc44ccd1a0a38f0\n",
      "Git repo   : https://github.com/laurentperrinet/WhereIsMyMNIST\n",
      "Git branch : master\n"
     ]
    }
   ],
   "source": [
    "%run 0_parameters.ipynb"
   ]
  },
  {
   "cell_type": "code",
   "execution_count": 3,
   "metadata": {},
   "outputs": [
    {
     "name": "stdout",
     "output_type": "stream",
     "text": [
      "Overwriting params.py\n"
     ]
    }
   ],
   "source": [
    "%%writefile params.py\n",
    "import torch\n",
    "from main import init, MetaML\n",
    "\n",
    "opts = dict(filename='../data/2019-03-16', verbose=0, log_interval=0, do_compute=False)\n",
    "#opts = dict(filename='debug', verbose=0, log_interval=0)\n",
    "\n",
    "print(50*'-')\n",
    "print(' parameter scan')\n",
    "print(50*'-')\n",
    "\n",
    "args = init(**opts)\n",
    "\n",
    "if True:\n",
    "    print(50*'-')\n",
    "    print('Default parameters')\n",
    "    print(50*'-')\n",
    "    from where import Where as ML\n",
    "    from what import WhatNet\n",
    "    ml = ML(args)\n",
    "    ml.train(path=args.filename)\n",
    "    # ml.main(path=args.filename)\n",
    "\n",
    "if True:\n",
    "    args = init(**opts)\n",
    "    mml = MetaML(args)\n",
    "    if torch.cuda.is_available():\n",
    "        mml.scan('no_cuda', [True, False])\n",
    "\n",
    "    args = init(**opts)\n",
    "    mml = MetaML(args)\n",
    "    mml.scan('bias_deconv', [True, False])\n",
    "   \n",
    "\n",
    "for base in [2, 8] if not args.filename == '../data/debug' else [2]:\n",
    "    print(50*'-')\n",
    "    print(' base=', base)\n",
    "    print(50*'-')\n",
    "\n",
    "    print(50*'-')\n",
    "    print(' parameter scan : data')\n",
    "    print(50*'-')\n",
    "    args = init(**opts)\n",
    "    mml = MetaML(args, base=base)\n",
    "    for parameter in ['sf_0', 'B_sf', 'offset_std', 'noise', 'contrast']:\n",
    "        mml.parameter_scan(parameter)\n",
    "\n",
    "\n",
    "    print(50*'-')\n",
    "    print(' parameter scan : network')\n",
    "    print(50*'-')\n",
    "    args = init(**opts)\n",
    "    mml = MetaML(args)\n",
    "    for parameter in ['dim1',\n",
    "                      'bn1_bn_momentum',\n",
    "                      'dim2',\n",
    "                      'bn2_bn_momentum',\n",
    "                      'p_dropout']:\n",
    "        mml.parameter_scan(parameter)\n",
    "\n",
    "    print(' parameter scan : learning ')\n",
    "    args = init(**opts)\n",
    "    mml = MetaML(args, base=base)\n",
    "    print(50*'-')\n",
    "    print('Using SGD')\n",
    "    print(50*'-')\n",
    "    for parameter in ['lr', 'momentum', 'minibatch_size', 'epochs']:\n",
    "        mml.parameter_scan(parameter)\n",
    "    print(50*'-')\n",
    "    print('Using ADAM')\n",
    "    print(50*'-')\n",
    "    args = init(**opts)\n",
    "    args.do_adam = True\n",
    "    mml = MetaML(args, tag='adam')\n",
    "    for parameter in ['lr', 'momentum', 'minibatch_size', 'epochs']:\n",
    "        mml.parameter_scan(parameter)\n",
    "\n",
    "    print(50*'-')\n",
    "    print(' parameter scan : retina')\n",
    "    print(50*'-')\n",
    "    args = init(**opts)\n",
    "    mml = MetaML(args)\n",
    "    for parameter in ['N_theta',\n",
    "                      'N_azimuth',\n",
    "                      'N_eccentricity',\n",
    "                      'rho']:\n",
    "        mml.parameter_scan(parameter)\n",
    "        "
   ]
  },
  {
   "cell_type": "code",
   "execution_count": null,
   "metadata": {},
   "outputs": [],
   "source": [
    "from where import Where as ML"
   ]
  },
  {
   "cell_type": "code",
   "execution_count": null,
   "metadata": {},
   "outputs": [
    {
     "data": {
      "text/plain": [
       "'../data/2019-03-20'"
      ]
     },
     "execution_count": 5,
     "metadata": {},
     "output_type": "execute_result"
    }
   ],
   "source": [
    "args.filename"
   ]
  },
  {
   "cell_type": "raw",
   "metadata": {},
   "source": [
    "%rm -fr ../data/_tmp_scanning"
   ]
  },
  {
   "cell_type": "code",
   "execution_count": null,
   "metadata": {},
   "outputs": [
    {
     "name": "stdout",
     "output_type": "stream",
     "text": [
      "--------------------------------------------------\n",
      " parameter scan\n",
      "--------------------------------------------------\n",
      "--------------------------------------------------\n",
      "Default parameters\n",
      "--------------------------------------------------\n"
     ]
    }
   ],
   "source": [
    "%run params.py"
   ]
  },
  {
   "cell_type": "markdown",
   "metadata": {},
   "source": [
    "# summary\n"
   ]
  },
  {
   "cell_type": "code",
   "execution_count": null,
   "metadata": {},
   "outputs": [],
   "source": [
    "%ls ../data/_tmp_scanning"
   ]
  },
  {
   "cell_type": "raw",
   "metadata": {},
   "source": [
    "fig = plt.figure(figsize = (figwidth, figwidth/2.5))#1.618))\n",
    "ax_A = plt.subplot(1, 4, 1) \n",
    "data_retina = r.retina(full[idx]['data_fullfield'])\n",
    "ax_A = where.retina.show(ax_A, r.retina_invert(data_retina))\n",
    "    \n",
    "ax_B = plt.subplot(2, 4, 2, projection='polar', autoscale_on=False)\n",
    "ax_B.pcolor(r.theta, r.log_r, accuracy_colliculus[idx, :].numpy().reshape((args.N_azimuth, args.N_eccentricity)))\n",
    "ax_B.grid('off')\n",
    "plt.title('True', fontsize = 14)\n",
    "ax_B.set_yticklabels([])\n",
    "ax_B.set_xticklabels([])\n",
    "\n",
    "ax_Bb = plt.subplot(2, 4, 6, projection='polar')\n",
    "ax_Bb.pcolor(r.theta, r.log_r, pred_accuracy_colliculus[idx, :].reshape((args.N_azimuth, args.N_eccentricity)))\n",
    "ax_Bb.set_title('Predicted', fontsize = 14)\n",
    "ax_Bb.set_yticklabels([])\n",
    "ax_Bb.set_xticklabels([])\n",
    "\n",
    "\n",
    "ax_C = plt.subplot(1, 4, 3)\n",
    "data_fullfield = d.place_object(data[idx, 0, :, :].numpy(), 0, 0)\n",
    "input_vector  =  r.retina(data_fullfield)\n",
    "ax_C = r.show(ax_C, r.retina_invert(input_vector))\n",
    "i_pred, j_pred = where.index_prediction(pred_accuracy_colliculus[idx, :])\n",
    "ax_A.arrow(64.5, 64.5, -i_pred, -j_pred, width=.3, color='r', head_width=4., length_includes_head=True, edgecolor='k')\n",
    "\n",
    "ax_D = plt.subplot(1, 4, 4)\n",
    "width = .8*np.abs(np.gradient(eccentricities)[0])\n",
    "ax_D.bar(eccentricities, accuracy_mean, width=width, alpha = .5, label = 'One saccade')\n",
    "ax_D.plot([eccentricities.min()-width/2, eccentricities.max()+width/2], [0.1]*2, ':', c='k', label = 'Baseline')\n",
    "ax_D.plot([eccentricities.min()-width/2, eccentricities.max()+width/2], [acc_max]*2, ':', c='orange', label = 'Max')\n",
    "\n",
    "plt.legend(loc='upper right')\n",
    "ax_D.set_xlabel('Target eccentricity (pixels)', fontsize = 12)\n",
    "ax_D.set_xticks(eccentricities)\n",
    "ax_D.set_xticklabels(['%.1f' % d for  d in eccentricities])\n",
    "ax_D.set_ylim([0,1])\n",
    "\n",
    "for ax, text in [[ax_A, 'DIS'], [ax_C, 'SAC']]:\n",
    "    ax.text(4, 15, text, fontsize=24,\n",
    "          bbox={'facecolor':'white','alpha':1,'edgecolor':'none','pad':1},\n",
    "          ha='left', va='center') \n",
    "\n",
    "offset = -.015\n",
    "for ax, text, x_offset, y_offset in [[ax_A, 'A', offset, 1.15], [ax_B, 'B', -.25, 1.225], [ax_C, 'C', offset, 1.15], [ax_D, 'D', offset, 1.15]]:\n",
    "    ax.text(x_offset, y_offset, '(' + text + ')', fontsize=24,\n",
    "              bbox={'facecolor':'white','alpha':1,'edgecolor':'none','pad':1},\n",
    "              ha='left', va='center', transform=ax.transAxes) \n",
    "\n",
    "# pos : [left, bottom, width, height] =    The new position of the in `.Figure` coordinates.    \n",
    "plt.tight_layout()\n",
    "ax_A.set_position([0.025, 0.1, .3, .45])\n",
    "ax_B.set_position( [0.24, 0.375, .2, 0.2])\n",
    "ax_Bb.set_position([0.24, 0.1, .2, 0.2])\n",
    "ax_C.set_position([0.35, .1, .3, .45])\n",
    "ax_D.set_position([0.65, .1, .3, .45])\n",
    "fig.savefig(figname + '.pdf', bbox_inches='tight', pad_inches=0.1)"
   ]
  },
  {
   "cell_type": "markdown",
   "metadata": {},
   "source": [
    "# post-processing"
   ]
  },
  {
   "cell_type": "raw",
   "metadata": {
    "ExecuteTime": {
     "end_time": "2018-10-08T14:43:27.591507Z",
     "start_time": "2018-10-08T14:43:24.722160Z"
    }
   },
   "source": [
    "!convert  -density {dpi_export} {figname}.pdf {figname}.jpg\n",
    "!convert  -density {dpi_export} {figname}.pdf {figname}.png\n",
    "#!convert  -density {dpi_export} -resize 5400  -units pixelsperinch -flatten  -compress lzw  -depth 8 {fname}.pdf {fname}.tiff"
   ]
  },
  {
   "cell_type": "raw",
   "metadata": {
    "ExecuteTime": {
     "end_time": "2018-07-03T10:36:00.981927Z",
     "start_time": "2018-07-03T10:36:00.949864Z"
    }
   },
   "source": [
    "from IPython.display import Image\n",
    "Image('{figname}.png'.format(figname=figname))"
   ]
  },
  {
   "cell_type": "code",
   "execution_count": null,
   "metadata": {
    "ExecuteTime": {
     "end_time": "2018-07-03T10:36:00.939193Z",
     "start_time": "2018-07-03T10:36:00.766218Z"
    }
   },
   "outputs": [],
   "source": [
    "!ls  -l {figname}*"
   ]
  },
  {
   "cell_type": "code",
   "execution_count": null,
   "metadata": {},
   "outputs": [],
   "source": []
  }
 ],
 "metadata": {
  "kernelspec": {
   "display_name": "Python 3",
   "language": "python",
   "name": "python3"
  },
  "language_info": {
   "codemirror_mode": {
    "name": "ipython",
    "version": 3
   },
   "file_extension": ".py",
   "mimetype": "text/x-python",
   "name": "python",
   "nbconvert_exporter": "python",
   "pygments_lexer": "ipython3",
   "version": "3.7.2"
  }
 },
 "nbformat": 4,
 "nbformat_minor": 2
}
