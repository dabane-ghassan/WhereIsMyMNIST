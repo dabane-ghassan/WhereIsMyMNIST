{
 "cells": [
  {
   "cell_type": "markdown",
   "metadata": {},
   "source": [
    "This notebook introduces the problem addressed in this paper:\n",
    "\n",
    " - localizating an object in a large image\n",
    " - foveation\n",
    " - action (saccade)\n",
    " "
   ]
  },
  {
   "cell_type": "code",
   "execution_count": 6,
   "metadata": {},
   "outputs": [
    {
     "name": "stdout",
     "output_type": "stream",
     "text": [
      "\n",
      "This notebook introduces the problem addressed in this paper:\n",
      "\n",
      " - localizating an object in a large image\n",
      " - foveation\n",
      " - action (saccade)\n",
      "       \n",
      "      \n",
      "Using filename= ../data/2019-04-03\n",
      "{'w': 28, 'minibatch_size': 100, 'train_batch_size': 50000, 'test_batch_size': 5000, 'noise_batch_size': 1000, 'mean': 0.1307, 'std': 0.3081, 'N_pic': 128, 'offset_std': 30, 'offset_max': 34, 'noise': 0.75, 'contrast': 0.5, 'sf_0': 0.2, 'B_sf': 0.08, 'N_theta': 6, 'N_azimuth': 26, 'N_eccentricity': 10, 'N_phase': 2, 'rho': 1.41, 'bias_deconv': True, 'p_dropout': 0.0, 'dim1': 382, 'dim2': 2618, 'lr': 0.005, 'do_adam': True, 'bn1_bn_momentum': 0.5, 'bn2_bn_momentum': 0.5, 'momentum': 0.3, 'epochs': 25, 'num_processes': 1, 'no_cuda': True, 'log_interval': 100, 'verbose': 1, 'filename': '../data/2019-04-03', 'seed': 2019, 'N_cv': 2, 'do_compute': True}\n",
      "Overwriting train.py\n",
      "2019-04-03T12:20:01+02:00\n",
      "\n",
      "CPython 3.7.2\n",
      "IPython 7.4.0\n",
      "\n",
      "numpy 1.16.2\n",
      "matplotlib 3.0.3\n",
      "torch 1.0.1.post2\n",
      "\n",
      "compiler   : Clang 10.0.0 (clang-1000.11.45.5)\n",
      "system     : Darwin\n",
      "release    : 18.2.0\n",
      "machine    : x86_64\n",
      "processor  : i386\n",
      "CPU cores  : 36\n",
      "interpreter: 64bit\n",
      "host name  : fortytwo\n",
      "Git hash   : d5a8b796aea7b5a467814919d05f56a8b35f2522\n",
      "Git repo   : https://github.com/laurentperrinet/WhereIsMyMNIST\n",
      "Git branch : master\n"
     ]
    }
   ],
   "source": [
    "%run 0_parameters.ipynb"
   ]
  },
  {
   "cell_type": "code",
   "execution_count": 7,
   "metadata": {
    "ExecuteTime": {
     "end_time": "2018-07-03T10:34:13.258190Z",
     "start_time": "2018-07-03T10:34:13.251661Z"
    },
    "collapsed": true
   },
   "outputs": [],
   "source": [
    "figname = '../paper/fig_params'"
   ]
  },
  {
   "cell_type": "code",
   "execution_count": 8,
   "metadata": {},
   "outputs": [
    {
     "name": "stdout",
     "output_type": "stream",
     "text": [
      "Overwriting params.py\n"
     ]
    }
   ],
   "source": [
    "%%writefile params.py\n",
    "import os\n",
    "import torch\n",
    "from main import init, MetaML\n",
    "from where import Where as ML\n",
    "from what import WhatNet\n",
    "import numpy as np        \n",
    "import sys\n",
    "opts = dict(filename='../data/2019-03-30', verbose=0, log_interval=0, do_compute=False  if len(sys.argv) > 1 else True)\n",
    "#opts = dict(filename='debug', verbose=0, log_interval=0)\n",
    "print('do_compute =', opts['do_compute'])\n",
    "\n",
    "print(50*'-')\n",
    "print(' parameter scan')\n",
    "print(50*'-')\n",
    "\n",
    "if opts['do_compute']:\n",
    "    args = init(**opts)\n",
    "    #args.filename = '../data/2019-03-27'\n",
    "    filename_train = args.filename + '_train.pt'\n",
    "    if not(os.path.isfile(filename_train + '_lock')):\n",
    "        open(filename_train + '_lock', 'w').close()\n",
    "        print(50*'-')\n",
    "        print('Default parameters')\n",
    "        print(50*'-')\n",
    "        from where import Where as ML\n",
    "        from what import WhatNet\n",
    "        ml = ML(args)\n",
    "        ml.train(path=filename_train)\n",
    "        # ml.main(path=args.filename)\n",
    "        try:\n",
    "            os.remove(filename_train + '_lock')\n",
    "        except:\n",
    "            pass\n",
    "\n",
    "if True:\n",
    "    args = init(**opts)\n",
    "    mml = MetaML(args)\n",
    "    if torch.cuda.is_available():\n",
    "        mml.scan('no_cuda', [True, False])\n",
    "\n",
    "    args = init(**opts)\n",
    "    mml = MetaML(args)\n",
    "    mml.scan('bias_deconv', [True, False])\n",
    "\n",
    "results = {}\n",
    "    \n",
    "def update_results(results, parameter, accuracies, ci=0.01):\n",
    "    from scipy.stats import beta\n",
    "\n",
    "    if not parameter in results.keys(): results[parameter] = dict(value=[], accuracy=[], p_low=[], p_sup=[])\n",
    "    for value in accuracies.keys():\n",
    "        results[parameter]['value'].append(value)\n",
    "        results[parameter]['accuracy'].append(accuracies[value][:-1].mean()*100)\n",
    "        try:\n",
    "            a1, b1, loc1, scale1 = beta.fit(accuracies[value][:-1], floc=0, fscale=1)\n",
    "            p_low, p_sup = beta.ppf([ci, 1-ci], a=a1, b=b1)\n",
    "            #print(p_low, p_sup)\n",
    "            results[parameter]['p_low'].append(p_low*100)\n",
    "            results[parameter]['p_sup'].append(p_sup*100)\n",
    "        except:\n",
    "            results[parameter]['p_low'].append(accuracies[value][:-1].mean()*100)\n",
    "            results[parameter]['p_sup'].append(accuracies[value][:-1].mean()*100)\n",
    "        \n",
    "    return results\n",
    "            \n",
    "bases = [2]\n",
    "bases = [np.sqrt(2), 2, 2*np.sqrt(2)]    \n",
    "for base in bases if not args.filename == '../data/debug' else [2]:\n",
    "    print(50*'-')\n",
    "    print(' base=', base)\n",
    "    print(50*'-')\n",
    "\n",
    "    print(50*'-')\n",
    "    print(' parameter scan : data')\n",
    "    print(50*'-')\n",
    "    args = init(**opts)\n",
    "    mml = MetaML(args, base=base)\n",
    "    for parameter in ['sf_0', 'B_sf', 'offset_std' , 'noise', 'contrast']: #\n",
    "        accuracies = mml.parameter_scan(parameter)\n",
    "        results = update_results(results, parameter, accuracies)\n",
    "        \n",
    "    print(50*'-')\n",
    "    print(' parameter scan : network')\n",
    "    print(50*'-')\n",
    "    args = init(**opts)\n",
    "    mml = MetaML(args)\n",
    "    for parameter in ['dim1',\n",
    "                      'bn1_bn_momentum',\n",
    "                      'dim2',\n",
    "                      'bn2_bn_momentum',\n",
    "                      'p_dropout']:\n",
    "        accuracies = mml.parameter_scan(parameter)\n",
    "        results = update_results(results, parameter, accuracies)\n",
    "\n",
    "    print(' parameter scan : learning ')\n",
    "    args = init(**opts)\n",
    "    mml = MetaML(args, base=base, tag='SGD')\n",
    "    print(50*'-')\n",
    "    print('Using SGD')\n",
    "    print(50*'-')\n",
    "    for parameter in ['lr', 'momentum', 'minibatch_size', 'epochs']:\n",
    "        accuracies = mml.parameter_scan(parameter)\n",
    "        results = update_results(results, parameter + '_sgd', accuracies)\n",
    "    print(50*'-')\n",
    "    print('Using ADAM')\n",
    "    print(50*'-')\n",
    "    args = init(**opts)\n",
    "    args.do_adam = True\n",
    "    mml = MetaML(args, base=base, tag='adam')\n",
    "    for parameter in ['lr', 'momentum', 'minibatch_size', 'epochs']:\n",
    "        accuracies = mml.parameter_scan(parameter)\n",
    "        results = update_results(results, parameter + '_adam', accuracies)\n",
    "\n",
    "    print(50*'-')\n",
    "    print(' parameter scan : retina')\n",
    "    print(50*'-')\n",
    "    args = init(**opts)\n",
    "    mml = MetaML(args)\n",
    "    for parameter in ['N_theta',\n",
    "                      'N_azimuth',\n",
    "                      'N_eccentricity',\n",
    "                      'rho']:\n",
    "        accuracies = mml.parameter_scan(parameter)\n",
    "        results = update_results(results, parameter, accuracies)\n",
    "        "
   ]
  },
  {
   "cell_type": "raw",
   "metadata": {},
   "source": [
    "%rm -fr ../data/_tmp_scanning"
   ]
  },
  {
   "cell_type": "code",
   "execution_count": 9,
   "metadata": {},
   "outputs": [
    {
     "name": "stdout",
     "output_type": "stream",
     "text": [
      "do_compute = False\n",
      "--------------------------------------------------\n",
      " parameter scan\n",
      "--------------------------------------------------\n",
      "scanning over bias_deconv = [True, False]\n",
      "For parameter bias_deconv = True ,  Accuracy=72.2% +/- 0.0%  in 4115.3 seconds\n",
      "For parameter bias_deconv = False ,  Accuracy=72.2% +/- 0.0%  in 4123.4 seconds\n",
      "--------------------------------------------------\n",
      " base= 1.4142135623730951\n",
      "--------------------------------------------------\n",
      "--------------------------------------------------\n",
      " parameter scan : data\n",
      "--------------------------------------------------\n",
      "scanning over sf_0 = [0.14142136 0.15874011 0.17817974 0.2        0.22449241 0.25198421\n",
      " 0.28284271]\n",
      "For parameter sf_0 = 0.141 ,  Accuracy=65.8% +/- 0.2%  in 5378.1 seconds\n",
      "For parameter sf_0 = 0.159 ,  Accuracy=67.9% +/- 0.4%  in 6574.6 seconds\n",
      "For parameter sf_0 = 0.178 ,  Accuracy=69.7% +/- 0.2%  in 5372.9 seconds\n",
      "For parameter sf_0 = 0.200 ,  Accuracy=72.2% +/- 0.0%  in 4148.1 seconds\n",
      "For parameter sf_0 = 0.224 ,  Accuracy=73.3% +/- 1.1%  in 5395.0 seconds\n",
      "For parameter sf_0 = 0.252 ,  Accuracy=75.9% +/- 0.6%  in 6519.4 seconds\n",
      "For parameter sf_0 = 0.283 ,  Accuracy=77.5% +/- 0.6%  in 5352.4 seconds\n",
      "scanning over B_sf = [0.05656854 0.06349604 0.0712719  0.08       0.08979696 0.10079368\n",
      " 0.11313708]\n",
      "For parameter B_sf = 0.057 ,  Accuracy=72.2% +/- 0.3%  in 5377.6 seconds\n",
      "For parameter B_sf = 0.063 ,  Accuracy=71.7% +/- 0.3%  in 5915.7 seconds\n",
      "For parameter B_sf = 0.071 ,  Accuracy=71.9% +/- 0.6%  in 5389.9 seconds\n",
      "For parameter B_sf = 0.080 ,  Accuracy=72.2% +/- 0.0%  in 3068.1 seconds\n",
      "For parameter B_sf = 0.090 ,  Accuracy=72.2% +/- 0.3%  in 5401.4 seconds\n",
      "For parameter B_sf = 0.101 ,  Accuracy=71.3% +/- 0.8%  in 5962.4 seconds\n",
      "For parameter B_sf = 0.113 ,  Accuracy=71.8% +/- 0.7%  in 4952.8 seconds\n",
      "scanning over offset_std = [21, 23, 26, 30, 33, 37, 42]\n",
      "For parameter offset_std = 21 ,  Accuracy=76.1% +/- 0.4%  in 4986.6 seconds\n",
      "For parameter offset_std = 23 ,  Accuracy=74.6% +/- 1.2%  in 6729.4 seconds\n",
      "For parameter offset_std = 26 ,  Accuracy=70.3% +/- 1.5%  in 4960.2 seconds\n",
      "For parameter offset_std = 30 ,  Accuracy=72.2% +/- 0.0%  in 4253.2 seconds\n",
      "For parameter offset_std = 33 ,  Accuracy=69.9% +/- 0.9%  in 4876.4 seconds\n",
      "For parameter offset_std = 37 ,  Accuracy=68.3% +/- 0.6%  in 6557.0 seconds\n",
      "For parameter offset_std = 42 ,  Accuracy=66.2% +/- 0.8%  in 4839.3 seconds\n",
      "scanning over noise = [0.35355339 0.39685026 0.44544936 0.5        0.56123102 0.62996052\n",
      " 0.70710678]\n",
      "For parameter noise = 0.354 ,  Accuracy=77.3% +/- 1.0%  in 4849.9 seconds\n",
      "For parameter noise = 0.397 ,  Accuracy=75.8% +/- 0.2%  in 5765.6 seconds\n",
      "For parameter noise = 0.445 ,  Accuracy=73.7% +/- 0.6%  in 4874.6 seconds\n",
      "For parameter noise = 0.500 ,  Accuracy=72.2% +/- 0.0%  in 3930.0 seconds\n",
      "For parameter noise = 0.561 ,  Accuracy=67.6% +/- 0.7%  in 4516.8 seconds\n",
      "For parameter noise = 0.630 ,  Accuracy=64.1% +/- 0.7%  in 6173.5 seconds\n",
      "For parameter noise = 0.707 ,  Accuracy=58.7% +/- 0.2%  in 4536.6 seconds\n",
      "scanning over contrast = [0.35355339 0.39685026 0.44544936 0.5        0.56123102 0.62996052\n",
      " 0.70710678]\n",
      "For parameter contrast = 0.354 ,  Accuracy=57.7% +/- 0.3%  in 4544.9 seconds\n",
      "For parameter contrast = 0.397 ,  Accuracy=63.6% +/- 0.4%  in 6147.5 seconds\n",
      "For parameter contrast = 0.445 ,  Accuracy=68.2% +/- 0.2%  in 4506.2 seconds\n",
      "For parameter contrast = 0.500 ,  Accuracy=72.2% +/- 0.0%  in 3938.2 seconds\n",
      "For parameter contrast = 0.561 ,  Accuracy=73.6% +/- 0.5%  in 4477.3 seconds\n",
      "For parameter contrast = 0.630 ,  Accuracy=74.7% +/- 0.5%  in 5044.7 seconds\n",
      "For parameter contrast = 0.707 ,  Accuracy=77.6% +/- 1.3%  in 4456.9 seconds\n",
      "--------------------------------------------------\n",
      " parameter scan : network\n",
      "--------------------------------------------------\n",
      "scanning over dim1 = [191, 240, 303, 382, 481, 606, 764]\n",
      "For parameter dim1 = 191 ,  Accuracy=72.7% +/- 0.0%  in 2159.0 seconds\n",
      "For parameter dim1 = 240 ,  Accuracy=72.0% +/- 0.0%  in 2231.2 seconds\n",
      "For parameter dim1 = 303 ,  Accuracy=72.6% +/- 0.0%  in 2280.7 seconds\n",
      "For parameter dim1 = 382 ,  Accuracy=72.2% +/- 0.0%  in 2534.1 seconds\n",
      "For parameter dim1 = 481 ,  Accuracy=71.8% +/- 0.0%  in 2995.0 seconds\n",
      "For parameter dim1 = 606 ,  Accuracy=71.7% +/- 0.0%  in 3390.9 seconds\n",
      "For parameter dim1 = 764 ,  Accuracy=71.7% +/- 0.0%  in 3750.9 seconds\n",
      "scanning over bn1_bn_momentum = [0.         0.16666667 0.33333333 0.5        0.66666667 0.83333333\n",
      " 1.        ]\n",
      "For parameter bn1_bn_momentum = 0.000 ,  Accuracy=68.3% +/- 0.0%  in 3007.0 seconds\n",
      "For parameter bn1_bn_momentum = 0.167 ,  Accuracy=72.0% +/- 0.0%  in 2532.3 seconds\n",
      "For parameter bn1_bn_momentum = 0.333 ,  Accuracy=72.3% +/- 0.0%  in 2537.7 seconds\n",
      "For parameter bn1_bn_momentum = 0.500 ,  Accuracy=72.2% +/- 0.0%  in 2521.2 seconds\n",
      "For parameter bn1_bn_momentum = 0.667 ,  Accuracy=72.4% +/- 0.0%  in 2527.5 seconds\n",
      "For parameter bn1_bn_momentum = 0.833 ,  Accuracy=72.4% +/- 0.0%  in 2532.4 seconds\n",
      "For parameter bn1_bn_momentum = 1.000 ,  Accuracy=16.8% +/- 0.0%  in 2519.6 seconds\n",
      "scanning over dim2 = [1309, 1649, 2077, 2618, 3298, 4155, 5236]\n",
      "For parameter dim2 = 1309 ,  Accuracy=72.6% +/- 0.0%  in 1735.8 seconds\n",
      "For parameter dim2 = 1649 ,  Accuracy=71.9% +/- 0.0%  in 2045.3 seconds\n",
      "For parameter dim2 = 2077 ,  Accuracy=70.7% +/- 0.0%  in 2389.6 seconds\n",
      "For parameter dim2 = 2618 ,  Accuracy=72.2% +/- 0.0%  in 2501.7 seconds\n",
      "For parameter dim2 = 3298 ,  Accuracy=70.4% +/- 0.0%  in 3039.0 seconds\n",
      "For parameter dim2 = 4155 ,  Accuracy=69.6% +/- 0.0%  in 3738.6 seconds\n",
      "For parameter dim2 = 5236 ,  Accuracy=70.6% +/- 0.0%  in 4540.7 seconds\n",
      "scanning over bn2_bn_momentum = [0.         0.16666667 0.33333333 0.5        0.66666667 0.83333333\n",
      " 1.        ]\n",
      "For parameter bn2_bn_momentum = 0.000 ,  Accuracy=71.2% +/- 0.0%  in 2143.1 seconds\n",
      "For parameter bn2_bn_momentum = 0.167 ,  Accuracy=72.0% +/- 0.0%  in 2476.6 seconds\n",
      "For parameter bn2_bn_momentum = 0.333 ,  Accuracy=72.5% +/- 0.0%  in 2459.1 seconds\n",
      "For parameter bn2_bn_momentum = 0.500 ,  Accuracy=72.6% +/- 0.0%  in 2457.0 seconds\n",
      "For parameter bn2_bn_momentum = 0.667 ,  Accuracy=72.7% +/- 0.0%  in 2458.6 seconds\n",
      "For parameter bn2_bn_momentum = 0.833 ,  Accuracy=72.7% +/- 0.0%  in 2456.2 seconds\n",
      "For parameter bn2_bn_momentum = 1.000 ,  Accuracy=44.6% +/- 0.0%  in 2467.2 seconds\n",
      "scanning over p_dropout = [0.         0.16666667 0.33333333 0.5        0.66666667 0.83333333\n",
      " 1.        ]\n",
      "For parameter p_dropout = 0.000 ,  Accuracy=72.2% +/- 0.0%  in 2468.1 seconds\n",
      "For parameter p_dropout = 0.167 ,  Accuracy=72.2% +/- 0.1%  in 2582.5 seconds\n",
      "For parameter p_dropout = 0.333 ,  Accuracy=72.2% +/- 0.2%  in 2551.3 seconds\n",
      "For parameter p_dropout = 0.500 ,  Accuracy=69.9% +/- 0.2%  in 2555.4 seconds\n",
      "For parameter p_dropout = 0.667 ,  Accuracy=65.7% +/- 1.7%  in 2532.3 seconds\n",
      "For parameter p_dropout = 0.833 ,  Accuracy=45.1% +/- 0.1%  in 2559.9 seconds\n",
      "For parameter p_dropout = 1.000 ,  Accuracy=9.4% +/- 0.0%  in 2344.8 seconds\n",
      " parameter scan : learning \n",
      "--------------------------------------------------\n",
      "Using SGD\n",
      "--------------------------------------------------\n",
      "scanning over lr = [0.00353553 0.0039685  0.00445449 0.005      0.00561231 0.00629961\n",
      " 0.00707107]\n",
      "For parameter lr = 0.004 ,  Accuracy=72.6% +/- 0.0%  in 2480.4 seconds\n",
      "For parameter lr = 0.004 ,  Accuracy=72.6% +/- 0.0%  in 2480.4 seconds\n",
      "For parameter lr = 0.004 ,  Accuracy=72.6% +/- 0.0%  in 2480.4 seconds\n",
      "For parameter lr = 0.005 ,  Accuracy=72.2% +/- 0.0%  in 2501.8 seconds\n",
      "For parameter lr = 0.006 ,  Accuracy=69.2% +/- 0.0%  in 2547.8 seconds\n",
      "For parameter lr = 0.006 ,  Accuracy=69.2% +/- 0.0%  in 2547.8 seconds\n",
      "For parameter lr = 0.007 ,  Accuracy=70.5% +/- 0.0%  in 3110.6 seconds\n",
      "scanning over momentum = [0.07071068 0.07937005 0.08908987 0.1        0.1122462  0.1259921\n",
      " 0.14142136]\n",
      "For parameter momentum = 0.071 ,  Accuracy=70.3% +/- 0.0%  in 1949.7 seconds\n",
      "For parameter momentum = 0.079 ,  Accuracy=71.2% +/- 0.0%  in 2481.0 seconds\n",
      "For parameter momentum = 0.089 ,  Accuracy=72.0% +/- 0.0%  in 1949.4 seconds\n",
      "For parameter momentum = 0.100 ,  Accuracy=72.2% +/- 0.0%  in 2474.0 seconds\n",
      "For parameter momentum = 0.112 ,  Accuracy=73.1% +/- 0.0%  in 1975.9 seconds\n",
      "For parameter momentum = 0.126 ,  Accuracy=72.2% +/- 0.0%  in 2520.8 seconds\n",
      "For parameter momentum = 0.141 ,  Accuracy=72.3% +/- 0.0%  in 1984.8 seconds\n",
      "scanning over minibatch_size = [70, 79, 89, 100, 112, 125, 141]\n",
      "For parameter minibatch_size = 70 ,  Accuracy=72.2% +/- 0.0%  in 1949.8 seconds\n",
      "For parameter minibatch_size = 79 ,  Accuracy=72.2% +/- 0.0%  in 2497.0 seconds\n",
      "For parameter minibatch_size = 89 ,  Accuracy=72.2% +/- 0.0%  in 1952.2 seconds\n",
      "For parameter minibatch_size = 100 ,  Accuracy=72.2% +/- 0.0%  in 2499.6 seconds\n",
      "For parameter minibatch_size = 112 ,  Accuracy=72.2% +/- 0.0%  in 1948.9 seconds\n",
      "For parameter minibatch_size = 125 ,  Accuracy=72.2% +/- 0.0%  in 2501.8 seconds\n",
      "For parameter minibatch_size = 141 ,  Accuracy=72.2% +/- 0.0%  in 1951.9 seconds\n",
      "scanning over epochs = [17, 19, 22, 25, 28, 31, 35]\n",
      "For parameter epochs = 17 ,  Accuracy=73.3% +/- 0.0%  in 1292.5 seconds\n",
      "For parameter epochs = 19 ,  Accuracy=72.3% +/- 0.0%  in 1858.7 seconds\n",
      "For parameter epochs = 22 ,  Accuracy=72.1% +/- 0.0%  in 1715.8 seconds\n",
      "For parameter epochs = 25 ,  Accuracy=72.2% +/- 0.0%  in 2491.9 seconds\n",
      "For parameter epochs = 28 ,  Accuracy=69.7% +/- 0.0%  in 2256.7 seconds\n",
      "For parameter epochs = 31 ,  Accuracy=72.4% +/- 0.0%  in 3165.8 seconds\n",
      "For parameter epochs = 35 ,  Accuracy=71.3% +/- 0.0%  in 2907.2 seconds\n",
      "--------------------------------------------------\n",
      "Using ADAM\n",
      "--------------------------------------------------\n",
      "scanning over lr = [0.00353553 0.0039685  0.00445449 0.005      0.00561231 0.00629961\n",
      " 0.00707107]\n",
      "For parameter lr = 0.004 ,  Accuracy=72.6% +/- 0.0%  in 2436.9 seconds\n",
      "For parameter lr = 0.004 ,  Accuracy=72.6% +/- 0.0%  in 2436.9 seconds\n",
      "For parameter lr = 0.004 ,  Accuracy=72.6% +/- 0.0%  in 2436.9 seconds\n",
      "For parameter lr = 0.005 ,  Accuracy=72.2% +/- 0.0%  in 2462.9 seconds\n",
      "For parameter lr = 0.006 ,  Accuracy=69.2% +/- 0.0%  in 2518.4 seconds\n",
      "For parameter lr = 0.006 ,  Accuracy=69.2% +/- 0.0%  in 2518.4 seconds\n",
      "For parameter lr = 0.007 ,  Accuracy=70.5% +/- 0.0%  in 2049.4 seconds\n",
      "scanning over momentum = [0.07071068 0.07937005 0.08908987 0.1        0.1122462  0.1259921\n",
      " 0.14142136]\n",
      "For parameter momentum = 0.071 ,  Accuracy=70.3% +/- 0.0%  in 1984.3 seconds\n",
      "For parameter momentum = 0.079 ,  Accuracy=71.2% +/- 0.0%  in 2457.2 seconds\n",
      "For parameter momentum = 0.089 ,  Accuracy=72.0% +/- 0.0%  in 1973.9 seconds\n",
      "For parameter momentum = 0.100 ,  Accuracy=72.2% +/- 0.0%  in 2451.4 seconds\n",
      "For parameter momentum = 0.112 ,  Accuracy=73.1% +/- 0.0%  in 1992.5 seconds\n",
      "For parameter momentum = 0.126 ,  Accuracy=72.2% +/- 0.0%  in 2487.1 seconds\n",
      "For parameter momentum = 0.141 ,  "
     ]
    },
    {
     "name": "stderr",
     "output_type": "stream",
     "text": [
      "/usr/local/lib/python3.7/site-packages/scipy/stats/_continuous_distns.py:603: RuntimeWarning: divide by zero encountered in double_scalars\n",
      "  fac = xbar * (1 - xbar) / data.var(ddof=0) - 1\n",
      "/usr/local/lib/python3.7/site-packages/scipy/stats/_continuous_distns.py:452: RuntimeWarning: invalid value encountered in double_scalars\n",
      "  func = [s1 - n * (-psiab + sc.psi(a)),\n",
      "/usr/local/lib/python3.7/site-packages/scipy/stats/_continuous_distns.py:453: RuntimeWarning: invalid value encountered in double_scalars\n",
      "  s2 - n * (-psiab + sc.psi(b))]\n"
     ]
    },
    {
     "name": "stdout",
     "output_type": "stream",
     "text": [
      "Accuracy=72.3% +/- 0.0%  in 1993.9 seconds\n",
      "scanning over minibatch_size = [70, 79, 89, 100, 112, 125, 141]\n",
      "For parameter minibatch_size = 70 ,  Accuracy=72.2% +/- 0.0%  in 1952.4 seconds\n",
      "For parameter minibatch_size = 79 ,  Accuracy=72.2% +/- 0.0%  in 2447.9 seconds\n",
      "For parameter minibatch_size = 89 ,  Accuracy=72.2% +/- 0.0%  in 1951.8 seconds\n",
      "For parameter minibatch_size = 100 ,  Accuracy=72.2% +/- 0.0%  in 2449.6 seconds\n",
      "For parameter minibatch_size = 112 ,  Accuracy=72.2% +/- 0.0%  in 1986.1 seconds\n",
      "For parameter minibatch_size = 125 ,  Accuracy=72.2% +/- 0.0%  in 2484.2 seconds\n",
      "For parameter minibatch_size = 141 ,  Accuracy=72.2% +/- 0.0%  in 2105.1 seconds\n",
      "scanning over epochs = [17, 19, 22, 25, 28, 31, 35]\n",
      "For parameter epochs = 17 ,  Accuracy=73.3% +/- 0.0%  in 1304.1 seconds\n",
      "For parameter epochs = 19 ,  Accuracy=72.3% +/- 0.0%  in 2103.7 seconds\n",
      "For parameter epochs = 22 ,  Accuracy=72.1% +/- 0.0%  in 2062.5 seconds\n",
      "For parameter epochs = 25 ,  Accuracy=72.2% +/- 0.0%  in 3007.4 seconds\n",
      "For parameter epochs = 28 ,  Accuracy=69.7% +/- 0.0%  in 2985.7 seconds\n",
      "For parameter epochs = 31 ,  Accuracy=72.4% +/- 0.0%  in 4020.5 seconds\n",
      "For parameter epochs = 35 ,  Accuracy=71.3% +/- 0.0%  in 3742.2 seconds\n",
      "--------------------------------------------------\n",
      " parameter scan : retina\n",
      "--------------------------------------------------\n",
      "scanning over N_theta = [3, 3, 4, 6, 7, 9, 12]\n",
      "For parameter N_theta = 3 ,  Accuracy=68.3% +/- 0.8%  in 4363.5 seconds\n",
      "For parameter N_theta = 3 ,  Accuracy=68.3% +/- 0.8%  in 4363.5 seconds\n",
      "For parameter N_theta = 4 ,  Accuracy=72.3% +/- 1.0%  in 4815.7 seconds\n",
      "For parameter N_theta = 6 ,  Accuracy=72.2% +/- 0.0%  in 3392.1 seconds\n",
      "For parameter N_theta = 7 ,  Accuracy=71.0% +/- 1.3%  in 6717.0 seconds\n",
      "For parameter N_theta = 9 ,  Accuracy=71.4% +/- 0.3%  in 8048.3 seconds\n",
      "For parameter N_theta = 12 ,  Accuracy=70.9% +/- 0.8%  in 9625.0 seconds\n",
      "scanning over N_azimuth = [13, 16, 20, 26, 32, 41, 52]\n",
      "For parameter N_azimuth = 13 ,  Accuracy=65.7% +/- 0.2%  in 4602.5 seconds\n",
      "For parameter N_azimuth = 16 ,  Accuracy=67.6% +/- 0.0%  in 5041.9 seconds\n",
      "For parameter N_azimuth = 20 ,  Accuracy=70.7% +/- 0.7%  in 5451.4 seconds\n",
      "For parameter N_azimuth = 26 ,  Accuracy=72.2% +/- 0.0%  in 3546.9 seconds\n",
      "For parameter N_azimuth = 32 ,  Accuracy=71.3% +/- 0.6%  in 7347.1 seconds\n",
      "For parameter N_azimuth = 41 ,  Accuracy=57.2% +/- 3.4%  in 8875.0 seconds\n",
      "For parameter N_azimuth = 52 ,  Accuracy=14.7% +/- 0.6%  in 10785.3 seconds\n",
      "scanning over N_eccentricity = [5, 6, 7, 10, 12, 15, 20]\n",
      "For parameter N_eccentricity = 5 ,  Accuracy=56.4% +/- 0.1%  in 4600.3 seconds\n",
      "For parameter N_eccentricity = 6 ,  Accuracy=64.1% +/- 0.1%  in 5106.6 seconds\n",
      "For parameter N_eccentricity = 7 ,  Accuracy=67.5% +/- 0.2%  in 5549.0 seconds\n",
      "For parameter N_eccentricity = 10 ,  Accuracy=72.2% +/- 0.0%  in 3691.6 seconds\n",
      "For parameter N_eccentricity = 12 ,  Accuracy=15.9% +/- 0.8%  in 7800.4 seconds\n",
      "For parameter N_eccentricity = 15 ,  Accuracy=11.9% +/- 0.3%  in 8633.6 seconds\n",
      "For parameter N_eccentricity = 20 ,  Accuracy=10.8% +/- 0.0%  in 10841.6 seconds\n",
      "scanning over rho = [0.705      0.88824434 1.11911774 1.41       1.77648868 2.23823548\n",
      " 2.82      ]\n",
      "For parameter rho = 0.705 ,  Accuracy=9.4% +/- 0.5%  in 6499.0 seconds\n",
      "For parameter rho = 0.888 ,  Accuracy=10.1% +/- 0.1%  in 6506.2 seconds\n",
      "For parameter rho = 1.119 ,  Accuracy=49.3% +/- 0.7%  in 6538.0 seconds\n",
      "For parameter rho = 1.410 ,  Accuracy=72.2% +/- 0.0%  in 3852.7 seconds\n",
      "For parameter rho = 1.776 ,  Accuracy=13.8% +/- 0.1%  in 6691.0 seconds\n",
      "For parameter rho = 2.238 ,  Accuracy=12.9% +/- 0.1%  in 6583.0 seconds\n",
      "For parameter rho = 2.820 ,  Accuracy=12.8% +/- 1.4%  in 6475.0 seconds\n",
      "--------------------------------------------------\n",
      " base= 2\n",
      "--------------------------------------------------\n",
      "--------------------------------------------------\n",
      " parameter scan : data\n",
      "--------------------------------------------------\n",
      "scanning over sf_0 = [0.1        0.1259921  0.15874011 0.2        0.25198421 0.31748021\n",
      " 0.4       ]\n",
      "For parameter sf_0 = 0.100 ,  Accuracy=57.2% +/- 0.9%  in 6755.1 seconds\n",
      "For parameter sf_0 = 0.126 ,  Accuracy=63.4% +/- 0.4%  in 6695.6 seconds\n",
      "For parameter sf_0 = 0.159 ,  Accuracy=67.9% +/- 0.4%  in 6574.6 seconds\n",
      "For parameter sf_0 = 0.200 ,  Accuracy=72.2% +/- 0.0%  in 4148.1 seconds\n",
      "For parameter sf_0 = 0.252 ,  Accuracy=75.9% +/- 0.6%  in 6519.4 seconds\n",
      "For parameter sf_0 = 0.317 ,  Accuracy=78.1% +/- 0.8%  in 6533.5 seconds\n",
      "For parameter sf_0 = 0.400 ,  Accuracy=79.6% +/- 0.4%  in 6393.2 seconds\n",
      "scanning over B_sf = [0.04       0.05039684 0.06349604 0.08       0.10079368 0.12699208\n",
      " 0.16      ]\n",
      "For parameter B_sf = 0.040 ,  Accuracy=72.1% +/- 0.3%  in 6443.7 seconds\n",
      "For parameter B_sf = 0.050 ,  Accuracy=72.9% +/- 0.0%  in 6436.5 seconds\n",
      "For parameter B_sf = 0.063 ,  Accuracy=71.7% +/- 0.3%  in 5915.7 seconds\n",
      "For parameter B_sf = 0.080 ,  Accuracy=72.2% +/- 0.0%  in 3068.1 seconds\n",
      "For parameter B_sf = 0.101 ,  Accuracy=71.3% +/- 0.8%  in 5962.4 seconds\n",
      "For parameter B_sf = 0.127 ,  Accuracy=71.4% +/- 0.2%  in 6686.8 seconds\n",
      "For parameter B_sf = 0.160 ,  Accuracy=71.7% +/- 0.4%  in 6753.8 seconds\n",
      "scanning over offset_std = [15, 18, 23, 30, 37, 47, 60]\n",
      "For parameter offset_std = 15 ,  Accuracy=78.9% +/- 0.3%  in 6849.6 seconds\n",
      "For parameter offset_std = 18 ,  Accuracy=77.4% +/- 0.1%  in 6781.3 seconds\n",
      "For parameter offset_std = 23 ,  Accuracy=74.6% +/- 1.2%  in 6729.4 seconds\n",
      "For parameter offset_std = 30 ,  Accuracy=72.2% +/- 0.0%  in 4253.2 seconds\n",
      "For parameter offset_std = 37 ,  Accuracy=68.3% +/- 0.6%  in 6557.0 seconds\n",
      "For parameter offset_std = 47 ,  Accuracy=64.9% +/- 0.2%  in 6492.8 seconds\n",
      "For parameter offset_std = 60 ,  Accuracy=61.1% +/- 0.7%  in 6295.5 seconds\n",
      "scanning over noise = [0.25       0.31498026 0.39685026 0.5        0.62996052 0.79370053\n",
      " 1.        ]\n",
      "For parameter noise = 0.250 ,  Accuracy=77.5% +/- 0.2%  in 5653.5 seconds\n",
      "For parameter noise = 0.315 ,  Accuracy=78.4% +/- 0.2%  in 5646.8 seconds\n",
      "For parameter noise = 0.397 ,  Accuracy=75.8% +/- 0.2%  in 5765.6 seconds\n",
      "For parameter noise = 0.500 ,  Accuracy=72.2% +/- 0.0%  in 3930.0 seconds\n",
      "For parameter noise = 0.630 ,  Accuracy=64.1% +/- 0.7%  in 6173.5 seconds\n",
      "For parameter noise = 0.794 ,  Accuracy=53.7% +/- 0.1%  in 6207.1 seconds\n",
      "For parameter noise = 1.000 ,  Accuracy=41.6% +/- 0.3%  in 6217.8 seconds\n",
      "scanning over contrast = [0.25       0.31498026 0.39685026 0.5        0.62996052 0.79370053\n",
      " 1.        ]\n",
      "For parameter contrast = 0.250 ,  Accuracy=38.8% +/- 0.1%  in 6224.5 seconds\n",
      "For parameter contrast = 0.315 ,  Accuracy=52.1% +/- 0.2%  in 6184.3 seconds\n",
      "For parameter contrast = 0.397 ,  Accuracy=63.6% +/- 0.4%  in 6147.5 seconds\n",
      "For parameter contrast = 0.500 ,  Accuracy=72.2% +/- 0.0%  in 3938.2 seconds\n",
      "For parameter contrast = 0.630 ,  Accuracy=74.7% +/- 0.5%  in 5044.7 seconds\n",
      "For parameter contrast = 0.794 ,  Accuracy=78.1% +/- 0.3%  in 4970.0 seconds\n",
      "For parameter contrast = 1.000 ,  Accuracy=80.1% +/- 0.1%  in 4514.6 seconds\n",
      "--------------------------------------------------\n",
      " parameter scan : network\n",
      "--------------------------------------------------\n",
      "scanning over dim1 = [191, 240, 303, 382, 481, 606, 764]\n",
      "For parameter dim1 = 191 ,  Accuracy=72.7% +/- 0.0%  in 2159.0 seconds\n",
      "For parameter dim1 = 240 ,  Accuracy=72.0% +/- 0.0%  in 2231.2 seconds\n",
      "For parameter dim1 = 303 ,  Accuracy=72.6% +/- 0.0%  in 2280.7 seconds\n",
      "For parameter dim1 = 382 ,  Accuracy=72.2% +/- 0.0%  in 2534.1 seconds\n",
      "For parameter dim1 = 481 ,  Accuracy=71.8% +/- 0.0%  in 2995.0 seconds\n",
      "For parameter dim1 = 606 ,  Accuracy=71.7% +/- 0.0%  in 3390.9 seconds\n",
      "For parameter dim1 = 764 ,  Accuracy=71.7% +/- 0.0%  in 3750.9 seconds\n",
      "scanning over bn1_bn_momentum = [0.         0.16666667 0.33333333 0.5        0.66666667 0.83333333\n",
      " 1.        ]\n",
      "For parameter bn1_bn_momentum = 0.000 ,  Accuracy=68.3% +/- 0.0%  in 3007.0 seconds\n",
      "For parameter bn1_bn_momentum = 0.167 ,  Accuracy=72.0% +/- 0.0%  in 2532.3 seconds\n",
      "For parameter bn1_bn_momentum = 0.333 ,  Accuracy=72.3% +/- 0.0%  in 2537.7 seconds\n",
      "For parameter bn1_bn_momentum = 0.500 ,  Accuracy=72.2% +/- 0.0%  in 2521.2 seconds\n",
      "For parameter bn1_bn_momentum = 0.667 ,  Accuracy=72.4% +/- 0.0%  in 2527.5 seconds\n",
      "For parameter bn1_bn_momentum = 0.833 ,  Accuracy=72.4% +/- 0.0%  in 2532.4 seconds\n",
      "For parameter bn1_bn_momentum = 1.000 ,  Accuracy=16.8% +/- 0.0%  in 2519.6 seconds\n",
      "scanning over dim2 = [1309, 1649, 2077, 2618, 3298, 4155, 5236]\n",
      "For parameter dim2 = 1309 ,  Accuracy=72.6% +/- 0.0%  in 1735.8 seconds\n",
      "For parameter dim2 = 1649 ,  Accuracy=71.9% +/- 0.0%  in 2045.3 seconds\n",
      "For parameter dim2 = 2077 ,  Accuracy=70.7% +/- 0.0%  in 2389.6 seconds\n",
      "For parameter dim2 = 2618 ,  Accuracy=72.2% +/- 0.0%  in 2501.7 seconds\n",
      "For parameter dim2 = 3298 ,  Accuracy=70.4% +/- 0.0%  in 3039.0 seconds\n",
      "For parameter dim2 = 4155 ,  Accuracy=69.6% +/- 0.0%  in 3738.6 seconds\n",
      "For parameter dim2 = 5236 ,  Accuracy=70.6% +/- 0.0%  in 4540.7 seconds\n",
      "scanning over bn2_bn_momentum = [0.         0.16666667 0.33333333 0.5        0.66666667 0.83333333\n",
      " 1.        ]\n",
      "For parameter bn2_bn_momentum = 0.000 ,  Accuracy=71.2% +/- 0.0%  in 2143.1 seconds\n",
      "For parameter bn2_bn_momentum = 0.167 ,  Accuracy=72.0% +/- 0.0%  in 2476.6 seconds\n",
      "For parameter bn2_bn_momentum = 0.333 ,  Accuracy=72.5% +/- 0.0%  in 2459.1 seconds\n",
      "For parameter bn2_bn_momentum = 0.500 ,  Accuracy=72.6% +/- 0.0%  in 2457.0 seconds\n",
      "For parameter bn2_bn_momentum = 0.667 ,  Accuracy=72.7% +/- 0.0%  in 2458.6 seconds\n",
      "For parameter bn2_bn_momentum = 0.833 ,  Accuracy=72.7% +/- 0.0%  in 2456.2 seconds\n",
      "For parameter bn2_bn_momentum = 1.000 ,  Accuracy=44.6% +/- 0.0%  in 2467.2 seconds\n",
      "scanning over p_dropout = [0.         0.16666667 0.33333333 0.5        0.66666667 0.83333333\n",
      " 1.        ]\n",
      "For parameter p_dropout = 0.000 ,  Accuracy=72.2% +/- 0.0%  in 2468.1 seconds\n",
      "For parameter p_dropout = 0.167 ,  Accuracy=72.2% +/- 0.1%  in 2582.5 seconds\n",
      "For parameter p_dropout = 0.333 ,  Accuracy=72.2% +/- 0.2%  in 2551.3 seconds\n",
      "For parameter p_dropout = 0.500 ,  Accuracy=69.9% +/- 0.2%  in 2555.4 seconds\n",
      "For parameter p_dropout = 0.667 ,  Accuracy=65.7% +/- 1.7%  in 2532.3 seconds\n",
      "For parameter p_dropout = 0.833 ,  Accuracy=45.1% +/- 0.1%  in 2559.9 seconds\n",
      "For parameter p_dropout = 1.000 ,  Accuracy=9.4% +/- 0.0%  in 2344.8 seconds\n",
      " parameter scan : learning \n",
      "--------------------------------------------------\n",
      "Using SGD\n",
      "--------------------------------------------------\n",
      "scanning over lr = [0.0025     0.0031498  0.0039685  0.005      0.00629961 0.00793701\n",
      " 0.01      ]\n",
      "For parameter lr = 0.003 ,  Accuracy=73.4% +/- 0.0%  in 2382.8 seconds\n",
      "For parameter lr = 0.003 ,  Accuracy=73.4% +/- 0.0%  in 2382.8 seconds\n",
      "For parameter lr = 0.004 ,  Accuracy=72.6% +/- 0.0%  in 2480.4 seconds\n",
      "For parameter lr = 0.005 ,  Accuracy=72.2% +/- 0.0%  in 2501.8 seconds\n",
      "For parameter lr = 0.006 ,  Accuracy=69.2% +/- 0.0%  in 2547.8 seconds\n",
      "For parameter lr = 0.008 ,  Accuracy=69.9% +/- 0.0%  in 2623.0 seconds\n",
      "For parameter lr = 0.010 ,  Accuracy=64.7% +/- 0.0%  in 2660.7 seconds\n",
      "scanning over momentum = [0.05       0.06299605 0.07937005 0.1        0.1259921  0.15874011\n",
      " 0.2       ]\n",
      "For parameter momentum = 0.050 ,  Accuracy=69.8% +/- 0.0%  in 2480.7 seconds\n",
      "For parameter momentum = 0.063 ,  Accuracy=72.2% +/- 0.0%  in 2494.4 seconds\n",
      "For parameter momentum = 0.079 ,  Accuracy=71.2% +/- 0.0%  in 2481.0 seconds\n",
      "For parameter momentum = 0.100 ,  Accuracy=72.2% +/- 0.0%  in 2474.0 seconds\n",
      "For parameter momentum = 0.126 ,  Accuracy=72.2% +/- 0.0%  in 2520.8 seconds\n",
      "For parameter momentum = 0.159 ,  Accuracy=73.1% +/- 0.0%  in 2519.6 seconds\n",
      "For parameter momentum = 0.200 ,  Accuracy=72.4% +/- 0.0%  in 2550.2 seconds\n",
      "scanning over minibatch_size = [50, 62, 79, 100, 125, 158, 200]\n",
      "For parameter minibatch_size = 50 ,  Accuracy=72.2% +/- 0.0%  in 2482.4 seconds\n",
      "For parameter minibatch_size = 62 ,  Accuracy=72.2% +/- 0.0%  in 2496.3 seconds\n",
      "For parameter minibatch_size = 79 ,  Accuracy=72.2% +/- 0.0%  in 2497.0 seconds\n",
      "For parameter minibatch_size = 100 ,  Accuracy=72.2% +/- 0.0%  in 2499.6 seconds\n",
      "For parameter minibatch_size = 125 ,  Accuracy=72.2% +/- 0.0%  in 2501.8 seconds\n",
      "For parameter minibatch_size = 158 ,  Accuracy=72.2% +/- 0.0%  in 2497.3 seconds\n",
      "For parameter minibatch_size = 200 ,  Accuracy=72.2% +/- 0.0%  in 2503.5 seconds\n",
      "scanning over epochs = [12, 15, 19, 25, 31, 39, 50]\n",
      "For parameter epochs = 12 ,  Accuracy=72.3% +/- 0.0%  in 1153.4 seconds\n",
      "For parameter epochs = 15 ,  Accuracy=72.5% +/- 0.0%  in 1450.8 seconds\n",
      "For parameter epochs = 19 ,  Accuracy=72.3% +/- 0.0%  in 1858.7 seconds\n",
      "For parameter epochs = 25 ,  Accuracy=72.2% +/- 0.0%  in 2491.9 seconds\n",
      "For parameter epochs = 31 ,  Accuracy=72.4% +/- 0.0%  in 3165.8 seconds\n",
      "For parameter epochs = 39 ,  Accuracy=71.4% +/- 0.0%  in 4079.3 seconds\n",
      "For parameter epochs = 50 ,  Accuracy=71.2% +/- 0.0%  in 5402.9 seconds\n",
      "--------------------------------------------------\n",
      "Using ADAM\n",
      "--------------------------------------------------\n",
      "scanning over lr = [0.0025     0.0031498  0.0039685  0.005      0.00629961 0.00793701\n",
      " 0.01      ]\n",
      "For parameter lr = 0.003 ,  Accuracy=73.4% +/- 0.0%  in 2349.9 seconds\n",
      "For parameter lr = 0.003 ,  Accuracy=73.4% +/- 0.0%  in 2349.9 seconds\n",
      "For parameter lr = 0.004 ,  Accuracy=72.6% +/- 0.0%  in 2436.9 seconds\n",
      "For parameter lr = 0.005 ,  Accuracy=72.2% +/- 0.0%  in 2462.9 seconds\n",
      "For parameter lr = 0.006 ,  Accuracy=69.2% +/- 0.0%  in 2518.4 seconds\n",
      "For parameter lr = 0.008 ,  Accuracy=69.9% +/- 0.0%  in 2591.6 seconds\n",
      "For parameter lr = 0.010 ,  Accuracy=64.7% +/- 0.0%  in 2628.0 seconds\n",
      "scanning over momentum = [0.05       0.06299605 0.07937005 0.1        0.1259921  0.15874011\n",
      " 0.2       ]\n",
      "For parameter momentum = 0.050 ,  Accuracy=69.8% +/- 0.0%  in 2449.8 seconds\n",
      "For parameter momentum = 0.063 ,  Accuracy=72.2% +/- 0.0%  in 2469.3 seconds\n",
      "For parameter momentum = 0.079 ,  Accuracy=71.2% +/- 0.0%  in 2457.2 seconds\n",
      "For parameter momentum = 0.100 ,  Accuracy=72.2% +/- 0.0%  in 2451.4 seconds\n",
      "For parameter momentum = 0.126 ,  Accuracy=72.2% +/- 0.0%  in 2487.1 seconds\n",
      "For parameter momentum = 0.159 ,  Accuracy=73.1% +/- 0.0%  in 2492.1 seconds\n",
      "For parameter momentum = 0.200 ,  Accuracy=72.4% +/- 0.0%  in 2523.6 seconds\n",
      "scanning over minibatch_size = [50, 62, 79, 100, 125, 158, 200]\n",
      "For parameter minibatch_size = 50 ,  Accuracy=72.2% +/- 0.0%  in 2448.8 seconds\n",
      "For parameter minibatch_size = 62 ,  Accuracy=72.2% +/- 0.0%  in 2578.2 seconds\n",
      "For parameter minibatch_size = 79 ,  Accuracy=72.2% +/- 0.0%  in 2447.9 seconds\n",
      "For parameter minibatch_size = 100 ,  Accuracy=72.2% +/- 0.0%  in 2449.6 seconds\n",
      "For parameter minibatch_size = 125 ,  Accuracy=72.2% +/- 0.0%  in 2484.2 seconds\n",
      "For parameter minibatch_size = 158 ,  Accuracy=72.2% +/- 0.0%  in 2799.5 seconds\n",
      "For parameter minibatch_size = 200 ,  Accuracy=72.2% +/- 0.0%  in 2799.6 seconds\n",
      "scanning over epochs = [12, 15, 19, 25, 31, 39, 50]\n",
      "For parameter epochs = 12 ,  Accuracy=72.3% +/- 0.0%  in 1143.6 seconds\n",
      "For parameter epochs = 15 ,  Accuracy=72.5% +/- 0.0%  in 1514.8 seconds\n",
      "For parameter epochs = 19 ,  Accuracy=72.3% +/- 0.0%  in 2103.7 seconds\n",
      "For parameter epochs = 25 ,  Accuracy=72.2% +/- 0.0%  in 3007.4 seconds\n",
      "For parameter epochs = 31 ,  Accuracy=72.4% +/- 0.0%  in 4020.5 seconds\n",
      "For parameter epochs = 39 ,  Accuracy=71.4% +/- 0.0%  in 5339.9 seconds\n",
      "For parameter epochs = 50 ,  Accuracy=71.2% +/- 0.0%  in 7933.5 seconds\n",
      "--------------------------------------------------\n",
      " parameter scan : retina\n",
      "--------------------------------------------------\n",
      "scanning over N_theta = [3, 3, 4, 6, 7, 9, 12]\n",
      "For parameter N_theta = 3 ,  Accuracy=68.3% +/- 0.8%  in 4363.5 seconds\n",
      "For parameter N_theta = 3 ,  Accuracy=68.3% +/- 0.8%  in 4363.5 seconds\n",
      "For parameter N_theta = 4 ,  Accuracy=72.3% +/- 1.0%  in 4815.7 seconds\n",
      "For parameter N_theta = 6 ,  Accuracy=72.2% +/- 0.0%  in 3392.1 seconds\n",
      "For parameter N_theta = 7 ,  Accuracy=71.0% +/- 1.3%  in 6717.0 seconds\n",
      "For parameter N_theta = 9 ,  Accuracy=71.4% +/- 0.3%  in 8048.3 seconds\n",
      "For parameter N_theta = 12 ,  Accuracy=70.9% +/- 0.8%  in 9625.0 seconds\n",
      "scanning over N_azimuth = [13, 16, 20, 26, 32, 41, 52]\n",
      "For parameter N_azimuth = 13 ,  Accuracy=65.7% +/- 0.2%  in 4602.5 seconds\n",
      "For parameter N_azimuth = 16 ,  Accuracy=67.6% +/- 0.0%  in 5041.9 seconds\n",
      "For parameter N_azimuth = 20 ,  Accuracy=70.7% +/- 0.7%  in 5451.4 seconds\n",
      "For parameter N_azimuth = 26 ,  Accuracy=72.2% +/- 0.0%  in 3546.9 seconds\n",
      "For parameter N_azimuth = 32 ,  Accuracy=71.3% +/- 0.6%  in 7347.1 seconds\n",
      "For parameter N_azimuth = 41 ,  Accuracy=57.2% +/- 3.4%  in 8875.0 seconds\n",
      "For parameter N_azimuth = 52 ,  Accuracy=14.7% +/- 0.6%  in 10785.3 seconds\n",
      "scanning over N_eccentricity = [5, 6, 7, 10, 12, 15, 20]\n",
      "For parameter N_eccentricity = 5 ,  Accuracy=56.4% +/- 0.1%  in 4600.3 seconds\n",
      "For parameter N_eccentricity = 6 ,  Accuracy=64.1% +/- 0.1%  in 5106.6 seconds\n",
      "For parameter N_eccentricity = 7 ,  Accuracy=67.5% +/- 0.2%  in 5549.0 seconds\n",
      "For parameter N_eccentricity = 10 ,  Accuracy=72.2% +/- 0.0%  in 3691.6 seconds\n",
      "For parameter N_eccentricity = 12 ,  Accuracy=15.9% +/- 0.8%  in 7800.4 seconds\n",
      "For parameter N_eccentricity = 15 ,  Accuracy=11.9% +/- 0.3%  in 8633.6 seconds\n",
      "For parameter N_eccentricity = 20 ,  Accuracy=10.8% +/- 0.0%  in 10841.6 seconds\n",
      "scanning over rho = [0.705      0.88824434 1.11911774 1.41       1.77648868 2.23823548\n",
      " 2.82      ]\n",
      "For parameter rho = 0.705 ,  Accuracy=9.4% +/- 0.5%  in 6499.0 seconds\n",
      "For parameter rho = 0.888 ,  Accuracy=10.1% +/- 0.1%  in 6506.2 seconds\n",
      "For parameter rho = 1.119 ,  Accuracy=49.3% +/- 0.7%  in 6538.0 seconds\n",
      "For parameter rho = 1.410 ,  Accuracy=72.2% +/- 0.0%  in 3852.7 seconds\n",
      "For parameter rho = 1.776 ,  Accuracy=13.8% +/- 0.1%  in 6691.0 seconds\n",
      "For parameter rho = 2.238 ,  Accuracy=12.9% +/- 0.1%  in 6583.0 seconds\n",
      "For parameter rho = 2.820 ,  Accuracy=12.8% +/- 1.4%  in 6475.0 seconds\n",
      "--------------------------------------------------\n",
      " base= 2.8284271247461903\n",
      "--------------------------------------------------\n",
      "--------------------------------------------------\n",
      " parameter scan : data\n",
      "--------------------------------------------------\n",
      "scanning over sf_0 = [0.07071068 0.1        0.14142136 0.2        0.28284271 0.4\n",
      " 0.56568542]\n",
      "For parameter sf_0 = 0.071 ,  Accuracy=37.8% +/- 0.2%  in 4386.3 seconds\n",
      "For parameter sf_0 = 0.100 ,  Accuracy=57.2% +/- 0.9%  in 6755.1 seconds\n",
      "For parameter sf_0 = 0.141 ,  Accuracy=65.8% +/- 0.2%  in 5378.1 seconds\n",
      "For parameter sf_0 = 0.200 ,  Accuracy=72.2% +/- 0.0%  in 4148.1 seconds\n",
      "For parameter sf_0 = 0.283 ,  Accuracy=77.5% +/- 0.6%  in 5352.4 seconds\n",
      "For parameter sf_0 = 0.400 ,  Accuracy=79.6% +/- 0.4%  in 6393.2 seconds\n",
      "For parameter sf_0 = 0.566 ,  Accuracy=79.8% +/- 0.2%  in 4175.8 seconds\n",
      "scanning over B_sf = [0.02828427 0.04       0.05656854 0.08       0.11313708 0.16\n",
      " 0.22627417]\n",
      "For parameter B_sf = 0.028 ,  Accuracy=73.0% +/- 0.5%  in 4296.4 seconds\n",
      "For parameter B_sf = 0.040 ,  Accuracy=72.1% +/- 0.3%  in 6443.7 seconds\n",
      "For parameter B_sf = 0.057 ,  Accuracy=72.2% +/- 0.3%  in 5377.6 seconds\n",
      "For parameter B_sf = 0.080 ,  Accuracy=72.2% +/- 0.0%  in 3068.1 seconds\n",
      "For parameter B_sf = 0.113 ,  Accuracy=71.8% +/- 0.7%  in 4952.8 seconds\n",
      "For parameter B_sf = 0.160 ,  Accuracy=71.7% +/- 0.4%  in 6753.8 seconds\n",
      "For parameter B_sf = 0.226 ,  Accuracy=70.1% +/- 0.7%  in 4394.6 seconds\n",
      "scanning over offset_std = [10, 14, 21, 30, 42, 59, 84]\n",
      "For parameter offset_std = 10 ,  Accuracy=80.0% +/- 0.3%  in 4364.0 seconds\n",
      "For parameter offset_std = 14 ,  Accuracy=78.7% +/- 0.1%  in 4208.6 seconds\n",
      "For parameter offset_std = 21 ,  Accuracy=76.1% +/- 0.4%  in 4986.6 seconds\n",
      "For parameter offset_std = 30 ,  Accuracy=72.2% +/- 0.0%  in 4253.2 seconds\n",
      "For parameter offset_std = 42 ,  Accuracy=66.2% +/- 0.8%  in 4839.3 seconds\n",
      "For parameter offset_std = 59 ,  Accuracy=61.9% +/- 0.2%  in 4057.2 seconds\n",
      "For parameter offset_std = 84 ,  Accuracy=57.8% +/- 0.1%  in 4055.0 seconds\n",
      "scanning over noise = [0.1767767  0.25       0.35355339 0.5        0.70710678 1.\n",
      " 1.41421356]\n",
      "For parameter noise = 0.177 ,  Accuracy=81.1% +/- 0.8%  in 4103.7 seconds\n",
      "For parameter noise = 0.250 ,  Accuracy=77.5% +/- 0.2%  in 5653.5 seconds\n",
      "For parameter noise = 0.354 ,  Accuracy=77.3% +/- 1.0%  in 4849.9 seconds\n",
      "For parameter noise = 0.500 ,  Accuracy=72.2% +/- 0.0%  in 3930.0 seconds\n",
      "For parameter noise = 0.707 ,  Accuracy=58.7% +/- 0.2%  in 4536.6 seconds\n",
      "For parameter noise = 1.000 ,  Accuracy=41.6% +/- 0.3%  in 6217.8 seconds\n",
      "For parameter noise = 1.414 ,  Accuracy=26.9% +/- 0.1%  in 4231.2 seconds\n",
      "scanning over contrast = [0.1767767  0.25       0.35355339 0.5        0.70710678 1.\n",
      " 1.41421356]\n",
      "For parameter contrast = 0.177 ,  Accuracy=23.7% +/- 0.3%  in 4039.6 seconds\n",
      "For parameter contrast = 0.250 ,  Accuracy=38.8% +/- 0.1%  in 6224.5 seconds\n",
      "For parameter contrast = 0.354 ,  Accuracy=57.7% +/- 0.3%  in 4544.9 seconds\n",
      "For parameter contrast = 0.500 ,  Accuracy=72.2% +/- 0.0%  in 3938.2 seconds\n",
      "For parameter contrast = 0.707 ,  Accuracy=77.6% +/- 1.3%  in 4456.9 seconds\n",
      "For parameter contrast = 1.000 ,  Accuracy=80.1% +/- 0.1%  in 4514.6 seconds\n",
      "For parameter contrast = 1.414 ,  Accuracy=80.6% +/- 0.6%  in 3583.8 seconds\n",
      "--------------------------------------------------\n",
      " parameter scan : network\n",
      "--------------------------------------------------\n",
      "scanning over dim1 = [191, 240, 303, 382, 481, 606, 764]\n",
      "For parameter dim1 = 191 ,  Accuracy=72.7% +/- 0.0%  in 2159.0 seconds\n",
      "For parameter dim1 = 240 ,  Accuracy=72.0% +/- 0.0%  in 2231.2 seconds\n",
      "For parameter dim1 = 303 ,  Accuracy=72.6% +/- 0.0%  in 2280.7 seconds\n",
      "For parameter dim1 = 382 ,  Accuracy=72.2% +/- 0.0%  in 2534.1 seconds\n",
      "For parameter dim1 = 481 ,  Accuracy=71.8% +/- 0.0%  in 2995.0 seconds\n",
      "For parameter dim1 = 606 ,  Accuracy=71.7% +/- 0.0%  in 3390.9 seconds\n",
      "For parameter dim1 = 764 ,  Accuracy=71.7% +/- 0.0%  in 3750.9 seconds\n",
      "scanning over bn1_bn_momentum = [0.         0.16666667 0.33333333 0.5        0.66666667 0.83333333\n",
      " 1.        ]\n",
      "For parameter bn1_bn_momentum = 0.000 ,  Accuracy=68.3% +/- 0.0%  in 3007.0 seconds\n",
      "For parameter bn1_bn_momentum = 0.167 ,  Accuracy=72.0% +/- 0.0%  in 2532.3 seconds\n",
      "For parameter bn1_bn_momentum = 0.333 ,  Accuracy=72.3% +/- 0.0%  in 2537.7 seconds\n",
      "For parameter bn1_bn_momentum = 0.500 ,  Accuracy=72.2% +/- 0.0%  in 2521.2 seconds\n",
      "For parameter bn1_bn_momentum = 0.667 ,  Accuracy=72.4% +/- 0.0%  in 2527.5 seconds\n",
      "For parameter bn1_bn_momentum = 0.833 ,  Accuracy=72.4% +/- 0.0%  in 2532.4 seconds\n",
      "For parameter bn1_bn_momentum = 1.000 ,  Accuracy=16.8% +/- 0.0%  in 2519.6 seconds\n",
      "scanning over dim2 = [1309, 1649, 2077, 2618, 3298, 4155, 5236]\n",
      "For parameter dim2 = 1309 ,  Accuracy=72.6% +/- 0.0%  in 1735.8 seconds\n",
      "For parameter dim2 = 1649 ,  Accuracy=71.9% +/- 0.0%  in 2045.3 seconds\n",
      "For parameter dim2 = 2077 ,  Accuracy=70.7% +/- 0.0%  in 2389.6 seconds\n",
      "For parameter dim2 = 2618 ,  Accuracy=72.2% +/- 0.0%  in 2501.7 seconds\n",
      "For parameter dim2 = 3298 ,  Accuracy=70.4% +/- 0.0%  in 3039.0 seconds\n",
      "For parameter dim2 = 4155 ,  Accuracy=69.6% +/- 0.0%  in 3738.6 seconds\n",
      "For parameter dim2 = 5236 ,  Accuracy=70.6% +/- 0.0%  in 4540.7 seconds\n",
      "scanning over bn2_bn_momentum = [0.         0.16666667 0.33333333 0.5        0.66666667 0.83333333\n",
      " 1.        ]\n",
      "For parameter bn2_bn_momentum = 0.000 ,  Accuracy=71.2% +/- 0.0%  in 2143.1 seconds\n",
      "For parameter bn2_bn_momentum = 0.167 ,  Accuracy=72.0% +/- 0.0%  in 2476.6 seconds\n",
      "For parameter bn2_bn_momentum = 0.333 ,  Accuracy=72.5% +/- 0.0%  in 2459.1 seconds\n",
      "For parameter bn2_bn_momentum = 0.500 ,  Accuracy=72.6% +/- 0.0%  in 2457.0 seconds\n",
      "For parameter bn2_bn_momentum = 0.667 ,  Accuracy=72.7% +/- 0.0%  in 2458.6 seconds\n",
      "For parameter bn2_bn_momentum = 0.833 ,  Accuracy=72.7% +/- 0.0%  in 2456.2 seconds\n",
      "For parameter bn2_bn_momentum = 1.000 ,  Accuracy=44.6% +/- 0.0%  in 2467.2 seconds\n",
      "scanning over p_dropout = [0.         0.16666667 0.33333333 0.5        0.66666667 0.83333333\n",
      " 1.        ]\n",
      "For parameter p_dropout = 0.000 ,  Accuracy=72.2% +/- 0.0%  in 2468.1 seconds\n",
      "For parameter p_dropout = 0.167 ,  Accuracy=72.2% +/- 0.1%  in 2582.5 seconds\n",
      "For parameter p_dropout = 0.333 ,  Accuracy=72.2% +/- 0.2%  in 2551.3 seconds\n",
      "For parameter p_dropout = 0.500 ,  Accuracy=69.9% +/- 0.2%  in 2555.4 seconds\n",
      "For parameter p_dropout = 0.667 ,  Accuracy=65.7% +/- 1.7%  in 2532.3 seconds\n",
      "For parameter p_dropout = 0.833 ,  Accuracy=45.1% +/- 0.1%  in 2559.9 seconds\n",
      "For parameter p_dropout = 1.000 ,  Accuracy=9.4% +/- 0.0%  in 2344.8 seconds\n",
      " parameter scan : learning \n",
      "--------------------------------------------------\n",
      "Using SGD\n",
      "--------------------------------------------------\n",
      "scanning over lr = [0.00176777 0.0025     0.00353553 0.005      0.00707107 0.01\n",
      " 0.01414214]\n",
      "For parameter lr = 0.002 ,  Accuracy=73.3% +/- 0.0%  in 2620.5 seconds\n",
      "For parameter lr = 0.002 ,  Accuracy=73.3% +/- 0.0%  in 2620.5 seconds\n",
      "For parameter lr = 0.004 ,  Accuracy=72.6% +/- 0.0%  in 2480.4 seconds\n",
      "For parameter lr = 0.005 ,  Accuracy=72.2% +/- 0.0%  in 2501.8 seconds\n",
      "For parameter lr = 0.007 ,  Accuracy=70.5% +/- 0.0%  in 3110.6 seconds\n",
      "For parameter lr = 0.010 ,  Accuracy=64.7% +/- 0.0%  in 2660.7 seconds\n",
      "For parameter lr = 0.014 ,  Accuracy=35.2% +/- 0.0%  in 2200.0 seconds\n",
      "scanning over momentum = [0.03535534 0.05       0.07071068 0.1        0.14142136 0.2\n",
      " 0.28284271]\n",
      "For parameter momentum = 0.035 ,  Accuracy=62.7% +/- 0.0%  in 1935.7 seconds\n",
      "For parameter momentum = 0.050 ,  Accuracy=69.8% +/- 0.0%  in 2480.7 seconds\n",
      "For parameter momentum = 0.071 ,  Accuracy=70.3% +/- 0.0%  in 1949.7 seconds\n",
      "For parameter momentum = 0.100 ,  Accuracy=72.2% +/- 0.0%  in 2474.0 seconds\n",
      "For parameter momentum = 0.141 ,  Accuracy=72.3% +/- 0.0%  in 1984.8 seconds\n",
      "For parameter momentum = 0.200 ,  Accuracy=72.4% +/- 0.0%  in 2550.2 seconds\n",
      "For parameter momentum = 0.283 ,  Accuracy=72.5% +/- 0.0%  in 2029.9 seconds\n",
      "scanning over minibatch_size = [35, 49, 70, 100, 141, 199, 282]\n",
      "For parameter minibatch_size = 35 ,  Accuracy=72.2% +/- 0.0%  in 1945.3 seconds\n",
      "For parameter minibatch_size = 49 ,  Accuracy=72.2% +/- 0.0%  in 1953.8 seconds\n",
      "For parameter minibatch_size = 70 ,  Accuracy=72.2% +/- 0.0%  in 1949.8 seconds\n",
      "For parameter minibatch_size = 100 ,  Accuracy=72.2% +/- 0.0%  in 2499.6 seconds\n",
      "For parameter minibatch_size = 141 ,  Accuracy=72.2% +/- 0.0%  in 1951.9 seconds\n",
      "For parameter minibatch_size = 199 ,  Accuracy=72.2% +/- 0.0%  in 1956.0 seconds\n",
      "For parameter minibatch_size = 282 ,  Accuracy=72.2% +/- 0.0%  in 1960.6 seconds\n",
      "scanning over epochs = [8, 12, 17, 25, 35, 49, 70]\n",
      "For parameter epochs = 8 ,  Accuracy=71.9% +/- 0.0%  in 596.4 seconds\n",
      "For parameter epochs = 12 ,  Accuracy=72.3% +/- 0.0%  in 1153.4 seconds\n",
      "For parameter epochs = 17 ,  Accuracy=73.3% +/- 0.0%  in 1292.5 seconds\n",
      "For parameter epochs = 25 ,  Accuracy=72.2% +/- 0.0%  in 2491.9 seconds\n",
      "For parameter epochs = 35 ,  Accuracy=71.3% +/- 0.0%  in 2907.2 seconds\n",
      "For parameter epochs = 49 ,  Accuracy=71.4% +/- 0.0%  in 4219.2 seconds\n",
      "For parameter epochs = 70 ,  Accuracy=69.9% +/- 0.0%  in 5890.3 seconds\n",
      "--------------------------------------------------\n",
      "Using ADAM\n",
      "--------------------------------------------------\n",
      "scanning over lr = [0.00176777 0.0025     0.00353553 0.005      0.00707107 0.01\n",
      " 0.01414214]\n",
      "For parameter lr = 0.002 ,  Accuracy=73.3% +/- 0.0%  in 2282.8 seconds\n",
      "For parameter lr = 0.002 ,  Accuracy=73.3% +/- 0.0%  in 2282.8 seconds\n",
      "For parameter lr = 0.004 ,  Accuracy=72.6% +/- 0.0%  in 2436.9 seconds\n",
      "For parameter lr = 0.005 ,  Accuracy=72.2% +/- 0.0%  in 2462.9 seconds\n",
      "For parameter lr = 0.007 ,  Accuracy=70.5% +/- 0.0%  in 2049.4 seconds\n",
      "For parameter lr = 0.010 ,  Accuracy=64.7% +/- 0.0%  in 2628.0 seconds\n",
      "For parameter lr = 0.014 ,  Accuracy=35.2% +/- 0.0%  in 2155.1 seconds\n",
      "scanning over momentum = [0.03535534 0.05       0.07071068 0.1        0.14142136 0.2\n",
      " 0.28284271]\n",
      "For parameter momentum = 0.035 ,  Accuracy=62.7% +/- 0.0%  in 1948.3 seconds\n",
      "For parameter momentum = 0.050 ,  Accuracy=69.8% +/- 0.0%  in 2449.8 seconds\n",
      "For parameter momentum = 0.071 ,  Accuracy=70.3% +/- 0.0%  in 1984.3 seconds\n",
      "For parameter momentum = 0.100 ,  Accuracy=72.2% +/- 0.0%  in 2451.4 seconds\n",
      "For parameter momentum = 0.141 ,  Accuracy=72.3% +/- 0.0%  in 1993.9 seconds\n",
      "For parameter momentum = 0.200 ,  Accuracy=72.4% +/- 0.0%  in 2523.6 seconds\n",
      "For parameter momentum = 0.283 ,  Accuracy=72.5% +/- 0.0%  in 2043.5 seconds\n",
      "scanning over minibatch_size = [35, 49, 70, 100, 141, 199, 282]\n",
      "For parameter minibatch_size = 35 ,  Accuracy=72.2% +/- 0.0%  in 1939.5 seconds\n",
      "For parameter minibatch_size = 49 ,  Accuracy=72.2% +/- 0.0%  in 1944.9 seconds\n",
      "For parameter minibatch_size = 70 ,  Accuracy=72.2% +/- 0.0%  in 1952.4 seconds\n",
      "For parameter minibatch_size = 100 ,  Accuracy=72.2% +/- 0.0%  in 2449.6 seconds\n",
      "For parameter minibatch_size = 141 ,  Accuracy=72.2% +/- 0.0%  in 2105.1 seconds\n",
      "For parameter minibatch_size = 199 ,  Accuracy=72.2% +/- 0.0%  in 1843.5 seconds\n",
      "For parameter minibatch_size = 282 ,  Accuracy=72.2% +/- 0.0%  in 1815.3 seconds\n",
      "scanning over epochs = [8, 12, 17, 25, 35, 49, 70]\n",
      "For parameter epochs = 8 ,  Accuracy=71.9% +/- 0.0%  in 589.3 seconds\n",
      "For parameter epochs = 12 ,  Accuracy=72.3% +/- 0.0%  in 1143.6 seconds\n",
      "For parameter epochs = 17 ,  Accuracy=73.3% +/- 0.0%  in 1304.1 seconds\n",
      "For parameter epochs = 25 ,  Accuracy=72.2% +/- 0.0%  in 3007.4 seconds\n",
      "For parameter epochs = 35 ,  Accuracy=71.3% +/- 0.0%  in 3742.2 seconds\n",
      "For parameter epochs = 49 ,  Accuracy=71.4% +/- 0.0%  in 3439.1 seconds\n",
      "For parameter epochs = 70 ,  Accuracy=69.9% +/- 0.0%  in 4912.5 seconds\n",
      "--------------------------------------------------\n",
      " parameter scan : retina\n",
      "--------------------------------------------------\n",
      "scanning over N_theta = [3, 3, 4, 6, 7, 9, 12]\n",
      "For parameter N_theta = 3 ,  Accuracy=68.3% +/- 0.8%  in 4363.5 seconds\n",
      "For parameter N_theta = 3 ,  Accuracy=68.3% +/- 0.8%  in 4363.5 seconds\n",
      "For parameter N_theta = 4 ,  Accuracy=72.3% +/- 1.0%  in 4815.7 seconds\n",
      "For parameter N_theta = 6 ,  Accuracy=72.2% +/- 0.0%  in 3392.1 seconds\n",
      "For parameter N_theta = 7 ,  Accuracy=71.0% +/- 1.3%  in 6717.0 seconds\n",
      "For parameter N_theta = 9 ,  Accuracy=71.4% +/- 0.3%  in 8048.3 seconds\n",
      "For parameter N_theta = 12 ,  Accuracy=70.9% +/- 0.8%  in 9625.0 seconds\n",
      "scanning over N_azimuth = [13, 16, 20, 26, 32, 41, 52]\n",
      "For parameter N_azimuth = 13 ,  Accuracy=65.7% +/- 0.2%  in 4602.5 seconds\n",
      "For parameter N_azimuth = 16 ,  Accuracy=67.6% +/- 0.0%  in 5041.9 seconds\n",
      "For parameter N_azimuth = 20 ,  Accuracy=70.7% +/- 0.7%  in 5451.4 seconds\n",
      "For parameter N_azimuth = 26 ,  Accuracy=72.2% +/- 0.0%  in 3546.9 seconds\n",
      "For parameter N_azimuth = 32 ,  Accuracy=71.3% +/- 0.6%  in 7347.1 seconds\n",
      "For parameter N_azimuth = 41 ,  Accuracy=57.2% +/- 3.4%  in 8875.0 seconds\n",
      "For parameter N_azimuth = 52 ,  Accuracy=14.7% +/- 0.6%  in 10785.3 seconds\n",
      "scanning over N_eccentricity = [5, 6, 7, 10, 12, 15, 20]\n",
      "For parameter N_eccentricity = 5 ,  Accuracy=56.4% +/- 0.1%  in 4600.3 seconds\n",
      "For parameter N_eccentricity = 6 ,  Accuracy=64.1% +/- 0.1%  in 5106.6 seconds\n",
      "For parameter N_eccentricity = 7 ,  Accuracy=67.5% +/- 0.2%  in 5549.0 seconds\n",
      "For parameter N_eccentricity = 10 ,  Accuracy=72.2% +/- 0.0%  in 3691.6 seconds\n",
      "For parameter N_eccentricity = 12 ,  Accuracy=15.9% +/- 0.8%  in 7800.4 seconds\n",
      "For parameter N_eccentricity = 15 ,  Accuracy=11.9% +/- 0.3%  in 8633.6 seconds\n",
      "For parameter N_eccentricity = 20 ,  Accuracy=10.8% +/- 0.0%  in 10841.6 seconds\n",
      "scanning over rho = [0.705      0.88824434 1.11911774 1.41       1.77648868 2.23823548\n",
      " 2.82      ]\n",
      "For parameter rho = 0.705 ,  Accuracy=9.4% +/- 0.5%  in 6499.0 seconds\n",
      "For parameter rho = 0.888 ,  Accuracy=10.1% +/- 0.1%  in 6506.2 seconds\n",
      "For parameter rho = 1.119 ,  Accuracy=49.3% +/- 0.7%  in 6538.0 seconds\n",
      "For parameter rho = 1.410 ,  Accuracy=72.2% +/- 0.0%  in 3852.7 seconds\n",
      "For parameter rho = 1.776 ,  Accuracy=13.8% +/- 0.1%  in 6691.0 seconds\n",
      "For parameter rho = 2.238 ,  Accuracy=12.9% +/- 0.1%  in 6583.0 seconds\n",
      "For parameter rho = 2.820 ,  Accuracy=12.8% +/- 1.4%  in 6475.0 seconds\n"
     ]
    }
   ],
   "source": [
    "%run params.py scan"
   ]
  },
  {
   "cell_type": "markdown",
   "metadata": {},
   "source": [
    "## parameter scan"
   ]
  },
  {
   "cell_type": "code",
   "execution_count": 10,
   "metadata": {},
   "outputs": [],
   "source": [
    "def plot_accuracy(result, xmin=10, fig=None, ax=None, ylabel=None):\n",
    "    if fig is None: fig, ax = plt.subplots(figsize=(5, 5))\n",
    "    #ax.plot(result['accuracy'], result['value'], \"o\", color='blue')\n",
    "    # print(value, accuracy)\n",
    "    ax.hlines(y=result['value'], xmin=result['accuracy'], xmax=100, color='red')\n",
    "    ax.hlines(y=result['value'], xmin=xmin, xmax=result['accuracy'], color='skyblue')\n",
    "    ax.hlines(y=result['value'], xmin=result['p_low'], xmax=result['p_sup'], color='blue', alpha=1., lw=7)\n",
    "\n",
    "    if ylabel is None:\n",
    "        ylabel = parameter.capitalize()\n",
    "    ax.set_ylabel(ylabel)\n",
    "    #print( results[parameter]['value'] )\n",
    "    #print( np.min([np.float(k) for k in results[parameter]['value']]))\n",
    "    #ax.vlines(100, np.min(results[parameter]['value']), np.max(results[parameter]['value']), 'k', label='max')\n",
    "    ax.set_xlabel('Accuracy (%)')\n",
    "    # Only draw spine between the y-ticks\n",
    "    #ax.spines['left'].set_bounds(-1, 1)\n",
    "    # Hide the right and top spines\n",
    "    ax.spines['right'].set_visible(False)\n",
    "    ax.spines['top'].set_visible(False)\n",
    "    # Only show ticks on the left and bottom spines\n",
    "    ax.yaxis.set_ticks_position('left')\n",
    "    ax.xaxis.set_ticks_position('bottom')\n",
    "\n",
    "    return fig, ax"
   ]
  },
  {
   "cell_type": "code",
   "execution_count": 11,
   "metadata": {
    "ExecuteTime": {
     "end_time": "2018-10-02T14:43:40.994298Z",
     "start_time": "2018-10-02T14:43:36.893054Z"
    },
    "scrolled": false
   },
   "outputs": [
    {
     "name": "stdout",
     "output_type": "stream",
     "text": [
      "---> sf_0\n"
     ]
    },
    {
     "data": {
      "image/png": "[encoded data removed]",
      "text/plain": [
       "<Figure size 360x360 with 1 Axes>"
      ]
     },
     "metadata": {
      "needs_background": "light"
     },
     "output_type": "display_data"
    },
    {
     "name": "stdout",
     "output_type": "stream",
     "text": [
      "---> B_sf\n"
     ]
    },
    {
     "data": {
      "image/png": "[encoded data removed]",
      "text/plain": [
       "<Figure size 360x360 with 1 Axes>"
      ]
     },
     "metadata": {
      "needs_background": "light"
     },
     "output_type": "display_data"
    },
    {
     "name": "stdout",
     "output_type": "stream",
     "text": [
      "---> offset_std\n"
     ]
    },
    {
     "data": {
      "image/png": "[encoded data removed]",
      "text/plain": [
       "<Figure size 360x360 with 1 Axes>"
      ]
     },
     "metadata": {
      "needs_background": "light"
     },
     "output_type": "display_data"
    },
    {
     "name": "stdout",
     "output_type": "stream",
     "text": [
      "---> noise\n"
     ]
    },
    {
     "data": {
      "image/png": "[encoded data removed]",
      "text/plain": [
       "<Figure size 360x360 with 1 Axes>"
      ]
     },
     "metadata": {
      "needs_background": "light"
     },
     "output_type": "display_data"
    },
    {
     "name": "stdout",
     "output_type": "stream",
     "text": [
      "---> contrast\n"
     ]
    },
    {
     "data": {
      "image/png": "[encoded data removed]",
      "text/plain": [
       "<Figure size 360x360 with 1 Axes>"
      ]
     },
     "metadata": {
      "needs_background": "light"
     },
     "output_type": "display_data"
    },
    {
     "name": "stdout",
     "output_type": "stream",
     "text": [
      "---> dim1\n"
     ]
    },
    {
     "data": {
      "image/png": "[encoded data removed]",
      "text/plain": [
       "<Figure size 360x360 with 1 Axes>"
      ]
     },
     "metadata": {
      "needs_background": "light"
     },
     "output_type": "display_data"
    },
    {
     "name": "stdout",
     "output_type": "stream",
     "text": [
      "---> bn1_bn_momentum\n"
     ]
    },
    {
     "data": {
      "image/png": "[encoded data removed]",
      "text/plain": [
       "<Figure size 360x360 with 1 Axes>"
      ]
     },
     "metadata": {
      "needs_background": "light"
     },
     "output_type": "display_data"
    },
    {
     "name": "stdout",
     "output_type": "stream",
     "text": [
      "---> dim2\n"
     ]
    },
    {
     "data": {
      "image/png": "[encoded data removed]",
      "text/plain": [
       "<Figure size 360x360 with 1 Axes>"
      ]
     },
     "metadata": {
      "needs_background": "light"
     },
     "output_type": "display_data"
    },
    {
     "name": "stdout",
     "output_type": "stream",
     "text": [
      "---> bn2_bn_momentum\n"
     ]
    },
    {
     "data": {
      "image/png": "[encoded data removed]",
      "text/plain": [
       "<Figure size 360x360 with 1 Axes>"
      ]
     },
     "metadata": {
      "needs_background": "light"
     },
     "output_type": "display_data"
    },
    {
     "name": "stdout",
     "output_type": "stream",
     "text": [
      "---> p_dropout\n"
     ]
    },
    {
     "data": {
      "image/png": "[encoded data removed]",
      "text/plain": [
       "<Figure size 360x360 with 1 Axes>"
      ]
     },
     "metadata": {
      "needs_background": "light"
     },
     "output_type": "display_data"
    },
    {
     "name": "stdout",
     "output_type": "stream",
     "text": [
      "---> lr_sgd\n"
     ]
    },
    {
     "data": {
      "image/png": "[encoded data removed]",
      "text/plain": [
       "<Figure size 360x360 with 1 Axes>"
      ]
     },
     "metadata": {
      "needs_background": "light"
     },
     "output_type": "display_data"
    },
    {
     "name": "stdout",
     "output_type": "stream",
     "text": [
      "---> momentum_sgd\n"
     ]
    },
    {
     "data": {
      "image/png": "[encoded data removed]",
      "text/plain": [
       "<Figure size 360x360 with 1 Axes>"
      ]
     },
     "metadata": {
      "needs_background": "light"
     },
     "output_type": "display_data"
    },
    {
     "name": "stdout",
     "output_type": "stream",
     "text": [
      "---> minibatch_size_sgd\n"
     ]
    },
    {
     "data": {
      "image/png": "[encoded data removed]",
      "text/plain": [
       "<Figure size 360x360 with 1 Axes>"
      ]
     },
     "metadata": {
      "needs_background": "light"
     },
     "output_type": "display_data"
    },
    {
     "name": "stdout",
     "output_type": "stream",
     "text": [
      "---> epochs_sgd\n"
     ]
    },
    {
     "data": {
      "image/png": "[encoded data removed]",
      "text/plain": [
       "<Figure size 360x360 with 1 Axes>"
      ]
     },
     "metadata": {
      "needs_background": "light"
     },
     "output_type": "display_data"
    },
    {
     "name": "stdout",
     "output_type": "stream",
     "text": [
      "---> lr_adam\n"
     ]
    },
    {
     "data": {
      "image/png": "[encoded data removed]",
      "text/plain": [
       "<Figure size 360x360 with 1 Axes>"
      ]
     },
     "metadata": {
      "needs_background": "light"
     },
     "output_type": "display_data"
    },
    {
     "name": "stdout",
     "output_type": "stream",
     "text": [
      "---> momentum_adam\n"
     ]
    },
    {
     "data": {
      "image/png": "[encoded data removed]",
      "text/plain": [
       "<Figure size 360x360 with 1 Axes>"
      ]
     },
     "metadata": {
      "needs_background": "light"
     },
     "output_type": "display_data"
    },
    {
     "name": "stdout",
     "output_type": "stream",
     "text": [
      "---> minibatch_size_adam\n"
     ]
    },
    {
     "data": {
      "image/png": "[encoded data removed]",
      "text/plain": [
       "<Figure size 360x360 with 1 Axes>"
      ]
     },
     "metadata": {
      "needs_background": "light"
     },
     "output_type": "display_data"
    },
    {
     "name": "stdout",
     "output_type": "stream",
     "text": [
      "---> epochs_adam\n"
     ]
    },
    {
     "data": {
      "image/png": "[encoded data removed]",
      "text/plain": [
       "<Figure size 360x360 with 1 Axes>"
      ]
     },
     "metadata": {
      "needs_background": "light"
     },
     "output_type": "display_data"
    },
    {
     "name": "stdout",
     "output_type": "stream",
     "text": [
      "---> N_theta\n"
     ]
    },
    {
     "data": {
      "image/png": "[encoded data removed]",
      "text/plain": [
       "<Figure size 360x360 with 1 Axes>"
      ]
     },
     "metadata": {
      "needs_background": "light"
     },
     "output_type": "display_data"
    },
    {
     "name": "stdout",
     "output_type": "stream",
     "text": [
      "---> N_azimuth\n"
     ]
    },
    {
     "data": {
      "image/png": "[encoded data removed]",
      "text/plain": [
       "<Figure size 360x360 with 1 Axes>"
      ]
     },
     "metadata": {
      "needs_background": "light"
     },
     "output_type": "display_data"
    },
    {
     "name": "stdout",
     "output_type": "stream",
     "text": [
      "---> N_eccentricity\n"
     ]
    },
    {
     "data": {
      "image/png": "[encoded data removed]",
      "text/plain": [
       "<Figure size 360x360 with 1 Axes>"
      ]
     },
     "metadata": {
      "needs_background": "light"
     },
     "output_type": "display_data"
    },
    {
     "name": "stdout",
     "output_type": "stream",
     "text": [
      "---> rho\n"
     ]
    },
    {
     "data": {
      "image/png": "[encoded data removed]",
      "text/plain": [
       "<Figure size 360x360 with 1 Axes>"
      ]
     },
     "metadata": {
      "needs_background": "light"
     },
     "output_type": "display_data"
    },
    {
     "name": "stdout",
     "output_type": "stream",
     "text": [
      "\n"
     ]
    }
   ],
   "source": [
    "figname_ = 'accuracy_'\n",
    "figname_ = ''\n",
    "\n",
    "tex = ''\n",
    "for parameter in results.keys():\n",
    "    print('--->',  parameter)\n",
    "    fig, ax = plot_accuracy(results[parameter])\n",
    "    plt.show()\n",
    "    if not figname_ == '':\n",
    "        fig_dir = './'\n",
    "        fig_ext = '.pdf'\n",
    "        fname = figname_ + parameter + fig_ext\n",
    "        tex += \"\\includegraphics[width=.0666\\linewidth]{\"+ fname + \"} \\n\"\n",
    "        fig.savefig(os.path.join(fig_dir, fname),\n",
    "                bbox_inches='tight', pad_inches=0)\n",
    "print(tex)"
   ]
  },
  {
   "cell_type": "markdown",
   "metadata": {},
   "source": [
    "# summary\n"
   ]
  },
  {
   "cell_type": "raw",
   "metadata": {},
   "source": [
    "%ls ../data/_tmp_scanning"
   ]
  },
  {
   "cell_type": "code",
   "execution_count": 12,
   "metadata": {},
   "outputs": [
    {
     "data": {
      "text/plain": [
       "dict_keys(['sf_0', 'B_sf', 'offset_std', 'noise', 'contrast', 'dim1', 'bn1_bn_momentum', 'dim2', 'bn2_bn_momentum', 'p_dropout', 'lr_sgd', 'momentum_sgd', 'minibatch_size_sgd', 'epochs_sgd', 'lr_adam', 'momentum_adam', 'minibatch_size_adam', 'epochs_adam', 'N_theta', 'N_azimuth', 'N_eccentricity', 'rho'])"
      ]
     },
     "execution_count": 12,
     "metadata": {},
     "output_type": "execute_result"
    }
   ],
   "source": [
    "results.keys()"
   ]
  },
  {
   "cell_type": "code",
   "execution_count": 17,
   "metadata": {},
   "outputs": [
    {
     "data": {
      "image/png": "[encoded data removed]",
      "text/plain": [
       "<Figure size 1020.17x561.096 with 8 Axes>"
      ]
     },
     "metadata": {
      "needs_background": "light"
     },
     "output_type": "display_data"
    }
   ],
   "source": [
    "parameters = [['epochs_adam', 'dim1', 'dim2', 'N_azimuth'],\n",
    "              ['noise', 'offset_std', 'sf_0', 'B_sf']]  # '', 'lr', \n",
    "fig, axs = plt.subplots(len(parameters), len(parameters[0]), figsize = (figwidth, figwidth/len(parameters)*1.1), subplot_kw={})\n",
    "\n",
    "for i_row, parameters_ in enumerate(parameters):\n",
    "    for ax, parameter in zip(axs[i_row], parameters_):\n",
    "        fig, ax = plot_accuracy(results[parameter], xmin=10, fig=fig, ax=ax)\n",
    "\n",
    "for ax, text, x_offset, y_offset in [[axs[0][0], 'A', -.35, .95], [axs[0][-1], 'B', -.35, .95], [axs[1][0], 'C', -.35, .95]]:\n",
    "    ax.text(x_offset, y_offset, '(' + text + ')', fontsize=24,\n",
    "              bbox={'facecolor':'white','alpha':1,'edgecolor':'none','pad':1},\n",
    "              ha='left', va='center', transform=ax.transAxes) \n",
    "        \n",
    "plt.tight_layout()\n",
    "fig.savefig(figname + '.pdf', bbox_inches='tight', pad_inches=0.05)"
   ]
  },
  {
   "cell_type": "markdown",
   "metadata": {},
   "source": [
    "# post-processing"
   ]
  },
  {
   "cell_type": "code",
   "execution_count": null,
   "metadata": {
    "ExecuteTime": {
     "end_time": "2018-10-08T14:43:27.591507Z",
     "start_time": "2018-10-08T14:43:24.722160Z"
    }
   },
   "outputs": [],
   "source": [
    "!convert  -density {dpi_export} {figname}.pdf {figname}.jpg\n",
    "!convert  -density {dpi_export} {figname}.pdf {figname}.png\n",
    "#!convert  -density {dpi_export} -resize 5400  -units pixelsperinch -flatten  -compress lzw  -depth 8 {fname}.pdf {fname}.tiff"
   ]
  },
  {
   "cell_type": "code",
   "execution_count": null,
   "metadata": {
    "ExecuteTime": {
     "end_time": "2018-07-03T10:36:00.981927Z",
     "start_time": "2018-07-03T10:36:00.949864Z"
    }
   },
   "outputs": [],
   "source": [
    "from IPython.display import Image\n",
    "Image('{figname}.png'.format(figname=figname))"
   ]
  },
  {
   "cell_type": "code",
   "execution_count": null,
   "metadata": {
    "ExecuteTime": {
     "end_time": "2018-07-03T10:36:00.939193Z",
     "start_time": "2018-07-03T10:36:00.766218Z"
    }
   },
   "outputs": [],
   "source": [
    "!ls  -l {figname}*"
   ]
  }
 ],
 "metadata": {
  "kernelspec": {
   "display_name": "Python 3",
   "language": "python",
   "name": "python3"
  },
  "language_info": {
   "codemirror_mode": {
    "name": "ipython",
    "version": 3
   },
   "file_extension": ".py",
   "mimetype": "text/x-python",
   "name": "python",
   "nbconvert_exporter": "python",
   "pygments_lexer": "ipython3",
   "version": "3.7.2"
  }
 },
 "nbformat": 4,
 "nbformat_minor": 2
}
