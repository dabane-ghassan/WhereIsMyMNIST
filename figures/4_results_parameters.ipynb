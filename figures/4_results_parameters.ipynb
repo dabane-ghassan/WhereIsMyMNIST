{
 "cells": [
  {
   "cell_type": "markdown",
   "metadata": {},
   "source": [
    "This notebook introduces the problem addressed in this paper:\n",
    "\n",
    " - localizating an object in a large image\n",
    " - foveation\n",
    " - action (saccade)\n",
    " "
   ]
  },
  {
   "cell_type": "code",
   "execution_count": 1,
   "metadata": {
    "ExecuteTime": {
     "end_time": "2018-07-03T10:34:13.258190Z",
     "start_time": "2018-07-03T10:34:13.251661Z"
    },
    "collapsed": true
   },
   "outputs": [],
   "source": [
    "figname = '../paper/fig_params'"
   ]
  },
  {
   "cell_type": "code",
   "execution_count": 2,
   "metadata": {},
   "outputs": [
    {
     "name": "stdout",
     "output_type": "stream",
     "text": [
      "\n",
      "This notebook introduces the problem addressed in this paper:\n",
      "\n",
      " - localizating an object in a large image\n",
      " - foveation\n",
      " - action (saccade)\n",
      "       \n",
      "      \n",
      "Overwriting ../data/params.py\n",
      "['../data/params.py', 'debug']\n",
      "{'w': 28, 'minibatch_size': 22, 'train_batch_size': 100, 'test_batch_size': 20, 'noise_batch_size': 1000, 'mean': 0.1307, 'std': 0.3081, 'N_pic': 128, 'offset_std': 30, 'offset_max': 35, 'noise': 1.0, 'contrast': 0.8, 'sf_0': 0.2, 'B_sf': 0.3, 'N_theta': 6, 'N_azimuth': 16, 'N_eccentricity': 10, 'N_phase': 2, 'N_X': 128, 'N_Y': 128, 'rho': 1.41, 'bias_deconv': True, 'p_dropout': 0.5, 'dim1': 1000, 'dim2': 1000, 'loss_func': BCEWithLogitsLoss(), 'lr': 0.01, 'do_adam': True, 'epochs': 2, 'bn1_bn_momentum': 0.0, 'bn2_bn_momentum': 0.0, 'momentum': 0.1, 'n_epochs': 10, 'num_processes': 1, 'no_cuda': True, 'log_interval': 100, 'verbose': 1, 'filename': 'debug', 'seed': 2019}\n",
      "Overwriting train.py\n",
      "2019-03-15T14:02:05+01:00\n",
      "\n",
      "CPython 3.7.2\n",
      "IPython 7.3.0\n",
      "\n",
      "numpy 1.16.2\n",
      "matplotlib 3.0.3\n",
      "torch 1.0.1.post2\n",
      "\n",
      "compiler   : Clang 10.0.0 (clang-1000.11.45.5)\n",
      "system     : Darwin\n",
      "release    : 18.2.0\n",
      "machine    : x86_64\n",
      "processor  : i386\n",
      "CPU cores  : 36\n",
      "interpreter: 64bit\n",
      "host name  : fortytwo\n",
      "Git hash   : edb1790c73e2ed2d90c8b0be6496a840e2f62b13\n",
      "Git repo   : https://github.com/laurentperrinet/WhereIsMyMNIST\n",
      "Git branch : master\n"
     ]
    }
   ],
   "source": [
    "%run 0_parameters.ipynb"
   ]
  },
  {
   "cell_type": "code",
   "execution_count": 3,
   "metadata": {},
   "outputs": [
    {
     "data": {
      "text/plain": [
       "{'w': 28,\n",
       " 'minibatch_size': 22,\n",
       " 'train_batch_size': 100,\n",
       " 'test_batch_size': 20,\n",
       " 'noise_batch_size': 1000,\n",
       " 'mean': 0.1307,\n",
       " 'std': 0.3081,\n",
       " 'N_pic': 128,\n",
       " 'offset_std': 30,\n",
       " 'offset_max': 35,\n",
       " 'noise': 1.0,\n",
       " 'contrast': 0.8,\n",
       " 'sf_0': 0.2,\n",
       " 'B_sf': 0.3,\n",
       " 'N_theta': 6,\n",
       " 'N_azimuth': 16,\n",
       " 'N_eccentricity': 10,\n",
       " 'N_phase': 2,\n",
       " 'N_X': 128,\n",
       " 'N_Y': 128,\n",
       " 'rho': 1.41,\n",
       " 'bias_deconv': True,\n",
       " 'p_dropout': 0.5,\n",
       " 'dim1': 1000,\n",
       " 'dim2': 1000,\n",
       " 'loss_func': BCEWithLogitsLoss(),\n",
       " 'lr': 0.01,\n",
       " 'do_adam': True,\n",
       " 'epochs': 2,\n",
       " 'bn1_bn_momentum': 0.0,\n",
       " 'bn2_bn_momentum': 0.0,\n",
       " 'momentum': 0.1,\n",
       " 'n_epochs': 10,\n",
       " 'num_processes': 1,\n",
       " 'no_cuda': True,\n",
       " 'log_interval': 100,\n",
       " 'verbose': 1,\n",
       " 'filename': 'debug',\n",
       " 'seed': 2019}"
      ]
     },
     "execution_count": 3,
     "metadata": {},
     "output_type": "execute_result"
    }
   ],
   "source": [
    "%%writefile params.py\n",
    "\n",
    "from main import init, MetaML\n",
    "\n",
    "print(50*'-')\n",
    "print(' parameter scan')\n",
    "print(50*'-')\n",
    "\n",
    "if False :\n",
    "    print(50*'-')\n",
    "    print('Default parameters')\n",
    "    print(50*'-')\n",
    "    args = init(verbose=0, log_interval=0)\n",
    "    ml = ML(args)\n",
    "    ml.main()\n",
    "\n",
    "if False :\n",
    "    args = init(verbose=0, log_interval=0)\n",
    "    mml = MetaML(args)\n",
    "    if torch.cuda.is_available():\n",
    "        mml.scan('no_cuda', [True, False])\n",
    "    else:\n",
    "        mml.scan('no_cuda', [True])\n",
    "\n",
    "# for base in [2]:#, 8]:\n",
    "for base in [2, 8]:\n",
    "    print(50*'-')\n",
    "    print(' base=', base)\n",
    "    print(50*'-')\n",
    "\n",
    "    print(50*'-')\n",
    "    print(' parameter scan : data')\n",
    "    print(50*'-')\n",
    "    args = init(verbose=0, log_interval=0)\n",
    "    mml = MetaML(args, base=base)\n",
    "    for parameter in ['sf_0', 'B_sf', 'offset_std', 'noise', 'contrast']:\n",
    "        mml.parameter_scan(parameter)\n",
    "        \n",
    "    # TODO:  'N_theta': 6, 'N_azimuth': 16, 'N_eccentricity': 10, 'rho': 1.41,\n",
    "\n",
    "    print(50*'-')\n",
    "    args = init(verbose=0, log_interval=0)\n",
    "    mml = MetaML(args)\n",
    "    print(' parameter scan : network')\n",
    "    print(50*'-')\n",
    "    for parameter in ['dim1',\n",
    "                      'bn1_bn_momentum',\n",
    "                      'dim2',\n",
    "                      'conv2_bn_momentum',\n",
    "                      'stride1', 'stride2',\n",
    "                      'p_dropout']:\n",
    "        mml.parameter_scan(parameter)\n",
    "\n",
    "    args = init(verbose=0, log_interval=0)\n",
    "    mml = MetaML(args, base=base)\n",
    "    print(' parameter scan : learning ')\n",
    "    print(50*'-')\n",
    "    print('Using SGD')\n",
    "    print(50*'-')\n",
    "    for parameter in ['lr', 'momentum', 'minibatch_size', 'epochs']:\n",
    "        mml.parameter_scan(parameter)\n",
    "    print(50*'-')\n",
    "    print('Using ADAM')\n",
    "    print(50*'-')\n",
    "    args = init(verbose=0, log_interval=0, do_adam=True)\n",
    "    mml = MetaML(args, tag='adam')\n",
    "    for parameter in ['lr', 'momentum', 'minibatch_size', 'epochs']:\n",
    "        mml.parameter_scan(parameter)\n",
    "\n",
    "if False :\n",
    "    args = init(verbose=0, log_interval=0)\n",
    "    mml = MetaML(args)\n",
    "    mml.scan('bias_deconv', [True, False])\n",
    "   "
   ]
  },
  {
   "cell_type": "markdown",
   "metadata": {},
   "source": [
    "# Training the Where network"
   ]
  },
  {
   "cell_type": "code",
   "execution_count": null,
   "metadata": {},
   "outputs": [],
   "source": [
    "from retina import Display\n",
    "d = Display(args)\n",
    "\n",
    "from retina import Retina\n",
    "r = Retina(args)\n",
    "\n",
    "from where import Where\n",
    "where = Where(args, d, r)\n",
    "\n",
    "filename_train = args.filename + '_train.pt'\n",
    "filename_train = \"../data/2019-03-14_train4.pt\"\n",
    "%ls -lh {filename_train}\n",
    "#%rm {filename_train}\n",
    "\n",
    "where.train(filename_train)"
   ]
  },
  {
   "cell_type": "markdown",
   "metadata": {},
   "source": [
    "# Visualisation of some examples"
   ]
  },
  {
   "cell_type": "code",
   "execution_count": null,
   "metadata": {},
   "outputs": [],
   "source": [
    "data, label = next(iter(d.loader_test))\n",
    "idx_start, idx_stop = 0, 11\n",
    "\n",
    "full, retina_data, accuracy_colliculus = where.minibatch(data)"
   ]
  },
  {
   "cell_type": "markdown",
   "metadata": {},
   "source": [
    "## knowing the target position"
   ]
  },
  {
   "cell_type": "code",
   "execution_count": null,
   "metadata": {},
   "outputs": [],
   "source": [
    "im = np.zeros((args.test_batch_size, args.w, args.w))\n",
    "for idx in range(args.test_batch_size):\n",
    "    im[idx, :, :] = where.extract(full[idx]['data_fullfield'], full[idx]['i_offset'], full[idx]['j_offset'])\n",
    "proba = where.classify_what(im).numpy()\n",
    "pred = proba.argmax(axis=1) # get the index of the max log-probability\n",
    "#acc = proba[:, pred]\n",
    "acc_max = (pred==label.numpy()).mean()\n",
    "print('Accuracy max (knowing the mosition)=', acc_max)"
   ]
  },
  {
   "cell_type": "code",
   "execution_count": null,
   "metadata": {
    "scrolled": false
   },
   "outputs": [],
   "source": [
    "for idx in range(idx_start, idx_stop):\n",
    "    fig = plt.figure(figsize = (15, 8))\n",
    "    \n",
    "    ax = fig.add_subplot(141)\n",
    "    ax = d.show(ax, full[idx]['data_fullfield'])\n",
    "    ax.set_title(f\"i={full[idx]['i_offset']}, j={full[idx]['j_offset']}\")\n",
    "    \n",
    "    ax = fig.add_subplot(142)\n",
    "    data_retina = r.retina(full[idx]['data_fullfield'])\n",
    "    ax = r.show(ax, r.retina_invert(data_retina))\n",
    "    ax.set_title(f\"idx={idx}\")\n",
    "              \n",
    "    ax = fig.add_subplot(143, projection='polar')\n",
    "    ax.pcolor(r.theta, r.log_r, accuracy_colliculus[idx, :].numpy().reshape((args.N_azimuth, args.N_eccentricity)), cmap=plt.plasma())\n",
    "    ax.set_yticklabels([])\n",
    "    ax.set_xticklabels([])\n",
    "    ax.set_title(\"True\")\n",
    "\n",
    "    ax = fig.add_subplot(144)\n",
    "    ax = d.show(ax, im[idx, :, :], do_cross=False)\n",
    "    result = '' if pred[idx]==label[idx].numpy() else 'FALSE'\n",
    "    ax.set_title(f\"pred={pred[idx]} acc={proba[idx,pred[idx]]:.2f} {result}\")\n",
    "                 "
   ]
  },
  {
   "cell_type": "markdown",
   "metadata": {},
   "source": [
    "## predicting the position of the target"
   ]
  },
  {
   "cell_type": "code",
   "execution_count": null,
   "metadata": {
    "scrolled": false
   },
   "outputs": [],
   "source": [
    "pred_accuracy_colliculus = where.pred_accuracy(retina_data)\n",
    "print('pred_accuracy_colliculus.shape=', pred_accuracy_colliculus.shape)"
   ]
  },
  {
   "cell_type": "code",
   "execution_count": null,
   "metadata": {
    "scrolled": false
   },
   "outputs": [],
   "source": [
    "for idx in range(idx_start, idx_stop):\n",
    "    fig = plt.figure(figsize = (15, 8))\n",
    "\n",
    "    ax = fig.add_subplot(131, projection='polar')\n",
    "    ax.pcolor(r.theta, r.log_r, pred_accuracy_colliculus[idx, :].reshape((args.N_azimuth, args.N_eccentricity)), cmap=plt.plasma())\n",
    "    ax.set_title(\"Predicted\")\n",
    "    ax.set_yticklabels([])\n",
    "    ax.set_xticklabels([])\n",
    "              \n",
    "    x = r.accuracy_invert(pred_accuracy_colliculus[idx, :])\n",
    "    ax = fig.add_subplot(132)\n",
    "    ax.imshow(x, vmin=0, cmap=plt.plasma())\n",
    "    ax.set_title(\"Pred visual space\")\n",
    "    \n",
    "    i, j = np.unravel_index(np.argmax(x.ravel()), x.shape)\n",
    "    i_pred = i - args.N_pic//2\n",
    "    j_pred = j - args.N_pic//2\n",
    "    ax = fig.add_subplot(133)\n",
    "    ax = d.show(ax, full[idx]['data_fullfield'])\n",
    "    ax.set_title(f\"i={full[idx]['i_offset']}/{i_pred}, j={full[idx]['j_offset']}/{j_pred}\")\n",
    "    ax.plot([full[idx]['j_offset']+args.N_pic//2], [full[idx]['i_offset']+args.N_pic//2], '+', c='r', ms=26, markeredgewidth=2, alpha=.5)\n",
    "    ax.plot([j], [i], '+', c='b', ms=26, markeredgewidth=2, alpha=.5)\n",
    "    \n",
    "    "
   ]
  },
  {
   "cell_type": "markdown",
   "metadata": {},
   "source": [
    "## doing a saccade at the predicted the position of the target"
   ]
  },
  {
   "cell_type": "code",
   "execution_count": null,
   "metadata": {},
   "outputs": [],
   "source": [
    "accuracy = where.test_what(full, pred_accuracy_colliculus, label)\n",
    "print('mean accuracy =', accuracy.mean())"
   ]
  },
  {
   "cell_type": "code",
   "execution_count": null,
   "metadata": {
    "scrolled": false
   },
   "outputs": [],
   "source": [
    "for idx in range(idx_start, idx_stop):\n",
    "    fig = plt.figure(figsize = (15, 8))\n",
    "    \n",
    "    ax = fig.add_subplot(151)\n",
    "    ax = d.show(ax, full[idx]['data_fullfield'])\n",
    "    ax.set_title(f\"i={full[idx]['i_offset']}, j={full[idx]['j_offset']}\")\n",
    "    \n",
    "    ax = fig.add_subplot(152)\n",
    "    data_retina = r.retina(full[idx]['data_fullfield'])\n",
    "    ax = r.show(ax, r.retina_invert(data_retina))\n",
    "    ax.set_title(f\"idx={idx}\")\n",
    "              \n",
    "    ax = fig.add_subplot(153, projection='polar')\n",
    "    ax.pcolor(r.theta, r.log_r, accuracy_colliculus[idx, :].numpy().reshape((args.N_azimuth, args.N_eccentricity)), cmap=plt.plasma())\n",
    "    ax.set_yticklabels([])\n",
    "    ax.set_xticklabels([])\n",
    "    ax.set_title(\"True\")\n",
    "\n",
    "    ax = fig.add_subplot(154, projection='polar')\n",
    "    ax.pcolor(r.theta, r.log_r, pred_accuracy_colliculus[idx, :].reshape((args.N_azimuth, args.N_eccentricity)), cmap=plt.plasma())\n",
    "    ax.set_yticklabels([])\n",
    "    ax.set_xticklabels([])\n",
    "    ax.set_title(\"Predicted\")\n",
    "\n",
    "    ax = fig.add_subplot(155)\n",
    "    ax = d.show(ax, im[idx, :, :], do_cross=False)\n",
    "    result = '' if pred[idx]==label[idx].numpy() else 'FALSE'\n",
    "    ax.set_title(f\"pred={pred[idx]} acc={proba[idx,pred[idx]]:.2f} {result}\")\n",
    "                 "
   ]
  },
  {
   "cell_type": "markdown",
   "metadata": {},
   "source": [
    "testing on the test set:"
   ]
  },
  {
   "cell_type": "code",
   "execution_count": null,
   "metadata": {},
   "outputs": [],
   "source": [
    "where.test()"
   ]
  },
  {
   "cell_type": "markdown",
   "metadata": {},
   "source": [
    "# accuracy as a function of eccentricity\n"
   ]
  },
  {
   "cell_type": "code",
   "execution_count": null,
   "metadata": {},
   "outputs": [],
   "source": [
    "def test_eccentricities(N_eccentricities=9, ecc_max=.8):\n",
    "     \n",
    "    #eccentricities = args.N_pic / 2 * ecc_max * (1/args.rho)**(args.N_eccentricity - np.arange(N_eccentricities))\n",
    "    eccentricities = np.linspace(where.args.offset_max, 0, N_eccentricities, endpoint=False)\n",
    "    \n",
    "    accuracy_mean, accuracy_std = [], []\n",
    "    for eccentricity in eccentricities:\n",
    "        data, label = next(iter(d.loader_test))\n",
    "\n",
    "        batch_size = data.shape[0]\n",
    "        retina_data = np.zeros((batch_size, where.retina.vsize))\n",
    "        accuracy_colliculus = np.zeros((batch_size, where.args.N_azimuth * where.args.N_eccentricity))\n",
    "        full =[]\n",
    "\n",
    "        for i in range(batch_size):\n",
    "            data_fullfield, i_offset, j_offset = where.display.draw(data[i, 0, :, :].numpy(), \n",
    "                                                                   radius=eccentricity)\n",
    "            full.append(dict(data_fullfield=data_fullfield, i_offset=i_offset, j_offset=j_offset))\n",
    "            retina_data[i, :]  =  where.retina.retina(data_fullfield)\n",
    "\n",
    "        pred_accuracy_colliculus = where.pred_accuracy(retina_data)\n",
    "        accuracy_ = where.test_what(full, pred_accuracy_colliculus, label)\n",
    "        accuracy_mean.append(accuracy_.mean())\n",
    "        accuracy_std.append(accuracy_.std()) # TODO fit with beta distribution\n",
    "        \n",
    "    return eccentricities, np.array(accuracy_mean), np.array(accuracy_std)\n",
    "\n",
    "N_eccentricities = 9\n",
    "eccentricities, accuracy_mean, accuracy_std = test_eccentricities(N_eccentricities)\n",
    "print('eccentricities=', eccentricities, ', accuracy_data=', accuracy_mean, ' +/- ', accuracy_std)"
   ]
  },
  {
   "cell_type": "code",
   "execution_count": null,
   "metadata": {},
   "outputs": [],
   "source": [
    "fig = plt.figure(figsize = (figwidth, figwidth/1.618))\n",
    "ax_D = fig.add_subplot(1, 1, 1)\n",
    "width = .8*np.abs(np.gradient(eccentricities)[0])\n",
    "ax_D.bar(eccentricities, accuracy_mean, width=width, alpha = .5, label = 'One saccade')#yerr=accuracy_std, \n",
    "# TODO what instead? ax_D.bar(eccentricities, accuracy_data, alpha = .5, label = 'No saccade') #accuracy_map[27,27:55])\n",
    "ax_D.plot([eccentricities.min()-width/2, eccentricities.max()+width/2], [0.1]*2, ':', c='k', label = 'Baseline')\n",
    "plt.legend(loc='best')\n",
    "#ax_D.set_title('Class accuracy', fontsize = 14)\n",
    "ax_D.set_xlabel('Target eccentricity (pixels)', fontsize = 12)\n",
    "ax_D.set_xticks(eccentricities)\n",
    "ax_D.set_xticklabels(['%.1f' % d for  d in eccentricities])\n",
    "ax_D.set_ylim([0,1])"
   ]
  },
  {
   "cell_type": "markdown",
   "metadata": {},
   "source": [
    "# summary\n"
   ]
  },
  {
   "cell_type": "code",
   "execution_count": null,
   "metadata": {
    "scrolled": false
   },
   "outputs": [],
   "source": [
    "fig = plt.figure(figsize = (figwidth, figwidth/2.5))#1.618))\n",
    "ax_A = plt.subplot(1, 4, 1) \n",
    "data_retina = r.retina(full[idx]['data_fullfield'])\n",
    "ax_A = where.retina.show(ax_A, r.retina_invert(data_retina))\n",
    "    \n",
    "ax_B = plt.subplot(2, 4, 2, projection='polar', autoscale_on=False)\n",
    "ax_B.pcolor(r.theta, r.log_r, accuracy_colliculus[idx, :].numpy().reshape((args.N_azimuth, args.N_eccentricity)))\n",
    "ax_B.grid('off')\n",
    "plt.title('True', fontsize = 14)\n",
    "ax_B.set_yticklabels([])\n",
    "ax_B.set_xticklabels([])\n",
    "\n",
    "ax_Bb = plt.subplot(2, 4, 6, projection='polar')\n",
    "ax_Bb.pcolor(r.theta, r.log_r, pred_accuracy_colliculus[idx, :].reshape((args.N_azimuth, args.N_eccentricity)))\n",
    "ax_Bb.set_title('Predicted', fontsize = 14)\n",
    "ax_Bb.set_yticklabels([])\n",
    "ax_Bb.set_xticklabels([])\n",
    "\n",
    "\n",
    "ax_C = plt.subplot(1, 4, 3)\n",
    "data_fullfield = d.place_object(data[idx, 0, :, :].numpy(), 0, 0)\n",
    "input_vector  =  r.retina(data_fullfield)\n",
    "ax_C = r.show(ax_C, r.retina_invert(input_vector))\n",
    "i_pred, j_pred = where.index_prediction(pred_accuracy_colliculus[idx, :])\n",
    "ax_A.arrow(64.5, 64.5, -i_pred, -j_pred, width=.3, color='r', head_width=4., length_includes_head=True, edgecolor='k')\n",
    "\n",
    "ax_D = plt.subplot(1, 4, 4)\n",
    "width = .8*np.abs(np.gradient(eccentricities)[0])\n",
    "ax_D.bar(eccentricities, accuracy_mean, width=width, alpha = .5, label = 'One saccade')\n",
    "ax_D.plot([eccentricities.min()-width/2, eccentricities.max()+width/2], [0.1]*2, ':', c='k', label = 'Baseline')\n",
    "ax_D.plot([eccentricities.min()-width/2, eccentricities.max()+width/2], [acc_max]*2, ':', c='orange', label = 'Max')\n",
    "\n",
    "plt.legend(loc='upper right')\n",
    "ax_D.set_xlabel('Target eccentricity (pixels)', fontsize = 12)\n",
    "ax_D.set_xticks(eccentricities)\n",
    "ax_D.set_xticklabels(['%.1f' % d for  d in eccentricities])\n",
    "ax_D.set_ylim([0,1])\n",
    "\n",
    "for ax, text in [[ax_A, 'DIS'], [ax_C, 'SAC']]:\n",
    "    ax.text(4, 15, text, fontsize=24,\n",
    "          bbox={'facecolor':'white','alpha':1,'edgecolor':'none','pad':1},\n",
    "          ha='left', va='center') \n",
    "\n",
    "offset = -.015\n",
    "for ax, text, x_offset, y_offset in [[ax_A, 'A', offset, 1.15], [ax_B, 'B', -.25, 1.225], [ax_C, 'C', offset, 1.15], [ax_D, 'D', offset, 1.15]]:\n",
    "    ax.text(x_offset, y_offset, '(' + text + ')', fontsize=24,\n",
    "              bbox={'facecolor':'white','alpha':1,'edgecolor':'none','pad':1},\n",
    "              ha='left', va='center', transform=ax.transAxes) \n",
    "\n",
    "# pos : [left, bottom, width, height] =    The new position of the in `.Figure` coordinates.    \n",
    "plt.tight_layout()\n",
    "ax_A.set_position([0.025, 0.1, .3, .45])\n",
    "ax_B.set_position( [0.24, 0.375, .2, 0.2])\n",
    "ax_Bb.set_position([0.24, 0.1, .2, 0.2])\n",
    "ax_C.set_position([0.35, .1, .3, .45])\n",
    "ax_D.set_position([0.65, .1, .3, .45])\n",
    "fig.savefig(figname + '.pdf', bbox_inches='tight', pad_inches=0.1)"
   ]
  },
  {
   "cell_type": "markdown",
   "metadata": {},
   "source": [
    "# post-processing"
   ]
  },
  {
   "cell_type": "code",
   "execution_count": null,
   "metadata": {
    "ExecuteTime": {
     "end_time": "2018-10-08T14:43:27.591507Z",
     "start_time": "2018-10-08T14:43:24.722160Z"
    }
   },
   "outputs": [],
   "source": [
    "!convert  -density {dpi_export} {figname}.pdf {figname}.jpg\n",
    "!convert  -density {dpi_export} {figname}.pdf {figname}.png\n",
    "#!convert  -density {dpi_export} -resize 5400  -units pixelsperinch -flatten  -compress lzw  -depth 8 {fname}.pdf {fname}.tiff"
   ]
  },
  {
   "cell_type": "code",
   "execution_count": null,
   "metadata": {
    "ExecuteTime": {
     "end_time": "2018-07-03T10:36:00.981927Z",
     "start_time": "2018-07-03T10:36:00.949864Z"
    }
   },
   "outputs": [],
   "source": [
    "from IPython.display import Image\n",
    "Image('{figname}.png'.format(figname=figname))"
   ]
  },
  {
   "cell_type": "code",
   "execution_count": null,
   "metadata": {
    "ExecuteTime": {
     "end_time": "2018-07-03T10:36:00.939193Z",
     "start_time": "2018-07-03T10:36:00.766218Z"
    }
   },
   "outputs": [],
   "source": [
    "!ls  -l {figname}*"
   ]
  },
  {
   "cell_type": "markdown",
   "metadata": {},
   "source": [
    "## Version used"
   ]
  },
  {
   "cell_type": "code",
   "execution_count": null,
   "metadata": {
    "ExecuteTime": {
     "end_time": "2018-10-08T14:53:30.186131Z",
     "start_time": "2018-10-08T14:43:18.414Z"
    }
   },
   "outputs": [],
   "source": [
    "%load_ext version_information\n",
    "%version_information numpy, shl_scripts"
   ]
  }
 ],
 "metadata": {
  "kernelspec": {
   "display_name": "Python 3",
   "language": "python",
   "name": "python3"
  },
  "language_info": {
   "codemirror_mode": {
    "name": "ipython",
    "version": 3
   },
   "file_extension": ".py",
   "mimetype": "text/x-python",
   "name": "python",
   "nbconvert_exporter": "python",
   "pygments_lexer": "ipython3",
   "version": "3.7.2"
  }
 },
 "nbformat": 4,
 "nbformat_minor": 2
}
