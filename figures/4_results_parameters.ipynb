{
 "cells": [
  {
   "cell_type": "markdown",
   "metadata": {},
   "source": [
    "This notebook introduces the problem addressed in this paper:\n",
    "\n",
    " - localizating an object in a large image\n",
    " - foveation\n",
    " - action (saccade)\n",
    " "
   ]
  },
  {
   "cell_type": "code",
   "execution_count": 1,
   "metadata": {},
   "outputs": [
    {
     "name": "stdout",
     "output_type": "stream",
     "text": [
      "\n",
      "This notebook introduces the problem addressed in this paper:\n",
      "\n",
      " - localizating an object in a large image\n",
      " - foveation\n",
      " - action (saccade)\n",
      "       \n",
      "      \n",
      "{'w': 28, 'minibatch_size': 100, 'train_batch_size': 50000, 'test_batch_size': 5000, 'noise_batch_size': 1000, 'mean': 0.1307, 'std': 0.3081, 'N_pic': 128, 'offset_std': 30, 'offset_max': 34, 'noise': 1.0, 'contrast': 1.0, 'sf_0': 0.2, 'B_sf': 0.3, 'N_theta': 6, 'N_azimuth': 26, 'N_eccentricity': 10, 'N_phase': 2, 'rho': 1.41, 'bias_deconv': True, 'p_dropout': 0.0, 'dim1': 500, 'dim2': 2000, 'lr': 0.001, 'do_adam': True, 'bn1_bn_momentum': 0.5, 'bn2_bn_momentum': 0.2, 'momentum': 0.1, 'epochs': 25, 'num_processes': 1, 'no_cuda': True, 'log_interval': 100, 'verbose': 1, 'filename': '../data/2019-03-27', 'seed': 2019, 'N_cv': 8, 'do_compute': True}\n",
      "Overwriting train.py\n",
      "2019-03-28T13:29:11+01:00\n",
      "\n",
      "CPython 3.7.2\n",
      "IPython 7.4.0\n",
      "\n",
      "numpy 1.16.2\n",
      "matplotlib 3.0.3\n",
      "torch 1.0.1.post2\n",
      "\n",
      "compiler   : Clang 10.0.0 (clang-1000.11.45.5)\n",
      "system     : Darwin\n",
      "release    : 18.2.0\n",
      "machine    : x86_64\n",
      "processor  : i386\n",
      "CPU cores  : 36\n",
      "interpreter: 64bit\n",
      "host name  : fortytwo\n",
      "Git hash   : 422e0856912afdfac822e14f0c9cfb4f645cbc01\n",
      "Git repo   : https://github.com/laurentperrinet/WhereIsMyMNIST\n",
      "Git branch : master\n"
     ]
    }
   ],
   "source": [
    "%run 0_parameters.ipynb"
   ]
  },
  {
   "cell_type": "code",
   "execution_count": 2,
   "metadata": {
    "ExecuteTime": {
     "end_time": "2018-07-03T10:34:13.258190Z",
     "start_time": "2018-07-03T10:34:13.251661Z"
    },
    "collapsed": true
   },
   "outputs": [],
   "source": [
    "figname = '../paper/fig_params'"
   ]
  },
  {
   "cell_type": "code",
   "execution_count": null,
   "metadata": {},
   "outputs": [
    {
     "name": "stdout",
     "output_type": "stream",
     "text": [
      "Overwriting params.py\n"
     ]
    }
   ],
   "source": [
    "%%writefile params.py\n",
    "import os\n",
    "import torch\n",
    "from main import init, MetaML\n",
    "from where import Where as ML\n",
    "from what import WhatNet\n",
    "        \n",
    "import sys\n",
    "opts = dict(filename='../data/2019-03-27', verbose=0, log_interval=0, do_compute=False  if len(sys.argv) > 1 else True)\n",
    "#opts = dict(filename='debug', verbose=0, log_interval=0)\n",
    "\n",
    "print(50*'-')\n",
    "print(' parameter scan')\n",
    "print(50*'-')\n",
    "\n",
    "if True:\n",
    "    args = init(**opts)\n",
    "    #args.filename = '../data/2019-03-27'\n",
    "    filename_train = args.filename + '_train.pt'\n",
    "    if not(os.path.isfile(filename_train + '_lock')):\n",
    "        open(filename_train + '_lock', 'w').close()\n",
    "        print(50*'-')\n",
    "        print('Default parameters')\n",
    "        print(50*'-')\n",
    "        from where import Where as ML\n",
    "        from what import WhatNet\n",
    "        ml = ML(args)\n",
    "        ml.train(path=filename_train)\n",
    "        # ml.main(path=args.filename)\n",
    "        os.remove(filename_train + '_lock')\n",
    "\n",
    "if True:\n",
    "    args = init(**opts)\n",
    "    mml = MetaML(args)\n",
    "    if torch.cuda.is_available():\n",
    "        mml.scan('no_cuda', [True, False])\n",
    "\n",
    "    args = init(**opts)\n",
    "    mml = MetaML(args)\n",
    "    mml.scan('bias_deconv', [True, False])\n",
    "\n",
    "results = {}\n",
    "    \n",
    "def update_results(results, parameter, accuracies, ci=0.01):\n",
    "    from scipy.stats import beta\n",
    "\n",
    "    if not parameter in results.keys(): results[parameter] = dict(value=[], accuracy=[], p_low=[], p_sup=[])\n",
    "    for value in accuracies.keys():\n",
    "        results[parameter]['value'].append(value)\n",
    "        results[parameter]['accuracy'].append(accuracies[value][:-1].mean()*100)\n",
    "        try:\n",
    "            a1, b1, loc1, scale1 = beta.fit(accuracies[value][:-1], floc=0, fscale=1)\n",
    "            p_low, p_sup = beta.ppf([ci, 1-ci], a=a1, b=b1)\n",
    "            #print(p_low, p_sup)\n",
    "            results[parameter]['p_low'].append(p_low*100)\n",
    "            results[parameter]['p_sup'].append(p_sup*100)\n",
    "        except:\n",
    "            results[parameter]['p_low'].append(accuracies[value][:-1].mean()*100)\n",
    "            results[parameter]['p_sup'].append(accuracies[value][:-1].mean()*100)\n",
    "        \n",
    "    return results\n",
    "            \n",
    "for base in [2] if not args.filename == '../data/debug' else [2]:\n",
    "    print(50*'-')\n",
    "    print(' base=', base)\n",
    "    print(50*'-')\n",
    "\n",
    "    print(50*'-')\n",
    "    print(' parameter scan : data')\n",
    "    print(50*'-')\n",
    "    args = init(**opts)\n",
    "    mml = MetaML(args, base=base)\n",
    "    for parameter in ['sf_0', 'B_sf', 'offset_std' , 'noise']: #, 'contrast'\n",
    "        accuracies = mml.parameter_scan(parameter)\n",
    "        results = update_results(results, parameter, accuracies)\n",
    "        \n",
    "    print(50*'-')\n",
    "    print(' parameter scan : network')\n",
    "    print(50*'-')\n",
    "    args = init(**opts)\n",
    "    mml = MetaML(args)\n",
    "    for parameter in ['dim1',\n",
    "                      'bn1_bn_momentum',\n",
    "                      'dim2',\n",
    "                      'bn2_bn_momentum',\n",
    "                      'p_dropout']:\n",
    "        accuracies = mml.parameter_scan(parameter)\n",
    "        results = update_results(results, parameter, accuracies)\n",
    "\n",
    "    print(' parameter scan : learning ')\n",
    "    args = init(**opts)\n",
    "    mml = MetaML(args, base=base, tag='SGD')\n",
    "    print(50*'-')\n",
    "    print('Using SGD')\n",
    "    print(50*'-')\n",
    "    for parameter in ['lr', 'momentum', 'minibatch_size', 'epochs']:\n",
    "        mml.parameter_scan(parameter)\n",
    "    print(50*'-')\n",
    "    print('Using ADAM')\n",
    "    print(50*'-')\n",
    "    args = init(**opts)\n",
    "    args.do_adam = True\n",
    "    mml = MetaML(args, base=base, tag='adam')\n",
    "    for parameter in ['lr', 'momentum', 'minibatch_size', 'epochs']:\n",
    "        accuracies = mml.parameter_scan(parameter)\n",
    "        results = update_results(results, parameter, accuracies)\n",
    "\n",
    "    print(50*'-')\n",
    "    print(' parameter scan : retina')\n",
    "    print(50*'-')\n",
    "    args = init(**opts)\n",
    "    mml = MetaML(args)\n",
    "    for parameter in ['N_theta',\n",
    "                      'N_azimuth',\n",
    "                      'N_eccentricity',\n",
    "                      'rho']:\n",
    "        accuracies = mml.parameter_scan(parameter)\n",
    "        results = update_results(results, parameter, accuracies)\n",
    "        "
   ]
  },
  {
   "cell_type": "raw",
   "metadata": {},
   "source": [
    "%rm -fr ../data/_tmp_scanning"
   ]
  },
  {
   "cell_type": "code",
   "execution_count": null,
   "metadata": {},
   "outputs": [
    {
     "name": "stdout",
     "output_type": "stream",
     "text": [
      "--------------------------------------------------\n",
      " parameter scan\n",
      "--------------------------------------------------\n",
      "--------------------------------------------------\n",
      "Default parameters\n",
      "--------------------------------------------------\n",
      "Loading accuracy... min, max= 0.0145 0.9852\n",
      "Loading file ../data/2019-03-27_train.pt\n",
      "scanning over bias_deconv = [True, False]\n",
      "For parameter bias_deconv = True ,  Loading accuracy... min, max= 0.0145 0.9852\n"
     ]
    },
    {
     "name": "stderr",
     "output_type": "stream",
     "text": [
      "Train Epoch: 100%|██████████| 25/25 [21:51<00:00, 57.85s/it]\n"
     ]
    },
    {
     "name": "stdout",
     "output_type": "stream",
     "text": [
      "Loading accuracy... min, max= 0.0145 0.9852\n"
     ]
    },
    {
     "name": "stderr",
     "output_type": "stream",
     "text": [
      "Train Epoch: 100%|██████████| 25/25 [23:06<00:00, 56.42s/it]\n"
     ]
    },
    {
     "name": "stdout",
     "output_type": "stream",
     "text": [
      "Loading accuracy... min, max= 0.0145 0.9852\n"
     ]
    },
    {
     "name": "stderr",
     "output_type": "stream",
     "text": [
      "Train Epoch: 100%|██████████| 25/25 [23:30<00:00, 57.96s/it]\n"
     ]
    },
    {
     "name": "stdout",
     "output_type": "stream",
     "text": [
      "Loading accuracy... min, max= 0.0145 0.9852\n"
     ]
    },
    {
     "name": "stderr",
     "output_type": "stream",
     "text": [
      "Train Epoch: 100%|██████████| 25/25 [23:12<00:00, 56.68s/it]\n"
     ]
    },
    {
     "name": "stdout",
     "output_type": "stream",
     "text": [
      "Loading accuracy... min, max= 0.0145 0.9852\n"
     ]
    },
    {
     "name": "stderr",
     "output_type": "stream",
     "text": [
      "Train Epoch: 100%|██████████| 25/25 [23:04<00:00, 56.95s/it]\n"
     ]
    },
    {
     "name": "stdout",
     "output_type": "stream",
     "text": [
      "Loading accuracy... min, max= 0.0145 0.9852\n"
     ]
    },
    {
     "name": "stderr",
     "output_type": "stream",
     "text": [
      "Train Epoch: 100%|██████████| 25/25 [23:03<00:00, 56.60s/it]\n"
     ]
    },
    {
     "name": "stdout",
     "output_type": "stream",
     "text": [
      "Loading accuracy... min, max= 0.0145 0.9852\n"
     ]
    },
    {
     "name": "stderr",
     "output_type": "stream",
     "text": [
      "Train Epoch: 100%|██████████| 25/25 [23:03<00:00, 56.84s/it]\n"
     ]
    },
    {
     "name": "stdout",
     "output_type": "stream",
     "text": [
      "Loading accuracy... min, max= 0.0145 0.9852\n"
     ]
    },
    {
     "name": "stderr",
     "output_type": "stream",
     "text": [
      "Train Epoch: 100%|██████████| 25/25 [22:54<00:00, 56.18s/it]\n"
     ]
    },
    {
     "name": "stdout",
     "output_type": "stream",
     "text": [
      "Accuracy=72.6% +/- 0.0%  in 11216.0 seconds\n",
      "For parameter bias_deconv = False ,  Accuracy=73.2% +/- 0.0%  in 11028.7 seconds\n",
      "--------------------------------------------------\n",
      " base= 2\n",
      "--------------------------------------------------\n",
      "--------------------------------------------------\n",
      " parameter scan : data\n",
      "--------------------------------------------------\n",
      "scanning over sf_0 = [0.1        0.11892071 0.14142136 0.16817928 0.2        0.23784142\n",
      " 0.28284271 0.33635857 0.4       ]\n",
      "For parameter sf_0 = 0.100 ,  Accuracy=66.7% +/- 0.0%  in 10215.2 seconds\n",
      "For parameter sf_0 = 0.119 ,  Accuracy=67.3% +/- 0.0%  in 10340.1 seconds\n",
      "For parameter sf_0 = 0.141 ,  Accuracy=68.7% +/- 0.0%  in 10952.7 seconds\n",
      "For parameter sf_0 = 0.168 ,   currently locked with  ../data/_tmp_scanning/sf_0__0_168.npy_lock\n",
      "For parameter sf_0 = 0.200 ,   currently locked with  ../data/_tmp_scanning/sf_0__0_200.npy_lock\n",
      "For parameter sf_0 = 0.238 ,   currently locked with  ../data/_tmp_scanning/sf_0__0_238.npy_lock\n",
      "For parameter sf_0 = 0.283 ,   currently locked with  ../data/_tmp_scanning/sf_0__0_283.npy_lock\n",
      "For parameter sf_0 = 0.336 ,   currently locked with  ../data/_tmp_scanning/sf_0__0_336.npy_lock\n",
      "For parameter sf_0 = 0.400 ,   currently locked with  ../data/_tmp_scanning/sf_0__0_400.npy_lock\n"
     ]
    },
    {
     "name": "stderr",
     "output_type": "stream",
     "text": [
      "/usr/local/lib/python3.7/site-packages/scipy/stats/_continuous_distns.py:603: RuntimeWarning: divide by zero encountered in double_scalars\n",
      "  fac = xbar * (1 - xbar) / data.var(ddof=0) - 1\n",
      "/usr/local/lib/python3.7/site-packages/scipy/stats/_continuous_distns.py:452: RuntimeWarning: invalid value encountered in double_scalars\n",
      "  func = [s1 - n * (-psiab + sc.psi(a)),\n",
      "/usr/local/lib/python3.7/site-packages/scipy/stats/_continuous_distns.py:453: RuntimeWarning: invalid value encountered in double_scalars\n",
      "  s2 - n * (-psiab + sc.psi(b))]\n"
     ]
    },
    {
     "name": "stdout",
     "output_type": "stream",
     "text": [
      "scanning over B_sf = [0.15       0.17838107 0.21213203 0.25226892 0.3        0.35676213\n",
      " 0.42426407 0.50453785 0.6       ]\n",
      "For parameter B_sf = 0.150 ,   currently locked with  ../data/_tmp_scanning/B_sf__0_150.npy_lock\n",
      "For parameter B_sf = 0.178 ,   currently locked with  ../data/_tmp_scanning/B_sf__0_178.npy_lock\n",
      "For parameter B_sf = 0.212 ,   currently locked with  ../data/_tmp_scanning/B_sf__0_212.npy_lock\n",
      "For parameter B_sf = 0.252 ,   currently locked with  ../data/_tmp_scanning/B_sf__0_252.npy_lock\n",
      "For parameter B_sf = 0.300 ,   currently locked with  ../data/_tmp_scanning/B_sf__0_300.npy_lock\n",
      "For parameter B_sf = 0.357 ,  Loading accuracy... min, max= 0.0145 0.9852\n"
     ]
    },
    {
     "name": "stderr",
     "output_type": "stream",
     "text": [
      "Train Epoch: 100%|██████████| 25/25 [22:36<00:00, 55.38s/it]\n"
     ]
    },
    {
     "name": "stdout",
     "output_type": "stream",
     "text": [
      "Loading accuracy... min, max= 0.0145 0.9852\n"
     ]
    },
    {
     "name": "stderr",
     "output_type": "stream",
     "text": [
      "Train Epoch: 100%|██████████| 25/25 [22:32<00:00, 55.01s/it]\n"
     ]
    },
    {
     "name": "stdout",
     "output_type": "stream",
     "text": [
      "Loading accuracy... min, max= 0.0145 0.9852\n"
     ]
    },
    {
     "name": "stderr",
     "output_type": "stream",
     "text": [
      "Train Epoch: 100%|██████████| 25/25 [22:32<00:00, 55.29s/it]\n"
     ]
    },
    {
     "name": "stdout",
     "output_type": "stream",
     "text": [
      "Loading accuracy... min, max= 0.0145 0.9852\n"
     ]
    },
    {
     "name": "stderr",
     "output_type": "stream",
     "text": [
      "Train Epoch: 100%|██████████| 25/25 [22:30<00:00, 54.66s/it]\n"
     ]
    },
    {
     "name": "stdout",
     "output_type": "stream",
     "text": [
      "Loading accuracy... min, max= 0.0145 0.9852\n"
     ]
    },
    {
     "name": "stderr",
     "output_type": "stream",
     "text": [
      "Train Epoch: 100%|██████████| 25/25 [22:31<00:00, 54.67s/it]\n"
     ]
    },
    {
     "name": "stdout",
     "output_type": "stream",
     "text": [
      "Loading accuracy... min, max= 0.0145 0.9852\n"
     ]
    },
    {
     "name": "stderr",
     "output_type": "stream",
     "text": [
      "Train Epoch: 100%|██████████| 25/25 [22:43<00:00, 55.18s/it]\n"
     ]
    },
    {
     "name": "stdout",
     "output_type": "stream",
     "text": [
      "Loading accuracy... min, max= 0.0145 0.9852\n"
     ]
    },
    {
     "name": "stderr",
     "output_type": "stream",
     "text": [
      "Train Epoch: 100%|██████████| 25/25 [22:36<00:00, 54.96s/it]\n"
     ]
    },
    {
     "name": "stdout",
     "output_type": "stream",
     "text": [
      "Loading accuracy... min, max= 0.0145 0.9852\n"
     ]
    },
    {
     "name": "stderr",
     "output_type": "stream",
     "text": [
      "Train Epoch: 100%|██████████| 25/25 [22:46<00:00, 55.54s/it]\n"
     ]
    },
    {
     "name": "stdout",
     "output_type": "stream",
     "text": [
      "Accuracy=71.4% +/- 0.0%  in 11044.4 seconds\n",
      "For parameter B_sf = 0.424 ,   currently locked with  ../data/_tmp_scanning/B_sf__0_424.npy_lock\n",
      "For parameter B_sf = 0.505 ,   currently locked with  ../data/_tmp_scanning/B_sf__0_505.npy_lock\n",
      "For parameter B_sf = 0.600 ,  Accuracy=70.7% +/- 0.0%  in 10859.5 seconds\n",
      "scanning over offset_std = [15, 17, 21, 25, 30, 35, 42, 50, 60]\n",
      "For parameter offset_std = 15 ,   currently locked with  ../data/_tmp_scanning/offset_std__15.npy_lock\n",
      "For parameter offset_std = 17 ,  Accuracy=78.3% +/- 0.0%  in 10645.6 seconds\n",
      "For parameter offset_std = 21 ,   currently locked with  ../data/_tmp_scanning/offset_std__21.npy_lock\n",
      "For parameter offset_std = 25 ,   currently locked with  ../data/_tmp_scanning/offset_std__25.npy_lock\n",
      "For parameter offset_std = 30 ,   currently locked with  ../data/_tmp_scanning/offset_std__30.npy_lock\n",
      "For parameter offset_std = 35 ,   currently locked with  ../data/_tmp_scanning/offset_std__35.npy_lock\n",
      "For parameter offset_std = 42 ,   currently locked with  ../data/_tmp_scanning/offset_std__42.npy_lock\n",
      "For parameter offset_std = 50 ,   currently locked with  ../data/_tmp_scanning/offset_std__50.npy_lock\n",
      "For parameter offset_std = 60 ,  Loading accuracy... min, max= 0.0145 0.9852\n"
     ]
    },
    {
     "name": "stderr",
     "output_type": "stream",
     "text": [
      "Train Epoch: 100%|██████████| 25/25 [23:43<00:00, 58.39s/it]\n"
     ]
    },
    {
     "name": "stdout",
     "output_type": "stream",
     "text": [
      "Loading accuracy... min, max= 0.0145 0.9852\n"
     ]
    },
    {
     "name": "stderr",
     "output_type": "stream",
     "text": [
      "Train Epoch: 100%|██████████| 25/25 [23:19<00:00, 58.05s/it]\n"
     ]
    },
    {
     "name": "stdout",
     "output_type": "stream",
     "text": [
      "Loading accuracy... min, max= 0.0145 0.9852\n"
     ]
    },
    {
     "name": "stderr",
     "output_type": "stream",
     "text": [
      "Train Epoch: 100%|██████████| 25/25 [23:22<00:00, 58.37s/it]\n"
     ]
    },
    {
     "name": "stdout",
     "output_type": "stream",
     "text": [
      "Loading accuracy... min, max= 0.0145 0.9852\n"
     ]
    },
    {
     "name": "stderr",
     "output_type": "stream",
     "text": [
      "Train Epoch: 100%|██████████| 25/25 [23:21<00:00, 58.23s/it]\n"
     ]
    },
    {
     "name": "stdout",
     "output_type": "stream",
     "text": [
      "Loading accuracy... min, max= 0.0145 0.9852\n"
     ]
    },
    {
     "name": "stderr",
     "output_type": "stream",
     "text": [
      "Train Epoch: 100%|██████████| 25/25 [23:21<00:00, 58.42s/it]\n"
     ]
    },
    {
     "name": "stdout",
     "output_type": "stream",
     "text": [
      "Loading accuracy... min, max= 0.0145 0.9852\n"
     ]
    },
    {
     "name": "stderr",
     "output_type": "stream",
     "text": [
      "Train Epoch: 100%|██████████| 25/25 [23:23<00:00, 58.70s/it]\n"
     ]
    },
    {
     "name": "stdout",
     "output_type": "stream",
     "text": [
      "Loading accuracy... min, max= 0.0145 0.9852\n"
     ]
    },
    {
     "name": "stderr",
     "output_type": "stream",
     "text": [
      "Train Epoch: 100%|██████████| 25/25 [23:19<00:00, 58.13s/it]\n"
     ]
    },
    {
     "name": "stdout",
     "output_type": "stream",
     "text": [
      "Loading accuracy... min, max= 0.0145 0.9852\n"
     ]
    },
    {
     "name": "stderr",
     "output_type": "stream",
     "text": [
      "Train Epoch: 100%|██████████| 25/25 [22:49<00:00, 56.49s/it]\n"
     ]
    },
    {
     "name": "stdout",
     "output_type": "stream",
     "text": [
      "Accuracy=63.2% +/- 0.0%  in 11396.5 seconds\n",
      "scanning over noise = [0.5        0.59460356 0.70710678 0.84089642 1.         1.18920712\n",
      " 1.41421356 1.68179283 2.        ]\n",
      "For parameter noise = 0.500 ,  Accuracy=81.8% +/- 0.0%  in 9939.2 seconds\n",
      "For parameter noise = 0.595 ,  Accuracy=80.7% +/- 0.0%  in 10147.6 seconds\n",
      "For parameter noise = 0.707 ,  Accuracy=79.2% +/- 0.0%  in 10378.1 seconds\n",
      "For parameter noise = 0.841 ,  Accuracy=75.9% +/- 0.0%  in 10740.2 seconds\n",
      "For parameter noise = 1.000 ,   currently locked with  ../data/_tmp_scanning/noise__1_000.npy_lock\n",
      "For parameter noise = 1.189 ,   currently locked with  ../data/_tmp_scanning/noise__1_189.npy_lock\n",
      "For parameter noise = 1.414 ,   currently locked with  ../data/_tmp_scanning/noise__1_414.npy_lock\n",
      "For parameter noise = 1.682 ,   currently locked with  ../data/_tmp_scanning/noise__1_682.npy_lock\n",
      "For parameter noise = 2.000 ,   currently locked with  ../data/_tmp_scanning/noise__2_000.npy_lock\n",
      "--------------------------------------------------\n",
      " parameter scan : network\n",
      "--------------------------------------------------\n",
      "scanning over dim1 = [250, 297, 353, 420, 500, 594, 707, 840, 1000]\n",
      "For parameter dim1 = 250 ,   currently locked with  ../data/_tmp_scanning/dim1__250.npy_lock\n",
      "For parameter dim1 = 297 ,   currently locked with  ../data/_tmp_scanning/dim1__297.npy_lock\n",
      "For parameter dim1 = 353 ,   currently locked with  ../data/_tmp_scanning/dim1__353.npy_lock\n",
      "For parameter dim1 = 420 ,   currently locked with  ../data/_tmp_scanning/dim1__420.npy_lock\n",
      "For parameter dim1 = 500 ,   currently locked with  ../data/_tmp_scanning/dim1__500.npy_lock\n",
      "For parameter dim1 = 594 ,   currently locked with  ../data/_tmp_scanning/dim1__594.npy_lock\n",
      "For parameter dim1 = 707 ,  Loading accuracy... min, max= 0.0145 0.9852\n"
     ]
    },
    {
     "name": "stderr",
     "output_type": "stream",
     "text": [
      "Train Epoch: 100%|██████████| 25/25 [28:31<00:00, 71.88s/it]\n"
     ]
    },
    {
     "name": "stdout",
     "output_type": "stream",
     "text": [
      "Loading accuracy... min, max= 0.0145 0.9852\n"
     ]
    },
    {
     "name": "stderr",
     "output_type": "stream",
     "text": [
      "Train Epoch: 100%|██████████| 25/25 [28:26<00:00, 71.82s/it]\n"
     ]
    },
    {
     "name": "stdout",
     "output_type": "stream",
     "text": [
      "Loading accuracy... min, max= 0.0145 0.9852\n"
     ]
    },
    {
     "name": "stderr",
     "output_type": "stream",
     "text": [
      "Train Epoch: 100%|██████████| 25/25 [28:26<00:00, 71.22s/it]\n"
     ]
    },
    {
     "name": "stdout",
     "output_type": "stream",
     "text": [
      "Loading accuracy... min, max= 0.0145 0.9852\n"
     ]
    },
    {
     "name": "stderr",
     "output_type": "stream",
     "text": [
      "Train Epoch: 100%|██████████| 25/25 [28:28<00:00, 71.28s/it]\n"
     ]
    },
    {
     "name": "stdout",
     "output_type": "stream",
     "text": [
      "Loading accuracy... min, max= 0.0145 0.9852\n"
     ]
    },
    {
     "name": "stderr",
     "output_type": "stream",
     "text": [
      "Train Epoch: 100%|██████████| 25/25 [28:20<00:00, 70.74s/it]\n"
     ]
    },
    {
     "name": "stdout",
     "output_type": "stream",
     "text": [
      "Loading accuracy... min, max= 0.0145 0.9852\n"
     ]
    },
    {
     "name": "stderr",
     "output_type": "stream",
     "text": [
      "Train Epoch: 100%|██████████| 25/25 [28:33<00:00, 71.16s/it]\n"
     ]
    },
    {
     "name": "stdout",
     "output_type": "stream",
     "text": [
      "Loading accuracy... min, max= 0.0145 0.9852\n"
     ]
    },
    {
     "name": "stderr",
     "output_type": "stream",
     "text": [
      "Train Epoch: 100%|██████████| 25/25 [28:28<00:00, 71.29s/it]\n"
     ]
    },
    {
     "name": "stdout",
     "output_type": "stream",
     "text": [
      "Loading accuracy... min, max= 0.0145 0.9852\n"
     ]
    },
    {
     "name": "stderr",
     "output_type": "stream",
     "text": [
      "Train Epoch: 100%|██████████| 25/25 [28:55<00:00, 72.39s/it]\n"
     ]
    },
    {
     "name": "stdout",
     "output_type": "stream",
     "text": [
      "Accuracy=72.6% +/- 0.0%  in 13874.3 seconds\n",
      "For parameter dim1 = 840 ,   currently locked with  ../data/_tmp_scanning/dim1__840.npy_lock\n",
      "For parameter dim1 = 1000 ,   currently locked with  ../data/_tmp_scanning/dim1__1000.npy_lock\n",
      "scanning over bn1_bn_momentum = [0.    0.125 0.25  0.375 0.5   0.625 0.75  0.875 1.   ]\n",
      "For parameter bn1_bn_momentum = 0.000 ,   currently locked with  ../data/_tmp_scanning/bn1_bn_momentum__0_000.npy_lock\n",
      "For parameter bn1_bn_momentum = 0.125 ,   currently locked with  ../data/_tmp_scanning/bn1_bn_momentum__0_125.npy_lock\n",
      "For parameter bn1_bn_momentum = 0.250 ,   currently locked with  ../data/_tmp_scanning/bn1_bn_momentum__0_250.npy_lock\n",
      "For parameter bn1_bn_momentum = 0.375 ,   currently locked with  ../data/_tmp_scanning/bn1_bn_momentum__0_375.npy_lock\n",
      "For parameter bn1_bn_momentum = 0.500 ,   currently locked with  ../data/_tmp_scanning/bn1_bn_momentum__0_500.npy_lock\n",
      "For parameter bn1_bn_momentum = 0.625 ,   currently locked with  ../data/_tmp_scanning/bn1_bn_momentum__0_625.npy_lock\n",
      "For parameter bn1_bn_momentum = 0.750 ,   currently locked with  ../data/_tmp_scanning/bn1_bn_momentum__0_750.npy_lock\n",
      "For parameter bn1_bn_momentum = 0.875 ,   currently locked with  ../data/_tmp_scanning/bn1_bn_momentum__0_875.npy_lock\n",
      "For parameter bn1_bn_momentum = 1.000 ,   currently locked with  ../data/_tmp_scanning/bn1_bn_momentum__1_000.npy_lock\n",
      "scanning over dim2 = [1000, 1189, 1414, 1681, 2000, 2378, 2828, 3363, 4000]\n",
      "For parameter dim2 = 1000 ,  Loading accuracy... min, max= 0.0145 0.9852\n"
     ]
    },
    {
     "name": "stderr",
     "output_type": "stream",
     "text": [
      "Train Epoch: 100%|██████████| 25/25 [15:07<00:00, 37.04s/it]\n"
     ]
    },
    {
     "name": "stdout",
     "output_type": "stream",
     "text": [
      "Loading accuracy... min, max= 0.0145 0.9852\n"
     ]
    },
    {
     "name": "stderr",
     "output_type": "stream",
     "text": [
      "Train Epoch: 100%|██████████| 25/25 [15:17<00:00, 37.74s/it]\n"
     ]
    },
    {
     "name": "stdout",
     "output_type": "stream",
     "text": [
      "Loading accuracy... min, max= 0.0145 0.9852\n"
     ]
    },
    {
     "name": "stderr",
     "output_type": "stream",
     "text": [
      "Train Epoch: 100%|██████████| 25/25 [15:18<00:00, 37.37s/it]\n"
     ]
    },
    {
     "name": "stdout",
     "output_type": "stream",
     "text": [
      "Loading accuracy... min, max= 0.0145 0.9852\n"
     ]
    },
    {
     "name": "stderr",
     "output_type": "stream",
     "text": [
      "Train Epoch: 100%|██████████| 25/25 [15:11<00:00, 37.23s/it]\n"
     ]
    },
    {
     "name": "stdout",
     "output_type": "stream",
     "text": [
      "Loading accuracy... min, max= 0.0145 0.9852\n"
     ]
    },
    {
     "name": "stderr",
     "output_type": "stream",
     "text": [
      "Train Epoch: 100%|██████████| 25/25 [15:10<00:00, 37.22s/it]\n"
     ]
    },
    {
     "name": "stdout",
     "output_type": "stream",
     "text": [
      "Loading accuracy... min, max= 0.0145 0.9852\n"
     ]
    },
    {
     "name": "stderr",
     "output_type": "stream",
     "text": [
      "Train Epoch: 100%|██████████| 25/25 [15:13<00:00, 37.38s/it]\n"
     ]
    },
    {
     "name": "stdout",
     "output_type": "stream",
     "text": [
      "Loading accuracy... min, max= 0.0145 0.9852\n"
     ]
    },
    {
     "name": "stderr",
     "output_type": "stream",
     "text": [
      "Train Epoch: 100%|██████████| 25/25 [15:11<00:00, 37.28s/it]\n"
     ]
    },
    {
     "name": "stdout",
     "output_type": "stream",
     "text": [
      "Loading accuracy... min, max= 0.0145 0.9852\n"
     ]
    },
    {
     "name": "stderr",
     "output_type": "stream",
     "text": [
      "Train Epoch: 100%|██████████| 25/25 [15:12<00:00, 37.09s/it]\n"
     ]
    },
    {
     "name": "stdout",
     "output_type": "stream",
     "text": [
      "Accuracy=72.5% +/- 0.0%  in 7488.8 seconds\n",
      "For parameter dim2 = 1189 ,   currently locked with  ../data/_tmp_scanning/dim2__1189.npy_lock\n",
      "For parameter dim2 = 1414 ,   currently locked with  ../data/_tmp_scanning/dim2__1414.npy_lock\n",
      "For parameter dim2 = 1681 ,   currently locked with  ../data/_tmp_scanning/dim2__1681.npy_lock\n",
      "For parameter dim2 = 2000 ,   currently locked with  ../data/_tmp_scanning/dim2__2000.npy_lock\n",
      "For parameter dim2 = 2378 ,   currently locked with  ../data/_tmp_scanning/dim2__2378.npy_lock\n",
      "For parameter dim2 = 2828 ,   currently locked with  ../data/_tmp_scanning/dim2__2828.npy_lock\n",
      "For parameter dim2 = 3363 ,   currently locked with  ../data/_tmp_scanning/dim2__3363.npy_lock\n",
      "For parameter dim2 = 4000 ,  Loading accuracy... min, max= 0.0145 0.9852\n"
     ]
    },
    {
     "name": "stderr",
     "output_type": "stream",
     "text": [
      "Train Epoch: 100%|██████████| 25/25 [32:17<00:00, 80.49s/it]\n"
     ]
    },
    {
     "name": "stdout",
     "output_type": "stream",
     "text": [
      "Loading accuracy... min, max= 0.0145 0.9852\n"
     ]
    },
    {
     "name": "stderr",
     "output_type": "stream",
     "text": [
      "Train Epoch: 100%|██████████| 25/25 [32:25<00:00, 80.38s/it]\n"
     ]
    },
    {
     "name": "stdout",
     "output_type": "stream",
     "text": [
      "Loading accuracy... min, max= 0.0145 0.9852\n"
     ]
    },
    {
     "name": "stderr",
     "output_type": "stream",
     "text": [
      "Train Epoch: 100%|██████████| 25/25 [32:24<00:00, 80.36s/it]\n"
     ]
    },
    {
     "name": "stdout",
     "output_type": "stream",
     "text": [
      "Loading accuracy... min, max= 0.0145 0.9852\n"
     ]
    },
    {
     "name": "stderr",
     "output_type": "stream",
     "text": [
      "Train Epoch: 100%|██████████| 25/25 [32:27<00:00, 80.66s/it]\n"
     ]
    },
    {
     "name": "stdout",
     "output_type": "stream",
     "text": [
      "Loading accuracy... min, max= 0.0145 0.9852\n"
     ]
    },
    {
     "name": "stderr",
     "output_type": "stream",
     "text": [
      "Train Epoch: 100%|██████████| 25/25 [32:28<00:00, 80.75s/it]\n"
     ]
    },
    {
     "name": "stdout",
     "output_type": "stream",
     "text": [
      "Loading accuracy... min, max= 0.0145 0.9852\n"
     ]
    },
    {
     "name": "stderr",
     "output_type": "stream",
     "text": [
      "Train Epoch: 100%|██████████| 25/25 [32:12<00:00, 79.57s/it]\n"
     ]
    },
    {
     "name": "stdout",
     "output_type": "stream",
     "text": [
      "Loading accuracy... min, max= 0.0145 0.9852\n"
     ]
    },
    {
     "name": "stderr",
     "output_type": "stream",
     "text": [
      "Train Epoch: 100%|██████████| 25/25 [31:58<00:00, 78.81s/it]\n"
     ]
    },
    {
     "name": "stdout",
     "output_type": "stream",
     "text": [
      "Loading accuracy... min, max= 0.0145 0.9852\n"
     ]
    },
    {
     "name": "stderr",
     "output_type": "stream",
     "text": [
      "Train Epoch: 100%|██████████| 25/25 [32:15<00:00, 80.30s/it]\n"
     ]
    },
    {
     "name": "stdout",
     "output_type": "stream",
     "text": [
      "Accuracy=73.6% +/- 0.0%  in 15704.5 seconds\n",
      "scanning over bn2_bn_momentum = [0.    0.125 0.25  0.375 0.5   0.625 0.75  0.875 1.   ]\n",
      "For parameter bn2_bn_momentum = 0.000 ,  Accuracy=74.2% +/- 0.0%  in 9234.6 seconds\n",
      "For parameter bn2_bn_momentum = 0.125 ,  Accuracy=72.7% +/- 0.0%  in 11263.1 seconds\n",
      "For parameter bn2_bn_momentum = 0.250 ,  Accuracy=72.7% +/- 0.0%  in 11256.3 seconds\n",
      "For parameter bn2_bn_momentum = 0.375 ,  Accuracy=72.6% +/- 0.0%  in 11233.6 seconds\n",
      "For parameter bn2_bn_momentum = 0.500 ,  Accuracy=72.6% +/- 0.0%  in 11245.7 seconds\n",
      "For parameter bn2_bn_momentum = 0.625 ,  Accuracy=72.7% +/- 0.0%  in 11226.1 seconds\n",
      "For parameter bn2_bn_momentum = 0.750 ,   currently locked with  ../data/_tmp_scanning/bn2_bn_momentum__0_750.npy_lock\n",
      "For parameter bn2_bn_momentum = 0.875 ,   currently locked with  ../data/_tmp_scanning/bn2_bn_momentum__0_875.npy_lock\n",
      "For parameter bn2_bn_momentum = 1.000 ,   currently locked with  ../data/_tmp_scanning/bn2_bn_momentum__1_000.npy_lock\n",
      "scanning over p_dropout = [0.    0.125 0.25  0.375 0.5   0.625 0.75  0.875 1.   ]\n",
      "For parameter p_dropout = 0.000 ,   currently locked with  ../data/_tmp_scanning/p_dropout__0_000.npy_lock\n",
      "For parameter p_dropout = 0.125 ,   currently locked with  ../data/_tmp_scanning/p_dropout__0_125.npy_lock\n",
      "For parameter p_dropout = 0.250 ,   currently locked with  ../data/_tmp_scanning/p_dropout__0_250.npy_lock\n",
      "For parameter p_dropout = 0.375 ,   currently locked with  ../data/_tmp_scanning/p_dropout__0_375.npy_lock\n",
      "For parameter p_dropout = 0.500 ,   currently locked with  ../data/_tmp_scanning/p_dropout__0_500.npy_lock\n",
      "For parameter p_dropout = 0.625 ,   currently locked with  ../data/_tmp_scanning/p_dropout__0_625.npy_lock\n",
      "For parameter p_dropout = 0.750 ,   currently locked with  ../data/_tmp_scanning/p_dropout__0_750.npy_lock\n",
      "For parameter p_dropout = 0.875 ,   currently locked with  ../data/_tmp_scanning/p_dropout__0_875.npy_lock\n",
      "For parameter p_dropout = 1.000 ,  Loading accuracy... min, max= 0.0145 0.9852\n"
     ]
    },
    {
     "name": "stderr",
     "output_type": "stream",
     "text": [
      "Train Epoch: 100%|██████████| 25/25 [20:05<00:00, 48.27s/it]\n"
     ]
    },
    {
     "name": "stdout",
     "output_type": "stream",
     "text": [
      "Loading accuracy... min, max= 0.0145 0.9852\n"
     ]
    },
    {
     "name": "stderr",
     "output_type": "stream",
     "text": [
      "Train Epoch: 100%|██████████| 25/25 [19:56<00:00, 48.07s/it]\n"
     ]
    },
    {
     "name": "stdout",
     "output_type": "stream",
     "text": [
      "Loading accuracy... min, max= 0.0145 0.9852\n"
     ]
    },
    {
     "name": "stderr",
     "output_type": "stream",
     "text": [
      "Train Epoch: 100%|██████████| 25/25 [19:43<00:00, 47.30s/it]\n"
     ]
    },
    {
     "name": "stdout",
     "output_type": "stream",
     "text": [
      "Loading accuracy... min, max= 0.0145 0.9852\n"
     ]
    },
    {
     "name": "stderr",
     "output_type": "stream",
     "text": [
      "Train Epoch: 100%|██████████| 25/25 [20:05<00:00, 48.24s/it]\n"
     ]
    },
    {
     "name": "stdout",
     "output_type": "stream",
     "text": [
      "Loading accuracy... min, max= 0.0145 0.9852\n"
     ]
    },
    {
     "name": "stderr",
     "output_type": "stream",
     "text": [
      "Train Epoch: 100%|██████████| 25/25 [20:14<00:00, 47.66s/it]\n"
     ]
    },
    {
     "name": "stdout",
     "output_type": "stream",
     "text": [
      "Loading accuracy... min, max= 0.0145 0.9852\n"
     ]
    },
    {
     "name": "stderr",
     "output_type": "stream",
     "text": [
      "Train Epoch: 100%|██████████| 25/25 [20:07<00:00, 48.24s/it]\n"
     ]
    },
    {
     "name": "stdout",
     "output_type": "stream",
     "text": [
      "Loading accuracy... min, max= 0.0145 0.9852\n"
     ]
    },
    {
     "name": "stderr",
     "output_type": "stream",
     "text": [
      "Train Epoch:  84%|████████▍ | 21/25 [16:54<03:16, 49.24s/it]"
     ]
    }
   ],
   "source": [
    "%run params.py scan"
   ]
  },
  {
   "cell_type": "markdown",
   "metadata": {},
   "source": [
    "## parameter scan"
   ]
  },
  {
   "cell_type": "code",
   "execution_count": null,
   "metadata": {},
   "outputs": [],
   "source": [
    "def plot_accuracy(result, xmin=10, fig=None, ax=None, ylabel=None):\n",
    "    if fig is None: fig, ax = plt.subplots(figsize=(5, 5))\n",
    "    #ax.plot(result['accuracy'], result['value'], \"o\", color='blue')\n",
    "    # print(value, accuracy)\n",
    "    ax.hlines(y=result['value'], xmin=result['accuracy'], xmax=100, color='red')\n",
    "    ax.hlines(y=result['value'], xmin=xmin, xmax=result['accuracy'], color='skyblue')\n",
    "    ax.hlines(y=result['value'], xmin=result['p_low'], xmax=result['p_sup'], color='blue', alpha=1., lw=7)\n",
    "\n",
    "    if ylabel is None:\n",
    "        ylabel = parameter.capitalize()\n",
    "    ax.set_ylabel(ylabel)\n",
    "    #print( results[parameter]['value'] )\n",
    "    #print( np.min([np.float(k) for k in results[parameter]['value']]))\n",
    "    #ax.vlines(100, np.min(results[parameter]['value']), np.max(results[parameter]['value']), 'k', label='max')\n",
    "    ax.set_xlabel('Accuracy (%)')\n",
    "    # Only draw spine between the y-ticks\n",
    "    #ax.spines['left'].set_bounds(-1, 1)\n",
    "    # Hide the right and top spines\n",
    "    ax.spines['right'].set_visible(False)\n",
    "    ax.spines['top'].set_visible(False)\n",
    "    # Only show ticks on the left and bottom spines\n",
    "    ax.yaxis.set_ticks_position('left')\n",
    "    ax.xaxis.set_ticks_position('bottom')\n",
    "\n",
    "    return fig, ax"
   ]
  },
  {
   "cell_type": "code",
   "execution_count": null,
   "metadata": {
    "ExecuteTime": {
     "end_time": "2018-10-02T14:43:40.994298Z",
     "start_time": "2018-10-02T14:43:36.893054Z"
    },
    "scrolled": false
   },
   "outputs": [],
   "source": [
    "figname_ = 'accuracy_'\n",
    "figname_ = ''\n",
    "\n",
    "tex = ''\n",
    "for parameter in results.keys():\n",
    "    print('--->',  parameter)\n",
    "    fig, ax = plot_accuracy(results[parameter])\n",
    "    plt.show()\n",
    "    if not figname_ == '':\n",
    "        fig_dir = './'\n",
    "        fig_ext = '.pdf'\n",
    "        fname = figname_ + parameter + fig_ext\n",
    "        tex += \"\\includegraphics[width=.0666\\linewidth]{\"+ fname + \"} \\n\"\n",
    "        fig.savefig(os.path.join(fig_dir, fname),\n",
    "                bbox_inches='tight', pad_inches=0)\n",
    "print(tex)"
   ]
  },
  {
   "cell_type": "markdown",
   "metadata": {},
   "source": [
    "# summary\n"
   ]
  },
  {
   "cell_type": "raw",
   "metadata": {},
   "source": [
    "%ls ../data/_tmp_scanning"
   ]
  },
  {
   "cell_type": "code",
   "execution_count": null,
   "metadata": {},
   "outputs": [],
   "source": [
    "results.keys()"
   ]
  },
  {
   "cell_type": "code",
   "execution_count": null,
   "metadata": {},
   "outputs": [],
   "source": [
    "parameters = [['epochs', 'dim1', 'dim2', 'N_azimuth'],\n",
    "              ['noise', 'offset_std', 'sf_0', 'B_sf']]  # '', 'lr', \n",
    "fig, axs = plt.subplots(len(parameters), len(parameters[0]), figsize = (figwidth, figwidth/len(parameters)*1.1), subplot_kw={})\n",
    "\n",
    "for i_row, parameters_ in enumerate(parameters):\n",
    "    for ax, parameter in zip(axs[i_row], parameters_):\n",
    "        fig, ax = plot_accuracy(results[parameter], xmin=10, fig=fig, ax=ax)\n",
    "\n",
    "plt.tight_layout()\n",
    "fig.savefig(figname + '.pdf', bbox_inches='tight', pad_inches=0.05)"
   ]
  },
  {
   "cell_type": "markdown",
   "metadata": {},
   "source": [
    "# post-processing"
   ]
  },
  {
   "cell_type": "code",
   "execution_count": null,
   "metadata": {
    "ExecuteTime": {
     "end_time": "2018-10-08T14:43:27.591507Z",
     "start_time": "2018-10-08T14:43:24.722160Z"
    }
   },
   "outputs": [],
   "source": [
    "!convert  -density {dpi_export} {figname}.pdf {figname}.jpg\n",
    "!convert  -density {dpi_export} {figname}.pdf {figname}.png\n",
    "#!convert  -density {dpi_export} -resize 5400  -units pixelsperinch -flatten  -compress lzw  -depth 8 {fname}.pdf {fname}.tiff"
   ]
  },
  {
   "cell_type": "code",
   "execution_count": null,
   "metadata": {
    "ExecuteTime": {
     "end_time": "2018-07-03T10:36:00.981927Z",
     "start_time": "2018-07-03T10:36:00.949864Z"
    }
   },
   "outputs": [],
   "source": [
    "from IPython.display import Image\n",
    "Image('{figname}.png'.format(figname=figname))"
   ]
  },
  {
   "cell_type": "code",
   "execution_count": null,
   "metadata": {
    "ExecuteTime": {
     "end_time": "2018-07-03T10:36:00.939193Z",
     "start_time": "2018-07-03T10:36:00.766218Z"
    }
   },
   "outputs": [],
   "source": [
    "!ls  -l {figname}*"
   ]
  }
 ],
 "metadata": {
  "kernelspec": {
   "display_name": "Python 3",
   "language": "python",
   "name": "python3"
  },
  "language_info": {
   "codemirror_mode": {
    "name": "ipython",
    "version": 3
   },
   "file_extension": ".py",
   "mimetype": "text/x-python",
   "name": "python",
   "nbconvert_exporter": "python",
   "pygments_lexer": "ipython3",
   "version": "3.7.2"
  }
 },
 "nbformat": 4,
 "nbformat_minor": 2
}
