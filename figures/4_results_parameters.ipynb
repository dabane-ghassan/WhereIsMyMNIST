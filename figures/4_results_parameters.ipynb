{
 "cells": [
  {
   "cell_type": "markdown",
   "metadata": {},
   "source": [
    "This notebook introduces the problem addressed in this paper:\n",
    "\n",
    " - localizating an object in a large image\n",
    " - foveation\n",
    " - action (saccade)\n",
    " "
   ]
  },
  {
   "cell_type": "code",
   "execution_count": 1,
   "metadata": {
    "ExecuteTime": {
     "end_time": "2018-07-03T10:34:13.258190Z",
     "start_time": "2018-07-03T10:34:13.251661Z"
    },
    "collapsed": true
   },
   "outputs": [],
   "source": [
    "figname = '../paper/fig_params'"
   ]
  },
  {
   "cell_type": "code",
   "execution_count": 2,
   "metadata": {},
   "outputs": [
    {
     "name": "stdout",
     "output_type": "stream",
     "text": [
      "\n",
      "This notebook introduces the problem addressed in this paper:\n",
      "\n",
      " - localizating an object in a large image\n",
      " - foveation\n",
      " - action (saccade)\n",
      "       \n",
      "      \n",
      "Using filename= ../data/2019-03-19\n",
      "{'w': 28, 'minibatch_size': 100, 'train_batch_size': 50000, 'test_batch_size': 5000, 'noise_batch_size': 1000, 'mean': 0.1307, 'std': 0.3081, 'N_pic': 128, 'offset_std': 30, 'offset_max': 35, 'noise': 0.7, 'contrast': 0.8, 'sf_0': 0.2, 'B_sf': 0.3, 'N_theta': 6, 'N_azimuth': 16, 'N_eccentricity': 10, 'N_phase': 2, 'rho': 1.41, 'bias_deconv': True, 'p_dropout': 0.5, 'dim1': 1000, 'dim2': 1000, 'lr': 0.0001, 'do_adam': True, 'bn1_bn_momentum': 0.0, 'bn2_bn_momentum': 0.0, 'momentum': 0.1, 'epochs': 50, 'num_processes': 1, 'no_cuda': True, 'log_interval': 100, 'verbose': 1, 'filename': '../data/2019-03-19', 'seed': 2019, 'N_cv': 2}\n",
      "Overwriting train.py\n",
      "total 224\n",
      "-rw-r--r--  1 laurentperrinet  staff   216B Mar 18 14:28 sf_0__0_141.npy\n",
      "-rw-r--r--  1 laurentperrinet  staff   216B Mar 18 14:29 sf_0__0_100.npy\n",
      "-rw-r--r--  1 laurentperrinet  staff   216B Mar 18 14:29 sf_0__0_119.npy\n",
      "-rw-r--r--  1 laurentperrinet  staff   216B Mar 18 14:30 sf_0__0_238.npy\n",
      "-rw-r--r--  1 laurentperrinet  staff   216B Mar 18 14:31 sf_0__0_283.npy\n",
      "-rw-r--r--  1 laurentperrinet  staff   216B Mar 18 14:32 sf_0__0_168.npy\n",
      "-rw-r--r--  1 laurentperrinet  staff   216B Mar 18 14:33 sf_0__0_200.npy\n",
      "-rw-r--r--  1 laurentperrinet  staff   216B Mar 18 14:36 bias_deconv__False.npy\n",
      "-rw-r--r--  1 laurentperrinet  staff   216B Mar 18 14:39 bias_deconv__True.npy\n",
      "-rw-r--r--  1 laurentperrinet  staff   152B Mar 19 00:24 sf_0__0_336.npy\n",
      "-rw-r--r--  1 laurentperrinet  staff   152B Mar 19 01:35 sf_0__0_400.npy\n",
      "-rw-r--r--  1 laurentperrinet  staff   152B Mar 19 01:36 B_sf__0_150.npy\n",
      "-rw-r--r--  1 laurentperrinet  staff   152B Mar 19 06:27 B_sf__0_178.npy\n",
      "-rw-r--r--  1 laurentperrinet  staff     0B Mar 19 06:27 offset_std__15.npy_lock\n",
      "-rw-r--r--  1 laurentperrinet  staff   152B Mar 19 06:30 B_sf__0_212.npy\n",
      "-rw-r--r--  1 laurentperrinet  staff     0B Mar 19 06:30 offset_std__17.npy_lock\n",
      "-rw-r--r--  1 laurentperrinet  staff   152B Mar 19 06:30 B_sf__0_252.npy\n",
      "-rw-r--r--  1 laurentperrinet  staff     0B Mar 19 06:30 offset_std__21.npy_lock\n",
      "-rw-r--r--  1 laurentperrinet  staff   152B Mar 19 06:30 B_sf__0_300.npy\n",
      "-rw-r--r--  1 laurentperrinet  staff     0B Mar 19 06:30 offset_std__25.npy_lock\n",
      "-rw-r--r--  1 laurentperrinet  staff   152B Mar 19 06:31 B_sf__0_357.npy\n",
      "-rw-r--r--  1 laurentperrinet  staff     0B Mar 19 06:31 offset_std__30.npy_lock\n",
      "-rw-r--r--  1 laurentperrinet  staff   152B Mar 19 12:32 B_sf__0_424.npy\n",
      "-rw-r--r--  1 laurentperrinet  staff     0B Mar 19 12:32 offset_std__35.npy_lock\n",
      "-rw-r--r--  1 laurentperrinet  staff   152B Mar 19 13:42 B_sf__0_505.npy\n",
      "-rw-r--r--  1 laurentperrinet  staff     0B Mar 19 13:42 offset_std__42.npy_lock\n",
      "-rw-r--r--  1 laurentperrinet  staff   152B Mar 19 13:44 B_sf__0_600.npy\n",
      "-rw-r--r--  1 laurentperrinet  staff     0B Mar 19 13:44 offset_std__50.npy_lock\n",
      "-rw-r--r--  1 laurentperrinet  staff     0B Mar 19 14:33 offset_std__60.npy_lock\n",
      "-rw-r--r--  1 laurentperrinet  staff     0B Mar 19 14:33 noise__0_350.npy_lock\n",
      "-rw-r--r--  1 laurentperrinet  staff     0B Mar 19 14:33 noise__0_416.npy_lock\n",
      "-rw-r--r--  1 laurentperrinet  staff     0B Mar 19 14:33 noise__0_495.npy_lock\n",
      "-rw-r--r--  1 laurentperrinet  staff     0B Mar 19 14:33 noise__0_589.npy_lock\n",
      "-rw-r--r--  1 laurentperrinet  staff     0B Mar 19 14:33 noise__0_700.npy_lock\n",
      "-rw-r--r--  1 laurentperrinet  staff     0B Mar 19 14:33 noise__0_832.npy_lock\n",
      "-rw-r--r--  1 laurentperrinet  staff     0B Mar 19 14:33 noise__0_990.npy_lock\n",
      "-rw-r--r--  1 laurentperrinet  staff     0B Mar 19 14:33 noise__1_177.npy_lock\n",
      "-rw-r--r--  1 laurentperrinet  staff     0B Mar 19 14:33 noise__1_400.npy_lock\n",
      "-rw-r--r--  1 laurentperrinet  staff     0B Mar 19 14:33 contrast__0_400.npy_lock\n",
      "-rw-r--r--  1 laurentperrinet  staff     0B Mar 19 14:33 contrast__0_476.npy_lock\n",
      "-rw-r--r--  1 laurentperrinet  staff     0B Mar 19 14:33 contrast__0_566.npy_lock\n",
      "-rw-r--r--  1 laurentperrinet  staff     0B Mar 19 14:33 contrast__0_673.npy_lock\n",
      "-rw-r--r--  1 laurentperrinet  staff     0B Mar 19 14:33 contrast__0_800.npy_lock\n",
      "-rw-r--r--  1 laurentperrinet  staff     0B Mar 19 14:33 contrast__0_951.npy_lock\n",
      "-rw-r--r--  1 laurentperrinet  staff     0B Mar 19 14:33 contrast__1_131.npy_lock\n",
      "-rw-r--r--  1 laurentperrinet  staff     0B Mar 19 14:33 contrast__1_345.npy_lock\n",
      "-rw-r--r--  1 laurentperrinet  staff     0B Mar 19 14:33 contrast__1_600.npy_lock\n",
      "-rw-r--r--  1 laurentperrinet  staff     0B Mar 19 14:34 sf_0__0_025.npy_lock\n",
      "-rw-r--r--  1 laurentperrinet  staff     0B Mar 19 14:34 sf_0__0_042.npy_lock\n",
      "-rw-r--r--  1 laurentperrinet  staff     0B Mar 19 14:34 sf_0__0_071.npy_lock\n",
      "-rw-r--r--  1 laurentperrinet  staff     0B Mar 19 14:34 sf_0__0_566.npy_lock\n",
      "-rw-r--r--  1 laurentperrinet  staff     0B Mar 19 14:34 sf_0__0_951.npy_lock\n",
      "-rw-r--r--  1 laurentperrinet  staff     0B Mar 19 14:34 sf_0__1_600.npy_lock\n",
      "-rw-r--r--  1 laurentperrinet  staff     0B Mar 19 14:34 B_sf__0_037.npy_lock\n",
      "-rw-r--r--  1 laurentperrinet  staff     0B Mar 19 14:34 B_sf__0_063.npy_lock\n",
      "-rw-r--r--  1 laurentperrinet  staff     0B Mar 19 14:34 B_sf__0_106.npy_lock\n",
      "-rw-r--r--  1 laurentperrinet  staff     0B Mar 19 14:34 B_sf__0_849.npy_lock\n",
      "-rw-r--r--  1 laurentperrinet  staff     0B Mar 19 14:34 B_sf__1_427.npy_lock\n",
      "-rw-r--r--  1 laurentperrinet  staff     0B Mar 19 14:34 B_sf__2_400.npy_lock\n",
      "-rw-r--r--  1 laurentperrinet  staff     0B Mar 19 14:34 offset_std__3.npy_lock\n",
      "-rw-r--r--  1 laurentperrinet  staff     0B Mar 19 14:34 offset_std__6.npy_lock\n",
      "-rw-r--r--  1 laurentperrinet  staff     0B Mar 19 14:34 offset_std__10.npy_lock\n",
      "-rw-r--r--  1 laurentperrinet  staff     0B Mar 19 14:34 offset_std__84.npy_lock\n",
      "-rw-r--r--  1 laurentperrinet  staff     0B Mar 19 14:34 offset_std__142.npy_lock\n",
      "-rw-r--r--  1 laurentperrinet  staff     0B Mar 19 14:34 offset_std__240.npy_lock\n",
      "-rw-r--r--  1 laurentperrinet  staff     0B Mar 19 14:34 noise__0_087.npy_lock\n",
      "-rw-r--r--  1 laurentperrinet  staff     0B Mar 19 14:34 noise__0_147.npy_lock\n",
      "-rw-r--r--  1 laurentperrinet  staff     0B Mar 19 14:34 noise__0_247.npy_lock\n",
      "-rw-r--r--  1 laurentperrinet  staff     0B Mar 19 14:34 noise__1_980.npy_lock\n",
      "-rw-r--r--  1 laurentperrinet  staff     0B Mar 19 14:34 noise__3_330.npy_lock\n",
      "-rw-r--r--  1 laurentperrinet  staff     0B Mar 19 14:34 noise__5_600.npy_lock\n",
      "-rw-r--r--  1 laurentperrinet  staff     0B Mar 19 14:34 contrast__0_100.npy_lock\n",
      "-rw-r--r--  1 laurentperrinet  staff     0B Mar 19 14:34 contrast__0_168.npy_lock\n",
      "-rw-r--r--  1 laurentperrinet  staff     0B Mar 19 14:34 contrast__0_283.npy_lock\n",
      "-rw-r--r--  1 laurentperrinet  staff     0B Mar 19 14:34 contrast__2_263.npy_lock\n",
      "-rw-r--r--  1 laurentperrinet  staff     0B Mar 19 14:34 contrast__3_805.npy_lock\n",
      "-rw-r--r--  1 laurentperrinet  staff     0B Mar 19 14:34 contrast__6_400.npy_lock\n",
      "-rw-r--r--  1 laurentperrinet  staff   152B Mar 19 14:44 dim1__500.npy\n",
      "-rw-r--r--  1 laurentperrinet  staff   152B Mar 19 14:46 bn1_bn_momentum__0_000.npy\n",
      "-rw-r--r--  1 laurentperrinet  staff     0B Mar 19 14:46 bn1_bn_momentum__0_750.npy_lock\n",
      "-rw-r--r--  1 laurentperrinet  staff   152B Mar 19 14:48 bn1_bn_momentum__0_125.npy\n",
      "-rw-r--r--  1 laurentperrinet  staff     0B Mar 19 14:48 bn1_bn_momentum__0_875.npy_lock\n",
      "-rw-r--r--  1 laurentperrinet  staff   152B Mar 19 14:49 bn1_bn_momentum__0_250.npy\n",
      "-rw-r--r--  1 laurentperrinet  staff     0B Mar 19 14:49 bn1_bn_momentum__1_000.npy_lock\n",
      "-rw-r--r--  1 laurentperrinet  staff   152B Mar 19 14:49 bn1_bn_momentum__0_375.npy\n",
      "-rw-r--r--  1 laurentperrinet  staff     0B Mar 19 14:49 dim2__500.npy_lock\n",
      "-rw-r--r--  1 laurentperrinet  staff   152B Mar 19 14:49 bn1_bn_momentum__0_625.npy\n",
      "-rw-r--r--  1 laurentperrinet  staff     0B Mar 19 14:49 dim2__594.npy_lock\n",
      "-rw-r--r--  1 laurentperrinet  staff   152B Mar 19 14:49 bn1_bn_momentum__0_500.npy\n",
      "-rw-r--r--  1 laurentperrinet  staff     0B Mar 19 14:49 dim2__707.npy_lock\n",
      "-rw-r--r--  1 laurentperrinet  staff   152B Mar 19 14:52 dim1__594.npy\n",
      "-rw-r--r--  1 laurentperrinet  staff     0B Mar 19 14:52 dim1__707.npy_lock\n",
      "2019-03-19T14:53:12+01:00\n",
      "\n",
      "CPython 3.7.2\n",
      "IPython 7.3.0\n",
      "\n",
      "numpy 1.16.2\n",
      "matplotlib 3.0.3\n",
      "torch 1.0.1.post2\n",
      "\n",
      "compiler   : Clang 10.0.0 (clang-1000.11.45.5)\n",
      "system     : Darwin\n",
      "release    : 18.2.0\n",
      "machine    : x86_64\n",
      "processor  : i386\n",
      "CPU cores  : 36\n",
      "interpreter: 64bit\n",
      "host name  : fortytwo\n",
      "Git hash   : fc44687aa0d37b5bf294870f27fcf86d17d74914\n",
      "Git repo   : https://github.com/laurentperrinet/WhereIsMyMNIST\n",
      "Git branch : master\n"
     ]
    }
   ],
   "source": [
    "%run 0_parameters.ipynb"
   ]
  },
  {
   "cell_type": "code",
   "execution_count": 3,
   "metadata": {},
   "outputs": [
    {
     "name": "stdout",
     "output_type": "stream",
     "text": [
      "Overwriting params.py\n"
     ]
    }
   ],
   "source": [
    "%%writefile params.py\n",
    "import torch\n",
    "from main import init, MetaML\n",
    "\n",
    "opts = dict(filename='../data/2019-03-16', verbose=0, log_interval=0)\n",
    "#opts = dict(filename='debug', verbose=0, log_interval=0)\n",
    "\n",
    "print(50*'-')\n",
    "print(' parameter scan')\n",
    "print(50*'-')\n",
    "\n",
    "args = init(**opts)\n",
    "from where import Where as ML\n",
    "from what import WhatNet\n",
    "ml = ML(args)\n",
    "if False:\n",
    "    print(50*'-')\n",
    "    print('Default parameters')\n",
    "    print(50*'-')\n",
    "\n",
    "    ml.train(path=args.filename)\n",
    "    # ml.main(path=args.filename)\n",
    "\n",
    "if True:\n",
    "    args = init(**opts)\n",
    "    mml = MetaML(args)\n",
    "    if torch.cuda.is_available():\n",
    "        mml.scan('no_cuda', [True, False])\n",
    "\n",
    "    args = init(**opts)\n",
    "    mml = MetaML(args)\n",
    "    mml.scan('bias_deconv', [True, False])\n",
    "   \n",
    "\n",
    "for base in [2, 8] if not args.filename == '../data/debug' else [2]:\n",
    "    print(50*'-')\n",
    "    print(' base=', base)\n",
    "    print(50*'-')\n",
    "\n",
    "    print(50*'-')\n",
    "    print(' parameter scan : data')\n",
    "    print(50*'-')\n",
    "    args = init(**opts)\n",
    "    mml = MetaML(args, base=base)\n",
    "    for parameter in ['sf_0', 'B_sf', 'offset_std', 'noise', 'contrast']:\n",
    "        mml.parameter_scan(parameter)\n",
    "        \n",
    "    # TODO:  'N_theta': 6, 'N_azimuth': 16, 'N_eccentricity': 10, 'rho': 1.41,\n",
    "\n",
    "    print(50*'-')\n",
    "    print(' parameter scan : network')\n",
    "    print(50*'-')\n",
    "    args = init(**opts)\n",
    "    mml = MetaML(args)\n",
    "    for parameter in ['dim1',\n",
    "                      'bn1_bn_momentum',\n",
    "                      'dim2',\n",
    "                      'bn2_bn_momentum',\n",
    "                      'p_dropout']:\n",
    "        mml.parameter_scan(parameter)\n",
    "\n",
    "    print(' parameter scan : learning ')\n",
    "    args = init(**opts)\n",
    "    mml = MetaML(args, base=base)\n",
    "    print(50*'-')\n",
    "    print('Using SGD')\n",
    "    print(50*'-')\n",
    "    for parameter in ['lr', 'momentum', 'minibatch_size', 'epochs']:\n",
    "        mml.parameter_scan(parameter)\n",
    "    print(50*'-')\n",
    "    print('Using ADAM')\n",
    "    print(50*'-')\n",
    "    args = init(**opts)\n",
    "    args.do_adam = True\n",
    "    mml = MetaML(args, tag='adam')\n",
    "    for parameter in ['lr', 'momentum', 'minibatch_size', 'epochs']:\n",
    "        mml.parameter_scan(parameter)\n",
    "\n"
   ]
  },
  {
   "cell_type": "code",
   "execution_count": 4,
   "metadata": {},
   "outputs": [],
   "source": [
    "from where import Where as ML"
   ]
  },
  {
   "cell_type": "code",
   "execution_count": 5,
   "metadata": {},
   "outputs": [
    {
     "data": {
      "text/plain": [
       "'../data/2019-03-19'"
      ]
     },
     "execution_count": 5,
     "metadata": {},
     "output_type": "execute_result"
    }
   ],
   "source": [
    "args.filename"
   ]
  },
  {
   "cell_type": "raw",
   "metadata": {},
   "source": [
    "%rm -fr ../data/_tmp_scanning"
   ]
  },
  {
   "cell_type": "code",
   "execution_count": 6,
   "metadata": {},
   "outputs": [
    {
     "name": "stdout",
     "output_type": "stream",
     "text": [
      "--------------------------------------------------\n",
      " parameter scan\n",
      "--------------------------------------------------\n",
      "scanning over bias_deconv = [True, False]\n",
      "For parameter bias_deconv = True ,  Accuracy=43.2% +/- 0.7%  in 249598.9 seconds\n",
      "For parameter bias_deconv = False ,  Accuracy=42.7% +/- 0.5%  in 249434.0 seconds\n",
      "--------------------------------------------------\n",
      " base= 2\n",
      "--------------------------------------------------\n",
      "--------------------------------------------------\n",
      " parameter scan : data\n",
      "--------------------------------------------------\n",
      "scanning over sf_0 = [0.1        0.11892071 0.14142136 0.16817928 0.2        0.23784142\n",
      " 0.28284271 0.33635857 0.4       ]\n",
      "For parameter sf_0 = 0.100 ,  Accuracy=34.7% +/- 0.6%  in 248961.2 seconds\n",
      "For parameter sf_0 = 0.119 ,  Accuracy=35.7% +/- 0.5%  in 248985.7 seconds\n",
      "For parameter sf_0 = 0.141 ,  Accuracy=37.4% +/- 0.5%  in 248932.7 seconds\n",
      "For parameter sf_0 = 0.168 ,  Accuracy=40.1% +/- 0.7%  in 249173.5 seconds\n",
      "For parameter sf_0 = 0.200 ,  Accuracy=43.2% +/- 0.7%  in 249200.7 seconds\n",
      "For parameter sf_0 = 0.238 ,  Accuracy=45.4% +/- 0.7%  in 249060.4 seconds\n",
      "For parameter sf_0 = 0.283 ,  Accuracy=46.3% +/- 0.7%  in 249112.8 seconds\n",
      "For parameter sf_0 = 0.336 ,  Accuracy=46.8% +/- 0.0%  in 33265.9 seconds\n",
      "For parameter sf_0 = 0.400 ,  Accuracy=47.1% +/- 0.3%  in 36428.5 seconds\n",
      "scanning over B_sf = [0.15       0.17838107 0.21213203 0.25226892 0.3        0.35676213\n",
      " 0.42426407 0.50453785 0.6       ]\n",
      "For parameter B_sf = 0.150 ,  Accuracy=45.6% +/- 0.3%  in 36484.9 seconds\n",
      "For parameter B_sf = 0.178 ,  Accuracy=44.9% +/- 0.4%  in 46403.3 seconds\n",
      "For parameter B_sf = 0.212 ,  Accuracy=44.2% +/- 0.3%  in 46472.1 seconds\n",
      "For parameter B_sf = 0.252 ,  Accuracy=43.3% +/- 0.4%  in 46475.6 seconds\n",
      "For parameter B_sf = 0.300 ,  Accuracy=42.8% +/- 0.8%  in 46473.8 seconds\n",
      "For parameter B_sf = 0.357 ,  Accuracy=42.6% +/- 0.4%  in 46521.8 seconds\n",
      "For parameter B_sf = 0.424 ,  Accuracy=41.6% +/- 0.1%  in 43657.9 seconds\n",
      "For parameter B_sf = 0.505 ,  Accuracy=40.3% +/- 0.6%  in 43630.5 seconds\n",
      "For parameter B_sf = 0.600 ,  Accuracy=38.8% +/- 0.1%  in 43718.0 seconds\n",
      "scanning over offset_std = [15, 17, 21, 25, 30, 35, 42, 50, 60]\n",
      "For parameter offset_std = 15 ,   currently locked with  ../data/_tmp_scanning/offset_std__15.npy_lock\n",
      "For parameter offset_std = 17 ,   currently locked with  ../data/_tmp_scanning/offset_std__17.npy_lock\n",
      "For parameter offset_std = 21 ,   currently locked with  ../data/_tmp_scanning/offset_std__21.npy_lock\n",
      "For parameter offset_std = 25 ,   currently locked with  ../data/_tmp_scanning/offset_std__25.npy_lock\n",
      "For parameter offset_std = 30 ,   currently locked with  ../data/_tmp_scanning/offset_std__30.npy_lock\n",
      "For parameter offset_std = 35 ,   currently locked with  ../data/_tmp_scanning/offset_std__35.npy_lock\n",
      "For parameter offset_std = 42 ,   currently locked with  ../data/_tmp_scanning/offset_std__42.npy_lock\n",
      "For parameter offset_std = 50 ,   currently locked with  ../data/_tmp_scanning/offset_std__50.npy_lock\n",
      "For parameter offset_std = 60 ,   currently locked with  ../data/_tmp_scanning/offset_std__60.npy_lock\n",
      "scanning over noise = [0.35       0.41622249 0.49497475 0.58862749 0.7        0.83244498\n",
      " 0.98994949 1.17725498 1.4       ]\n",
      "For parameter noise = 0.350 ,   currently locked with  ../data/_tmp_scanning/noise__0_350.npy_lock\n",
      "For parameter noise = 0.416 ,   currently locked with  ../data/_tmp_scanning/noise__0_416.npy_lock\n",
      "For parameter noise = 0.495 ,   currently locked with  ../data/_tmp_scanning/noise__0_495.npy_lock\n",
      "For parameter noise = 0.589 ,   currently locked with  ../data/_tmp_scanning/noise__0_589.npy_lock\n",
      "For parameter noise = 0.700 ,   currently locked with  ../data/_tmp_scanning/noise__0_700.npy_lock\n",
      "For parameter noise = 0.832 ,   currently locked with  ../data/_tmp_scanning/noise__0_832.npy_lock\n",
      "For parameter noise = 0.990 ,   currently locked with  ../data/_tmp_scanning/noise__0_990.npy_lock\n",
      "For parameter noise = 1.177 ,   currently locked with  ../data/_tmp_scanning/noise__1_177.npy_lock\n",
      "For parameter noise = 1.400 ,   currently locked with  ../data/_tmp_scanning/noise__1_400.npy_lock\n",
      "scanning over contrast = [0.4        0.47568285 0.56568542 0.67271713 0.8        0.95136569\n",
      " 1.13137085 1.34543426 1.6       ]\n",
      "For parameter contrast = 0.400 ,   currently locked with  ../data/_tmp_scanning/contrast__0_400.npy_lock\n",
      "For parameter contrast = 0.476 ,   currently locked with  ../data/_tmp_scanning/contrast__0_476.npy_lock\n",
      "For parameter contrast = 0.566 ,   currently locked with  ../data/_tmp_scanning/contrast__0_566.npy_lock\n",
      "For parameter contrast = 0.673 ,   currently locked with  ../data/_tmp_scanning/contrast__0_673.npy_lock\n",
      "For parameter contrast = 0.800 ,   currently locked with  ../data/_tmp_scanning/contrast__0_800.npy_lock\n",
      "For parameter contrast = 0.951 ,   currently locked with  ../data/_tmp_scanning/contrast__0_951.npy_lock\n",
      "For parameter contrast = 1.131 ,   currently locked with  ../data/_tmp_scanning/contrast__1_131.npy_lock\n",
      "For parameter contrast = 1.345 ,   currently locked with  ../data/_tmp_scanning/contrast__1_345.npy_lock\n",
      "For parameter contrast = 1.600 ,   currently locked with  ../data/_tmp_scanning/contrast__1_600.npy_lock\n",
      "--------------------------------------------------\n",
      " parameter scan : network\n",
      "--------------------------------------------------\n",
      "scanning over dim1 = [500, 594, 707, 840, 1000, 1189, 1414, 1681, 2000]\n",
      "For parameter dim1 = 500 ,  Accuracy=10.0% +/- 0.0%  in 390.9 seconds\n",
      "For parameter dim1 = 594 ,  Accuracy=10.1% +/- 0.0%  in 503.6 seconds\n",
      "For parameter dim1 = 707 ,  Accuracy=10.0% +/- 0.0%  in 751.0 seconds\n",
      "For parameter dim1 = 840 ,   currently locked with  ../data/_tmp_scanning/dim1__840.npy_lock\n",
      "For parameter dim1 = 1000 ,  "
     ]
    },
    {
     "name": "stderr",
     "output_type": "stream",
     "text": [
      "100%|██████████| 50/50 [17:31<00:00, 19.10s/it]\n",
      "  0%|          | 0/50 [00:00<?, ?it/s]\n"
     ]
    },
    {
     "name": "stdout",
     "output_type": "stream",
     "text": [
      "Failed with error not enough values to unpack (expected 3, got 2)\n",
      "Failed with error 1000\n",
      "For parameter dim1 = 1189 ,   currently locked with  ../data/_tmp_scanning/dim1__1189.npy_lock\n",
      "For parameter dim1 = 1414 ,  "
     ]
    },
    {
     "name": "stderr",
     "output_type": "stream",
     "text": [
      "  0%|          | 0/50 [00:00<?, ?it/s]\n"
     ]
    },
    {
     "name": "stdout",
     "output_type": "stream",
     "text": [
      "Failed with error not enough values to unpack (expected 3, got 2)\n",
      "Failed with error 1414\n",
      "For parameter dim1 = 1681 ,  "
     ]
    },
    {
     "name": "stderr",
     "output_type": "stream",
     "text": [
      "  0%|          | 0/50 [00:00<?, ?it/s]\n"
     ]
    },
    {
     "name": "stdout",
     "output_type": "stream",
     "text": [
      "Failed with error not enough values to unpack (expected 3, got 2)\n",
      "Failed with error 1681\n",
      "For parameter dim1 = 2000 ,  "
     ]
    },
    {
     "name": "stderr",
     "output_type": "stream",
     "text": [
      "  0%|          | 0/50 [00:00<?, ?it/s]\n"
     ]
    },
    {
     "name": "stdout",
     "output_type": "stream",
     "text": [
      "Failed with error not enough values to unpack (expected 3, got 2)\n",
      "Failed with error 2000\n",
      "scanning over bn1_bn_momentum = [0.    0.125 0.25  0.375 0.5   0.625 0.75  0.875 1.   ]\n",
      "For parameter bn1_bn_momentum = 0.000 ,  Accuracy=10.1% +/- 0.0%  in 623.8 seconds\n",
      "For parameter bn1_bn_momentum = 0.125 ,  Accuracy=10.1% +/- 0.0%  in 726.2 seconds\n",
      "For parameter bn1_bn_momentum = 0.250 ,  Accuracy=10.0% +/- 0.0%  in 748.4 seconds\n",
      "For parameter bn1_bn_momentum = 0.375 ,  Accuracy=10.1% +/- 0.0%  in 747.3 seconds\n",
      "For parameter bn1_bn_momentum = 0.500 ,  Accuracy=10.1% +/- 0.0%  in 728.5 seconds\n",
      "For parameter bn1_bn_momentum = 0.625 ,  Accuracy=10.0% +/- 0.0%  in 727.0 seconds\n",
      "For parameter bn1_bn_momentum = 0.750 ,  Accuracy=10.1% +/- 0.0%  in 845.1 seconds\n",
      "For parameter bn1_bn_momentum = 0.875 ,  Accuracy=10.1% +/- 0.0%  in 974.9 seconds\n",
      "For parameter bn1_bn_momentum = 1.000 ,  Accuracy=9.9% +/- 0.0%  in 951.1 seconds\n",
      "scanning over dim2 = [500, 594, 707, 840, 1000, 1189, 1414, 1681, 2000]\n",
      "For parameter dim2 = 500 ,  Accuracy=10.0% +/- 0.0%  in 697.3 seconds\n",
      "For parameter dim2 = 594 ,  Accuracy=10.0% +/- 0.0%  in 756.5 seconds\n",
      "For parameter dim2 = 707 ,  Accuracy=10.0% +/- 0.0%  in 785.5 seconds\n",
      "For parameter dim2 = 840 ,   currently locked with  ../data/_tmp_scanning/dim2__840.npy_lock\n",
      "For parameter dim2 = 1000 ,   currently locked with  ../data/_tmp_scanning/dim2__1000.npy_lock\n",
      "For parameter dim2 = 1189 ,   currently locked with  ../data/_tmp_scanning/dim2__1189.npy_lock\n",
      "For parameter dim2 = 1414 ,   currently locked with  ../data/_tmp_scanning/dim2__1414.npy_lock\n",
      "For parameter dim2 = 1681 ,   currently locked with  ../data/_tmp_scanning/dim2__1681.npy_lock\n",
      "For parameter dim2 = 2000 ,   currently locked with  ../data/_tmp_scanning/dim2__2000.npy_lock\n",
      "scanning over bn2_bn_momentum = [0.    0.125 0.25  0.375 0.5   0.625 0.75  0.875 1.   ]\n",
      "For parameter bn2_bn_momentum = 0.000 ,  "
     ]
    },
    {
     "name": "stderr",
     "output_type": "stream",
     "text": [
      "  0%|          | 0/50 [00:00<?, ?it/s]\n"
     ]
    },
    {
     "name": "stdout",
     "output_type": "stream",
     "text": [
      "Failed with error not enough values to unpack (expected 3, got 2)\n",
      "Failed with error 0.0\n",
      "For parameter bn2_bn_momentum = 0.125 ,  "
     ]
    },
    {
     "name": "stderr",
     "output_type": "stream",
     "text": [
      "  0%|          | 0/50 [00:00<?, ?it/s]\n"
     ]
    },
    {
     "name": "stdout",
     "output_type": "stream",
     "text": [
      "Failed with error not enough values to unpack (expected 3, got 2)\n",
      "Failed with error 0.125\n",
      "For parameter bn2_bn_momentum = 0.250 ,  "
     ]
    },
    {
     "name": "stderr",
     "output_type": "stream",
     "text": [
      "  0%|          | 0/50 [00:00<?, ?it/s]\n"
     ]
    },
    {
     "name": "stdout",
     "output_type": "stream",
     "text": [
      "Failed with error not enough values to unpack (expected 3, got 2)\n",
      "Failed with error 0.25\n",
      "For parameter bn2_bn_momentum = 0.375 ,  "
     ]
    },
    {
     "name": "stderr",
     "output_type": "stream",
     "text": [
      "  0%|          | 0/50 [00:00<?, ?it/s]\n"
     ]
    },
    {
     "name": "stdout",
     "output_type": "stream",
     "text": [
      "Failed with error not enough values to unpack (expected 3, got 2)\n",
      "Failed with error 0.375\n",
      "For parameter bn2_bn_momentum = 0.500 ,  "
     ]
    },
    {
     "name": "stderr",
     "output_type": "stream",
     "text": [
      "  0%|          | 0/50 [00:00<?, ?it/s]\n"
     ]
    },
    {
     "name": "stdout",
     "output_type": "stream",
     "text": [
      "Failed with error not enough values to unpack (expected 3, got 2)\n",
      "Failed with error 0.5\n",
      "For parameter bn2_bn_momentum = 0.625 ,  "
     ]
    },
    {
     "name": "stderr",
     "output_type": "stream",
     "text": [
      "  0%|          | 0/50 [00:00<?, ?it/s]\n"
     ]
    },
    {
     "name": "stdout",
     "output_type": "stream",
     "text": [
      "Failed with error not enough values to unpack (expected 3, got 2)\n",
      "Failed with error 0.625\n",
      "For parameter bn2_bn_momentum = 0.750 ,  "
     ]
    },
    {
     "name": "stderr",
     "output_type": "stream",
     "text": [
      "  0%|          | 0/50 [00:00<?, ?it/s]\n"
     ]
    },
    {
     "name": "stdout",
     "output_type": "stream",
     "text": [
      "Failed with error not enough values to unpack (expected 3, got 2)\n",
      "Failed with error 0.75\n",
      "For parameter bn2_bn_momentum = 0.875 ,  "
     ]
    },
    {
     "name": "stderr",
     "output_type": "stream",
     "text": [
      "  0%|          | 0/50 [00:00<?, ?it/s]\n"
     ]
    },
    {
     "name": "stdout",
     "output_type": "stream",
     "text": [
      "Failed with error not enough values to unpack (expected 3, got 2)\n",
      "Failed with error 0.875\n",
      "For parameter bn2_bn_momentum = 1.000 ,  "
     ]
    },
    {
     "name": "stderr",
     "output_type": "stream",
     "text": [
      "  0%|          | 0/50 [00:00<?, ?it/s]\n"
     ]
    },
    {
     "name": "stdout",
     "output_type": "stream",
     "text": [
      "Failed with error not enough values to unpack (expected 3, got 2)\n",
      "Failed with error 1.0\n",
      "scanning over p_dropout = [0.    0.125 0.25  0.375 0.5   0.625 0.75  0.875 1.   ]\n",
      "For parameter p_dropout = 0.000 ,  "
     ]
    },
    {
     "name": "stderr",
     "output_type": "stream",
     "text": [
      "  0%|          | 0/50 [00:00<?, ?it/s]\n"
     ]
    },
    {
     "name": "stdout",
     "output_type": "stream",
     "text": [
      "Failed with error not enough values to unpack (expected 3, got 2)\n",
      "Failed with error 0.0\n",
      "For parameter p_dropout = 0.125 ,  "
     ]
    },
    {
     "name": "stderr",
     "output_type": "stream",
     "text": [
      "  0%|          | 0/50 [00:00<?, ?it/s]\n"
     ]
    },
    {
     "name": "stdout",
     "output_type": "stream",
     "text": [
      "Failed with error not enough values to unpack (expected 3, got 2)\n",
      "Failed with error 0.125\n",
      "For parameter p_dropout = 0.250 ,  "
     ]
    },
    {
     "name": "stderr",
     "output_type": "stream",
     "text": [
      "  0%|          | 0/50 [00:00<?, ?it/s]\n"
     ]
    },
    {
     "name": "stdout",
     "output_type": "stream",
     "text": [
      "Failed with error not enough values to unpack (expected 3, got 2)\n",
      "Failed with error 0.25\n",
      "For parameter p_dropout = 0.375 ,  "
     ]
    },
    {
     "name": "stderr",
     "output_type": "stream",
     "text": [
      "  0%|          | 0/50 [00:00<?, ?it/s]\n"
     ]
    },
    {
     "name": "stdout",
     "output_type": "stream",
     "text": [
      "Failed with error not enough values to unpack (expected 3, got 2)\n",
      "Failed with error 0.375\n",
      "For parameter p_dropout = 0.500 ,  "
     ]
    },
    {
     "name": "stderr",
     "output_type": "stream",
     "text": [
      "  0%|          | 0/50 [00:00<?, ?it/s]\n"
     ]
    },
    {
     "name": "stdout",
     "output_type": "stream",
     "text": [
      "Failed with error not enough values to unpack (expected 3, got 2)\n",
      "Failed with error 0.5\n",
      "For parameter p_dropout = 0.625 ,  "
     ]
    },
    {
     "name": "stderr",
     "output_type": "stream",
     "text": [
      "  0%|          | 0/50 [00:00<?, ?it/s]\n"
     ]
    },
    {
     "name": "stdout",
     "output_type": "stream",
     "text": [
      "Failed with error not enough values to unpack (expected 3, got 2)\n",
      "Failed with error 0.625\n",
      "For parameter p_dropout = 0.750 ,  "
     ]
    },
    {
     "name": "stderr",
     "output_type": "stream",
     "text": [
      "  0%|          | 0/50 [00:00<?, ?it/s]\n"
     ]
    },
    {
     "name": "stdout",
     "output_type": "stream",
     "text": [
      "Failed with error not enough values to unpack (expected 3, got 2)\n",
      "Failed with error 0.75\n",
      "For parameter p_dropout = 0.875 ,  "
     ]
    },
    {
     "name": "stderr",
     "output_type": "stream",
     "text": [
      "  0%|          | 0/50 [00:00<?, ?it/s]\n"
     ]
    },
    {
     "name": "stdout",
     "output_type": "stream",
     "text": [
      "Failed with error not enough values to unpack (expected 3, got 2)\n",
      "Failed with error 0.875\n",
      "For parameter p_dropout = 1.000 ,  "
     ]
    },
    {
     "name": "stderr",
     "output_type": "stream",
     "text": [
      "  0%|          | 0/50 [00:00<?, ?it/s]\n"
     ]
    },
    {
     "name": "stdout",
     "output_type": "stream",
     "text": [
      "Failed with error not enough values to unpack (expected 3, got 2)\n",
      "Failed with error 1.0\n",
      " parameter scan : learning \n",
      "--------------------------------------------------\n",
      "Using SGD\n",
      "--------------------------------------------------\n",
      "scanning over lr = [5.00000000e-05 5.94603558e-05 7.07106781e-05 8.40896415e-05\n",
      " 1.00000000e-04 1.18920712e-04 1.41421356e-04 1.68179283e-04\n",
      " 2.00000000e-04]\n",
      "For parameter lr = 0.000 ,  "
     ]
    },
    {
     "name": "stderr",
     "output_type": "stream",
     "text": [
      "  0%|          | 0/50 [00:00<?, ?it/s]\n"
     ]
    },
    {
     "name": "stdout",
     "output_type": "stream",
     "text": [
      "Failed with error not enough values to unpack (expected 3, got 2)\n",
      "Failed with error 5e-05\n",
      "For parameter lr = 0.000 ,   currently locked with  ../data/_tmp_scanning/lr__0_000.npy_lock\n",
      "For parameter lr = 0.000 ,   currently locked with  ../data/_tmp_scanning/lr__0_000.npy_lock\n",
      "For parameter lr = 0.000 ,   currently locked with  ../data/_tmp_scanning/lr__0_000.npy_lock\n",
      "For parameter lr = 0.000 ,   currently locked with  ../data/_tmp_scanning/lr__0_000.npy_lock\n",
      "For parameter lr = 0.000 ,   currently locked with  ../data/_tmp_scanning/lr__0_000.npy_lock\n",
      "For parameter lr = 0.000 ,   currently locked with  ../data/_tmp_scanning/lr__0_000.npy_lock\n",
      "For parameter lr = 0.000 ,   currently locked with  ../data/_tmp_scanning/lr__0_000.npy_lock\n",
      "For parameter lr = 0.000 ,   currently locked with  ../data/_tmp_scanning/lr__0_000.npy_lock\n",
      "scanning over momentum = [0.05       0.05946036 0.07071068 0.08408964 0.1        0.11892071\n",
      " 0.14142136 0.16817928 0.2       ]\n",
      "For parameter momentum = 0.050 ,  "
     ]
    },
    {
     "name": "stderr",
     "output_type": "stream",
     "text": [
      "  0%|          | 0/50 [00:00<?, ?it/s]\n"
     ]
    },
    {
     "name": "stdout",
     "output_type": "stream",
     "text": [
      "Failed with error not enough values to unpack (expected 3, got 2)\n",
      "Failed with error 0.05\n",
      "For parameter momentum = 0.059 ,  "
     ]
    },
    {
     "name": "stderr",
     "output_type": "stream",
     "text": [
      "  0%|          | 0/50 [00:00<?, ?it/s]\n"
     ]
    },
    {
     "name": "stdout",
     "output_type": "stream",
     "text": [
      "Failed with error not enough values to unpack (expected 3, got 2)\n",
      "Failed with error 0.05946035575013606\n",
      "For parameter momentum = 0.071 ,  "
     ]
    },
    {
     "name": "stderr",
     "output_type": "stream",
     "text": [
      "  0%|          | 0/50 [00:00<?, ?it/s]\n"
     ]
    },
    {
     "name": "stdout",
     "output_type": "stream",
     "text": [
      "Failed with error not enough values to unpack (expected 3, got 2)\n",
      "Failed with error 0.07071067811865477\n",
      "For parameter momentum = 0.084 ,  "
     ]
    },
    {
     "name": "stderr",
     "output_type": "stream",
     "text": [
      "  0%|          | 0/50 [00:00<?, ?it/s]\n"
     ]
    },
    {
     "name": "stdout",
     "output_type": "stream",
     "text": [
      "Failed with error not enough values to unpack (expected 3, got 2)\n",
      "Failed with error 0.08408964152537146\n",
      "For parameter momentum = 0.100 ,  "
     ]
    },
    {
     "name": "stderr",
     "output_type": "stream",
     "text": [
      "  0%|          | 0/50 [00:00<?, ?it/s]\n"
     ]
    },
    {
     "name": "stdout",
     "output_type": "stream",
     "text": [
      "Failed with error not enough values to unpack (expected 3, got 2)\n",
      "Failed with error 0.1\n",
      "For parameter momentum = 0.119 ,  "
     ]
    },
    {
     "name": "stderr",
     "output_type": "stream",
     "text": [
      "  0%|          | 0/50 [00:00<?, ?it/s]\n"
     ]
    },
    {
     "name": "stdout",
     "output_type": "stream",
     "text": [
      "Failed with error not enough values to unpack (expected 3, got 2)\n",
      "Failed with error 0.11892071150027211\n",
      "For parameter momentum = 0.141 ,  "
     ]
    },
    {
     "name": "stderr",
     "output_type": "stream",
     "text": [
      "  0%|          | 0/50 [00:00<?, ?it/s]\n"
     ]
    },
    {
     "name": "stdout",
     "output_type": "stream",
     "text": [
      "Failed with error not enough values to unpack (expected 3, got 2)\n",
      "Failed with error 0.14142135623730953\n",
      "For parameter momentum = 0.168 ,  "
     ]
    },
    {
     "name": "stderr",
     "output_type": "stream",
     "text": [
      "  0%|          | 0/50 [00:00<?, ?it/s]\n"
     ]
    },
    {
     "name": "stdout",
     "output_type": "stream",
     "text": [
      "Failed with error not enough values to unpack (expected 3, got 2)\n",
      "Failed with error 0.16817928305074292\n",
      "For parameter momentum = 0.200 ,  "
     ]
    },
    {
     "name": "stderr",
     "output_type": "stream",
     "text": [
      "  0%|          | 0/50 [00:00<?, ?it/s]\n"
     ]
    },
    {
     "name": "stdout",
     "output_type": "stream",
     "text": [
      "Failed with error not enough values to unpack (expected 3, got 2)\n",
      "Failed with error 0.2\n",
      "scanning over minibatch_size = [50, 59, 70, 84, 100, 118, 141, 168, 200]\n",
      "For parameter minibatch_size = 50 ,  "
     ]
    },
    {
     "name": "stderr",
     "output_type": "stream",
     "text": [
      "  0%|          | 0/50 [00:00<?, ?it/s]\n"
     ]
    },
    {
     "name": "stdout",
     "output_type": "stream",
     "text": [
      "Failed with error not enough values to unpack (expected 3, got 2)\n",
      "Failed with error 50\n",
      "For parameter minibatch_size = 59 ,  "
     ]
    },
    {
     "name": "stderr",
     "output_type": "stream",
     "text": [
      "  0%|          | 0/50 [00:00<?, ?it/s]\n"
     ]
    },
    {
     "name": "stdout",
     "output_type": "stream",
     "text": [
      "Failed with error not enough values to unpack (expected 3, got 2)\n",
      "Failed with error 59\n",
      "For parameter minibatch_size = 70 ,  "
     ]
    },
    {
     "name": "stderr",
     "output_type": "stream",
     "text": [
      "  0%|          | 0/50 [00:00<?, ?it/s]\n"
     ]
    },
    {
     "name": "stdout",
     "output_type": "stream",
     "text": [
      "Failed with error not enough values to unpack (expected 3, got 2)\n",
      "Failed with error 70\n",
      "For parameter minibatch_size = 84 ,  "
     ]
    },
    {
     "name": "stderr",
     "output_type": "stream",
     "text": [
      "  0%|          | 0/50 [00:00<?, ?it/s]\n"
     ]
    },
    {
     "name": "stdout",
     "output_type": "stream",
     "text": [
      "Failed with error not enough values to unpack (expected 3, got 2)\n",
      "Failed with error 84\n",
      "For parameter minibatch_size = 100 ,  "
     ]
    },
    {
     "name": "stderr",
     "output_type": "stream",
     "text": [
      "  0%|          | 0/50 [00:00<?, ?it/s]\n"
     ]
    },
    {
     "name": "stdout",
     "output_type": "stream",
     "text": [
      "Failed with error not enough values to unpack (expected 3, got 2)\n",
      "Failed with error 100\n",
      "For parameter minibatch_size = 118 ,  "
     ]
    },
    {
     "name": "stderr",
     "output_type": "stream",
     "text": [
      "  0%|          | 0/50 [00:00<?, ?it/s]\n"
     ]
    },
    {
     "name": "stdout",
     "output_type": "stream",
     "text": [
      "Failed with error not enough values to unpack (expected 3, got 2)\n",
      "Failed with error 118\n",
      "For parameter minibatch_size = 141 ,  "
     ]
    },
    {
     "name": "stderr",
     "output_type": "stream",
     "text": [
      "  0%|          | 0/50 [00:00<?, ?it/s]\n"
     ]
    },
    {
     "name": "stdout",
     "output_type": "stream",
     "text": [
      "Failed with error not enough values to unpack (expected 3, got 2)\n",
      "Failed with error 141\n",
      "For parameter minibatch_size = 168 ,  "
     ]
    },
    {
     "name": "stderr",
     "output_type": "stream",
     "text": [
      "  0%|          | 0/50 [00:00<?, ?it/s]\n"
     ]
    },
    {
     "name": "stdout",
     "output_type": "stream",
     "text": [
      "Failed with error not enough values to unpack (expected 3, got 2)\n",
      "Failed with error 168\n",
      "For parameter minibatch_size = 200 ,  "
     ]
    },
    {
     "name": "stderr",
     "output_type": "stream",
     "text": [
      "  0%|          | 0/50 [00:00<?, ?it/s]\n"
     ]
    },
    {
     "name": "stdout",
     "output_type": "stream",
     "text": [
      "Failed with error not enough values to unpack (expected 3, got 2)\n",
      "Failed with error 200\n",
      "scanning over epochs = [25, 29, 35, 42, 50, 59, 70, 84, 100]\n",
      "For parameter epochs = 25 ,  "
     ]
    },
    {
     "name": "stderr",
     "output_type": "stream",
     "text": [
      "  0%|          | 0/25 [00:00<?, ?it/s]\n"
     ]
    },
    {
     "name": "stdout",
     "output_type": "stream",
     "text": [
      "Failed with error not enough values to unpack (expected 3, got 2)\n",
      "Failed with error 25\n",
      "For parameter epochs = 29 ,  "
     ]
    },
    {
     "name": "stderr",
     "output_type": "stream",
     "text": [
      "  0%|          | 0/29 [00:00<?, ?it/s]\n"
     ]
    },
    {
     "name": "stdout",
     "output_type": "stream",
     "text": [
      "Failed with error not enough values to unpack (expected 3, got 2)\n",
      "Failed with error 29\n",
      "For parameter epochs = 35 ,  "
     ]
    },
    {
     "name": "stderr",
     "output_type": "stream",
     "text": [
      "  0%|          | 0/35 [00:00<?, ?it/s]\n"
     ]
    },
    {
     "name": "stdout",
     "output_type": "stream",
     "text": [
      "Failed with error not enough values to unpack (expected 3, got 2)\n",
      "Failed with error 35\n",
      "For parameter epochs = 42 ,  "
     ]
    },
    {
     "name": "stderr",
     "output_type": "stream",
     "text": [
      "  0%|          | 0/42 [00:00<?, ?it/s]\n"
     ]
    },
    {
     "name": "stdout",
     "output_type": "stream",
     "text": [
      "Failed with error not enough values to unpack (expected 3, got 2)\n",
      "Failed with error 42\n",
      "For parameter epochs = 50 ,  "
     ]
    },
    {
     "name": "stderr",
     "output_type": "stream",
     "text": [
      "  0%|          | 0/50 [00:00<?, ?it/s]\n"
     ]
    },
    {
     "name": "stdout",
     "output_type": "stream",
     "text": [
      "Failed with error not enough values to unpack (expected 3, got 2)\n",
      "Failed with error 50\n",
      "For parameter epochs = 59 ,  "
     ]
    },
    {
     "name": "stderr",
     "output_type": "stream",
     "text": [
      "  0%|          | 0/59 [00:00<?, ?it/s]\n"
     ]
    },
    {
     "name": "stdout",
     "output_type": "stream",
     "text": [
      "Failed with error not enough values to unpack (expected 3, got 2)\n",
      "Failed with error 59\n",
      "For parameter epochs = 70 ,  "
     ]
    },
    {
     "name": "stderr",
     "output_type": "stream",
     "text": [
      "  0%|          | 0/70 [00:00<?, ?it/s]\n"
     ]
    },
    {
     "name": "stdout",
     "output_type": "stream",
     "text": [
      "Failed with error not enough values to unpack (expected 3, got 2)\n",
      "Failed with error 70\n",
      "For parameter epochs = 84 ,  "
     ]
    },
    {
     "name": "stderr",
     "output_type": "stream",
     "text": [
      "  0%|          | 0/84 [00:00<?, ?it/s]\n"
     ]
    },
    {
     "name": "stdout",
     "output_type": "stream",
     "text": [
      "Failed with error not enough values to unpack (expected 3, got 2)\n",
      "Failed with error 84\n",
      "For parameter epochs = 100 ,  "
     ]
    },
    {
     "name": "stderr",
     "output_type": "stream",
     "text": [
      "  0%|          | 0/100 [00:00<?, ?it/s]\n"
     ]
    },
    {
     "name": "stdout",
     "output_type": "stream",
     "text": [
      "Failed with error not enough values to unpack (expected 3, got 2)\n",
      "Failed with error 100\n",
      "--------------------------------------------------\n",
      "Using ADAM\n",
      "--------------------------------------------------\n",
      "scanning over lr = [5.00000000e-05 5.94603558e-05 7.07106781e-05 8.40896415e-05\n",
      " 1.00000000e-04 1.18920712e-04 1.41421356e-04 1.68179283e-04\n",
      " 2.00000000e-04]\n",
      "For parameter lr = 0.000 ,  "
     ]
    },
    {
     "name": "stderr",
     "output_type": "stream",
     "text": [
      "  0%|          | 0/50 [00:00<?, ?it/s]\n"
     ]
    },
    {
     "name": "stdout",
     "output_type": "stream",
     "text": [
      "Failed with error not enough values to unpack (expected 3, got 2)\n",
      "Failed with error 5e-05\n",
      "For parameter lr = 0.000 ,   currently locked with  ../data/_tmp_scanning/lr_adam_0_000.npy_lock\n",
      "For parameter lr = 0.000 ,   currently locked with  ../data/_tmp_scanning/lr_adam_0_000.npy_lock\n",
      "For parameter lr = 0.000 ,   currently locked with  ../data/_tmp_scanning/lr_adam_0_000.npy_lock\n",
      "For parameter lr = 0.000 ,   currently locked with  ../data/_tmp_scanning/lr_adam_0_000.npy_lock\n",
      "For parameter lr = 0.000 ,   currently locked with  ../data/_tmp_scanning/lr_adam_0_000.npy_lock\n",
      "For parameter lr = 0.000 ,   currently locked with  ../data/_tmp_scanning/lr_adam_0_000.npy_lock\n",
      "For parameter lr = 0.000 ,   currently locked with  ../data/_tmp_scanning/lr_adam_0_000.npy_lock\n",
      "For parameter lr = 0.000 ,   currently locked with  ../data/_tmp_scanning/lr_adam_0_000.npy_lock\n",
      "scanning over momentum = [0.05       0.05946036 0.07071068 0.08408964 0.1        0.11892071\n",
      " 0.14142136 0.16817928 0.2       ]\n",
      "For parameter momentum = 0.050 ,  "
     ]
    },
    {
     "name": "stderr",
     "output_type": "stream",
     "text": [
      "  0%|          | 0/50 [00:00<?, ?it/s]\n"
     ]
    },
    {
     "name": "stdout",
     "output_type": "stream",
     "text": [
      "Failed with error not enough values to unpack (expected 3, got 2)\n",
      "Failed with error 0.05\n",
      "For parameter momentum = 0.059 ,   currently locked with  ../data/_tmp_scanning/momentum_adam_0_059.npy_lock\n",
      "For parameter momentum = 0.071 ,  "
     ]
    },
    {
     "name": "stderr",
     "output_type": "stream",
     "text": [
      "  0%|          | 0/50 [00:00<?, ?it/s]\n"
     ]
    },
    {
     "name": "stdout",
     "output_type": "stream",
     "text": [
      "Failed with error not enough values to unpack (expected 3, got 2)\n",
      "Failed with error 0.07071067811865477\n",
      "For parameter momentum = 0.084 ,   currently locked with  ../data/_tmp_scanning/momentum_adam_0_084.npy_lock\n",
      "For parameter momentum = 0.100 ,  "
     ]
    },
    {
     "name": "stderr",
     "output_type": "stream",
     "text": [
      "  0%|          | 0/50 [00:00<?, ?it/s]\n"
     ]
    },
    {
     "name": "stdout",
     "output_type": "stream",
     "text": [
      "Failed with error not enough values to unpack (expected 3, got 2)\n",
      "Failed with error 0.1\n",
      "For parameter momentum = 0.119 ,   currently locked with  ../data/_tmp_scanning/momentum_adam_0_119.npy_lock\n",
      "For parameter momentum = 0.141 ,   currently locked with  ../data/_tmp_scanning/momentum_adam_0_141.npy_lock\n",
      "For parameter momentum = 0.168 ,  "
     ]
    },
    {
     "name": "stderr",
     "output_type": "stream",
     "text": [
      "  0%|          | 0/50 [00:00<?, ?it/s]\n"
     ]
    },
    {
     "name": "stdout",
     "output_type": "stream",
     "text": [
      "Failed with error not enough values to unpack (expected 3, got 2)\n",
      "Failed with error 0.16817928305074292\n",
      "For parameter momentum = 0.200 ,   currently locked with  ../data/_tmp_scanning/momentum_adam_0_200.npy_lock\n",
      "scanning over minibatch_size = [50, 59, 70, 84, 100, 118, 141, 168, 200]\n",
      "For parameter minibatch_size = 50 ,  "
     ]
    },
    {
     "name": "stderr",
     "output_type": "stream",
     "text": [
      "  0%|          | 0/50 [00:00<?, ?it/s]\n"
     ]
    },
    {
     "name": "stdout",
     "output_type": "stream",
     "text": [
      "Failed with error not enough values to unpack (expected 3, got 2)\n",
      "Failed with error 50\n",
      "For parameter minibatch_size = 59 ,   currently locked with  ../data/_tmp_scanning/minibatch_size_adam_59.npy_lock\n",
      "For parameter minibatch_size = 70 ,  "
     ]
    },
    {
     "name": "stderr",
     "output_type": "stream",
     "text": [
      "  0%|          | 0/50 [00:00<?, ?it/s]\n"
     ]
    },
    {
     "name": "stdout",
     "output_type": "stream",
     "text": [
      "Failed with error not enough values to unpack (expected 3, got 2)\n",
      "Failed with error 70\n",
      "For parameter minibatch_size = 84 ,   currently locked with  ../data/_tmp_scanning/minibatch_size_adam_84.npy_lock\n",
      "For parameter minibatch_size = 100 ,  "
     ]
    },
    {
     "name": "stderr",
     "output_type": "stream",
     "text": [
      "  0%|          | 0/50 [00:00<?, ?it/s]\n"
     ]
    },
    {
     "name": "stdout",
     "output_type": "stream",
     "text": [
      "Failed with error not enough values to unpack (expected 3, got 2)\n",
      "Failed with error 100\n",
      "For parameter minibatch_size = 118 ,  "
     ]
    },
    {
     "name": "stderr",
     "output_type": "stream",
     "text": [
      "  0%|          | 0/50 [00:00<?, ?it/s]\n"
     ]
    },
    {
     "name": "stdout",
     "output_type": "stream",
     "text": [
      "Failed with error not enough values to unpack (expected 3, got 2)\n",
      "Failed with error 118\n",
      "For parameter minibatch_size = 141 ,  "
     ]
    },
    {
     "name": "stderr",
     "output_type": "stream",
     "text": [
      "  0%|          | 0/50 [00:00<?, ?it/s]\n"
     ]
    },
    {
     "name": "stdout",
     "output_type": "stream",
     "text": [
      "Failed with error not enough values to unpack (expected 3, got 2)\n",
      "Failed with error 141\n",
      "For parameter minibatch_size = 168 ,  "
     ]
    },
    {
     "name": "stderr",
     "output_type": "stream",
     "text": [
      "  0%|          | 0/50 [00:00<?, ?it/s]\n"
     ]
    },
    {
     "name": "stdout",
     "output_type": "stream",
     "text": [
      "Failed with error not enough values to unpack (expected 3, got 2)\n",
      "Failed with error 168\n",
      "For parameter minibatch_size = 200 ,  "
     ]
    },
    {
     "name": "stderr",
     "output_type": "stream",
     "text": [
      "  0%|          | 0/50 [00:00<?, ?it/s]\n"
     ]
    },
    {
     "name": "stdout",
     "output_type": "stream",
     "text": [
      "Failed with error not enough values to unpack (expected 3, got 2)\n",
      "Failed with error 200\n",
      "scanning over epochs = [25, 29, 35, 42, 50, 59, 70, 84, 100]\n",
      "For parameter epochs = 25 ,  "
     ]
    },
    {
     "name": "stderr",
     "output_type": "stream",
     "text": [
      "  0%|          | 0/25 [00:00<?, ?it/s]\n"
     ]
    },
    {
     "name": "stdout",
     "output_type": "stream",
     "text": [
      "Failed with error not enough values to unpack (expected 3, got 2)\n",
      "Failed with error 25\n",
      "For parameter epochs = 29 ,  "
     ]
    },
    {
     "name": "stderr",
     "output_type": "stream",
     "text": [
      "  0%|          | 0/29 [00:00<?, ?it/s]\n"
     ]
    },
    {
     "name": "stdout",
     "output_type": "stream",
     "text": [
      "Failed with error not enough values to unpack (expected 3, got 2)\n",
      "Failed with error 29\n",
      "For parameter epochs = 35 ,  "
     ]
    },
    {
     "name": "stderr",
     "output_type": "stream",
     "text": [
      "  0%|          | 0/35 [00:00<?, ?it/s]\n"
     ]
    },
    {
     "name": "stdout",
     "output_type": "stream",
     "text": [
      "Failed with error not enough values to unpack (expected 3, got 2)\n",
      "Failed with error 35\n",
      "For parameter epochs = 42 ,  "
     ]
    },
    {
     "name": "stderr",
     "output_type": "stream",
     "text": [
      "  0%|          | 0/42 [00:00<?, ?it/s]\n"
     ]
    },
    {
     "name": "stdout",
     "output_type": "stream",
     "text": [
      "Failed with error not enough values to unpack (expected 3, got 2)\n",
      "Failed with error 42\n",
      "For parameter epochs = 50 ,  "
     ]
    },
    {
     "name": "stderr",
     "output_type": "stream",
     "text": [
      "  0%|          | 0/50 [00:00<?, ?it/s]\n"
     ]
    },
    {
     "name": "stdout",
     "output_type": "stream",
     "text": [
      "Failed with error not enough values to unpack (expected 3, got 2)\n",
      "Failed with error 50\n",
      "For parameter epochs = 59 ,  "
     ]
    },
    {
     "name": "stderr",
     "output_type": "stream",
     "text": [
      "  0%|          | 0/59 [00:00<?, ?it/s]\n"
     ]
    },
    {
     "name": "stdout",
     "output_type": "stream",
     "text": [
      "Failed with error not enough values to unpack (expected 3, got 2)\n",
      "Failed with error 59\n",
      "For parameter epochs = 70 ,  "
     ]
    },
    {
     "name": "stderr",
     "output_type": "stream",
     "text": [
      "  0%|          | 0/70 [00:00<?, ?it/s]\n"
     ]
    },
    {
     "name": "stdout",
     "output_type": "stream",
     "text": [
      "Failed with error not enough values to unpack (expected 3, got 2)\n",
      "Failed with error 70\n",
      "For parameter epochs = 84 ,  "
     ]
    },
    {
     "name": "stderr",
     "output_type": "stream",
     "text": [
      "  0%|          | 0/84 [00:00<?, ?it/s]\n"
     ]
    },
    {
     "name": "stdout",
     "output_type": "stream",
     "text": [
      "Failed with error not enough values to unpack (expected 3, got 2)\n",
      "Failed with error 84\n",
      "For parameter epochs = 100 ,   currently locked with  ../data/_tmp_scanning/epochs_adam_100.npy_lock\n",
      "--------------------------------------------------\n",
      " base= 8\n",
      "--------------------------------------------------\n",
      "--------------------------------------------------\n",
      " parameter scan : data\n",
      "--------------------------------------------------\n",
      "scanning over sf_0 = [0.025      0.04204482 0.07071068 0.11892071 0.2        0.33635857\n",
      " 0.56568542 0.95136569 1.6       ]\n",
      "For parameter sf_0 = 0.025 ,   currently locked with  ../data/_tmp_scanning/sf_0__0_025.npy_lock\n",
      "For parameter sf_0 = 0.042 ,   currently locked with  ../data/_tmp_scanning/sf_0__0_042.npy_lock\n",
      "For parameter sf_0 = 0.071 ,   currently locked with  ../data/_tmp_scanning/sf_0__0_071.npy_lock\n",
      "For parameter sf_0 = 0.119 ,  Accuracy=35.7% +/- 0.5%  in 248985.7 seconds\n",
      "For parameter sf_0 = 0.200 ,  Accuracy=43.2% +/- 0.7%  in 249200.7 seconds\n",
      "For parameter sf_0 = 0.336 ,  Accuracy=46.8% +/- 0.0%  in 33265.9 seconds\n",
      "For parameter sf_0 = 0.566 ,   currently locked with  ../data/_tmp_scanning/sf_0__0_566.npy_lock\n",
      "For parameter sf_0 = 0.951 ,   currently locked with  ../data/_tmp_scanning/sf_0__0_951.npy_lock\n",
      "For parameter sf_0 = 1.600 ,   currently locked with  ../data/_tmp_scanning/sf_0__1_600.npy_lock\n",
      "scanning over B_sf = [0.0375     0.06306723 0.10606602 0.17838107 0.3        0.50453785\n",
      " 0.84852814 1.42704854 2.4       ]\n",
      "For parameter B_sf = 0.037 ,   currently locked with  ../data/_tmp_scanning/B_sf__0_037.npy_lock\n",
      "For parameter B_sf = 0.063 ,   currently locked with  ../data/_tmp_scanning/B_sf__0_063.npy_lock\n",
      "For parameter B_sf = 0.106 ,   currently locked with  ../data/_tmp_scanning/B_sf__0_106.npy_lock\n",
      "For parameter B_sf = 0.178 ,  Accuracy=44.9% +/- 0.4%  in 46403.3 seconds\n",
      "For parameter B_sf = 0.300 ,  Accuracy=42.8% +/- 0.8%  in 46473.8 seconds\n",
      "For parameter B_sf = 0.505 ,  Accuracy=40.3% +/- 0.6%  in 43630.5 seconds\n",
      "For parameter B_sf = 0.849 ,   currently locked with  ../data/_tmp_scanning/B_sf__0_849.npy_lock\n",
      "For parameter B_sf = 1.427 ,   currently locked with  ../data/_tmp_scanning/B_sf__1_427.npy_lock\n",
      "For parameter B_sf = 2.400 ,   currently locked with  ../data/_tmp_scanning/B_sf__2_400.npy_lock\n",
      "scanning over offset_std = [3, 6, 10, 17, 30, 50, 84, 142, 240]\n",
      "For parameter offset_std = 3 ,   currently locked with  ../data/_tmp_scanning/offset_std__3.npy_lock\n",
      "For parameter offset_std = 6 ,   currently locked with  ../data/_tmp_scanning/offset_std__6.npy_lock\n",
      "For parameter offset_std = 10 ,   currently locked with  ../data/_tmp_scanning/offset_std__10.npy_lock\n",
      "For parameter offset_std = 17 ,   currently locked with  ../data/_tmp_scanning/offset_std__17.npy_lock\n",
      "For parameter offset_std = 30 ,   currently locked with  ../data/_tmp_scanning/offset_std__30.npy_lock\n",
      "For parameter offset_std = 50 ,   currently locked with  ../data/_tmp_scanning/offset_std__50.npy_lock\n",
      "For parameter offset_std = 84 ,   currently locked with  ../data/_tmp_scanning/offset_std__84.npy_lock\n",
      "For parameter offset_std = 142 ,   currently locked with  ../data/_tmp_scanning/offset_std__142.npy_lock\n",
      "For parameter offset_std = 240 ,   currently locked with  ../data/_tmp_scanning/offset_std__240.npy_lock\n",
      "scanning over noise = [0.0875     0.14715687 0.24748737 0.41622249 0.7        1.17725498\n",
      " 1.97989899 3.32977992 5.6       ]\n",
      "For parameter noise = 0.087 ,   currently locked with  ../data/_tmp_scanning/noise__0_087.npy_lock\n",
      "For parameter noise = 0.147 ,   currently locked with  ../data/_tmp_scanning/noise__0_147.npy_lock\n",
      "For parameter noise = 0.247 ,   currently locked with  ../data/_tmp_scanning/noise__0_247.npy_lock\n",
      "For parameter noise = 0.416 ,   currently locked with  ../data/_tmp_scanning/noise__0_416.npy_lock\n",
      "For parameter noise = 0.700 ,   currently locked with  ../data/_tmp_scanning/noise__0_700.npy_lock\n",
      "For parameter noise = 1.177 ,   currently locked with  ../data/_tmp_scanning/noise__1_177.npy_lock\n",
      "For parameter noise = 1.980 ,   currently locked with  ../data/_tmp_scanning/noise__1_980.npy_lock\n",
      "For parameter noise = 3.330 ,   currently locked with  ../data/_tmp_scanning/noise__3_330.npy_lock\n",
      "For parameter noise = 5.600 ,   currently locked with  ../data/_tmp_scanning/noise__5_600.npy_lock\n",
      "scanning over contrast = [0.1        0.16817928 0.28284271 0.47568285 0.8        1.34543426\n",
      " 2.2627417  3.80546277 6.4       ]\n",
      "For parameter contrast = 0.100 ,   currently locked with  ../data/_tmp_scanning/contrast__0_100.npy_lock\n",
      "For parameter contrast = 0.168 ,   currently locked with  ../data/_tmp_scanning/contrast__0_168.npy_lock\n",
      "For parameter contrast = 0.283 ,   currently locked with  ../data/_tmp_scanning/contrast__0_283.npy_lock\n",
      "For parameter contrast = 0.476 ,   currently locked with  ../data/_tmp_scanning/contrast__0_476.npy_lock\n",
      "For parameter contrast = 0.800 ,   currently locked with  ../data/_tmp_scanning/contrast__0_800.npy_lock\n",
      "For parameter contrast = 1.345 ,   currently locked with  ../data/_tmp_scanning/contrast__1_345.npy_lock\n",
      "For parameter contrast = 2.263 ,   currently locked with  ../data/_tmp_scanning/contrast__2_263.npy_lock\n",
      "For parameter contrast = 3.805 ,   currently locked with  ../data/_tmp_scanning/contrast__3_805.npy_lock\n",
      "For parameter contrast = 6.400 ,   currently locked with  ../data/_tmp_scanning/contrast__6_400.npy_lock\n",
      "--------------------------------------------------\n",
      " parameter scan : network\n",
      "--------------------------------------------------\n",
      "scanning over dim1 = [500, 594, 707, 840, 1000, 1189, 1414, 1681, 2000]\n",
      "For parameter dim1 = 500 ,  Accuracy=10.0% +/- 0.0%  in 390.9 seconds\n",
      "For parameter dim1 = 594 ,  Accuracy=10.1% +/- 0.0%  in 503.6 seconds\n",
      "For parameter dim1 = 707 ,  Accuracy=10.0% +/- 0.0%  in 751.0 seconds\n",
      "For parameter dim1 = 840 ,   currently locked with  ../data/_tmp_scanning/dim1__840.npy_lock\n",
      "For parameter dim1 = 1000 ,   currently locked with  ../data/_tmp_scanning/dim1__1000.npy_lock\n",
      "For parameter dim1 = 1189 ,   currently locked with  ../data/_tmp_scanning/dim1__1189.npy_lock\n",
      "For parameter dim1 = 1414 ,   currently locked with  ../data/_tmp_scanning/dim1__1414.npy_lock\n",
      "For parameter dim1 = 1681 ,   currently locked with  ../data/_tmp_scanning/dim1__1681.npy_lock\n",
      "For parameter dim1 = 2000 ,   currently locked with  ../data/_tmp_scanning/dim1__2000.npy_lock\n",
      "scanning over bn1_bn_momentum = [0.    0.125 0.25  0.375 0.5   0.625 0.75  0.875 1.   ]\n",
      "For parameter bn1_bn_momentum = 0.000 ,  Accuracy=10.1% +/- 0.0%  in 623.8 seconds\n",
      "For parameter bn1_bn_momentum = 0.125 ,  Accuracy=10.1% +/- 0.0%  in 726.2 seconds\n",
      "For parameter bn1_bn_momentum = 0.250 ,  Accuracy=10.0% +/- 0.0%  in 748.4 seconds\n",
      "For parameter bn1_bn_momentum = 0.375 ,  Accuracy=10.1% +/- 0.0%  in 747.3 seconds\n",
      "For parameter bn1_bn_momentum = 0.500 ,  Accuracy=10.1% +/- 0.0%  in 728.5 seconds\n",
      "For parameter bn1_bn_momentum = 0.625 ,  Accuracy=10.0% +/- 0.0%  in 727.0 seconds\n",
      "For parameter bn1_bn_momentum = 0.750 ,  Accuracy=10.1% +/- 0.0%  in 845.1 seconds\n",
      "For parameter bn1_bn_momentum = 0.875 ,  Accuracy=10.1% +/- 0.0%  in 974.9 seconds\n",
      "For parameter bn1_bn_momentum = 1.000 ,  Accuracy=9.9% +/- 0.0%  in 951.1 seconds\n",
      "scanning over dim2 = [500, 594, 707, 840, 1000, 1189, 1414, 1681, 2000]\n",
      "For parameter dim2 = 500 ,  Accuracy=10.0% +/- 0.0%  in 697.3 seconds\n",
      "For parameter dim2 = 594 ,  Accuracy=10.0% +/- 0.0%  in 756.5 seconds\n",
      "For parameter dim2 = 707 ,  Accuracy=10.0% +/- 0.0%  in 785.5 seconds\n",
      "For parameter dim2 = 840 ,   currently locked with  ../data/_tmp_scanning/dim2__840.npy_lock\n",
      "For parameter dim2 = 1000 ,   currently locked with  ../data/_tmp_scanning/dim2__1000.npy_lock\n",
      "For parameter dim2 = 1189 ,   currently locked with  ../data/_tmp_scanning/dim2__1189.npy_lock\n",
      "For parameter dim2 = 1414 ,   currently locked with  ../data/_tmp_scanning/dim2__1414.npy_lock\n",
      "For parameter dim2 = 1681 ,   currently locked with  ../data/_tmp_scanning/dim2__1681.npy_lock\n",
      "For parameter dim2 = 2000 ,   currently locked with  ../data/_tmp_scanning/dim2__2000.npy_lock\n",
      "scanning over bn2_bn_momentum = [0.    0.125 0.25  0.375 0.5   0.625 0.75  0.875 1.   ]\n",
      "For parameter bn2_bn_momentum = 0.000 ,   currently locked with  ../data/_tmp_scanning/bn2_bn_momentum__0_000.npy_lock\n",
      "For parameter bn2_bn_momentum = 0.125 ,   currently locked with  ../data/_tmp_scanning/bn2_bn_momentum__0_125.npy_lock\n",
      "For parameter bn2_bn_momentum = 0.250 ,   currently locked with  ../data/_tmp_scanning/bn2_bn_momentum__0_250.npy_lock\n",
      "For parameter bn2_bn_momentum = 0.375 ,   currently locked with  ../data/_tmp_scanning/bn2_bn_momentum__0_375.npy_lock\n",
      "For parameter bn2_bn_momentum = 0.500 ,   currently locked with  ../data/_tmp_scanning/bn2_bn_momentum__0_500.npy_lock\n",
      "For parameter bn2_bn_momentum = 0.625 ,   currently locked with  ../data/_tmp_scanning/bn2_bn_momentum__0_625.npy_lock\n",
      "For parameter bn2_bn_momentum = 0.750 ,   currently locked with  ../data/_tmp_scanning/bn2_bn_momentum__0_750.npy_lock\n",
      "For parameter bn2_bn_momentum = 0.875 ,   currently locked with  ../data/_tmp_scanning/bn2_bn_momentum__0_875.npy_lock\n",
      "For parameter bn2_bn_momentum = 1.000 ,   currently locked with  ../data/_tmp_scanning/bn2_bn_momentum__1_000.npy_lock\n",
      "scanning over p_dropout = [0.    0.125 0.25  0.375 0.5   0.625 0.75  0.875 1.   ]\n",
      "For parameter p_dropout = 0.000 ,   currently locked with  ../data/_tmp_scanning/p_dropout__0_000.npy_lock\n",
      "For parameter p_dropout = 0.125 ,   currently locked with  ../data/_tmp_scanning/p_dropout__0_125.npy_lock\n",
      "For parameter p_dropout = 0.250 ,   currently locked with  ../data/_tmp_scanning/p_dropout__0_250.npy_lock\n",
      "For parameter p_dropout = 0.375 ,   currently locked with  ../data/_tmp_scanning/p_dropout__0_375.npy_lock\n",
      "For parameter p_dropout = 0.500 ,   currently locked with  ../data/_tmp_scanning/p_dropout__0_500.npy_lock\n",
      "For parameter p_dropout = 0.625 ,   currently locked with  ../data/_tmp_scanning/p_dropout__0_625.npy_lock\n",
      "For parameter p_dropout = 0.750 ,   currently locked with  ../data/_tmp_scanning/p_dropout__0_750.npy_lock\n",
      "For parameter p_dropout = 0.875 ,   currently locked with  ../data/_tmp_scanning/p_dropout__0_875.npy_lock\n",
      "For parameter p_dropout = 1.000 ,   currently locked with  ../data/_tmp_scanning/p_dropout__1_000.npy_lock\n",
      " parameter scan : learning \n",
      "--------------------------------------------------\n",
      "Using SGD\n",
      "--------------------------------------------------\n",
      "scanning over lr = [1.25000000e-05 2.10224104e-05 3.53553391e-05 5.94603558e-05\n",
      " 1.00000000e-04 1.68179283e-04 2.82842712e-04 4.75682846e-04\n",
      " 8.00000000e-04]\n",
      "For parameter lr = 0.000 ,   currently locked with  ../data/_tmp_scanning/lr__0_000.npy_lock\n",
      "For parameter lr = 0.000 ,   currently locked with  ../data/_tmp_scanning/lr__0_000.npy_lock\n",
      "For parameter lr = 0.000 ,   currently locked with  ../data/_tmp_scanning/lr__0_000.npy_lock\n",
      "For parameter lr = 0.000 ,   currently locked with  ../data/_tmp_scanning/lr__0_000.npy_lock\n",
      "For parameter lr = 0.000 ,   currently locked with  ../data/_tmp_scanning/lr__0_000.npy_lock\n",
      "For parameter lr = 0.000 ,   currently locked with  ../data/_tmp_scanning/lr__0_000.npy_lock\n",
      "For parameter lr = 0.000 ,   currently locked with  ../data/_tmp_scanning/lr__0_000.npy_lock\n",
      "For parameter lr = 0.000 ,   currently locked with  ../data/_tmp_scanning/lr__0_000.npy_lock\n",
      "For parameter lr = 0.001 ,  "
     ]
    },
    {
     "name": "stderr",
     "output_type": "stream",
     "text": [
      "  0%|          | 0/50 [00:00<?, ?it/s]\n"
     ]
    },
    {
     "name": "stdout",
     "output_type": "stream",
     "text": [
      "Failed with error not enough values to unpack (expected 3, got 2)\n",
      "Failed with error 0.0008\n",
      "scanning over momentum = [0.0125     0.02102241 0.03535534 0.05946036 0.1        0.16817928\n",
      " 0.28284271 0.47568285 0.8       ]\n",
      "For parameter momentum = 0.013 ,   currently locked with  ../data/_tmp_scanning/momentum__0_013.npy_lock\n",
      "For parameter momentum = 0.021 ,  "
     ]
    },
    {
     "name": "stderr",
     "output_type": "stream",
     "text": [
      "  0%|          | 0/50 [00:00<?, ?it/s]\n"
     ]
    },
    {
     "name": "stdout",
     "output_type": "stream",
     "text": [
      "Failed with error not enough values to unpack (expected 3, got 2)\n",
      "Failed with error 0.021022410381342865\n",
      "For parameter momentum = 0.035 ,   currently locked with  ../data/_tmp_scanning/momentum__0_035.npy_lock\n",
      "For parameter momentum = 0.059 ,   currently locked with  ../data/_tmp_scanning/momentum__0_059.npy_lock\n",
      "For parameter momentum = 0.100 ,   currently locked with  ../data/_tmp_scanning/momentum__0_100.npy_lock\n",
      "For parameter momentum = 0.168 ,   currently locked with  ../data/_tmp_scanning/momentum__0_168.npy_lock\n",
      "For parameter momentum = 0.283 ,  "
     ]
    },
    {
     "name": "stderr",
     "output_type": "stream",
     "text": [
      "  0%|          | 0/50 [00:00<?, ?it/s]\n"
     ]
    },
    {
     "name": "stdout",
     "output_type": "stream",
     "text": [
      "Failed with error not enough values to unpack (expected 3, got 2)\n",
      "Failed with error 0.28284271247461906\n",
      "For parameter momentum = 0.476 ,   currently locked with  ../data/_tmp_scanning/momentum__0_476.npy_lock\n",
      "For parameter momentum = 0.800 ,  "
     ]
    },
    {
     "name": "stderr",
     "output_type": "stream",
     "text": [
      "  0%|          | 0/50 [00:00<?, ?it/s]\n"
     ]
    },
    {
     "name": "stdout",
     "output_type": "stream",
     "text": [
      "Failed with error not enough values to unpack (expected 3, got 2)\n",
      "Failed with error 0.8\n",
      "scanning over minibatch_size = [12, 21, 35, 59, 100, 168, 282, 475, 800]\n",
      "For parameter minibatch_size = 12 ,   currently locked with  ../data/_tmp_scanning/minibatch_size__12.npy_lock\n",
      "For parameter minibatch_size = 21 ,  "
     ]
    },
    {
     "name": "stderr",
     "output_type": "stream",
     "text": [
      "  0%|          | 0/50 [00:00<?, ?it/s]\n"
     ]
    },
    {
     "name": "stdout",
     "output_type": "stream",
     "text": [
      "Failed with error not enough values to unpack (expected 3, got 2)\n",
      "Failed with error 21\n",
      "For parameter minibatch_size = 35 ,   currently locked with  ../data/_tmp_scanning/minibatch_size__35.npy_lock\n",
      "For parameter minibatch_size = 59 ,   currently locked with  ../data/_tmp_scanning/minibatch_size__59.npy_lock\n",
      "For parameter minibatch_size = 100 ,   currently locked with  ../data/_tmp_scanning/minibatch_size__100.npy_lock\n",
      "For parameter minibatch_size = 168 ,   currently locked with  ../data/_tmp_scanning/minibatch_size__168.npy_lock\n",
      "For parameter minibatch_size = 282 ,  "
     ]
    },
    {
     "name": "stderr",
     "output_type": "stream",
     "text": [
      "  0%|          | 0/50 [00:00<?, ?it/s]\n"
     ]
    },
    {
     "name": "stdout",
     "output_type": "stream",
     "text": [
      "Failed with error not enough values to unpack (expected 3, got 2)\n",
      "Failed with error 282\n",
      "For parameter minibatch_size = 475 ,   currently locked with  ../data/_tmp_scanning/minibatch_size__475.npy_lock\n",
      "For parameter minibatch_size = 800 ,  "
     ]
    },
    {
     "name": "stderr",
     "output_type": "stream",
     "text": [
      "  0%|          | 0/50 [00:00<?, ?it/s]\n"
     ]
    },
    {
     "name": "stdout",
     "output_type": "stream",
     "text": [
      "Failed with error not enough values to unpack (expected 3, got 2)\n",
      "Failed with error 800\n",
      "scanning over epochs = [6, 10, 17, 29, 50, 84, 141, 237, 400]\n",
      "For parameter epochs = 6 ,   currently locked with  ../data/_tmp_scanning/epochs__6.npy_lock\n",
      "For parameter epochs = 10 ,  "
     ]
    },
    {
     "name": "stderr",
     "output_type": "stream",
     "text": [
      "  0%|          | 0/10 [00:00<?, ?it/s]\n"
     ]
    },
    {
     "name": "stdout",
     "output_type": "stream",
     "text": [
      "Failed with error not enough values to unpack (expected 3, got 2)\n",
      "Failed with error 10\n",
      "For parameter epochs = 17 ,   currently locked with  ../data/_tmp_scanning/epochs__17.npy_lock\n",
      "For parameter epochs = 29 ,   currently locked with  ../data/_tmp_scanning/epochs__29.npy_lock\n",
      "For parameter epochs = 50 ,   currently locked with  ../data/_tmp_scanning/epochs__50.npy_lock\n",
      "For parameter epochs = 84 ,   currently locked with  ../data/_tmp_scanning/epochs__84.npy_lock\n",
      "For parameter epochs = 141 ,  "
     ]
    },
    {
     "name": "stderr",
     "output_type": "stream",
     "text": [
      "  0%|          | 0/141 [00:00<?, ?it/s]\n"
     ]
    },
    {
     "name": "stdout",
     "output_type": "stream",
     "text": [
      "Failed with error not enough values to unpack (expected 3, got 2)\n",
      "Failed with error 141\n",
      "For parameter epochs = 237 ,   currently locked with  ../data/_tmp_scanning/epochs__237.npy_lock\n",
      "For parameter epochs = 400 ,  "
     ]
    },
    {
     "name": "stderr",
     "output_type": "stream",
     "text": [
      "  0%|          | 0/400 [00:00<?, ?it/s]"
     ]
    },
    {
     "name": "stdout",
     "output_type": "stream",
     "text": [
      "Failed with error not enough values to unpack (expected 3, got 2)\n",
      "Failed with error 400\n",
      "--------------------------------------------------\n",
      "Using ADAM\n",
      "--------------------------------------------------\n",
      "scanning over lr = [5.00000000e-05 5.94603558e-05 7.07106781e-05 8.40896415e-05\n",
      " 1.00000000e-04 1.18920712e-04 1.41421356e-04 1.68179283e-04\n",
      " 2.00000000e-04]\n",
      "For parameter lr = 0.000 ,   currently locked with  ../data/_tmp_scanning/lr_adam_0_000.npy_lock\n",
      "For parameter lr = 0.000 ,   currently locked with  ../data/_tmp_scanning/lr_adam_0_000.npy_lock\n",
      "For parameter lr = 0.000 ,   currently locked with  ../data/_tmp_scanning/lr_adam_0_000.npy_lock\n",
      "For parameter lr = 0.000 ,   currently locked with  ../data/_tmp_scanning/lr_adam_0_000.npy_lock\n",
      "For parameter lr = 0.000 ,   currently locked with  ../data/_tmp_scanning/lr_adam_0_000.npy_lock\n",
      "For parameter lr = 0.000 ,   currently locked with  ../data/_tmp_scanning/lr_adam_0_000.npy_lock\n",
      "For parameter lr = 0.000 ,   currently locked with  ../data/_tmp_scanning/lr_adam_0_000.npy_lock\n",
      "For parameter lr = 0.000 ,   currently locked with  ../data/_tmp_scanning/lr_adam_0_000.npy_lock\n",
      "For parameter lr = 0.000 ,   currently locked with  ../data/_tmp_scanning/lr_adam_0_000.npy_lock\n",
      "scanning over momentum = [0.05       0.05946036 0.07071068 0.08408964 0.1        0.11892071\n",
      " 0.14142136 0.16817928 0.2       ]\n",
      "For parameter momentum = 0.050 ,   currently locked with  ../data/_tmp_scanning/momentum_adam_0_050.npy_lock\n",
      "For parameter momentum = 0.059 ,   currently locked with  ../data/_tmp_scanning/momentum_adam_0_059.npy_lock\n",
      "For parameter momentum = 0.071 ,   currently locked with  ../data/_tmp_scanning/momentum_adam_0_071.npy_lock\n",
      "For parameter momentum = 0.084 ,   currently locked with  ../data/_tmp_scanning/momentum_adam_0_084.npy_lock\n",
      "For parameter momentum = 0.100 ,   currently locked with  ../data/_tmp_scanning/momentum_adam_0_100.npy_lock\n",
      "For parameter momentum = 0.119 ,   currently locked with  ../data/_tmp_scanning/momentum_adam_0_119.npy_lock\n",
      "For parameter momentum = 0.141 ,   currently locked with  ../data/_tmp_scanning/momentum_adam_0_141.npy_lock\n",
      "For parameter momentum = 0.168 ,   currently locked with  ../data/_tmp_scanning/momentum_adam_0_168.npy_lock\n",
      "For parameter momentum = 0.200 ,   currently locked with  ../data/_tmp_scanning/momentum_adam_0_200.npy_lock\n",
      "scanning over minibatch_size = [50, 59, 70, 84, 100, 118, 141, 168, 200]\n",
      "For parameter minibatch_size = 50 ,   currently locked with  ../data/_tmp_scanning/minibatch_size_adam_50.npy_lock\n",
      "For parameter minibatch_size = 59 ,   currently locked with  ../data/_tmp_scanning/minibatch_size_adam_59.npy_lock\n",
      "For parameter minibatch_size = 70 ,   currently locked with  ../data/_tmp_scanning/minibatch_size_adam_70.npy_lock\n",
      "For parameter minibatch_size = 84 ,   currently locked with  ../data/_tmp_scanning/minibatch_size_adam_84.npy_lock\n",
      "For parameter minibatch_size = 100 ,   currently locked with  ../data/_tmp_scanning/minibatch_size_adam_100.npy_lock\n",
      "For parameter minibatch_size = 118 ,   currently locked with  ../data/_tmp_scanning/minibatch_size_adam_118.npy_lock\n",
      "For parameter minibatch_size = 141 ,   currently locked with  ../data/_tmp_scanning/minibatch_size_adam_141.npy_lock\n",
      "For parameter minibatch_size = 168 ,   currently locked with  ../data/_tmp_scanning/minibatch_size_adam_168.npy_lock\n",
      "For parameter minibatch_size = 200 ,   currently locked with  ../data/_tmp_scanning/minibatch_size_adam_200.npy_lock\n",
      "scanning over epochs = [25, 29, 35, 42, 50, 59, 70, 84, 100]\n",
      "For parameter epochs = 25 ,   currently locked with  ../data/_tmp_scanning/epochs_adam_25.npy_lock\n",
      "For parameter epochs = 29 ,   currently locked with  ../data/_tmp_scanning/epochs_adam_29.npy_lock\n",
      "For parameter epochs = 35 ,   currently locked with  ../data/_tmp_scanning/epochs_adam_35.npy_lock\n",
      "For parameter epochs = 42 ,   currently locked with  ../data/_tmp_scanning/epochs_adam_42.npy_lock\n",
      "For parameter epochs = 50 ,   currently locked with  ../data/_tmp_scanning/epochs_adam_50.npy_lock\n",
      "For parameter epochs = 59 ,   currently locked with  ../data/_tmp_scanning/epochs_adam_59.npy_lock\n",
      "For parameter epochs = 70 ,   currently locked with  ../data/_tmp_scanning/epochs_adam_70.npy_lock\n",
      "For parameter epochs = 84 ,   currently locked with  ../data/_tmp_scanning/epochs_adam_84.npy_lock\n",
      "For parameter epochs = 100 ,   currently locked with  ../data/_tmp_scanning/epochs_adam_100.npy_lock\n"
     ]
    },
    {
     "name": "stderr",
     "output_type": "stream",
     "text": [
      "\n"
     ]
    }
   ],
   "source": [
    "%run params.py"
   ]
  },
  {
   "cell_type": "markdown",
   "metadata": {},
   "source": [
    "# summary\n"
   ]
  },
  {
   "cell_type": "code",
   "execution_count": 7,
   "metadata": {},
   "outputs": [
    {
     "name": "stdout",
     "output_type": "stream",
     "text": [
      "B_sf__0_037.npy_lock              minibatch_size__168.npy_lock\n",
      "B_sf__0_063.npy_lock              minibatch_size__200.npy_lock\n",
      "B_sf__0_106.npy_lock              minibatch_size__21.npy_lock\n",
      "B_sf__0_150.npy                   minibatch_size__282.npy_lock\n",
      "B_sf__0_178.npy                   minibatch_size__35.npy_lock\n",
      "B_sf__0_212.npy                   minibatch_size__475.npy_lock\n",
      "B_sf__0_252.npy                   minibatch_size__50.npy_lock\n",
      "B_sf__0_300.npy                   minibatch_size__59.npy_lock\n",
      "B_sf__0_357.npy                   minibatch_size__70.npy_lock\n",
      "B_sf__0_424.npy                   minibatch_size__800.npy_lock\n",
      "B_sf__0_505.npy                   minibatch_size__84.npy_lock\n",
      "B_sf__0_600.npy                   minibatch_size_adam_100.npy_lock\n",
      "B_sf__0_849.npy_lock              minibatch_size_adam_118.npy_lock\n",
      "B_sf__1_427.npy_lock              minibatch_size_adam_141.npy_lock\n",
      "B_sf__2_400.npy_lock              minibatch_size_adam_168.npy_lock\n",
      "bias_deconv__False.npy            minibatch_size_adam_200.npy_lock\n",
      "bias_deconv__True.npy             minibatch_size_adam_50.npy_lock\n",
      "bn1_bn_momentum__0_000.npy        minibatch_size_adam_59.npy_lock\n",
      "bn1_bn_momentum__0_125.npy        minibatch_size_adam_70.npy_lock\n",
      "bn1_bn_momentum__0_250.npy        minibatch_size_adam_84.npy_lock\n",
      "bn1_bn_momentum__0_375.npy        momentum__0_013.npy_lock\n",
      "bn1_bn_momentum__0_500.npy        momentum__0_021.npy_lock\n",
      "bn1_bn_momentum__0_625.npy        momentum__0_035.npy_lock\n",
      "bn1_bn_momentum__0_750.npy        momentum__0_050.npy_lock\n",
      "bn1_bn_momentum__0_875.npy        momentum__0_059.npy_lock\n",
      "bn1_bn_momentum__1_000.npy        momentum__0_071.npy_lock\n",
      "bn2_bn_momentum__0_000.npy_lock   momentum__0_084.npy_lock\n",
      "bn2_bn_momentum__0_125.npy_lock   momentum__0_100.npy_lock\n",
      "bn2_bn_momentum__0_250.npy_lock   momentum__0_119.npy_lock\n",
      "bn2_bn_momentum__0_375.npy_lock   momentum__0_141.npy_lock\n",
      "bn2_bn_momentum__0_500.npy_lock   momentum__0_168.npy_lock\n",
      "bn2_bn_momentum__0_625.npy_lock   momentum__0_200.npy_lock\n",
      "bn2_bn_momentum__0_750.npy_lock   momentum__0_283.npy_lock\n",
      "bn2_bn_momentum__0_875.npy_lock   momentum__0_476.npy_lock\n",
      "bn2_bn_momentum__1_000.npy_lock   momentum__0_800.npy_lock\n",
      "contrast__0_100.npy_lock          momentum_adam_0_050.npy_lock\n",
      "contrast__0_168.npy_lock          momentum_adam_0_059.npy_lock\n",
      "contrast__0_283.npy_lock          momentum_adam_0_071.npy_lock\n",
      "contrast__0_400.npy_lock          momentum_adam_0_084.npy_lock\n",
      "contrast__0_476.npy_lock          momentum_adam_0_100.npy_lock\n",
      "contrast__0_566.npy_lock          momentum_adam_0_119.npy_lock\n",
      "contrast__0_673.npy_lock          momentum_adam_0_141.npy_lock\n",
      "contrast__0_800.npy_lock          momentum_adam_0_168.npy_lock\n",
      "contrast__0_951.npy_lock          momentum_adam_0_200.npy_lock\n",
      "contrast__1_131.npy_lock          noise__0_087.npy_lock\n",
      "contrast__1_345.npy_lock          noise__0_147.npy_lock\n",
      "contrast__1_600.npy_lock          noise__0_247.npy_lock\n",
      "contrast__2_263.npy_lock          noise__0_350.npy_lock\n",
      "contrast__3_805.npy_lock          noise__0_416.npy_lock\n",
      "contrast__6_400.npy_lock          noise__0_495.npy_lock\n",
      "dim1__1000.npy_lock               noise__0_589.npy_lock\n",
      "dim1__1189.npy_lock               noise__0_700.npy_lock\n",
      "dim1__1414.npy_lock               noise__0_832.npy_lock\n",
      "dim1__1681.npy_lock               noise__0_990.npy_lock\n",
      "dim1__2000.npy_lock               noise__1_177.npy_lock\n",
      "dim1__500.npy                     noise__1_400.npy_lock\n",
      "dim1__594.npy                     noise__1_980.npy_lock\n",
      "dim1__707.npy                     noise__3_330.npy_lock\n",
      "dim1__840.npy_lock                noise__5_600.npy_lock\n",
      "dim2__1000.npy_lock               offset_std__10.npy_lock\n",
      "dim2__1189.npy_lock               offset_std__142.npy_lock\n",
      "dim2__1414.npy_lock               offset_std__15.npy_lock\n",
      "dim2__1681.npy_lock               offset_std__17.npy_lock\n",
      "dim2__2000.npy_lock               offset_std__21.npy_lock\n",
      "dim2__500.npy                     offset_std__240.npy_lock\n",
      "dim2__594.npy                     offset_std__25.npy_lock\n",
      "dim2__707.npy                     offset_std__3.npy_lock\n",
      "dim2__840.npy_lock                offset_std__30.npy_lock\n",
      "epochs__10.npy_lock               offset_std__35.npy_lock\n",
      "epochs__100.npy_lock              offset_std__42.npy_lock\n",
      "epochs__141.npy_lock              offset_std__50.npy_lock\n",
      "epochs__17.npy_lock               offset_std__6.npy_lock\n",
      "epochs__237.npy_lock              offset_std__60.npy_lock\n",
      "epochs__25.npy_lock               offset_std__84.npy_lock\n",
      "epochs__29.npy_lock               p_dropout__0_000.npy_lock\n",
      "epochs__35.npy_lock               p_dropout__0_125.npy_lock\n",
      "epochs__400.npy_lock              p_dropout__0_250.npy_lock\n",
      "epochs__42.npy_lock               p_dropout__0_375.npy_lock\n",
      "epochs__50.npy_lock               p_dropout__0_500.npy_lock\n",
      "epochs__59.npy_lock               p_dropout__0_625.npy_lock\n",
      "epochs__6.npy_lock                p_dropout__0_750.npy_lock\n",
      "epochs__70.npy_lock               p_dropout__0_875.npy_lock\n",
      "epochs__84.npy_lock               p_dropout__1_000.npy_lock\n",
      "epochs_adam_100.npy_lock          sf_0__0_025.npy_lock\n",
      "epochs_adam_25.npy_lock           sf_0__0_042.npy_lock\n",
      "epochs_adam_29.npy_lock           sf_0__0_071.npy_lock\n",
      "epochs_adam_35.npy_lock           sf_0__0_100.npy\n",
      "epochs_adam_42.npy_lock           sf_0__0_119.npy\n",
      "epochs_adam_50.npy_lock           sf_0__0_141.npy\n",
      "epochs_adam_59.npy_lock           sf_0__0_168.npy\n",
      "epochs_adam_70.npy_lock           sf_0__0_200.npy\n",
      "epochs_adam_84.npy_lock           sf_0__0_238.npy\n",
      "lr__0_000.npy_lock                sf_0__0_283.npy\n",
      "lr__0_001.npy_lock                sf_0__0_336.npy\n",
      "lr_adam_0_000.npy_lock            sf_0__0_400.npy\n",
      "minibatch_size__100.npy_lock      sf_0__0_566.npy_lock\n",
      "minibatch_size__118.npy_lock      sf_0__0_951.npy_lock\n",
      "minibatch_size__12.npy_lock       sf_0__1_600.npy_lock\n",
      "minibatch_size__141.npy_lock\n"
     ]
    }
   ],
   "source": [
    "%ls ../data/_tmp_scanning"
   ]
  },
  {
   "cell_type": "raw",
   "metadata": {},
   "source": [
    "fig = plt.figure(figsize = (figwidth, figwidth/2.5))#1.618))\n",
    "ax_A = plt.subplot(1, 4, 1) \n",
    "data_retina = r.retina(full[idx]['data_fullfield'])\n",
    "ax_A = where.retina.show(ax_A, r.retina_invert(data_retina))\n",
    "    \n",
    "ax_B = plt.subplot(2, 4, 2, projection='polar', autoscale_on=False)\n",
    "ax_B.pcolor(r.theta, r.log_r, accuracy_colliculus[idx, :].numpy().reshape((args.N_azimuth, args.N_eccentricity)))\n",
    "ax_B.grid('off')\n",
    "plt.title('True', fontsize = 14)\n",
    "ax_B.set_yticklabels([])\n",
    "ax_B.set_xticklabels([])\n",
    "\n",
    "ax_Bb = plt.subplot(2, 4, 6, projection='polar')\n",
    "ax_Bb.pcolor(r.theta, r.log_r, pred_accuracy_colliculus[idx, :].reshape((args.N_azimuth, args.N_eccentricity)))\n",
    "ax_Bb.set_title('Predicted', fontsize = 14)\n",
    "ax_Bb.set_yticklabels([])\n",
    "ax_Bb.set_xticklabels([])\n",
    "\n",
    "\n",
    "ax_C = plt.subplot(1, 4, 3)\n",
    "data_fullfield = d.place_object(data[idx, 0, :, :].numpy(), 0, 0)\n",
    "input_vector  =  r.retina(data_fullfield)\n",
    "ax_C = r.show(ax_C, r.retina_invert(input_vector))\n",
    "i_pred, j_pred = where.index_prediction(pred_accuracy_colliculus[idx, :])\n",
    "ax_A.arrow(64.5, 64.5, -i_pred, -j_pred, width=.3, color='r', head_width=4., length_includes_head=True, edgecolor='k')\n",
    "\n",
    "ax_D = plt.subplot(1, 4, 4)\n",
    "width = .8*np.abs(np.gradient(eccentricities)[0])\n",
    "ax_D.bar(eccentricities, accuracy_mean, width=width, alpha = .5, label = 'One saccade')\n",
    "ax_D.plot([eccentricities.min()-width/2, eccentricities.max()+width/2], [0.1]*2, ':', c='k', label = 'Baseline')\n",
    "ax_D.plot([eccentricities.min()-width/2, eccentricities.max()+width/2], [acc_max]*2, ':', c='orange', label = 'Max')\n",
    "\n",
    "plt.legend(loc='upper right')\n",
    "ax_D.set_xlabel('Target eccentricity (pixels)', fontsize = 12)\n",
    "ax_D.set_xticks(eccentricities)\n",
    "ax_D.set_xticklabels(['%.1f' % d for  d in eccentricities])\n",
    "ax_D.set_ylim([0,1])\n",
    "\n",
    "for ax, text in [[ax_A, 'DIS'], [ax_C, 'SAC']]:\n",
    "    ax.text(4, 15, text, fontsize=24,\n",
    "          bbox={'facecolor':'white','alpha':1,'edgecolor':'none','pad':1},\n",
    "          ha='left', va='center') \n",
    "\n",
    "offset = -.015\n",
    "for ax, text, x_offset, y_offset in [[ax_A, 'A', offset, 1.15], [ax_B, 'B', -.25, 1.225], [ax_C, 'C', offset, 1.15], [ax_D, 'D', offset, 1.15]]:\n",
    "    ax.text(x_offset, y_offset, '(' + text + ')', fontsize=24,\n",
    "              bbox={'facecolor':'white','alpha':1,'edgecolor':'none','pad':1},\n",
    "              ha='left', va='center', transform=ax.transAxes) \n",
    "\n",
    "# pos : [left, bottom, width, height] =    The new position of the in `.Figure` coordinates.    \n",
    "plt.tight_layout()\n",
    "ax_A.set_position([0.025, 0.1, .3, .45])\n",
    "ax_B.set_position( [0.24, 0.375, .2, 0.2])\n",
    "ax_Bb.set_position([0.24, 0.1, .2, 0.2])\n",
    "ax_C.set_position([0.35, .1, .3, .45])\n",
    "ax_D.set_position([0.65, .1, .3, .45])\n",
    "fig.savefig(figname + '.pdf', bbox_inches='tight', pad_inches=0.1)"
   ]
  },
  {
   "cell_type": "markdown",
   "metadata": {},
   "source": [
    "# post-processing"
   ]
  },
  {
   "cell_type": "raw",
   "metadata": {
    "ExecuteTime": {
     "end_time": "2018-10-08T14:43:27.591507Z",
     "start_time": "2018-10-08T14:43:24.722160Z"
    }
   },
   "source": [
    "!convert  -density {dpi_export} {figname}.pdf {figname}.jpg\n",
    "!convert  -density {dpi_export} {figname}.pdf {figname}.png\n",
    "#!convert  -density {dpi_export} -resize 5400  -units pixelsperinch -flatten  -compress lzw  -depth 8 {fname}.pdf {fname}.tiff"
   ]
  },
  {
   "cell_type": "raw",
   "metadata": {
    "ExecuteTime": {
     "end_time": "2018-07-03T10:36:00.981927Z",
     "start_time": "2018-07-03T10:36:00.949864Z"
    }
   },
   "source": [
    "from IPython.display import Image\n",
    "Image('{figname}.png'.format(figname=figname))"
   ]
  },
  {
   "cell_type": "code",
   "execution_count": 8,
   "metadata": {
    "ExecuteTime": {
     "end_time": "2018-07-03T10:36:00.939193Z",
     "start_time": "2018-07-03T10:36:00.766218Z"
    }
   },
   "outputs": [
    {
     "name": "stdout",
     "output_type": "stream",
     "text": [
      "ls: ../paper/fig_params*: No such file or directory\n"
     ]
    }
   ],
   "source": [
    "!ls  -l {figname}*"
   ]
  },
  {
   "cell_type": "code",
   "execution_count": null,
   "metadata": {},
   "outputs": [],
   "source": []
  }
 ],
 "metadata": {
  "kernelspec": {
   "display_name": "Python 3",
   "language": "python",
   "name": "python3"
  },
  "language_info": {
   "codemirror_mode": {
    "name": "ipython",
    "version": 3
   },
   "file_extension": ".py",
   "mimetype": "text/x-python",
   "name": "python",
   "nbconvert_exporter": "python",
   "pygments_lexer": "ipython3",
   "version": "3.7.2"
  }
 },
 "nbformat": 4,
 "nbformat_minor": 2
}
