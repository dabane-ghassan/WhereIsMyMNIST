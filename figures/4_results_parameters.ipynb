{
 "cells": [
  {
   "cell_type": "markdown",
   "metadata": {},
   "source": [
    "This notebook introduces the problem addressed in this paper:\n",
    "\n",
    " - localizating an object in a large image\n",
    " - foveation\n",
    " - action (saccade)\n",
    " "
   ]
  },
  {
   "cell_type": "code",
   "execution_count": 1,
   "metadata": {},
   "outputs": [
    {
     "name": "stdout",
     "output_type": "stream",
     "text": [
      "\n",
      "This notebook introduces the problem addressed in this paper:\n",
      "\n",
      " - localizating an object in a large image\n",
      " - foveation\n",
      " - action (saccade)\n",
      "       \n",
      "      \n",
      "Using filename= ../data/2019-03-29\n",
      "{'w': 28, 'minibatch_size': 100, 'train_batch_size': 50000, 'test_batch_size': 5000, 'noise_batch_size': 1000, 'mean': 0.1307, 'std': 0.3081, 'N_pic': 128, 'offset_std': 30, 'offset_max': 34, 'noise': 0.5, 'contrast': 0.5, 'sf_0': 0.2, 'B_sf': 0.08, 'N_theta': 6, 'N_azimuth': 26, 'N_eccentricity': 10, 'N_phase': 2, 'rho': 1.41, 'bias_deconv': True, 'p_dropout': 0.0, 'dim1': 382, 'dim2': 2618, 'lr': 0.005, 'do_adam': True, 'bn1_bn_momentum': 0.5, 'bn2_bn_momentum': 0.2, 'momentum': 0.1, 'epochs': 25, 'num_processes': 1, 'no_cuda': True, 'log_interval': 100, 'verbose': 1, 'filename': '../data/2019-03-29', 'seed': 2019, 'N_cv': 2, 'do_compute': True}\n",
      "Overwriting train.py\n",
      "2019-03-29T17:12:29+01:00\n",
      "\n",
      "CPython 3.7.2\n",
      "IPython 7.4.0\n",
      "\n",
      "numpy 1.16.2\n",
      "matplotlib 3.0.3\n",
      "torch 1.0.1.post2\n",
      "\n",
      "compiler   : Clang 10.0.0 (clang-1000.11.45.5)\n",
      "system     : Darwin\n",
      "release    : 18.2.0\n",
      "machine    : x86_64\n",
      "processor  : i386\n",
      "CPU cores  : 36\n",
      "interpreter: 64bit\n",
      "host name  : fortytwo\n",
      "Git hash   : d57cde00951f437c7cbc7c7cd3ee6a18b24fd25c\n",
      "Git repo   : https://github.com/laurentperrinet/WhereIsMyMNIST\n",
      "Git branch : master\n"
     ]
    }
   ],
   "source": [
    "%run 0_parameters.ipynb"
   ]
  },
  {
   "cell_type": "code",
   "execution_count": 2,
   "metadata": {
    "ExecuteTime": {
     "end_time": "2018-07-03T10:34:13.258190Z",
     "start_time": "2018-07-03T10:34:13.251661Z"
    },
    "collapsed": true
   },
   "outputs": [],
   "source": [
    "figname = '../paper/fig_params'"
   ]
  },
  {
   "cell_type": "code",
   "execution_count": 3,
   "metadata": {},
   "outputs": [
    {
     "name": "stdout",
     "output_type": "stream",
     "text": [
      "Overwriting params.py\n"
     ]
    }
   ],
   "source": [
    "%%writefile params.py\n",
    "import os\n",
    "import torch\n",
    "from main import init, MetaML\n",
    "from where import Where as ML\n",
    "from what import WhatNet\n",
    "import numpy as np        \n",
    "import sys\n",
    "opts = dict(filename='../data/2019-03-30', verbose=0, log_interval=0, do_compute=False  if len(sys.argv) > 1 else True)\n",
    "#opts = dict(filename='debug', verbose=0, log_interval=0)\n",
    "print('do_compute =', opts['do_compute'])\n",
    "\n",
    "print(50*'-')\n",
    "print(' parameter scan')\n",
    "print(50*'-')\n",
    "\n",
    "if opts['do_compute']:\n",
    "    args = init(**opts)\n",
    "    #args.filename = '../data/2019-03-27'\n",
    "    filename_train = args.filename + '_train.pt'\n",
    "    if not(os.path.isfile(filename_train + '_lock')):\n",
    "        open(filename_train + '_lock', 'w').close()\n",
    "        print(50*'-')\n",
    "        print('Default parameters')\n",
    "        print(50*'-')\n",
    "        from where import Where as ML\n",
    "        from what import WhatNet\n",
    "        ml = ML(args)\n",
    "        ml.train(path=filename_train)\n",
    "        # ml.main(path=args.filename)\n",
    "        try:\n",
    "            os.remove(filename_train + '_lock')\n",
    "        except:\n",
    "            pass\n",
    "\n",
    "if True:\n",
    "    args = init(**opts)\n",
    "    mml = MetaML(args)\n",
    "    if torch.cuda.is_available():\n",
    "        mml.scan('no_cuda', [True, False])\n",
    "\n",
    "    args = init(**opts)\n",
    "    mml = MetaML(args)\n",
    "    mml.scan('bias_deconv', [True, False])\n",
    "\n",
    "results = {}\n",
    "    \n",
    "def update_results(results, parameter, accuracies, ci=0.01):\n",
    "    from scipy.stats import beta\n",
    "\n",
    "    if not parameter in results.keys(): results[parameter] = dict(value=[], accuracy=[], p_low=[], p_sup=[])\n",
    "    for value in accuracies.keys():\n",
    "        results[parameter]['value'].append(value)\n",
    "        results[parameter]['accuracy'].append(accuracies[value][:-1].mean()*100)\n",
    "        try:\n",
    "            a1, b1, loc1, scale1 = beta.fit(accuracies[value][:-1], floc=0, fscale=1)\n",
    "            p_low, p_sup = beta.ppf([ci, 1-ci], a=a1, b=b1)\n",
    "            #print(p_low, p_sup)\n",
    "            results[parameter]['p_low'].append(p_low*100)\n",
    "            results[parameter]['p_sup'].append(p_sup*100)\n",
    "        except:\n",
    "            results[parameter]['p_low'].append(accuracies[value][:-1].mean()*100)\n",
    "            results[parameter]['p_sup'].append(accuracies[value][:-1].mean()*100)\n",
    "        \n",
    "    return results\n",
    "            \n",
    "for base in [np.sqrt(2), 2, 2*np.sqrt(2)] if not args.filename == '../data/debug' else [2]:\n",
    "    print(50*'-')\n",
    "    print(' base=', base)\n",
    "    print(50*'-')\n",
    "\n",
    "    print(50*'-')\n",
    "    print(' parameter scan : data')\n",
    "    print(50*'-')\n",
    "    args = init(**opts)\n",
    "    mml = MetaML(args, base=base)\n",
    "    for parameter in ['sf_0', 'B_sf', 'offset_std' , 'noise', 'contrast']: #\n",
    "        accuracies = mml.parameter_scan(parameter)\n",
    "        results = update_results(results, parameter, accuracies)\n",
    "        \n",
    "    print(50*'-')\n",
    "    print(' parameter scan : network')\n",
    "    print(50*'-')\n",
    "    args = init(**opts)\n",
    "    mml = MetaML(args)\n",
    "    for parameter in ['dim1',\n",
    "                      'bn1_bn_momentum',\n",
    "                      'dim2',\n",
    "                      'bn2_bn_momentum',\n",
    "                      'p_dropout']:\n",
    "        accuracies = mml.parameter_scan(parameter)\n",
    "        results = update_results(results, parameter, accuracies)\n",
    "\n",
    "    print(' parameter scan : learning ')\n",
    "    args = init(**opts)\n",
    "    mml = MetaML(args, base=base, tag='SGD')\n",
    "    print(50*'-')\n",
    "    print('Using SGD')\n",
    "    print(50*'-')\n",
    "    for parameter in ['lr', 'momentum', 'minibatch_size', 'epochs']:\n",
    "        accuracies = mml.parameter_scan(parameter)\n",
    "        results = update_results(results, parameter + '_sgd', accuracies)\n",
    "    print(50*'-')\n",
    "    print('Using ADAM')\n",
    "    print(50*'-')\n",
    "    args = init(**opts)\n",
    "    args.do_adam = True\n",
    "    mml = MetaML(args, base=base, tag='adam')\n",
    "    for parameter in ['lr', 'momentum', 'minibatch_size', 'epochs']:\n",
    "        accuracies = mml.parameter_scan(parameter)\n",
    "        results = update_results(results, parameter + '_adam', accuracies)\n",
    "\n",
    "    print(50*'-')\n",
    "    print(' parameter scan : retina')\n",
    "    print(50*'-')\n",
    "    args = init(**opts)\n",
    "    mml = MetaML(args)\n",
    "    for parameter in ['N_theta',\n",
    "                      'N_azimuth',\n",
    "                      'N_eccentricity',\n",
    "                      'rho']:\n",
    "        accuracies = mml.parameter_scan(parameter)\n",
    "        results = update_results(results, parameter, accuracies)\n",
    "        "
   ]
  },
  {
   "cell_type": "raw",
   "metadata": {},
   "source": [
    "%rm -fr ../data/_tmp_scanning"
   ]
  },
  {
   "cell_type": "code",
   "execution_count": 4,
   "metadata": {},
   "outputs": [
    {
     "name": "stdout",
     "output_type": "stream",
     "text": [
      "do_compute= False\n",
      "--------------------------------------------------\n",
      " parameter scan\n",
      "--------------------------------------------------\n",
      "scanning over bias_deconv = [True, False]\n",
      "For parameter bias_deconv = True ,  Accuracy=72.6% +/- 0.0%  in 11216.0 seconds\n",
      "For parameter bias_deconv = False ,  Accuracy=73.2% +/- 0.0%  in 11028.7 seconds\n",
      "--------------------------------------------------\n",
      " base= 1.4142135623730951\n",
      "--------------------------------------------------\n",
      "--------------------------------------------------\n",
      " parameter scan : data\n",
      "--------------------------------------------------\n",
      "scanning over sf_0 = [0.14142136 0.15874011 0.17817974 0.2        0.22449241 0.25198421\n",
      " 0.28284271]\n",
      "For parameter sf_0 = 0.141 ,  Accuracy=68.7% +/- 0.0%  in 10952.7 seconds\n",
      "For parameter sf_0 = 0.159 ,  Failed with error 0.15874010519681994\n",
      "For parameter sf_0 = 0.178 ,  Failed with error 0.17817974362806788\n",
      "For parameter sf_0 = 0.200 ,  Accuracy=72.6% +/- 0.0%  in 11302.7 seconds\n",
      "For parameter sf_0 = 0.224 ,  Failed with error 0.22449240966187461\n",
      "For parameter sf_0 = 0.252 ,  Failed with error 0.25198420997897464\n",
      "For parameter sf_0 = 0.283 ,  Accuracy=75.2% +/- 0.0%  in 11285.1 seconds\n"
     ]
    },
    {
     "name": "stderr",
     "output_type": "stream",
     "text": [
      "/usr/local/lib/python3.7/site-packages/scipy/stats/_continuous_distns.py:603: RuntimeWarning: divide by zero encountered in double_scalars\n",
      "  fac = xbar * (1 - xbar) / data.var(ddof=0) - 1\n",
      "/usr/local/lib/python3.7/site-packages/scipy/stats/_continuous_distns.py:452: RuntimeWarning: invalid value encountered in double_scalars\n",
      "  func = [s1 - n * (-psiab + sc.psi(a)),\n",
      "/usr/local/lib/python3.7/site-packages/scipy/stats/_continuous_distns.py:453: RuntimeWarning: invalid value encountered in double_scalars\n",
      "  s2 - n * (-psiab + sc.psi(b))]\n"
     ]
    },
    {
     "name": "stdout",
     "output_type": "stream",
     "text": [
      "scanning over B_sf = [0.05656854 0.06349604 0.0712719  0.08       0.08979696 0.10079368\n",
      " 0.11313708]\n",
      "For parameter B_sf = 0.057 ,  Failed with error 0.056568542494923796\n",
      "For parameter B_sf = 0.063 ,  Failed with error 0.06349604207872797\n",
      "For parameter B_sf = 0.071 ,  Failed with error 0.07127189745122714\n",
      "For parameter B_sf = 0.080 ,  Failed with error 0.08\n",
      "For parameter B_sf = 0.090 ,  Failed with error 0.08979696386474985\n",
      "For parameter B_sf = 0.101 ,  Failed with error 0.10079368399158986\n",
      "For parameter B_sf = 0.113 ,  Failed with error 0.11313708498984762\n",
      "scanning over offset_std = [21, 23, 26, 30, 33, 37, 42]\n",
      "For parameter offset_std = 21 ,  Accuracy=77.3% +/- 0.0%  in 11310.6 seconds\n",
      "For parameter offset_std = 23 ,  Failed with error 23\n",
      "For parameter offset_std = 26 ,  Failed with error 26\n",
      "For parameter offset_std = 30 ,  Accuracy=72.6% +/- 0.0%  in 11332.3 seconds\n",
      "For parameter offset_std = 33 ,  Failed with error 33\n",
      "For parameter offset_std = 37 ,  Failed with error 37\n",
      "For parameter offset_std = 42 ,  Accuracy=67.9% +/- 0.0%  in 11297.9 seconds\n",
      "scanning over noise = [0.35355339 0.39685026 0.44544936 0.5        0.56123102 0.62996052\n",
      " 0.70710678]\n",
      "For parameter noise = 0.354 ,  Failed with error 0.35355339059327373\n",
      "For parameter noise = 0.397 ,  Failed with error 0.39685026299204984\n",
      "For parameter noise = 0.445 ,  Failed with error 0.44544935907016964\n",
      "For parameter noise = 0.500 ,  Accuracy=81.8% +/- 0.0%  in 9939.2 seconds\n",
      "For parameter noise = 0.561 ,  Failed with error 0.5612310241546865\n",
      "For parameter noise = 0.630 ,  Failed with error 0.6299605249474366\n",
      "For parameter noise = 0.707 ,  Accuracy=79.2% +/- 0.0%  in 10378.1 seconds\n",
      "scanning over contrast = [0.35355339 0.39685026 0.44544936 0.5        0.56123102 0.62996052\n",
      " 0.70710678]\n",
      "For parameter contrast = 0.354 ,  Failed with error 0.35355339059327373\n",
      "For parameter contrast = 0.397 ,  Failed with error 0.39685026299204984\n",
      "For parameter contrast = 0.445 ,  Failed with error 0.44544935907016964\n",
      "For parameter contrast = 0.500 ,  Failed with error 0.5\n",
      "For parameter contrast = 0.561 ,  Failed with error 0.5612310241546865\n",
      "For parameter contrast = 0.630 ,  Failed with error 0.6299605249474366\n",
      "For parameter contrast = 0.707 ,  Failed with error 0.7071067811865476\n",
      "--------------------------------------------------\n",
      " parameter scan : network\n",
      "--------------------------------------------------\n",
      "scanning over dim1 = [191, 240, 303, 382, 481, 606, 764]\n",
      "For parameter dim1 = 191 ,  Failed with error 191\n",
      "For parameter dim1 = 240 ,  Failed with error 240\n",
      "For parameter dim1 = 303 ,  Failed with error 303\n",
      "For parameter dim1 = 382 ,  Failed with error 382\n",
      "For parameter dim1 = 481 ,  Failed with error 481\n",
      "For parameter dim1 = 606 ,  Failed with error 606\n",
      "For parameter dim1 = 764 ,  Failed with error 764\n",
      "scanning over bn1_bn_momentum = [0.         0.16666667 0.33333333 0.5        0.66666667 0.83333333\n",
      " 1.        ]\n",
      "For parameter bn1_bn_momentum = 0.000 ,  Accuracy=72.7% +/- 0.0%  in 13167.8 seconds\n",
      "For parameter bn1_bn_momentum = 0.167 ,  Failed with error 0.16666666666666666\n",
      "For parameter bn1_bn_momentum = 0.333 ,  Failed with error 0.3333333333333333\n",
      "For parameter bn1_bn_momentum = 0.500 ,  Accuracy=72.6% +/- 0.0%  in 11097.9 seconds\n",
      "For parameter bn1_bn_momentum = 0.667 ,  Failed with error 0.6666666666666666\n",
      "For parameter bn1_bn_momentum = 0.833 ,  Failed with error 0.8333333333333333\n",
      "For parameter bn1_bn_momentum = 1.000 ,  Accuracy=16.8% +/- 0.0%  in 11133.5 seconds\n",
      "scanning over dim2 = [1309, 1649, 2077, 2618, 3298, 4155, 5236]\n",
      "For parameter dim2 = 1309 ,  Failed with error 1309\n",
      "For parameter dim2 = 1649 ,  Failed with error 1649\n",
      "For parameter dim2 = 2077 ,  Failed with error 2077\n",
      "For parameter dim2 = 2618 ,  Failed with error 2618\n",
      "For parameter dim2 = 3298 ,  Failed with error 3298\n",
      "For parameter dim2 = 4155 ,  Failed with error 4155\n",
      "For parameter dim2 = 5236 ,  Failed with error 5236\n",
      "scanning over bn2_bn_momentum = [0.         0.16666667 0.33333333 0.5        0.66666667 0.83333333\n",
      " 1.        ]\n",
      "For parameter bn2_bn_momentum = 0.000 ,  Accuracy=74.2% +/- 0.0%  in 9234.6 seconds\n",
      "For parameter bn2_bn_momentum = 0.167 ,  Failed with error 0.16666666666666666\n",
      "For parameter bn2_bn_momentum = 0.333 ,  Failed with error 0.3333333333333333\n",
      "For parameter bn2_bn_momentum = 0.500 ,  Accuracy=72.6% +/- 0.0%  in 11245.7 seconds\n",
      "For parameter bn2_bn_momentum = 0.667 ,  Failed with error 0.6666666666666666\n",
      "For parameter bn2_bn_momentum = 0.833 ,  Failed with error 0.8333333333333333\n",
      "For parameter bn2_bn_momentum = 1.000 ,  Accuracy=69.2% +/- 0.0%  in 11154.1 seconds\n",
      "scanning over p_dropout = [0.         0.16666667 0.33333333 0.5        0.66666667 0.83333333\n",
      " 1.        ]\n",
      "For parameter p_dropout = 0.000 ,  Accuracy=72.6% +/- 0.0%  in 11174.1 seconds\n",
      "For parameter p_dropout = 0.167 ,  Failed with error 0.16666666666666666\n",
      "For parameter p_dropout = 0.333 ,  Failed with error 0.3333333333333333\n",
      "For parameter p_dropout = 0.500 ,  Accuracy=68.4% +/- 0.4%  in 12335.7 seconds\n",
      "For parameter p_dropout = 0.667 ,  Failed with error 0.6666666666666666\n",
      "For parameter p_dropout = 0.833 ,  Failed with error 0.8333333333333333\n",
      "For parameter p_dropout = 1.000 ,  Accuracy=20.5% +/- 0.0%  in 10079.1 seconds\n",
      " parameter scan : learning \n",
      "--------------------------------------------------\n",
      "Using SGD\n",
      "--------------------------------------------------\n",
      "scanning over lr = [0.00353553 0.0039685  0.00445449 0.005      0.00561231 0.00629961\n",
      " 0.00707107]\n",
      "For parameter lr = 0.004 ,  Failed with error 0.0035355339059327372\n",
      "For parameter lr = 0.004 ,  Failed with error 0.003968502629920498\n",
      "For parameter lr = 0.004 ,  Failed with error 0.004454493590701696\n",
      "For parameter lr = 0.005 ,  Failed with error 0.005\n",
      "For parameter lr = 0.006 ,  Failed with error 0.0056123102415468655\n",
      "For parameter lr = 0.006 ,  Failed with error 0.006299605249474366\n",
      "For parameter lr = 0.007 ,  Failed with error 0.007071067811865476\n",
      "scanning over momentum = [0.07071068 0.07937005 0.08908987 0.1        0.1122462  0.1259921\n",
      " 0.14142136]\n",
      "For parameter momentum = 0.071 ,  Accuracy=73.5% +/- 0.1%  in 16910.5 seconds\n",
      "For parameter momentum = 0.079 ,  Failed with error 0.07937005259840997\n",
      "For parameter momentum = 0.089 ,  Failed with error 0.08908987181403394\n",
      "For parameter momentum = 0.100 ,  Accuracy=72.6% +/- 0.1%  in 16862.1 seconds\n",
      "For parameter momentum = 0.112 ,  Failed with error 0.11224620483093731\n",
      "For parameter momentum = 0.126 ,  Failed with error 0.12599210498948732\n",
      "For parameter momentum = 0.141 ,  Accuracy=74.2% +/- 0.2%  in 17199.0 seconds\n",
      "scanning over minibatch_size = [70, 79, 89, 100, 112, 125, 141]\n",
      "For parameter minibatch_size = 70 ,   currently locked with  ../data/_tmp_scanning/minibatch_size_SGD_70.npy_lock\n",
      "For parameter minibatch_size = 79 ,  Failed with error 79\n",
      "For parameter minibatch_size = 89 ,  Failed with error 89\n",
      "For parameter minibatch_size = 100 ,   currently locked with  ../data/_tmp_scanning/minibatch_size_SGD_100.npy_lock\n",
      "For parameter minibatch_size = 112 ,  Failed with error 112\n",
      "For parameter minibatch_size = 125 ,  Failed with error 125\n",
      "For parameter minibatch_size = 141 ,   currently locked with  ../data/_tmp_scanning/minibatch_size_SGD_141.npy_lock\n",
      "scanning over epochs = [17, 19, 22, 25, 28, 31, 35]\n",
      "For parameter epochs = 17 ,   currently locked with  ../data/_tmp_scanning/epochs_SGD_17.npy_lock\n",
      "For parameter epochs = 19 ,  Failed with error 19\n",
      "For parameter epochs = 22 ,  Failed with error 22\n",
      "For parameter epochs = 25 ,  Failed with error 25\n",
      "For parameter epochs = 28 ,  Failed with error 28\n",
      "For parameter epochs = 31 ,  Failed with error 31\n",
      "For parameter epochs = 35 ,  Failed with error 35\n",
      "--------------------------------------------------\n",
      "Using ADAM\n",
      "--------------------------------------------------\n",
      "scanning over lr = [0.00353553 0.0039685  0.00445449 0.005      0.00561231 0.00629961\n",
      " 0.00707107]\n",
      "For parameter lr = 0.004 ,  Failed with error 0.0035355339059327372\n",
      "For parameter lr = 0.004 ,  Failed with error 0.003968502629920498\n",
      "For parameter lr = 0.004 ,  Failed with error 0.004454493590701696\n",
      "For parameter lr = 0.005 ,  Failed with error 0.005\n",
      "For parameter lr = 0.006 ,  Failed with error 0.0056123102415468655\n",
      "For parameter lr = 0.006 ,  Failed with error 0.006299605249474366\n",
      "For parameter lr = 0.007 ,  Failed with error 0.007071067811865476\n",
      "scanning over momentum = [0.07071068 0.07937005 0.08908987 0.1        0.1122462  0.1259921\n",
      " 0.14142136]\n",
      "For parameter momentum = 0.071 ,  Failed with error 0.07071067811865475\n",
      "For parameter momentum = 0.079 ,  Failed with error 0.07937005259840997\n",
      "For parameter momentum = 0.089 ,  Failed with error 0.08908987181403394\n",
      "For parameter momentum = 0.100 ,  Failed with error 0.1\n",
      "For parameter momentum = 0.112 ,  Failed with error 0.11224620483093731\n",
      "For parameter momentum = 0.126 ,  Failed with error 0.12599210498948732\n",
      "For parameter momentum = 0.141 ,  Failed with error 0.14142135623730953\n",
      "scanning over minibatch_size = [70, 79, 89, 100, 112, 125, 141]\n",
      "For parameter minibatch_size = 70 ,  Failed with error 70\n",
      "For parameter minibatch_size = 79 ,  Failed with error 79\n",
      "For parameter minibatch_size = 89 ,  Failed with error 89\n",
      "For parameter minibatch_size = 100 ,  Failed with error 100\n",
      "For parameter minibatch_size = 112 ,  Failed with error 112\n",
      "For parameter minibatch_size = 125 ,  Failed with error 125\n",
      "For parameter minibatch_size = 141 ,  Failed with error 141\n",
      "scanning over epochs = [17, 19, 22, 25, 28, 31, 35]\n",
      "For parameter epochs = 17 ,  Failed with error 17\n",
      "For parameter epochs = 19 ,  Failed with error 19\n",
      "For parameter epochs = 22 ,  Failed with error 22\n",
      "For parameter epochs = 25 ,  Failed with error 25\n",
      "For parameter epochs = 28 ,  Failed with error 28\n",
      "For parameter epochs = 31 ,  Failed with error 31\n",
      "For parameter epochs = 35 ,  Failed with error 35\n",
      "--------------------------------------------------\n",
      " parameter scan : retina\n",
      "--------------------------------------------------\n",
      "scanning over N_theta = [3, 3, 4, 6, 7, 9, 12]\n",
      "For parameter N_theta = 3 ,  Failed with error 3\n",
      "For parameter N_theta = 3 ,  Failed with error 3\n",
      "For parameter N_theta = 4 ,  Failed with error 4\n",
      "For parameter N_theta = 6 ,  Failed with error 6\n",
      "For parameter N_theta = 7 ,  Failed with error 7\n",
      "For parameter N_theta = 9 ,  Failed with error 9\n",
      "For parameter N_theta = 12 ,  Failed with error 12\n",
      "scanning over N_azimuth = [13, 16, 20, 26, 32, 41, 52]\n",
      "For parameter N_azimuth = 13 ,  Failed with error 13\n",
      "For parameter N_azimuth = 16 ,  Failed with error 16\n",
      "For parameter N_azimuth = 20 ,  Failed with error 20\n",
      "For parameter N_azimuth = 26 ,  Failed with error 26\n",
      "For parameter N_azimuth = 32 ,  Failed with error 32\n",
      "For parameter N_azimuth = 41 ,  Failed with error 41\n",
      "For parameter N_azimuth = 52 ,  Failed with error 52\n",
      "scanning over N_eccentricity = [5, 6, 7, 10, 12, 15, 20]\n",
      "For parameter N_eccentricity = 5 ,  Failed with error 5\n",
      "For parameter N_eccentricity = 6 ,  Failed with error 6\n",
      "For parameter N_eccentricity = 7 ,  Failed with error 7\n",
      "For parameter N_eccentricity = 10 ,  Failed with error 10\n",
      "For parameter N_eccentricity = 12 ,  Failed with error 12\n",
      "For parameter N_eccentricity = 15 ,  Failed with error 15\n",
      "For parameter N_eccentricity = 20 ,  Failed with error 20\n",
      "scanning over rho = [0.705      0.88824434 1.11911774 1.41       1.77648868 2.23823548\n",
      " 2.82      ]\n",
      "For parameter rho = 0.705 ,  Failed with error 0.705\n",
      "For parameter rho = 0.888 ,  Failed with error 0.8882443401758855\n",
      "For parameter rho = 1.119 ,  Failed with error 1.1191177416375804\n",
      "For parameter rho = 1.410 ,  Failed with error 1.41\n",
      "For parameter rho = 1.776 ,  Failed with error 1.776488680351771\n",
      "For parameter rho = 2.238 ,  Failed with error 2.2382354832751608\n",
      "For parameter rho = 2.820 ,  Failed with error 2.82\n",
      "--------------------------------------------------\n",
      " base= 2\n",
      "--------------------------------------------------\n",
      "--------------------------------------------------\n",
      " parameter scan : data\n",
      "--------------------------------------------------\n",
      "scanning over sf_0 = [0.1        0.1259921  0.15874011 0.2        0.25198421 0.31748021\n",
      " 0.4       ]\n",
      "For parameter sf_0 = 0.100 ,  Accuracy=66.7% +/- 0.0%  in 10215.2 seconds\n",
      "For parameter sf_0 = 0.126 ,  Failed with error 0.12599210498948732\n",
      "For parameter sf_0 = 0.159 ,  Failed with error 0.15874010519681994\n",
      "For parameter sf_0 = 0.200 ,  Accuracy=72.6% +/- 0.0%  in 11302.7 seconds\n",
      "For parameter sf_0 = 0.252 ,  Failed with error 0.25198420997897464\n",
      "For parameter sf_0 = 0.317 ,  Failed with error 0.3174802103936399\n",
      "For parameter sf_0 = 0.400 ,  Accuracy=76.7% +/- 0.0%  in 11801.8 seconds\n",
      "scanning over B_sf = [0.04       0.05039684 0.06349604 0.08       0.10079368 0.12699208\n",
      " 0.16      ]\n",
      "For parameter B_sf = 0.040 ,  Failed with error 0.04\n",
      "For parameter B_sf = 0.050 ,  Failed with error 0.05039684199579493\n",
      "For parameter B_sf = 0.063 ,  Failed with error 0.06349604207872797\n",
      "For parameter B_sf = 0.080 ,  Failed with error 0.08\n",
      "For parameter B_sf = 0.101 ,  Failed with error 0.10079368399158986\n",
      "For parameter B_sf = 0.127 ,  Failed with error 0.12699208415745594\n",
      "For parameter B_sf = 0.160 ,  Failed with error 0.16\n",
      "scanning over offset_std = [15, 18, 23, 30, 37, 47, 60]\n",
      "For parameter offset_std = 15 ,  Accuracy=79.8% +/- 0.0%  in 10875.8 seconds\n",
      "For parameter offset_std = 18 ,  Failed with error 18\n",
      "For parameter offset_std = 23 ,  Failed with error 23\n",
      "For parameter offset_std = 30 ,  Accuracy=72.6% +/- 0.0%  in 11332.3 seconds\n",
      "For parameter offset_std = 37 ,  Failed with error 37\n",
      "For parameter offset_std = 47 ,  Failed with error 47\n",
      "For parameter offset_std = 60 ,  Accuracy=63.2% +/- 0.0%  in 11396.5 seconds\n",
      "scanning over noise = [0.25       0.31498026 0.39685026 0.5        0.62996052 0.79370053\n",
      " 1.        ]\n",
      "For parameter noise = 0.250 ,  Failed with error 0.25\n",
      "For parameter noise = 0.315 ,  Failed with error 0.3149802624737183\n",
      "For parameter noise = 0.397 ,  Failed with error 0.39685026299204984\n",
      "For parameter noise = 0.500 ,  Accuracy=81.8% +/- 0.0%  in 9939.2 seconds\n",
      "For parameter noise = 0.630 ,  Failed with error 0.6299605249474366\n",
      "For parameter noise = 0.794 ,  Failed with error 0.7937005259840997\n",
      "For parameter noise = 1.000 ,  Accuracy=72.6% +/- 0.0%  in 11300.3 seconds\n",
      "scanning over contrast = [0.25       0.31498026 0.39685026 0.5        0.62996052 0.79370053\n",
      " 1.        ]\n",
      "For parameter contrast = 0.250 ,  Failed with error 0.25\n",
      "For parameter contrast = 0.315 ,  Failed with error 0.3149802624737183\n",
      "For parameter contrast = 0.397 ,  Failed with error 0.39685026299204984\n",
      "For parameter contrast = 0.500 ,  Failed with error 0.5\n",
      "For parameter contrast = 0.630 ,  Failed with error 0.6299605249474366\n",
      "For parameter contrast = 0.794 ,  Failed with error 0.7937005259840997\n",
      "For parameter contrast = 1.000 ,  Failed with error 1.0\n",
      "--------------------------------------------------\n",
      " parameter scan : network\n",
      "--------------------------------------------------\n",
      "scanning over dim1 = [191, 240, 303, 382, 481, 606, 764]\n",
      "For parameter dim1 = 191 ,  Failed with error 191\n",
      "For parameter dim1 = 240 ,  Failed with error 240\n",
      "For parameter dim1 = 303 ,  Failed with error 303\n",
      "For parameter dim1 = 382 ,  Failed with error 382\n",
      "For parameter dim1 = 481 ,  Failed with error 481\n",
      "For parameter dim1 = 606 ,  Failed with error 606\n",
      "For parameter dim1 = 764 ,  Failed with error 764\n",
      "scanning over bn1_bn_momentum = [0.         0.16666667 0.33333333 0.5        0.66666667 0.83333333\n",
      " 1.        ]\n",
      "For parameter bn1_bn_momentum = 0.000 ,  Accuracy=72.7% +/- 0.0%  in 13167.8 seconds\n",
      "For parameter bn1_bn_momentum = 0.167 ,  Failed with error 0.16666666666666666\n",
      "For parameter bn1_bn_momentum = 0.333 ,  Failed with error 0.3333333333333333\n",
      "For parameter bn1_bn_momentum = 0.500 ,  Accuracy=72.6% +/- 0.0%  in 11097.9 seconds\n",
      "For parameter bn1_bn_momentum = 0.667 ,  Failed with error 0.6666666666666666\n",
      "For parameter bn1_bn_momentum = 0.833 ,  Failed with error 0.8333333333333333\n",
      "For parameter bn1_bn_momentum = 1.000 ,  Accuracy=16.8% +/- 0.0%  in 11133.5 seconds\n",
      "scanning over dim2 = [1309, 1649, 2077, 2618, 3298, 4155, 5236]\n",
      "For parameter dim2 = 1309 ,  Failed with error 1309\n",
      "For parameter dim2 = 1649 ,  Failed with error 1649\n",
      "For parameter dim2 = 2077 ,  Failed with error 2077\n",
      "For parameter dim2 = 2618 ,  Failed with error 2618\n",
      "For parameter dim2 = 3298 ,  Failed with error 3298\n",
      "For parameter dim2 = 4155 ,  Failed with error 4155\n",
      "For parameter dim2 = 5236 ,  Failed with error 5236\n",
      "scanning over bn2_bn_momentum = [0.         0.16666667 0.33333333 0.5        0.66666667 0.83333333\n",
      " 1.        ]\n",
      "For parameter bn2_bn_momentum = 0.000 ,  Accuracy=74.2% +/- 0.0%  in 9234.6 seconds\n",
      "For parameter bn2_bn_momentum = 0.167 ,  Failed with error 0.16666666666666666\n",
      "For parameter bn2_bn_momentum = 0.333 ,  Failed with error 0.3333333333333333\n",
      "For parameter bn2_bn_momentum = 0.500 ,  Accuracy=72.6% +/- 0.0%  in 11245.7 seconds\n",
      "For parameter bn2_bn_momentum = 0.667 ,  Failed with error 0.6666666666666666\n",
      "For parameter bn2_bn_momentum = 0.833 ,  Failed with error 0.8333333333333333\n",
      "For parameter bn2_bn_momentum = 1.000 ,  Accuracy=69.2% +/- 0.0%  in 11154.1 seconds\n",
      "scanning over p_dropout = [0.         0.16666667 0.33333333 0.5        0.66666667 0.83333333\n",
      " 1.        ]\n",
      "For parameter p_dropout = 0.000 ,  Accuracy=72.6% +/- 0.0%  in 11174.1 seconds\n",
      "For parameter p_dropout = 0.167 ,  Failed with error 0.16666666666666666\n",
      "For parameter p_dropout = 0.333 ,  Failed with error 0.3333333333333333\n",
      "For parameter p_dropout = 0.500 ,  Accuracy=68.4% +/- 0.4%  in 12335.7 seconds\n",
      "For parameter p_dropout = 0.667 ,  Failed with error 0.6666666666666666\n",
      "For parameter p_dropout = 0.833 ,  Failed with error 0.8333333333333333\n",
      "For parameter p_dropout = 1.000 ,  Accuracy=20.5% +/- 0.0%  in 10079.1 seconds\n",
      " parameter scan : learning \n",
      "--------------------------------------------------\n",
      "Using SGD\n",
      "--------------------------------------------------\n",
      "scanning over lr = [0.0025     0.0031498  0.0039685  0.005      0.00629961 0.00793701\n",
      " 0.01      ]\n",
      "For parameter lr = 0.003 ,  Failed with error 0.0025\n",
      "For parameter lr = 0.003 ,  Failed with error 0.003149802624737183\n",
      "For parameter lr = 0.004 ,  Failed with error 0.003968502629920498\n",
      "For parameter lr = 0.005 ,  Failed with error 0.005\n",
      "For parameter lr = 0.006 ,  Failed with error 0.006299605249474366\n",
      "For parameter lr = 0.008 ,  Failed with error 0.007937005259840996\n",
      "For parameter lr = 0.010 ,  Failed with error 0.01\n",
      "scanning over momentum = [0.05       0.06299605 0.07937005 0.1        0.1259921  0.15874011\n",
      " 0.2       ]\n",
      "For parameter momentum = 0.050 ,  Accuracy=72.9% +/- 0.0%  in 12179.2 seconds\n",
      "For parameter momentum = 0.063 ,  Failed with error 0.06299605249474366\n",
      "For parameter momentum = 0.079 ,  Failed with error 0.07937005259840997\n",
      "For parameter momentum = 0.100 ,  Accuracy=72.6% +/- 0.1%  in 16862.1 seconds\n",
      "For parameter momentum = 0.126 ,  Failed with error 0.12599210498948732\n",
      "For parameter momentum = 0.159 ,  Failed with error 0.15874010519681994\n",
      "For parameter momentum = 0.200 ,  Accuracy=73.1% +/- 0.2%  in 17883.1 seconds\n",
      "scanning over minibatch_size = [50, 62, 79, 100, 125, 158, 200]\n",
      "For parameter minibatch_size = 50 ,   currently locked with  ../data/_tmp_scanning/minibatch_size_SGD_50.npy_lock\n",
      "For parameter minibatch_size = 62 ,  Failed with error 62\n",
      "For parameter minibatch_size = 79 ,  Failed with error 79\n",
      "For parameter minibatch_size = 100 ,   currently locked with  ../data/_tmp_scanning/minibatch_size_SGD_100.npy_lock\n",
      "For parameter minibatch_size = 125 ,  Failed with error 125\n",
      "For parameter minibatch_size = 158 ,  Failed with error 158\n",
      "For parameter minibatch_size = 200 ,   currently locked with  ../data/_tmp_scanning/minibatch_size_SGD_200.npy_lock\n",
      "scanning over epochs = [12, 15, 19, 25, 31, 39, 50]\n",
      "For parameter epochs = 12 ,   currently locked with  ../data/_tmp_scanning/epochs_SGD_12.npy_lock\n",
      "For parameter epochs = 15 ,  Failed with error 15\n",
      "For parameter epochs = 19 ,  Failed with error 19\n",
      "For parameter epochs = 25 ,  Failed with error 25\n",
      "For parameter epochs = 31 ,  Failed with error 31\n",
      "For parameter epochs = 39 ,  Failed with error 39\n",
      "For parameter epochs = 50 ,  Failed with error 50\n",
      "--------------------------------------------------\n",
      "Using ADAM\n",
      "--------------------------------------------------\n",
      "scanning over lr = [0.0025     0.0031498  0.0039685  0.005      0.00629961 0.00793701\n",
      " 0.01      ]\n",
      "For parameter lr = 0.003 ,  Failed with error 0.0025\n",
      "For parameter lr = 0.003 ,  Failed with error 0.003149802624737183\n",
      "For parameter lr = 0.004 ,  Failed with error 0.003968502629920498\n",
      "For parameter lr = 0.005 ,  Failed with error 0.005\n",
      "For parameter lr = 0.006 ,  Failed with error 0.006299605249474366\n",
      "For parameter lr = 0.008 ,  Failed with error 0.007937005259840996\n",
      "For parameter lr = 0.010 ,  Failed with error 0.01\n",
      "scanning over momentum = [0.05       0.06299605 0.07937005 0.1        0.1259921  0.15874011\n",
      " 0.2       ]\n",
      "For parameter momentum = 0.050 ,  Failed with error 0.05\n",
      "For parameter momentum = 0.063 ,  Failed with error 0.06299605249474366\n",
      "For parameter momentum = 0.079 ,  Failed with error 0.07937005259840997\n",
      "For parameter momentum = 0.100 ,  Failed with error 0.1\n",
      "For parameter momentum = 0.126 ,  Failed with error 0.12599210498948732\n",
      "For parameter momentum = 0.159 ,  Failed with error 0.15874010519681994\n",
      "For parameter momentum = 0.200 ,  Failed with error 0.2\n",
      "scanning over minibatch_size = [50, 62, 79, 100, 125, 158, 200]\n",
      "For parameter minibatch_size = 50 ,  Failed with error 50\n",
      "For parameter minibatch_size = 62 ,  Failed with error 62\n",
      "For parameter minibatch_size = 79 ,  Failed with error 79\n",
      "For parameter minibatch_size = 100 ,  Failed with error 100\n",
      "For parameter minibatch_size = 125 ,  Failed with error 125\n",
      "For parameter minibatch_size = 158 ,  Failed with error 158\n",
      "For parameter minibatch_size = 200 ,  Failed with error 200\n",
      "scanning over epochs = [12, 15, 19, 25, 31, 39, 50]\n",
      "For parameter epochs = 12 ,  Failed with error 12\n",
      "For parameter epochs = 15 ,  Failed with error 15\n",
      "For parameter epochs = 19 ,  Failed with error 19\n",
      "For parameter epochs = 25 ,  Failed with error 25\n",
      "For parameter epochs = 31 ,  Failed with error 31\n",
      "For parameter epochs = 39 ,  Failed with error 39\n",
      "For parameter epochs = 50 ,  Failed with error 50\n",
      "--------------------------------------------------\n",
      " parameter scan : retina\n",
      "--------------------------------------------------\n",
      "scanning over N_theta = [3, 3, 4, 6, 7, 9, 12]\n",
      "For parameter N_theta = 3 ,  Failed with error 3\n",
      "For parameter N_theta = 3 ,  Failed with error 3\n",
      "For parameter N_theta = 4 ,  Failed with error 4\n",
      "For parameter N_theta = 6 ,  Failed with error 6\n",
      "For parameter N_theta = 7 ,  Failed with error 7\n",
      "For parameter N_theta = 9 ,  Failed with error 9\n",
      "For parameter N_theta = 12 ,  Failed with error 12\n",
      "scanning over N_azimuth = [13, 16, 20, 26, 32, 41, 52]\n",
      "For parameter N_azimuth = 13 ,  Failed with error 13\n",
      "For parameter N_azimuth = 16 ,  Failed with error 16\n",
      "For parameter N_azimuth = 20 ,  Failed with error 20\n",
      "For parameter N_azimuth = 26 ,  Failed with error 26\n",
      "For parameter N_azimuth = 32 ,  Failed with error 32\n",
      "For parameter N_azimuth = 41 ,  Failed with error 41\n",
      "For parameter N_azimuth = 52 ,  Failed with error 52\n",
      "scanning over N_eccentricity = [5, 6, 7, 10, 12, 15, 20]\n",
      "For parameter N_eccentricity = 5 ,  Failed with error 5\n",
      "For parameter N_eccentricity = 6 ,  Failed with error 6\n",
      "For parameter N_eccentricity = 7 ,  Failed with error 7\n",
      "For parameter N_eccentricity = 10 ,  Failed with error 10\n",
      "For parameter N_eccentricity = 12 ,  Failed with error 12\n",
      "For parameter N_eccentricity = 15 ,  Failed with error 15\n",
      "For parameter N_eccentricity = 20 ,  Failed with error 20\n",
      "scanning over rho = [0.705      0.88824434 1.11911774 1.41       1.77648868 2.23823548\n",
      " 2.82      ]\n",
      "For parameter rho = 0.705 ,  Failed with error 0.705\n",
      "For parameter rho = 0.888 ,  Failed with error 0.8882443401758855\n",
      "For parameter rho = 1.119 ,  Failed with error 1.1191177416375804\n",
      "For parameter rho = 1.410 ,  Failed with error 1.41\n",
      "For parameter rho = 1.776 ,  Failed with error 1.776488680351771\n",
      "For parameter rho = 2.238 ,  Failed with error 2.2382354832751608\n",
      "For parameter rho = 2.820 ,  Failed with error 2.82\n",
      "--------------------------------------------------\n",
      " base= 2.8284271247461903\n",
      "--------------------------------------------------\n",
      "--------------------------------------------------\n",
      " parameter scan : data\n",
      "--------------------------------------------------\n",
      "scanning over sf_0 = [0.07071068 0.1        0.14142136 0.2        0.28284271 0.4\n",
      " 0.56568542]\n",
      "For parameter sf_0 = 0.071 ,  Failed with error 0.07071067811865475\n",
      "For parameter sf_0 = 0.100 ,  Accuracy=66.7% +/- 0.0%  in 10215.2 seconds\n",
      "For parameter sf_0 = 0.141 ,  Accuracy=68.7% +/- 0.0%  in 10952.7 seconds\n",
      "For parameter sf_0 = 0.200 ,  Accuracy=72.6% +/- 0.0%  in 11302.7 seconds\n",
      "For parameter sf_0 = 0.283 ,  Accuracy=75.2% +/- 0.0%  in 11285.1 seconds\n",
      "For parameter sf_0 = 0.400 ,  Accuracy=76.7% +/- 0.0%  in 11801.8 seconds\n",
      "For parameter sf_0 = 0.566 ,  Failed with error 0.5656854249492381\n",
      "scanning over B_sf = [0.02828427 0.04       0.05656854 0.08       0.11313708 0.16\n",
      " 0.22627417]\n",
      "For parameter B_sf = 0.028 ,  Failed with error 0.028284271247461898\n",
      "For parameter B_sf = 0.040 ,  Failed with error 0.039999999999999994\n",
      "For parameter B_sf = 0.057 ,  Failed with error 0.056568542494923796\n",
      "For parameter B_sf = 0.080 ,  Failed with error 0.08\n",
      "For parameter B_sf = 0.113 ,  Failed with error 0.11313708498984759\n",
      "For parameter B_sf = 0.160 ,  Failed with error 0.15999999999999998\n",
      "For parameter B_sf = 0.226 ,  Failed with error 0.22627416997969524\n",
      "scanning over offset_std = [10, 14, 21, 30, 42, 59, 84]\n",
      "For parameter offset_std = 10 ,  Failed with error 10\n",
      "For parameter offset_std = 14 ,  Failed with error 14\n",
      "For parameter offset_std = 21 ,  Accuracy=77.3% +/- 0.0%  in 11310.6 seconds\n",
      "For parameter offset_std = 30 ,  Accuracy=72.6% +/- 0.0%  in 11332.3 seconds\n",
      "For parameter offset_std = 42 ,  Accuracy=67.9% +/- 0.0%  in 11297.9 seconds\n",
      "For parameter offset_std = 59 ,  Failed with error 59\n",
      "For parameter offset_std = 84 ,  Failed with error 84\n",
      "scanning over noise = [0.1767767  0.25       0.35355339 0.5        0.70710678 1.\n",
      " 1.41421356]\n",
      "For parameter noise = 0.177 ,  Failed with error 0.17677669529663687\n",
      "For parameter noise = 0.250 ,  Failed with error 0.24999999999999997\n",
      "For parameter noise = 0.354 ,  Failed with error 0.35355339059327373\n",
      "For parameter noise = 0.500 ,  Accuracy=81.8% +/- 0.0%  in 9939.2 seconds\n",
      "For parameter noise = 0.707 ,  Accuracy=79.2% +/- 0.0%  in 10378.1 seconds\n",
      "For parameter noise = 1.000 ,  Accuracy=72.6% +/- 0.0%  in 11300.3 seconds\n",
      "For parameter noise = 1.414 ,  Accuracy=59.2% +/- 0.0%  in 12208.8 seconds\n",
      "scanning over contrast = [0.1767767  0.25       0.35355339 0.5        0.70710678 1.\n",
      " 1.41421356]\n",
      "For parameter contrast = 0.177 ,  Failed with error 0.17677669529663687\n",
      "For parameter contrast = 0.250 ,  Failed with error 0.24999999999999997\n",
      "For parameter contrast = 0.354 ,  Failed with error 0.35355339059327373\n",
      "For parameter contrast = 0.500 ,  Failed with error 0.5\n",
      "For parameter contrast = 0.707 ,  Failed with error 0.7071067811865475\n",
      "For parameter contrast = 1.000 ,  Failed with error 0.9999999999999999\n",
      "For parameter contrast = 1.414 ,  Failed with error 1.4142135623730951\n",
      "--------------------------------------------------\n",
      " parameter scan : network\n",
      "--------------------------------------------------\n",
      "scanning over dim1 = [191, 240, 303, 382, 481, 606, 764]\n",
      "For parameter dim1 = 191 ,  Failed with error 191\n",
      "For parameter dim1 = 240 ,  Failed with error 240\n",
      "For parameter dim1 = 303 ,  Failed with error 303\n",
      "For parameter dim1 = 382 ,  Failed with error 382\n",
      "For parameter dim1 = 481 ,  Failed with error 481\n",
      "For parameter dim1 = 606 ,  Failed with error 606\n",
      "For parameter dim1 = 764 ,  Failed with error 764\n",
      "scanning over bn1_bn_momentum = [0.         0.16666667 0.33333333 0.5        0.66666667 0.83333333\n",
      " 1.        ]\n",
      "For parameter bn1_bn_momentum = 0.000 ,  Accuracy=72.7% +/- 0.0%  in 13167.8 seconds\n",
      "For parameter bn1_bn_momentum = 0.167 ,  Failed with error 0.16666666666666666\n",
      "For parameter bn1_bn_momentum = 0.333 ,  Failed with error 0.3333333333333333\n",
      "For parameter bn1_bn_momentum = 0.500 ,  Accuracy=72.6% +/- 0.0%  in 11097.9 seconds\n",
      "For parameter bn1_bn_momentum = 0.667 ,  Failed with error 0.6666666666666666\n",
      "For parameter bn1_bn_momentum = 0.833 ,  Failed with error 0.8333333333333333\n",
      "For parameter bn1_bn_momentum = 1.000 ,  Accuracy=16.8% +/- 0.0%  in 11133.5 seconds\n",
      "scanning over dim2 = [1309, 1649, 2077, 2618, 3298, 4155, 5236]\n",
      "For parameter dim2 = 1309 ,  Failed with error 1309\n",
      "For parameter dim2 = 1649 ,  Failed with error 1649\n",
      "For parameter dim2 = 2077 ,  Failed with error 2077\n",
      "For parameter dim2 = 2618 ,  Failed with error 2618\n",
      "For parameter dim2 = 3298 ,  Failed with error 3298\n",
      "For parameter dim2 = 4155 ,  Failed with error 4155\n",
      "For parameter dim2 = 5236 ,  Failed with error 5236\n",
      "scanning over bn2_bn_momentum = [0.         0.16666667 0.33333333 0.5        0.66666667 0.83333333\n",
      " 1.        ]\n",
      "For parameter bn2_bn_momentum = 0.000 ,  Accuracy=74.2% +/- 0.0%  in 9234.6 seconds\n",
      "For parameter bn2_bn_momentum = 0.167 ,  Failed with error 0.16666666666666666\n",
      "For parameter bn2_bn_momentum = 0.333 ,  Failed with error 0.3333333333333333\n",
      "For parameter bn2_bn_momentum = 0.500 ,  Accuracy=72.6% +/- 0.0%  in 11245.7 seconds\n",
      "For parameter bn2_bn_momentum = 0.667 ,  Failed with error 0.6666666666666666\n",
      "For parameter bn2_bn_momentum = 0.833 ,  Failed with error 0.8333333333333333\n",
      "For parameter bn2_bn_momentum = 1.000 ,  Accuracy=69.2% +/- 0.0%  in 11154.1 seconds\n",
      "scanning over p_dropout = [0.         0.16666667 0.33333333 0.5        0.66666667 0.83333333\n",
      " 1.        ]\n",
      "For parameter p_dropout = 0.000 ,  Accuracy=72.6% +/- 0.0%  in 11174.1 seconds\n",
      "For parameter p_dropout = 0.167 ,  Failed with error 0.16666666666666666\n",
      "For parameter p_dropout = 0.333 ,  Failed with error 0.3333333333333333\n",
      "For parameter p_dropout = 0.500 ,  Accuracy=68.4% +/- 0.4%  in 12335.7 seconds\n",
      "For parameter p_dropout = 0.667 ,  Failed with error 0.6666666666666666\n",
      "For parameter p_dropout = 0.833 ,  Failed with error 0.8333333333333333\n",
      "For parameter p_dropout = 1.000 ,  Accuracy=20.5% +/- 0.0%  in 10079.1 seconds\n",
      " parameter scan : learning \n",
      "--------------------------------------------------\n",
      "Using SGD\n",
      "--------------------------------------------------\n",
      "scanning over lr = [0.00176777 0.0025     0.00353553 0.005      0.00707107 0.01\n",
      " 0.01414214]\n",
      "For parameter lr = 0.002 ,  Accuracy=74.0% +/- 0.0%  in 12257.6 seconds\n",
      "For parameter lr = 0.002 ,  Accuracy=74.0% +/- 0.0%  in 12257.6 seconds\n",
      "For parameter lr = 0.004 ,  Failed with error 0.0035355339059327372\n",
      "For parameter lr = 0.005 ,  Failed with error 0.005\n",
      "For parameter lr = 0.007 ,  Failed with error 0.0070710678118654745\n",
      "For parameter lr = 0.010 ,  Failed with error 0.009999999999999998\n",
      "For parameter lr = 0.014 ,  Failed with error 0.014142135623730952\n",
      "scanning over momentum = [0.03535534 0.05       0.07071068 0.1        0.14142136 0.2\n",
      " 0.28284271]\n",
      "For parameter momentum = 0.035 ,  Failed with error 0.035355339059327376\n",
      "For parameter momentum = 0.050 ,  Accuracy=72.9% +/- 0.0%  in 12179.2 seconds\n",
      "For parameter momentum = 0.071 ,  Accuracy=73.5% +/- 0.1%  in 16910.5 seconds\n",
      "For parameter momentum = 0.100 ,  Accuracy=72.6% +/- 0.1%  in 16862.1 seconds\n",
      "For parameter momentum = 0.141 ,  Accuracy=74.2% +/- 0.2%  in 17199.0 seconds\n",
      "For parameter momentum = 0.200 ,  Accuracy=73.1% +/- 0.2%  in 17883.1 seconds\n",
      "For parameter momentum = 0.283 ,  Failed with error 0.28284271247461906\n",
      "scanning over minibatch_size = [35, 49, 70, 100, 141, 199, 282]\n",
      "For parameter minibatch_size = 35 ,  Failed with error 35\n",
      "For parameter minibatch_size = 49 ,  Failed with error 49\n",
      "For parameter minibatch_size = 70 ,   currently locked with  ../data/_tmp_scanning/minibatch_size_SGD_70.npy_lock\n",
      "For parameter minibatch_size = 100 ,   currently locked with  ../data/_tmp_scanning/minibatch_size_SGD_100.npy_lock\n",
      "For parameter minibatch_size = 141 ,   currently locked with  ../data/_tmp_scanning/minibatch_size_SGD_141.npy_lock\n",
      "For parameter minibatch_size = 199 ,  Failed with error 199\n",
      "For parameter minibatch_size = 282 ,  Failed with error 282\n",
      "scanning over epochs = [8, 12, 17, 25, 35, 49, 70]\n",
      "For parameter epochs = 8 ,  Failed with error 8\n",
      "For parameter epochs = 12 ,   currently locked with  ../data/_tmp_scanning/epochs_SGD_12.npy_lock\n",
      "For parameter epochs = 17 ,   currently locked with  ../data/_tmp_scanning/epochs_SGD_17.npy_lock\n",
      "For parameter epochs = 25 ,  Failed with error 25\n",
      "For parameter epochs = 35 ,  Failed with error 35\n",
      "For parameter epochs = 49 ,  Failed with error 49\n",
      "For parameter epochs = 70 ,  Failed with error 70\n",
      "--------------------------------------------------\n",
      "Using ADAM\n",
      "--------------------------------------------------\n",
      "scanning over lr = [0.00176777 0.0025     0.00353553 0.005      0.00707107 0.01\n",
      " 0.01414214]\n",
      "For parameter lr = 0.002 ,  Failed with error 0.0017677669529663686\n",
      "For parameter lr = 0.002 ,  Failed with error 0.0024999999999999996\n",
      "For parameter lr = 0.004 ,  Failed with error 0.0035355339059327372\n",
      "For parameter lr = 0.005 ,  Failed with error 0.005\n",
      "For parameter lr = 0.007 ,  Failed with error 0.0070710678118654745\n",
      "For parameter lr = 0.010 ,  Failed with error 0.009999999999999998\n",
      "For parameter lr = 0.014 ,  Failed with error 0.014142135623730952\n",
      "scanning over momentum = [0.03535534 0.05       0.07071068 0.1        0.14142136 0.2\n",
      " 0.28284271]\n",
      "For parameter momentum = 0.035 ,  Failed with error 0.035355339059327376\n",
      "For parameter momentum = 0.050 ,  Failed with error 0.049999999999999996\n",
      "For parameter momentum = 0.071 ,  Failed with error 0.07071067811865475\n",
      "For parameter momentum = 0.100 ,  Failed with error 0.1\n",
      "For parameter momentum = 0.141 ,  Failed with error 0.1414213562373095\n",
      "For parameter momentum = 0.200 ,  Failed with error 0.19999999999999998\n",
      "For parameter momentum = 0.283 ,  Failed with error 0.28284271247461906\n",
      "scanning over minibatch_size = [35, 49, 70, 100, 141, 199, 282]\n",
      "For parameter minibatch_size = 35 ,  Failed with error 35\n",
      "For parameter minibatch_size = 49 ,  Failed with error 49\n",
      "For parameter minibatch_size = 70 ,  Failed with error 70\n",
      "For parameter minibatch_size = 100 ,  Failed with error 100\n",
      "For parameter minibatch_size = 141 ,  Failed with error 141\n",
      "For parameter minibatch_size = 199 ,  Failed with error 199\n",
      "For parameter minibatch_size = 282 ,  Failed with error 282\n",
      "scanning over epochs = [8, 12, 17, 25, 35, 49, 70]\n",
      "For parameter epochs = 8 ,  Failed with error 8\n",
      "For parameter epochs = 12 ,  Failed with error 12\n",
      "For parameter epochs = 17 ,  Failed with error 17\n",
      "For parameter epochs = 25 ,  Failed with error 25\n",
      "For parameter epochs = 35 ,  Failed with error 35\n",
      "For parameter epochs = 49 ,  Failed with error 49\n",
      "For parameter epochs = 70 ,  Failed with error 70\n",
      "--------------------------------------------------\n",
      " parameter scan : retina\n",
      "--------------------------------------------------\n",
      "scanning over N_theta = [3, 3, 4, 6, 7, 9, 12]\n",
      "For parameter N_theta = 3 ,  Failed with error 3\n",
      "For parameter N_theta = 3 ,  Failed with error 3\n",
      "For parameter N_theta = 4 ,  Failed with error 4\n",
      "For parameter N_theta = 6 ,  Failed with error 6\n",
      "For parameter N_theta = 7 ,  Failed with error 7\n",
      "For parameter N_theta = 9 ,  Failed with error 9\n",
      "For parameter N_theta = 12 ,  Failed with error 12\n",
      "scanning over N_azimuth = [13, 16, 20, 26, 32, 41, 52]\n",
      "For parameter N_azimuth = 13 ,  Failed with error 13\n",
      "For parameter N_azimuth = 16 ,  Failed with error 16\n",
      "For parameter N_azimuth = 20 ,  Failed with error 20\n",
      "For parameter N_azimuth = 26 ,  Failed with error 26\n",
      "For parameter N_azimuth = 32 ,  Failed with error 32\n",
      "For parameter N_azimuth = 41 ,  Failed with error 41\n",
      "For parameter N_azimuth = 52 ,  Failed with error 52\n",
      "scanning over N_eccentricity = [5, 6, 7, 10, 12, 15, 20]\n",
      "For parameter N_eccentricity = 5 ,  Failed with error 5\n",
      "For parameter N_eccentricity = 6 ,  Failed with error 6\n",
      "For parameter N_eccentricity = 7 ,  Failed with error 7\n",
      "For parameter N_eccentricity = 10 ,  Failed with error 10\n",
      "For parameter N_eccentricity = 12 ,  Failed with error 12\n",
      "For parameter N_eccentricity = 15 ,  Failed with error 15\n",
      "For parameter N_eccentricity = 20 ,  Failed with error 20\n",
      "scanning over rho = [0.705      0.88824434 1.11911774 1.41       1.77648868 2.23823548\n",
      " 2.82      ]\n",
      "For parameter rho = 0.705 ,  Failed with error 0.705\n",
      "For parameter rho = 0.888 ,  Failed with error 0.8882443401758855\n",
      "For parameter rho = 1.119 ,  Failed with error 1.1191177416375804\n",
      "For parameter rho = 1.410 ,  Failed with error 1.41\n",
      "For parameter rho = 1.776 ,  Failed with error 1.776488680351771\n",
      "For parameter rho = 2.238 ,  Failed with error 2.2382354832751608\n",
      "For parameter rho = 2.820 ,  Failed with error 2.82\n"
     ]
    }
   ],
   "source": [
    "%run params.py scan"
   ]
  },
  {
   "cell_type": "markdown",
   "metadata": {},
   "source": [
    "## parameter scan"
   ]
  },
  {
   "cell_type": "code",
   "execution_count": 5,
   "metadata": {},
   "outputs": [],
   "source": [
    "def plot_accuracy(result, xmin=10, fig=None, ax=None, ylabel=None):\n",
    "    if fig is None: fig, ax = plt.subplots(figsize=(5, 5))\n",
    "    #ax.plot(result['accuracy'], result['value'], \"o\", color='blue')\n",
    "    # print(value, accuracy)\n",
    "    ax.hlines(y=result['value'], xmin=result['accuracy'], xmax=100, color='red')\n",
    "    ax.hlines(y=result['value'], xmin=xmin, xmax=result['accuracy'], color='skyblue')\n",
    "    ax.hlines(y=result['value'], xmin=result['p_low'], xmax=result['p_sup'], color='blue', alpha=1., lw=7)\n",
    "\n",
    "    if ylabel is None:\n",
    "        ylabel = parameter.capitalize()\n",
    "    ax.set_ylabel(ylabel)\n",
    "    #print( results[parameter]['value'] )\n",
    "    #print( np.min([np.float(k) for k in results[parameter]['value']]))\n",
    "    #ax.vlines(100, np.min(results[parameter]['value']), np.max(results[parameter]['value']), 'k', label='max')\n",
    "    ax.set_xlabel('Accuracy (%)')\n",
    "    # Only draw spine between the y-ticks\n",
    "    #ax.spines['left'].set_bounds(-1, 1)\n",
    "    # Hide the right and top spines\n",
    "    ax.spines['right'].set_visible(False)\n",
    "    ax.spines['top'].set_visible(False)\n",
    "    # Only show ticks on the left and bottom spines\n",
    "    ax.yaxis.set_ticks_position('left')\n",
    "    ax.xaxis.set_ticks_position('bottom')\n",
    "\n",
    "    return fig, ax"
   ]
  },
  {
   "cell_type": "code",
   "execution_count": 6,
   "metadata": {
    "ExecuteTime": {
     "end_time": "2018-10-02T14:43:40.994298Z",
     "start_time": "2018-10-02T14:43:36.893054Z"
    },
    "scrolled": false
   },
   "outputs": [
    {
     "name": "stdout",
     "output_type": "stream",
     "text": [
      "---> sf_0\n"
     ]
    },
    {
     "data": {
      "image/png": "[encoded data removed]",
      "text/plain": [
       "<Figure size 360x360 with 1 Axes>"
      ]
     },
     "metadata": {
      "needs_background": "light"
     },
     "output_type": "display_data"
    },
    {
     "name": "stdout",
     "output_type": "stream",
     "text": [
      "---> B_sf\n"
     ]
    },
    {
     "data": {
      "image/png": "[encoded data removed]",
      "text/plain": [
       "<Figure size 360x360 with 1 Axes>"
      ]
     },
     "metadata": {
      "needs_background": "light"
     },
     "output_type": "display_data"
    },
    {
     "name": "stdout",
     "output_type": "stream",
     "text": [
      "---> offset_std\n"
     ]
    },
    {
     "data": {
      "image/png": "[encoded data removed]",
      "text/plain": [
       "<Figure size 360x360 with 1 Axes>"
      ]
     },
     "metadata": {
      "needs_background": "light"
     },
     "output_type": "display_data"
    },
    {
     "name": "stdout",
     "output_type": "stream",
     "text": [
      "---> noise\n"
     ]
    },
    {
     "data": {
      "image/png": "[encoded data removed]",
      "text/plain": [
       "<Figure size 360x360 with 1 Axes>"
      ]
     },
     "metadata": {
      "needs_background": "light"
     },
     "output_type": "display_data"
    },
    {
     "name": "stdout",
     "output_type": "stream",
     "text": [
      "---> contrast\n"
     ]
    },
    {
     "data": {
      "image/png": "[encoded data removed]",
      "text/plain": [
       "<Figure size 360x360 with 1 Axes>"
      ]
     },
     "metadata": {
      "needs_background": "light"
     },
     "output_type": "display_data"
    },
    {
     "name": "stdout",
     "output_type": "stream",
     "text": [
      "---> dim1\n"
     ]
    },
    {
     "data": {
      "image/png": "[encoded data removed]",
      "text/plain": [
       "<Figure size 360x360 with 1 Axes>"
      ]
     },
     "metadata": {
      "needs_background": "light"
     },
     "output_type": "display_data"
    },
    {
     "name": "stdout",
     "output_type": "stream",
     "text": [
      "---> bn1_bn_momentum\n"
     ]
    },
    {
     "data": {
      "image/png": "[encoded data removed]",
      "text/plain": [
       "<Figure size 360x360 with 1 Axes>"
      ]
     },
     "metadata": {
      "needs_background": "light"
     },
     "output_type": "display_data"
    },
    {
     "name": "stdout",
     "output_type": "stream",
     "text": [
      "---> dim2\n"
     ]
    },
    {
     "data": {
      "image/png": "[encoded data removed]",
      "text/plain": [
       "<Figure size 360x360 with 1 Axes>"
      ]
     },
     "metadata": {
      "needs_background": "light"
     },
     "output_type": "display_data"
    },
    {
     "name": "stdout",
     "output_type": "stream",
     "text": [
      "---> bn2_bn_momentum\n"
     ]
    },
    {
     "data": {
      "image/png": "[encoded data removed]",
      "text/plain": [
       "<Figure size 360x360 with 1 Axes>"
      ]
     },
     "metadata": {
      "needs_background": "light"
     },
     "output_type": "display_data"
    },
    {
     "name": "stdout",
     "output_type": "stream",
     "text": [
      "---> p_dropout\n"
     ]
    },
    {
     "data": {
      "image/png": "[encoded data removed]",
      "text/plain": [
       "<Figure size 360x360 with 1 Axes>"
      ]
     },
     "metadata": {
      "needs_background": "light"
     },
     "output_type": "display_data"
    },
    {
     "name": "stdout",
     "output_type": "stream",
     "text": [
      "---> lr_sgd\n"
     ]
    },
    {
     "data": {
      "image/png": "[encoded data removed]",
      "text/plain": [
       "<Figure size 360x360 with 1 Axes>"
      ]
     },
     "metadata": {
      "needs_background": "light"
     },
     "output_type": "display_data"
    },
    {
     "name": "stdout",
     "output_type": "stream",
     "text": [
      "---> momentum_sgd\n"
     ]
    },
    {
     "data": {
      "image/png": "[encoded data removed]",
      "text/plain": [
       "<Figure size 360x360 with 1 Axes>"
      ]
     },
     "metadata": {
      "needs_background": "light"
     },
     "output_type": "display_data"
    },
    {
     "name": "stdout",
     "output_type": "stream",
     "text": [
      "---> minibatch_size_sgd\n"
     ]
    },
    {
     "data": {
      "image/png": "[encoded data removed]",
      "text/plain": [
       "<Figure size 360x360 with 1 Axes>"
      ]
     },
     "metadata": {
      "needs_background": "light"
     },
     "output_type": "display_data"
    },
    {
     "name": "stdout",
     "output_type": "stream",
     "text": [
      "---> epochs_sgd\n"
     ]
    },
    {
     "data": {
      "image/png": "[encoded data removed]",
      "text/plain": [
       "<Figure size 360x360 with 1 Axes>"
      ]
     },
     "metadata": {
      "needs_background": "light"
     },
     "output_type": "display_data"
    },
    {
     "name": "stdout",
     "output_type": "stream",
     "text": [
      "---> lr_adam\n"
     ]
    },
    {
     "data": {
      "image/png": "[encoded data removed]",
      "text/plain": [
       "<Figure size 360x360 with 1 Axes>"
      ]
     },
     "metadata": {
      "needs_background": "light"
     },
     "output_type": "display_data"
    },
    {
     "name": "stdout",
     "output_type": "stream",
     "text": [
      "---> momentum_adam\n"
     ]
    },
    {
     "data": {
      "image/png": "[encoded data removed]",
      "text/plain": [
       "<Figure size 360x360 with 1 Axes>"
      ]
     },
     "metadata": {
      "needs_background": "light"
     },
     "output_type": "display_data"
    },
    {
     "name": "stdout",
     "output_type": "stream",
     "text": [
      "---> minibatch_size_adam\n"
     ]
    },
    {
     "data": {
      "image/png": "[encoded data removed]",
      "text/plain": [
       "<Figure size 360x360 with 1 Axes>"
      ]
     },
     "metadata": {
      "needs_background": "light"
     },
     "output_type": "display_data"
    },
    {
     "name": "stdout",
     "output_type": "stream",
     "text": [
      "---> epochs_adam\n"
     ]
    },
    {
     "data": {
      "image/png": "[encoded data removed]",
      "text/plain": [
       "<Figure size 360x360 with 1 Axes>"
      ]
     },
     "metadata": {
      "needs_background": "light"
     },
     "output_type": "display_data"
    },
    {
     "name": "stdout",
     "output_type": "stream",
     "text": [
      "---> N_theta\n"
     ]
    },
    {
     "data": {
      "image/png": "[encoded data removed]",
      "text/plain": [
       "<Figure size 360x360 with 1 Axes>"
      ]
     },
     "metadata": {
      "needs_background": "light"
     },
     "output_type": "display_data"
    },
    {
     "name": "stdout",
     "output_type": "stream",
     "text": [
      "---> N_azimuth\n"
     ]
    },
    {
     "data": {
      "image/png": "[encoded data removed]",
      "text/plain": [
       "<Figure size 360x360 with 1 Axes>"
      ]
     },
     "metadata": {
      "needs_background": "light"
     },
     "output_type": "display_data"
    },
    {
     "name": "stdout",
     "output_type": "stream",
     "text": [
      "---> N_eccentricity\n"
     ]
    },
    {
     "data": {
      "image/png": "[encoded data removed]",
      "text/plain": [
       "<Figure size 360x360 with 1 Axes>"
      ]
     },
     "metadata": {
      "needs_background": "light"
     },
     "output_type": "display_data"
    },
    {
     "name": "stdout",
     "output_type": "stream",
     "text": [
      "---> rho\n"
     ]
    },
    {
     "data": {
      "image/png": "[encoded data removed]",
      "text/plain": [
       "<Figure size 360x360 with 1 Axes>"
      ]
     },
     "metadata": {
      "needs_background": "light"
     },
     "output_type": "display_data"
    },
    {
     "name": "stdout",
     "output_type": "stream",
     "text": [
      "\n"
     ]
    }
   ],
   "source": [
    "figname_ = 'accuracy_'\n",
    "figname_ = ''\n",
    "\n",
    "tex = ''\n",
    "for parameter in results.keys():\n",
    "    print('--->',  parameter)\n",
    "    fig, ax = plot_accuracy(results[parameter])\n",
    "    plt.show()\n",
    "    if not figname_ == '':\n",
    "        fig_dir = './'\n",
    "        fig_ext = '.pdf'\n",
    "        fname = figname_ + parameter + fig_ext\n",
    "        tex += \"\\includegraphics[width=.0666\\linewidth]{\"+ fname + \"} \\n\"\n",
    "        fig.savefig(os.path.join(fig_dir, fname),\n",
    "                bbox_inches='tight', pad_inches=0)\n",
    "print(tex)"
   ]
  },
  {
   "cell_type": "markdown",
   "metadata": {},
   "source": [
    "# summary\n"
   ]
  },
  {
   "cell_type": "raw",
   "metadata": {},
   "source": [
    "%ls ../data/_tmp_scanning"
   ]
  },
  {
   "cell_type": "code",
   "execution_count": 7,
   "metadata": {},
   "outputs": [
    {
     "data": {
      "text/plain": [
       "dict_keys(['sf_0', 'B_sf', 'offset_std', 'noise', 'contrast', 'dim1', 'bn1_bn_momentum', 'dim2', 'bn2_bn_momentum', 'p_dropout', 'lr_sgd', 'momentum_sgd', 'minibatch_size_sgd', 'epochs_sgd', 'lr_adam', 'momentum_adam', 'minibatch_size_adam', 'epochs_adam', 'N_theta', 'N_azimuth', 'N_eccentricity', 'rho'])"
      ]
     },
     "execution_count": 7,
     "metadata": {},
     "output_type": "execute_result"
    }
   ],
   "source": [
    "results.keys()"
   ]
  },
  {
   "cell_type": "code",
   "execution_count": 9,
   "metadata": {},
   "outputs": [
    {
     "data": {
      "image/png": "[encoded data removed]",
      "text/plain": [
       "<Figure size 1020.17x561.096 with 8 Axes>"
      ]
     },
     "metadata": {
      "needs_background": "light"
     },
     "output_type": "display_data"
    }
   ],
   "source": [
    "parameters = [['epochs_adam', 'dim1', 'dim2', 'N_azimuth'],\n",
    "              ['noise', 'offset_std', 'sf_0', 'B_sf']]  # '', 'lr', \n",
    "fig, axs = plt.subplots(len(parameters), len(parameters[0]), figsize = (figwidth, figwidth/len(parameters)*1.1), subplot_kw={})\n",
    "\n",
    "for i_row, parameters_ in enumerate(parameters):\n",
    "    for ax, parameter in zip(axs[i_row], parameters_):\n",
    "        fig, ax = plot_accuracy(results[parameter], xmin=10, fig=fig, ax=ax)\n",
    "\n",
    "plt.tight_layout()\n",
    "fig.savefig(figname + '.pdf', bbox_inches='tight', pad_inches=0.05)"
   ]
  },
  {
   "cell_type": "markdown",
   "metadata": {},
   "source": [
    "# post-processing"
   ]
  },
  {
   "cell_type": "code",
   "execution_count": null,
   "metadata": {
    "ExecuteTime": {
     "end_time": "2018-10-08T14:43:27.591507Z",
     "start_time": "2018-10-08T14:43:24.722160Z"
    }
   },
   "outputs": [],
   "source": [
    "!convert  -density {dpi_export} {figname}.pdf {figname}.jpg\n",
    "!convert  -density {dpi_export} {figname}.pdf {figname}.png\n",
    "#!convert  -density {dpi_export} -resize 5400  -units pixelsperinch -flatten  -compress lzw  -depth 8 {fname}.pdf {fname}.tiff"
   ]
  },
  {
   "cell_type": "code",
   "execution_count": null,
   "metadata": {
    "ExecuteTime": {
     "end_time": "2018-07-03T10:36:00.981927Z",
     "start_time": "2018-07-03T10:36:00.949864Z"
    }
   },
   "outputs": [],
   "source": [
    "from IPython.display import Image\n",
    "Image('{figname}.png'.format(figname=figname))"
   ]
  },
  {
   "cell_type": "code",
   "execution_count": null,
   "metadata": {
    "ExecuteTime": {
     "end_time": "2018-07-03T10:36:00.939193Z",
     "start_time": "2018-07-03T10:36:00.766218Z"
    }
   },
   "outputs": [],
   "source": [
    "!ls  -l {figname}*"
   ]
  }
 ],
 "metadata": {
  "kernelspec": {
   "display_name": "Python 3",
   "language": "python",
   "name": "python3"
  },
  "language_info": {
   "codemirror_mode": {
    "name": "ipython",
    "version": 3
   },
   "file_extension": ".py",
   "mimetype": "text/x-python",
   "name": "python",
   "nbconvert_exporter": "python",
   "pygments_lexer": "ipython3",
   "version": "3.7.2"
  }
 },
 "nbformat": 4,
 "nbformat_minor": 2
}
