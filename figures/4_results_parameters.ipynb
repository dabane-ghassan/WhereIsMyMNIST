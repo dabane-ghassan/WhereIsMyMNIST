{
 "cells": [
  {
   "cell_type": "markdown",
   "metadata": {},
   "source": [
    "This notebook introduces the problem addressed in this paper:\n",
    "\n",
    " - localizating an object in a large image\n",
    " - foveation\n",
    " - action (saccade)\n",
    " "
   ]
  },
  {
   "cell_type": "code",
   "execution_count": 1,
   "metadata": {},
   "outputs": [
    {
     "name": "stdout",
     "output_type": "stream",
     "text": [
      "\n",
      "This notebook introduces the problem addressed in this paper:\n",
      "\n",
      " - localizating an object in a large image\n",
      " - foveation\n",
      " - action (saccade)\n",
      "       \n",
      "      \n",
      "Using filename= ../data/2019-04-05\n",
      "{'w': 28, 'minibatch_size': 100, 'train_batch_size': 50000, 'test_batch_size': 10000, 'noise_batch_size': 1000, 'mean': 0.1307, 'std': 0.3081, 'N_pic': 128, 'offset_std': 30, 'offset_max': 34, 'noise': 0.75, 'contrast': 0.5, 'sf_0': 0.2, 'B_sf': 0.08, 'N_theta': 6, 'N_azimuth': 26, 'N_eccentricity': 10, 'N_phase': 2, 'rho': 1.41, 'bias_deconv': True, 'p_dropout': 0.0, 'dim1': 382, 'dim2': 618, 'lr': 0.005, 'do_adam': True, 'bn1_bn_momentum': 0.5, 'bn2_bn_momentum': 0.5, 'momentum': 0.3, 'epochs': 25, 'num_processes': 1, 'no_cuda': True, 'log_interval': 100, 'verbose': 1, 'filename': '../data/2019-04-05', 'seed': 2019, 'N_cv': 10, 'do_compute': True}\n",
      "Overwriting train.py\n",
      "2019-04-05T15:07:53+02:00\n",
      "\n",
      "CPython 3.7.2\n",
      "IPython 7.4.0\n",
      "\n",
      "numpy 1.16.2\n",
      "matplotlib 3.0.3\n",
      "torch 1.0.1.post2\n",
      "\n",
      "compiler   : Clang 10.0.0 (clang-1000.11.45.5)\n",
      "system     : Darwin\n",
      "release    : 18.2.0\n",
      "machine    : x86_64\n",
      "processor  : i386\n",
      "CPU cores  : 36\n",
      "interpreter: 64bit\n",
      "host name  : fortytwo\n",
      "Git hash   : bc8b5c535372840a173c5ce1ab0a586d59bf615f\n",
      "Git repo   : https://github.com/laurentperrinet/WhereIsMyMNIST\n",
      "Git branch : master\n"
     ]
    }
   ],
   "source": [
    "%run 0_parameters.ipynb"
   ]
  },
  {
   "cell_type": "code",
   "execution_count": 2,
   "metadata": {
    "ExecuteTime": {
     "end_time": "2018-07-03T10:34:13.258190Z",
     "start_time": "2018-07-03T10:34:13.251661Z"
    }
   },
   "outputs": [],
   "source": [
    "figname = '../paper/fig_params'"
   ]
  },
  {
   "cell_type": "code",
   "execution_count": 3,
   "metadata": {},
   "outputs": [
    {
     "name": "stdout",
     "output_type": "stream",
     "text": [
      "Overwriting params.py\n"
     ]
    }
   ],
   "source": [
    "%%writefile params.py\n",
    "import os\n",
    "import torch\n",
    "from main import init, MetaML\n",
    "from where import Where as ML\n",
    "from what import WhatNet\n",
    "import numpy as np        \n",
    "import sys\n",
    "opts = dict(filename='../data/2019-03-30', verbose=0, log_interval=0, do_compute=False  if len(sys.argv) > 1 else True)\n",
    "#opts = dict(filename='debug', verbose=0, log_interval=0)\n",
    "print('do_compute =', opts['do_compute'])\n",
    "\n",
    "print(50*'-')\n",
    "print(' parameter scan')\n",
    "print(50*'-')\n",
    "\n",
    "if opts['do_compute']:\n",
    "    args = init(**opts)\n",
    "    #args.filename = '../data/2019-03-27'\n",
    "    filename_train = args.filename + '_train.pt'\n",
    "    if not(os.path.isfile(filename_train + '_lock')):\n",
    "        open(filename_train + '_lock', 'w').close()\n",
    "        print(50*'-')\n",
    "        print('Default parameters')\n",
    "        print(50*'-')\n",
    "        from where import Where as ML\n",
    "        from what import WhatNet\n",
    "        ml = ML(args)\n",
    "        ml.train(path=filename_train)\n",
    "        # ml.main(path=args.filename)\n",
    "        try:\n",
    "            os.remove(filename_train + '_lock')\n",
    "        except:\n",
    "            pass\n",
    "\n",
    "if True:\n",
    "    args = init(**opts)\n",
    "    mml = MetaML(args)\n",
    "    if torch.cuda.is_available():\n",
    "        mml.scan('no_cuda', [True, False])\n",
    "\n",
    "    args = init(**opts)\n",
    "    mml = MetaML(args)\n",
    "    mml.scan('bias_deconv', [True, False])\n",
    "\n",
    "results = {}\n",
    "    \n",
    "def update_results(results, parameter, accuracies, ci=0.01):\n",
    "    from scipy.stats import beta\n",
    "\n",
    "    if not parameter in results.keys(): results[parameter] = dict(value=[], accuracy=[], p_low=[], p_sup=[])\n",
    "    for value in accuracies.keys():\n",
    "        results[parameter]['value'].append(value)\n",
    "        results[parameter]['accuracy'].append(accuracies[value][:-1].mean()*100)\n",
    "        try:\n",
    "            a1, b1, loc1, scale1 = beta.fit(accuracies[value][:-1], floc=0, fscale=1)\n",
    "            p_low, p_sup = beta.ppf([ci, 1-ci], a=a1, b=b1)\n",
    "            #print(p_low, p_sup)\n",
    "            results[parameter]['p_low'].append(p_low*100)\n",
    "            results[parameter]['p_sup'].append(p_sup*100)\n",
    "        except:\n",
    "            results[parameter]['p_low'].append(accuracies[value][:-1].mean()*100)\n",
    "            results[parameter]['p_sup'].append(accuracies[value][:-1].mean()*100)\n",
    "        \n",
    "    return results\n",
    "            \n",
    "bases = [2]\n",
    "#bases = [np.sqrt(2), 2, 2*np.sqrt(2)]    \n",
    "for base in bases if not args.filename == '../data/debug' else [2]:\n",
    "    print(50*'-')\n",
    "    print(' base=', base)\n",
    "    print(50*'-')\n",
    "\n",
    "    print(50*'-')\n",
    "    print(' parameter scan : data')\n",
    "    print(50*'-')\n",
    "    args = init(**opts)\n",
    "    mml = MetaML(args, base=base)\n",
    "    for parameter in ['sf_0', 'B_sf', 'offset_std' , 'noise', 'contrast']: #\n",
    "        accuracies = mml.parameter_scan(parameter)\n",
    "        results = update_results(results, parameter, accuracies)\n",
    "        \n",
    "    print(50*'-')\n",
    "    print(' parameter scan : network')\n",
    "    print(50*'-')\n",
    "    args = init(**opts)\n",
    "    mml = MetaML(args)\n",
    "    for parameter in ['dim1',\n",
    "                      'bn1_bn_momentum',\n",
    "                      'dim2',\n",
    "                      'bn2_bn_momentum',\n",
    "                      'p_dropout']:\n",
    "        accuracies = mml.parameter_scan(parameter)\n",
    "        results = update_results(results, parameter, accuracies)\n",
    "\n",
    "    print(' parameter scan : learning ')\n",
    "    args = init(**opts)\n",
    "    mml = MetaML(args, base=base, tag='SGD')\n",
    "    print(50*'-')\n",
    "    print('Using SGD')\n",
    "    print(50*'-')\n",
    "    for parameter in ['lr', 'momentum', 'minibatch_size', 'epochs']:\n",
    "        accuracies = mml.parameter_scan(parameter)\n",
    "        results = update_results(results, parameter + '_sgd', accuracies)\n",
    "    print(50*'-')\n",
    "    print('Using ADAM')\n",
    "    print(50*'-')\n",
    "    args = init(**opts)\n",
    "    args.do_adam = True\n",
    "    mml = MetaML(args, base=base, tag='adam')\n",
    "    for parameter in ['lr', 'momentum', 'minibatch_size', 'epochs']:\n",
    "        accuracies = mml.parameter_scan(parameter)\n",
    "        results = update_results(results, parameter + '_adam', accuracies)\n",
    "\n",
    "    print(50*'-')\n",
    "    print(' parameter scan : retina')\n",
    "    print(50*'-')\n",
    "    args = init(**opts)\n",
    "    mml = MetaML(args)\n",
    "    for parameter in ['N_theta',\n",
    "                      'N_azimuth',\n",
    "                      'N_eccentricity',\n",
    "                      'rho']:\n",
    "        accuracies = mml.parameter_scan(parameter)\n",
    "        results = update_results(results, parameter, accuracies)\n",
    "        "
   ]
  },
  {
   "cell_type": "raw",
   "metadata": {},
   "source": [
    "%rm -fr ../data/_tmp_scanning\n",
    "%mkdir -p ../data/_tmp_scanning\n"
   ]
  },
  {
   "cell_type": "code",
   "execution_count": 4,
   "metadata": {
    "scrolled": false
   },
   "outputs": [
    {
     "name": "stdout",
     "output_type": "stream",
     "text": [
      "do_compute = False\n",
      "--------------------------------------------------\n",
      " parameter scan\n",
      "--------------------------------------------------\n",
      "scanning over bias_deconv = [True, False]\n",
      "For parameter bias_deconv = True ,   currently locked with  ../data/_tmp_scanning/bias_deconv__True.npy_lock\n",
      "For parameter bias_deconv = False ,   currently locked with  ../data/_tmp_scanning/bias_deconv__False.npy_lock\n",
      "--------------------------------------------------\n",
      " base= 2\n",
      "--------------------------------------------------\n",
      "--------------------------------------------------\n",
      " parameter scan : data\n",
      "--------------------------------------------------\n",
      "scanning over sf_0 = [0.1        0.1259921  0.15874011 0.2        0.25198421 0.31748021\n",
      " 0.4       ]\n",
      "For parameter sf_0 = 0.100 ,   currently locked with  ../data/_tmp_scanning/sf_0__0_100.npy_lock\n",
      "For parameter sf_0 = 0.126 ,   currently locked with  ../data/_tmp_scanning/sf_0__0_126.npy_lock\n",
      "For parameter sf_0 = 0.159 ,   currently locked with  ../data/_tmp_scanning/sf_0__0_159.npy_lock\n",
      "For parameter sf_0 = 0.200 ,   currently locked with  ../data/_tmp_scanning/sf_0__0_200.npy_lock\n",
      "For parameter sf_0 = 0.252 ,   currently locked with  ../data/_tmp_scanning/sf_0__0_252.npy_lock\n",
      "For parameter sf_0 = 0.317 ,   currently locked with  ../data/_tmp_scanning/sf_0__0_317.npy_lock\n",
      "For parameter sf_0 = 0.400 ,   currently locked with  ../data/_tmp_scanning/sf_0__0_400.npy_lock\n",
      "scanning over B_sf = [0.04       0.05039684 0.06349604 0.08       0.10079368 0.12699208\n",
      " 0.16      ]\n",
      "For parameter B_sf = 0.040 ,   currently locked with  ../data/_tmp_scanning/B_sf__0_040.npy_lock\n",
      "For parameter B_sf = 0.050 ,   currently locked with  ../data/_tmp_scanning/B_sf__0_050.npy_lock\n",
      "For parameter B_sf = 0.063 ,   currently locked with  ../data/_tmp_scanning/B_sf__0_063.npy_lock\n",
      "For parameter B_sf = 0.080 ,   currently locked with  ../data/_tmp_scanning/B_sf__0_080.npy_lock\n",
      "For parameter B_sf = 0.101 ,   currently locked with  ../data/_tmp_scanning/B_sf__0_101.npy_lock\n",
      "For parameter B_sf = 0.127 ,   currently locked with  ../data/_tmp_scanning/B_sf__0_127.npy_lock\n",
      "For parameter B_sf = 0.160 ,  50000\n"
     ]
    },
    {
     "ename": "IndexError",
     "evalue": "index 5000 is out of bounds for axis 0 with size 5000",
     "output_type": "error",
     "traceback": [
      "\u001b[0;31m---------------------------------------------------------------------------\u001b[0m",
      "\u001b[0;31mIndexError\u001b[0m                                Traceback (most recent call last)",
      "\u001b[0;32m~/research/ActiveVision/WhereIsMyMNIST/figures/params.py\u001b[0m in \u001b[0;36m<module>\u001b[0;34m\u001b[0m\n\u001b[1;32m     77\u001b[0m     \u001b[0mmml\u001b[0m \u001b[0;34m=\u001b[0m \u001b[0mMetaML\u001b[0m\u001b[0;34m(\u001b[0m\u001b[0margs\u001b[0m\u001b[0;34m,\u001b[0m \u001b[0mbase\u001b[0m\u001b[0;34m=\u001b[0m\u001b[0mbase\u001b[0m\u001b[0;34m)\u001b[0m\u001b[0;34m\u001b[0m\u001b[0;34m\u001b[0m\u001b[0m\n\u001b[1;32m     78\u001b[0m     \u001b[0;32mfor\u001b[0m \u001b[0mparameter\u001b[0m \u001b[0;32min\u001b[0m \u001b[0;34m[\u001b[0m\u001b[0;34m'sf_0'\u001b[0m\u001b[0;34m,\u001b[0m \u001b[0;34m'B_sf'\u001b[0m\u001b[0;34m,\u001b[0m \u001b[0;34m'offset_std'\u001b[0m \u001b[0;34m,\u001b[0m \u001b[0;34m'noise'\u001b[0m\u001b[0;34m,\u001b[0m \u001b[0;34m'contrast'\u001b[0m\u001b[0;34m]\u001b[0m\u001b[0;34m:\u001b[0m \u001b[0;31m#\u001b[0m\u001b[0;34m\u001b[0m\u001b[0;34m\u001b[0m\u001b[0m\n\u001b[0;32m---> 79\u001b[0;31m         \u001b[0maccuracies\u001b[0m \u001b[0;34m=\u001b[0m \u001b[0mmml\u001b[0m\u001b[0;34m.\u001b[0m\u001b[0mparameter_scan\u001b[0m\u001b[0;34m(\u001b[0m\u001b[0mparameter\u001b[0m\u001b[0;34m)\u001b[0m\u001b[0;34m\u001b[0m\u001b[0;34m\u001b[0m\u001b[0m\n\u001b[0m\u001b[1;32m     80\u001b[0m         \u001b[0mresults\u001b[0m \u001b[0;34m=\u001b[0m \u001b[0mupdate_results\u001b[0m\u001b[0;34m(\u001b[0m\u001b[0mresults\u001b[0m\u001b[0;34m,\u001b[0m \u001b[0mparameter\u001b[0m\u001b[0;34m,\u001b[0m \u001b[0maccuracies\u001b[0m\u001b[0;34m)\u001b[0m\u001b[0;34m\u001b[0m\u001b[0;34m\u001b[0m\u001b[0m\n\u001b[1;32m     81\u001b[0m \u001b[0;34m\u001b[0m\u001b[0m\n",
      "\u001b[0;32m~/research/ActiveVision/WhereIsMyMNIST/figures/main.py\u001b[0m in \u001b[0;36mparameter_scan\u001b[0;34m(self, parameter, display)\u001b[0m\n\u001b[1;32m    165\u001b[0m             \u001b[0mvalues\u001b[0m \u001b[0;34m=\u001b[0m  \u001b[0;34m[\u001b[0m\u001b[0mint\u001b[0m\u001b[0;34m(\u001b[0m\u001b[0mk\u001b[0m\u001b[0;34m)\u001b[0m \u001b[0;32mfor\u001b[0m \u001b[0mk\u001b[0m \u001b[0;32min\u001b[0m \u001b[0mvalues\u001b[0m\u001b[0;34m]\u001b[0m\u001b[0;34m\u001b[0m\u001b[0;34m\u001b[0m\u001b[0m\n\u001b[1;32m    166\u001b[0m \u001b[0;34m\u001b[0m\u001b[0m\n\u001b[0;32m--> 167\u001b[0;31m         \u001b[0maccuracies\u001b[0m \u001b[0;34m=\u001b[0m \u001b[0mself\u001b[0m\u001b[0;34m.\u001b[0m\u001b[0mscan\u001b[0m\u001b[0;34m(\u001b[0m\u001b[0mparameter\u001b[0m\u001b[0;34m,\u001b[0m \u001b[0mvalues\u001b[0m\u001b[0;34m)\u001b[0m\u001b[0;34m\u001b[0m\u001b[0;34m\u001b[0m\u001b[0m\n\u001b[0m\u001b[1;32m    168\u001b[0m         \u001b[0;31m# print('accuracies=', accuracies)\u001b[0m\u001b[0;34m\u001b[0m\u001b[0;34m\u001b[0m\u001b[0;34m\u001b[0m\u001b[0m\n\u001b[1;32m    169\u001b[0m         \u001b[0;32mif\u001b[0m \u001b[0mdisplay\u001b[0m\u001b[0;34m:\u001b[0m\u001b[0;34m\u001b[0m\u001b[0;34m\u001b[0m\u001b[0m\n",
      "\u001b[0;32m~/research/ActiveVision/WhereIsMyMNIST/figures/main.py\u001b[0m in \u001b[0;36mscan\u001b[0;34m(self, parameter, values, verbose)\u001b[0m\n\u001b[1;32m    134\u001b[0m                         \u001b[0margs\u001b[0m \u001b[0;34m=\u001b[0m \u001b[0measydict\u001b[0m\u001b[0;34m.\u001b[0m\u001b[0mEasyDict\u001b[0m\u001b[0;34m(\u001b[0m\u001b[0mself\u001b[0m\u001b[0;34m.\u001b[0m\u001b[0margs\u001b[0m\u001b[0;34m.\u001b[0m\u001b[0mcopy\u001b[0m\u001b[0;34m(\u001b[0m\u001b[0;34m)\u001b[0m\u001b[0;34m)\u001b[0m\u001b[0;34m\u001b[0m\u001b[0;34m\u001b[0m\u001b[0m\n\u001b[1;32m    135\u001b[0m                         \u001b[0margs\u001b[0m\u001b[0;34m[\u001b[0m\u001b[0mparameter\u001b[0m\u001b[0;34m]\u001b[0m \u001b[0;34m=\u001b[0m \u001b[0mvalue\u001b[0m\u001b[0;34m\u001b[0m\u001b[0;34m\u001b[0m\u001b[0m\n\u001b[0;32m--> 136\u001b[0;31m                         \u001b[0mAccuracy\u001b[0m\u001b[0;34m[\u001b[0m\u001b[0mvalue\u001b[0m\u001b[0;34m]\u001b[0m \u001b[0;34m=\u001b[0m \u001b[0mself\u001b[0m\u001b[0;34m.\u001b[0m\u001b[0mprotocol\u001b[0m\u001b[0;34m(\u001b[0m\u001b[0margs\u001b[0m\u001b[0;34m,\u001b[0m \u001b[0mseed\u001b[0m\u001b[0;34m)\u001b[0m\u001b[0;34m\u001b[0m\u001b[0;34m\u001b[0m\u001b[0m\n\u001b[0m\u001b[1;32m    137\u001b[0m                         \u001b[0mnp\u001b[0m\u001b[0;34m.\u001b[0m\u001b[0msave\u001b[0m\u001b[0;34m(\u001b[0m\u001b[0mpath\u001b[0m\u001b[0;34m,\u001b[0m \u001b[0mAccuracy\u001b[0m\u001b[0;34m[\u001b[0m\u001b[0mvalue\u001b[0m\u001b[0;34m]\u001b[0m\u001b[0;34m)\u001b[0m\u001b[0;34m\u001b[0m\u001b[0;34m\u001b[0m\u001b[0m\n\u001b[1;32m    138\u001b[0m                         \u001b[0mos\u001b[0m\u001b[0;34m.\u001b[0m\u001b[0mremove\u001b[0m\u001b[0;34m(\u001b[0m\u001b[0mpath\u001b[0m \u001b[0;34m+\u001b[0m \u001b[0;34m'_lock'\u001b[0m\u001b[0;34m)\u001b[0m\u001b[0;34m\u001b[0m\u001b[0;34m\u001b[0m\u001b[0m\n",
      "\u001b[0;32m~/research/ActiveVision/WhereIsMyMNIST/figures/main.py\u001b[0m in \u001b[0;36mprotocol\u001b[0;34m(self, args, seed)\u001b[0m\n\u001b[1;32m    110\u001b[0m     \u001b[0;32mdef\u001b[0m \u001b[0mprotocol\u001b[0m\u001b[0;34m(\u001b[0m\u001b[0mself\u001b[0m\u001b[0;34m,\u001b[0m \u001b[0margs\u001b[0m\u001b[0;34m,\u001b[0m \u001b[0mseed\u001b[0m\u001b[0;34m)\u001b[0m\u001b[0;34m:\u001b[0m\u001b[0;34m\u001b[0m\u001b[0;34m\u001b[0m\u001b[0m\n\u001b[1;32m    111\u001b[0m         \u001b[0mt0\u001b[0m \u001b[0;34m=\u001b[0m \u001b[0mtime\u001b[0m\u001b[0;34m.\u001b[0m\u001b[0mtime\u001b[0m\u001b[0;34m(\u001b[0m\u001b[0;34m)\u001b[0m\u001b[0;34m\u001b[0m\u001b[0;34m\u001b[0m\u001b[0m\n\u001b[0;32m--> 112\u001b[0;31m         \u001b[0mAccuracy\u001b[0m \u001b[0;34m=\u001b[0m \u001b[0mself\u001b[0m\u001b[0;34m.\u001b[0m\u001b[0mtest\u001b[0m\u001b[0;34m(\u001b[0m\u001b[0margs\u001b[0m\u001b[0;34m,\u001b[0m \u001b[0mseed\u001b[0m\u001b[0;34m)\u001b[0m\u001b[0;34m\u001b[0m\u001b[0;34m\u001b[0m\u001b[0m\n\u001b[0m\u001b[1;32m    113\u001b[0m         \u001b[0mt1\u001b[0m \u001b[0;34m=\u001b[0m \u001b[0mtime\u001b[0m\u001b[0;34m.\u001b[0m\u001b[0mtime\u001b[0m\u001b[0;34m(\u001b[0m\u001b[0;34m)\u001b[0m \u001b[0;34m-\u001b[0m \u001b[0mt0\u001b[0m\u001b[0;34m\u001b[0m\u001b[0;34m\u001b[0m\u001b[0m\n\u001b[1;32m    114\u001b[0m         \u001b[0mAccuracy\u001b[0m \u001b[0;34m=\u001b[0m \u001b[0mnp\u001b[0m\u001b[0;34m.\u001b[0m\u001b[0mhstack\u001b[0m\u001b[0;34m(\u001b[0m\u001b[0;34m(\u001b[0m\u001b[0mAccuracy\u001b[0m\u001b[0;34m,\u001b[0m \u001b[0;34m[\u001b[0m\u001b[0mt1\u001b[0m\u001b[0;34m]\u001b[0m\u001b[0;34m)\u001b[0m\u001b[0;34m)\u001b[0m\u001b[0;34m\u001b[0m\u001b[0;34m\u001b[0m\u001b[0m\n",
      "\u001b[0;32m~/research/ActiveVision/WhereIsMyMNIST/figures/main.py\u001b[0m in \u001b[0;36mtest\u001b[0;34m(self, args, seed)\u001b[0m\n\u001b[1;32m    103\u001b[0m         \u001b[0mAccuracy\u001b[0m \u001b[0;34m=\u001b[0m \u001b[0;34m[\u001b[0m\u001b[0;34m]\u001b[0m\u001b[0;34m\u001b[0m\u001b[0;34m\u001b[0m\u001b[0m\n\u001b[1;32m    104\u001b[0m         \u001b[0;32mfor\u001b[0m \u001b[0mi_cv\u001b[0m \u001b[0;32min\u001b[0m \u001b[0mrange\u001b[0m\u001b[0;34m(\u001b[0m\u001b[0mself\u001b[0m\u001b[0;34m.\u001b[0m\u001b[0margs\u001b[0m\u001b[0;34m.\u001b[0m\u001b[0mN_cv\u001b[0m\u001b[0;34m)\u001b[0m\u001b[0;34m:\u001b[0m\u001b[0;34m\u001b[0m\u001b[0;34m\u001b[0m\u001b[0m\n\u001b[0;32m--> 105\u001b[0;31m             \u001b[0mml\u001b[0m \u001b[0;34m=\u001b[0m \u001b[0mML\u001b[0m\u001b[0;34m(\u001b[0m\u001b[0margs\u001b[0m\u001b[0;34m)\u001b[0m\u001b[0;34m\u001b[0m\u001b[0;34m\u001b[0m\u001b[0m\n\u001b[0m\u001b[1;32m    106\u001b[0m             \u001b[0mml\u001b[0m\u001b[0;34m.\u001b[0m\u001b[0mtrain\u001b[0m\u001b[0;34m(\u001b[0m\u001b[0mseed\u001b[0m\u001b[0;34m=\u001b[0m\u001b[0mseed\u001b[0m \u001b[0;34m+\u001b[0m \u001b[0mi_cv\u001b[0m\u001b[0;34m)\u001b[0m\u001b[0;34m\u001b[0m\u001b[0;34m\u001b[0m\u001b[0m\n\u001b[1;32m    107\u001b[0m             \u001b[0mAccuracy\u001b[0m\u001b[0;34m.\u001b[0m\u001b[0mappend\u001b[0m\u001b[0;34m(\u001b[0m\u001b[0mml\u001b[0m\u001b[0;34m.\u001b[0m\u001b[0mtest\u001b[0m\u001b[0;34m(\u001b[0m\u001b[0;34m)\u001b[0m\u001b[0;34m)\u001b[0m\u001b[0;34m\u001b[0m\u001b[0;34m\u001b[0m\u001b[0m\n",
      "\u001b[0;32m~/research/ActiveVision/WhereIsMyMNIST/figures/where.py\u001b[0m in \u001b[0;36m__init__\u001b[0;34m(self, args, save, batch_load)\u001b[0m\n\u001b[1;32m     96\u001b[0m         \u001b[0;32melse\u001b[0m\u001b[0;34m:\u001b[0m\u001b[0;34m\u001b[0m\u001b[0;34m\u001b[0m\u001b[0m\n\u001b[1;32m     97\u001b[0m             \u001b[0;32mif\u001b[0m \u001b[0margs\u001b[0m\u001b[0;34m.\u001b[0m\u001b[0mverbose\u001b[0m\u001b[0;34m:\u001b[0m \u001b[0mprint\u001b[0m\u001b[0;34m(\u001b[0m\u001b[0;34m'Creating testing dataset'\u001b[0m\u001b[0;34m)\u001b[0m\u001b[0;34m\u001b[0m\u001b[0;34m\u001b[0m\u001b[0m\n\u001b[0;32m---> 98\u001b[0;31m             \u001b[0mretina_data\u001b[0m\u001b[0;34m,\u001b[0m \u001b[0mdata_fullfield\u001b[0m\u001b[0;34m,\u001b[0m \u001b[0maccuracy_colliculus\u001b[0m\u001b[0;34m,\u001b[0m \u001b[0mdigit_labels\u001b[0m \u001b[0;34m=\u001b[0m \u001b[0mself\u001b[0m\u001b[0;34m.\u001b[0m\u001b[0mgenerate_data\u001b[0m\u001b[0;34m(\u001b[0m\u001b[0mself\u001b[0m\u001b[0;34m.\u001b[0m\u001b[0margs\u001b[0m\u001b[0;34m.\u001b[0m\u001b[0mtest_batch_size\u001b[0m\u001b[0;34m,\u001b[0m \u001b[0mtrain\u001b[0m\u001b[0;34m=\u001b[0m\u001b[0;32mFalse\u001b[0m\u001b[0;34m,\u001b[0m \u001b[0mfullfield\u001b[0m\u001b[0;34m=\u001b[0m\u001b[0;32mTrue\u001b[0m\u001b[0;34m,\u001b[0m \u001b[0mbatch_load\u001b[0m\u001b[0;34m=\u001b[0m\u001b[0mbatch_load\u001b[0m\u001b[0;34m)\u001b[0m\u001b[0;34m\u001b[0m\u001b[0;34m\u001b[0m\u001b[0m\n\u001b[0m\u001b[1;32m     99\u001b[0m             \u001b[0;31m# create your dataset, see dev/2019-03-18_precomputed dataset.ipynb\u001b[0m\u001b[0;34m\u001b[0m\u001b[0;34m\u001b[0m\u001b[0;34m\u001b[0m\u001b[0m\n\u001b[1;32m    100\u001b[0m             \u001b[0mself\u001b[0m\u001b[0;34m.\u001b[0m\u001b[0mloader_test\u001b[0m \u001b[0;34m=\u001b[0m \u001b[0mDataLoader\u001b[0m\u001b[0;34m(\u001b[0m\u001b[0mTensorDataset\u001b[0m\u001b[0;34m(\u001b[0m\u001b[0mretina_data\u001b[0m\u001b[0;34m,\u001b[0m \u001b[0mdata_fullfield\u001b[0m\u001b[0;34m,\u001b[0m \u001b[0maccuracy_colliculus\u001b[0m\u001b[0;34m,\u001b[0m \u001b[0mdigit_labels\u001b[0m\u001b[0;34m)\u001b[0m\u001b[0;34m,\u001b[0m \u001b[0mbatch_size\u001b[0m\u001b[0;34m=\u001b[0m\u001b[0margs\u001b[0m\u001b[0;34m.\u001b[0m\u001b[0mtest_batch_size\u001b[0m\u001b[0;34m)\u001b[0m\u001b[0;34m\u001b[0m\u001b[0;34m\u001b[0m\u001b[0m\n",
      "\u001b[0;32m~/research/ActiveVision/WhereIsMyMNIST/figures/where.py\u001b[0m in \u001b[0;36mgenerate_data\u001b[0;34m(self, batch_size, train, fullfield, batch_load)\u001b[0m\n\u001b[1;32m    157\u001b[0m                 \u001b[0mdata_fullfield_\u001b[0m\u001b[0;34m,\u001b[0m \u001b[0mi_offset\u001b[0m\u001b[0;34m,\u001b[0m \u001b[0mj_offset\u001b[0m \u001b[0;34m=\u001b[0m \u001b[0mself\u001b[0m\u001b[0;34m.\u001b[0m\u001b[0mdisplay\u001b[0m\u001b[0;34m.\u001b[0m\u001b[0mdraw\u001b[0m\u001b[0;34m(\u001b[0m\u001b[0mdata\u001b[0m\u001b[0;34m[\u001b[0m\u001b[0;36m0\u001b[0m\u001b[0;34m,\u001b[0m \u001b[0;36m0\u001b[0m\u001b[0;34m,\u001b[0m \u001b[0;34m:\u001b[0m\u001b[0;34m,\u001b[0m \u001b[0;34m:\u001b[0m\u001b[0;34m]\u001b[0m\u001b[0;34m.\u001b[0m\u001b[0mnumpy\u001b[0m\u001b[0;34m(\u001b[0m\u001b[0;34m)\u001b[0m\u001b[0;34m)\u001b[0m\u001b[0;34m\u001b[0m\u001b[0;34m\u001b[0m\u001b[0m\n\u001b[1;32m    158\u001b[0m                 \u001b[0;32mif\u001b[0m \u001b[0mfullfield\u001b[0m\u001b[0;34m:\u001b[0m\u001b[0;34m\u001b[0m\u001b[0;34m\u001b[0m\u001b[0m\n\u001b[0;32m--> 159\u001b[0;31m                     \u001b[0mdata_fullfield\u001b[0m\u001b[0;34m[\u001b[0m\u001b[0mi\u001b[0m\u001b[0;34m,\u001b[0m \u001b[0;34m:\u001b[0m\u001b[0;34m,\u001b[0m \u001b[0;34m:\u001b[0m\u001b[0;34m]\u001b[0m \u001b[0;34m=\u001b[0m  \u001b[0mdata_fullfield_\u001b[0m\u001b[0;34m\u001b[0m\u001b[0;34m\u001b[0m\u001b[0m\n\u001b[0m\u001b[1;32m    160\u001b[0m                 \u001b[0mretina_data\u001b[0m\u001b[0;34m[\u001b[0m\u001b[0mi\u001b[0m\u001b[0;34m,\u001b[0m \u001b[0;34m:\u001b[0m\u001b[0;34m]\u001b[0m  \u001b[0;34m=\u001b[0m  \u001b[0mself\u001b[0m\u001b[0;34m.\u001b[0m\u001b[0mretina\u001b[0m\u001b[0;34m.\u001b[0m\u001b[0mretina\u001b[0m\u001b[0;34m(\u001b[0m\u001b[0mdata_fullfield_\u001b[0m\u001b[0;34m)\u001b[0m\u001b[0;34m\u001b[0m\u001b[0;34m\u001b[0m\u001b[0m\n\u001b[1;32m    161\u001b[0m                 \u001b[0maccuracy_colliculus\u001b[0m\u001b[0;34m[\u001b[0m\u001b[0mi\u001b[0m\u001b[0;34m,\u001b[0m\u001b[0;34m:\u001b[0m\u001b[0;34m]\u001b[0m\u001b[0;34m,\u001b[0m \u001b[0m_\u001b[0m \u001b[0;34m=\u001b[0m \u001b[0mself\u001b[0m\u001b[0;34m.\u001b[0m\u001b[0mretina\u001b[0m\u001b[0;34m.\u001b[0m\u001b[0maccuracy_fullfield\u001b[0m\u001b[0;34m(\u001b[0m\u001b[0mself\u001b[0m\u001b[0;34m.\u001b[0m\u001b[0maccuracy_map\u001b[0m\u001b[0;34m,\u001b[0m \u001b[0mi_offset\u001b[0m\u001b[0;34m,\u001b[0m \u001b[0mj_offset\u001b[0m\u001b[0;34m)\u001b[0m\u001b[0;34m\u001b[0m\u001b[0;34m\u001b[0m\u001b[0m\n",
      "\u001b[0;31mIndexError\u001b[0m: index 5000 is out of bounds for axis 0 with size 5000"
     ]
    }
   ],
   "source": [
    "%run params.py scan"
   ]
  },
  {
   "cell_type": "markdown",
   "metadata": {},
   "source": [
    "## parameter scan"
   ]
  },
  {
   "cell_type": "code",
   "execution_count": 5,
   "metadata": {},
   "outputs": [],
   "source": [
    "def plot_accuracy(result, xmin=10, fig=None, ax=None, ylabel=None):\n",
    "    if fig is None: fig, ax = plt.subplots(figsize=(5, 5))\n",
    "    #ax.plot(result['accuracy'], result['value'], \"o\", color='blue')\n",
    "    # print(value, accuracy)\n",
    "    ax.hlines(y=result['value'], xmin=result['accuracy'], xmax=100, color='red')\n",
    "    ax.hlines(y=result['value'], xmin=xmin, xmax=result['accuracy'], color='skyblue')\n",
    "    ax.hlines(y=result['value'], xmin=result['p_low'], xmax=result['p_sup'], color='blue', alpha=1., lw=7)\n",
    "\n",
    "    if ylabel is None:\n",
    "        ylabel = parameter.capitalize()\n",
    "    ax.set_ylabel(ylabel)\n",
    "    #print( results[parameter]['value'] )\n",
    "    #print( np.min([np.float(k) for k in results[parameter]['value']]))\n",
    "    #ax.vlines(100, np.min(results[parameter]['value']), np.max(results[parameter]['value']), 'k', label='max')\n",
    "    ax.set_xlabel('Accuracy (%)')\n",
    "    # Only draw spine between the y-ticks\n",
    "    #ax.spines['left'].set_bounds(-1, 1)\n",
    "    # Hide the right and top spines\n",
    "    ax.spines['right'].set_visible(False)\n",
    "    ax.spines['top'].set_visible(False)\n",
    "    # Only show ticks on the left and bottom spines\n",
    "    ax.yaxis.set_ticks_position('left')\n",
    "    ax.xaxis.set_ticks_position('bottom')\n",
    "\n",
    "    return fig, ax"
   ]
  },
  {
   "cell_type": "code",
   "execution_count": 6,
   "metadata": {
    "ExecuteTime": {
     "end_time": "2018-10-02T14:43:40.994298Z",
     "start_time": "2018-10-02T14:43:36.893054Z"
    },
    "scrolled": false
   },
   "outputs": [
    {
     "name": "stdout",
     "output_type": "stream",
     "text": [
      "---> sf_0\n"
     ]
    },
    {
     "data": {
      "image/png": "[encoded data removed]",
      "text/plain": [
       "<Figure size 360x360 with 1 Axes>"
      ]
     },
     "metadata": {
      "needs_background": "light"
     },
     "output_type": "display_data"
    },
    {
     "name": "stdout",
     "output_type": "stream",
     "text": [
      "\n"
     ]
    }
   ],
   "source": [
    "figname_ = 'accuracy_'\n",
    "figname_ = ''\n",
    "\n",
    "tex = ''\n",
    "for parameter in results.keys():\n",
    "    print('--->',  parameter)\n",
    "    fig, ax = plot_accuracy(results[parameter])\n",
    "    plt.show()\n",
    "    if not figname_ == '':\n",
    "        fig_dir = './'\n",
    "        fig_ext = '.pdf'\n",
    "        fname = figname_ + parameter + fig_ext\n",
    "        tex += \"\\includegraphics[width=.0666\\linewidth]{\"+ fname + \"} \\n\"\n",
    "        fig.savefig(os.path.join(fig_dir, fname),\n",
    "                bbox_inches='tight', pad_inches=0)\n",
    "print(tex)"
   ]
  },
  {
   "cell_type": "markdown",
   "metadata": {},
   "source": [
    "# summary\n"
   ]
  },
  {
   "cell_type": "raw",
   "metadata": {},
   "source": [
    "%ls ../data/_tmp_scanning"
   ]
  },
  {
   "cell_type": "code",
   "execution_count": 7,
   "metadata": {},
   "outputs": [
    {
     "data": {
      "text/plain": [
       "dict_keys(['sf_0'])"
      ]
     },
     "execution_count": 7,
     "metadata": {},
     "output_type": "execute_result"
    }
   ],
   "source": [
    "results.keys()"
   ]
  },
  {
   "cell_type": "code",
   "execution_count": 8,
   "metadata": {},
   "outputs": [
    {
     "ename": "KeyError",
     "evalue": "'epochs_adam'",
     "output_type": "error",
     "traceback": [
      "\u001b[0;31m---------------------------------------------------------------------------\u001b[0m",
      "\u001b[0;31mKeyError\u001b[0m                                  Traceback (most recent call last)",
      "\u001b[0;32m<ipython-input-8-b7005088ee99>\u001b[0m in \u001b[0;36m<module>\u001b[0;34m\u001b[0m\n\u001b[1;32m      5\u001b[0m \u001b[0;32mfor\u001b[0m \u001b[0mi_row\u001b[0m\u001b[0;34m,\u001b[0m \u001b[0mparameters_\u001b[0m \u001b[0;32min\u001b[0m \u001b[0menumerate\u001b[0m\u001b[0;34m(\u001b[0m\u001b[0mparameters\u001b[0m\u001b[0;34m)\u001b[0m\u001b[0;34m:\u001b[0m\u001b[0;34m\u001b[0m\u001b[0;34m\u001b[0m\u001b[0m\n\u001b[1;32m      6\u001b[0m     \u001b[0;32mfor\u001b[0m \u001b[0max\u001b[0m\u001b[0;34m,\u001b[0m \u001b[0mparameter\u001b[0m \u001b[0;32min\u001b[0m \u001b[0mzip\u001b[0m\u001b[0;34m(\u001b[0m\u001b[0maxs\u001b[0m\u001b[0;34m[\u001b[0m\u001b[0mi_row\u001b[0m\u001b[0;34m]\u001b[0m\u001b[0;34m,\u001b[0m \u001b[0mparameters_\u001b[0m\u001b[0;34m)\u001b[0m\u001b[0;34m:\u001b[0m\u001b[0;34m\u001b[0m\u001b[0;34m\u001b[0m\u001b[0m\n\u001b[0;32m----> 7\u001b[0;31m         \u001b[0mfig\u001b[0m\u001b[0;34m,\u001b[0m \u001b[0max\u001b[0m \u001b[0;34m=\u001b[0m \u001b[0mplot_accuracy\u001b[0m\u001b[0;34m(\u001b[0m\u001b[0mresults\u001b[0m\u001b[0;34m[\u001b[0m\u001b[0mparameter\u001b[0m\u001b[0;34m]\u001b[0m\u001b[0;34m,\u001b[0m \u001b[0mxmin\u001b[0m\u001b[0;34m=\u001b[0m\u001b[0;36m10\u001b[0m\u001b[0;34m,\u001b[0m \u001b[0mfig\u001b[0m\u001b[0;34m=\u001b[0m\u001b[0mfig\u001b[0m\u001b[0;34m,\u001b[0m \u001b[0max\u001b[0m\u001b[0;34m=\u001b[0m\u001b[0max\u001b[0m\u001b[0;34m)\u001b[0m\u001b[0;34m\u001b[0m\u001b[0;34m\u001b[0m\u001b[0m\n\u001b[0m\u001b[1;32m      8\u001b[0m \u001b[0;34m\u001b[0m\u001b[0m\n\u001b[1;32m      9\u001b[0m \u001b[0;32mfor\u001b[0m \u001b[0max\u001b[0m\u001b[0;34m,\u001b[0m \u001b[0mtext\u001b[0m\u001b[0;34m,\u001b[0m \u001b[0mx_offset\u001b[0m\u001b[0;34m,\u001b[0m \u001b[0my_offset\u001b[0m \u001b[0;32min\u001b[0m \u001b[0;34m[\u001b[0m\u001b[0;34m[\u001b[0m\u001b[0maxs\u001b[0m\u001b[0;34m[\u001b[0m\u001b[0;36m0\u001b[0m\u001b[0;34m]\u001b[0m\u001b[0;34m[\u001b[0m\u001b[0;36m0\u001b[0m\u001b[0;34m]\u001b[0m\u001b[0;34m,\u001b[0m \u001b[0;34m'A'\u001b[0m\u001b[0;34m,\u001b[0m \u001b[0;34m-\u001b[0m\u001b[0;36m.35\u001b[0m\u001b[0;34m,\u001b[0m \u001b[0;36m.95\u001b[0m\u001b[0;34m]\u001b[0m\u001b[0;34m,\u001b[0m \u001b[0;34m[\u001b[0m\u001b[0maxs\u001b[0m\u001b[0;34m[\u001b[0m\u001b[0;36m0\u001b[0m\u001b[0;34m]\u001b[0m\u001b[0;34m[\u001b[0m\u001b[0;34m-\u001b[0m\u001b[0;36m1\u001b[0m\u001b[0;34m]\u001b[0m\u001b[0;34m,\u001b[0m \u001b[0;34m'B'\u001b[0m\u001b[0;34m,\u001b[0m \u001b[0;34m-\u001b[0m\u001b[0;36m.35\u001b[0m\u001b[0;34m,\u001b[0m \u001b[0;36m.95\u001b[0m\u001b[0;34m]\u001b[0m\u001b[0;34m,\u001b[0m \u001b[0;34m[\u001b[0m\u001b[0maxs\u001b[0m\u001b[0;34m[\u001b[0m\u001b[0;36m1\u001b[0m\u001b[0;34m]\u001b[0m\u001b[0;34m[\u001b[0m\u001b[0;36m0\u001b[0m\u001b[0;34m]\u001b[0m\u001b[0;34m,\u001b[0m \u001b[0;34m'C'\u001b[0m\u001b[0;34m,\u001b[0m \u001b[0;34m-\u001b[0m\u001b[0;36m.35\u001b[0m\u001b[0;34m,\u001b[0m \u001b[0;36m.95\u001b[0m\u001b[0;34m]\u001b[0m\u001b[0;34m]\u001b[0m\u001b[0;34m:\u001b[0m\u001b[0;34m\u001b[0m\u001b[0;34m\u001b[0m\u001b[0m\n",
      "\u001b[0;31mKeyError\u001b[0m: 'epochs_adam'"
     ]
    },
    {
     "data": {
      "image/png": "[encoded data removed]",
      "text/plain": [
       "<Figure size 1020.17x561.096 with 8 Axes>"
      ]
     },
     "metadata": {
      "needs_background": "light"
     },
     "output_type": "display_data"
    }
   ],
   "source": [
    "parameters = [['epochs_adam', 'dim1', 'dim2', 'N_azimuth'],\n",
    "              ['noise', 'offset_std', 'sf_0', 'B_sf']]  # '', 'lr', \n",
    "fig, axs = plt.subplots(len(parameters), len(parameters[0]), figsize = (figwidth, figwidth/len(parameters)*1.1), subplot_kw={})\n",
    "\n",
    "for i_row, parameters_ in enumerate(parameters):\n",
    "    for ax, parameter in zip(axs[i_row], parameters_):\n",
    "        fig, ax = plot_accuracy(results[parameter], xmin=10, fig=fig, ax=ax)\n",
    "\n",
    "for ax, text, x_offset, y_offset in [[axs[0][0], 'A', -.35, .95], [axs[0][-1], 'B', -.35, .95], [axs[1][0], 'C', -.35, .95]]:\n",
    "    ax.text(x_offset, y_offset, '(' + text + ')', fontsize=24,\n",
    "              bbox={'facecolor':'white','alpha':1,'edgecolor':'none','pad':1},\n",
    "              ha='left', va='center', transform=ax.transAxes) \n",
    "        \n",
    "plt.tight_layout()\n",
    "fig.savefig(figname + '.pdf', bbox_inches='tight', pad_inches=0.05)"
   ]
  },
  {
   "cell_type": "markdown",
   "metadata": {},
   "source": [
    "# post-processing"
   ]
  },
  {
   "cell_type": "code",
   "execution_count": null,
   "metadata": {
    "ExecuteTime": {
     "end_time": "2018-10-08T14:43:27.591507Z",
     "start_time": "2018-10-08T14:43:24.722160Z"
    }
   },
   "outputs": [],
   "source": [
    "!convert  -density {dpi_export} {figname}.pdf {figname}.jpg\n",
    "!convert  -density {dpi_export} {figname}.pdf {figname}.png\n",
    "#!convert  -density {dpi_export} -resize 5400  -units pixelsperinch -flatten  -compress lzw  -depth 8 {fname}.pdf {fname}.tiff"
   ]
  },
  {
   "cell_type": "code",
   "execution_count": null,
   "metadata": {
    "ExecuteTime": {
     "end_time": "2018-07-03T10:36:00.981927Z",
     "start_time": "2018-07-03T10:36:00.949864Z"
    }
   },
   "outputs": [],
   "source": [
    "from IPython.display import Image\n",
    "Image('{figname}.png'.format(figname=figname))"
   ]
  },
  {
   "cell_type": "code",
   "execution_count": null,
   "metadata": {
    "ExecuteTime": {
     "end_time": "2018-07-03T10:36:00.939193Z",
     "start_time": "2018-07-03T10:36:00.766218Z"
    }
   },
   "outputs": [],
   "source": [
    "!ls  -l {figname}*"
   ]
  }
 ],
 "metadata": {
  "kernelspec": {
   "display_name": "Python 3",
   "language": "python",
   "name": "python3"
  },
  "language_info": {
   "codemirror_mode": {
    "name": "ipython",
    "version": 3
   },
   "file_extension": ".py",
   "mimetype": "text/x-python",
   "name": "python",
   "nbconvert_exporter": "python",
   "pygments_lexer": "ipython3",
   "version": "3.7.3"
  }
 },
 "nbformat": 4,
 "nbformat_minor": 2
}
