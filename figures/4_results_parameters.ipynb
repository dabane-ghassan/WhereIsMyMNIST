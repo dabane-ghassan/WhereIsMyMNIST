{
 "cells": [
  {
   "cell_type": "markdown",
   "metadata": {},
   "source": [
    "This notebook introduces the problem addressed in this paper:\n",
    "\n",
    " - localizating an object in a large image\n",
    " - foveation\n",
    " - action (saccade)\n",
    " "
   ]
  },
  {
   "cell_type": "code",
   "execution_count": 1,
   "metadata": {
    "ExecuteTime": {
     "end_time": "2018-07-03T10:34:13.258190Z",
     "start_time": "2018-07-03T10:34:13.251661Z"
    },
    "collapsed": true
   },
   "outputs": [],
   "source": [
    "figname = '../paper/fig_params'"
   ]
  },
  {
   "cell_type": "code",
   "execution_count": 2,
   "metadata": {},
   "outputs": [
    {
     "name": "stdout",
     "output_type": "stream",
     "text": [
      "\n",
      "This notebook introduces the problem addressed in this paper:\n",
      "\n",
      " - localizating an object in a large image\n",
      " - foveation\n",
      " - action (saccade)\n",
      "       \n",
      "      \n",
      "Using filename= ../data/2019-03-15\n",
      "{'w': 28, 'minibatch_size': 100, 'train_batch_size': 600, 'test_batch_size': 1000, 'noise_batch_size': 1000, 'mean': 0.1307, 'std': 0.3081, 'N_pic': 128, 'offset_std': 30, 'offset_max': 35, 'noise': 1.0, 'contrast': 0.8, 'sf_0': 0.2, 'B_sf': 0.3, 'N_theta': 6, 'N_azimuth': 16, 'N_eccentricity': 10, 'N_phase': 2, 'rho': 1.41, 'bias_deconv': True, 'p_dropout': 0.5, 'dim1': 1000, 'dim2': 1000, 'lr': 0.0001, 'do_adam': True, 'bn1_bn_momentum': 0.0, 'bn2_bn_momentum': 0.0, 'momentum': 0.1, 'epochs': 10, 'num_processes': 1, 'no_cuda': True, 'log_interval': 100, 'verbose': 1, 'filename': '../data/2019-03-15', 'seed': 2019, 'N_cv': 20}\n",
      "Overwriting train.py\n",
      "2019-03-15T16:24:46+01:00\n",
      "\n",
      "CPython 3.7.2\n",
      "IPython 7.3.0\n",
      "\n",
      "numpy 1.16.2\n",
      "matplotlib 3.0.3\n",
      "torch 1.0.1.post2\n",
      "\n",
      "compiler   : Clang 10.0.0 (clang-1000.11.45.5)\n",
      "system     : Darwin\n",
      "release    : 18.2.0\n",
      "machine    : x86_64\n",
      "processor  : i386\n",
      "CPU cores  : 36\n",
      "interpreter: 64bit\n",
      "host name  : fortytwo\n",
      "Git hash   : 361a180b566c348a20c15d0666482168184796b1\n",
      "Git repo   : https://github.com/laurentperrinet/WhereIsMyMNIST\n",
      "Git branch : master\n"
     ]
    }
   ],
   "source": [
    "%run 0_parameters.ipynb"
   ]
  },
  {
   "cell_type": "code",
   "execution_count": 3,
   "metadata": {},
   "outputs": [
    {
     "name": "stdout",
     "output_type": "stream",
     "text": [
      "Overwriting params.py\n"
     ]
    }
   ],
   "source": [
    "%%writefile params.py\n",
    "import torch\n",
    "from main import init, MetaML\n",
    "\n",
    "opts = dict(filename='debug', verbose=0, log_interval=0)\n",
    "\n",
    "print(50*'-')\n",
    "print(' parameter scan')\n",
    "print(50*'-')\n",
    "\n",
    "if True:\n",
    "    print(50*'-')\n",
    "    print('Default parameters')\n",
    "    print(50*'-')\n",
    "    args = init(**opts)\n",
    "    from where import Where as ML\n",
    "    from what import WhatNet\n",
    "    ml = ML(args)\n",
    "    ml.main()\n",
    "\n",
    "    args = init(**opts)\n",
    "    mml = MetaML(args)\n",
    "    if torch.cuda.is_available():\n",
    "        mml.scan('no_cuda', [True, False])\n",
    "\n",
    "    args = init(**opts)\n",
    "    mml = MetaML(args)\n",
    "    mml.scan('bias_deconv', [True, False])\n",
    "   \n",
    "# for base in [2]:#, 8]:\n",
    "for base in [2, 8]:\n",
    "    print(50*'-')\n",
    "    print(' base=', base)\n",
    "    print(50*'-')\n",
    "\n",
    "    print(50*'-')\n",
    "    print(' parameter scan : data')\n",
    "    print(50*'-')\n",
    "    args = init(**opts)\n",
    "    mml = MetaML(args, base=base)\n",
    "    for parameter in ['sf_0', 'B_sf', 'offset_std', 'noise', 'contrast']:\n",
    "        mml.parameter_scan(parameter)\n",
    "        \n",
    "    # TODO:  'N_theta': 6, 'N_azimuth': 16, 'N_eccentricity': 10, 'rho': 1.41,\n",
    "\n",
    "    print(50*'-')\n",
    "    print(' parameter scan : network')\n",
    "    print(50*'-')\n",
    "    args = init(**opts)\n",
    "    mml = MetaML(args)\n",
    "    for parameter in ['dim1',\n",
    "                      'bn1_bn_momentum',\n",
    "                      'dim2',\n",
    "                      'bn2_bn_momentum',\n",
    "                      'p_dropout']:\n",
    "        mml.parameter_scan(parameter)\n",
    "\n",
    "    print(' parameter scan : learning ')\n",
    "    args = init(**opts)\n",
    "    mml = MetaML(args, base=base)\n",
    "    print(50*'-')\n",
    "    print('Using SGD')\n",
    "    print(50*'-')\n",
    "    for parameter in ['lr', 'momentum', 'minibatch_size', 'epochs']:\n",
    "        mml.parameter_scan(parameter)\n",
    "    print(50*'-')\n",
    "    print('Using ADAM')\n",
    "    print(50*'-')\n",
    "    args = init(**opts)\n",
    "    args.do_adam = True\n",
    "    mml = MetaML(args, tag='adam')\n",
    "    for parameter in ['lr', 'momentum', 'minibatch_size', 'epochs']:\n",
    "        mml.parameter_scan(parameter)\n",
    "\n"
   ]
  },
  {
   "cell_type": "code",
   "execution_count": null,
   "metadata": {},
   "outputs": [],
   "source": [
    "from where import Where as ML"
   ]
  },
  {
   "cell_type": "raw",
   "metadata": {},
   "source": [
    "%rm -fr ../data/_tmp_scanning"
   ]
  },
  {
   "cell_type": "code",
   "execution_count": null,
   "metadata": {},
   "outputs": [
    {
     "name": "stdout",
     "output_type": "stream",
     "text": [
      "--------------------------------------------------\n",
      " parameter scan\n",
      "--------------------------------------------------\n",
      "--------------------------------------------------\n",
      "Default parameters\n",
      "--------------------------------------------------\n"
     ]
    },
    {
     "name": "stderr",
     "output_type": "stream",
     "text": [
      "100%|██████████| 2/2 [00:08<00:00,  4.36s/it]\n"
     ]
    },
    {
     "name": "stdout",
     "output_type": "stream",
     "text": [
      "scanning over bias_deconv = [True, False]\n",
      "For parameter bias_deconv = True ,   currently locked with  ../data/_tmp_scanning/bias_deconv__True.npy_lock\n",
      "For parameter bias_deconv = False ,  "
     ]
    },
    {
     "name": "stderr",
     "output_type": "stream",
     "text": [
      "100%|██████████| 2/2 [00:08<00:00,  4.38s/it]\n",
      "100%|██████████| 2/2 [00:08<00:00,  4.44s/it]\n"
     ]
    },
    {
     "name": "stdout",
     "output_type": "stream",
     "text": [
      "Accuracy=18.3% +/- 1.2%  in 36.3 seconds\n",
      "--------------------------------------------------\n",
      " base= 2\n",
      "--------------------------------------------------\n",
      "--------------------------------------------------\n",
      " parameter scan : data\n",
      "--------------------------------------------------\n",
      "scanning over sf_0 = [0.1        0.11892071 0.14142136 0.16817928 0.2        0.23784142\n",
      " 0.28284271 0.33635857 0.4       ]\n",
      "For parameter sf_0 = 0.100 ,  "
     ]
    },
    {
     "name": "stderr",
     "output_type": "stream",
     "text": [
      "100%|██████████| 2/2 [00:08<00:00,  4.37s/it]\n",
      "100%|██████████| 2/2 [00:08<00:00,  4.30s/it]\n"
     ]
    },
    {
     "name": "stdout",
     "output_type": "stream",
     "text": [
      "Accuracy=17.7% +/- 0.7%  in 39.1 seconds\n",
      "For parameter sf_0 = 0.119 ,  "
     ]
    },
    {
     "name": "stderr",
     "output_type": "stream",
     "text": [
      "100%|██████████| 2/2 [00:08<00:00,  4.33s/it]\n",
      "100%|██████████| 2/2 [00:08<00:00,  4.31s/it]\n"
     ]
    },
    {
     "name": "stdout",
     "output_type": "stream",
     "text": [
      "Accuracy=18.8% +/- 2.2%  in 38.8 seconds\n",
      "For parameter sf_0 = 0.141 ,  "
     ]
    },
    {
     "name": "stderr",
     "output_type": "stream",
     "text": [
      "100%|██████████| 2/2 [00:08<00:00,  4.31s/it]\n",
      "100%|██████████| 2/2 [00:08<00:00,  4.36s/it]\n"
     ]
    },
    {
     "name": "stdout",
     "output_type": "stream",
     "text": [
      "Accuracy=16.9% +/- 1.5%  in 40.1 seconds\n",
      "For parameter sf_0 = 0.168 ,  "
     ]
    },
    {
     "name": "stderr",
     "output_type": "stream",
     "text": [
      " 50%|█████     | 1/2 [00:04<00:04,  4.50s/it]"
     ]
    }
   ],
   "source": [
    "%run params.py"
   ]
  },
  {
   "cell_type": "markdown",
   "metadata": {},
   "source": [
    "# summary\n"
   ]
  },
  {
   "cell_type": "code",
   "execution_count": null,
   "metadata": {},
   "outputs": [],
   "source": [
    "%ls ../data/_tmp_scanning"
   ]
  },
  {
   "cell_type": "raw",
   "metadata": {},
   "source": [
    "fig = plt.figure(figsize = (figwidth, figwidth/2.5))#1.618))\n",
    "ax_A = plt.subplot(1, 4, 1) \n",
    "data_retina = r.retina(full[idx]['data_fullfield'])\n",
    "ax_A = where.retina.show(ax_A, r.retina_invert(data_retina))\n",
    "    \n",
    "ax_B = plt.subplot(2, 4, 2, projection='polar', autoscale_on=False)\n",
    "ax_B.pcolor(r.theta, r.log_r, accuracy_colliculus[idx, :].numpy().reshape((args.N_azimuth, args.N_eccentricity)))\n",
    "ax_B.grid('off')\n",
    "plt.title('True', fontsize = 14)\n",
    "ax_B.set_yticklabels([])\n",
    "ax_B.set_xticklabels([])\n",
    "\n",
    "ax_Bb = plt.subplot(2, 4, 6, projection='polar')\n",
    "ax_Bb.pcolor(r.theta, r.log_r, pred_accuracy_colliculus[idx, :].reshape((args.N_azimuth, args.N_eccentricity)))\n",
    "ax_Bb.set_title('Predicted', fontsize = 14)\n",
    "ax_Bb.set_yticklabels([])\n",
    "ax_Bb.set_xticklabels([])\n",
    "\n",
    "\n",
    "ax_C = plt.subplot(1, 4, 3)\n",
    "data_fullfield = d.place_object(data[idx, 0, :, :].numpy(), 0, 0)\n",
    "input_vector  =  r.retina(data_fullfield)\n",
    "ax_C = r.show(ax_C, r.retina_invert(input_vector))\n",
    "i_pred, j_pred = where.index_prediction(pred_accuracy_colliculus[idx, :])\n",
    "ax_A.arrow(64.5, 64.5, -i_pred, -j_pred, width=.3, color='r', head_width=4., length_includes_head=True, edgecolor='k')\n",
    "\n",
    "ax_D = plt.subplot(1, 4, 4)\n",
    "width = .8*np.abs(np.gradient(eccentricities)[0])\n",
    "ax_D.bar(eccentricities, accuracy_mean, width=width, alpha = .5, label = 'One saccade')\n",
    "ax_D.plot([eccentricities.min()-width/2, eccentricities.max()+width/2], [0.1]*2, ':', c='k', label = 'Baseline')\n",
    "ax_D.plot([eccentricities.min()-width/2, eccentricities.max()+width/2], [acc_max]*2, ':', c='orange', label = 'Max')\n",
    "\n",
    "plt.legend(loc='upper right')\n",
    "ax_D.set_xlabel('Target eccentricity (pixels)', fontsize = 12)\n",
    "ax_D.set_xticks(eccentricities)\n",
    "ax_D.set_xticklabels(['%.1f' % d for  d in eccentricities])\n",
    "ax_D.set_ylim([0,1])\n",
    "\n",
    "for ax, text in [[ax_A, 'DIS'], [ax_C, 'SAC']]:\n",
    "    ax.text(4, 15, text, fontsize=24,\n",
    "          bbox={'facecolor':'white','alpha':1,'edgecolor':'none','pad':1},\n",
    "          ha='left', va='center') \n",
    "\n",
    "offset = -.015\n",
    "for ax, text, x_offset, y_offset in [[ax_A, 'A', offset, 1.15], [ax_B, 'B', -.25, 1.225], [ax_C, 'C', offset, 1.15], [ax_D, 'D', offset, 1.15]]:\n",
    "    ax.text(x_offset, y_offset, '(' + text + ')', fontsize=24,\n",
    "              bbox={'facecolor':'white','alpha':1,'edgecolor':'none','pad':1},\n",
    "              ha='left', va='center', transform=ax.transAxes) \n",
    "\n",
    "# pos : [left, bottom, width, height] =    The new position of the in `.Figure` coordinates.    \n",
    "plt.tight_layout()\n",
    "ax_A.set_position([0.025, 0.1, .3, .45])\n",
    "ax_B.set_position( [0.24, 0.375, .2, 0.2])\n",
    "ax_Bb.set_position([0.24, 0.1, .2, 0.2])\n",
    "ax_C.set_position([0.35, .1, .3, .45])\n",
    "ax_D.set_position([0.65, .1, .3, .45])\n",
    "fig.savefig(figname + '.pdf', bbox_inches='tight', pad_inches=0.1)"
   ]
  },
  {
   "cell_type": "markdown",
   "metadata": {},
   "source": [
    "# post-processing"
   ]
  },
  {
   "cell_type": "raw",
   "metadata": {
    "ExecuteTime": {
     "end_time": "2018-10-08T14:43:27.591507Z",
     "start_time": "2018-10-08T14:43:24.722160Z"
    }
   },
   "source": [
    "!convert  -density {dpi_export} {figname}.pdf {figname}.jpg\n",
    "!convert  -density {dpi_export} {figname}.pdf {figname}.png\n",
    "#!convert  -density {dpi_export} -resize 5400  -units pixelsperinch -flatten  -compress lzw  -depth 8 {fname}.pdf {fname}.tiff"
   ]
  },
  {
   "cell_type": "raw",
   "metadata": {
    "ExecuteTime": {
     "end_time": "2018-07-03T10:36:00.981927Z",
     "start_time": "2018-07-03T10:36:00.949864Z"
    }
   },
   "source": [
    "from IPython.display import Image\n",
    "Image('{figname}.png'.format(figname=figname))"
   ]
  },
  {
   "cell_type": "code",
   "execution_count": null,
   "metadata": {
    "ExecuteTime": {
     "end_time": "2018-07-03T10:36:00.939193Z",
     "start_time": "2018-07-03T10:36:00.766218Z"
    }
   },
   "outputs": [],
   "source": [
    "!ls  -l {figname}*"
   ]
  }
 ],
 "metadata": {
  "kernelspec": {
   "display_name": "Python 3",
   "language": "python",
   "name": "python3"
  },
  "language_info": {
   "codemirror_mode": {
    "name": "ipython",
    "version": 3
   },
   "file_extension": ".py",
   "mimetype": "text/x-python",
   "name": "python",
   "nbconvert_exporter": "python",
   "pygments_lexer": "ipython3",
   "version": "3.7.2"
  }
 },
 "nbformat": 4,
 "nbformat_minor": 2
}
