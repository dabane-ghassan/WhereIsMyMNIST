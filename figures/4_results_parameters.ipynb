{
 "cells": [
  {
   "cell_type": "markdown",
   "metadata": {},
   "source": [
    "This notebook introduces the problem addressed in this paper:\n",
    "\n",
    " - localizating an object in a large image\n",
    " - foveation\n",
    " - action (saccade)\n",
    " "
   ]
  },
  {
   "cell_type": "code",
   "execution_count": 1,
   "metadata": {
    "ExecuteTime": {
     "end_time": "2018-07-03T10:34:13.258190Z",
     "start_time": "2018-07-03T10:34:13.251661Z"
    },
    "collapsed": true
   },
   "outputs": [],
   "source": [
    "figname = '../paper/fig_params'"
   ]
  },
  {
   "cell_type": "code",
   "execution_count": 2,
   "metadata": {},
   "outputs": [
    {
     "name": "stdout",
     "output_type": "stream",
     "text": [
      "\n",
      "This notebook introduces the problem addressed in this paper:\n",
      "\n",
      " - localizating an object in a large image\n",
      " - foveation\n",
      " - action (saccade)\n",
      "       \n",
      "      \n",
      "Using filename= ../data/2019-03-21\n",
      "{'w': 28, 'minibatch_size': 100, 'train_batch_size': 50000, 'test_batch_size': 5000, 'noise_batch_size': 1000, 'mean': 0.1307, 'std': 0.3081, 'N_pic': 128, 'offset_std': 30, 'offset_max': 34, 'noise': 1.0, 'contrast': 1.0, 'sf_0': 0.2, 'B_sf': 0.3, 'N_theta': 6, 'N_azimuth': 16, 'N_eccentricity': 10, 'N_phase': 2, 'rho': 1.41, 'bias_deconv': True, 'p_dropout': 0.0, 'dim1': 500, 'dim2': 2000, 'lr': 0.001, 'do_adam': True, 'bn1_bn_momentum': 0.5, 'bn2_bn_momentum': 0.2, 'momentum': 0.3, 'epochs': 25, 'num_processes': 1, 'no_cuda': True, 'log_interval': 100, 'verbose': 1, 'filename': '../data/2019-03-21', 'seed': 2019, 'N_cv': 4, 'do_compute': True}\n",
      "Overwriting train.py\n",
      "2019-03-21T16:34:38+01:00\n",
      "\n",
      "CPython 3.7.2\n",
      "IPython 7.3.0\n",
      "\n",
      "numpy 1.16.2\n",
      "matplotlib 3.0.3\n",
      "torch 1.0.1.post2\n",
      "\n",
      "compiler   : Clang 10.0.0 (clang-1000.11.45.5)\n",
      "system     : Darwin\n",
      "release    : 18.2.0\n",
      "machine    : x86_64\n",
      "processor  : i386\n",
      "CPU cores  : 4\n",
      "interpreter: 64bit\n",
      "host name  : ekla\n",
      "Git hash   : 3c768b4da45a664eaed7790539b720c1cb006f4d\n",
      "Git repo   : https://github.com/laurentperrinet/WhereIsMyMNIST\n",
      "Git branch : master\n"
     ]
    }
   ],
   "source": [
    "%run 0_parameters.ipynb"
   ]
  },
  {
   "cell_type": "code",
   "execution_count": 3,
   "metadata": {},
   "outputs": [
    {
     "name": "stdout",
     "output_type": "stream",
     "text": [
      "Overwriting params.py\n"
     ]
    }
   ],
   "source": [
    "%%writefile params.py\n",
    "import os\n",
    "import torch\n",
    "from main import init, MetaML\n",
    "\n",
    "import sys\n",
    "opts = dict(filename='../data/2019-03-16', verbose=0, log_interval=0, do_compute=False  if len(sys.argv) > 1 else True)\n",
    "#opts = dict(filename='debug', verbose=0, log_interval=0)\n",
    "\n",
    "print(50*'-')\n",
    "print(' parameter scan')\n",
    "print(50*'-')\n",
    "\n",
    "if True:\n",
    "    args = init(**opts)\n",
    "    args.filename = '../data/2019-03-19'\n",
    "    filename_train = args.filename + '_train.pt'\n",
    "    if not(os.path.isfile(filename_train + '_lock')):\n",
    "        open(filename_train + '_lock', 'w').close()\n",
    "        print(50*'-')\n",
    "        print('Default parameters')\n",
    "        print(50*'-')\n",
    "        from where import Where as ML\n",
    "        from what import WhatNet\n",
    "        ml = ML(args)\n",
    "        ml.train(path=filename_train)\n",
    "        # ml.main(path=args.filename)\n",
    "        os.remove(filename_train + '_lock')\n",
    "\n",
    "if True:\n",
    "    args = init(**opts)\n",
    "    mml = MetaML(args)\n",
    "    if torch.cuda.is_available():\n",
    "        mml.scan('no_cuda', [True, False])\n",
    "\n",
    "    args = init(**opts)\n",
    "    mml = MetaML(args)\n",
    "    mml.scan('bias_deconv', [True, False])\n",
    "\n",
    "results = {}\n",
    "    \n",
    "def update_results(results, parameter, accuracies):\n",
    "    if not parameter in results.keys(): results[parameter] = dict(value=[], accuracy=[])\n",
    "    for value in accuracies.keys():\n",
    "        results[parameter]['value'].append(value)\n",
    "        results[parameter]['accuracy'].append(accuracies[value][:-1].mean()*100)\n",
    "    return results\n",
    "            \n",
    "for base in [2, 8] if not args.filename == '../data/debug' else [2]:\n",
    "    print(50*'-')\n",
    "    print(' base=', base)\n",
    "    print(50*'-')\n",
    "\n",
    "    print(50*'-')\n",
    "    print(' parameter scan : data')\n",
    "    print(50*'-')\n",
    "    args = init(**opts)\n",
    "    mml = MetaML(args, base=base)\n",
    "    for parameter in ['sf_0', 'B_sf', 'offset_std', 'contrast']: # , 'noise'\n",
    "        accuracies = mml.parameter_scan(parameter)\n",
    "        results = update_results(results, parameter, accuracies)\n",
    "        \n",
    "    print(50*'-')\n",
    "    print(' parameter scan : network')\n",
    "    print(50*'-')\n",
    "    args = init(**opts)\n",
    "    mml = MetaML(args)\n",
    "    for parameter in ['dim1',\n",
    "                      'bn1_bn_momentum',\n",
    "                      'dim2',\n",
    "                      'bn2_bn_momentum',\n",
    "                      'p_dropout']:\n",
    "        accuracies = mml.parameter_scan(parameter)\n",
    "        results = update_results(results, parameter, accuracies)\n",
    "\n",
    "    print(' parameter scan : learning ')\n",
    "    args = init(**opts)\n",
    "    mml = MetaML(args, base=base)\n",
    "    print(50*'-')\n",
    "    print('Using SGD')\n",
    "    print(50*'-')\n",
    "    for parameter in ['lr', 'momentum', 'minibatch_size', 'epochs']:\n",
    "        mml.parameter_scan(parameter)\n",
    "    print(50*'-')\n",
    "    print('Using ADAM')\n",
    "    print(50*'-')\n",
    "    args = init(**opts)\n",
    "    args.do_adam = True\n",
    "    mml = MetaML(args, tag='adam')\n",
    "    for parameter in ['lr', 'momentum', 'minibatch_size', 'epochs']:\n",
    "        accuracies = mml.parameter_scan(parameter)\n",
    "        results = update_results(results, parameter, accuracies)\n",
    "\n",
    "    print(50*'-')\n",
    "    print(' parameter scan : retina')\n",
    "    print(50*'-')\n",
    "    args = init(**opts)\n",
    "    mml = MetaML(args)\n",
    "    for parameter in ['N_theta',\n",
    "                      'N_azimuth',\n",
    "                      'N_eccentricity',\n",
    "                      'rho']:\n",
    "        accuracies = mml.parameter_scan(parameter)\n",
    "        results = update_results(results, parameter, accuracies)\n",
    "        "
   ]
  },
  {
   "cell_type": "raw",
   "metadata": {},
   "source": [
    "%rm -fr ../data/_tmp_scanning"
   ]
  },
  {
   "cell_type": "code",
   "execution_count": 4,
   "metadata": {},
   "outputs": [
    {
     "name": "stdout",
     "output_type": "stream",
     "text": [
      "--------------------------------------------------\n",
      " parameter scan\n",
      "--------------------------------------------------\n",
      "scanning over bias_deconv = [True, False]\n",
      "For parameter bias_deconv = True ,  Accuracy=70.5% +/- 0.0%  in 6606.7 seconds\n",
      "For parameter bias_deconv = False ,  Accuracy=70.3% +/- 0.0%  in 6620.0 seconds\n",
      "--------------------------------------------------\n",
      " base= 2\n",
      "--------------------------------------------------\n",
      "--------------------------------------------------\n",
      " parameter scan : data\n",
      "--------------------------------------------------\n",
      "scanning over sf_0 = [0.1        0.11892071 0.14142136 0.16817928 0.2        0.23784142\n",
      " 0.28284271 0.33635857 0.4       ]\n",
      "For parameter sf_0 = 0.100 ,  Accuracy=65.0% +/- 0.3%  in 8965.4 seconds\n",
      "For parameter sf_0 = 0.119 ,  Accuracy=66.0% +/- 0.1%  in 9037.2 seconds\n",
      "For parameter sf_0 = 0.141 ,  Accuracy=66.9% +/- 0.3%  in 9129.4 seconds\n",
      "For parameter sf_0 = 0.168 ,  Accuracy=69.0% +/- 0.3%  in 9363.4 seconds\n",
      "For parameter sf_0 = 0.200 ,  Accuracy=70.5% +/- 0.0%  in 6655.0 seconds\n",
      "For parameter sf_0 = 0.238 ,  Accuracy=71.2% +/- 0.0%  in 9485.5 seconds\n",
      "For parameter sf_0 = 0.283 ,  Accuracy=71.6% +/- 0.1%  in 9515.6 seconds\n",
      "For parameter sf_0 = 0.336 ,  Accuracy=72.6% +/- 0.1%  in 9429.7 seconds\n",
      "For parameter sf_0 = 0.400 ,  Accuracy=73.7% +/- 0.3%  in 9501.2 seconds\n",
      "accuracies= {0.1: array([6.55200000e-01, 6.48400000e-01, 6.48400000e-01, 6.48400000e-01,\n",
      "       8.96540979e+03]), 0.11892071150027211: array([6.58400000e-01, 6.60200000e-01, 6.60200000e-01, 6.60200000e-01,\n",
      "       9.03722502e+03]), 0.14142135623730953: array([6.73800000e-01, 6.67400000e-01, 6.67400000e-01, 6.67400000e-01,\n",
      "       9.12943563e+03]), 0.16817928305074292: array([6.95400000e-01, 6.88000000e-01, 6.88000000e-01, 6.88000000e-01,\n",
      "       9.36343305e+03]), 0.2: array([7.04600000e-01, 7.04600000e-01, 7.04600000e-01, 7.04600000e-01,\n",
      "       6.65498013e+03]), 0.23784142300054423: array([7.12200000e-01, 7.11400000e-01, 7.11400000e-01, 7.11400000e-01,\n",
      "       9.48554319e+03]), 0.28284271247461906: array([7.13600000e-01, 7.17000000e-01, 7.17000000e-01, 7.17000000e-01,\n",
      "       9.51564219e+03]), 0.33635856610148585: array([7.28200000e-01, 7.25000000e-01, 7.25000000e-01, 7.25000000e-01,\n",
      "       9.42972235e+03]), 0.4: array([7.42400000e-01, 7.35800000e-01, 7.35800000e-01, 7.35800000e-01,\n",
      "       9.50118525e+03])}\n",
      "scanning over B_sf = [0.15       0.17838107 0.21213203 0.25226892 0.3        0.35676213\n",
      " 0.42426407 0.50453785 0.6       ]\n",
      "For parameter B_sf = 0.150 ,  Accuracy=70.4% +/- 0.1%  in 9579.4 seconds\n",
      "For parameter B_sf = 0.178 ,  Accuracy=70.0% +/- 0.1%  in 9542.8 seconds\n",
      "For parameter B_sf = 0.212 ,  Accuracy=70.2% +/- 0.0%  in 9547.6 seconds\n",
      "For parameter B_sf = 0.252 ,  Accuracy=70.3% +/- 0.1%  in 9556.8 seconds\n",
      "For parameter B_sf = 0.300 ,  Accuracy=70.5% +/- 0.0%  in 6158.8 seconds\n",
      "For parameter B_sf = 0.357 ,  Accuracy=69.7% +/- 0.0%  in 8518.7 seconds\n",
      "For parameter B_sf = 0.424 ,  Accuracy=69.4% +/- 0.1%  in 8502.7 seconds\n",
      "For parameter B_sf = 0.505 ,  Accuracy=68.7% +/- 0.0%  in 8437.0 seconds\n",
      "For parameter B_sf = 0.600 ,  Accuracy=68.1% +/- 0.3%  in 8404.3 seconds\n",
      "accuracies= {0.15: array([7.01600000e-01, 7.04200000e-01, 7.04200000e-01, 7.04200000e-01,\n",
      "       9.57942219e+03]), 0.17838106725040814: array([7.02200000e-01, 6.98800000e-01, 6.98800000e-01, 6.98800000e-01,\n",
      "       9.54275484e+03]), 0.21213203435596426: array([7.02000000e-01, 7.02400000e-01, 7.02400000e-01, 7.02400000e-01,\n",
      "       9.54759693e+03]), 0.25226892457611433: array([7.01600000e-01, 7.03000000e-01, 7.03000000e-01, 7.03000000e-01,\n",
      "       9.55684518e+03]), 0.3: array([7.04600000e-01, 7.04600000e-01, 7.04600000e-01, 7.04600000e-01,\n",
      "       6.15878713e+03]), 0.3567621345008163: array([6.98000000e-01, 6.97000000e-01, 6.97000000e-01, 6.97000000e-01,\n",
      "       8.51869307e+03]), 0.4242640687119285: array([6.95600000e-01, 6.93600000e-01, 6.93600000e-01, 6.93600000e-01,\n",
      "       8.50270601e+03]), 0.5045378491522287: array([6.87000000e-01, 6.86400000e-01, 6.86400000e-01, 6.86400000e-01,\n",
      "       8.43698801e+03]), 0.6: array([6.85800000e-01, 6.78800000e-01, 6.78800000e-01, 6.78800000e-01,\n",
      "       8.40432824e+03])}\n",
      "scanning over offset_std = [15, 17, 21, 25, 30, 35, 42, 50, 60]\n",
      "For parameter offset_std = 15 ,  Accuracy=80.9% +/- 0.3%  in 8660.1 seconds\n",
      "For parameter offset_std = 17 ,  Accuracy=80.3% +/- 0.2%  in 8773.5 seconds\n",
      "For parameter offset_std = 21 ,  Accuracy=76.3% +/- 0.0%  in 8966.3 seconds\n",
      "For parameter offset_std = 25 ,  Accuracy=73.3% +/- 0.2%  in 8845.5 seconds\n",
      "For parameter offset_std = 30 ,  Accuracy=70.5% +/- 0.0%  in 6451.3 seconds\n",
      "For parameter offset_std = 35 ,  Accuracy=66.6% +/- 0.3%  in 8954.3 seconds\n",
      "For parameter offset_std = 42 ,  Accuracy=62.5% +/- 0.3%  in 9041.5 seconds\n",
      "For parameter offset_std = 50 ,  Accuracy=59.1% +/- 0.2%  in 8921.6 seconds\n",
      "For parameter offset_std = 60 ,  Accuracy=55.1% +/- 0.7%  in 8823.3 seconds\n",
      "accuracies= {15: array([8.15400000e-01, 8.07400000e-01, 8.07400000e-01, 8.07400000e-01,\n",
      "       8.66007443e+03]), 17: array([8.07000000e-01, 8.02200000e-01, 8.02200000e-01, 8.02200000e-01,\n",
      "       8.77350347e+03]), 21: array([7.63400000e-01, 7.62800000e-01, 7.62800000e-01, 7.62800000e-01,\n",
      "       8.96625253e+03]), 25: array([7.29000000e-01, 7.34200000e-01, 7.34200000e-01, 7.34200000e-01,\n",
      "       8.84553843e+03]), 30: array([7.04600000e-01, 7.04600000e-01, 7.04600000e-01, 7.04600000e-01,\n",
      "       6.45132655e+03]), 35: array([6.61200000e-01, 6.67800000e-01, 6.67800000e-01, 6.67800000e-01,\n",
      "       8.95426037e+03]), 42: array([6.30000000e-01, 6.23200000e-01, 6.23200000e-01, 6.23200000e-01,\n",
      "       9.04148247e+03]), 50: array([5.94000000e-01, 5.89800000e-01, 5.89800000e-01, 5.89800000e-01,\n",
      "       8.92160608e+03]), 60: array([5.63000000e-01, 5.47200000e-01, 5.47200000e-01, 5.47200000e-01,\n",
      "       8.82326525e+03])}\n",
      "scanning over contrast = [0.5        0.59460356 0.70710678 0.84089642 1.         1.18920712\n",
      " 1.41421356 1.68179283 2.        ]\n",
      "For parameter contrast = 0.500 ,  Accuracy=44.5% +/- 0.1%  in 8565.5 seconds\n",
      "For parameter contrast = 0.595 ,  Accuracy=53.1% +/- 0.2%  in 8404.5 seconds\n",
      "For parameter contrast = 0.707 ,  Accuracy=60.8% +/- 0.1%  in 8065.2 seconds\n",
      "For parameter contrast = 0.841 ,  Accuracy=66.0% +/- 0.3%  in 7902.3 seconds\n",
      "For parameter contrast = 1.000 ,  Accuracy=70.5% +/- 0.0%  in 5841.3 seconds\n",
      "For parameter contrast = 1.189 ,  Accuracy=73.4% +/- 0.2%  in 7376.1 seconds\n",
      "For parameter contrast = 1.414 ,  Accuracy=75.2% +/- 0.2%  in 7104.7 seconds\n",
      "For parameter contrast = 1.682 ,  Accuracy=76.2% +/- 0.1%  in 7061.9 seconds\n",
      "For parameter contrast = 2.000 ,  Accuracy=76.4% +/- 0.1%  in 7021.1 seconds\n",
      "accuracies= {0.5: array([4.46400000e-01, 4.44000000e-01, 4.44000000e-01, 4.44000000e-01,\n",
      "       8.56545784e+03]), 0.5946035575013605: array([5.34800000e-01, 5.29200000e-01, 5.29200000e-01, 5.29200000e-01,\n",
      "       8.40450031e+03]), 0.7071067811865476: array([6.06800000e-01, 6.08400000e-01, 6.08400000e-01, 6.08400000e-01,\n",
      "       8.06517939e+03]), 0.8408964152537145: array([6.66200000e-01, 6.58600000e-01, 6.58600000e-01, 6.58600000e-01,\n",
      "       7.90228746e+03]), 1.0: array([7.04600000e-01, 7.04600000e-01, 7.04600000e-01, 7.04600000e-01,\n",
      "       5.84133182e+03]), 1.189207115002721: array([7.298000e-01, 7.352000e-01, 7.352000e-01, 7.352000e-01,\n",
      "       7.376099e+03]), 1.4142135623730951: array([7.48400000e-01, 7.52600000e-01, 7.52600000e-01, 7.52600000e-01,\n",
      "       7.10468394e+03]), 1.681792830507429: array([7.60600000e-01, 7.62000000e-01, 7.62000000e-01, 7.62000000e-01,\n",
      "       7.06191711e+03]), 2.0: array([7.65400000e-01, 7.63000000e-01, 7.63000000e-01, 7.63000000e-01,\n",
      "       7.02106322e+03])}\n",
      "--------------------------------------------------\n",
      " parameter scan : network\n",
      "--------------------------------------------------\n",
      "scanning over dim1 = [250, 297, 353, 420, 500, 594, 707, 840, 1000]\n",
      "For parameter dim1 = 250 ,  Accuracy=70.1% +/- 0.0%  in 4520.7 seconds\n",
      "For parameter dim1 = 297 ,  Accuracy=70.3% +/- 0.0%  in 3953.0 seconds\n",
      "For parameter dim1 = 353 ,  Accuracy=69.9% +/- 0.0%  in 4598.9 seconds\n",
      "For parameter dim1 = 420 ,  Accuracy=70.2% +/- 0.0%  in 4962.5 seconds\n",
      "For parameter dim1 = 500 ,  Accuracy=70.5% +/- 0.0%  in 4955.2 seconds\n",
      "For parameter dim1 = 594 ,  Accuracy=70.4% +/- 0.0%  in 5557.4 seconds\n",
      "For parameter dim1 = 707 ,  Accuracy=70.6% +/- 0.0%  in 6336.6 seconds\n",
      "For parameter dim1 = 840 ,  Accuracy=70.2% +/- 0.0%  in 6972.2 seconds\n",
      "For parameter dim1 = 1000 ,  Accuracy=70.6% +/- 0.0%  in 7999.7 seconds\n",
      "accuracies= {250: array([7.00800000e-01, 7.00800000e-01, 7.00800000e-01, 7.00800000e-01,\n",
      "       4.52066039e+03]), 297: array([7.0300000e-01, 7.0300000e-01, 7.0300000e-01, 7.0300000e-01,\n",
      "       3.9530212e+03]), 353: array([6.98600000e-01, 6.98600000e-01, 6.98600000e-01, 6.98600000e-01,\n",
      "       4.59888863e+03]), 420: array([7.02200000e-01, 7.02200000e-01, 7.02200000e-01, 7.02200000e-01,\n",
      "       4.96254976e+03]), 500: array([7.04600000e-01, 7.04600000e-01, 7.04600000e-01, 7.04600000e-01,\n",
      "       4.95524322e+03]), 594: array([7.03800000e-01, 7.03800000e-01, 7.03800000e-01, 7.03800000e-01,\n",
      "       5.55740878e+03]), 707: array([7.0600000e-01, 7.0600000e-01, 7.0600000e-01, 7.0600000e-01,\n",
      "       6.3366119e+03]), 840: array([7.01600000e-01, 7.01600000e-01, 7.01600000e-01, 7.01600000e-01,\n",
      "       6.97221631e+03]), 1000: array([7.06400000e-01, 7.06400000e-01, 7.06400000e-01, 7.06400000e-01,\n",
      "       7.99973872e+03])}\n",
      "scanning over bn1_bn_momentum = [0.    0.125 0.25  0.375 0.5   0.625 0.75  0.875 1.   ]\n",
      "For parameter bn1_bn_momentum = 0.000 ,  Accuracy=70.7% +/- 0.0%  in 5875.4 seconds\n",
      "For parameter bn1_bn_momentum = 0.125 ,  Accuracy=70.3% +/- 0.0%  in 4978.7 seconds\n",
      "For parameter bn1_bn_momentum = 0.250 ,  Accuracy=70.5% +/- 0.0%  in 4987.6 seconds\n",
      "For parameter bn1_bn_momentum = 0.375 ,  Accuracy=70.5% +/- 0.0%  in 4980.6 seconds\n",
      "For parameter bn1_bn_momentum = 0.500 ,  Accuracy=70.5% +/- 0.0%  in 4987.1 seconds\n",
      "For parameter bn1_bn_momentum = 0.625 ,  Accuracy=70.5% +/- 0.0%  in 4975.4 seconds\n",
      "For parameter bn1_bn_momentum = 0.750 ,  Accuracy=70.6% +/- 0.0%  in 4980.4 seconds\n",
      "For parameter bn1_bn_momentum = 0.875 ,  Accuracy=70.6% +/- 0.0%  in 4991.5 seconds\n",
      "For parameter bn1_bn_momentum = 1.000 ,  Accuracy=24.6% +/- 0.0%  in 4978.0 seconds\n",
      "accuracies= {0.0: array([7.06800000e-01, 7.06800000e-01, 7.06800000e-01, 7.06800000e-01,\n",
      "       5.87537592e+03]), 0.125: array([7.03400000e-01, 7.03400000e-01, 7.03400000e-01, 7.03400000e-01,\n",
      "       4.97873615e+03]), 0.25: array([7.05200000e-01, 7.05200000e-01, 7.05200000e-01, 7.05200000e-01,\n",
      "       4.98758706e+03]), 0.375: array([7.050000e-01, 7.050000e-01, 7.050000e-01, 7.050000e-01,\n",
      "       4.980558e+03]), 0.5: array([7.04600000e-01, 7.04600000e-01, 7.04600000e-01, 7.04600000e-01,\n",
      "       4.98710649e+03]), 0.625: array([7.04600000e-01, 7.04600000e-01, 7.04600000e-01, 7.04600000e-01,\n",
      "       4.97539138e+03]), 0.75: array([7.06200000e-01, 7.06200000e-01, 7.06200000e-01, 7.06200000e-01,\n",
      "       4.98043735e+03]), 0.875: array([7.05800000e-01, 7.05800000e-01, 7.05800000e-01, 7.05800000e-01,\n",
      "       4.99149017e+03]), 1.0: array([2.45800000e-01, 2.45800000e-01, 2.45800000e-01, 2.45800000e-01,\n",
      "       4.97803177e+03])}\n",
      "scanning over dim2 = [1000, 1189, 1414, 1681, 2000, 2378, 2828, 3363, 4000]\n",
      "For parameter dim2 = 1000 ,  Accuracy=69.6% +/- 0.0%  in 3609.7 seconds\n",
      "For parameter dim2 = 1189 ,  Accuracy=70.7% +/- 0.0%  in 3946.2 seconds\n",
      "For parameter dim2 = 1414 ,  Accuracy=69.8% +/- 0.0%  in 4250.8 seconds\n",
      "For parameter dim2 = 1681 ,  Accuracy=70.6% +/- 0.0%  in 4676.4 seconds\n",
      "For parameter dim2 = 2000 ,  Accuracy=70.5% +/- 0.0%  in 5018.2 seconds\n",
      "For parameter dim2 = 2378 ,  Accuracy=70.0% +/- 0.0%  in 6116.7 seconds\n",
      "For parameter dim2 = 2828 ,  Accuracy=69.2% +/- 0.0%  in 6710.7 seconds\n",
      "For parameter dim2 = 3363 ,  Accuracy=70.1% +/- 0.0%  in 7884.1 seconds\n",
      "For parameter dim2 = 4000 ,  Accuracy=70.0% +/- 0.0%  in 8224.7 seconds\n",
      "accuracies= {1000: array([6.96200000e-01, 6.96200000e-01, 6.96200000e-01, 6.96200000e-01,\n",
      "       3.60968247e+03]), 1189: array([7.06600000e-01, 7.06600000e-01, 7.06600000e-01, 7.06600000e-01,\n",
      "       3.94624128e+03]), 1414: array([6.9840000e-01, 6.9840000e-01, 6.9840000e-01, 6.9840000e-01,\n",
      "       4.2508081e+03]), 1681: array([7.06400000e-01, 7.06400000e-01, 7.06400000e-01, 7.06400000e-01,\n",
      "       4.67636329e+03]), 2000: array([7.04600000e-01, 7.04600000e-01, 7.04600000e-01, 7.04600000e-01,\n",
      "       5.01820768e+03]), 2378: array([7.0040000e-01, 7.0040000e-01, 7.0040000e-01, 7.0040000e-01,\n",
      "       6.1166561e+03]), 2828: array([6.92200000e-01, 6.92200000e-01, 6.92200000e-01, 6.92200000e-01,\n",
      "       6.71067017e+03]), 3363: array([7.00800000e-01, 7.00800000e-01, 7.00800000e-01, 7.00800000e-01,\n",
      "       7.88408646e+03]), 4000: array([7.00200000e-01, 7.00200000e-01, 7.00200000e-01, 7.00200000e-01,\n",
      "       8.22469337e+03])}\n",
      "scanning over bn2_bn_momentum = [0.    0.125 0.25  0.375 0.5   0.625 0.75  0.875 1.   ]\n",
      "For parameter bn2_bn_momentum = 0.000 ,  Accuracy=69.9% +/- 0.0%  in 3934.4 seconds\n",
      "For parameter bn2_bn_momentum = 0.125 ,  Accuracy=70.5% +/- 0.0%  in 5022.4 seconds\n",
      "For parameter bn2_bn_momentum = 0.250 ,  Accuracy=70.5% +/- 0.0%  in 5018.8 seconds\n",
      "For parameter bn2_bn_momentum = 0.375 ,  Accuracy=70.5% +/- 0.0%  in 5016.6 seconds\n",
      "For parameter bn2_bn_momentum = 0.500 ,  Accuracy=70.5% +/- 0.0%  in 5015.1 seconds\n",
      "For parameter bn2_bn_momentum = 0.625 ,  Accuracy=70.6% +/- 0.0%  in 5014.0 seconds\n",
      "For parameter bn2_bn_momentum = 0.750 ,  Accuracy=70.7% +/- 0.0%  in 5005.7 seconds\n",
      "For parameter bn2_bn_momentum = 0.875 ,  Accuracy=70.7% +/- 0.0%  in 4988.2 seconds\n",
      "For parameter bn2_bn_momentum = 1.000 ,  Accuracy=69.3% +/- 0.0%  in 4969.8 seconds\n",
      "accuracies= {0.0: array([6.99400000e-01, 6.99400000e-01, 6.99400000e-01, 6.99400000e-01,\n",
      "       3.93438029e+03]), 0.125: array([7.05000000e-01, 7.05000000e-01, 7.05000000e-01, 7.05000000e-01,\n",
      "       5.02238534e+03]), 0.25: array([7.0460000e-01, 7.0460000e-01, 7.0460000e-01, 7.0460000e-01,\n",
      "       5.0187517e+03]), 0.375: array([7.05200000e-01, 7.05200000e-01, 7.05200000e-01, 7.05200000e-01,\n",
      "       5.01660562e+03]), 0.5: array([7.05400000e-01, 7.05400000e-01, 7.05400000e-01, 7.05400000e-01,\n",
      "       5.01509002e+03]), 0.625: array([7.06400000e-01, 7.06400000e-01, 7.06400000e-01, 7.06400000e-01,\n",
      "       5.01399139e+03]), 0.75: array([7.07200000e-01, 7.07200000e-01, 7.07200000e-01, 7.07200000e-01,\n",
      "       5.00570682e+03]), 0.875: array([7.07200000e-01, 7.07200000e-01, 7.07200000e-01, 7.07200000e-01,\n",
      "       4.98819662e+03]), 1.0: array([6.92600000e-01, 6.92600000e-01, 6.92600000e-01, 6.92600000e-01,\n",
      "       4.96980567e+03])}\n",
      "scanning over p_dropout = [0.    0.125 0.25  0.375 0.5   0.625 0.75  0.875 1.   ]\n",
      "For parameter p_dropout = 0.000 ,  Accuracy=70.5% +/- 0.0%  in 4970.0 seconds\n",
      "For parameter p_dropout = 0.125 ,  Accuracy=68.8% +/- 0.3%  in 5334.8 seconds\n",
      "For parameter p_dropout = 0.250 ,  Accuracy=68.8% +/- 0.3%  in 5313.3 seconds\n",
      "For parameter p_dropout = 0.375 ,  Accuracy=67.3% +/- 0.2%  in 5461.4 seconds\n",
      "For parameter p_dropout = 0.500 ,  Accuracy=66.2% +/- 0.2%  in 5487.0 seconds\n",
      "For parameter p_dropout = 0.625 ,  Accuracy=63.8% +/- 0.4%  in 5647.3 seconds\n",
      "For parameter p_dropout = 0.750 ,  Accuracy=55.2% +/- 0.8%  in 5591.1 seconds\n",
      "For parameter p_dropout = 0.875 ,  Accuracy=37.3% +/- 0.7%  in 5451.3 seconds\n",
      "For parameter p_dropout = 1.000 ,  Accuracy=20.3% +/- 0.0%  in 4343.2 seconds\n",
      "accuracies= {0.0: array([7.04600000e-01, 7.04600000e-01, 7.04600000e-01, 7.04600000e-01,\n",
      "       4.96997133e+03]), 0.125: array([6.83800000e-01, 6.87000000e-01, 6.87800000e-01, 6.93000000e-01,\n",
      "       5.33481271e+03]), 0.25: array([6.86000000e-01, 6.90200000e-01, 6.91600000e-01, 6.83800000e-01,\n",
      "       5.31325488e+03]), 0.375: array([6.73600000e-01, 6.71600000e-01, 6.75400000e-01, 6.70800000e-01,\n",
      "       5.46142039e+03]), 0.5: array([6.61000000e-01, 6.62200000e-01, 6.60200000e-01, 6.64400000e-01,\n",
      "       5.48703987e+03]), 0.625: array([6.31600000e-01, 6.36000000e-01, 6.39400000e-01, 6.43400000e-01,\n",
      "       5.64731422e+03]), 0.75: array([5.62600000e-01, 5.51200000e-01, 5.54400000e-01, 5.41000000e-01,\n",
      "       5.59112299e+03]), 0.875: array([3.63200000e-01, 3.70200000e-01, 3.82400000e-01, 3.75600000e-01,\n",
      "       5.45133918e+03]), 1.0: array([2.03400000e-01, 2.03400000e-01, 2.03400000e-01, 2.03400000e-01,\n",
      "       4.34315239e+03])}\n",
      " parameter scan : learning \n",
      "--------------------------------------------------\n",
      "Using SGD\n",
      "--------------------------------------------------\n",
      "scanning over lr = [0.0005     0.0005946  0.00070711 0.0008409  0.001      0.00118921\n",
      " 0.00141421 0.00168179 0.002     ]\n",
      "For parameter lr = 0.001 ,  Accuracy=69.8% +/- 0.0%  in 4706.0 seconds\n",
      "For parameter lr = 0.001 ,  Accuracy=69.8% +/- 0.0%  in 4706.0 seconds\n",
      "For parameter lr = 0.001 ,  Accuracy=69.8% +/- 0.0%  in 4706.0 seconds\n",
      "For parameter lr = 0.001 ,  Accuracy=69.8% +/- 0.0%  in 4706.0 seconds\n",
      "For parameter lr = 0.001 ,  Accuracy=69.8% +/- 0.0%  in 4706.0 seconds\n",
      "For parameter lr = 0.001 ,  Accuracy=69.8% +/- 0.0%  in 4706.0 seconds\n",
      "For parameter lr = 0.001 ,  Accuracy=69.8% +/- 0.0%  in 4706.0 seconds\n",
      "For parameter lr = 0.002 ,  Accuracy=69.7% +/- 0.0%  in 5123.2 seconds\n",
      "For parameter lr = 0.002 ,  Accuracy=69.7% +/- 0.0%  in 5123.2 seconds\n",
      "accuracies= {0.0005: array([6.97800000e-01, 6.97800000e-01, 6.97800000e-01, 6.97800000e-01,\n",
      "       4.70603262e+03]), 0.0005946035575013605: array([6.97800000e-01, 6.97800000e-01, 6.97800000e-01, 6.97800000e-01,\n",
      "       4.70603262e+03]), 0.0007071067811865476: array([6.97800000e-01, 6.97800000e-01, 6.97800000e-01, 6.97800000e-01,\n",
      "       4.70603262e+03]), 0.0008408964152537145: array([6.97800000e-01, 6.97800000e-01, 6.97800000e-01, 6.97800000e-01,\n",
      "       4.70603262e+03]), 0.001: array([6.97800000e-01, 6.97800000e-01, 6.97800000e-01, 6.97800000e-01,\n",
      "       4.70603262e+03]), 0.001189207115002721: array([6.97800000e-01, 6.97800000e-01, 6.97800000e-01, 6.97800000e-01,\n",
      "       4.70603262e+03]), 0.0014142135623730952: array([6.97800000e-01, 6.97800000e-01, 6.97800000e-01, 6.97800000e-01,\n",
      "       4.70603262e+03]), 0.001681792830507429: array([6.97400000e-01, 6.97400000e-01, 6.97400000e-01, 6.97400000e-01,\n",
      "       5.12318375e+03]), 0.002: array([6.97400000e-01, 6.97400000e-01, 6.97400000e-01, 6.97400000e-01,\n",
      "       5.12318375e+03])}\n",
      "scanning over momentum = [0.15       0.17838107 0.21213203 0.25226892 0.3        0.35676213\n",
      " 0.42426407 0.50453785 0.6       ]\n",
      "For parameter momentum = 0.150 ,  Accuracy=70.2% +/- 0.0%  in 4772.9 seconds\n",
      "For parameter momentum = 0.178 ,  Accuracy=70.6% +/- 0.0%  in 4918.6 seconds\n",
      "For parameter momentum = 0.212 ,  Accuracy=70.6% +/- 0.0%  in 4874.6 seconds\n",
      "For parameter momentum = 0.252 ,  Accuracy=69.7% +/- 0.0%  in 4958.1 seconds\n",
      "For parameter momentum = 0.300 ,  Accuracy=70.5% +/- 0.0%  in 4975.0 seconds\n",
      "For parameter momentum = 0.357 ,  Accuracy=70.6% +/- 0.0%  in 4939.9 seconds\n",
      "For parameter momentum = 0.424 ,  Accuracy=69.7% +/- 0.0%  in 5122.6 seconds\n",
      "For parameter momentum = 0.505 ,  Accuracy=69.8% +/- 0.0%  in 4463.0 seconds\n",
      "For parameter momentum = 0.600 ,  Accuracy=69.7% +/- 0.0%  in 4469.0 seconds\n",
      "accuracies= {0.15: array([7.02400000e-01, 7.02400000e-01, 7.02400000e-01, 7.02400000e-01,\n",
      "       4.77288368e+03]), 0.17838106725040814: array([7.06000000e-01, 7.06000000e-01, 7.06000000e-01, 7.06000000e-01,\n",
      "       4.91856984e+03]), 0.21213203435596426: array([7.06200000e-01, 7.06200000e-01, 7.06200000e-01, 7.06200000e-01,\n",
      "       4.87463416e+03]), 0.25226892457611433: array([6.9680000e-01, 6.9680000e-01, 6.9680000e-01, 6.9680000e-01,\n",
      "       4.9581328e+03]), 0.3: array([7.04600000e-01, 7.04600000e-01, 7.04600000e-01, 7.04600000e-01,\n",
      "       4.97504119e+03]), 0.3567621345008163: array([7.06200000e-01, 7.06200000e-01, 7.06200000e-01, 7.06200000e-01,\n",
      "       4.93991575e+03]), 0.4242640687119285: array([6.97200000e-01, 6.97200000e-01, 6.97200000e-01, 6.97200000e-01,\n",
      "       5.12262534e+03]), 0.5045378491522287: array([6.98200000e-01, 6.98200000e-01, 6.98200000e-01, 6.98200000e-01,\n",
      "       4.46301437e+03]), 0.6: array([6.96600000e-01, 6.96600000e-01, 6.96600000e-01, 6.96600000e-01,\n",
      "       4.46901935e+03])}\n",
      "scanning over minibatch_size = [50, 59, 70, 84, 100, 118, 141, 168, 200]\n",
      "For parameter minibatch_size = 50 ,  Accuracy=70.5% +/- 0.0%  in 5024.4 seconds\n",
      "For parameter minibatch_size = 59 ,  Accuracy=70.5% +/- 0.0%  in 5029.2 seconds\n",
      "For parameter minibatch_size = 70 ,  Accuracy=70.5% +/- 0.0%  in 5029.4 seconds\n",
      "For parameter minibatch_size = 84 ,  Accuracy=70.5% +/- 0.0%  in 5031.0 seconds\n",
      "For parameter minibatch_size = 100 ,  Accuracy=70.5% +/- 0.0%  in 5052.1 seconds\n",
      "For parameter minibatch_size = 118 ,  Accuracy=70.5% +/- 0.0%  in 5032.6 seconds\n",
      "For parameter minibatch_size = 141 ,  Accuracy=70.5% +/- 0.0%  in 5037.8 seconds\n",
      "For parameter minibatch_size = 168 ,  Accuracy=70.5% +/- 0.0%  in 5033.5 seconds\n",
      "For parameter minibatch_size = 200 ,  Accuracy=70.5% +/- 0.0%  in 5029.6 seconds\n",
      "accuracies= {50: array([7.04600000e-01, 7.04600000e-01, 7.04600000e-01, 7.04600000e-01,\n",
      "       5.02440433e+03]), 59: array([7.04600000e-01, 7.04600000e-01, 7.04600000e-01, 7.04600000e-01,\n",
      "       5.02919278e+03]), 70: array([7.04600000e-01, 7.04600000e-01, 7.04600000e-01, 7.04600000e-01,\n",
      "       5.02937099e+03]), 84: array([7.04600000e-01, 7.04600000e-01, 7.04600000e-01, 7.04600000e-01,\n",
      "       5.03098333e+03]), 100: array([7.04600000e-01, 7.04600000e-01, 7.04600000e-01, 7.04600000e-01,\n",
      "       5.05207395e+03]), 118: array([7.04600000e-01, 7.04600000e-01, 7.04600000e-01, 7.04600000e-01,\n",
      "       5.03262598e+03]), 141: array([7.04600000e-01, 7.04600000e-01, 7.04600000e-01, 7.04600000e-01,\n",
      "       5.03775292e+03]), 168: array([7.04600000e-01, 7.04600000e-01, 7.04600000e-01, 7.04600000e-01,\n",
      "       5.03351504e+03]), 200: array([7.04600000e-01, 7.04600000e-01, 7.04600000e-01, 7.04600000e-01,\n",
      "       5.02955476e+03])}\n",
      "scanning over epochs = [12, 14, 17, 21, 25, 29, 35, 42, 50]\n",
      "For parameter epochs = 12 ,  Accuracy=68.8% +/- 0.0%  in 2434.8 seconds\n",
      "For parameter epochs = 14 ,  Accuracy=70.1% +/- 0.0%  in 2836.0 seconds\n",
      "For parameter epochs = 17 ,  Accuracy=69.8% +/- 0.0%  in 3415.0 seconds\n",
      "For parameter epochs = 21 ,  Accuracy=70.1% +/- 0.0%  in 4212.6 seconds\n",
      "For parameter epochs = 25 ,  Accuracy=70.5% +/- 0.0%  in 5013.6 seconds\n",
      "For parameter epochs = 29 ,  Accuracy=70.4% +/- 0.0%  in 5819.7 seconds\n",
      "For parameter epochs = 35 ,  Accuracy=70.1% +/- 0.0%  in 7033.8 seconds\n",
      "For parameter epochs = 42 ,  Accuracy=69.9% +/- 0.0%  in 8454.2 seconds\n",
      "For parameter epochs = 50 ,  Accuracy=70.2% +/- 0.0%  in 10158.1 seconds\n",
      "accuracies= {12: array([6.880000e-01, 6.880000e-01, 6.880000e-01, 6.880000e-01,\n",
      "       2.434814e+03]), 14: array([7.01000000e-01, 7.01000000e-01, 7.01000000e-01, 7.01000000e-01,\n",
      "       2.83603678e+03]), 17: array([6.98000000e-01, 6.98000000e-01, 6.98000000e-01, 6.98000000e-01,\n",
      "       3.41503298e+03]), 21: array([7.00600000e-01, 7.00600000e-01, 7.00600000e-01, 7.00600000e-01,\n",
      "       4.21258737e+03]), 25: array([7.04600000e-01, 7.04600000e-01, 7.04600000e-01, 7.04600000e-01,\n",
      "       5.01362587e+03]), 29: array([7.0400000e-01, 7.0400000e-01, 7.0400000e-01, 7.0400000e-01,\n",
      "       5.8197496e+03]), 35: array([7.01200000e-01, 7.01200000e-01, 7.01200000e-01, 7.01200000e-01,\n",
      "       7.03382363e+03]), 42: array([6.9920000e-01, 6.9920000e-01, 6.9920000e-01, 6.9920000e-01,\n",
      "       8.4542112e+03]), 50: array([7.02000000e-01, 7.02000000e-01, 7.02000000e-01, 7.02000000e-01,\n",
      "       1.01580665e+04])}\n",
      "--------------------------------------------------\n",
      "Using ADAM\n",
      "--------------------------------------------------\n",
      "scanning over lr = [0.0005     0.0005946  0.00070711 0.0008409  0.001      0.00118921\n",
      " 0.00141421 0.00168179 0.002     ]\n",
      "For parameter lr = 0.001 ,  Accuracy=69.8% +/- 0.0%  in 4809.1 seconds\n",
      "For parameter lr = 0.001 ,  Accuracy=69.8% +/- 0.0%  in 4809.1 seconds\n",
      "For parameter lr = 0.001 ,  Accuracy=69.8% +/- 0.0%  in 4809.1 seconds\n",
      "For parameter lr = 0.001 ,  Accuracy=69.8% +/- 0.0%  in 4809.1 seconds\n",
      "For parameter lr = 0.001 ,  Accuracy=69.8% +/- 0.0%  in 4809.1 seconds\n",
      "For parameter lr = 0.001 ,  Accuracy=69.8% +/- 0.0%  in 4809.1 seconds\n",
      "For parameter lr = 0.001 ,  Accuracy=69.8% +/- 0.0%  in 4809.1 seconds\n",
      "For parameter lr = 0.002 ,  Accuracy=69.7% +/- 0.0%  in 5232.5 seconds\n",
      "For parameter lr = 0.002 ,  Accuracy=69.7% +/- 0.0%  in 5232.5 seconds\n",
      "accuracies= {0.0005: array([6.97800000e-01, 6.97800000e-01, 6.97800000e-01, 6.97800000e-01,\n",
      "       4.80912724e+03]), 0.0005946035575013605: array([6.97800000e-01, 6.97800000e-01, 6.97800000e-01, 6.97800000e-01,\n",
      "       4.80912724e+03]), 0.0007071067811865476: array([6.97800000e-01, 6.97800000e-01, 6.97800000e-01, 6.97800000e-01,\n",
      "       4.80912724e+03]), 0.0008408964152537145: array([6.97800000e-01, 6.97800000e-01, 6.97800000e-01, 6.97800000e-01,\n",
      "       4.80912724e+03]), 0.001: array([6.97800000e-01, 6.97800000e-01, 6.97800000e-01, 6.97800000e-01,\n",
      "       4.80912724e+03]), 0.001189207115002721: array([6.97800000e-01, 6.97800000e-01, 6.97800000e-01, 6.97800000e-01,\n",
      "       4.80912724e+03]), 0.0014142135623730952: array([6.97800000e-01, 6.97800000e-01, 6.97800000e-01, 6.97800000e-01,\n",
      "       4.80912724e+03]), 0.001681792830507429: array([6.97400000e-01, 6.97400000e-01, 6.97400000e-01, 6.97400000e-01,\n",
      "       5.23245306e+03]), 0.002: array([6.97400000e-01, 6.97400000e-01, 6.97400000e-01, 6.97400000e-01,\n",
      "       5.23245306e+03])}\n",
      "scanning over momentum = [0.15       0.17838107 0.21213203 0.25226892 0.3        0.35676213\n",
      " 0.42426407 0.50453785 0.6       ]\n",
      "For parameter momentum = 0.150 ,  Accuracy=70.2% +/- 0.0%  in 4878.7 seconds\n",
      "For parameter momentum = 0.178 ,  Accuracy=70.6% +/- 0.0%  in 5026.3 seconds\n",
      "For parameter momentum = 0.212 ,  Accuracy=70.6% +/- 0.0%  in 4972.0 seconds\n",
      "For parameter momentum = 0.252 ,  Accuracy=69.7% +/- 0.0%  in 5026.1 seconds\n",
      "For parameter momentum = 0.300 ,  Accuracy=70.5% +/- 0.0%  in 5041.6 seconds\n",
      "For parameter momentum = 0.357 ,  Accuracy=70.6% +/- 0.0%  in 4991.1 seconds\n",
      "For parameter momentum = 0.424 ,  Accuracy=69.7% +/- 0.0%  in 5154.9 seconds\n",
      "For parameter momentum = 0.505 ,  Accuracy=69.8% +/- 0.0%  in 4484.1 seconds\n",
      "For parameter momentum = 0.600 ,  Accuracy=69.7% +/- 0.0%  in 4478.2 seconds\n",
      "accuracies= {0.15: array([7.0240000e-01, 7.0240000e-01, 7.0240000e-01, 7.0240000e-01,\n",
      "       4.8786894e+03]), 0.17838106725040814: array([7.06000000e-01, 7.06000000e-01, 7.06000000e-01, 7.06000000e-01,\n",
      "       5.02629462e+03]), 0.21213203435596426: array([7.06200000e-01, 7.06200000e-01, 7.06200000e-01, 7.06200000e-01,\n",
      "       4.97197056e+03]), 0.25226892457611433: array([6.96800000e-01, 6.96800000e-01, 6.96800000e-01, 6.96800000e-01,\n",
      "       5.02610257e+03]), 0.3: array([7.04600000e-01, 7.04600000e-01, 7.04600000e-01, 7.04600000e-01,\n",
      "       5.04155077e+03]), 0.3567621345008163: array([7.06200000e-01, 7.06200000e-01, 7.06200000e-01, 7.06200000e-01,\n",
      "       4.99110812e+03]), 0.4242640687119285: array([6.9720000e-01, 6.9720000e-01, 6.9720000e-01, 6.9720000e-01,\n",
      "       5.1549165e+03]), 0.5045378491522287: array([6.98200000e-01, 6.98200000e-01, 6.98200000e-01, 6.98200000e-01,\n",
      "       4.48407107e+03]), 0.6: array([6.96600000e-01, 6.96600000e-01, 6.96600000e-01, 6.96600000e-01,\n",
      "       4.47821306e+03])}\n",
      "scanning over minibatch_size = [50, 59, 70, 84, 100, 118, 141, 168, 200]\n",
      "For parameter minibatch_size = 50 ,  Accuracy=70.5% +/- 0.0%  in 5014.0 seconds\n",
      "For parameter minibatch_size = 59 ,  Accuracy=70.5% +/- 0.0%  in 5015.2 seconds\n",
      "For parameter minibatch_size = 70 ,  Accuracy=70.5% +/- 0.0%  in 5034.4 seconds\n",
      "For parameter minibatch_size = 84 ,  Accuracy=70.5% +/- 0.0%  in 5151.0 seconds\n",
      "For parameter minibatch_size = 100 ,  Accuracy=70.5% +/- 0.0%  in 5199.9 seconds\n",
      "For parameter minibatch_size = 118 ,  Accuracy=70.5% +/- 0.0%  in 5250.5 seconds\n",
      "For parameter minibatch_size = 141 ,  Accuracy=70.5% +/- 0.0%  in 5297.5 seconds\n",
      "For parameter minibatch_size = 168 ,  Accuracy=70.5% +/- 0.0%  in 5311.5 seconds\n",
      "For parameter minibatch_size = 200 ,  Accuracy=70.5% +/- 0.0%  in 5321.5 seconds\n",
      "accuracies= {50: array([7.04600000e-01, 7.04600000e-01, 7.04600000e-01, 7.04600000e-01,\n",
      "       5.01396814e+03]), 59: array([7.0460000e-01, 7.0460000e-01, 7.0460000e-01, 7.0460000e-01,\n",
      "       5.0152394e+03]), 70: array([7.0460000e-01, 7.0460000e-01, 7.0460000e-01, 7.0460000e-01,\n",
      "       5.0344353e+03]), 84: array([7.04600000e-01, 7.04600000e-01, 7.04600000e-01, 7.04600000e-01,\n",
      "       5.15100704e+03]), 100: array([7.04600000e-01, 7.04600000e-01, 7.04600000e-01, 7.04600000e-01,\n",
      "       5.19993973e+03]), 118: array([7.0460000e-01, 7.0460000e-01, 7.0460000e-01, 7.0460000e-01,\n",
      "       5.2505302e+03]), 141: array([7.04600000e-01, 7.04600000e-01, 7.04600000e-01, 7.04600000e-01,\n",
      "       5.29750644e+03]), 168: array([7.04600000e-01, 7.04600000e-01, 7.04600000e-01, 7.04600000e-01,\n",
      "       5.31149059e+03]), 200: array([7.04600000e-01, 7.04600000e-01, 7.04600000e-01, 7.04600000e-01,\n",
      "       5.32149825e+03])}\n",
      "scanning over epochs = [12, 14, 17, 21, 25, 29, 35, 42, 50]\n",
      "For parameter epochs = 12 ,  Accuracy=68.8% +/- 0.0%  in 2413.9 seconds\n",
      "For parameter epochs = 14 ,  Accuracy=70.1% +/- 0.0%  in 2811.3 seconds\n",
      "For parameter epochs = 17 ,  Accuracy=69.8% +/- 0.0%  in 3399.2 seconds\n",
      "For parameter epochs = 21 ,  Accuracy=70.1% +/- 0.0%  in 4325.1 seconds\n",
      "For parameter epochs = 25 ,  Accuracy=70.5% +/- 0.0%  in 5668.5 seconds\n",
      "For parameter epochs = 29 ,  Accuracy=70.4% +/- 0.0%  in 7151.6 seconds\n",
      "For parameter epochs = 35 ,  Accuracy=70.1% +/- 0.0%  in 8459.9 seconds\n",
      "For parameter epochs = 42 ,  Accuracy=69.9% +/- 0.0%  in 10582.3 seconds\n",
      "For parameter epochs = 50 ,   currently locked with  ../data/_tmp_scanning/epochs_adam_50.npy_lock\n",
      "accuracies= {12: array([6.88000000e-01, 6.88000000e-01, 6.88000000e-01, 6.88000000e-01,\n",
      "       2.41391878e+03]), 14: array([7.0100000e-01, 7.0100000e-01, 7.0100000e-01, 7.0100000e-01,\n",
      "       2.8113137e+03]), 17: array([6.98000000e-01, 6.98000000e-01, 6.98000000e-01, 6.98000000e-01,\n",
      "       3.39916665e+03]), 21: array([7.0060000e-01, 7.0060000e-01, 7.0060000e-01, 7.0060000e-01,\n",
      "       4.3251081e+03]), 25: array([7.04600000e-01, 7.04600000e-01, 7.04600000e-01, 7.04600000e-01,\n",
      "       5.66849605e+03]), 29: array([7.04000000e-01, 7.04000000e-01, 7.04000000e-01, 7.04000000e-01,\n",
      "       7.15161161e+03]), 35: array([7.01200000e-01, 7.01200000e-01, 7.01200000e-01, 7.01200000e-01,\n",
      "       8.45990196e+03]), 42: array([6.99200000e-01, 6.99200000e-01, 6.99200000e-01, 6.99200000e-01,\n",
      "       1.05822584e+04])}\n",
      "--------------------------------------------------\n",
      " parameter scan : retina\n",
      "--------------------------------------------------\n",
      "scanning over N_theta = [3, 3, 4, 5, 6, 7, 8, 10, 12]\n",
      "For parameter N_theta = 3 ,  Accuracy=68.5% +/- 0.3%  in 6671.6 seconds\n",
      "For parameter N_theta = 3 ,  Accuracy=68.5% +/- 0.3%  in 6671.6 seconds\n",
      "For parameter N_theta = 4 ,  Accuracy=69.8% +/- 0.5%  in 7153.1 seconds\n",
      "For parameter N_theta = 5 ,  Accuracy=70.7% +/- 0.2%  in 7797.8 seconds\n",
      "For parameter N_theta = 6 ,  Accuracy=70.5% +/- 0.0%  in 6329.4 seconds\n",
      "For parameter N_theta = 7 ,   currently locked with  ../data/_tmp_scanning/N_theta__7.npy_lock\n",
      "For parameter N_theta = 8 ,   currently locked with  ../data/_tmp_scanning/N_theta__8.npy_lock\n",
      "For parameter N_theta = 10 ,   currently locked with  ../data/_tmp_scanning/N_theta__10.npy_lock\n",
      "For parameter N_theta = 12 ,   currently locked with  ../data/_tmp_scanning/N_theta__12.npy_lock\n",
      "accuracies= {3: array([6.90000000e-01, 6.83200000e-01, 6.83200000e-01, 6.83200000e-01,\n",
      "       6.67155493e+03]), 4: array([6.89400000e-01, 7.00400000e-01, 7.00400000e-01, 7.00400000e-01,\n",
      "       7.15305633e+03]), 5: array([7.10200000e-01, 7.05800000e-01, 7.05800000e-01, 7.05800000e-01,\n",
      "       7.79780248e+03]), 6: array([7.04600000e-01, 7.04600000e-01, 7.04600000e-01, 7.04600000e-01,\n",
      "       6.32937796e+03])}\n",
      "scanning over N_azimuth = [8, 9, 11, 13, 16, 19, 22, 26, 32]\n",
      "For parameter N_azimuth = 8 ,  Accuracy=56.8% +/- 0.4%  in 6034.2 seconds\n",
      "For parameter N_azimuth = 9 ,  Accuracy=59.0% +/- 0.2%  in 6441.7 seconds\n",
      "For parameter N_azimuth = 11 ,  Accuracy=65.0% +/- 0.2%  in 6995.4 seconds\n",
      "For parameter N_azimuth = 13 ,   currently locked with  ../data/_tmp_scanning/N_azimuth__13.npy_lock\n",
      "For parameter N_azimuth = 16 ,   currently locked with  ../data/_tmp_scanning/N_azimuth__16.npy_lock\n",
      "For parameter N_azimuth = 19 ,   currently locked with  ../data/_tmp_scanning/N_azimuth__19.npy_lock\n",
      "For parameter N_azimuth = 22 ,   currently locked with  ../data/_tmp_scanning/N_azimuth__22.npy_lock\n",
      "For parameter N_azimuth = 26 ,   currently locked with  ../data/_tmp_scanning/N_azimuth__26.npy_lock\n",
      "For parameter N_azimuth = 32 ,   currently locked with  ../data/_tmp_scanning/N_azimuth__32.npy_lock\n",
      "accuracies= {8: array([5.74200000e-01, 5.65800000e-01, 5.65800000e-01, 5.65800000e-01,\n",
      "       6.03417199e+03]), 9: array([5.86600000e-01, 5.91000000e-01, 5.91000000e-01, 5.91000000e-01,\n",
      "       6.44166832e+03]), 11: array([6.47200000e-01, 6.51400000e-01, 6.51400000e-01, 6.51400000e-01,\n",
      "       6.99541722e+03])}\n",
      "scanning over N_eccentricity = [5, 5, 7, 8, 10, 11, 14, 16, 20]\n",
      "For parameter N_eccentricity = 5 ,   currently locked with  ../data/_tmp_scanning/N_eccentricity__5.npy_lock\n",
      "For parameter N_eccentricity = 5 ,   currently locked with  ../data/_tmp_scanning/N_eccentricity__5.npy_lock\n",
      "For parameter N_eccentricity = 7 ,   currently locked with  ../data/_tmp_scanning/N_eccentricity__7.npy_lock\n",
      "For parameter N_eccentricity = 8 ,   currently locked with  ../data/_tmp_scanning/N_eccentricity__8.npy_lock\n",
      "For parameter N_eccentricity = 10 ,   currently locked with  ../data/_tmp_scanning/N_eccentricity__10.npy_lock\n",
      "For parameter N_eccentricity = 11 ,   currently locked with  ../data/_tmp_scanning/N_eccentricity__11.npy_lock\n",
      "For parameter N_eccentricity = 14 ,   currently locked with  ../data/_tmp_scanning/N_eccentricity__14.npy_lock\n",
      "For parameter N_eccentricity = 16 ,   currently locked with  ../data/_tmp_scanning/N_eccentricity__16.npy_lock\n",
      "For parameter N_eccentricity = 20 ,   currently locked with  ../data/_tmp_scanning/N_eccentricity__20.npy_lock\n",
      "accuracies= {}\n",
      "scanning over rho = [0.705      0.83839102 0.99702056 1.18566395 1.41       1.67678203\n",
      " 1.99404112 2.37132789 2.82      ]\n",
      "For parameter rho = 0.705 ,   currently locked with  ../data/_tmp_scanning/rho__0_705.npy_lock\n",
      "For parameter rho = 0.838 ,   currently locked with  ../data/_tmp_scanning/rho__0_838.npy_lock\n",
      "For parameter rho = 0.997 ,   currently locked with  ../data/_tmp_scanning/rho__0_997.npy_lock\n",
      "For parameter rho = 1.186 ,   currently locked with  ../data/_tmp_scanning/rho__1_186.npy_lock\n",
      "For parameter rho = 1.410 ,   currently locked with  ../data/_tmp_scanning/rho__1_410.npy_lock\n",
      "For parameter rho = 1.677 ,   currently locked with  ../data/_tmp_scanning/rho__1_677.npy_lock\n",
      "For parameter rho = 1.994 ,   currently locked with  ../data/_tmp_scanning/rho__1_994.npy_lock\n",
      "For parameter rho = 2.371 ,   currently locked with  ../data/_tmp_scanning/rho__2_371.npy_lock\n",
      "For parameter rho = 2.820 ,   currently locked with  ../data/_tmp_scanning/rho__2_820.npy_lock\n",
      "accuracies= {}\n",
      "--------------------------------------------------\n",
      " base= 8\n",
      "--------------------------------------------------\n",
      "--------------------------------------------------\n",
      " parameter scan : data\n",
      "--------------------------------------------------\n",
      "scanning over sf_0 = [0.025      0.04204482 0.07071068 0.11892071 0.2        0.33635857\n",
      " 0.56568542 0.95136569 1.6       ]\n",
      "For parameter sf_0 = 0.025 ,   currently locked with  ../data/_tmp_scanning/sf_0__0_025.npy_lock\n",
      "For parameter sf_0 = 0.042 ,   currently locked with  ../data/_tmp_scanning/sf_0__0_042.npy_lock\n",
      "For parameter sf_0 = 0.071 ,   currently locked with  ../data/_tmp_scanning/sf_0__0_071.npy_lock\n",
      "For parameter sf_0 = 0.119 ,  Accuracy=66.0% +/- 0.1%  in 9037.2 seconds\n",
      "For parameter sf_0 = 0.200 ,  Accuracy=70.5% +/- 0.0%  in 6655.0 seconds\n",
      "For parameter sf_0 = 0.336 ,  Accuracy=72.6% +/- 0.1%  in 9429.7 seconds\n",
      "For parameter sf_0 = 0.566 ,   currently locked with  ../data/_tmp_scanning/sf_0__0_566.npy_lock\n",
      "For parameter sf_0 = 0.951 ,   currently locked with  ../data/_tmp_scanning/sf_0__0_951.npy_lock\n",
      "For parameter sf_0 = 1.600 ,   currently locked with  ../data/_tmp_scanning/sf_0__1_600.npy_lock\n",
      "accuracies= {0.11892071150027211: array([6.58400000e-01, 6.60200000e-01, 6.60200000e-01, 6.60200000e-01,\n",
      "       9.03722502e+03]), 0.2: array([7.04600000e-01, 7.04600000e-01, 7.04600000e-01, 7.04600000e-01,\n",
      "       6.65498013e+03]), 0.33635856610148585: array([7.28200000e-01, 7.25000000e-01, 7.25000000e-01, 7.25000000e-01,\n",
      "       9.42972235e+03])}\n",
      "scanning over B_sf = [0.0375     0.06306723 0.10606602 0.17838107 0.3        0.50453785\n",
      " 0.84852814 1.42704854 2.4       ]\n",
      "For parameter B_sf = 0.037 ,   currently locked with  ../data/_tmp_scanning/B_sf__0_037.npy_lock\n",
      "For parameter B_sf = 0.063 ,   currently locked with  ../data/_tmp_scanning/B_sf__0_063.npy_lock\n",
      "For parameter B_sf = 0.106 ,   currently locked with  ../data/_tmp_scanning/B_sf__0_106.npy_lock\n",
      "For parameter B_sf = 0.178 ,  Accuracy=70.0% +/- 0.1%  in 9542.8 seconds\n",
      "For parameter B_sf = 0.300 ,  Accuracy=70.5% +/- 0.0%  in 6158.8 seconds\n",
      "For parameter B_sf = 0.505 ,  Accuracy=68.7% +/- 0.0%  in 8437.0 seconds\n",
      "For parameter B_sf = 0.849 ,   currently locked with  ../data/_tmp_scanning/B_sf__0_849.npy_lock\n",
      "For parameter B_sf = 1.427 ,   currently locked with  ../data/_tmp_scanning/B_sf__1_427.npy_lock\n",
      "For parameter B_sf = 2.400 ,   currently locked with  ../data/_tmp_scanning/B_sf__2_400.npy_lock\n",
      "accuracies= {0.17838106725040814: array([7.02200000e-01, 6.98800000e-01, 6.98800000e-01, 6.98800000e-01,\n",
      "       9.54275484e+03]), 0.3: array([7.04600000e-01, 7.04600000e-01, 7.04600000e-01, 7.04600000e-01,\n",
      "       6.15878713e+03]), 0.5045378491522287: array([6.87000000e-01, 6.86400000e-01, 6.86400000e-01, 6.86400000e-01,\n",
      "       8.43698801e+03])}\n",
      "scanning over offset_std = [3, 6, 10, 17, 30, 50, 84, 142, 240]\n",
      "For parameter offset_std = 3 ,   currently locked with  ../data/_tmp_scanning/offset_std__3.npy_lock\n",
      "For parameter offset_std = 6 ,   currently locked with  ../data/_tmp_scanning/offset_std__6.npy_lock\n",
      "For parameter offset_std = 10 ,   currently locked with  ../data/_tmp_scanning/offset_std__10.npy_lock\n",
      "For parameter offset_std = 17 ,  Accuracy=80.3% +/- 0.2%  in 8773.5 seconds\n",
      "For parameter offset_std = 30 ,  Accuracy=70.5% +/- 0.0%  in 6451.3 seconds\n",
      "For parameter offset_std = 50 ,  Accuracy=59.1% +/- 0.2%  in 8921.6 seconds\n",
      "For parameter offset_std = 84 ,   currently locked with  ../data/_tmp_scanning/offset_std__84.npy_lock\n",
      "For parameter offset_std = 142 ,   currently locked with  ../data/_tmp_scanning/offset_std__142.npy_lock\n",
      "For parameter offset_std = 240 ,   currently locked with  ../data/_tmp_scanning/offset_std__240.npy_lock\n",
      "accuracies= {17: array([8.07000000e-01, 8.02200000e-01, 8.02200000e-01, 8.02200000e-01,\n",
      "       8.77350347e+03]), 30: array([7.04600000e-01, 7.04600000e-01, 7.04600000e-01, 7.04600000e-01,\n",
      "       6.45132655e+03]), 50: array([5.94000000e-01, 5.89800000e-01, 5.89800000e-01, 5.89800000e-01,\n",
      "       8.92160608e+03])}\n",
      "scanning over contrast = [0.125      0.2102241  0.35355339 0.59460356 1.         1.68179283\n",
      " 2.82842712 4.75682846 8.        ]\n",
      "For parameter contrast = 0.125 ,   currently locked with  ../data/_tmp_scanning/contrast__0_125.npy_lock\n",
      "For parameter contrast = 0.210 ,   currently locked with  ../data/_tmp_scanning/contrast__0_210.npy_lock\n",
      "For parameter contrast = 0.354 ,   currently locked with  ../data/_tmp_scanning/contrast__0_354.npy_lock\n",
      "For parameter contrast = 0.595 ,  Accuracy=53.1% +/- 0.2%  in 8404.5 seconds\n",
      "For parameter contrast = 1.000 ,  Accuracy=70.5% +/- 0.0%  in 5841.3 seconds\n",
      "For parameter contrast = 1.682 ,  Accuracy=76.2% +/- 0.1%  in 7061.9 seconds\n",
      "For parameter contrast = 2.828 ,   currently locked with  ../data/_tmp_scanning/contrast__2_828.npy_lock\n",
      "For parameter contrast = 4.757 ,   currently locked with  ../data/_tmp_scanning/contrast__4_757.npy_lock\n",
      "For parameter contrast = 8.000 ,   currently locked with  ../data/_tmp_scanning/contrast__8_000.npy_lock\n",
      "accuracies= {0.5946035575013605: array([5.34800000e-01, 5.29200000e-01, 5.29200000e-01, 5.29200000e-01,\n",
      "       8.40450031e+03]), 1.0: array([7.04600000e-01, 7.04600000e-01, 7.04600000e-01, 7.04600000e-01,\n",
      "       5.84133182e+03]), 1.681792830507429: array([7.60600000e-01, 7.62000000e-01, 7.62000000e-01, 7.62000000e-01,\n",
      "       7.06191711e+03])}\n",
      "--------------------------------------------------\n",
      " parameter scan : network\n",
      "--------------------------------------------------\n",
      "scanning over dim1 = [250, 297, 353, 420, 500, 594, 707, 840, 1000]\n",
      "For parameter dim1 = 250 ,  Accuracy=70.1% +/- 0.0%  in 4520.7 seconds\n",
      "For parameter dim1 = 297 ,  Accuracy=70.3% +/- 0.0%  in 3953.0 seconds\n",
      "For parameter dim1 = 353 ,  Accuracy=69.9% +/- 0.0%  in 4598.9 seconds\n",
      "For parameter dim1 = 420 ,  Accuracy=70.2% +/- 0.0%  in 4962.5 seconds\n",
      "For parameter dim1 = 500 ,  Accuracy=70.5% +/- 0.0%  in 4955.2 seconds\n",
      "For parameter dim1 = 594 ,  Accuracy=70.4% +/- 0.0%  in 5557.4 seconds\n",
      "For parameter dim1 = 707 ,  Accuracy=70.6% +/- 0.0%  in 6336.6 seconds\n",
      "For parameter dim1 = 840 ,  Accuracy=70.2% +/- 0.0%  in 6972.2 seconds\n",
      "For parameter dim1 = 1000 ,  Accuracy=70.6% +/- 0.0%  in 7999.7 seconds\n",
      "accuracies= {250: array([7.00800000e-01, 7.00800000e-01, 7.00800000e-01, 7.00800000e-01,\n",
      "       4.52066039e+03]), 297: array([7.0300000e-01, 7.0300000e-01, 7.0300000e-01, 7.0300000e-01,\n",
      "       3.9530212e+03]), 353: array([6.98600000e-01, 6.98600000e-01, 6.98600000e-01, 6.98600000e-01,\n",
      "       4.59888863e+03]), 420: array([7.02200000e-01, 7.02200000e-01, 7.02200000e-01, 7.02200000e-01,\n",
      "       4.96254976e+03]), 500: array([7.04600000e-01, 7.04600000e-01, 7.04600000e-01, 7.04600000e-01,\n",
      "       4.95524322e+03]), 594: array([7.03800000e-01, 7.03800000e-01, 7.03800000e-01, 7.03800000e-01,\n",
      "       5.55740878e+03]), 707: array([7.0600000e-01, 7.0600000e-01, 7.0600000e-01, 7.0600000e-01,\n",
      "       6.3366119e+03]), 840: array([7.01600000e-01, 7.01600000e-01, 7.01600000e-01, 7.01600000e-01,\n",
      "       6.97221631e+03]), 1000: array([7.06400000e-01, 7.06400000e-01, 7.06400000e-01, 7.06400000e-01,\n",
      "       7.99973872e+03])}\n",
      "scanning over bn1_bn_momentum = [0.    0.125 0.25  0.375 0.5   0.625 0.75  0.875 1.   ]\n",
      "For parameter bn1_bn_momentum = 0.000 ,  Accuracy=70.7% +/- 0.0%  in 5875.4 seconds\n",
      "For parameter bn1_bn_momentum = 0.125 ,  Accuracy=70.3% +/- 0.0%  in 4978.7 seconds\n",
      "For parameter bn1_bn_momentum = 0.250 ,  Accuracy=70.5% +/- 0.0%  in 4987.6 seconds\n",
      "For parameter bn1_bn_momentum = 0.375 ,  Accuracy=70.5% +/- 0.0%  in 4980.6 seconds\n",
      "For parameter bn1_bn_momentum = 0.500 ,  Accuracy=70.5% +/- 0.0%  in 4987.1 seconds\n",
      "For parameter bn1_bn_momentum = 0.625 ,  Accuracy=70.5% +/- 0.0%  in 4975.4 seconds\n",
      "For parameter bn1_bn_momentum = 0.750 ,  Accuracy=70.6% +/- 0.0%  in 4980.4 seconds\n",
      "For parameter bn1_bn_momentum = 0.875 ,  Accuracy=70.6% +/- 0.0%  in 4991.5 seconds\n",
      "For parameter bn1_bn_momentum = 1.000 ,  Accuracy=24.6% +/- 0.0%  in 4978.0 seconds\n",
      "accuracies= {0.0: array([7.06800000e-01, 7.06800000e-01, 7.06800000e-01, 7.06800000e-01,\n",
      "       5.87537592e+03]), 0.125: array([7.03400000e-01, 7.03400000e-01, 7.03400000e-01, 7.03400000e-01,\n",
      "       4.97873615e+03]), 0.25: array([7.05200000e-01, 7.05200000e-01, 7.05200000e-01, 7.05200000e-01,\n",
      "       4.98758706e+03]), 0.375: array([7.050000e-01, 7.050000e-01, 7.050000e-01, 7.050000e-01,\n",
      "       4.980558e+03]), 0.5: array([7.04600000e-01, 7.04600000e-01, 7.04600000e-01, 7.04600000e-01,\n",
      "       4.98710649e+03]), 0.625: array([7.04600000e-01, 7.04600000e-01, 7.04600000e-01, 7.04600000e-01,\n",
      "       4.97539138e+03]), 0.75: array([7.06200000e-01, 7.06200000e-01, 7.06200000e-01, 7.06200000e-01,\n",
      "       4.98043735e+03]), 0.875: array([7.05800000e-01, 7.05800000e-01, 7.05800000e-01, 7.05800000e-01,\n",
      "       4.99149017e+03]), 1.0: array([2.45800000e-01, 2.45800000e-01, 2.45800000e-01, 2.45800000e-01,\n",
      "       4.97803177e+03])}\n",
      "scanning over dim2 = [1000, 1189, 1414, 1681, 2000, 2378, 2828, 3363, 4000]\n",
      "For parameter dim2 = 1000 ,  Accuracy=69.6% +/- 0.0%  in 3609.7 seconds\n",
      "For parameter dim2 = 1189 ,  Accuracy=70.7% +/- 0.0%  in 3946.2 seconds\n",
      "For parameter dim2 = 1414 ,  Accuracy=69.8% +/- 0.0%  in 4250.8 seconds\n",
      "For parameter dim2 = 1681 ,  Accuracy=70.6% +/- 0.0%  in 4676.4 seconds\n",
      "For parameter dim2 = 2000 ,  Accuracy=70.5% +/- 0.0%  in 5018.2 seconds\n",
      "For parameter dim2 = 2378 ,  Accuracy=70.0% +/- 0.0%  in 6116.7 seconds\n",
      "For parameter dim2 = 2828 ,  Accuracy=69.2% +/- 0.0%  in 6710.7 seconds\n",
      "For parameter dim2 = 3363 ,  Accuracy=70.1% +/- 0.0%  in 7884.1 seconds\n",
      "For parameter dim2 = 4000 ,  Accuracy=70.0% +/- 0.0%  in 8224.7 seconds\n",
      "accuracies= {1000: array([6.96200000e-01, 6.96200000e-01, 6.96200000e-01, 6.96200000e-01,\n",
      "       3.60968247e+03]), 1189: array([7.06600000e-01, 7.06600000e-01, 7.06600000e-01, 7.06600000e-01,\n",
      "       3.94624128e+03]), 1414: array([6.9840000e-01, 6.9840000e-01, 6.9840000e-01, 6.9840000e-01,\n",
      "       4.2508081e+03]), 1681: array([7.06400000e-01, 7.06400000e-01, 7.06400000e-01, 7.06400000e-01,\n",
      "       4.67636329e+03]), 2000: array([7.04600000e-01, 7.04600000e-01, 7.04600000e-01, 7.04600000e-01,\n",
      "       5.01820768e+03]), 2378: array([7.0040000e-01, 7.0040000e-01, 7.0040000e-01, 7.0040000e-01,\n",
      "       6.1166561e+03]), 2828: array([6.92200000e-01, 6.92200000e-01, 6.92200000e-01, 6.92200000e-01,\n",
      "       6.71067017e+03]), 3363: array([7.00800000e-01, 7.00800000e-01, 7.00800000e-01, 7.00800000e-01,\n",
      "       7.88408646e+03]), 4000: array([7.00200000e-01, 7.00200000e-01, 7.00200000e-01, 7.00200000e-01,\n",
      "       8.22469337e+03])}\n",
      "scanning over bn2_bn_momentum = [0.    0.125 0.25  0.375 0.5   0.625 0.75  0.875 1.   ]\n",
      "For parameter bn2_bn_momentum = 0.000 ,  Accuracy=69.9% +/- 0.0%  in 3934.4 seconds\n",
      "For parameter bn2_bn_momentum = 0.125 ,  Accuracy=70.5% +/- 0.0%  in 5022.4 seconds\n",
      "For parameter bn2_bn_momentum = 0.250 ,  Accuracy=70.5% +/- 0.0%  in 5018.8 seconds\n",
      "For parameter bn2_bn_momentum = 0.375 ,  Accuracy=70.5% +/- 0.0%  in 5016.6 seconds\n",
      "For parameter bn2_bn_momentum = 0.500 ,  Accuracy=70.5% +/- 0.0%  in 5015.1 seconds\n",
      "For parameter bn2_bn_momentum = 0.625 ,  Accuracy=70.6% +/- 0.0%  in 5014.0 seconds\n",
      "For parameter bn2_bn_momentum = 0.750 ,  Accuracy=70.7% +/- 0.0%  in 5005.7 seconds\n",
      "For parameter bn2_bn_momentum = 0.875 ,  Accuracy=70.7% +/- 0.0%  in 4988.2 seconds\n",
      "For parameter bn2_bn_momentum = 1.000 ,  Accuracy=69.3% +/- 0.0%  in 4969.8 seconds\n",
      "accuracies= {0.0: array([6.99400000e-01, 6.99400000e-01, 6.99400000e-01, 6.99400000e-01,\n",
      "       3.93438029e+03]), 0.125: array([7.05000000e-01, 7.05000000e-01, 7.05000000e-01, 7.05000000e-01,\n",
      "       5.02238534e+03]), 0.25: array([7.0460000e-01, 7.0460000e-01, 7.0460000e-01, 7.0460000e-01,\n",
      "       5.0187517e+03]), 0.375: array([7.05200000e-01, 7.05200000e-01, 7.05200000e-01, 7.05200000e-01,\n",
      "       5.01660562e+03]), 0.5: array([7.05400000e-01, 7.05400000e-01, 7.05400000e-01, 7.05400000e-01,\n",
      "       5.01509002e+03]), 0.625: array([7.06400000e-01, 7.06400000e-01, 7.06400000e-01, 7.06400000e-01,\n",
      "       5.01399139e+03]), 0.75: array([7.07200000e-01, 7.07200000e-01, 7.07200000e-01, 7.07200000e-01,\n",
      "       5.00570682e+03]), 0.875: array([7.07200000e-01, 7.07200000e-01, 7.07200000e-01, 7.07200000e-01,\n",
      "       4.98819662e+03]), 1.0: array([6.92600000e-01, 6.92600000e-01, 6.92600000e-01, 6.92600000e-01,\n",
      "       4.96980567e+03])}\n",
      "scanning over p_dropout = [0.    0.125 0.25  0.375 0.5   0.625 0.75  0.875 1.   ]\n",
      "For parameter p_dropout = 0.000 ,  Accuracy=70.5% +/- 0.0%  in 4970.0 seconds\n",
      "For parameter p_dropout = 0.125 ,  Accuracy=68.8% +/- 0.3%  in 5334.8 seconds\n",
      "For parameter p_dropout = 0.250 ,  Accuracy=68.8% +/- 0.3%  in 5313.3 seconds\n",
      "For parameter p_dropout = 0.375 ,  Accuracy=67.3% +/- 0.2%  in 5461.4 seconds\n",
      "For parameter p_dropout = 0.500 ,  Accuracy=66.2% +/- 0.2%  in 5487.0 seconds\n",
      "For parameter p_dropout = 0.625 ,  Accuracy=63.8% +/- 0.4%  in 5647.3 seconds\n",
      "For parameter p_dropout = 0.750 ,  Accuracy=55.2% +/- 0.8%  in 5591.1 seconds\n",
      "For parameter p_dropout = 0.875 ,  Accuracy=37.3% +/- 0.7%  in 5451.3 seconds\n",
      "For parameter p_dropout = 1.000 ,  Accuracy=20.3% +/- 0.0%  in 4343.2 seconds\n",
      "accuracies= {0.0: array([7.04600000e-01, 7.04600000e-01, 7.04600000e-01, 7.04600000e-01,\n",
      "       4.96997133e+03]), 0.125: array([6.83800000e-01, 6.87000000e-01, 6.87800000e-01, 6.93000000e-01,\n",
      "       5.33481271e+03]), 0.25: array([6.86000000e-01, 6.90200000e-01, 6.91600000e-01, 6.83800000e-01,\n",
      "       5.31325488e+03]), 0.375: array([6.73600000e-01, 6.71600000e-01, 6.75400000e-01, 6.70800000e-01,\n",
      "       5.46142039e+03]), 0.5: array([6.61000000e-01, 6.62200000e-01, 6.60200000e-01, 6.64400000e-01,\n",
      "       5.48703987e+03]), 0.625: array([6.31600000e-01, 6.36000000e-01, 6.39400000e-01, 6.43400000e-01,\n",
      "       5.64731422e+03]), 0.75: array([5.62600000e-01, 5.51200000e-01, 5.54400000e-01, 5.41000000e-01,\n",
      "       5.59112299e+03]), 0.875: array([3.63200000e-01, 3.70200000e-01, 3.82400000e-01, 3.75600000e-01,\n",
      "       5.45133918e+03]), 1.0: array([2.03400000e-01, 2.03400000e-01, 2.03400000e-01, 2.03400000e-01,\n",
      "       4.34315239e+03])}\n",
      " parameter scan : learning \n",
      "--------------------------------------------------\n",
      "Using SGD\n",
      "--------------------------------------------------\n",
      "scanning over lr = [0.000125   0.00021022 0.00035355 0.0005946  0.001      0.00168179\n",
      " 0.00282843 0.00475683 0.008     ]\n",
      "For parameter lr = 0.000 ,   currently locked with  ../data/_tmp_scanning/lr__0_000.npy_lock\n",
      "For parameter lr = 0.000 ,   currently locked with  ../data/_tmp_scanning/lr__0_000.npy_lock\n",
      "For parameter lr = 0.000 ,   currently locked with  ../data/_tmp_scanning/lr__0_000.npy_lock\n",
      "For parameter lr = 0.001 ,  Accuracy=69.8% +/- 0.0%  in 4706.0 seconds\n",
      "For parameter lr = 0.001 ,  Accuracy=69.8% +/- 0.0%  in 4706.0 seconds\n",
      "For parameter lr = 0.002 ,  Accuracy=69.7% +/- 0.0%  in 5123.2 seconds\n",
      "For parameter lr = 0.003 ,   currently locked with  ../data/_tmp_scanning/lr__0_003.npy_lock\n",
      "For parameter lr = 0.005 ,   currently locked with  ../data/_tmp_scanning/lr__0_005.npy_lock\n",
      "For parameter lr = 0.008 ,   currently locked with  ../data/_tmp_scanning/lr__0_008.npy_lock\n",
      "accuracies= {0.0005946035575013605: array([6.97800000e-01, 6.97800000e-01, 6.97800000e-01, 6.97800000e-01,\n",
      "       4.70603262e+03]), 0.001: array([6.97800000e-01, 6.97800000e-01, 6.97800000e-01, 6.97800000e-01,\n",
      "       4.70603262e+03]), 0.001681792830507429: array([6.97400000e-01, 6.97400000e-01, 6.97400000e-01, 6.97400000e-01,\n",
      "       5.12318375e+03])}\n",
      "scanning over momentum = [0.0375     0.06306723 0.10606602 0.17838107 0.3        0.50453785\n",
      " 0.84852814 1.42704854 2.4       ]\n",
      "For parameter momentum = 0.037 ,   currently locked with  ../data/_tmp_scanning/momentum__0_037.npy_lock\n",
      "For parameter momentum = 0.063 ,   currently locked with  ../data/_tmp_scanning/momentum__0_063.npy_lock\n",
      "For parameter momentum = 0.106 ,   currently locked with  ../data/_tmp_scanning/momentum__0_106.npy_lock\n",
      "For parameter momentum = 0.178 ,  Accuracy=70.6% +/- 0.0%  in 4918.6 seconds\n",
      "For parameter momentum = 0.300 ,  Accuracy=70.5% +/- 0.0%  in 4975.0 seconds\n",
      "For parameter momentum = 0.505 ,  Accuracy=69.8% +/- 0.0%  in 4463.0 seconds\n",
      "For parameter momentum = 0.849 ,   currently locked with  ../data/_tmp_scanning/momentum__0_849.npy_lock\n",
      "For parameter momentum = 1.427 ,   currently locked with  ../data/_tmp_scanning/momentum__1_427.npy_lock\n",
      "For parameter momentum = 2.400 ,   currently locked with  ../data/_tmp_scanning/momentum__2_400.npy_lock\n",
      "accuracies= {0.17838106725040814: array([7.06000000e-01, 7.06000000e-01, 7.06000000e-01, 7.06000000e-01,\n",
      "       4.91856984e+03]), 0.3: array([7.04600000e-01, 7.04600000e-01, 7.04600000e-01, 7.04600000e-01,\n",
      "       4.97504119e+03]), 0.5045378491522287: array([6.98200000e-01, 6.98200000e-01, 6.98200000e-01, 6.98200000e-01,\n",
      "       4.46301437e+03])}\n",
      "scanning over minibatch_size = [12, 21, 35, 59, 100, 168, 282, 475, 800]\n",
      "For parameter minibatch_size = 12 ,   currently locked with  ../data/_tmp_scanning/minibatch_size__12.npy_lock\n",
      "For parameter minibatch_size = 21 ,   currently locked with  ../data/_tmp_scanning/minibatch_size__21.npy_lock\n",
      "For parameter minibatch_size = 35 ,   currently locked with  ../data/_tmp_scanning/minibatch_size__35.npy_lock\n",
      "For parameter minibatch_size = 59 ,  Accuracy=70.5% +/- 0.0%  in 5029.2 seconds\n",
      "For parameter minibatch_size = 100 ,  Accuracy=70.5% +/- 0.0%  in 5052.1 seconds\n",
      "For parameter minibatch_size = 168 ,  Accuracy=70.5% +/- 0.0%  in 5033.5 seconds\n",
      "For parameter minibatch_size = 282 ,   currently locked with  ../data/_tmp_scanning/minibatch_size__282.npy_lock\n",
      "For parameter minibatch_size = 475 ,   currently locked with  ../data/_tmp_scanning/minibatch_size__475.npy_lock\n",
      "For parameter minibatch_size = 800 ,   currently locked with  ../data/_tmp_scanning/minibatch_size__800.npy_lock\n",
      "accuracies= {59: array([7.04600000e-01, 7.04600000e-01, 7.04600000e-01, 7.04600000e-01,\n",
      "       5.02919278e+03]), 100: array([7.04600000e-01, 7.04600000e-01, 7.04600000e-01, 7.04600000e-01,\n",
      "       5.05207395e+03]), 168: array([7.04600000e-01, 7.04600000e-01, 7.04600000e-01, 7.04600000e-01,\n",
      "       5.03351504e+03])}\n",
      "scanning over epochs = [3, 5, 8, 14, 25, 42, 70, 118, 200]\n",
      "For parameter epochs = 3 ,   currently locked with  ../data/_tmp_scanning/epochs__3.npy_lock\n",
      "For parameter epochs = 5 ,   currently locked with  ../data/_tmp_scanning/epochs__5.npy_lock\n",
      "For parameter epochs = 8 ,   currently locked with  ../data/_tmp_scanning/epochs__8.npy_lock\n",
      "For parameter epochs = 14 ,  Accuracy=70.1% +/- 0.0%  in 2836.0 seconds\n",
      "For parameter epochs = 25 ,  Accuracy=70.5% +/- 0.0%  in 5013.6 seconds\n",
      "For parameter epochs = 42 ,  Accuracy=69.9% +/- 0.0%  in 8454.2 seconds\n",
      "For parameter epochs = 70 ,   currently locked with  ../data/_tmp_scanning/epochs__70.npy_lock\n",
      "For parameter epochs = 118 ,   currently locked with  ../data/_tmp_scanning/epochs__118.npy_lock\n",
      "For parameter epochs = 200 ,   currently locked with  ../data/_tmp_scanning/epochs__200.npy_lock\n",
      "accuracies= {14: array([7.01000000e-01, 7.01000000e-01, 7.01000000e-01, 7.01000000e-01,\n",
      "       2.83603678e+03]), 25: array([7.04600000e-01, 7.04600000e-01, 7.04600000e-01, 7.04600000e-01,\n",
      "       5.01362587e+03]), 42: array([6.9920000e-01, 6.9920000e-01, 6.9920000e-01, 6.9920000e-01,\n",
      "       8.4542112e+03])}\n",
      "--------------------------------------------------\n",
      "Using ADAM\n",
      "--------------------------------------------------\n",
      "scanning over lr = [0.0005     0.0005946  0.00070711 0.0008409  0.001      0.00118921\n",
      " 0.00141421 0.00168179 0.002     ]\n",
      "For parameter lr = 0.001 ,  Accuracy=69.8% +/- 0.0%  in 4809.1 seconds\n",
      "For parameter lr = 0.001 ,  Accuracy=69.8% +/- 0.0%  in 4809.1 seconds\n",
      "For parameter lr = 0.001 ,  Accuracy=69.8% +/- 0.0%  in 4809.1 seconds\n",
      "For parameter lr = 0.001 ,  Accuracy=69.8% +/- 0.0%  in 4809.1 seconds\n",
      "For parameter lr = 0.001 ,  Accuracy=69.8% +/- 0.0%  in 4809.1 seconds\n",
      "For parameter lr = 0.001 ,  Accuracy=69.8% +/- 0.0%  in 4809.1 seconds\n",
      "For parameter lr = 0.001 ,  Accuracy=69.8% +/- 0.0%  in 4809.1 seconds\n",
      "For parameter lr = 0.002 ,  Accuracy=69.7% +/- 0.0%  in 5232.5 seconds\n",
      "For parameter lr = 0.002 ,  Accuracy=69.7% +/- 0.0%  in 5232.5 seconds\n",
      "accuracies= {0.0005: array([6.97800000e-01, 6.97800000e-01, 6.97800000e-01, 6.97800000e-01,\n",
      "       4.80912724e+03]), 0.0005946035575013605: array([6.97800000e-01, 6.97800000e-01, 6.97800000e-01, 6.97800000e-01,\n",
      "       4.80912724e+03]), 0.0007071067811865476: array([6.97800000e-01, 6.97800000e-01, 6.97800000e-01, 6.97800000e-01,\n",
      "       4.80912724e+03]), 0.0008408964152537145: array([6.97800000e-01, 6.97800000e-01, 6.97800000e-01, 6.97800000e-01,\n",
      "       4.80912724e+03]), 0.001: array([6.97800000e-01, 6.97800000e-01, 6.97800000e-01, 6.97800000e-01,\n",
      "       4.80912724e+03]), 0.001189207115002721: array([6.97800000e-01, 6.97800000e-01, 6.97800000e-01, 6.97800000e-01,\n",
      "       4.80912724e+03]), 0.0014142135623730952: array([6.97800000e-01, 6.97800000e-01, 6.97800000e-01, 6.97800000e-01,\n",
      "       4.80912724e+03]), 0.001681792830507429: array([6.97400000e-01, 6.97400000e-01, 6.97400000e-01, 6.97400000e-01,\n",
      "       5.23245306e+03]), 0.002: array([6.97400000e-01, 6.97400000e-01, 6.97400000e-01, 6.97400000e-01,\n",
      "       5.23245306e+03])}\n",
      "scanning over momentum = [0.15       0.17838107 0.21213203 0.25226892 0.3        0.35676213\n",
      " 0.42426407 0.50453785 0.6       ]\n",
      "For parameter momentum = 0.150 ,  Accuracy=70.2% +/- 0.0%  in 4878.7 seconds\n",
      "For parameter momentum = 0.178 ,  Accuracy=70.6% +/- 0.0%  in 5026.3 seconds\n",
      "For parameter momentum = 0.212 ,  Accuracy=70.6% +/- 0.0%  in 4972.0 seconds\n",
      "For parameter momentum = 0.252 ,  Accuracy=69.7% +/- 0.0%  in 5026.1 seconds\n",
      "For parameter momentum = 0.300 ,  Accuracy=70.5% +/- 0.0%  in 5041.6 seconds\n",
      "For parameter momentum = 0.357 ,  Accuracy=70.6% +/- 0.0%  in 4991.1 seconds\n",
      "For parameter momentum = 0.424 ,  Accuracy=69.7% +/- 0.0%  in 5154.9 seconds\n",
      "For parameter momentum = 0.505 ,  Accuracy=69.8% +/- 0.0%  in 4484.1 seconds\n",
      "For parameter momentum = 0.600 ,  Accuracy=69.7% +/- 0.0%  in 4478.2 seconds\n",
      "accuracies= {0.15: array([7.0240000e-01, 7.0240000e-01, 7.0240000e-01, 7.0240000e-01,\n",
      "       4.8786894e+03]), 0.17838106725040814: array([7.06000000e-01, 7.06000000e-01, 7.06000000e-01, 7.06000000e-01,\n",
      "       5.02629462e+03]), 0.21213203435596426: array([7.06200000e-01, 7.06200000e-01, 7.06200000e-01, 7.06200000e-01,\n",
      "       4.97197056e+03]), 0.25226892457611433: array([6.96800000e-01, 6.96800000e-01, 6.96800000e-01, 6.96800000e-01,\n",
      "       5.02610257e+03]), 0.3: array([7.04600000e-01, 7.04600000e-01, 7.04600000e-01, 7.04600000e-01,\n",
      "       5.04155077e+03]), 0.3567621345008163: array([7.06200000e-01, 7.06200000e-01, 7.06200000e-01, 7.06200000e-01,\n",
      "       4.99110812e+03]), 0.4242640687119285: array([6.9720000e-01, 6.9720000e-01, 6.9720000e-01, 6.9720000e-01,\n",
      "       5.1549165e+03]), 0.5045378491522287: array([6.98200000e-01, 6.98200000e-01, 6.98200000e-01, 6.98200000e-01,\n",
      "       4.48407107e+03]), 0.6: array([6.96600000e-01, 6.96600000e-01, 6.96600000e-01, 6.96600000e-01,\n",
      "       4.47821306e+03])}\n",
      "scanning over minibatch_size = [50, 59, 70, 84, 100, 118, 141, 168, 200]\n",
      "For parameter minibatch_size = 50 ,  Accuracy=70.5% +/- 0.0%  in 5014.0 seconds\n",
      "For parameter minibatch_size = 59 ,  Accuracy=70.5% +/- 0.0%  in 5015.2 seconds\n",
      "For parameter minibatch_size = 70 ,  Accuracy=70.5% +/- 0.0%  in 5034.4 seconds\n",
      "For parameter minibatch_size = 84 ,  Accuracy=70.5% +/- 0.0%  in 5151.0 seconds\n",
      "For parameter minibatch_size = 100 ,  Accuracy=70.5% +/- 0.0%  in 5199.9 seconds\n",
      "For parameter minibatch_size = 118 ,  Accuracy=70.5% +/- 0.0%  in 5250.5 seconds\n",
      "For parameter minibatch_size = 141 ,  Accuracy=70.5% +/- 0.0%  in 5297.5 seconds\n",
      "For parameter minibatch_size = 168 ,  Accuracy=70.5% +/- 0.0%  in 5311.5 seconds\n",
      "For parameter minibatch_size = 200 ,  Accuracy=70.5% +/- 0.0%  in 5321.5 seconds\n",
      "accuracies= {50: array([7.04600000e-01, 7.04600000e-01, 7.04600000e-01, 7.04600000e-01,\n",
      "       5.01396814e+03]), 59: array([7.0460000e-01, 7.0460000e-01, 7.0460000e-01, 7.0460000e-01,\n",
      "       5.0152394e+03]), 70: array([7.0460000e-01, 7.0460000e-01, 7.0460000e-01, 7.0460000e-01,\n",
      "       5.0344353e+03]), 84: array([7.04600000e-01, 7.04600000e-01, 7.04600000e-01, 7.04600000e-01,\n",
      "       5.15100704e+03]), 100: array([7.04600000e-01, 7.04600000e-01, 7.04600000e-01, 7.04600000e-01,\n",
      "       5.19993973e+03]), 118: array([7.0460000e-01, 7.0460000e-01, 7.0460000e-01, 7.0460000e-01,\n",
      "       5.2505302e+03]), 141: array([7.04600000e-01, 7.04600000e-01, 7.04600000e-01, 7.04600000e-01,\n",
      "       5.29750644e+03]), 168: array([7.04600000e-01, 7.04600000e-01, 7.04600000e-01, 7.04600000e-01,\n",
      "       5.31149059e+03]), 200: array([7.04600000e-01, 7.04600000e-01, 7.04600000e-01, 7.04600000e-01,\n",
      "       5.32149825e+03])}\n",
      "scanning over epochs = [12, 14, 17, 21, 25, 29, 35, 42, 50]\n",
      "For parameter epochs = 12 ,  Accuracy=68.8% +/- 0.0%  in 2413.9 seconds\n",
      "For parameter epochs = 14 ,  Accuracy=70.1% +/- 0.0%  in 2811.3 seconds\n",
      "For parameter epochs = 17 ,  Accuracy=69.8% +/- 0.0%  in 3399.2 seconds\n",
      "For parameter epochs = 21 ,  Accuracy=70.1% +/- 0.0%  in 4325.1 seconds\n",
      "For parameter epochs = 25 ,  Accuracy=70.5% +/- 0.0%  in 5668.5 seconds\n",
      "For parameter epochs = 29 ,  Accuracy=70.4% +/- 0.0%  in 7151.6 seconds\n",
      "For parameter epochs = 35 ,  Accuracy=70.1% +/- 0.0%  in 8459.9 seconds\n",
      "For parameter epochs = 42 ,  Accuracy=69.9% +/- 0.0%  in 10582.3 seconds\n",
      "For parameter epochs = 50 ,   currently locked with  ../data/_tmp_scanning/epochs_adam_50.npy_lock\n",
      "accuracies= {12: array([6.88000000e-01, 6.88000000e-01, 6.88000000e-01, 6.88000000e-01,\n",
      "       2.41391878e+03]), 14: array([7.0100000e-01, 7.0100000e-01, 7.0100000e-01, 7.0100000e-01,\n",
      "       2.8113137e+03]), 17: array([6.98000000e-01, 6.98000000e-01, 6.98000000e-01, 6.98000000e-01,\n",
      "       3.39916665e+03]), 21: array([7.0060000e-01, 7.0060000e-01, 7.0060000e-01, 7.0060000e-01,\n",
      "       4.3251081e+03]), 25: array([7.04600000e-01, 7.04600000e-01, 7.04600000e-01, 7.04600000e-01,\n",
      "       5.66849605e+03]), 29: array([7.04000000e-01, 7.04000000e-01, 7.04000000e-01, 7.04000000e-01,\n",
      "       7.15161161e+03]), 35: array([7.01200000e-01, 7.01200000e-01, 7.01200000e-01, 7.01200000e-01,\n",
      "       8.45990196e+03]), 42: array([6.99200000e-01, 6.99200000e-01, 6.99200000e-01, 6.99200000e-01,\n",
      "       1.05822584e+04])}\n",
      "--------------------------------------------------\n",
      " parameter scan : retina\n",
      "--------------------------------------------------\n",
      "scanning over N_theta = [3, 3, 4, 5, 6, 7, 8, 10, 12]\n",
      "For parameter N_theta = 3 ,  Accuracy=68.5% +/- 0.3%  in 6671.6 seconds\n",
      "For parameter N_theta = 3 ,  Accuracy=68.5% +/- 0.3%  in 6671.6 seconds\n",
      "For parameter N_theta = 4 ,  Accuracy=69.8% +/- 0.5%  in 7153.1 seconds\n",
      "For parameter N_theta = 5 ,  Accuracy=70.7% +/- 0.2%  in 7797.8 seconds\n",
      "For parameter N_theta = 6 ,  Accuracy=70.5% +/- 0.0%  in 6329.4 seconds\n",
      "For parameter N_theta = 7 ,   currently locked with  ../data/_tmp_scanning/N_theta__7.npy_lock\n",
      "For parameter N_theta = 8 ,   currently locked with  ../data/_tmp_scanning/N_theta__8.npy_lock\n",
      "For parameter N_theta = 10 ,   currently locked with  ../data/_tmp_scanning/N_theta__10.npy_lock\n",
      "For parameter N_theta = 12 ,   currently locked with  ../data/_tmp_scanning/N_theta__12.npy_lock\n",
      "accuracies= {3: array([6.90000000e-01, 6.83200000e-01, 6.83200000e-01, 6.83200000e-01,\n",
      "       6.67155493e+03]), 4: array([6.89400000e-01, 7.00400000e-01, 7.00400000e-01, 7.00400000e-01,\n",
      "       7.15305633e+03]), 5: array([7.10200000e-01, 7.05800000e-01, 7.05800000e-01, 7.05800000e-01,\n",
      "       7.79780248e+03]), 6: array([7.04600000e-01, 7.04600000e-01, 7.04600000e-01, 7.04600000e-01,\n",
      "       6.32937796e+03])}\n",
      "scanning over N_azimuth = [8, 9, 11, 13, 16, 19, 22, 26, 32]\n",
      "For parameter N_azimuth = 8 ,  Accuracy=56.8% +/- 0.4%  in 6034.2 seconds\n",
      "For parameter N_azimuth = 9 ,  Accuracy=59.0% +/- 0.2%  in 6441.7 seconds\n",
      "For parameter N_azimuth = 11 ,  Accuracy=65.0% +/- 0.2%  in 6995.4 seconds\n",
      "For parameter N_azimuth = 13 ,   currently locked with  ../data/_tmp_scanning/N_azimuth__13.npy_lock\n",
      "For parameter N_azimuth = 16 ,   currently locked with  ../data/_tmp_scanning/N_azimuth__16.npy_lock\n",
      "For parameter N_azimuth = 19 ,   currently locked with  ../data/_tmp_scanning/N_azimuth__19.npy_lock\n",
      "For parameter N_azimuth = 22 ,   currently locked with  ../data/_tmp_scanning/N_azimuth__22.npy_lock\n",
      "For parameter N_azimuth = 26 ,   currently locked with  ../data/_tmp_scanning/N_azimuth__26.npy_lock\n",
      "For parameter N_azimuth = 32 ,   currently locked with  ../data/_tmp_scanning/N_azimuth__32.npy_lock\n",
      "accuracies= {8: array([5.74200000e-01, 5.65800000e-01, 5.65800000e-01, 5.65800000e-01,\n",
      "       6.03417199e+03]), 9: array([5.86600000e-01, 5.91000000e-01, 5.91000000e-01, 5.91000000e-01,\n",
      "       6.44166832e+03]), 11: array([6.47200000e-01, 6.51400000e-01, 6.51400000e-01, 6.51400000e-01,\n",
      "       6.99541722e+03])}\n",
      "scanning over N_eccentricity = [5, 5, 7, 8, 10, 11, 14, 16, 20]\n",
      "For parameter N_eccentricity = 5 ,   currently locked with  ../data/_tmp_scanning/N_eccentricity__5.npy_lock\n",
      "For parameter N_eccentricity = 5 ,   currently locked with  ../data/_tmp_scanning/N_eccentricity__5.npy_lock\n",
      "For parameter N_eccentricity = 7 ,   currently locked with  ../data/_tmp_scanning/N_eccentricity__7.npy_lock\n",
      "For parameter N_eccentricity = 8 ,   currently locked with  ../data/_tmp_scanning/N_eccentricity__8.npy_lock\n",
      "For parameter N_eccentricity = 10 ,   currently locked with  ../data/_tmp_scanning/N_eccentricity__10.npy_lock\n",
      "For parameter N_eccentricity = 11 ,   currently locked with  ../data/_tmp_scanning/N_eccentricity__11.npy_lock\n",
      "For parameter N_eccentricity = 14 ,   currently locked with  ../data/_tmp_scanning/N_eccentricity__14.npy_lock\n",
      "For parameter N_eccentricity = 16 ,   currently locked with  ../data/_tmp_scanning/N_eccentricity__16.npy_lock\n",
      "For parameter N_eccentricity = 20 ,   currently locked with  ../data/_tmp_scanning/N_eccentricity__20.npy_lock\n",
      "accuracies= {}\n",
      "scanning over rho = [0.705      0.83839102 0.99702056 1.18566395 1.41       1.67678203\n",
      " 1.99404112 2.37132789 2.82      ]\n",
      "For parameter rho = 0.705 ,   currently locked with  ../data/_tmp_scanning/rho__0_705.npy_lock\n",
      "For parameter rho = 0.838 ,   currently locked with  ../data/_tmp_scanning/rho__0_838.npy_lock\n",
      "For parameter rho = 0.997 ,   currently locked with  ../data/_tmp_scanning/rho__0_997.npy_lock\n",
      "For parameter rho = 1.186 ,   currently locked with  ../data/_tmp_scanning/rho__1_186.npy_lock\n",
      "For parameter rho = 1.410 ,   currently locked with  ../data/_tmp_scanning/rho__1_410.npy_lock\n",
      "For parameter rho = 1.677 ,   currently locked with  ../data/_tmp_scanning/rho__1_677.npy_lock\n",
      "For parameter rho = 1.994 ,   currently locked with  ../data/_tmp_scanning/rho__1_994.npy_lock\n",
      "For parameter rho = 2.371 ,   currently locked with  ../data/_tmp_scanning/rho__2_371.npy_lock\n",
      "For parameter rho = 2.820 ,   currently locked with  ../data/_tmp_scanning/rho__2_820.npy_lock\n",
      "accuracies= {}\n"
     ]
    }
   ],
   "source": [
    "%run params.py scan"
   ]
  },
  {
   "cell_type": "code",
   "execution_count": 5,
   "metadata": {},
   "outputs": [
    {
     "name": "stdout",
     "output_type": "stream",
     "text": [
      "{}\n"
     ]
    }
   ],
   "source": [
    "print(accuracies)"
   ]
  },
  {
   "cell_type": "code",
   "execution_count": 6,
   "metadata": {},
   "outputs": [
    {
     "data": {
      "text/plain": [
       "([0.1,\n",
       "  0.11892071150027211,\n",
       "  0.14142135623730953,\n",
       "  0.16817928305074292,\n",
       "  0.2,\n",
       "  0.23784142300054423,\n",
       "  0.28284271247461906,\n",
       "  0.33635856610148585,\n",
       "  0.4,\n",
       "  0.11892071150027211,\n",
       "  0.2,\n",
       "  0.33635856610148585],\n",
       " [65.01000000000002,\n",
       "  65.97500000000001,\n",
       "  66.90000000000002,\n",
       "  68.98499999999999,\n",
       "  70.46000000000001,\n",
       "  71.16,\n",
       "  71.61499999999998,\n",
       "  72.58,\n",
       "  73.74499999999999,\n",
       "  65.97500000000001,\n",
       "  70.46000000000001,\n",
       "  72.58])"
      ]
     },
     "execution_count": 6,
     "metadata": {},
     "output_type": "execute_result"
    }
   ],
   "source": [
    "results['sf_0']['value'],  results['sf_0']['accuracy']"
   ]
  },
  {
   "cell_type": "markdown",
   "metadata": {},
   "source": [
    "## parameter scan"
   ]
  },
  {
   "cell_type": "code",
   "execution_count": 7,
   "metadata": {
    "ExecuteTime": {
     "end_time": "2018-10-02T14:43:36.869364Z",
     "start_time": "2018-10-02T14:43:34.013330Z"
    }
   },
   "outputs": [
    {
     "name": "stdout",
     "output_type": "stream",
     "text": [
      "---> sf_0\n"
     ]
    },
    {
     "data": {
      "image/png": "[encoded data removed]",
      "text/plain": [
       "<Figure size 576x216 with 1 Axes>"
      ]
     },
     "metadata": {
      "needs_background": "light"
     },
     "output_type": "display_data"
    },
    {
     "name": "stdout",
     "output_type": "stream",
     "text": [
      "---> B_sf\n"
     ]
    },
    {
     "data": {
      "image/png": "[encoded data removed]",
      "text/plain": [
       "<Figure size 576x216 with 1 Axes>"
      ]
     },
     "metadata": {
      "needs_background": "light"
     },
     "output_type": "display_data"
    },
    {
     "name": "stdout",
     "output_type": "stream",
     "text": [
      "---> offset_std\n"
     ]
    },
    {
     "data": {
      "image/png": "[encoded data removed]",
      "text/plain": [
       "<Figure size 576x216 with 1 Axes>"
      ]
     },
     "metadata": {
      "needs_background": "light"
     },
     "output_type": "display_data"
    },
    {
     "name": "stdout",
     "output_type": "stream",
     "text": [
      "---> contrast\n"
     ]
    },
    {
     "data": {
      "image/png": "[encoded data removed]",
      "text/plain": [
       "<Figure size 576x216 with 1 Axes>"
      ]
     },
     "metadata": {
      "needs_background": "light"
     },
     "output_type": "display_data"
    },
    {
     "name": "stdout",
     "output_type": "stream",
     "text": [
      "---> dim1\n"
     ]
    },
    {
     "data": {
      "image/png": "[encoded data removed]",
      "text/plain": [
       "<Figure size 576x216 with 1 Axes>"
      ]
     },
     "metadata": {
      "needs_background": "light"
     },
     "output_type": "display_data"
    },
    {
     "name": "stdout",
     "output_type": "stream",
     "text": [
      "---> bn1_bn_momentum\n"
     ]
    },
    {
     "data": {
      "image/png": "[encoded data removed]",
      "text/plain": [
       "<Figure size 576x216 with 1 Axes>"
      ]
     },
     "metadata": {
      "needs_background": "light"
     },
     "output_type": "display_data"
    },
    {
     "name": "stdout",
     "output_type": "stream",
     "text": [
      "---> dim2\n"
     ]
    },
    {
     "data": {
      "image/png": "[encoded data removed]",
      "text/plain": [
       "<Figure size 576x216 with 1 Axes>"
      ]
     },
     "metadata": {
      "needs_background": "light"
     },
     "output_type": "display_data"
    },
    {
     "name": "stdout",
     "output_type": "stream",
     "text": [
      "---> bn2_bn_momentum\n"
     ]
    },
    {
     "data": {
      "image/png": "[encoded data removed]",
      "text/plain": [
       "<Figure size 576x216 with 1 Axes>"
      ]
     },
     "metadata": {
      "needs_background": "light"
     },
     "output_type": "display_data"
    },
    {
     "name": "stdout",
     "output_type": "stream",
     "text": [
      "---> p_dropout\n"
     ]
    },
    {
     "data": {
      "image/png": "[encoded data removed]",
      "text/plain": [
       "<Figure size 576x216 with 1 Axes>"
      ]
     },
     "metadata": {
      "needs_background": "light"
     },
     "output_type": "display_data"
    },
    {
     "name": "stdout",
     "output_type": "stream",
     "text": [
      "---> lr\n"
     ]
    },
    {
     "data": {
      "image/png": "[encoded data removed]",
      "text/plain": [
       "<Figure size 576x216 with 1 Axes>"
      ]
     },
     "metadata": {
      "needs_background": "light"
     },
     "output_type": "display_data"
    },
    {
     "name": "stdout",
     "output_type": "stream",
     "text": [
      "---> momentum\n"
     ]
    },
    {
     "data": {
      "image/png": "[encoded data removed]",
      "text/plain": [
       "<Figure size 576x216 with 1 Axes>"
      ]
     },
     "metadata": {
      "needs_background": "light"
     },
     "output_type": "display_data"
    },
    {
     "name": "stdout",
     "output_type": "stream",
     "text": [
      "---> minibatch_size\n"
     ]
    },
    {
     "data": {
      "image/png": "[encoded data removed]",
      "text/plain": [
       "<Figure size 576x216 with 1 Axes>"
      ]
     },
     "metadata": {
      "needs_background": "light"
     },
     "output_type": "display_data"
    },
    {
     "name": "stdout",
     "output_type": "stream",
     "text": [
      "---> epochs\n"
     ]
    },
    {
     "data": {
      "image/png": "[encoded data removed]",
      "text/plain": [
       "<Figure size 576x216 with 1 Axes>"
      ]
     },
     "metadata": {
      "needs_background": "light"
     },
     "output_type": "display_data"
    },
    {
     "name": "stdout",
     "output_type": "stream",
     "text": [
      "---> N_theta\n"
     ]
    },
    {
     "data": {
      "image/png": "[encoded data removed]",
      "text/plain": [
       "<Figure size 576x216 with 1 Axes>"
      ]
     },
     "metadata": {
      "needs_background": "light"
     },
     "output_type": "display_data"
    },
    {
     "name": "stdout",
     "output_type": "stream",
     "text": [
      "---> N_azimuth\n"
     ]
    },
    {
     "data": {
      "image/png": "[encoded data removed]",
      "text/plain": [
       "<Figure size 576x216 with 1 Axes>"
      ]
     },
     "metadata": {
      "needs_background": "light"
     },
     "output_type": "display_data"
    },
    {
     "name": "stdout",
     "output_type": "stream",
     "text": [
      "---> N_eccentricity\n"
     ]
    },
    {
     "data": {
      "image/png": "[encoded data removed]",
      "text/plain": [
       "<Figure size 576x216 with 1 Axes>"
      ]
     },
     "metadata": {
      "needs_background": "light"
     },
     "output_type": "display_data"
    },
    {
     "name": "stdout",
     "output_type": "stream",
     "text": [
      "---> rho\n"
     ]
    },
    {
     "data": {
      "image/png": "[encoded data removed]",
      "text/plain": [
       "<Figure size 576x216 with 1 Axes>"
      ]
     },
     "metadata": {
      "needs_background": "light"
     },
     "output_type": "display_data"
    }
   ],
   "source": [
    "for parameter in results.keys():\n",
    "    print('--->',  parameter)\n",
    "    fig, ax = plt.subplots(figsize=(8, 3))\n",
    "    ax.plot(results[parameter]['value'], \n",
    "            results[parameter]['accuracy'], 'r.')\n",
    "    plt.xlabel('Variable ' +  parameter)\n",
    "    plt.ylabel('Accuracy (%)')\n",
    "\n",
    "    plt.show()"
   ]
  },
  {
   "cell_type": "code",
   "execution_count": 8,
   "metadata": {},
   "outputs": [
    {
     "data": {
      "text/plain": [
       "{'value': [0.1,\n",
       "  0.11892071150027211,\n",
       "  0.14142135623730953,\n",
       "  0.16817928305074292,\n",
       "  0.2,\n",
       "  0.23784142300054423,\n",
       "  0.28284271247461906,\n",
       "  0.33635856610148585,\n",
       "  0.4,\n",
       "  0.11892071150027211,\n",
       "  0.2,\n",
       "  0.33635856610148585],\n",
       " 'accuracy': [65.01000000000002,\n",
       "  65.97500000000001,\n",
       "  66.90000000000002,\n",
       "  68.98499999999999,\n",
       "  70.46000000000001,\n",
       "  71.16,\n",
       "  71.61499999999998,\n",
       "  72.58,\n",
       "  73.74499999999999,\n",
       "  65.97500000000001,\n",
       "  70.46000000000001,\n",
       "  72.58]}"
      ]
     },
     "execution_count": 8,
     "metadata": {},
     "output_type": "execute_result"
    }
   ],
   "source": [
    "results['sf_0']"
   ]
  },
  {
   "cell_type": "code",
   "execution_count": 9,
   "metadata": {},
   "outputs": [],
   "source": [
    "def plot_accuracy(value, accuracy, xmin=10):\n",
    "    fig, ax = plt.subplots(figsize=(5, 5))\n",
    "    ax.plot(accuracy, value, \"o\", color='blue')\n",
    "    ax.hlines(y=value, xmin=accuracy, xmax=100, color='red')\n",
    "    ax.hlines(y=value, xmin=xmin, xmax=accuracy, color='skyblue')\n",
    "\n",
    "    plt.ylabel(parameter.capitalize())\n",
    "    #print( results[parameter]['value'] )\n",
    "    #print( np.min([np.float(k) for k in results[parameter]['value']]))\n",
    "    #ax.vlines(100, np.min(results[parameter]['value']), np.max(results[parameter]['value']), 'k', label='max')\n",
    "    plt.xlabel('Accuracy (%)')\n",
    "    # Only draw spine between the y-ticks\n",
    "    #ax.spines['left'].set_bounds(-1, 1)\n",
    "    # Hide the right and top spines\n",
    "    ax.spines['right'].set_visible(False)\n",
    "    ax.spines['top'].set_visible(False)\n",
    "    # Only show ticks on the left and bottom spines\n",
    "    ax.yaxis.set_ticks_position('left')\n",
    "    ax.xaxis.set_ticks_position('bottom')\n",
    "\n",
    "    return fig, ax"
   ]
  },
  {
   "cell_type": "code",
   "execution_count": 10,
   "metadata": {
    "ExecuteTime": {
     "end_time": "2018-10-02T14:43:40.994298Z",
     "start_time": "2018-10-02T14:43:36.893054Z"
    },
    "scrolled": false
   },
   "outputs": [
    {
     "name": "stdout",
     "output_type": "stream",
     "text": [
      "---> sf_0\n"
     ]
    },
    {
     "data": {
      "image/png": "[encoded data removed]",
      "text/plain": [
       "<Figure size 360x360 with 1 Axes>"
      ]
     },
     "metadata": {
      "needs_background": "light"
     },
     "output_type": "display_data"
    },
    {
     "name": "stdout",
     "output_type": "stream",
     "text": [
      "---> B_sf\n"
     ]
    },
    {
     "data": {
      "image/png": "[encoded data removed]",
      "text/plain": [
       "<Figure size 360x360 with 1 Axes>"
      ]
     },
     "metadata": {
      "needs_background": "light"
     },
     "output_type": "display_data"
    },
    {
     "name": "stdout",
     "output_type": "stream",
     "text": [
      "---> offset_std\n"
     ]
    },
    {
     "data": {
      "image/png": "[encoded data removed]",
      "text/plain": [
       "<Figure size 360x360 with 1 Axes>"
      ]
     },
     "metadata": {
      "needs_background": "light"
     },
     "output_type": "display_data"
    },
    {
     "name": "stdout",
     "output_type": "stream",
     "text": [
      "---> contrast\n"
     ]
    },
    {
     "data": {
      "image/png": "[encoded data removed]",
      "text/plain": [
       "<Figure size 360x360 with 1 Axes>"
      ]
     },
     "metadata": {
      "needs_background": "light"
     },
     "output_type": "display_data"
    },
    {
     "name": "stdout",
     "output_type": "stream",
     "text": [
      "---> dim1\n"
     ]
    },
    {
     "data": {
      "image/png": "[encoded data removed]",
      "text/plain": [
       "<Figure size 360x360 with 1 Axes>"
      ]
     },
     "metadata": {
      "needs_background": "light"
     },
     "output_type": "display_data"
    },
    {
     "name": "stdout",
     "output_type": "stream",
     "text": [
      "---> bn1_bn_momentum\n"
     ]
    },
    {
     "data": {
      "image/png": "[encoded data removed]",
      "text/plain": [
       "<Figure size 360x360 with 1 Axes>"
      ]
     },
     "metadata": {
      "needs_background": "light"
     },
     "output_type": "display_data"
    },
    {
     "name": "stdout",
     "output_type": "stream",
     "text": [
      "---> dim2\n"
     ]
    },
    {
     "data": {
      "image/png": "[encoded data removed]",
      "text/plain": [
       "<Figure size 360x360 with 1 Axes>"
      ]
     },
     "metadata": {
      "needs_background": "light"
     },
     "output_type": "display_data"
    },
    {
     "name": "stdout",
     "output_type": "stream",
     "text": [
      "---> bn2_bn_momentum\n"
     ]
    },
    {
     "data": {
      "image/png": "[encoded data removed]",
      "text/plain": [
       "<Figure size 360x360 with 1 Axes>"
      ]
     },
     "metadata": {
      "needs_background": "light"
     },
     "output_type": "display_data"
    },
    {
     "name": "stdout",
     "output_type": "stream",
     "text": [
      "---> p_dropout\n"
     ]
    },
    {
     "data": {
      "image/png": "[encoded data removed]",
      "text/plain": [
       "<Figure size 360x360 with 1 Axes>"
      ]
     },
     "metadata": {
      "needs_background": "light"
     },
     "output_type": "display_data"
    },
    {
     "name": "stdout",
     "output_type": "stream",
     "text": [
      "---> lr\n"
     ]
    },
    {
     "data": {
      "image/png": "[encoded data removed]",
      "text/plain": [
       "<Figure size 360x360 with 1 Axes>"
      ]
     },
     "metadata": {
      "needs_background": "light"
     },
     "output_type": "display_data"
    },
    {
     "name": "stdout",
     "output_type": "stream",
     "text": [
      "---> momentum\n"
     ]
    },
    {
     "data": {
      "image/png": "[encoded data removed]",
      "text/plain": [
       "<Figure size 360x360 with 1 Axes>"
      ]
     },
     "metadata": {
      "needs_background": "light"
     },
     "output_type": "display_data"
    },
    {
     "name": "stdout",
     "output_type": "stream",
     "text": [
      "---> minibatch_size\n"
     ]
    },
    {
     "data": {
      "image/png": "[encoded data removed]",
      "text/plain": [
       "<Figure size 360x360 with 1 Axes>"
      ]
     },
     "metadata": {
      "needs_background": "light"
     },
     "output_type": "display_data"
    },
    {
     "name": "stdout",
     "output_type": "stream",
     "text": [
      "---> epochs\n"
     ]
    },
    {
     "data": {
      "image/png": "[encoded data removed]",
      "text/plain": [
       "<Figure size 360x360 with 1 Axes>"
      ]
     },
     "metadata": {
      "needs_background": "light"
     },
     "output_type": "display_data"
    },
    {
     "name": "stdout",
     "output_type": "stream",
     "text": [
      "---> N_theta\n"
     ]
    },
    {
     "data": {
      "image/png": "[encoded data removed]",
      "text/plain": [
       "<Figure size 360x360 with 1 Axes>"
      ]
     },
     "metadata": {
      "needs_background": "light"
     },
     "output_type": "display_data"
    },
    {
     "name": "stdout",
     "output_type": "stream",
     "text": [
      "---> N_azimuth\n"
     ]
    },
    {
     "data": {
      "image/png": "[encoded data removed]",
      "text/plain": [
       "<Figure size 360x360 with 1 Axes>"
      ]
     },
     "metadata": {
      "needs_background": "light"
     },
     "output_type": "display_data"
    },
    {
     "name": "stdout",
     "output_type": "stream",
     "text": [
      "---> N_eccentricity\n"
     ]
    },
    {
     "data": {
      "image/png": "[encoded data removed]",
      "text/plain": [
       "<Figure size 360x360 with 1 Axes>"
      ]
     },
     "metadata": {
      "needs_background": "light"
     },
     "output_type": "display_data"
    },
    {
     "name": "stdout",
     "output_type": "stream",
     "text": [
      "---> rho\n"
     ]
    },
    {
     "data": {
      "image/png": "[encoded data removed]",
      "text/plain": [
       "<Figure size 360x360 with 1 Axes>"
      ]
     },
     "metadata": {
      "needs_background": "light"
     },
     "output_type": "display_data"
    },
    {
     "name": "stdout",
     "output_type": "stream",
     "text": [
      "\n"
     ]
    }
   ],
   "source": [
    "figname = 'accuracy_'\n",
    "figname = ''\n",
    "\n",
    "tex = ''\n",
    "for parameter in results.keys():\n",
    "    print('--->',  parameter)\n",
    "    fig, ax = plot_accuracy(results[parameter]['accuracy'], results[parameter]['value'])\n",
    "    plt.show()\n",
    "    if not figname == '':\n",
    "        fig_dir = './'\n",
    "        fig_ext = '.pdf'\n",
    "        fname = figname + parameter + fig_ext\n",
    "        tex += \"\\includegraphics[width=.0666\\linewidth]{\"+ fname + \"} \\n\"\n",
    "        fig.savefig(os.path.join(fig_dir, fname),\n",
    "                bbox_inches='tight', pad_inches=0)\n",
    "print(tex)"
   ]
  },
  {
   "cell_type": "markdown",
   "metadata": {},
   "source": [
    "# summary\n"
   ]
  },
  {
   "cell_type": "raw",
   "metadata": {},
   "source": [
    "%ls ../data/_tmp_scanning"
   ]
  },
  {
   "cell_type": "raw",
   "metadata": {},
   "source": [
    "fig = plt.figure(figsize = (figwidth, figwidth/2.5))#1.618))\n",
    "ax_A = plt.subplot(1, 4, 1) \n",
    "data_retina = r.retina(full[idx]['data_fullfield'])\n",
    "ax_A = where.retina.show(ax_A, r.retina_invert(data_retina))\n",
    "    \n",
    "ax_B = plt.subplot(2, 4, 2, projection='polar', autoscale_on=False)\n",
    "ax_B.pcolor(r.theta, r.log_r, accuracy_colliculus[idx, :].numpy().reshape((args.N_azimuth, args.N_eccentricity)))\n",
    "ax_B.grid('off')\n",
    "plt.title('True', fontsize = 14)\n",
    "ax_B.set_yticklabels([])\n",
    "ax_B.set_xticklabels([])\n",
    "\n",
    "ax_Bb = plt.subplot(2, 4, 6, projection='polar')\n",
    "ax_Bb.pcolor(r.theta, r.log_r, pred_accuracy_colliculus[idx, :].reshape((args.N_azimuth, args.N_eccentricity)))\n",
    "ax_Bb.set_title('Predicted', fontsize = 14)\n",
    "ax_Bb.set_yticklabels([])\n",
    "ax_Bb.set_xticklabels([])\n",
    "\n",
    "\n",
    "ax_C = plt.subplot(1, 4, 3)\n",
    "data_fullfield = d.place_object(data[idx, 0, :, :].numpy(), 0, 0)\n",
    "input_vector  =  r.retina(data_fullfield)\n",
    "ax_C = r.show(ax_C, r.retina_invert(input_vector))\n",
    "i_pred, j_pred = where.index_prediction(pred_accuracy_colliculus[idx, :])\n",
    "ax_A.arrow(64.5, 64.5, -i_pred, -j_pred, width=.3, color='r', head_width=4., length_includes_head=True, edgecolor='k')\n",
    "\n",
    "ax_D = plt.subplot(1, 4, 4)\n",
    "width = .8*np.abs(np.gradient(eccentricities)[0])\n",
    "ax_D.bar(eccentricities, accuracy_mean, width=width, alpha = .5, label = 'One saccade')\n",
    "ax_D.plot([eccentricities.min()-width/2, eccentricities.max()+width/2], [0.1]*2, ':', c='k', label = 'Baseline')\n",
    "ax_D.plot([eccentricities.min()-width/2, eccentricities.max()+width/2], [acc_max]*2, ':', c='orange', label = 'Max')\n",
    "\n",
    "plt.legend(loc='upper right')\n",
    "ax_D.set_xlabel('Target eccentricity (pixels)', fontsize = 12)\n",
    "ax_D.set_xticks(eccentricities)\n",
    "ax_D.set_xticklabels(['%.1f' % d for  d in eccentricities])\n",
    "ax_D.set_ylim([0,1])\n",
    "\n",
    "for ax, text in [[ax_A, 'DIS'], [ax_C, 'SAC']]:\n",
    "    ax.text(4, 15, text, fontsize=24,\n",
    "          bbox={'facecolor':'white','alpha':1,'edgecolor':'none','pad':1},\n",
    "          ha='left', va='center') \n",
    "\n",
    "offset = -.015\n",
    "for ax, text, x_offset, y_offset in [[ax_A, 'A', offset, 1.15], [ax_B, 'B', -.25, 1.225], [ax_C, 'C', offset, 1.15], [ax_D, 'D', offset, 1.15]]:\n",
    "    ax.text(x_offset, y_offset, '(' + text + ')', fontsize=24,\n",
    "              bbox={'facecolor':'white','alpha':1,'edgecolor':'none','pad':1},\n",
    "              ha='left', va='center', transform=ax.transAxes) \n",
    "\n",
    "# pos : [left, bottom, width, height] =    The new position of the in `.Figure` coordinates.    \n",
    "plt.tight_layout()\n",
    "ax_A.set_position([0.025, 0.1, .3, .45])\n",
    "ax_B.set_position( [0.24, 0.375, .2, 0.2])\n",
    "ax_Bb.set_position([0.24, 0.1, .2, 0.2])\n",
    "ax_C.set_position([0.35, .1, .3, .45])\n",
    "ax_D.set_position([0.65, .1, .3, .45])\n",
    "fig.savefig(figname + '.pdf', bbox_inches='tight', pad_inches=0.1)"
   ]
  },
  {
   "cell_type": "markdown",
   "metadata": {},
   "source": [
    "# post-processing"
   ]
  },
  {
   "cell_type": "raw",
   "metadata": {
    "ExecuteTime": {
     "end_time": "2018-10-08T14:43:27.591507Z",
     "start_time": "2018-10-08T14:43:24.722160Z"
    }
   },
   "source": [
    "!convert  -density {dpi_export} {figname}.pdf {figname}.jpg\n",
    "!convert  -density {dpi_export} {figname}.pdf {figname}.png\n",
    "#!convert  -density {dpi_export} -resize 5400  -units pixelsperinch -flatten  -compress lzw  -depth 8 {fname}.pdf {fname}.tiff"
   ]
  },
  {
   "cell_type": "raw",
   "metadata": {
    "ExecuteTime": {
     "end_time": "2018-07-03T10:36:00.981927Z",
     "start_time": "2018-07-03T10:36:00.949864Z"
    }
   },
   "source": [
    "from IPython.display import Image\n",
    "Image('{figname}.png'.format(figname=figname))"
   ]
  },
  {
   "cell_type": "code",
   "execution_count": 11,
   "metadata": {
    "ExecuteTime": {
     "end_time": "2018-07-03T10:36:00.939193Z",
     "start_time": "2018-07-03T10:36:00.766218Z"
    }
   },
   "outputs": [
    {
     "name": "stdout",
     "output_type": "stream",
     "text": [
      "-rw-r--r--  1 laurentperrinet  staff     6795 Mar 21 12:58 0_parameters.ipynb\n",
      "-rw-r--r--  1 laurentperrinet  staff  1011995 Mar 15 22:19 1_problem_statement.ipynb\n",
      "-rw-r--r--  1 laurentperrinet  staff   947921 Mar 21 13:00 2_methods.ipynb\n",
      "-rw-r--r--  1 laurentperrinet  staff  3379981 Mar 19 16:41 3_results_figure.ipynb\n",
      "-rw-r--r--  1 laurentperrinet  staff   406419 Mar 21 16:34 4_results_parameters.ipynb\n",
      "-rw-r--r--  1 laurentperrinet  staff      699 Mar 21 12:58 GitQR.png\n",
      "-rw-r--r--  1 laurentperrinet  staff    10772 Mar 21 16:34 debug.log\n",
      "-rw-r--r--  1 laurentperrinet  staff     9756 Mar 19 11:44 debug_conflict-20190319-114414.log\n",
      "-rw-r--r--  1 laurentperrinet  staff     7183 Mar 21 16:05 main.py\n",
      "-rw-r--r--  1 laurentperrinet  staff     3263 Mar 21 16:34 params.py\n",
      "-rw-r--r--  1 laurentperrinet  staff    16824 Mar 20 15:12 retina.py\n",
      "-rw-r--r--  1 laurentperrinet  staff      263 Mar 21 16:34 train.py\n",
      "-rw-r--r--  1 laurentperrinet  staff     5023 Mar 14 13:59 what.py\n",
      "-rw-r--r--  1 laurentperrinet  staff    16388 Mar 21 11:56 where.py\n",
      "\n",
      "__pycache__:\n",
      "total 80\n",
      "-rw-r--r--  1 laurentperrinet  staff   5104 Mar 21 16:14 main.cpython-37.pyc\n",
      "-rw-r--r--  1 laurentperrinet  staff  10382 Mar 21 12:47 retina.cpython-37.pyc\n",
      "-rw-r--r--  1 laurentperrinet  staff   4185 Mar 18 18:32 what.cpython-37.pyc\n",
      "-rw-r--r--  1 laurentperrinet  staff  10538 Mar 21 12:47 where.cpython-37.pyc\n"
     ]
    }
   ],
   "source": [
    "!ls  -l {figname}*"
   ]
  },
  {
   "cell_type": "code",
   "execution_count": 12,
   "metadata": {},
   "outputs": [
    {
     "data": {
      "text/plain": [
       "array([0.5       , 0.59460356, 0.70710678, 0.84089642, 1.        ,\n",
       "       1.18920712, 1.41421356, 1.68179283, 2.        ])"
      ]
     },
     "execution_count": 12,
     "metadata": {},
     "output_type": "execute_result"
    }
   ],
   "source": [
    "np.logspace(-1, 1, 9, base=2, endpoint=True)"
   ]
  },
  {
   "cell_type": "code",
   "execution_count": 13,
   "metadata": {},
   "outputs": [
    {
     "data": {
      "text/plain": [
       "array([0.25      , 0.35355339, 0.5       , 0.70710678, 1.        ,\n",
       "       1.41421356, 2.        , 2.82842712, 4.        ])"
      ]
     },
     "execution_count": 13,
     "metadata": {},
     "output_type": "execute_result"
    }
   ],
   "source": [
    "np.logspace(-1, 1, 9, base=4, endpoint=True)"
   ]
  },
  {
   "cell_type": "code",
   "execution_count": 14,
   "metadata": {},
   "outputs": [
    {
     "data": {
      "text/plain": [
       "array([0.25      , 0.35355339, 0.5       , 0.70710678, 1.        ,\n",
       "       1.41421356, 2.        , 2.82842712, 4.        ])"
      ]
     },
     "execution_count": 14,
     "metadata": {},
     "output_type": "execute_result"
    }
   ],
   "source": [
    "np.logspace(-1, 1, 9, base=4)"
   ]
  },
  {
   "cell_type": "code",
   "execution_count": null,
   "metadata": {},
   "outputs": [],
   "source": []
  }
 ],
 "metadata": {
  "kernelspec": {
   "display_name": "Python 3",
   "language": "python",
   "name": "python3"
  },
  "language_info": {
   "codemirror_mode": {
    "name": "ipython",
    "version": 3
   },
   "file_extension": ".py",
   "mimetype": "text/x-python",
   "name": "python",
   "nbconvert_exporter": "python",
   "pygments_lexer": "ipython3",
   "version": "3.7.2"
  }
 },
 "nbformat": 4,
 "nbformat_minor": 2
}
