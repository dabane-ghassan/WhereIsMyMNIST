{
 "cells": [
  {
   "cell_type": "markdown",
   "metadata": {},
   "source": [
    "This notebook introduces the problem addressed in this paper:\n",
    "\n",
    " - localizating an object in a large image\n",
    " - foveation\n",
    " - action (saccade)\n",
    " "
   ]
  },
  {
   "cell_type": "code",
   "execution_count": 1,
   "metadata": {},
   "outputs": [
    {
     "name": "stdout",
     "output_type": "stream",
     "text": [
      "\n",
      "This notebook introduces the problem addressed in this paper:\n",
      "\n",
      " - localizating an object in a large image\n",
      " - foveation\n",
      " - action (saccade)\n",
      "       \n",
      "      \n",
      "Using filename= ../data/2019-04-05\n",
      "{'w': 28, 'minibatch_size': 100, 'train_batch_size': 50000, 'test_batch_size': 10000, 'noise_batch_size': 1000, 'mean': 0.1307, 'std': 0.3081, 'N_pic': 128, 'offset_std': 30, 'offset_max': 34, 'noise': 0.75, 'contrast': 0.5, 'sf_0': 0.2, 'B_sf': 0.08, 'N_theta': 6, 'N_azimuth': 26, 'N_eccentricity': 10, 'N_phase': 2, 'rho': 1.41, 'bias_deconv': True, 'p_dropout': 0.0, 'dim1': 382, 'dim2': 618, 'lr': 0.005, 'do_adam': True, 'bn1_bn_momentum': 0.5, 'bn2_bn_momentum': 0.5, 'momentum': 0.3, 'epochs': 25, 'num_processes': 1, 'no_cuda': True, 'log_interval': 100, 'verbose': 1, 'filename': '../data/2019-04-05', 'seed': 2019, 'N_cv': 10, 'do_compute': True}\n",
      "Overwriting train.py\n",
      "2019-04-05T08:51:56+02:00\n",
      "\n",
      "CPython 3.7.2\n",
      "IPython 7.4.0\n",
      "\n",
      "numpy 1.16.2\n",
      "matplotlib 3.0.3\n",
      "torch 1.0.1.post2\n",
      "\n",
      "compiler   : Clang 10.0.0 (clang-1000.11.45.5)\n",
      "system     : Darwin\n",
      "release    : 18.2.0\n",
      "machine    : x86_64\n",
      "processor  : i386\n",
      "CPU cores  : 36\n",
      "interpreter: 64bit\n",
      "host name  : fortytwo\n",
      "Git hash   : b1432f046aa1de154273965a057fdf00d3bd3bb4\n",
      "Git repo   : https://github.com/laurentperrinet/WhereIsMyMNIST\n",
      "Git branch : master\n"
     ]
    }
   ],
   "source": [
    "%run 0_parameters.ipynb"
   ]
  },
  {
   "cell_type": "code",
   "execution_count": 2,
   "metadata": {
    "ExecuteTime": {
     "end_time": "2018-07-03T10:34:13.258190Z",
     "start_time": "2018-07-03T10:34:13.251661Z"
    },
    "collapsed": true
   },
   "outputs": [],
   "source": [
    "figname = '../paper/fig_params'"
   ]
  },
  {
   "cell_type": "code",
   "execution_count": 3,
   "metadata": {},
   "outputs": [
    {
     "name": "stdout",
     "output_type": "stream",
     "text": [
      "Overwriting params.py\n"
     ]
    }
   ],
   "source": [
    "%%writefile params.py\n",
    "import os\n",
    "import torch\n",
    "from main import init, MetaML\n",
    "from where import Where as ML\n",
    "from what import WhatNet\n",
    "import numpy as np        \n",
    "import sys\n",
    "opts = dict(filename='../data/2019-03-30', verbose=0, log_interval=0, do_compute=False  if len(sys.argv) > 1 else True)\n",
    "#opts = dict(filename='debug', verbose=0, log_interval=0)\n",
    "print('do_compute =', opts['do_compute'])\n",
    "\n",
    "print(50*'-')\n",
    "print(' parameter scan')\n",
    "print(50*'-')\n",
    "\n",
    "if opts['do_compute']:\n",
    "    args = init(**opts)\n",
    "    #args.filename = '../data/2019-03-27'\n",
    "    filename_train = args.filename + '_train.pt'\n",
    "    if not(os.path.isfile(filename_train + '_lock')):\n",
    "        open(filename_train + '_lock', 'w').close()\n",
    "        print(50*'-')\n",
    "        print('Default parameters')\n",
    "        print(50*'-')\n",
    "        from where import Where as ML\n",
    "        from what import WhatNet\n",
    "        ml = ML(args)\n",
    "        ml.train(path=filename_train)\n",
    "        # ml.main(path=args.filename)\n",
    "        try:\n",
    "            os.remove(filename_train + '_lock')\n",
    "        except:\n",
    "            pass\n",
    "\n",
    "if True:\n",
    "    args = init(**opts)\n",
    "    mml = MetaML(args)\n",
    "    if torch.cuda.is_available():\n",
    "        mml.scan('no_cuda', [True, False])\n",
    "\n",
    "    args = init(**opts)\n",
    "    mml = MetaML(args)\n",
    "    mml.scan('bias_deconv', [True, False])\n",
    "\n",
    "results = {}\n",
    "    \n",
    "def update_results(results, parameter, accuracies, ci=0.01):\n",
    "    from scipy.stats import beta\n",
    "\n",
    "    if not parameter in results.keys(): results[parameter] = dict(value=[], accuracy=[], p_low=[], p_sup=[])\n",
    "    for value in accuracies.keys():\n",
    "        results[parameter]['value'].append(value)\n",
    "        results[parameter]['accuracy'].append(accuracies[value][:-1].mean()*100)\n",
    "        try:\n",
    "            a1, b1, loc1, scale1 = beta.fit(accuracies[value][:-1], floc=0, fscale=1)\n",
    "            p_low, p_sup = beta.ppf([ci, 1-ci], a=a1, b=b1)\n",
    "            #print(p_low, p_sup)\n",
    "            results[parameter]['p_low'].append(p_low*100)\n",
    "            results[parameter]['p_sup'].append(p_sup*100)\n",
    "        except:\n",
    "            results[parameter]['p_low'].append(accuracies[value][:-1].mean()*100)\n",
    "            results[parameter]['p_sup'].append(accuracies[value][:-1].mean()*100)\n",
    "        \n",
    "    return results\n",
    "            \n",
    "bases = [2]\n",
    "#bases = [np.sqrt(2), 2, 2*np.sqrt(2)]    \n",
    "for base in bases if not args.filename == '../data/debug' else [2]:\n",
    "    print(50*'-')\n",
    "    print(' base=', base)\n",
    "    print(50*'-')\n",
    "\n",
    "    print(50*'-')\n",
    "    print(' parameter scan : data')\n",
    "    print(50*'-')\n",
    "    args = init(**opts)\n",
    "    mml = MetaML(args, base=base)\n",
    "    for parameter in ['sf_0', 'B_sf', 'offset_std' , 'noise', 'contrast']: #\n",
    "        accuracies = mml.parameter_scan(parameter)\n",
    "        results = update_results(results, parameter, accuracies)\n",
    "        \n",
    "    print(50*'-')\n",
    "    print(' parameter scan : network')\n",
    "    print(50*'-')\n",
    "    args = init(**opts)\n",
    "    mml = MetaML(args)\n",
    "    for parameter in ['dim1',\n",
    "                      'bn1_bn_momentum',\n",
    "                      'dim2',\n",
    "                      'bn2_bn_momentum',\n",
    "                      'p_dropout']:\n",
    "        accuracies = mml.parameter_scan(parameter)\n",
    "        results = update_results(results, parameter, accuracies)\n",
    "\n",
    "    print(' parameter scan : learning ')\n",
    "    args = init(**opts)\n",
    "    mml = MetaML(args, base=base, tag='SGD')\n",
    "    print(50*'-')\n",
    "    print('Using SGD')\n",
    "    print(50*'-')\n",
    "    for parameter in ['lr', 'momentum', 'minibatch_size', 'epochs']:\n",
    "        accuracies = mml.parameter_scan(parameter)\n",
    "        results = update_results(results, parameter + '_sgd', accuracies)\n",
    "    print(50*'-')\n",
    "    print('Using ADAM')\n",
    "    print(50*'-')\n",
    "    args = init(**opts)\n",
    "    args.do_adam = True\n",
    "    mml = MetaML(args, base=base, tag='adam')\n",
    "    for parameter in ['lr', 'momentum', 'minibatch_size', 'epochs']:\n",
    "        accuracies = mml.parameter_scan(parameter)\n",
    "        results = update_results(results, parameter + '_adam', accuracies)\n",
    "\n",
    "    print(50*'-')\n",
    "    print(' parameter scan : retina')\n",
    "    print(50*'-')\n",
    "    args = init(**opts)\n",
    "    mml = MetaML(args)\n",
    "    for parameter in ['N_theta',\n",
    "                      'N_azimuth',\n",
    "                      'N_eccentricity',\n",
    "                      'rho']:\n",
    "        accuracies = mml.parameter_scan(parameter)\n",
    "        results = update_results(results, parameter, accuracies)\n",
    "        "
   ]
  },
  {
   "cell_type": "raw",
   "metadata": {},
   "source": [
    "%rm -fr ../data/_tmp_scanning\n",
    "%mkdir -p ../data/_tmp_scanning\n"
   ]
  },
  {
   "cell_type": "code",
   "execution_count": null,
   "metadata": {},
   "outputs": [
    {
     "name": "stdout",
     "output_type": "stream",
     "text": [
      "do_compute = False\n",
      "--------------------------------------------------\n",
      " parameter scan\n",
      "--------------------------------------------------\n",
      "scanning over bias_deconv = [True, False]\n",
      "For parameter bias_deconv = True ,  Accuracy=72.6% +/- 0.0%  in 3696.4 seconds\n",
      "For parameter bias_deconv = False ,  Accuracy=72.6% +/- 0.0%  in 3691.5 seconds\n",
      "--------------------------------------------------\n",
      " base= 2\n",
      "--------------------------------------------------\n",
      "--------------------------------------------------\n",
      " parameter scan : data\n",
      "--------------------------------------------------\n",
      "scanning over sf_0 = [0.1        0.1259921  0.15874011 0.2        0.25198421 0.31748021\n",
      " 0.4       ]\n",
      "For parameter sf_0 = 0.100 ,   currently locked with  ../data/_tmp_scanning/sf_0__0_100.npy_lock\n",
      "For parameter sf_0 = 0.126 ,  Creating training dataset\n"
     ]
    }
   ],
   "source": [
    "%run params.py scan"
   ]
  },
  {
   "cell_type": "markdown",
   "metadata": {},
   "source": [
    "## parameter scan"
   ]
  },
  {
   "cell_type": "code",
   "execution_count": null,
   "metadata": {},
   "outputs": [],
   "source": [
    "def plot_accuracy(result, xmin=10, fig=None, ax=None, ylabel=None):\n",
    "    if fig is None: fig, ax = plt.subplots(figsize=(5, 5))\n",
    "    #ax.plot(result['accuracy'], result['value'], \"o\", color='blue')\n",
    "    # print(value, accuracy)\n",
    "    ax.hlines(y=result['value'], xmin=result['accuracy'], xmax=100, color='red')\n",
    "    ax.hlines(y=result['value'], xmin=xmin, xmax=result['accuracy'], color='skyblue')\n",
    "    ax.hlines(y=result['value'], xmin=result['p_low'], xmax=result['p_sup'], color='blue', alpha=1., lw=7)\n",
    "\n",
    "    if ylabel is None:\n",
    "        ylabel = parameter.capitalize()\n",
    "    ax.set_ylabel(ylabel)\n",
    "    #print( results[parameter]['value'] )\n",
    "    #print( np.min([np.float(k) for k in results[parameter]['value']]))\n",
    "    #ax.vlines(100, np.min(results[parameter]['value']), np.max(results[parameter]['value']), 'k', label='max')\n",
    "    ax.set_xlabel('Accuracy (%)')\n",
    "    # Only draw spine between the y-ticks\n",
    "    #ax.spines['left'].set_bounds(-1, 1)\n",
    "    # Hide the right and top spines\n",
    "    ax.spines['right'].set_visible(False)\n",
    "    ax.spines['top'].set_visible(False)\n",
    "    # Only show ticks on the left and bottom spines\n",
    "    ax.yaxis.set_ticks_position('left')\n",
    "    ax.xaxis.set_ticks_position('bottom')\n",
    "\n",
    "    return fig, ax"
   ]
  },
  {
   "cell_type": "code",
   "execution_count": null,
   "metadata": {
    "ExecuteTime": {
     "end_time": "2018-10-02T14:43:40.994298Z",
     "start_time": "2018-10-02T14:43:36.893054Z"
    },
    "scrolled": false
   },
   "outputs": [],
   "source": [
    "figname_ = 'accuracy_'\n",
    "figname_ = ''\n",
    "\n",
    "tex = ''\n",
    "for parameter in results.keys():\n",
    "    print('--->',  parameter)\n",
    "    fig, ax = plot_accuracy(results[parameter])\n",
    "    plt.show()\n",
    "    if not figname_ == '':\n",
    "        fig_dir = './'\n",
    "        fig_ext = '.pdf'\n",
    "        fname = figname_ + parameter + fig_ext\n",
    "        tex += \"\\includegraphics[width=.0666\\linewidth]{\"+ fname + \"} \\n\"\n",
    "        fig.savefig(os.path.join(fig_dir, fname),\n",
    "                bbox_inches='tight', pad_inches=0)\n",
    "print(tex)"
   ]
  },
  {
   "cell_type": "markdown",
   "metadata": {},
   "source": [
    "# summary\n"
   ]
  },
  {
   "cell_type": "raw",
   "metadata": {},
   "source": [
    "%ls ../data/_tmp_scanning"
   ]
  },
  {
   "cell_type": "code",
   "execution_count": null,
   "metadata": {},
   "outputs": [],
   "source": [
    "results.keys()"
   ]
  },
  {
   "cell_type": "code",
   "execution_count": null,
   "metadata": {},
   "outputs": [],
   "source": [
    "parameters = [['epochs_adam', 'dim1', 'dim2', 'N_azimuth'],\n",
    "              ['noise', 'offset_std', 'sf_0', 'B_sf']]  # '', 'lr', \n",
    "fig, axs = plt.subplots(len(parameters), len(parameters[0]), figsize = (figwidth, figwidth/len(parameters)*1.1), subplot_kw={})\n",
    "\n",
    "for i_row, parameters_ in enumerate(parameters):\n",
    "    for ax, parameter in zip(axs[i_row], parameters_):\n",
    "        fig, ax = plot_accuracy(results[parameter], xmin=10, fig=fig, ax=ax)\n",
    "\n",
    "for ax, text, x_offset, y_offset in [[axs[0][0], 'A', -.35, .95], [axs[0][-1], 'B', -.35, .95], [axs[1][0], 'C', -.35, .95]]:\n",
    "    ax.text(x_offset, y_offset, '(' + text + ')', fontsize=24,\n",
    "              bbox={'facecolor':'white','alpha':1,'edgecolor':'none','pad':1},\n",
    "              ha='left', va='center', transform=ax.transAxes) \n",
    "        \n",
    "plt.tight_layout()\n",
    "fig.savefig(figname + '.pdf', bbox_inches='tight', pad_inches=0.05)"
   ]
  },
  {
   "cell_type": "markdown",
   "metadata": {},
   "source": [
    "# post-processing"
   ]
  },
  {
   "cell_type": "code",
   "execution_count": null,
   "metadata": {
    "ExecuteTime": {
     "end_time": "2018-10-08T14:43:27.591507Z",
     "start_time": "2018-10-08T14:43:24.722160Z"
    }
   },
   "outputs": [],
   "source": [
    "!convert  -density {dpi_export} {figname}.pdf {figname}.jpg\n",
    "!convert  -density {dpi_export} {figname}.pdf {figname}.png\n",
    "#!convert  -density {dpi_export} -resize 5400  -units pixelsperinch -flatten  -compress lzw  -depth 8 {fname}.pdf {fname}.tiff"
   ]
  },
  {
   "cell_type": "code",
   "execution_count": null,
   "metadata": {
    "ExecuteTime": {
     "end_time": "2018-07-03T10:36:00.981927Z",
     "start_time": "2018-07-03T10:36:00.949864Z"
    }
   },
   "outputs": [],
   "source": [
    "from IPython.display import Image\n",
    "Image('{figname}.png'.format(figname=figname))"
   ]
  },
  {
   "cell_type": "code",
   "execution_count": null,
   "metadata": {
    "ExecuteTime": {
     "end_time": "2018-07-03T10:36:00.939193Z",
     "start_time": "2018-07-03T10:36:00.766218Z"
    }
   },
   "outputs": [],
   "source": [
    "!ls  -l {figname}*"
   ]
  }
 ],
 "metadata": {
  "kernelspec": {
   "display_name": "Python 3",
   "language": "python",
   "name": "python3"
  },
  "language_info": {
   "codemirror_mode": {
    "name": "ipython",
    "version": 3
   },
   "file_extension": ".py",
   "mimetype": "text/x-python",
   "name": "python",
   "nbconvert_exporter": "python",
   "pygments_lexer": "ipython3",
   "version": "3.7.3rc1"
  }
 },
 "nbformat": 4,
 "nbformat_minor": 2
}
