{
 "cells": [
  {
   "cell_type": "code",
   "execution_count": 1,
   "metadata": {},
   "outputs": [],
   "source": [
    "%load_ext autoreload\n",
    "%autoreload 2"
   ]
  },
  {
   "cell_type": "code",
   "execution_count": 2,
   "metadata": {},
   "outputs": [
    {
     "name": "stdout",
     "output_type": "stream",
     "text": [
      "\n",
      "This notebook introduces the problem addressed in this paper:\n",
      "\n",
      " - localizating an object in a large image\n",
      " - foveation\n",
      " - action (saccade)\n",
      "       \n",
      "      \n"
     ]
    }
   ],
   "source": [
    "print(\"\"\"\n",
    "This notebook introduces the problem addressed in this paper:\n",
    "\n",
    " - localizating an object in a large image\n",
    " - foveation\n",
    " - action (saccade)\n",
    "       \n",
    "      \"\"\")"
   ]
  },
  {
   "cell_type": "code",
   "execution_count": 3,
   "metadata": {},
   "outputs": [],
   "source": [
    "import os\n",
    "import matplotlib.pyplot as plt\n",
    "import numpy as np\n",
    "from tqdm import tqdm_notebook as tqdm"
   ]
  },
  {
   "cell_type": "code",
   "execution_count": 4,
   "metadata": {},
   "outputs": [],
   "source": [
    "%matplotlib inline\n",
    "fig_width_pt = 525  # Get this from LaTeX using \\showthe\\columnwidth\n",
    "fig_width_pt = 618  # Get this from LaTeX using \\showthe\\columnwidth\n",
    "fig_width_pt = 1024  # Get this from LaTeX using \\showthe\\columnwidth\n",
    "ppi = 72.27 # (constant) definition of the ppi = points per inch\n",
    "inches_per_pt = 1.0/ppi  # Convert pt to inches\n",
    "#inches_per_cm = 1./2.54\n",
    "figwidth = fig_width_pt*inches_per_pt  # width in inches\n",
    "phi = (np.sqrt(5) + 1. ) /2 # golden ratio is good for your eyes\n",
    "dpi_export = 600"
   ]
  },
  {
   "cell_type": "code",
   "execution_count": 5,
   "metadata": {},
   "outputs": [
    {
     "name": "stdout",
     "output_type": "stream",
     "text": [
      "Using filename= ../data/2019-03-19\n"
     ]
    }
   ],
   "source": [
    "from main import init\n",
    "args = init()"
   ]
  },
  {
   "cell_type": "code",
   "execution_count": 6,
   "metadata": {},
   "outputs": [
    {
     "name": "stdout",
     "output_type": "stream",
     "text": [
      "{'w': 28, 'minibatch_size': 100, 'train_batch_size': 50000, 'test_batch_size': 5000, 'noise_batch_size': 1000, 'mean': 0.1307, 'std': 0.3081, 'N_pic': 128, 'offset_std': 30, 'offset_max': 35, 'noise': 0.7, 'contrast': 0.8, 'sf_0': 0.2, 'B_sf': 0.3, 'N_theta': 6, 'N_azimuth': 16, 'N_eccentricity': 10, 'N_phase': 2, 'rho': 1.41, 'bias_deconv': True, 'p_dropout': 0.5, 'dim1': 1000, 'dim2': 1000, 'lr': 0.0001, 'do_adam': True, 'bn1_bn_momentum': 0.0, 'bn2_bn_momentum': 0.0, 'momentum': 0.1, 'epochs': 50, 'num_processes': 1, 'no_cuda': True, 'log_interval': 100, 'verbose': 1, 'filename': '../data/2019-03-19', 'seed': 2019, 'N_cv': 2}\n"
     ]
    }
   ],
   "source": [
    "print(args)"
   ]
  },
  {
   "cell_type": "code",
   "execution_count": 7,
   "metadata": {},
   "outputs": [
    {
     "name": "stdout",
     "output_type": "stream",
     "text": [
      "Overwriting train.py\n"
     ]
    }
   ],
   "source": [
    "%%writefile train.py\n",
    "import torch\n",
    "import easydict\n",
    "\n",
    "from main import init\n",
    "args = init()#'debug')\n",
    "\n",
    "from retina import Display, Retina\n",
    "from where import Where, WhereNet\n",
    "from what import WhatNet\n",
    "where = Where(args)\n",
    "filename_train = args.filename + '_train.pt'\n",
    "where.train(filename_train)\n"
   ]
  },
  {
   "cell_type": "raw",
   "metadata": {},
   "source": [
    "%run train.py"
   ]
  },
  {
   "cell_type": "code",
   "execution_count": 8,
   "metadata": {},
   "outputs": [
    {
     "name": "stdout",
     "output_type": "stream",
     "text": [
      "-rw-r--r--  1 laurentperrinet  wheel   352M Mar 19 14:34 /tmp/dataset_test__0.2_0.3_0.7_0.8_128_30_35_5000.pt\n",
      "-rw-r--r--  1 laurentperrinet  wheel   3.4G Mar 19 15:29 /tmp/dataset_train__0.2_0.3_0.7_0.8_30_35_6_16_10_2_1.41_128_50000.pt\n"
     ]
    }
   ],
   "source": [
    "%ls -ltrh /tmp/*pt"
   ]
  },
  {
   "cell_type": "code",
   "execution_count": 9,
   "metadata": {},
   "outputs": [
    {
     "name": "stdout",
     "output_type": "stream",
     "text": [
      "total 280\n",
      "-rw-r--r--  1 laurentperrinet  staff   216B Mar 18 14:28 sf_0__0_141.npy\n",
      "-rw-r--r--  1 laurentperrinet  staff   216B Mar 18 14:29 sf_0__0_100.npy\n",
      "-rw-r--r--  1 laurentperrinet  staff   216B Mar 18 14:29 sf_0__0_119.npy\n",
      "-rw-r--r--  1 laurentperrinet  staff   216B Mar 18 14:30 sf_0__0_238.npy\n",
      "-rw-r--r--  1 laurentperrinet  staff   216B Mar 18 14:31 sf_0__0_283.npy\n",
      "-rw-r--r--  1 laurentperrinet  staff   216B Mar 18 14:32 sf_0__0_168.npy\n",
      "-rw-r--r--  1 laurentperrinet  staff   216B Mar 18 14:33 sf_0__0_200.npy\n",
      "-rw-r--r--  1 laurentperrinet  staff   216B Mar 18 14:36 bias_deconv__False.npy\n",
      "-rw-r--r--  1 laurentperrinet  staff   216B Mar 18 14:39 bias_deconv__True.npy\n",
      "-rw-r--r--  1 laurentperrinet  staff   152B Mar 19 00:24 sf_0__0_336.npy\n",
      "-rw-r--r--  1 laurentperrinet  staff   152B Mar 19 01:35 sf_0__0_400.npy\n",
      "-rw-r--r--  1 laurentperrinet  staff   152B Mar 19 01:36 B_sf__0_150.npy\n",
      "-rw-r--r--  1 laurentperrinet  staff   152B Mar 19 06:27 B_sf__0_178.npy\n",
      "-rw-r--r--  1 laurentperrinet  staff     0B Mar 19 06:27 offset_std__15.npy_lock\n",
      "-rw-r--r--  1 laurentperrinet  staff   152B Mar 19 06:30 B_sf__0_212.npy\n",
      "-rw-r--r--  1 laurentperrinet  staff     0B Mar 19 06:30 offset_std__17.npy_lock\n",
      "-rw-r--r--  1 laurentperrinet  staff   152B Mar 19 06:30 B_sf__0_252.npy\n",
      "-rw-r--r--  1 laurentperrinet  staff     0B Mar 19 06:30 offset_std__21.npy_lock\n",
      "-rw-r--r--  1 laurentperrinet  staff   152B Mar 19 06:30 B_sf__0_300.npy\n",
      "-rw-r--r--  1 laurentperrinet  staff     0B Mar 19 06:30 offset_std__25.npy_lock\n",
      "-rw-r--r--  1 laurentperrinet  staff   152B Mar 19 06:31 B_sf__0_357.npy\n",
      "-rw-r--r--  1 laurentperrinet  staff     0B Mar 19 06:31 offset_std__30.npy_lock\n",
      "-rw-r--r--  1 laurentperrinet  staff   152B Mar 19 12:32 B_sf__0_424.npy\n",
      "-rw-r--r--  1 laurentperrinet  staff     0B Mar 19 12:32 offset_std__35.npy_lock\n",
      "-rw-r--r--  1 laurentperrinet  staff   152B Mar 19 13:42 B_sf__0_505.npy\n",
      "-rw-r--r--  1 laurentperrinet  staff     0B Mar 19 13:42 offset_std__42.npy_lock\n",
      "-rw-r--r--  1 laurentperrinet  staff   152B Mar 19 13:44 B_sf__0_600.npy\n",
      "-rw-r--r--  1 laurentperrinet  staff     0B Mar 19 13:44 offset_std__50.npy_lock\n",
      "-rw-r--r--  1 laurentperrinet  staff     0B Mar 19 14:33 offset_std__60.npy_lock\n",
      "-rw-r--r--  1 laurentperrinet  staff     0B Mar 19 14:33 noise__0_350.npy_lock\n",
      "-rw-r--r--  1 laurentperrinet  staff     0B Mar 19 14:33 noise__0_416.npy_lock\n",
      "-rw-r--r--  1 laurentperrinet  staff     0B Mar 19 14:33 noise__0_495.npy_lock\n",
      "-rw-r--r--  1 laurentperrinet  staff     0B Mar 19 14:33 noise__0_589.npy_lock\n",
      "-rw-r--r--  1 laurentperrinet  staff     0B Mar 19 14:33 noise__0_700.npy_lock\n",
      "-rw-r--r--  1 laurentperrinet  staff     0B Mar 19 14:33 noise__0_832.npy_lock\n",
      "-rw-r--r--  1 laurentperrinet  staff     0B Mar 19 14:33 noise__0_990.npy_lock\n",
      "-rw-r--r--  1 laurentperrinet  staff     0B Mar 19 14:33 noise__1_177.npy_lock\n",
      "-rw-r--r--  1 laurentperrinet  staff     0B Mar 19 14:33 noise__1_400.npy_lock\n",
      "-rw-r--r--  1 laurentperrinet  staff     0B Mar 19 14:33 contrast__0_400.npy_lock\n",
      "-rw-r--r--  1 laurentperrinet  staff     0B Mar 19 14:33 contrast__0_476.npy_lock\n",
      "-rw-r--r--  1 laurentperrinet  staff     0B Mar 19 14:33 contrast__0_566.npy_lock\n",
      "-rw-r--r--  1 laurentperrinet  staff     0B Mar 19 14:33 contrast__0_673.npy_lock\n",
      "-rw-r--r--  1 laurentperrinet  staff     0B Mar 19 14:33 contrast__0_800.npy_lock\n",
      "-rw-r--r--  1 laurentperrinet  staff     0B Mar 19 14:33 contrast__0_951.npy_lock\n",
      "-rw-r--r--  1 laurentperrinet  staff     0B Mar 19 14:33 contrast__1_131.npy_lock\n",
      "-rw-r--r--  1 laurentperrinet  staff     0B Mar 19 14:33 contrast__1_345.npy_lock\n",
      "-rw-r--r--  1 laurentperrinet  staff     0B Mar 19 14:33 contrast__1_600.npy_lock\n",
      "-rw-r--r--  1 laurentperrinet  staff     0B Mar 19 14:34 sf_0__0_025.npy_lock\n",
      "-rw-r--r--  1 laurentperrinet  staff     0B Mar 19 14:34 sf_0__0_042.npy_lock\n",
      "-rw-r--r--  1 laurentperrinet  staff     0B Mar 19 14:34 sf_0__0_071.npy_lock\n",
      "-rw-r--r--  1 laurentperrinet  staff     0B Mar 19 14:34 sf_0__0_566.npy_lock\n",
      "-rw-r--r--  1 laurentperrinet  staff     0B Mar 19 14:34 sf_0__0_951.npy_lock\n",
      "-rw-r--r--  1 laurentperrinet  staff     0B Mar 19 14:34 sf_0__1_600.npy_lock\n",
      "-rw-r--r--  1 laurentperrinet  staff     0B Mar 19 14:34 B_sf__0_037.npy_lock\n",
      "-rw-r--r--  1 laurentperrinet  staff     0B Mar 19 14:34 B_sf__0_063.npy_lock\n",
      "-rw-r--r--  1 laurentperrinet  staff     0B Mar 19 14:34 B_sf__0_106.npy_lock\n",
      "-rw-r--r--  1 laurentperrinet  staff     0B Mar 19 14:34 B_sf__0_849.npy_lock\n",
      "-rw-r--r--  1 laurentperrinet  staff     0B Mar 19 14:34 B_sf__1_427.npy_lock\n",
      "-rw-r--r--  1 laurentperrinet  staff     0B Mar 19 14:34 B_sf__2_400.npy_lock\n",
      "-rw-r--r--  1 laurentperrinet  staff     0B Mar 19 14:34 offset_std__3.npy_lock\n",
      "-rw-r--r--  1 laurentperrinet  staff     0B Mar 19 14:34 offset_std__6.npy_lock\n",
      "-rw-r--r--  1 laurentperrinet  staff     0B Mar 19 14:34 offset_std__10.npy_lock\n",
      "-rw-r--r--  1 laurentperrinet  staff     0B Mar 19 14:34 offset_std__84.npy_lock\n",
      "-rw-r--r--  1 laurentperrinet  staff     0B Mar 19 14:34 offset_std__142.npy_lock\n",
      "-rw-r--r--  1 laurentperrinet  staff     0B Mar 19 14:34 offset_std__240.npy_lock\n",
      "-rw-r--r--  1 laurentperrinet  staff     0B Mar 19 14:34 noise__0_087.npy_lock\n",
      "-rw-r--r--  1 laurentperrinet  staff     0B Mar 19 14:34 noise__0_147.npy_lock\n",
      "-rw-r--r--  1 laurentperrinet  staff     0B Mar 19 14:34 noise__0_247.npy_lock\n",
      "-rw-r--r--  1 laurentperrinet  staff     0B Mar 19 14:34 noise__1_980.npy_lock\n",
      "-rw-r--r--  1 laurentperrinet  staff     0B Mar 19 14:34 noise__3_330.npy_lock\n",
      "-rw-r--r--  1 laurentperrinet  staff     0B Mar 19 14:34 noise__5_600.npy_lock\n",
      "-rw-r--r--  1 laurentperrinet  staff     0B Mar 19 14:34 contrast__0_100.npy_lock\n",
      "-rw-r--r--  1 laurentperrinet  staff     0B Mar 19 14:34 contrast__0_168.npy_lock\n",
      "-rw-r--r--  1 laurentperrinet  staff     0B Mar 19 14:34 contrast__0_283.npy_lock\n",
      "-rw-r--r--  1 laurentperrinet  staff     0B Mar 19 14:34 contrast__2_263.npy_lock\n",
      "-rw-r--r--  1 laurentperrinet  staff     0B Mar 19 14:34 contrast__3_805.npy_lock\n",
      "-rw-r--r--  1 laurentperrinet  staff     0B Mar 19 14:34 contrast__6_400.npy_lock\n",
      "-rw-r--r--  1 laurentperrinet  staff   152B Mar 19 14:44 dim1__500.npy\n",
      "-rw-r--r--  1 laurentperrinet  staff   152B Mar 19 14:46 bn1_bn_momentum__0_000.npy\n",
      "-rw-r--r--  1 laurentperrinet  staff   152B Mar 19 14:48 bn1_bn_momentum__0_125.npy\n",
      "-rw-r--r--  1 laurentperrinet  staff   152B Mar 19 14:49 bn1_bn_momentum__0_250.npy\n",
      "-rw-r--r--  1 laurentperrinet  staff   152B Mar 19 14:49 bn1_bn_momentum__0_375.npy\n",
      "-rw-r--r--  1 laurentperrinet  staff   152B Mar 19 14:49 bn1_bn_momentum__0_625.npy\n",
      "-rw-r--r--  1 laurentperrinet  staff   152B Mar 19 14:49 bn1_bn_momentum__0_500.npy\n",
      "-rw-r--r--  1 laurentperrinet  staff   152B Mar 19 14:52 dim1__594.npy\n",
      "-rw-r--r--  1 laurentperrinet  staff   152B Mar 19 15:00 bn1_bn_momentum__0_750.npy\n",
      "-rw-r--r--  1 laurentperrinet  staff     0B Mar 19 15:00 dim2__840.npy_lock\n",
      "-rw-r--r--  1 laurentperrinet  staff   152B Mar 19 15:00 dim2__500.npy\n",
      "-rw-r--r--  1 laurentperrinet  staff     0B Mar 19 15:00 dim2__1000.npy_lock\n",
      "-rw-r--r--  1 laurentperrinet  staff   152B Mar 19 15:01 dim2__594.npy\n",
      "-rw-r--r--  1 laurentperrinet  staff     0B Mar 19 15:01 dim2__1189.npy_lock\n",
      "-rw-r--r--  1 laurentperrinet  staff   152B Mar 19 15:02 dim2__707.npy\n",
      "-rw-r--r--  1 laurentperrinet  staff     0B Mar 19 15:02 dim2__1414.npy_lock\n",
      "-rw-r--r--  1 laurentperrinet  staff   152B Mar 19 15:04 bn1_bn_momentum__0_875.npy\n",
      "-rw-r--r--  1 laurentperrinet  staff     0B Mar 19 15:04 dim2__1681.npy_lock\n",
      "-rw-r--r--  1 laurentperrinet  staff   152B Mar 19 15:04 bn1_bn_momentum__1_000.npy\n",
      "-rw-r--r--  1 laurentperrinet  staff     0B Mar 19 15:04 dim2__2000.npy_lock\n",
      "-rw-r--r--  1 laurentperrinet  staff   152B Mar 19 15:05 dim1__707.npy\n",
      "-rw-r--r--  1 laurentperrinet  staff     0B Mar 19 15:05 dim1__840.npy_lock\n"
     ]
    }
   ],
   "source": [
    "%ls -ltrh ../data/_tmp_scanning/"
   ]
  },
  {
   "cell_type": "code",
   "execution_count": 10,
   "metadata": {},
   "outputs": [
    {
     "data": {
      "text/plain": [
       "array([1.00616000e-01, 1.00418000e-01, 6.23789118e+02])"
      ]
     },
     "execution_count": 10,
     "metadata": {},
     "output_type": "execute_result"
    }
   ],
   "source": [
    "np.load('../data/_tmp_scanning/bn1_bn_momentum__0_000.npy')"
   ]
  },
  {
   "cell_type": "code",
   "execution_count": null,
   "metadata": {},
   "outputs": [],
   "source": []
  },
  {
   "cell_type": "markdown",
   "metadata": {},
   "source": [
    "## Version used"
   ]
  },
  {
   "cell_type": "code",
   "execution_count": 11,
   "metadata": {
    "ExecuteTime": {
     "end_time": "2018-10-08T14:53:30.186131Z",
     "start_time": "2018-10-08T14:43:18.414Z"
    }
   },
   "outputs": [],
   "source": [
    "%load_ext watermark"
   ]
  },
  {
   "cell_type": "code",
   "execution_count": 12,
   "metadata": {
    "ExecuteTime": {
     "end_time": "2018-10-08T14:53:30.186131Z",
     "start_time": "2018-10-08T14:43:18.414Z"
    }
   },
   "outputs": [
    {
     "name": "stdout",
     "output_type": "stream",
     "text": [
      "2019-03-19T15:30:59+01:00\n",
      "\n",
      "CPython 3.7.2\n",
      "IPython 7.3.0\n",
      "\n",
      "numpy 1.16.2\n",
      "matplotlib 3.0.3\n",
      "torch 1.0.1.post2\n",
      "\n",
      "compiler   : Clang 10.0.0 (clang-1000.11.45.5)\n",
      "system     : Darwin\n",
      "release    : 18.2.0\n",
      "machine    : x86_64\n",
      "processor  : i386\n",
      "CPU cores  : 36\n",
      "interpreter: 64bit\n",
      "host name  : fortytwo\n",
      "Git hash   : fc44687aa0d37b5bf294870f27fcf86d17d74914\n",
      "Git repo   : https://github.com/laurentperrinet/WhereIsMyMNIST\n",
      "Git branch : master\n"
     ]
    }
   ],
   "source": [
    "%watermark -i -h -m -v -p numpy,matplotlib,torch  -r -g -b"
   ]
  }
 ],
 "metadata": {
  "kernelspec": {
   "display_name": "Python 3",
   "language": "python",
   "name": "python3"
  },
  "language_info": {
   "codemirror_mode": {
    "name": "ipython",
    "version": 3
   },
   "file_extension": ".py",
   "mimetype": "text/x-python",
   "name": "python",
   "nbconvert_exporter": "python",
   "pygments_lexer": "ipython3",
   "version": "3.7.2"
  },
  "toc": {
   "base_numbering": 1,
   "nav_menu": {},
   "number_sections": true,
   "sideBar": true,
   "skip_h1_title": false,
   "title_cell": "Table of Contents",
   "title_sidebar": "Contents",
   "toc_cell": false,
   "toc_position": {},
   "toc_section_display": true,
   "toc_window_display": false
  }
 },
 "nbformat": 4,
 "nbformat_minor": 2
}
