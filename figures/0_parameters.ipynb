{
 "cells": [
  {
   "cell_type": "code",
   "execution_count": 1,
   "metadata": {},
   "outputs": [],
   "source": [
    "%load_ext autoreload\n",
    "%autoreload 2"
   ]
  },
  {
   "cell_type": "code",
   "execution_count": 2,
   "metadata": {},
   "outputs": [
    {
     "name": "stdout",
     "output_type": "stream",
     "text": [
      "\n",
      "This notebook introduces the problem addressed in this paper:\n",
      "\n",
      " - localizating an object in a large image\n",
      " - foveation\n",
      " - action (saccade)\n",
      "       \n",
      "      \n"
     ]
    }
   ],
   "source": [
    "print(\"\"\"\n",
    "This notebook introduces the problem addressed in this paper:\n",
    "\n",
    " - localizating an object in a large image\n",
    " - foveation\n",
    " - action (saccade)\n",
    "       \n",
    "      \"\"\")"
   ]
  },
  {
   "cell_type": "code",
   "execution_count": 3,
   "metadata": {},
   "outputs": [],
   "source": [
    "import matplotlib.pyplot as plt\n",
    "import numpy as np\n"
   ]
  },
  {
   "cell_type": "code",
   "execution_count": 4,
   "metadata": {},
   "outputs": [],
   "source": [
    "%matplotlib inline\n",
    "fig_width_pt = 525  # Get this from LaTeX using \\showthe\\columnwidth\n",
    "fig_width_pt = 618  # Get this from LaTeX using \\showthe\\columnwidth\n",
    "fig_width_pt = 1024  # Get this from LaTeX using \\showthe\\columnwidth\n",
    "ppi = 72.27 # (constant) definition of the ppi = points per inch\n",
    "inches_per_pt = 1.0/ppi  # Convert pt to inches\n",
    "#inches_per_cm = 1./2.54\n",
    "figwidth = fig_width_pt*inches_per_pt  # width in inches\n",
    "phi = (np.sqrt(5) + 1. ) /2 # golden ratio is good for your eyes\n",
    "dpi_export = 600"
   ]
  },
  {
   "cell_type": "code",
   "execution_count": 5,
   "metadata": {},
   "outputs": [
    {
     "name": "stdout",
     "output_type": "stream",
     "text": [
      "2019-03-13\n"
     ]
    }
   ],
   "source": [
    "import datetime\n",
    "print(datetime.datetime.now().date().isoformat())"
   ]
  },
  {
   "cell_type": "code",
   "execution_count": 6,
   "metadata": {
    "ExecuteTime": {
     "end_time": "2018-07-03T10:34:13.258190Z",
     "start_time": "2018-07-03T10:34:13.251661Z"
    },
    "collapsed": true
   },
   "outputs": [],
   "source": [
    "filename = '../data/' + datetime.datetime.now().date().isoformat()"
   ]
  },
  {
   "cell_type": "raw",
   "metadata": {},
   "source": [
    "    kwargs = dict(dataset_folder=dataset_folder, dataset_faces_folder=dataset_faces_folder, batch_size=batch_size, test_batch_size=test_batch_size, size_test_set=size_test_set, epochs=epochs,\n",
    "                do_adam=do_adam, lr=lr, momentum=momentum, no_cuda=no_cuda, num_processes=num_processes, seed=seed,\n",
    "                log_interval=log_interval, fullsize=fullsize, crop=crop, size=size, mean=mean, std=std,\n",
    "                conv1_dim=conv1_dim, conv1_kernel_size=conv1_kernel_size,\n",
    "                conv2_dim=conv2_dim, conv2_kernel_size=conv2_kernel_size,\n",
    "                conv1_bn_momentum=conv1_bn_momentum, conv2_bn_momentum=conv2_bn_momentum, dense_bn_momentum=dense_bn_momentum,\n",
    "                stride1=stride1, stride2=stride2, N_cv=N_cv,\n",
    "                dimension=dimension, verbose=verbose\n",
    "                )\n",
    "    # print(kwargs, locals())\n",
    "    offset_std = OFFSET_STD\n",
    "    offset_max = OFFSET_MAX\n",
    "# \n",
    "dataset_folder = 'dataset'\n",
    "dataset_faces_folder = 'dataset_faces'\n",
    "batch_size = 16\n",
    "no_cuda = False\n",
    "test_batch_size = 1\n",
    "size_test_set = .2\n",
    "\n",
    "seed = 42\n",
    "\n",
    "N_cv = 20\n",
    "# DEBUG\n",
    "# epochs = 2\n",
    "# N_cv = 2\n",
    "\n",
    "#ACTIVATION = F.relu\n",
    "ACTIVATION = torch.tanh\n",
    "#ACTIVATION = F.softmax\n",
    "\n",
    "\n",
    "kwargs = {'num_workers': 4, 'pin_memory': True} if do_cuda else {'num_workers': 32}\n",
    "device = torch.device(\"cuda\" if do_cuda else \"cpu\")"
   ]
  },
  {
   "cell_type": "code",
   "execution_count": 12,
   "metadata": {},
   "outputs": [],
   "source": [
    "import torch"
   ]
  },
  {
   "cell_type": "code",
   "execution_count": 14,
   "metadata": {},
   "outputs": [],
   "source": [
    "import easydict\n",
    "args = easydict.EasyDict(\n",
    "                        # MNIST\n",
    "                        minibatch_size = 100,  # quantity of examples that'll be processed\n",
    "                        #batch_size=100, \n",
    "                        test_batch_size=1000, cmin = 0.1307, cmax= 0.3081, \n",
    "                        # display\n",
    "                        N_pic = 128,\n",
    "                        offset_std = 30, #\n",
    "                        offset_max = 35, #\n",
    "                        noise=1., #0 #\n",
    "                        contrast=0.4, #1 #\n",
    "                        sf_0=0.2,\n",
    "                        B_sf=0.3,\n",
    "                        # foveation\n",
    "                        N_theta = 6,\n",
    "                        N_azimuth = 16,\n",
    "                        N_eccentricity = 10,\n",
    "                        N_phase = 2,\n",
    "                        N_X = 128,\n",
    "                        N_Y = 128,\n",
    "                        rho = 1.41,\n",
    "                        # network\n",
    "                        bias_deconv=True,\n",
    "                        dim1=1000,\n",
    "                        dim2=1000,\n",
    "                        # training\n",
    "                        loss_func = torch.nn.BCEWithLogitsLoss(), #torch.nn.CrossEntropyLoss()\n",
    "                        lr = 1e-4, #1e-3  #0.05\n",
    "                        do_adam=False,\n",
    "                        epochs=40,\n",
    "                        momentum=0.05,    \n",
    "                        n_epochs=10,\n",
    "                        # \n",
    "                        num_processes=1,\n",
    "                        no_cuda=True,\n",
    "                        log_interval=100, # period with which we report results for the loss\n",
    "                        verbose = 1,\n",
    "                        filename=filename,\n",
    "                        seed=2019,\n",
    "                        )"
   ]
  },
  {
   "cell_type": "code",
   "execution_count": 8,
   "metadata": {},
   "outputs": [],
   "source": [
    "if True:\n",
    "    args.minibatch_size = 1\n",
    "    args.epochs = 1"
   ]
  },
  {
   "cell_type": "code",
   "execution_count": 9,
   "metadata": {},
   "outputs": [
    {
     "name": "stdout",
     "output_type": "stream",
     "text": [
      "{'minibatch_size': 1, 'test_batch_size': 1000, 'cmin': 0.1307, 'cmax': 0.3081, 'N_pic': 128, 'offset_std': 30, 'offset_max': 35, 'noise': 1.0, 'contrast': 0.4, 'sf_0': 0.2, 'B_sf': 0.3, 'N_theta': 6, 'N_azimuth': 16, 'N_eccentricity': 10, 'N_phase': 2, 'N_X': 128, 'N_Y': 128, 'rho': 1.41, 'bias_deconv': True, 'dim1': 1000, 'dim2': 1000, 'lr': 0.0001, 'do_adam': False, 'epochs': 1, 'momentum': 0.05, 'n_epochs': 10, 'num_processes': 1, 'no_cuda': True, 'log_interval': 0, 'verbose': 1, 'filename': '../data/2019-03-13', 'seed': 2019}\n"
     ]
    }
   ],
   "source": [
    "print(args)"
   ]
  },
  {
   "cell_type": "markdown",
   "metadata": {},
   "source": [
    "## Version used"
   ]
  },
  {
   "cell_type": "code",
   "execution_count": 10,
   "metadata": {
    "ExecuteTime": {
     "end_time": "2018-10-08T14:53:30.186131Z",
     "start_time": "2018-10-08T14:43:18.414Z"
    }
   },
   "outputs": [
    {
     "data": {
      "application/json": {
       "Software versions": [
        {
         "module": "Python",
         "version": "3.7.2 64bit [Clang 10.0.0 (clang-1000.11.45.5)]"
        },
        {
         "module": "IPython",
         "version": "7.3.0"
        },
        {
         "module": "OS",
         "version": "Darwin 17.7.0 x86_64 i386 64bit"
        },
        {
         "module": "numpy",
         "version": "1.16.2"
        },
        {
         "module": "matplotlib",
         "version": "3.0.3"
        },
        {
         "module": "torch",
         "version": "1.0.1.post2"
        }
       ]
      },
      "text/html": [
       "<table><tr><th>Software</th><th>Version</th></tr><tr><td>Python</td><td>3.7.2 64bit [Clang 10.0.0 (clang-1000.11.45.5)]</td></tr><tr><td>IPython</td><td>7.3.0</td></tr><tr><td>OS</td><td>Darwin 17.7.0 x86_64 i386 64bit</td></tr><tr><td>numpy</td><td>1.16.2</td></tr><tr><td>matplotlib</td><td>3.0.3</td></tr><tr><td>torch</td><td>1.0.1.post2</td></tr><tr><td colspan='2'>Wed Mar 13 12:26:03 2019 CET</td></tr></table>"
      ],
      "text/latex": [
       "\\begin{tabular}{|l|l|}\\hline\n",
       "{\\bf Software} & {\\bf Version} \\\\ \\hline\\hline\n",
       "Python & 3.7.2 64bit [Clang 10.0.0 (clang-1000.11.45.5)] \\\\ \\hline\n",
       "IPython & 7.3.0 \\\\ \\hline\n",
       "OS & Darwin 17.7.0 x86\\_64 i386 64bit \\\\ \\hline\n",
       "numpy & 1.16.2 \\\\ \\hline\n",
       "matplotlib & 3.0.3 \\\\ \\hline\n",
       "torch & 1.0.1.post2 \\\\ \\hline\n",
       "\\hline \\multicolumn{2}{|l|}{Wed Mar 13 12:26:03 2019 CET} \\\\ \\hline\n",
       "\\end{tabular}\n"
      ],
      "text/plain": [
       "Software versions\n",
       "Python 3.7.2 64bit [Clang 10.0.0 (clang-1000.11.45.5)]\n",
       "IPython 7.3.0\n",
       "OS Darwin 17.7.0 x86_64 i386 64bit\n",
       "numpy 1.16.2\n",
       "matplotlib 3.0.3\n",
       "torch 1.0.1.post2\n",
       "Wed Mar 13 12:26:03 2019 CET"
      ]
     },
     "execution_count": 10,
     "metadata": {},
     "output_type": "execute_result"
    }
   ],
   "source": [
    "%load_ext version_information\n",
    "%version_information numpy, matplotlib, torch"
   ]
  }
 ],
 "metadata": {
  "kernelspec": {
   "display_name": "Python 3",
   "language": "python",
   "name": "python3"
  },
  "language_info": {
   "codemirror_mode": {
    "name": "ipython",
    "version": 3
   },
   "file_extension": ".py",
   "mimetype": "text/x-python",
   "name": "python",
   "nbconvert_exporter": "python",
   "pygments_lexer": "ipython3",
   "version": "3.7.2"
  },
  "toc": {
   "base_numbering": 1,
   "nav_menu": {},
   "number_sections": true,
   "sideBar": true,
   "skip_h1_title": false,
   "title_cell": "Table of Contents",
   "title_sidebar": "Contents",
   "toc_cell": false,
   "toc_position": {},
   "toc_section_display": true,
   "toc_window_display": false
  }
 },
 "nbformat": 4,
 "nbformat_minor": 2
}
