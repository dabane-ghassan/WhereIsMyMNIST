{
 "cells": [
  {
   "cell_type": "markdown",
   "metadata": {},
   "source": [
    "This notebook introduces the problem addressed in this paper:\n",
    "\n",
    " - localizating an object in a large image\n",
    " - foveation\n",
    " - action (saccade)\n",
    " "
   ]
  },
  {
   "cell_type": "code",
   "execution_count": 1,
   "metadata": {},
   "outputs": [
    {
     "name": "stdout",
     "output_type": "stream",
     "text": [
      "\n",
      "This notebook introduces the problem addressed in this paper:\n",
      "\n",
      " - localizating an object in a large image\n",
      " - foveation\n",
      " - action (saccade)\n",
      "       \n",
      "      \n",
      "2019-03-13\n",
      "{'w': 28, 'minibatch_size': 100, 'train_batch_size': 100, 'test_batch_size': 20, 'mean': 0.1307, 'std': 0.3081, 'N_pic': 128, 'offset_std': 8, 'offset_max': 35, 'noise': 0.1, 'contrast': 0.7, 'sf_0': 0.2, 'B_sf': 0.3, 'N_theta': 6, 'N_azimuth': 16, 'N_eccentricity': 10, 'N_phase': 2, 'N_X': 128, 'N_Y': 128, 'rho': 1.41, 'bias_deconv': True, 'dim1': 1000, 'dim2': 1000, 'loss_func': BCEWithLogitsLoss(), 'lr': 0.0001, 'do_adam': False, 'epochs': 20, 'momentum': 0.1, 'n_epochs': 10, 'num_processes': 1, 'no_cuda': True, 'log_interval': 100, 'verbose': 1, 'filename': '../data/2019-03-13', 'seed': 2019}\n"
     ]
    }
   ],
   "source": [
    "%run 0_parameters.ipynb"
   ]
  },
  {
   "cell_type": "code",
   "execution_count": 2,
   "metadata": {
    "ExecuteTime": {
     "end_time": "2018-07-03T10:34:13.258190Z",
     "start_time": "2018-07-03T10:34:13.251661Z"
    },
    "collapsed": true
   },
   "outputs": [],
   "source": [
    "figname = '../paper/fig_result'"
   ]
  },
  {
   "cell_type": "code",
   "execution_count": 3,
   "metadata": {},
   "outputs": [],
   "source": [
    "from retina import Display\n",
    "d = Display(args)"
   ]
  },
  {
   "cell_type": "code",
   "execution_count": null,
   "metadata": {},
   "outputs": [],
   "source": [
    "from retina import Retina\n",
    "r = Retina(args)"
   ]
  },
  {
   "cell_type": "markdown",
   "metadata": {},
   "source": [
    "# Network"
   ]
  },
  {
   "cell_type": "raw",
   "metadata": {},
   "source": [
    "from where import Net\n",
    "net = Net(args)"
   ]
  },
  {
   "cell_type": "code",
   "execution_count": null,
   "metadata": {},
   "outputs": [
    {
     "name": "stdout",
     "output_type": "stream",
     "text": [
      "Loading accuracy... min, max= 0.0145 0.9852\n"
     ]
    }
   ],
   "source": [
    "from where import Where\n",
    "where = Where(args, d, r)"
   ]
  },
  {
   "cell_type": "markdown",
   "metadata": {},
   "source": [
    "#### Training"
   ]
  },
  {
   "cell_type": "code",
   "execution_count": null,
   "metadata": {},
   "outputs": [],
   "source": []
  },
  {
   "cell_type": "code",
   "execution_count": null,
   "metadata": {},
   "outputs": [],
   "source": [
    "def test(net, optimizer=where.optimizer,\n",
    "         vsize=args.N_theta*args.N_azimuth*args.N_eccentricity*args.N_phase,\n",
    "         asize=args.N_azimuth*args.N_eccentricity):\n",
    "    \n",
    "    data, label = next(iter(d.loader_test))\n",
    "    batch_size = label.shape[0]\n",
    "\n",
    "    retina_data = np.zeros((batch_size, args.N_phase * args.N_theta * args.N_azimuth * args.N_eccentricity))\n",
    "    fixmap_data = np.zeros((batch_size, args.N_azimuth * args.N_eccentricity))\n",
    "\n",
    "    for i in range(batch_size):\n",
    "            data_fullfield, i_offset, j_offset = d.draw(data[i, 0, :, :].numpy())\n",
    "            retina_data[i, :]  =  r.retina(data_fullfield)\n",
    "            accuracy_colliculus[i,:], _ = r.accuracy_fullfield(accuracy_map, i_offset, j_offset)\n",
    "            \n",
    "    retina_data = Variable(torch.FloatTensor(retina_data))\n",
    "    accuracy_colliculus = Variable(torch.FloatTensor(accuracy_colliculus))\n",
    "    \n",
    "    with torch.no_grad():\n",
    "        output = net(retina_data)\n",
    "        acc, _ = accuracy_gain(output, accuracy_colliculus, batch_size)\n",
    "\n",
    "    return acc\n"
   ]
  },
  {
   "cell_type": "markdown",
   "metadata": {},
   "source": [
    "## Anywhere target, with noise"
   ]
  },
  {
   "cell_type": "markdown",
   "metadata": {},
   "source": [
    "#### Additive noise + whitening"
   ]
  },
  {
   "cell_type": "code",
   "execution_count": null,
   "metadata": {
    "scrolled": true
   },
   "outputs": [
    {
     "name": "stdout",
     "output_type": "stream",
     "text": [
      "ls: ../data/2019-03-13_train.pt: No such file or directory\n",
      "rm: ../data/2019-03-13_train.pt: No such file or directory\n"
     ]
    },
    {
     "name": "stderr",
     "output_type": "stream",
     "text": [
      "Train Epoch:   0%|          | 0/20 [00:00<?, ?it/s]"
     ]
    }
   ],
   "source": [
    "filename_train = args.filename + '_train.pt'\n",
    "%ls -l {filename_train}\n",
    "%rm {filename_train}\n",
    "#filename_train = '../data/2019-03-11_CNS.npy'\n",
    "where.train(filename_train)"
   ]
  },
  {
   "cell_type": "markdown",
   "metadata": {},
   "source": [
    "# Visualisation of some examples"
   ]
  },
  {
   "cell_type": "code",
   "execution_count": null,
   "metadata": {},
   "outputs": [],
   "source": [
    "data, label = next(iter(d.loader_test))\n",
    "full, retina_data, accuracy_colliculus = where.minibatch(data)"
   ]
  },
  {
   "cell_type": "code",
   "execution_count": null,
   "metadata": {},
   "outputs": [],
   "source": [
    "data.shape, retina_data.shape, accuracy_colliculus.shape"
   ]
  },
  {
   "cell_type": "markdown",
   "metadata": {},
   "source": [
    "## knowing the target"
   ]
  },
  {
   "cell_type": "code",
   "execution_count": null,
   "metadata": {},
   "outputs": [],
   "source": [
    "accuracy_colliculus.shape, accuracy_colliculus.min(), accuracy_colliculus.max()"
   ]
  },
  {
   "cell_type": "code",
   "execution_count": null,
   "metadata": {
    "scrolled": false
   },
   "outputs": [],
   "source": [
    "from torch.autograd import Variable\n",
    "import torch.nn.functional as F\n",
    "\n",
    "\n",
    "#for idx in range(args.test_batch_size): #range(3, 7):\n",
    "for idx in range(3, 7):\n",
    "    fig = plt.figure(figsize = (15, 8))\n",
    "    \n",
    "    ax = fig.add_subplot(151)\n",
    "    ax = d.show(ax, full[idx]['data_fullfield'])\n",
    "    ax.set_title(f\"i={full[idx]['i_offset']}, j={full[idx]['j_offset']}\")\n",
    "    \n",
    "    ax = fig.add_subplot(152)\n",
    "    #ax = r.show(ax, r.retina_invert(retina_data[idx, :].numpy()))\n",
    "    data_retina = r.retina(full[idx]['data_fullfield'])\n",
    "    ax = r.show(ax, r.retina_invert(data_retina))\n",
    "    ax.set_title(f\"idx={idx}\")\n",
    "              \n",
    "    ax = fig.add_subplot(153, projection='polar')\n",
    "    #col = colliculus_inverse @ a_data_n[idx,0,:]\n",
    "    #vec_t = Variable(torch.FloatTensor(accuracy_colliculus[idx, :].numpy()))\n",
    "    #vec_t = vec_t.reshape((1, args.N_azimuth * args.N_eccentricity))\n",
    "    ax.pcolor(r.theta, r.log_r, accuracy_colliculus[idx, :].numpy().reshape((args.N_azimuth, args.N_eccentricity)), cmap=plt.plasma())\n",
    "\n",
    "                 \n",
    "    out_t = where.model(retina_data[idx, :])\n",
    "    out_sig = F.sigmoid(out_t).detach().numpy()\n",
    "    #out_t = out_t.reshape((1, args.N_azimuth * args.N_eccentricity))\n",
    "    #acc, _ = accuracy_gain(out_t, vec_t, 1, full_fixmap = full_fixmap_n[idx, :].reshape((1, -1)))\n",
    "    #view = r.colliculus_inverse @ out_sig.flatten()\n",
    "\n",
    "    ax = fig.add_subplot(154, projection='polar')\n",
    "    ax.pcolor(r.theta, r.log_r, out_sig.reshape((args.N_azimuth, args.N_eccentricity)), cmap=plt.plasma())\n",
    "\n",
    "    ax = fig.add_subplot(155)\n",
    "    im = where.extract(full[idx]['data_fullfield'], full[idx]['i_offset'], full[idx]['j_offset'])\n",
    "    ax.imshow(im, cmap=plt.gray())\n",
    "\n",
    "    proba = where.classify_what(im)\n",
    "    pred = proba.argmax() # get the index of the max log-probability\n",
    "    acc = proba[0, pred]\n",
    "    result = '' if pred==label[idx] else 'FALSE'\n",
    "    ax.set_title(f\"pred={pred} acc={acc:.2f} {result}\")\n",
    "                 "
   ]
  },
  {
   "cell_type": "markdown",
   "metadata": {},
   "source": [
    "## NOT knowing the target"
   ]
  },
  {
   "cell_type": "code",
   "execution_count": null,
   "metadata": {},
   "outputs": [],
   "source": [
    "# Predict classes using images from the train set\n",
    "prediction = where.model(retina_data)\n"
   ]
  },
  {
   "cell_type": "code",
   "execution_count": null,
   "metadata": {},
   "outputs": [],
   "source": [
    "prediction.shape"
   ]
  },
  {
   "cell_type": "code",
   "execution_count": null,
   "metadata": {},
   "outputs": [],
   "source": [
    "torch.optim.Adam?"
   ]
  },
  {
   "cell_type": "code",
   "execution_count": null,
   "metadata": {
    "scrolled": false
   },
   "outputs": [],
   "source": [
    "from torch.autograd import Variable\n",
    "import torch.nn.functional as F\n",
    "\n",
    "\n",
    "#for idx in range(args.test_batch_size): #range(3, 7):\n",
    "for idx in range(3, 7):\n",
    "    fig = plt.figure(figsize = (15, 8))\n",
    "    \n",
    "    ax = fig.add_subplot(151)\n",
    "    ax = d.show(ax, full[idx]['data_fullfield'])\n",
    "    ax.set_title(f\"i={full[idx]['i_offset']}, j={full[idx]['j_offset']}\")\n",
    "    \n",
    "    ax = fig.add_subplot(152)\n",
    "    #ax = r.show(ax, r.retina_invert(retina_data[idx, :].numpy()))\n",
    "    data_retina = r.retina(full[idx]['data_fullfield'])\n",
    "    ax = r.show(ax, r.retina_invert(data_retina))\n",
    "    ax.set_title(f\"idx={idx}\")\n",
    "              \n",
    "    ax = fig.add_subplot(153, projection='polar')\n",
    "    #col = colliculus_inverse @ a_data_n[idx,0,:]\n",
    "    vec_t = Variable(torch.FloatTensor(accuracy_colliculus[idx, :].numpy()))\n",
    "    vec_t = vec_t.reshape((1, args.N_azimuth * args.N_eccentricity))\n",
    "    ax.pcolor(r.theta, r.log_r, vec_t.reshape((args.N_azimuth, args.N_eccentricity)), cmap=plt.plasma())\n",
    "    out_t = where.model(retina_data[idx, :])\n",
    "    out_sig = F.sigmoid(out_t).detach().numpy()\n",
    "    out_t = out_t.reshape((1, args.N_azimuth * args.N_eccentricity))\n",
    "    #acc, _ = accuracy_gain(out_t, vec_t, 1, full_fixmap = full_fixmap_n[idx, :].reshape((1, -1)))\n",
    "    view = r.colliculus_inverse @ out_sig.flatten()\n",
    "\n",
    "    ax = fig.add_subplot(154, projection='polar')\n",
    "    ax.pcolor(r.theta, r.log_r, out_sig.reshape((args.N_azimuth, args.N_eccentricity)), cmap=plt.plasma())\n",
    "\n",
    "    ax = fig.add_subplot(155)\n",
    "    im = where.extract(full[idx]['data_fullfield'], full[idx]['i_offset'], full[idx]['j_offset'])\n",
    "    ax.imshow(im, cmap=plt.gray())\n",
    "\n",
    "    proba = where.classify_what(im)\n",
    "    pred = proba.argmax() # get the index of the max log-probability\n",
    "    acc = proba[0, pred]\n",
    "    result = '' if pred==label[idx] else 'FALSE'\n",
    "    ax.set_title(f\"pred={pred} acc={acc:.2f} {result}\")\n",
    "                 "
   ]
  },
  {
   "cell_type": "code",
   "execution_count": null,
   "metadata": {},
   "outputs": [],
   "source": [
    "def test_eccentricities(N_eccentricities=9):\n",
    "    vsize = args.N_theta*args.N_azimuth*args.N_eccentricity*args.N_phase\n",
    "    asize = args.N_azimuth*args.N_eccentricity\n",
    "    \n",
    "    N_pic_mnist = 28\n",
    "    N_class_mnist = 10\n",
    "\n",
    "    test_batch_size = 1000\n",
    "    \n",
    "    mem_acc_log = []\n",
    "    mem_acc_data_log = []\n",
    "    mem_ref_log = [] \n",
    "    mem_ref_data_log = []\n",
    "\n",
    "    ecc_max=.8\n",
    "    r_pix = []\n",
    "\n",
    "    eccentricities = range(N_eccentricities)\n",
    "    for i_eccentricity in eccentricities:\n",
    "\n",
    "        eccentricity = ecc_max * (1/args.rho)**(args.N_eccentricity - i_eccentricity)\n",
    "\n",
    "        radius = args.N_pic / 2 * eccentricity\n",
    "        print('at scale ', i_eccentricity, ' radius=', radius)\n",
    "        r_pix.append(radius)\n",
    "\n",
    "        data, label = next(iter(d.loader_test))\n",
    "\n",
    "        input_n = np.zeros((args.test_batch_size, 1, vsize))\n",
    "        a_data = np.zeros((args.test_batch_size, asize))\n",
    "        full_fixmap_n = np.zeros((args.test_batch_size, args.N_pic**2))\n",
    "\n",
    "        ref_data = np.zeros(test_batch_size)\n",
    "\n",
    "        for idx in range(test_batch_size):\n",
    "            theta = np.random.rand() * 2 * np.pi\n",
    "            i_offset = int(radius * np.cos(theta))\n",
    "            j_offset = int(radius * np.sin(theta))\n",
    "\n",
    "            # changed\n",
    "            data_fullfield = d.place_object(data[idx, 0, :, :].numpy(), i_offset, j_offset)\n",
    "            input_n[idx, 0, :]  =  r.retina(data_fullfield)\n",
    "\n",
    "            a_data[idx, :], accuracy_fullfield_map = r.accuracy_fullfield(accuracy_map, i_offset, j_offset)\n",
    "            full_fixmap_n[idx, :] = accuracy_fullfield_map.flatten()\n",
    "\n",
    "            # when we do not do a saccade, the reference accurracy data is pre-computed \n",
    "            if radius <= N_pic_mnist:\n",
    "                ref_data[idx] = accuracy_map[N_pic_mnist - 1 + i_offset, N_pic_mnist - 1 + j_offset]\n",
    "            else:\n",
    "                ref_data[idx] = 1 / N_class_mnist      \n",
    "\n",
    "\n",
    "        in_t = Variable(torch.FloatTensor(input_n))\n",
    "        out_t = net(in_t)\n",
    "        a_data_t = Variable(torch.FloatTensor(a_data))\n",
    "        acc, acc_data = accuracy_gain(out_t, a_data_t, test_batch_size, full_fixmap=full_fixmap_n)\n",
    "        mem_acc_log += [acc]\n",
    "        mem_acc_data_log += [acc_data]\n",
    "\n",
    "        mem_ref_log += [np.mean(ref_data)]\n",
    "    return r_pix, mem_acc_log, mem_ref_log\n",
    "\n",
    "N_eccentricities = 9\n",
    "r_pix, mem_acc_log, mem_ref_log = test_eccentricities(N_eccentricities)"
   ]
  },
  {
   "cell_type": "code",
   "execution_count": null,
   "metadata": {
    "scrolled": false
   },
   "outputs": [],
   "source": [
    "idx = 30\n",
    "w = 28\n",
    "in_t = Variable(torch.FloatTensor(input_n[idx,0,:]))\n",
    "out_t = net(in_t)\n",
    "out_sig = F.sigmoid(out_t).detach().numpy()\n",
    "\n",
    "test = out_sig.reshape((args.N_azimuth, args.N_eccentricity))\n",
    "indices_ij = np.where(test == max(test.flatten()))\n",
    "azimuth = indices_ij[0][0]\n",
    "eccentricity = indices_ij[1][0]\n",
    "full_masque = r.colliculus[azimuth,eccentricity,:]\n",
    "indice_move = np.where(full_masque == max(full_masque))\n",
    "i_move = indice_move[0][0] // 128 - 64\n",
    "j_move = indice_move[0][0] % 128 - 64\n",
    "print(i_move, j_move)\n",
    "\n",
    "\n",
    "fig = plt.figure(figsize = (figwidth, figwidth/2.5))#1.618))\n",
    "ax_A = plt.subplot(1, 4, 1) \n",
    "ax_A = r.show(ax_A, r.retina_invert(input_n[idx, 0, :]))\n",
    "\n",
    "ax_B = plt.subplot(2, 4, 2, projection='polar', autoscale_on=False)\n",
    "vec_t = Variable(torch.FloatTensor(a_data_n[idx, 0, :]))\n",
    "vec_t = vec_t.reshape((1, args.N_azimuth * args.N_eccentricity))\n",
    "ax_B.pcolor(r.theta, r.log_r, vec_t.reshape((args.N_azimuth, args.N_eccentricity)))\n",
    "ax_B.grid('off')\n",
    "#ax.set_rgrids('off')\n",
    "plt.title('True', fontsize = 14)\n",
    "ax_B.set_yticklabels([])\n",
    "ax_B.set_xticklabels([])\n",
    "\n",
    "ax_Bb = plt.subplot(2, 4, 6, projection='polar')\n",
    "ax_Bb.pcolor(r.theta, r.log_r, out_sig.reshape((args.N_azimuth, args.N_eccentricity)))\n",
    "ax_Bb.set_title('Predicted', fontsize = 14)\n",
    "ax_Bb.set_yticklabels([])\n",
    "ax_Bb.set_xticklabels([])\n",
    "\n",
    "\n",
    "ax_C = plt.subplot(1, 4, 3)\n",
    "data_fullfield = d.place_object(data[idx, 0, :, :].numpy(), 0, 0)\n",
    "input_vector  =  r.retina(data_fullfield)\n",
    "ax_C = r.show(ax_C, r.retina_invert(input_vector))\n",
    "ax_A.arrow(64.5, 64.5, j_move, i_move, width=.3, color='r', head_width=4., length_includes_head=True, edgecolor='k')\n",
    "vec_t = vec_t.reshape((1, args.N_azimuth * args.N_eccentricity))\n",
    "out_t = out_t.reshape((1, args.N_azimuth * args.N_eccentricity))\n",
    "acc, _ = accuracy_gain(out_t, vec_t, 1, full_fixmap = full_fixmap_n[idx, :].reshape((1, -1)))\n",
    "\n",
    "ax_D = plt.subplot(1, 4, 4)\n",
    "r_ref = r_pix\n",
    "r_ref = range(9)\n",
    "\n",
    "ax_D.bar(r_ref, mem_acc_log, alpha = .5, label = 'One saccade')\n",
    "ax_D.bar(r_ref, mem_ref_log, alpha = .5, label = 'No saccade') #accuracy_map[27,27:55])\n",
    "ax_D.plot(np.arange(10)-.5, [0.1]*10, ':', c='k', label = 'Baseline')\n",
    "plt.legend(loc='best')\n",
    "ax_D.set_title('Class accuracy', fontsize = 14)\n",
    "ax_D.set_xlabel('Target eccentricity (pixels)', fontsize = 12)\n",
    "ax_D.set_xticks(range(9))\n",
    "ax_D.set_xticklabels(['%.1f' % d for  d in r_pix])\n",
    "ax_D.set_ylim([0,1])\n",
    "\n",
    "for ax, text in [[ax_A, 'DIS'], [ax_C, 'SAC']]:\n",
    "    ax.text(4, 15, text, fontsize=24,\n",
    "          bbox={'facecolor':'white','alpha':1,'edgecolor':'none','pad':1},\n",
    "          ha='left', va='center') \n",
    "\n",
    "offset = -.015\n",
    "for ax, text, x_offset, y_offset in [[ax_A, 'A', offset, 1.15], [ax_B, 'B', -.25, 1.225], [ax_C, 'C', offset, 1.15], [ax_D, 'D', offset, 1.15]]:\n",
    "    ax.text(x_offset, y_offset, '(' + text + ')', fontsize=24,\n",
    "              bbox={'facecolor':'white','alpha':1,'edgecolor':'none','pad':1},\n",
    "              ha='left', va='center', transform=ax.transAxes) \n",
    "\n",
    "# pos : [left, bottom, width, height] =    The new position of the in `.Figure` coordinates.    \n",
    "plt.tight_layout()\n",
    "ax_A.set_position([0.025, 0.1, .3, .45])\n",
    "ax_B.set_position( [0.24, 0.375, .2, 0.2])\n",
    "ax_Bb.set_position([0.24, 0.1, .2, 0.2])\n",
    "ax_C.set_position([0.35, .1, .3, .45])\n",
    "ax_D.set_position([0.65, .1, .3, .45])\n",
    "fig.savefig(figname + '.pdf', bbox_inches='tight', pad_inches=0.1)"
   ]
  },
  {
   "cell_type": "markdown",
   "metadata": {},
   "source": [
    "# post-processing"
   ]
  },
  {
   "cell_type": "code",
   "execution_count": null,
   "metadata": {
    "ExecuteTime": {
     "end_time": "2018-10-08T14:43:27.591507Z",
     "start_time": "2018-10-08T14:43:24.722160Z"
    }
   },
   "outputs": [],
   "source": [
    "!convert  -density {dpi_export} {figname}.pdf {figname}.jpg\n",
    "!convert  -density {dpi_export} {figname}.pdf {figname}.png\n",
    "#!convert  -density {dpi_export} -resize 5400  -units pixelsperinch -flatten  -compress lzw  -depth 8 {fname}.pdf {fname}.tiff"
   ]
  },
  {
   "cell_type": "code",
   "execution_count": null,
   "metadata": {
    "ExecuteTime": {
     "end_time": "2018-07-03T10:36:00.981927Z",
     "start_time": "2018-07-03T10:36:00.949864Z"
    }
   },
   "outputs": [],
   "source": [
    "from IPython.display import Image\n",
    "Image('{figname}.png'.format(figname=figname))"
   ]
  },
  {
   "cell_type": "code",
   "execution_count": null,
   "metadata": {
    "ExecuteTime": {
     "end_time": "2018-07-03T10:36:00.939193Z",
     "start_time": "2018-07-03T10:36:00.766218Z"
    }
   },
   "outputs": [],
   "source": [
    "!ls  -l {figname}*"
   ]
  },
  {
   "cell_type": "markdown",
   "metadata": {},
   "source": [
    "## Version used"
   ]
  },
  {
   "cell_type": "code",
   "execution_count": null,
   "metadata": {
    "ExecuteTime": {
     "end_time": "2018-10-08T14:53:30.186131Z",
     "start_time": "2018-10-08T14:43:18.414Z"
    }
   },
   "outputs": [],
   "source": [
    "%load_ext version_information\n",
    "%version_information numpy, shl_scripts"
   ]
  }
 ],
 "metadata": {
  "kernelspec": {
   "display_name": "Python 3",
   "language": "python",
   "name": "python3"
  },
  "language_info": {
   "codemirror_mode": {
    "name": "ipython",
    "version": 3
   },
   "file_extension": ".py",
   "mimetype": "text/x-python",
   "name": "python",
   "nbconvert_exporter": "python",
   "pygments_lexer": "ipython3",
   "version": "3.7.2"
  }
 },
 "nbformat": 4,
 "nbformat_minor": 2
}
