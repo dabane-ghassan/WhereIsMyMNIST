{
 "cells": [
  {
   "cell_type": "markdown",
   "metadata": {},
   "source": [
    "This notebook introduces the problem addressed in this paper:\n",
    "\n",
    " - localizating an object in a large image\n",
    " - foveation\n",
    " - action (saccade)\n",
    " "
   ]
  },
  {
   "cell_type": "code",
   "execution_count": 1,
   "metadata": {
    "ExecuteTime": {
     "end_time": "2018-07-03T10:34:13.258190Z",
     "start_time": "2018-07-03T10:34:13.251661Z"
    },
    "collapsed": true
   },
   "outputs": [],
   "source": [
    "figname = '../paper/fig_result'"
   ]
  },
  {
   "cell_type": "code",
   "execution_count": 2,
   "metadata": {},
   "outputs": [
    {
     "name": "stdout",
     "output_type": "stream",
     "text": [
      "\n",
      "This notebook introduces the problem addressed in this paper:\n",
      "\n",
      " - localizating an object in a large image\n",
      " - foveation\n",
      " - action (saccade)\n",
      "       \n",
      "      \n",
      "2019-03-14\n",
      "{'w': 28, 'minibatch_size': 100, 'train_batch_size': 100, 'test_batch_size': 1000, 'noise_batch_size': 1000, 'mean': 0.1307, 'std': 0.3081, 'N_pic': 128, 'offset_std': 8, 'offset_max': 35, 'noise': 0.5, 'contrast': 0.9, 'sf_0': 0.2, 'B_sf': 0.3, 'N_theta': 6, 'N_azimuth': 16, 'N_eccentricity': 10, 'N_phase': 2, 'N_X': 128, 'N_Y': 128, 'rho': 1.41, 'bias_deconv': True, 'p_dropout': 0.5, 'dim1': 1000, 'dim2': 1000, 'loss_func': BCEWithLogitsLoss(), 'lr': 0.01, 'do_adam': True, 'epochs': 40, 'bn1_bn_momentum': 0.5, 'bn2_bn_momentum': 0.5, 'momentum': 0.1, 'n_epochs': 10, 'num_processes': 1, 'no_cuda': True, 'log_interval': 100, 'verbose': 1, 'filename': '../data/2019-03-14', 'seed': 2019}\n",
      "2019-03-14T10:02:35+01:00\n",
      "\n",
      "CPython 3.7.2\n",
      "IPython 7.3.0\n",
      "\n",
      "numpy 1.16.2\n",
      "matplotlib 3.0.2\n",
      "torch 1.0.1.post2\n",
      "\n",
      "compiler   : Clang 10.0.0 (clang-1000.11.45.5)\n",
      "system     : Darwin\n",
      "release    : 18.2.0\n",
      "machine    : x86_64\n",
      "processor  : i386\n",
      "CPU cores  : 36\n",
      "interpreter: 64bit\n",
      "host name  : fortytwo\n",
      "Git hash   : 694ac4d30d150c7a693226ff1d2411f015b45e8b\n",
      "Git repo   : https://github.com/laurentperrinet/WhereIsMyMNIST\n",
      "Git branch : master\n"
     ]
    }
   ],
   "source": [
    "%run 0_parameters.ipynb"
   ]
  },
  {
   "cell_type": "markdown",
   "metadata": {},
   "source": [
    "# Network"
   ]
  },
  {
   "cell_type": "code",
   "execution_count": 3,
   "metadata": {},
   "outputs": [
    {
     "name": "stdout",
     "output_type": "stream",
     "text": [
      "Loading accuracy... min, max= 0.0145 0.9852\n",
      "ls: ../data/2019-03-14_train3.pt: No such file or directory\n"
     ]
    }
   ],
   "source": [
    "from retina import Display\n",
    "d = Display(args)\n",
    "\n",
    "from retina import Retina\n",
    "r = Retina(args)\n",
    "\n",
    "from where import Where\n",
    "where = Where(args, d, r)\n",
    "\n",
    "filename_train = args.filename + '_train3.pt'\n",
    "%ls -lh {filename_train}\n",
    "%rm {filename_train}\n",
    "#filename_train = '../data/2019-03-11_CNS.npy'"
   ]
  },
  {
   "cell_type": "code",
   "execution_count": 4,
   "metadata": {},
   "outputs": [
    {
     "name": "stderr",
     "output_type": "stream",
     "text": [
      "Train Epoch: 100%|██████████| 40/40 [1:07:37<00:00, 101.43s/it]"
     ]
    },
    {
     "name": "stdout",
     "output_type": "stream",
     "text": [
      "Model saved at ../data/2019-03-14_train3.pt\n",
      " "
     ]
    },
    {
     "name": "stderr",
     "output_type": "stream",
     "text": [
      "\n"
     ]
    },
    {
     "data": {
      "text/plain": [
       "         157947173 function calls (157918514 primitive calls) in 4057.220 seconds\n",
       "\n",
       "   Ordered by: internal time\n",
       "\n",
       "   ncalls  tottime  percall  cumtime  percall filename:lineno(function)\n",
       "   408000 2362.147    0.006 3258.011    0.008 retina.py:50(retina)\n",
       "   408000  256.331    0.001  442.983    0.001 SLIP.py:576(olshausen_whitening_filt)\n",
       "   408000  207.487    0.001  230.471    0.001 retina.py:160(accuracy_fullfield)\n",
       "   408000  164.678    0.000  164.678    0.000 SLIP.py:588(low_pass)\n",
       "   816000  126.807    0.000  126.807    0.000 {built-in method numpy.fft.fftpack_lite.cfftb}\n",
       "   816000  116.770    0.000  116.770    0.000 {built-in method numpy.fft.fftpack_lite.cfftf}\n",
       "   408000  111.306    0.000  229.103    0.001 retina.py:254(place_object)\n",
       "     4080   73.219    0.018   73.219    0.018 {method 'run_backward' of 'torch._C._EngineBase' objects}\n",
       "  1632000   59.281    0.000   70.912    0.000 numeric.py:1401(roll)\n",
       "   408000   44.565    0.000  433.901    0.001 SLIP.py:518(FTfilter)\n",
       "     4080   36.889    0.009 3821.258    0.937 where.py:83(minibatch)\n",
       "  3672000   36.151    0.000   36.151    0.000 {method 'reduce' of 'numpy.ufunc' objects}\n",
       "   408000   26.546    0.000   39.144    0.000 index_tricks.py:147(__getitem__)\n",
       "   816000   23.586    0.000  172.678    0.000 fftpack.py:212(ifft)\n",
       "  8976000   22.025    0.000   22.025    0.000 {built-in method numpy.array}\n",
       "    40800   20.771    0.001   20.771    0.001 {method 'addcdiv_' of 'torch._C._TensorBase' objects}\n",
       "   816000   20.715    0.000   34.776    0.000 retina.py:243(do_offset)\n",
       "     8160   19.366    0.002   19.366    0.002 {built-in method batch_norm}\n",
       "  1224000   14.787    0.000   46.598    0.000 _methods.py:58(_mean)\n",
       "    40800   14.461    0.000   14.461    0.000 {method 'addcmul_' of 'torch._C._TensorBase' objects}\n",
       "       40   12.253    0.306 4057.053  101.426 where.py:170(train_epoch)\n",
       "   816000   10.079    0.000  344.594    0.000 fftpack.py:652(_raw_fftnd)\n",
       "   816000    9.431    0.000    9.431    0.000 {built-in method numpy.copyto}\n",
       "    81600    9.278    0.000    9.278    0.000 {method 'add_' of 'torch._C._TensorBase' objects}\n",
       "    12240    9.176    0.001    9.176    0.001 {built-in method addmm}\n",
       "   408000    9.098    0.000  281.821    0.001 retina.py:190(place_object)\n",
       "    81600    9.029    0.000    9.029    0.000 {method 'mul_' of 'torch._C._TensorBase' objects}\n",
       "   816000    8.651    0.000    8.651    0.000 {method 'ravel' of 'numpy.ndarray' objects}\n",
       "   816000    8.640    0.000    8.640    0.000 {method 'astype' of 'numpy.ndarray' objects}\n",
       "   408000    8.433    0.000    8.433    0.000 {method 'clip' of 'numpy.ndarray' objects}\n",
       "  1632000    8.411    0.000  271.167    0.000 fftpack.py:55(_raw_fft)\n",
       "  1224000    7.684    0.000   54.282    0.000 fromnumeric.py:3014(mean)\n",
       "     4080    7.498    0.002    7.498    0.002 {built-in method dropout}\n",
       "   408000    7.433    0.000   11.008    0.000 numeric.py:1902(indices)\n",
       "  1224000    5.889    0.000    5.889    0.000 {method 'randint' of 'mtrand.RandomState' objects}\n",
       "    40800    5.535    0.000    5.535    0.000 {method 'sqrt' of 'torch._C._TensorBase' objects}\n",
       "   408000    5.454    0.000   11.146    0.000 functional.py:184(normalize)\n",
       "  1632000    5.099    0.000    7.299    0.000 helper.py:259(put_twiddle_factors)\n",
       "  2856000    4.875    0.000   24.029    0.000 fromnumeric.py:54(_wrapfunc)\n",
       "  1632000    4.831    0.000    7.427    0.000 numeric.py:1557(normalize_axis_tuple)\n",
       "   408000    4.719    0.000  292.224    0.001 retina.py:200(draw)\n",
       "  1632000    4.476    0.000    6.733    0.000 helper.py:285(pop_twiddle_factors)\n",
       "   816000    4.237    0.000   17.639    0.000 fftpack.py:633(_cook_nd_args)\n",
       "   408000    3.930    0.000   17.106    0.000 functional.py:38(to_tensor)\n",
       "   408000    3.895    0.000  450.081    0.001 SLIP.py:611(whitening_filt)\n",
       "   408000    3.889    0.000   43.956    0.000 mnist.py:80(__getitem__)\n",
       "  1224000    3.798    0.000    4.219    0.000 _methods.py:48(_count_reduce_items)\n",
       "    40790    3.708    0.000    3.708    0.000 {method 'zero_' of 'torch._C._TensorBase' objects}\n",
       "   408000    3.383    0.000    3.383    0.000 {method 'div' of 'torch._C._TensorBase' objects}\n",
       "  1224000    3.235    0.000    3.235    0.000 {built-in method numpy.empty}\n",
       "   816000    2.852    0.000    2.852    0.000 {method 'randn' of 'mtrand.RandomState' objects}\n",
       "   816000    2.654    0.000  143.360    0.000 fftpack.py:115(fft)\n",
       "   816000    2.615    0.000    2.615    0.000 {method 'take' of 'numpy.ndarray' objects}\n",
       "   408000    2.511    0.000   20.223    0.000 helper.py:84(ifftshift)\n",
       "     8160    2.503    0.000    2.503    0.000 {built-in method relu}\n",
       "   408000    2.479    0.000   19.254    0.000 helper.py:27(fftshift)\n",
       "   816000    2.300    0.000    2.300    0.000 {method 'numpy' of 'torch._C._TensorBase' objects}\n",
       " 10272868    2.251    0.000    2.298    0.000 {built-in method builtins.isinstance}\n",
       "   816000    2.225    0.000   14.061    0.000 numeric.py:175(ones)\n",
       "   816000    2.207    0.000    7.975    0.000 fromnumeric.py:41(_wrapit)\n",
       "   408000    2.103    0.000  886.085    0.002 SLIP.py:677(whitening)\n",
       "  3263999    2.071    0.000    2.071    0.000 {method 'pop' of 'collections.OrderedDict' objects}\n",
       "  4084146    2.058    0.000    2.058    0.000 {built-in method builtins.getattr}\n",
       "  1632000    2.029    0.000    3.733    0.000 __init__.py:468(__getitem__)\n",
       "   408000    2.027    0.000  209.570    0.001 SLIP.py:501(invert)\n",
       "   408000    1.927    0.000    8.867    0.000 Image.py:2482(fromarray)\n",
       "   816000    1.926    0.000    1.926    0.000 {built-in method numpy.arange}\n",
       "   408000    1.910    0.000  179.766    0.000 SLIP.py:507(fourier)\n",
       "   408000    1.843    0.000    1.843    0.000 {method 'float' of 'torch._C._TensorBase' objects}\n",
       "   816000    1.747    0.000    2.832    0.000 retina.py:237(minmax)\n",
       "   816000    1.727    0.000    1.727    0.000 {built-in method tensor}\n",
       "   408000    1.722    0.000  232.193    0.001 retina.py:61(accuracy_fullfield)\n",
       "  4080000    1.718    0.000    1.718    0.000 {built-in method numpy.core._multiarray_umath.normalize_axis_index}\n",
       "  3264000    1.715    0.000   10.637    0.000 numeric.py:541(asanyarray)\n",
       "  1632000    1.469    0.000   16.013    0.000 {method 'min' of 'numpy.ndarray' objects}\n",
       "  4896000    1.466    0.000    5.448    0.000 numeric.py:469(asarray)\n",
       "   816000    1.417    0.000    1.417    0.000 {method 'transpose' of 'torch._C._TensorBase' objects}\n",
       "9879849/9879793    1.361    0.000    1.361    0.000 {built-in method builtins.len}\n",
       "   408000    1.357    0.000    1.357    0.000 {method 'view' of 'torch._C._TensorBase' objects}\n",
       "   408000    1.352    0.000    1.352    0.000 {method 'sub_' of 'torch._C._TensorBase' objects}\n",
       "   408000    1.286    0.000    4.138    0.000 Image.py:725(tobytes)\n",
       "  1632000    1.285    0.000    2.340    0.000 numeric.py:1607(<listcomp>)\n",
       "  1632000    1.246    0.000    1.246    0.000 {built-in method numpy.empty_like}\n",
       "   816000    1.239    0.000   13.177    0.000 fromnumeric.py:93(take)\n",
       "  1632000    1.134    0.000    1.134    0.000 {method 'swapaxes' of 'numpy.ndarray' objects}\n",
       "  1632000    1.092    0.000    3.669    0.000 fromnumeric.py:541(swapaxes)\n",
       "  1632000    1.086    0.000    4.819    0.000 __init__.py:453(__getattr__)\n",
       "   408000    1.078    0.000   10.594    0.000 fromnumeric.py:1903(clip)\n",
       "   408000    1.068    0.000    1.068    0.000 {method 'div_' of 'torch._C._TensorBase' objects}\n",
       "  1224083    1.051    0.000    1.051    0.000 {built-in method builtins.max}\n",
       "   816000    1.035    0.000    1.643    0.000 Image.py:563(_new)\n",
       "  1632000    0.998    0.000    0.998    0.000 {method 'split' of 'str' objects}\n",
       "   408000    0.980    0.000    6.826    0.000 Image.py:2421(frombuffer)\n",
       "   408000    0.969    0.000    9.779    0.000 fromnumeric.py:1583(ravel)\n",
       "   408000    0.946    0.000    0.946    0.000 {method 'clone' of 'torch._C._TensorBase' objects}\n",
       "   408000    0.918    0.000    1.306    0.000 Image.py:461(_getencoder)\n",
       "  1632000    0.900    0.000    1.145    0.000 helper.py:313(_prune_cache)\n",
       "  1631999    0.880    0.000    0.880    0.000 {method 'pop' of 'list' objects}\n",
       "  1632000    0.837    0.000   14.545    0.000 _methods.py:30(_amin)\n",
       "  1224000    0.827    0.000    0.827    0.000 Image.py:539(__init__)\n",
       "   408000    0.817    0.000    3.566    0.000 Image.py:2347(new)\n",
       "  3264027    0.810    0.000    0.810    0.000 {built-in method builtins.hasattr}\n",
       "  1632000    0.785    0.000    0.785    0.000 numeric.py:1471(<dictcomp>)\n",
       "  3684619    0.777    0.000    0.777    0.000 {method 'append' of 'list' objects}\n",
       "   816000    0.774    0.000    0.774    0.000 {method 'reshape' of 'numpy.ndarray' objects}\n",
       "     4080    0.759    0.000    0.759    0.000 {built-in method binary_cross_entropy_with_logits}\n",
       "     4080    0.758    0.000   59.921    0.015 adam.py:49(step)\n",
       "   408000    0.746    0.000    0.746    0.000 {built-in method PIL._imaging.map_buffer}\n",
       "   408000    0.723    0.000   30.193    0.000 transforms.py:58(__call__)\n",
       "   408000    0.715    0.000  158.602    0.000 fftpack.py:862(fft2)\n",
       "   816000    0.711    0.000    5.905    0.000 {method 'max' of 'numpy.ndarray' objects}\n",
       "     4080    0.699    0.000    0.699    0.000 {built-in method stack}\n",
       "  1224000    0.681    0.000    1.042    0.000 Image.py:613(__del__)\n",
       "   408000    0.677    0.000   11.823    0.000 transforms.py:155(__call__)\n",
       "   408000    0.669    0.000    0.669    0.000 {built-in method PIL._imaging.fill}\n",
       "   408000    0.612    0.000  187.320    0.000 fftpack.py:953(ifft2)\n",
       "   408000    0.600    0.000    0.600    0.000 {method 'encode' of 'ImagingEncoder' objects}\n",
       "   816000    0.592    0.000    0.805    0.000 Image.py:2329(_check_size)\n",
       "  2448110    0.569    0.000    0.569    0.000 {built-in method builtins.issubclass}\n",
       "  1632000    0.542    0.000    0.542    0.000 {built-in method builtins.abs}\n",
       "   408000    0.541    0.000   17.647    0.000 transforms.py:83(__call__)\n",
       "  1632000    0.480    0.000    0.480    0.000 {function ParameterSet.__getitem__ at 0x114c59e18}\n",
       "  1632004    0.458    0.000    0.458    0.000 {method 'items' of 'dict' objects}\n",
       "   816000    0.406    0.000    5.194    0.000 _methods.py:26(_amax)\n",
       "  1632000    0.398    0.000    0.398    0.000 fftpack.py:104(_unitary)\n",
       "   408000    0.353    0.000    0.353    0.000 helper.py:122(<listcomp>)\n",
       "   408000    0.345    0.000    0.345    0.000 {built-in method from_buffer}\n",
       "   408000    0.301    0.000    0.599    0.000 functional.py:30(_is_tensor_image)\n",
       "   408000    0.281    0.000    0.390    0.000 Image.py:823(load)\n",
       "   408000    0.281    0.000    0.281    0.000 helper.py:75(<listcomp>)\n",
       "     4080    0.257    0.000   45.661    0.011 dataloader.py:612(__next__)\n",
       "   816000    0.255    0.000    0.255    0.000 {built-in method _operator.index}\n",
       "28560/8160    0.250    0.000   40.702    0.005 module.py:483(__call__)\n",
       "     4080    0.246    0.000   44.202    0.011 dataloader.py:615(<listcomp>)\n",
       "     8160    0.235    0.000   19.815    0.002 batchnorm.py:58(forward)\n",
       "   816036    0.234    0.000    0.234    0.000 {built-in method builtins.min}\n",
       "     4080    0.174    0.000   39.781    0.010 where.py:30(forward)\n",
       "   816040    0.173    0.000    0.173    0.000 {method 'reverse' of 'list' objects}\n",
       "  1224000    0.171    0.000    0.171    0.000 Image.py:559(size)\n",
       "     4120    0.171    0.000    0.338    0.000 sampler.py:158(__iter__)\n",
       "   408000    0.167    0.000    0.217    0.000 functional.py:23(_is_pil_image)\n",
       "   408000    0.160    0.000    0.160    0.000 {built-in method PIL._imaging.raw_encoder}\n",
       "   408000    0.159    0.000    0.219    0.000 __init__.py:119(is_tensor)\n",
       "   408000    0.139    0.000    0.139    0.000 {method 'setimage' of 'ImagingEncoder' objects}\n",
       "   408000    0.125    0.000    0.177    0.000 _util.py:7(isStringType)\n",
       "      2/1    0.115    0.058 4057.220 4057.220 where.py:136(train)\n",
       "   102007    0.110    0.000    0.110    0.000 module.py:521(__getattr__)\n",
       "   408000    0.110    0.000    0.110    0.000 {method 'pixel_access' of 'ImagingCore' objects}\n",
       "   816000    0.105    0.000    0.105    0.000 {method 'copy' of 'dict' objects}\n",
       "    12240    0.097    0.000    0.097    0.000 {method 't' of 'torch._C._TensorBase' objects}\n",
       "12240/4080    0.095    0.000    0.881    0.000 dataloader.py:196(default_collate)\n",
       "     8160    0.090    0.000    0.090    0.000 {built-in method numpy.zeros}\n",
       "    12240    0.086    0.000    9.369    0.001 functional.py:1336(linear)\n",
       "   408000    0.084    0.000    0.084    0.000 {method 'contiguous' of 'torch._C._TensorBase' objects}\n",
       "   408000    0.079    0.000    0.079    0.000 {method 'ndimension' of 'torch._C._TensorBase' objects}\n",
       "     8160    0.072    0.000   19.465    0.002 functional.py:1595(batch_norm)\n",
       "     4080    0.069    0.000    3.794    0.001 optimizer.py:157(zero_grad)\n",
       "       40    0.064    0.002    0.064    0.002 {method 'tolist' of 'torch._C._TensorBase' objects}\n",
       "   432551    0.064    0.000    0.064    0.000 {method 'get' of 'dict' objects}\n",
       "    28560    0.055    0.000    0.055    0.000 {built-in method torch._C._get_tracing_state}\n",
       "    12240    0.053    0.000    9.437    0.001 linear.py:65(forward)\n",
       "     8172    0.050    0.000    0.064    0.000 module.py:537(__setattr__)\n",
       "     4080    0.049    0.000   73.373    0.018 tensor.py:74(backward)\n",
       "   408000    0.049    0.000    0.049    0.000 {method 'join' of 'bytes' objects}\n",
       "     4080    0.043    0.000    7.554    0.002 functional.py:729(dropout)\n",
       "      933    0.041    0.000    0.041    0.000 {built-in method posix.stat}\n",
       "     4080    0.041    0.000   73.323    0.018 __init__.py:38(backward)\n",
       "    40810    0.040    0.000    0.056    0.000 tensor.py:430(__hash__)\n",
       "     4080    0.033    0.000    0.061    0.000 __init__.py:20(_make_grads)\n",
       "       40    0.028    0.001    0.028    0.001 {built-in method randperm}\n",
       "     8160    0.027    0.000    0.043    0.000 {built-in method _abc._abc_instancecheck}\n",
       "     4080    0.023    0.000    0.816    0.000 loss.py:590(forward)\n",
       "     4080    0.022    0.000    0.764    0.000 dataloader.py:232(<listcomp>)\n",
       "      383    0.021    0.000    0.021    0.000 {method 'acquire' of '_thread.lock' objects}\n",
       "     8160    0.021    0.000    2.524    0.000 functional.py:851(relu)\n",
       "     4080    0.019    0.000    0.019    0.000 {built-in method ones_like}\n",
       "    16336    0.017    0.000    0.017    0.000 {method 'size' of 'torch._C._TensorBase' objects}\n",
       "    57120    0.017    0.000    0.017    0.000 {method 'values' of 'collections.OrderedDict' objects}\n",
       "     4080    0.016    0.000    0.784    0.000 functional.py:2030(binary_cross_entropy_with_logits)\n",
       "    40790    0.016    0.000    0.016    0.000 {method 'detach_' of 'torch._C._TensorBase' objects}\n",
       "    40816    0.015    0.000    0.015    0.000 {built-in method builtins.id}\n",
       "     8160    0.014    0.000    0.014    0.000 {method 'to' of 'torch._C._TensorBase' objects}\n",
       "    40800    0.014    0.000    0.014    0.000 {built-in method math.sqrt}\n",
       "     8160    0.011    0.000    0.015    0.000 batchnorm.py:165(_check_input_dim)\n",
       "       20    0.011    0.001    0.011    0.001 {built-in method zeros_like}\n",
       "     4080    0.010    0.000    0.014    0.000 {built-in method _abc._abc_subclasscheck}\n",
       "    20440    0.010    0.000    0.010    0.000 {method 'dim' of 'torch._C._TensorBase' objects}\n",
       "     8160    0.009    0.000    0.013    0.000 __init__.py:448(__get__)\n",
       "     4080    0.008    0.000    0.013    0.000 _VF.py:11(__getattr__)\n",
       "     4080    0.006    0.000    0.319    0.000 {built-in method builtins.next}\n",
       "     4080    0.005    0.000    0.005    0.000 {method 'numel' of 'torch._C._TensorBase' objects}\n",
       "     8160    0.005    0.000    0.048    0.000 abc.py:137(__instancecheck__)\n",
       "       40    0.005    0.000    0.058    0.001 traceback.py:318(extract)\n",
       "    12240    0.004    0.000    0.004    0.000 __init__.py:1404(_unwrap_optional)\n",
       "       14    0.004    0.000    0.004    0.000 {method '_write_file' of 'torch._C.FloatStorageBase' objects}\n",
       "     8160    0.004    0.000    0.004    0.000 {built-in method torch._C._get_cudnn_enabled}\n",
       "       40    0.004    0.000    0.006    0.000 traceback.py:385(format)\n",
       "     4080    0.003    0.000    0.003    0.000 _reduction.py:8(get_enum)\n",
       "     4080    0.003    0.000    0.003    0.000 _collections_abc.py:302(__subclasshook__)\n",
       "      172    0.003    0.000    0.003    0.000 socket.py:337(send)\n",
       "     4080    0.003    0.000    0.016    0.000 abc.py:141(__subclasscheck__)\n",
       "     1004    0.003    0.000    0.042    0.000 linecache.py:53(checkcache)\n",
       "     3451    0.002    0.000    0.002    0.000 {method 'format' of 'str' objects}\n",
       "      749    0.002    0.000    0.005    0.000 tokenize.py:487(_tokenize)\n",
       "     1004    0.002    0.000    0.045    0.000 compilerop.py:137(check_linecache_ipython)\n",
       "     1498    0.002    0.000    0.002    0.000 {method 'match' of 're.Pattern' objects}\n",
       "     4840    0.002    0.000    0.005    0.000 traceback.py:282(line)\n",
       "     1640    0.001    0.000    0.003    0.000 linecache.py:15(getline)\n",
       "     1004    0.001    0.000    0.001    0.000 {method 'update' of 'dict' objects}\n",
       "     1680    0.001    0.000    0.001    0.000 traceback.py:289(walk_stack)\n",
       "     1640    0.001    0.000    0.001    0.000 linecache.py:147(lazycache)\n",
       "        4    0.001    0.000    0.001    0.000 {method 'readlines' of '_io._IOBase' objects}\n",
       "       40    0.001    0.000    0.002    0.000 dataloader.py:518(__init__)\n",
       "     1644    0.001    0.000    0.003    0.000 linecache.py:37(getlines)\n",
       "       41    0.001    0.000    0.032    0.001 _tqdm.py:867(__iter__)\n",
       "     3200    0.001    0.000    0.001    0.000 {method 'strip' of 'str' objects}\n",
       "        5    0.001    0.000    0.001    0.000 {built-in method io.open}\n",
       "       41    0.001    0.000    0.002    0.000 _tqdm.py:181(format_meter)\n",
       "        1    0.001    0.001    0.013    0.013 {method 'dump' of '_pickle.Pickler' objects}\n",
       "       80    0.001    0.000    0.001    0.000 {method 'item' of 'torch._C._TensorBase' objects}\n",
       "      172    0.001    0.000    0.004    0.000 iostream.py:195(schedule)\n",
       "     1640    0.001    0.000    0.001    0.000 traceback.py:243(__init__)\n",
       "       41    0.001    0.000    0.025    0.001 iostream.py:334(flush)\n",
       "       40    0.001    0.000    0.001    0.000 traceback.py:366(from_list)\n",
       "      692    0.001    0.000    0.002    0.000 re.py:271(_compile)\n",
       "        5    0.001    0.000    0.001    0.000 {method 'readline' of '_io.BufferedReader' objects}\n",
       "       43    0.001    0.000    0.001    0.000 threading.py:216(__init__)\n",
       "       42    0.000    0.000    0.022    0.001 threading.py:264(wait)\n",
       "        4    0.000    0.000    0.006    0.002 inspect.py:935(getblock)\n",
       "       40    0.000    0.000    0.067    0.002 random.py:22(manual_seed)\n",
       "      893    0.000    0.000    0.012    0.000 serialization.py:235(persistent_id)\n",
       "       40    0.000    0.000    0.093    0.002 sampler.py:69(__iter__)\n",
       "       41    0.000    0.000    0.028    0.001 _tqdm.py:168(fp_write)\n",
       "        2    0.000    0.000    0.000    0.000 {method 'size' of 'torch._C.LongStorageBase' objects}\n",
       "       40    0.000    0.000    0.000    0.000 {method 'random_' of 'torch._C._TensorBase' objects}\n",
       "     1644    0.000    0.000    0.000    0.000 {method 'join' of 'str' objects}\n",
       "        2    0.000    0.000    0.000    0.000 {method '_write_file' of 'torch._C.LongStorageBase' objects}\n",
       "      745    0.000    0.000    0.000    0.000 inspect.py:891(tokeneater)\n",
       "       47    0.000    0.000    0.004    0.000 iostream.py:382(write)\n",
       "      213    0.000    0.000    0.001    0.000 threading.py:1080(is_alive)\n",
       "       44    0.000    0.000    0.000    0.000 {method 'acquire' of '_multiprocessing.SemLock' objects}\n",
       "     1654    0.000    0.000    0.000    0.000 {method 'add' of 'set' objects}\n",
       "       40    0.000    0.000    0.066    0.002 traceback.py:193(format_stack)\n",
       "       42    0.000    0.000    0.022    0.001 threading.py:534(wait)\n",
       "      688    0.000    0.000    0.001    0.000 tokenize.py:147(_compile)\n",
       "       40    0.000    0.000    0.058    0.001 traceback.py:200(extract_stack)\n",
       "       41    0.000    0.000    0.002    0.000 _tqdm.py:837(__repr__)\n",
       "       81    0.000    0.000    0.001    0.000 _tqdm.py:137(format_interval)\n",
       "      688    0.000    0.000    0.000    0.000 types.py:164(__get__)\n",
       "        1    0.000    0.000    0.000    0.000 {method 'close' of '_io.BufferedWriter' objects}\n",
       "       44    0.000    0.000    0.001    0.000 _tqdm.py:81(acquire)\n",
       "       40    0.000    0.000    0.000    0.000 {method 'manual_seed' of 'torch._C.Generator' objects}\n",
       "       44    0.000    0.000    0.000    0.000 {method 'release' of '_multiprocessing.SemLock' objects}\n",
       "      8/4    0.000    0.000    0.000    0.000 sre_parse.py:475(_parse)\n",
       "       43    0.000    0.000    0.001    0.000 threading.py:499(__init__)\n",
       "       41    0.000    0.000    0.029    0.001 _tqdm.py:174(print_status)\n",
       "      882    0.000    0.000    0.000    0.000 __init__.py:128(is_storage)\n",
       "       44    0.000    0.000    0.000    0.000 _tqdm.py:85(release)\n",
       "      692    0.000    0.000    0.002    0.000 re.py:232(compile)\n",
       "       84    0.000    0.000    0.002    0.000 linecache.py:82(updatecache)\n",
       "      745    0.000    0.000    0.000    0.000 <string>:1(__new__)\n",
       "       40    0.000    0.000    0.066    0.002 __init__.py:120(_lazy_call)\n",
       "        4    0.000    0.000    0.003    0.001 inspect.py:760(findsource)\n",
       "      172    0.000    0.000    0.000    0.000 iostream.py:93(_event_pipe)\n",
       "      746    0.000    0.000    0.000    0.000 {built-in method __new__ of type object at 0x104095040}\n",
       "       40    0.000    0.000    0.000    0.000 tensor.py:409(__len__)\n",
       "       40    0.000    0.000    0.007    0.000 traceback.py:27(format_list)\n",
       "      214    0.000    0.000    0.000    0.000 threading.py:1038(_wait_for_tstate_lock)\n",
       "       40    0.000    0.000    0.066    0.002 random.py:77(manual_seed_all)\n",
       "       47    0.000    0.000    0.000    0.000 iostream.py:307(_is_master_process)\n",
       "     16/4    0.000    0.000    0.000    0.000 sre_compile.py:71(_compile)\n",
       "      688    0.000    0.000    0.000    0.000 enum.py:625(value)\n",
       "       47    0.000    0.000    0.001    0.000 iostream.py:320(_schedule_flush)\n",
       "       40    0.000    0.000    0.002    0.000 dataloader.py:818(__iter__)\n",
       "      165    0.000    0.000    0.000    0.000 {method 'startswith' of 'str' objects}\n",
       "       44    0.000    0.000    0.001    0.000 _tqdm.py:89(__enter__)\n",
       "        4    0.000    0.000    0.001    0.000 tokenize.py:443(open)\n",
       "        1    0.000    0.000    0.018    0.018 serialization.py:222(_save)\n",
       "       84    0.000    0.000    0.000    0.000 {built-in method builtins.iter}\n",
       "       87    0.000    0.000    0.000    0.000 {built-in method _thread.allocate_lock}\n",
       "       44    0.000    0.000    0.000    0.000 _tqdm.py:92(__exit__)\n",
       "      601    0.000    0.000    0.000    0.000 {method 'isidentifier' of 'str' objects}\n",
       "      685    0.000    0.000    0.000    0.000 {method 'span' of 're.Match' objects}\n",
       "       42    0.000    0.000    0.000    0.000 threading.py:252(_acquire_restore)\n",
       "      121    0.000    0.000    0.000    0.000 {built-in method time.time}\n",
       "        1    0.000    0.000    0.001    0.001 _tqdm.py:598(__init__)\n",
       "      204    0.000    0.000    0.000    0.000 {method 'endswith' of 'str' objects}\n",
       "       71    0.000    0.000    0.000    0.000 {built-in method builtins.chr}\n",
       "     20/8    0.000    0.000    0.000    0.000 sre_parse.py:174(getwidth)\n",
       "        8    0.000    0.000    0.002    0.000 inspect.py:680(getsourcefile)\n",
       "       98    0.000    0.000    0.000    0.000 sre_parse.py:233(__next)\n",
       "       43    0.000    0.000    0.000    0.000 threading.py:240(__enter__)\n",
       "       16    0.000    0.000    0.000    0.000 tensor.py:33(__reduce_ex__)\n",
       "       44    0.000    0.000    0.000    0.000 {method 'acquire' of '_thread.RLock' objects}\n",
       "      203    0.000    0.000    0.000    0.000 {built-in method builtins.divmod}\n",
       "      217    0.000    0.000    0.000    0.000 threading.py:507(is_set)\n",
       "        4    0.000    0.000    0.009    0.002 inspect.py:946(getsourcelines)\n",
       "      214    0.000    0.000    0.000    0.000 {method 'append' of 'collections.deque' objects}\n",
       "      146    0.000    0.000    0.000    0.000 sre_parse.py:164(__getitem__)\n",
       "        1    0.000    0.000    0.018    0.018 serialization.py:219(<lambda>)\n",
       "       43    0.000    0.000    0.000    0.000 threading.py:243(__exit__)\n",
       "        4    0.000    0.000    0.001    0.000 tokenize.py:350(detect_encoding)\n",
       "       40    0.000    0.000    0.000    0.000 mnist.py:102(__len__)\n",
       "       19    0.000    0.000    0.000    0.000 {built-in method _codecs.utf_8_decode}\n",
       "        1    0.000    0.000 4057.220 4057.220 {built-in method builtins.exec}\n",
       "        1    0.000    0.000    0.000    0.000 {built-in method _thread.start_new_thread}\n",
       "       19    0.000    0.000    0.000    0.000 codecs.py:319(decode)\n",
       "        1    0.000    0.000    0.000    0.000 _tqdm.py:380(__new__)\n",
       "        4    0.000    0.000    0.000    0.000 {built-in method _pickle.dump}\n",
       "       40    0.000    0.000    0.000    0.000 dataloader.py:715(__del__)\n",
       "        1    0.000    0.000    0.000    0.000 _tqdm.py:415(_decr_instances)\n",
       "       43    0.000    0.000    0.000    0.000 threading.py:255(_is_owned)\n",
       "     12/2    0.000    0.000    0.000    0.000 module.py:976(train)\n",
       "        1    0.000    0.000    0.000    0.000 _utils.py:194(_environ_cols_linux)\n",
       "       47    0.000    0.000    0.000    0.000 {built-in method posix.getpid}\n",
       "        8    0.000    0.000    0.000    0.000 sre_compile.py:276(_optimize_charset)\n",
       "        4    0.000    0.000    0.001    0.000 sre_compile.py:759(compile)\n",
       "       10    0.000    0.000    0.000    0.000 parameter.py:39(__reduce_ex__)\n",
       "       16    0.000    0.000    0.000    0.000 serialization.py:150(_is_compressed_file)\n",
       "       40    0.000    0.000    0.000    0.000 {built-in method sys._getframe}\n",
       "        4    0.000    0.000    0.001    0.000 sre_parse.py:919(parse)\n",
       "        8    0.000    0.000    0.000    0.000 inspect.py:642(getfile)\n",
       "       22    0.000    0.000    0.000    0.000 module.py:891(named_children)\n",
       "        1    0.000    0.000    0.000    0.000 <frozen importlib._bootstrap>:978(_find_and_load)\n",
       "       82    0.000    0.000    0.000    0.000 sre_parse.py:172(append)\n",
       "      8/4    0.000    0.000    0.000    0.000 sre_parse.py:417(_parse_sub)\n",
       "       42    0.000    0.000    0.000    0.000 threading.py:249(_release_save)\n",
       "       43    0.000    0.000    0.000    0.000 {method '__enter__' of '_thread.lock' objects}\n",
       "        5    0.000    0.000    0.000    0.000 tokenize.py:380(find_cookie)\n",
       "       90    0.000    0.000    0.000    0.000 sre_parse.py:254(get)\n",
       "        5    0.000    0.000    0.000    0.000 copyreg.py:96(_slotnames)\n",
       "        1    0.000    0.000    0.000    0.000 {built-in method numpy.fft.fftpack_lite.cffti}\n",
       "        4    0.000    0.000    0.000    0.000 sre_compile.py:536(_compile_info)\n",
       "        1    0.000    0.000    0.000    0.000 threading.py:758(__init__)\n",
       "       22    0.000    0.000    0.000    0.000 module.py:882(children)\n",
       "       16    0.000    0.000    0.000    0.000 serialization.py:158(_should_read_directly)\n",
       "       44    0.000    0.000    0.000    0.000 {method 'release' of '_thread.RLock' objects}\n",
       "        8    0.000    0.000    0.000    0.000 sre_compile.py:249(_compile_charset)\n",
       "        4    0.000    0.000    0.000    0.000 enum.py:833(__and__)\n",
       "        1    0.000    0.000    0.000    0.000 _monitor.py:24(__init__)\n",
       "       44    0.000    0.000    0.000    0.000 {method 'release' of '_thread.lock' objects}\n",
       "        4    0.000    0.000    0.000    0.000 inspect.py:484(unwrap)\n",
       "       16    0.000    0.000    0.000    0.000 serialization.py:103(location_tag)\n",
       "        1    0.000    0.000    0.000    0.000 {method 'flush' of '_io.BufferedWriter' objects}\n",
       "        4    0.000    0.000    0.000    0.000 sre_parse.py:224(__init__)\n",
       "       32    0.000    0.000    0.000    0.000 inspect.py:690(<genexpr>)\n",
       "       16    0.000    0.000    0.000    0.000 {method 'storage' of 'torch._C._TensorBase' objects}\n",
       "       43    0.000    0.000    0.000    0.000 {method '__exit__' of '_thread.lock' objects}\n",
       "        1    0.000    0.000    0.000    0.000 <frozen importlib._bootstrap>:157(_get_module_lock)\n",
       "        4    0.000    0.000    0.000    0.000 codecs.py:309(__init__)\n",
       "       20    0.000    0.000    0.000    0.000 inspect.py:63(ismodule)\n",
       "        2    0.000    0.000    0.000    0.000 _tqdm.py:1042(close)\n",
       "       41    0.000    0.000    0.000    0.000 {built-in method _imp.lock_held}\n",
       "        1    0.000    0.000    0.000    0.000 _monitor.py:41(exit)\n",
       "       16    0.000    0.000    0.000    0.000 {method 'stride' of 'torch._C._TensorBase' objects}\n",
       "        3    0.000    0.000    0.000    0.000 {method 'remove' of 'set' objects}\n",
       "        4    0.000    0.000    0.000    0.000 {built-in method _sre.compile}\n",
       "        8    0.000    0.000    0.000    0.000 enum.py:525(__new__)\n",
       "       16    0.000    0.000    0.000    0.000 sre_parse.py:111(__init__)\n",
       "       32    0.000    0.000    0.000    0.000 sre_parse.py:160(__len__)\n",
       "        1    0.000    0.000    0.000    0.000 _weakrefset.py:36(__init__)\n",
       "        1    0.000    0.000    0.000    0.000 _tqdm.py:404(_get_free_pos)\n",
       "       62    0.000    0.000    0.000    0.000 {built-in method builtins.ord}\n",
       "       16    0.000    0.000    0.000    0.000 {method 'fileno' of '_io.BufferedWriter' objects}\n",
       "        1    0.000    0.000    0.000    0.000 <frozen importlib._bootstrap>:948(_find_and_load_unlocked)\n",
       "        4    0.000    0.000    0.000    0.000 sre_parse.py:76(__init__)\n",
       "        5    0.000    0.000    0.001    0.000 tokenize.py:374(read_or_stop)\n",
       "        4    0.000    0.000    0.000    0.000 inspect.py:882(__init__)\n",
       "        8    0.000    0.000    0.002    0.000 genericpath.py:16(exists)\n",
       "        8    0.000    0.000    0.000    0.000 enum.py:283(__call__)\n",
       "       12    0.000    0.000    0.000    0.000 sre_parse.py:343(_escape)\n",
       "       24    0.000    0.000    0.000    0.000 inspect.py:687(<genexpr>)\n",
       "        1    0.000    0.000    0.000    0.000 {built-in method fcntl.ioctl}\n",
       "        1    0.000    0.000    0.018    0.018 serialization.py:132(_with_file_like)\n",
       "        4    0.000    0.000    0.000    0.000 {method 'startswith' of 'bytes' objects}\n",
       "        4    0.000    0.000    0.000    0.000 sre_compile.py:598(_code)\n",
       "        4    0.000    0.000    0.000    0.000 sre_parse.py:84(opengroup)\n",
       "       20    0.000    0.000    0.000    0.000 sre_parse.py:286(tell)\n",
       "        1    0.000    0.000    0.000    0.000 threading.py:829(start)\n",
       "        2    0.000    0.000    0.000    0.000 threading.py:1206(current_thread)\n",
       "        8    0.000    0.000    0.000    0.000 {method 'find' of 'bytearray' objects}\n",
       "        8    0.000    0.000    0.000    0.000 sre_compile.py:423(_simple)\n",
       "        4    0.000    0.000    0.000    0.000 sre_compile.py:492(_get_charset_prefix)\n",
       "       24    0.000    0.000    0.000    0.000 sre_parse.py:249(match)\n",
       "        3    0.000    0.000    0.000    0.000 _weakrefset.py:58(__iter__)\n",
       "        1    0.000    0.000    0.000    0.000 threading.py:335(notify)\n",
       "       14    0.000    0.000    0.000    0.000 {method 'size' of 'torch._C.FloatStorageBase' objects}\n",
       "       16    0.000    0.000    0.000    0.000 {built-in method builtins.any}\n",
       "        4    0.000    0.000    0.000    0.000 {method 'seek' of '_io.BufferedReader' objects}\n",
       "        1    0.000    0.000    0.000    0.000 <frozen importlib._bootstrap>:58(__init__)\n",
       "        4    0.000    0.000    0.000    0.000 codecs.py:260(__init__)\n",
       "        4    0.000    0.000    0.000    0.000 sre_compile.py:461(_get_literal_prefix)\n",
       "        4    0.000    0.000    0.000    0.000 sre_parse.py:903(fix_flags)\n",
       "        1    0.000    0.000    0.000    0.000 threading.py:968(_stop)\n",
       "        5    0.000    0.000    0.000    0.000 {method 'decode' of 'bytes' objects}\n",
       "        1    0.000    0.000    0.000    0.000 {built-in method builtins.print}\n",
       "       16    0.000    0.000    0.000    0.000 sre_parse.py:81(groups)\n",
       "        2    0.000    0.000    0.000    0.000 _weakrefset.py:26(__exit__)\n",
       "        1    0.000    0.000    0.000    0.000 _weakrefset.py:38(_remove)\n",
       "        2    0.000    0.000    0.000    0.000 _weakrefset.py:81(add)\n",
       "        1    0.000    0.000    0.000    0.000 threading.py:1000(join)\n",
       "        4    0.000    0.000    0.000    0.000 inspect.py:228(istraceback)\n",
       "        4    0.000    0.000    0.000    0.000 inspect.py:714(getmodule)\n",
       "        4    0.000    0.000    0.009    0.002 inspect.py:967(getsource)\n",
       "        1    0.000    0.000    0.000    0.000 _utils.py:135(_supports_unicode)\n",
       "        1    0.000    0.000    0.000    0.000 _tqdm.py:158(status_printer)\n",
       "        2    0.000    0.000    0.000    0.000 _tqdm.py:1061(fp_write)\n",
       "        1    0.000    0.000    0.018    0.018 serialization.py:192(save)\n",
       "       12    0.000    0.000    0.000    0.000 {method 'items' of 'collections.OrderedDict' objects}\n",
       "        1    0.000    0.000    0.000    0.000 <frozen importlib._bootstrap>:78(acquire)\n",
       "        4    0.000    0.000    0.000    0.000 <frozen importlib._bootstrap>:1009(_handle_fromlist)\n",
       "        2    0.000    0.000    0.000    0.000 _weakrefset.py:16(__init__)\n",
       "        1    0.000    0.000    0.000    0.000 _weakrefset.py:106(remove)\n",
       "       16    0.000    0.000    0.000    0.000 serialization.py:122(normalize_storage_type)\n",
       "       16    0.000    0.000    0.000    0.000 hooks.py:51(warn_if_has_hooks)\n",
       "        1    0.000    0.000 4057.220 4057.220 <string>:1(<module>)\n",
       "       16    0.000    0.000    0.000    0.000 {method 'storage_offset' of 'torch._C._TensorBase' objects}\n",
       "        1    0.000    0.000    0.000    0.000 {built-in method builtins.sorted}\n",
       "        1    0.000    0.000    0.000    0.000 <frozen importlib._bootstrap>:143(__init__)\n",
       "        1    0.000    0.000    0.000    0.000 genericpath.py:27(isfile)\n",
       "        4    0.000    0.000    0.000    0.000 sre_compile.py:65(_combine_flags)\n",
       "        8    0.000    0.000    0.000    0.000 sre_compile.py:595(isstring)\n",
       "        1    0.000    0.000    0.000    0.000 threading.py:513(set)\n",
       "        1    0.000    0.000    0.000    0.000 threading.py:1096(daemon)\n",
       "        4    0.000    0.000    0.000    0.000 inspect.py:238(isframe)\n",
       "        4    0.000    0.000    0.000    0.000 inspect.py:501(_is_wrapper)\n",
       "        2    0.000    0.000    0.000    0.000 _tqdm.py:864(__hash__)\n",
       "       16    0.000    0.000    0.000    0.000 serialization.py:53(_cpu_tag)\n",
       "        5    0.000    0.000    0.000    0.000 {method 'get' of 'mappingproxy' objects}\n",
       "        1    0.000    0.000    0.000    0.000 {method 'encode' of 'str' objects}\n",
       "        2    0.000    0.000    0.000    0.000 {built-in method _imp.acquire_lock}\n",
       "        1    0.000    0.000    0.000    0.000 <frozen importlib._bootstrap>:103(release)\n",
       "        1    0.000    0.000    0.000    0.000 <frozen importlib._bootstrap>:151(__exit__)\n",
       "        8    0.000    0.000    0.000    0.000 sre_compile.py:453(_get_iscased)\n",
       "        8    0.000    0.000    0.000    0.000 sre_parse.py:168(__setitem__)\n",
       "        2    0.000    0.000    0.000    0.000 _weakrefset.py:20(__enter__)\n",
       "        2    0.000    0.000    0.000    0.000 _weakrefset.py:52(_commit_removals)\n",
       "        1    0.000    0.000    0.000    0.000 threading.py:358(notify_all)\n",
       "        1    0.000    0.000    0.000    0.000 threading.py:728(_newname)\n",
       "        4    0.000    0.000    0.000    0.000 tokenize.py:672(generate_tokens)\n",
       "       12    0.000    0.000    0.000    0.000 inspect.py:72(isclass)\n",
       "        1    0.000    0.000    0.000    0.000 _utils.py:121(_is_utf)\n",
       "        1    0.000    0.000    0.000    0.000 module.py:992(eval)\n",
       "        2    0.000    0.000    0.000    0.000 {built-in method _imp.release_lock}\n",
       "        3    0.000    0.000    0.000    0.000 {method 'end' of 're.Match' objects}\n",
       "        1    0.000    0.000    0.000    0.000 {method 'remove' of 'collections.deque' objects}\n",
       "        1    0.000    0.000    0.000    0.000 <frozen importlib._bootstrap>:147(__enter__)\n",
       "        1    0.000    0.000    0.000    0.000 <frozen importlib._bootstrap>:176(cb)\n",
       "        4    0.000    0.000    0.000    0.000 sre_parse.py:96(closegroup)\n",
       "        1    0.000    0.000    0.000    0.000 _weakrefset.py:67(__len__)\n",
       "        1    0.000    0.000    0.000    0.000 threading.py:1112(daemon)\n",
       "        1    0.000    0.000    0.000    0.000 _monitor.py:80(report)\n",
       "        1    0.000    0.000    0.000    0.000 _utils.py:142(_environ_cols_wrapper)\n",
       "        1    0.000    0.000    0.000    0.000 _tqdm.py:408(<genexpr>)\n",
       "        1    0.000    0.000    0.000    0.000 {method 'keys' of 'dict' objects}\n",
       "        1    0.000    0.000    0.000    0.000 {method 'discard' of 'set' objects}\n",
       "        5    0.000    0.000    0.000    0.000 {method 'rstrip' of 'str' objects}\n",
       "        1    0.000    0.000    0.000    0.000 {method 'rpartition' of 'str' objects}\n",
       "        4    0.000    0.000    0.000    0.000 {built-in method sys.getrecursionlimit}\n",
       "        1    0.000    0.000    0.000    0.000 {method 'locked' of '_thread.lock' objects}\n",
       "        4    0.000    0.000    0.000    0.000 {built-in method _thread.get_ident}\n",
       "        1    0.000    0.000    0.000    0.000 {method 'disable' of '_lsprof.Profiler' objects}\n",
       "        1    0.000    0.000    0.000    0.000 _tqdm.py:834(__del__)\n",
       "        1    0.000    0.000    0.000    0.000 _tqdm.py:852(__eq__)\n",
       "        1    0.000    0.000    0.000    0.000 thnn.py:6(__reduce__)"
      ]
     },
     "metadata": {},
     "output_type": "display_data"
    }
   ],
   "source": [
    "%prun where.train(filename_train)"
   ]
  },
  {
   "cell_type": "markdown",
   "metadata": {},
   "source": [
    "#### Training"
   ]
  },
  {
   "cell_type": "code",
   "execution_count": 5,
   "metadata": {},
   "outputs": [
    {
     "name": "stdout",
     "output_type": "stream",
     "text": [
      "Overwriting train.py\n"
     ]
    }
   ],
   "source": [
    "%%writefile train.py\n",
    "import easydict\n",
    "args = easydict.EasyDict({'w': 28, 'minibatch_size': 60, 'train_batch_size': 1000, 'test_batch_size': 20, 'mean': 0.1307, 'std': 0.3081, 'N_pic': 128, 'offset_std': 8, 'offset_max': 35, 'noise': 0.1, 'contrast': 0.9, 'sf_0': 0.2, 'B_sf': 0.3, 'N_theta': 6, 'N_azimuth': 16, 'N_eccentricity': 10, 'N_phase': 2, 'N_X': 128, 'N_Y': 128, 'rho': 1.41, 'bias_deconv': True, 'p_dropout': 0.0, 'dim1': 1000, 'dim2': 1000, 'loss_func': BCEWithLogitsLoss(), 'lr': 0.01, 'do_adam': False, 'epochs': 20, 'momentum': 0.1, 'n_epochs': 10, 'num_processes': 1, 'no_cuda': True, 'log_interval': 100, 'verbose': 1, 'filename': '../data/2019-03-13', 'seed': 2019})\n",
    "from retina import Display, Retina\n",
    "from where import Where\n",
    "where = Where(args, Display(args), Retina(args))\n",
    "filename_train = args.filename + '_train.pt'\n",
    "where.train(filename_train)"
   ]
  },
  {
   "cell_type": "code",
   "execution_count": 6,
   "metadata": {},
   "outputs": [],
   "source": [
    "def test(net, optimizer=where.optimizer,\n",
    "         vsize=args.N_theta*args.N_azimuth*args.N_eccentricity*args.N_phase,\n",
    "         asize=args.N_azimuth*args.N_eccentricity):\n",
    "    \n",
    "    data, label = next(iter(d.loader_test))\n",
    "    batch_size = label.shape[0]\n",
    "\n",
    "    retina_data = np.zeros((batch_size, args.N_phase * args.N_theta * args.N_azimuth * args.N_eccentricity))\n",
    "    fixmap_data = np.zeros((batch_size, args.N_azimuth * args.N_eccentricity))\n",
    "\n",
    "    for i in range(batch_size):\n",
    "            data_fullfield, i_offset, j_offset = d.draw(data[i, 0, :, :].numpy())\n",
    "            retina_data[i, :]  =  r.retina(data_fullfield)\n",
    "            accuracy_colliculus[i,:], _ = r.accuracy_fullfield(accuracy_map, i_offset, j_offset)\n",
    "            \n",
    "    retina_data = Variable(torch.FloatTensor(retina_data))\n",
    "    accuracy_colliculus = Variable(torch.FloatTensor(accuracy_colliculus))\n",
    "    \n",
    "    with torch.no_grad():\n",
    "        output = net(retina_data)\n",
    "        acc, _ = accuracy_gain(output, accuracy_colliculus, batch_size)\n",
    "\n",
    "    return acc\n"
   ]
  },
  {
   "cell_type": "markdown",
   "metadata": {},
   "source": [
    "## Anywhere target, with noise"
   ]
  },
  {
   "cell_type": "raw",
   "metadata": {},
   "source": [
    "where.model.train() # set training mode\n",
    "for epoch in range(40):\n",
    "    loss = where.train_epoch(epoch, 42)\n",
    "    print(f'Loss on train set:  {loss:.3f}') "
   ]
  },
  {
   "cell_type": "markdown",
   "metadata": {},
   "source": [
    "# Visualisation of some examples"
   ]
  },
  {
   "cell_type": "code",
   "execution_count": 7,
   "metadata": {},
   "outputs": [],
   "source": [
    "data, label = next(iter(d.loader_test))\n",
    "full, retina_data, accuracy_colliculus = where.minibatch(data)"
   ]
  },
  {
   "cell_type": "code",
   "execution_count": 8,
   "metadata": {},
   "outputs": [
    {
     "data": {
      "text/plain": [
       "(torch.Size([1000, 1, 28, 28]),\n",
       " torch.Size([1000, 1920]),\n",
       " torch.Size([1000, 160]))"
      ]
     },
     "execution_count": 8,
     "metadata": {},
     "output_type": "execute_result"
    }
   ],
   "source": [
    "data.shape, retina_data.shape, accuracy_colliculus.shape"
   ]
  },
  {
   "cell_type": "code",
   "execution_count": 9,
   "metadata": {},
   "outputs": [
    {
     "data": {
      "text/plain": [
       "tensor([[-0.0618, -0.0071,  0.0346,  ...,  0.1113,  0.3413, -0.4980],\n",
       "        [-0.0899, -0.2037,  0.0311,  ...,  0.1369,  0.3231, -0.4527],\n",
       "        [-0.2028,  0.0786,  0.0561,  ...,  0.1671,  0.2943, -0.5456],\n",
       "        ...,\n",
       "        [-0.0448,  0.0306,  0.0583,  ..., -0.0496,  0.2802, -0.5931],\n",
       "        [ 0.0654,  0.0060,  0.0052,  ...,  0.1060,  0.2296, -0.6633],\n",
       "        [-0.0231,  0.0131, -0.0348,  ..., -0.3643,  0.2480, -0.7871]])"
      ]
     },
     "execution_count": 9,
     "metadata": {},
     "output_type": "execute_result"
    }
   ],
   "source": [
    "retina_data\n"
   ]
  },
  {
   "cell_type": "code",
   "execution_count": 10,
   "metadata": {},
   "outputs": [
    {
     "data": {
      "text/plain": [
       "WhereNet(\n",
       "  (bn1): Linear(in_features=1920, out_features=1000, bias=True)\n",
       "  (bn1_bn): BatchNorm1d(1000, eps=1e-05, momentum=0.5, affine=True, track_running_stats=True)\n",
       "  (bn2): Linear(in_features=1000, out_features=1000, bias=True)\n",
       "  (bn2_bn): BatchNorm1d(1000, eps=1e-05, momentum=0.5, affine=True, track_running_stats=True)\n",
       "  (bn3): Linear(in_features=1000, out_features=160, bias=True)\n",
       ")"
      ]
     },
     "execution_count": 10,
     "metadata": {},
     "output_type": "execute_result"
    }
   ],
   "source": [
    "where.model.eval()"
   ]
  },
  {
   "cell_type": "code",
   "execution_count": 11,
   "metadata": {},
   "outputs": [
    {
     "data": {
      "text/plain": [
       "tensor([[-2.5370, -2.6631, -2.7424,  ..., -2.1589, -2.1434, -2.1393],\n",
       "        [-0.0046, -0.9664, -1.8473,  ..., -2.2123, -2.1978, -2.1921],\n",
       "        [ 0.1298,  0.6103, -0.2287,  ..., -2.0950, -2.1320, -2.1399],\n",
       "        ...,\n",
       "        [-2.6190, -2.2220, -1.9724,  ..., -2.1661, -2.1389, -2.1372],\n",
       "        [-1.8437, -1.7956, -1.9083,  ..., -2.1444, -2.1462, -2.1541],\n",
       "        [-1.9308, -1.6891, -1.5451,  ..., -1.7553, -2.0390, -2.0880]],\n",
       "       grad_fn=<AddmmBackward>)"
      ]
     },
     "execution_count": 11,
     "metadata": {},
     "output_type": "execute_result"
    }
   ],
   "source": [
    "where.model(retina_data)\n"
   ]
  },
  {
   "cell_type": "markdown",
   "metadata": {},
   "source": [
    "## knowing the target"
   ]
  },
  {
   "cell_type": "code",
   "execution_count": 12,
   "metadata": {},
   "outputs": [
    {
     "data": {
      "text/plain": [
       "(torch.Size([1000, 160]), tensor(0.0282), tensor(0.9067))"
      ]
     },
     "execution_count": 12,
     "metadata": {},
     "output_type": "execute_result"
    }
   ],
   "source": [
    "accuracy_colliculus.shape, accuracy_colliculus.min(), accuracy_colliculus.max()"
   ]
  },
  {
   "cell_type": "code",
   "execution_count": 14,
   "metadata": {
    "scrolled": false
   },
   "outputs": [
    {
     "data": {
      "text/plain": [
       "(torch.Size([1000, 160]), (1000, 160))"
      ]
     },
     "execution_count": 14,
     "metadata": {},
     "output_type": "execute_result"
    }
   ],
   "source": [
    "from torch.autograd import Variable\n",
    "import torch.nn.functional as F\n",
    "\n",
    "out_t = where.model(retina_data)\n",
    "out_sig = F.sigmoid(out_t).detach().numpy()\n",
    "    \n",
    "out_t.shape, out_sig.shape"
   ]
  },
  {
   "cell_type": "code",
   "execution_count": 15,
   "metadata": {
    "scrolled": false
   },
   "outputs": [
    {
     "ename": "AttributeError",
     "evalue": "'Retina' object has no attribute 'K_whitening'",
     "output_type": "error",
     "traceback": [
      "\u001b[0;31m---------------------------------------------------------------------------\u001b[0m",
      "\u001b[0;31mAttributeError\u001b[0m                            Traceback (most recent call last)",
      "\u001b[0;32m<ipython-input-15-6713bb31cd10>\u001b[0m in \u001b[0;36m<module>\u001b[0;34m\u001b[0m\n\u001b[1;32m      9\u001b[0m     \u001b[0max\u001b[0m \u001b[0;34m=\u001b[0m \u001b[0mfig\u001b[0m\u001b[0;34m.\u001b[0m\u001b[0madd_subplot\u001b[0m\u001b[0;34m(\u001b[0m\u001b[0;36m152\u001b[0m\u001b[0;34m)\u001b[0m\u001b[0;34m\u001b[0m\u001b[0;34m\u001b[0m\u001b[0m\n\u001b[1;32m     10\u001b[0m     \u001b[0;31m#ax = r.show(ax, r.retina_invert(retina_data[idx, :].numpy()))\u001b[0m\u001b[0;34m\u001b[0m\u001b[0;34m\u001b[0m\u001b[0;34m\u001b[0m\u001b[0m\n\u001b[0;32m---> 11\u001b[0;31m     \u001b[0mdata_retina\u001b[0m \u001b[0;34m=\u001b[0m \u001b[0mr\u001b[0m\u001b[0;34m.\u001b[0m\u001b[0mretina\u001b[0m\u001b[0;34m(\u001b[0m\u001b[0mfull\u001b[0m\u001b[0;34m[\u001b[0m\u001b[0midx\u001b[0m\u001b[0;34m]\u001b[0m\u001b[0;34m[\u001b[0m\u001b[0;34m'data_fullfield'\u001b[0m\u001b[0;34m]\u001b[0m\u001b[0;34m)\u001b[0m\u001b[0;34m\u001b[0m\u001b[0;34m\u001b[0m\u001b[0m\n\u001b[0m\u001b[1;32m     12\u001b[0m     \u001b[0max\u001b[0m \u001b[0;34m=\u001b[0m \u001b[0mr\u001b[0m\u001b[0;34m.\u001b[0m\u001b[0mshow\u001b[0m\u001b[0;34m(\u001b[0m\u001b[0max\u001b[0m\u001b[0;34m,\u001b[0m \u001b[0mr\u001b[0m\u001b[0;34m.\u001b[0m\u001b[0mretina_invert\u001b[0m\u001b[0;34m(\u001b[0m\u001b[0mdata_retina\u001b[0m\u001b[0;34m)\u001b[0m\u001b[0;34m)\u001b[0m\u001b[0;34m\u001b[0m\u001b[0;34m\u001b[0m\u001b[0m\n\u001b[1;32m     13\u001b[0m     \u001b[0max\u001b[0m\u001b[0;34m.\u001b[0m\u001b[0mset_title\u001b[0m\u001b[0;34m(\u001b[0m\u001b[0;34mf\"idx={idx}\"\u001b[0m\u001b[0;34m)\u001b[0m\u001b[0;34m\u001b[0m\u001b[0;34m\u001b[0m\u001b[0m\n",
      "\u001b[0;32m~/research/ActiveVision/WhereIsMyMNIST/figures/retina.py\u001b[0m in \u001b[0;36mretina\u001b[0;34m(self, data_fullfield)\u001b[0m\n\u001b[1;32m     55\u001b[0m         \u001b[0;31m# data_fullfield = self.whit.whitening(data_fullfield)\u001b[0m\u001b[0;34m\u001b[0m\u001b[0;34m\u001b[0m\u001b[0;34m\u001b[0m\u001b[0m\n\u001b[1;32m     56\u001b[0m         \u001b[0;31m# https://github.com/bicv/SLIP/blob/master/SLIP/SLIP.py#L518\u001b[0m\u001b[0;34m\u001b[0m\u001b[0;34m\u001b[0m\u001b[0;34m\u001b[0m\u001b[0m\n\u001b[0;32m---> 57\u001b[0;31m         \u001b[0mdata_fullfield\u001b[0m \u001b[0;34m=\u001b[0m \u001b[0mself\u001b[0m\u001b[0;34m.\u001b[0m\u001b[0mwhit\u001b[0m\u001b[0;34m.\u001b[0m\u001b[0mFTfilter\u001b[0m\u001b[0;34m(\u001b[0m\u001b[0mdata_fullfield\u001b[0m\u001b[0;34m,\u001b[0m \u001b[0mself\u001b[0m\u001b[0;34m.\u001b[0m\u001b[0mK_whitening\u001b[0m\u001b[0;34m)\u001b[0m\u001b[0;34m\u001b[0m\u001b[0;34m\u001b[0m\u001b[0m\n\u001b[0m\u001b[1;32m     58\u001b[0m         \u001b[0mdata_retina\u001b[0m \u001b[0;34m=\u001b[0m \u001b[0mself\u001b[0m\u001b[0;34m.\u001b[0m\u001b[0mretina_transform_vector\u001b[0m \u001b[0;34m@\u001b[0m \u001b[0mnp\u001b[0m\u001b[0;34m.\u001b[0m\u001b[0mravel\u001b[0m\u001b[0;34m(\u001b[0m\u001b[0mdata_fullfield\u001b[0m\u001b[0;34m)\u001b[0m\u001b[0;34m\u001b[0m\u001b[0;34m\u001b[0m\u001b[0m\n\u001b[1;32m     59\u001b[0m         \u001b[0;32mreturn\u001b[0m \u001b[0mdata_retina\u001b[0m \u001b[0;31m#retina(data_fullfield, self.retina_transform)\u001b[0m\u001b[0;34m\u001b[0m\u001b[0;34m\u001b[0m\u001b[0m\n",
      "\u001b[0;31mAttributeError\u001b[0m: 'Retina' object has no attribute 'K_whitening'"
     ]
    },
    {
     "data": {
      "image/png": "[encoded data removed]",
      "text/plain": [
       "<Figure size 1080x576 with 2 Axes>"
      ]
     },
     "metadata": {
      "needs_background": "light"
     },
     "output_type": "display_data"
    }
   ],
   "source": [
    "#for idx in range(args.test_batch_size): #range(3, 7):\n",
    "for idx in range(3, 7):\n",
    "    fig = plt.figure(figsize = (15, 8))\n",
    "    \n",
    "    ax = fig.add_subplot(151)\n",
    "    ax = d.show(ax, full[idx]['data_fullfield'])\n",
    "    ax.set_title(f\"i={full[idx]['i_offset']}, j={full[idx]['j_offset']}\")\n",
    "    \n",
    "    ax = fig.add_subplot(152)\n",
    "    #ax = r.show(ax, r.retina_invert(retina_data[idx, :].numpy()))\n",
    "    data_retina = r.retina(full[idx]['data_fullfield'])\n",
    "    ax = r.show(ax, r.retina_invert(data_retina))\n",
    "    ax.set_title(f\"idx={idx}\")\n",
    "              \n",
    "    ax = fig.add_subplot(153, projection='polar')\n",
    "    ax.pcolor(r.theta, r.log_r, accuracy_colliculus[idx, :].numpy().reshape((args.N_azimuth, args.N_eccentricity)), cmap=plt.plasma())\n",
    "\n",
    "    #col = colliculus_inverse @ a_data_n[idx,0,:]\n",
    "    #vec_t = Variable(torch.FloatTensor(accuracy_colliculus[idx, :].numpy()))\n",
    "    #vec_t = vec_t.reshape((1, args.N_azimuth * args.N_eccentricity))\n",
    "                 \n",
    "    #out_t = out_t.reshape((1, args.N_azimuth * args.N_eccentricity))\n",
    "    #acc, _ = accuracy_gain(out_t, vec_t, 1, full_fixmap = full_fixmap_n[idx, :].reshape((1, -1)))\n",
    "    #view = r.colliculus_inverse @ out_sig.flatten()\n",
    "\n",
    "    ax = fig.add_subplot(154, projection='polar')\n",
    "    ax.pcolor(r.theta, r.log_r, out_sig[idx, :].reshape((args.N_azimuth, args.N_eccentricity)), cmap=plt.plasma())\n",
    "\n",
    "    ax = fig.add_subplot(155)\n",
    "    im = where.extract(full[idx]['data_fullfield'], full[idx]['i_offset'], full[idx]['j_offset'])\n",
    "    ax.imshow(im, cmap=plt.gray())\n",
    "\n",
    "    proba = where.classify_what(im)\n",
    "    pred = proba.argmax() # get the index of the max log-probability\n",
    "    acc = proba[0, pred]\n",
    "    result = '' if pred==label[idx] else 'FALSE'\n",
    "    ax.set_title(f\"pred={pred} acc={acc:.2f} {result}\")\n",
    "                 "
   ]
  },
  {
   "cell_type": "markdown",
   "metadata": {},
   "source": [
    "## NOT knowing the target"
   ]
  },
  {
   "cell_type": "code",
   "execution_count": null,
   "metadata": {},
   "outputs": [],
   "source": [
    "# Predict classes using images from the train set\n",
    "prediction = where.model(retina_data)\n"
   ]
  },
  {
   "cell_type": "code",
   "execution_count": null,
   "metadata": {},
   "outputs": [],
   "source": [
    "prediction.shape"
   ]
  },
  {
   "cell_type": "code",
   "execution_count": null,
   "metadata": {},
   "outputs": [],
   "source": [
    "torch.optim.Adam?"
   ]
  },
  {
   "cell_type": "code",
   "execution_count": null,
   "metadata": {
    "scrolled": false
   },
   "outputs": [],
   "source": [
    "from torch.autograd import Variable\n",
    "import torch.nn.functional as F\n",
    "\n",
    "\n",
    "#for idx in range(args.test_batch_size): #range(3, 7):\n",
    "for idx in range(3, 7):\n",
    "    fig = plt.figure(figsize = (15, 8))\n",
    "    \n",
    "    ax = fig.add_subplot(151)\n",
    "    ax = d.show(ax, full[idx]['data_fullfield'])\n",
    "    ax.set_title(f\"i={full[idx]['i_offset']}, j={full[idx]['j_offset']}\")\n",
    "    \n",
    "    ax = fig.add_subplot(152)\n",
    "    #ax = r.show(ax, r.retina_invert(retina_data[idx, :].numpy()))\n",
    "    data_retina = r.retina(full[idx]['data_fullfield'])\n",
    "    ax = r.show(ax, r.retina_invert(data_retina))\n",
    "    ax.set_title(f\"idx={idx}\")\n",
    "              \n",
    "    ax = fig.add_subplot(153, projection='polar')\n",
    "    #col = colliculus_inverse @ a_data_n[idx,0,:]\n",
    "    vec_t = Variable(torch.FloatTensor(accuracy_colliculus[idx, :].numpy()))\n",
    "    vec_t = vec_t.reshape((1, args.N_azimuth * args.N_eccentricity))\n",
    "    ax.pcolor(r.theta, r.log_r, vec_t.reshape((args.N_azimuth, args.N_eccentricity)), cmap=plt.plasma())\n",
    "    out_t = where.model(retina_data[idx, :])\n",
    "    out_sig = F.sigmoid(out_t).detach().numpy()\n",
    "    out_t = out_t.reshape((1, args.N_azimuth * args.N_eccentricity))\n",
    "    #acc, _ = accuracy_gain(out_t, vec_t, 1, full_fixmap = full_fixmap_n[idx, :].reshape((1, -1)))\n",
    "    view = r.colliculus_inverse @ out_sig.flatten()\n",
    "\n",
    "    ax = fig.add_subplot(154, projection='polar')\n",
    "    ax.pcolor(r.theta, r.log_r, out_sig.reshape((args.N_azimuth, args.N_eccentricity)), cmap=plt.plasma())\n",
    "\n",
    "    ax = fig.add_subplot(155)\n",
    "    im = where.extract(full[idx]['data_fullfield'], full[idx]['i_offset'], full[idx]['j_offset'])\n",
    "    ax.imshow(im, cmap=plt.gray())\n",
    "\n",
    "    proba = where.classify_what(im)\n",
    "    pred = proba.argmax() # get the index of the max log-probability\n",
    "    acc = proba[0, pred]\n",
    "    result = '' if pred==label[idx] else 'FALSE'\n",
    "    ax.set_title(f\"pred={pred} acc={acc:.2f} {result}\")\n",
    "                 "
   ]
  },
  {
   "cell_type": "code",
   "execution_count": null,
   "metadata": {},
   "outputs": [],
   "source": [
    "def test_eccentricities(N_eccentricities=9):\n",
    "    vsize = args.N_theta*args.N_azimuth*args.N_eccentricity*args.N_phase\n",
    "    asize = args.N_azimuth*args.N_eccentricity\n",
    "    \n",
    "    N_pic_mnist = 28\n",
    "    N_class_mnist = 10\n",
    "\n",
    "    test_batch_size = 1000\n",
    "    \n",
    "    mem_acc_log = []\n",
    "    mem_acc_data_log = []\n",
    "    mem_ref_log = [] \n",
    "    mem_ref_data_log = []\n",
    "\n",
    "    ecc_max=.8\n",
    "    r_pix = []\n",
    "\n",
    "    eccentricities = range(N_eccentricities)\n",
    "    for i_eccentricity in eccentricities:\n",
    "\n",
    "        eccentricity = ecc_max * (1/args.rho)**(args.N_eccentricity - i_eccentricity)\n",
    "\n",
    "        radius = args.N_pic / 2 * eccentricity\n",
    "        print('at scale ', i_eccentricity, ' radius=', radius)\n",
    "        r_pix.append(radius)\n",
    "\n",
    "        data, label = next(iter(d.loader_test))\n",
    "\n",
    "        input_n = np.zeros((args.test_batch_size, 1, vsize))\n",
    "        a_data = np.zeros((args.test_batch_size, asize))\n",
    "        full_fixmap_n = np.zeros((args.test_batch_size, args.N_pic**2))\n",
    "\n",
    "        ref_data = np.zeros(test_batch_size)\n",
    "\n",
    "        for idx in range(test_batch_size):\n",
    "            theta = np.random.rand() * 2 * np.pi\n",
    "            i_offset = int(radius * np.cos(theta))\n",
    "            j_offset = int(radius * np.sin(theta))\n",
    "\n",
    "            # changed\n",
    "            data_fullfield = d.place_object(data[idx, 0, :, :].numpy(), i_offset, j_offset)\n",
    "            input_n[idx, 0, :]  =  r.retina(data_fullfield)\n",
    "\n",
    "            a_data[idx, :], accuracy_fullfield_map = r.accuracy_fullfield(accuracy_map, i_offset, j_offset)\n",
    "            full_fixmap_n[idx, :] = accuracy_fullfield_map.flatten()\n",
    "\n",
    "            # when we do not do a saccade, the reference accurracy data is pre-computed \n",
    "            if radius <= N_pic_mnist:\n",
    "                ref_data[idx] = accuracy_map[N_pic_mnist - 1 + i_offset, N_pic_mnist - 1 + j_offset]\n",
    "            else:\n",
    "                ref_data[idx] = 1 / N_class_mnist      \n",
    "\n",
    "\n",
    "        in_t = Variable(torch.FloatTensor(input_n))\n",
    "        out_t = net(in_t)\n",
    "        a_data_t = Variable(torch.FloatTensor(a_data))\n",
    "        acc, acc_data = accuracy_gain(out_t, a_data_t, test_batch_size, full_fixmap=full_fixmap_n)\n",
    "        mem_acc_log += [acc]\n",
    "        mem_acc_data_log += [acc_data]\n",
    "\n",
    "        mem_ref_log += [np.mean(ref_data)]\n",
    "    return r_pix, mem_acc_log, mem_ref_log\n",
    "\n",
    "N_eccentricities = 9\n",
    "r_pix, mem_acc_log, mem_ref_log = test_eccentricities(N_eccentricities)"
   ]
  },
  {
   "cell_type": "code",
   "execution_count": null,
   "metadata": {
    "scrolled": false
   },
   "outputs": [],
   "source": [
    "idx = 30\n",
    "w = 28\n",
    "in_t = Variable(torch.FloatTensor(input_n[idx,0,:]))\n",
    "out_t = net(in_t)\n",
    "out_sig = F.sigmoid(out_t).detach().numpy()\n",
    "\n",
    "test = out_sig.reshape((args.N_azimuth, args.N_eccentricity))\n",
    "indices_ij = np.where(test == max(test.flatten()))\n",
    "azimuth = indices_ij[0][0]\n",
    "eccentricity = indices_ij[1][0]\n",
    "full_masque = r.colliculus[azimuth,eccentricity,:]\n",
    "indice_move = np.where(full_masque == max(full_masque))\n",
    "i_move = indice_move[0][0] // 128 - 64\n",
    "j_move = indice_move[0][0] % 128 - 64\n",
    "print(i_move, j_move)\n",
    "\n",
    "\n",
    "fig = plt.figure(figsize = (figwidth, figwidth/2.5))#1.618))\n",
    "ax_A = plt.subplot(1, 4, 1) \n",
    "ax_A = r.show(ax_A, r.retina_invert(input_n[idx, 0, :]))\n",
    "\n",
    "ax_B = plt.subplot(2, 4, 2, projection='polar', autoscale_on=False)\n",
    "vec_t = Variable(torch.FloatTensor(a_data_n[idx, 0, :]))\n",
    "vec_t = vec_t.reshape((1, args.N_azimuth * args.N_eccentricity))\n",
    "ax_B.pcolor(r.theta, r.log_r, vec_t.reshape((args.N_azimuth, args.N_eccentricity)))\n",
    "ax_B.grid('off')\n",
    "#ax.set_rgrids('off')\n",
    "plt.title('True', fontsize = 14)\n",
    "ax_B.set_yticklabels([])\n",
    "ax_B.set_xticklabels([])\n",
    "\n",
    "ax_Bb = plt.subplot(2, 4, 6, projection='polar')\n",
    "ax_Bb.pcolor(r.theta, r.log_r, out_sig.reshape((args.N_azimuth, args.N_eccentricity)))\n",
    "ax_Bb.set_title('Predicted', fontsize = 14)\n",
    "ax_Bb.set_yticklabels([])\n",
    "ax_Bb.set_xticklabels([])\n",
    "\n",
    "\n",
    "ax_C = plt.subplot(1, 4, 3)\n",
    "data_fullfield = d.place_object(data[idx, 0, :, :].numpy(), 0, 0)\n",
    "input_vector  =  r.retina(data_fullfield)\n",
    "ax_C = r.show(ax_C, r.retina_invert(input_vector))\n",
    "ax_A.arrow(64.5, 64.5, j_move, i_move, width=.3, color='r', head_width=4., length_includes_head=True, edgecolor='k')\n",
    "vec_t = vec_t.reshape((1, args.N_azimuth * args.N_eccentricity))\n",
    "out_t = out_t.reshape((1, args.N_azimuth * args.N_eccentricity))\n",
    "acc, _ = accuracy_gain(out_t, vec_t, 1, full_fixmap = full_fixmap_n[idx, :].reshape((1, -1)))\n",
    "\n",
    "ax_D = plt.subplot(1, 4, 4)\n",
    "r_ref = r_pix\n",
    "r_ref = range(9)\n",
    "\n",
    "ax_D.bar(r_ref, mem_acc_log, alpha = .5, label = 'One saccade')\n",
    "ax_D.bar(r_ref, mem_ref_log, alpha = .5, label = 'No saccade') #accuracy_map[27,27:55])\n",
    "ax_D.plot(np.arange(10)-.5, [0.1]*10, ':', c='k', label = 'Baseline')\n",
    "plt.legend(loc='best')\n",
    "ax_D.set_title('Class accuracy', fontsize = 14)\n",
    "ax_D.set_xlabel('Target eccentricity (pixels)', fontsize = 12)\n",
    "ax_D.set_xticks(range(9))\n",
    "ax_D.set_xticklabels(['%.1f' % d for  d in r_pix])\n",
    "ax_D.set_ylim([0,1])\n",
    "\n",
    "for ax, text in [[ax_A, 'DIS'], [ax_C, 'SAC']]:\n",
    "    ax.text(4, 15, text, fontsize=24,\n",
    "          bbox={'facecolor':'white','alpha':1,'edgecolor':'none','pad':1},\n",
    "          ha='left', va='center') \n",
    "\n",
    "offset = -.015\n",
    "for ax, text, x_offset, y_offset in [[ax_A, 'A', offset, 1.15], [ax_B, 'B', -.25, 1.225], [ax_C, 'C', offset, 1.15], [ax_D, 'D', offset, 1.15]]:\n",
    "    ax.text(x_offset, y_offset, '(' + text + ')', fontsize=24,\n",
    "              bbox={'facecolor':'white','alpha':1,'edgecolor':'none','pad':1},\n",
    "              ha='left', va='center', transform=ax.transAxes) \n",
    "\n",
    "# pos : [left, bottom, width, height] =    The new position of the in `.Figure` coordinates.    \n",
    "plt.tight_layout()\n",
    "ax_A.set_position([0.025, 0.1, .3, .45])\n",
    "ax_B.set_position( [0.24, 0.375, .2, 0.2])\n",
    "ax_Bb.set_position([0.24, 0.1, .2, 0.2])\n",
    "ax_C.set_position([0.35, .1, .3, .45])\n",
    "ax_D.set_position([0.65, .1, .3, .45])\n",
    "fig.savefig(figname + '.pdf', bbox_inches='tight', pad_inches=0.1)"
   ]
  },
  {
   "cell_type": "markdown",
   "metadata": {},
   "source": [
    "# post-processing"
   ]
  },
  {
   "cell_type": "code",
   "execution_count": null,
   "metadata": {
    "ExecuteTime": {
     "end_time": "2018-10-08T14:43:27.591507Z",
     "start_time": "2018-10-08T14:43:24.722160Z"
    }
   },
   "outputs": [],
   "source": [
    "!convert  -density {dpi_export} {figname}.pdf {figname}.jpg\n",
    "!convert  -density {dpi_export} {figname}.pdf {figname}.png\n",
    "#!convert  -density {dpi_export} -resize 5400  -units pixelsperinch -flatten  -compress lzw  -depth 8 {fname}.pdf {fname}.tiff"
   ]
  },
  {
   "cell_type": "code",
   "execution_count": null,
   "metadata": {
    "ExecuteTime": {
     "end_time": "2018-07-03T10:36:00.981927Z",
     "start_time": "2018-07-03T10:36:00.949864Z"
    }
   },
   "outputs": [],
   "source": [
    "from IPython.display import Image\n",
    "Image('{figname}.png'.format(figname=figname))"
   ]
  },
  {
   "cell_type": "code",
   "execution_count": null,
   "metadata": {
    "ExecuteTime": {
     "end_time": "2018-07-03T10:36:00.939193Z",
     "start_time": "2018-07-03T10:36:00.766218Z"
    }
   },
   "outputs": [],
   "source": [
    "!ls  -l {figname}*"
   ]
  },
  {
   "cell_type": "markdown",
   "metadata": {},
   "source": [
    "## Version used"
   ]
  },
  {
   "cell_type": "code",
   "execution_count": null,
   "metadata": {
    "ExecuteTime": {
     "end_time": "2018-10-08T14:53:30.186131Z",
     "start_time": "2018-10-08T14:43:18.414Z"
    }
   },
   "outputs": [],
   "source": [
    "%load_ext version_information\n",
    "%version_information numpy, shl_scripts"
   ]
  }
 ],
 "metadata": {
  "kernelspec": {
   "display_name": "Python 3",
   "language": "python",
   "name": "python3"
  },
  "language_info": {
   "codemirror_mode": {
    "name": "ipython",
    "version": 3
   },
   "file_extension": ".py",
   "mimetype": "text/x-python",
   "name": "python",
   "nbconvert_exporter": "python",
   "pygments_lexer": "ipython3",
   "version": "3.7.2"
  }
 },
 "nbformat": 4,
 "nbformat_minor": 2
}
